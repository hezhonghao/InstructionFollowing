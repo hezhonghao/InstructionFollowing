{
  "nbformat": 4,
  "nbformat_minor": 0,
  "metadata": {
    "colab": {
      "provenance": [],
      "toc_visible": true,
      "collapsed_sections": [
        "xaJNQrVEXIQI",
        "h2_HfgouvacY"
      ]
    },
    "kernelspec": {
      "name": "python3",
      "display_name": "Python 3"
    },
    "language_info": {
      "name": "python"
    }
  },
  "cells": [
    {
      "cell_type": "markdown",
      "source": [
        "# This is working in progress to create a notebook dedicated to python data stucture. It will contain specialized problem sets for each data structure such as list, dict, and then mixed problem sets to enhance understanding.\n",
        "\n",
        "Expected date of completion: Oct 15, 2024"
      ],
      "metadata": {
        "id": "UD-BZTc0Uq-O"
      }
    },
    {
      "cell_type": "markdown",
      "source": [
        "Yes I agree that the best practice is from the real-world projects. However, sometimess you need to target those weakness where you feel uncomfortable.\n",
        "\n",
        "This notebook is the kind of exercise that I needed for Python. Not ML, not Pytorch, not even algorithms. Just Python.\n",
        "\n",
        "Problems are from:\n",
        "- https://www.w3resource.com/python-exercises/python-basic-exercises.php\n",
        "-"
      ],
      "metadata": {
        "id": "f7mZ9mzjQRtb"
      }
    },
    {
      "cell_type": "markdown",
      "source": [
        "# Preparation\n",
        "Problem sets:\n",
        "https://www.w3resource.com/python-exercises/sets/\n",
        "https://cs50.harvard.edu/python/2022/psets/1/meal/\n",
        "https://claude.ai/chat/da61a10d-898e-474b-98db-3397555cec9d\n",
        "https://claude.ai/chat/9d1868cf-fb51-47c3-83eb-a3a8e149986b\n"
      ],
      "metadata": {
        "id": "MSbv3WJmj0Wu"
      }
    },
    {
      "cell_type": "markdown",
      "source": [],
      "metadata": {
        "id": "LROtNs8WvpdF"
      }
    },
    {
      "cell_type": "code",
      "source": [
        "# Updating github  # Not done yet\n",
        "from google.colab import drive\n",
        "drive.mount('/content/drive')"
      ],
      "metadata": {
        "colab": {
          "base_uri": "https://localhost:8080/"
        },
        "id": "4GtEoYirvMaS",
        "outputId": "ed20498a-37ec-4bfd-dac0-c17ae3981bcc"
      },
      "execution_count": null,
      "outputs": [
        {
          "output_type": "stream",
          "name": "stdout",
          "text": [
            "Mounted at /content/drive\n"
          ]
        }
      ]
    },
    {
      "cell_type": "code",
      "source": [
        "%cd /content/"
      ],
      "metadata": {
        "colab": {
          "base_uri": "https://localhost:8080/"
        },
        "id": "LqKVkBcKgbHs",
        "outputId": "9a228b17-3702-4fc8-de27-9c9f1e81c7e4"
      },
      "execution_count": null,
      "outputs": [
        {
          "output_type": "stream",
          "name": "stdout",
          "text": [
            "/content\n"
          ]
        }
      ]
    },
    {
      "cell_type": "code",
      "source": [
        "!pwd"
      ],
      "metadata": {
        "colab": {
          "base_uri": "https://localhost:8080/"
        },
        "id": "zUU0SRkpiia8",
        "outputId": "bfc3129e-e9ae-479e-ebf7-2ce4fb8f2b0f"
      },
      "execution_count": null,
      "outputs": [
        {
          "output_type": "stream",
          "name": "stdout",
          "text": [
            "/content\n"
          ]
        }
      ]
    },
    {
      "cell_type": "code",
      "source": [
        "!ls -la"
      ],
      "metadata": {
        "colab": {
          "base_uri": "https://localhost:8080/"
        },
        "id": "-_aQR4KYija-",
        "outputId": "233688a2-dda4-4262-e86b-7f7e5b3d9d77"
      },
      "execution_count": null,
      "outputs": [
        {
          "output_type": "stream",
          "name": "stdout",
          "text": [
            "total 24\n",
            "drwxr-xr-x 1 root root 4096 Sep 10 19:55 .\n",
            "drwxr-xr-x 1 root root 4096 Sep 10 19:07 ..\n",
            "drwxr-xr-x 4 root root 4096 Sep  9 13:22 .config\n",
            "drwx------ 5 root root 4096 Sep 10 19:53 drive\n",
            "drwxr-xr-x 3 root root 4096 Sep 10 19:55 PythonBasics\n",
            "drwxr-xr-x 1 root root 4096 Sep  9 13:22 sample_data\n"
          ]
        }
      ]
    },
    {
      "cell_type": "code",
      "source": [
        "!git clone https://github.com/hezhonghao/PythonBasics.git"
      ],
      "metadata": {
        "colab": {
          "base_uri": "https://localhost:8080/"
        },
        "id": "n18iMCLdiy0d",
        "outputId": "f37cc085-874f-484e-9464-0006d518cb19"
      },
      "execution_count": null,
      "outputs": [
        {
          "output_type": "stream",
          "name": "stdout",
          "text": [
            "fatal: destination path 'PythonBasics' already exists and is not an empty directory.\n"
          ]
        }
      ]
    },
    {
      "cell_type": "code",
      "source": [
        "%cd /content/PythonBasics"
      ],
      "metadata": {
        "colab": {
          "base_uri": "https://localhost:8080/"
        },
        "id": "WcQNbsKvjXyt",
        "outputId": "7e7c3131-9e26-497e-a664-761d43519f76"
      },
      "execution_count": null,
      "outputs": [
        {
          "output_type": "stream",
          "name": "stdout",
          "text": [
            "/content/PythonBasics\n"
          ]
        }
      ]
    },
    {
      "cell_type": "code",
      "source": [
        "!git config --global user.email \"thisisalexhe@gmail.com\"\n",
        "!git config --global user.name \"hezhonghao\""
      ],
      "metadata": {
        "id": "8NHiMn0ghJ7q"
      },
      "execution_count": null,
      "outputs": []
    },
    {
      "cell_type": "code",
      "source": [
        "!git add .\n",
        "!git commit -m \"Sep 10 Updates\"\n",
        "!git push origin main"
      ],
      "metadata": {
        "colab": {
          "base_uri": "https://localhost:8080/"
        },
        "id": "5wMYMq0KheeD",
        "outputId": "13230650-58f4-43f2-d33f-6dca0fa3bf01"
      },
      "execution_count": null,
      "outputs": [
        {
          "output_type": "stream",
          "name": "stdout",
          "text": [
            "On branch main\n",
            "Your branch is up to date with 'origin/main'.\n",
            "\n",
            "nothing to commit, working tree clean\n",
            "fatal: could not read Username for 'https://github.com': No such device or address\n"
          ]
        }
      ]
    },
    {
      "cell_type": "code",
      "source": [
        "!git status"
      ],
      "metadata": {
        "colab": {
          "base_uri": "https://localhost:8080/"
        },
        "id": "_pU7OHITkf9L",
        "outputId": "555109e6-1518-4dc0-9ad7-dea2caf62726"
      },
      "execution_count": null,
      "outputs": [
        {
          "output_type": "stream",
          "name": "stdout",
          "text": [
            "On branch main\n",
            "Your branch is up to date with 'origin/main'.\n",
            "\n",
            "nothing to commit, working tree clean\n"
          ]
        }
      ]
    },
    {
      "cell_type": "code",
      "source": [
        "!ls -la"
      ],
      "metadata": {
        "colab": {
          "base_uri": "https://localhost:8080/"
        },
        "id": "TR7drDhFkpNo",
        "outputId": "0900c530-b781-425e-910b-b9cf97963036"
      },
      "execution_count": null,
      "outputs": [
        {
          "output_type": "stream",
          "name": "stdout",
          "text": [
            "total 108\n",
            "drwxr-xr-x 3 root root  4096 Sep 10 19:55  .\n",
            "drwxr-xr-x 1 root root  4096 Sep 10 19:55  ..\n",
            "-rw-r--r-- 1 root root 89649 Sep 10 19:55  Coding_Practice_Aug_Sep.ipynb\n",
            "drwxr-xr-x 8 root root  4096 Sep 10 20:13  .git\n",
            "-rw-r--r-- 1 root root  5621 Sep 10 19:55 'The_confusing_self_and_super()_on_Python.ipynb'\n"
          ]
        }
      ]
    },
    {
      "cell_type": "markdown",
      "source": [
        "To see what files Git is tracking:"
      ],
      "metadata": {
        "id": "zV5GikKlkygp"
      }
    },
    {
      "cell_type": "code",
      "source": [
        "!git ls-files"
      ],
      "metadata": {
        "colab": {
          "base_uri": "https://localhost:8080/"
        },
        "id": "4JkSVXOnkyRA",
        "outputId": "5417d802-6554-444e-a5c4-b84ca3136a8d"
      },
      "execution_count": null,
      "outputs": [
        {
          "output_type": "stream",
          "name": "stdout",
          "text": [
            "Coding_Practice_Aug_Sep.ipynb\n",
            "The_confusing_self_and_super()_on_Python.ipynb\n"
          ]
        }
      ]
    },
    {
      "cell_type": "markdown",
      "source": [
        "If the files are there and should be tracked, try forcing a refresh of Git's index:"
      ],
      "metadata": {
        "id": "wGaCZQ3bk_LV"
      }
    },
    {
      "cell_type": "code",
      "source": [
        "!git add -A\n",
        "!git status"
      ],
      "metadata": {
        "colab": {
          "base_uri": "https://localhost:8080/"
        },
        "id": "89h34yMDk_kl",
        "outputId": "5234481b-8774-42c6-f92a-d7946eb2157d"
      },
      "execution_count": null,
      "outputs": [
        {
          "output_type": "stream",
          "name": "stdout",
          "text": [
            "On branch main\n",
            "Your branch is up to date with 'origin/main'.\n",
            "\n",
            "nothing to commit, working tree clean\n"
          ]
        }
      ]
    },
    {
      "cell_type": "markdown",
      "source": [
        "# Python Basic (Part -I)"
      ],
      "metadata": {
        "id": "OTbSLHu8j8uO"
      }
    },
    {
      "cell_type": "code",
      "source": [
        "import os\n",
        "print(os.getcwd())"
      ],
      "metadata": {
        "colab": {
          "base_uri": "https://localhost:8080/"
        },
        "id": "PNLEuOZRv1nK",
        "outputId": "75f79624-cf7f-4678-e265-152ae47cc6c9"
      },
      "execution_count": null,
      "outputs": [
        {
          "output_type": "stream",
          "name": "stdout",
          "text": [
            "/content\n"
          ]
        }
      ]
    },
    {
      "cell_type": "markdown",
      "source": [
        "Add changes, commit them, and push them to Github reporitory"
      ],
      "metadata": {
        "id": "uXR7_OvghYuf"
      }
    },
    {
      "cell_type": "code",
      "source": [
        "import time\n",
        "import math"
      ],
      "metadata": {
        "id": "a1UnVlYzrBf3"
      },
      "execution_count": null,
      "outputs": []
    },
    {
      "cell_type": "code",
      "source": [
        "curr = time.time()\n",
        "print(f'The current time is {curr}') # This is time in second since unix epoch\n",
        "\n",
        "current_time = time.ctime(curr)\n",
        "print(f'The current time is {current_time}')"
      ],
      "metadata": {
        "colab": {
          "base_uri": "https://localhost:8080/"
        },
        "id": "rlD4YjXnrELF",
        "outputId": "71b50b5a-d225-4545-a26d-5f227d4f949c"
      },
      "execution_count": null,
      "outputs": [
        {
          "output_type": "stream",
          "name": "stdout",
          "text": [
            "The current time is 1724944220.8412428\n",
            "The current time is Thu Aug 29 15:10:20 2024\n"
          ]
        }
      ]
    },
    {
      "cell_type": "code",
      "execution_count": null,
      "metadata": {
        "id": "kCzDacqwhd-m"
      },
      "outputs": [],
      "source": [
        "# A function to display current time\n",
        "def current_time(time):\n",
        "  if time == \"current\":\n",
        "    return \"bbb\"\n",
        "\n"
      ]
    },
    {
      "cell_type": "code",
      "source": [
        "current_time(\"current\")"
      ],
      "metadata": {
        "colab": {
          "base_uri": "https://localhost:8080/",
          "height": 35
        },
        "id": "6yFLXIzTqthp",
        "outputId": "ebd76be0-8848-4c30-ef59-a0f63304d4dd"
      },
      "execution_count": null,
      "outputs": [
        {
          "output_type": "execute_result",
          "data": {
            "text/plain": [
              "'bbb'"
            ],
            "application/vnd.google.colaboratory.intrinsic+json": {
              "type": "string"
            }
          },
          "metadata": {},
          "execution_count": 2
        }
      ]
    },
    {
      "cell_type": "code",
      "source": [
        "# Write a Python program to find out what version of Python you are using.\n",
        "!python --version"
      ],
      "metadata": {
        "colab": {
          "base_uri": "https://localhost:8080/"
        },
        "id": "NMohcVprp3uW",
        "outputId": "5ec0ffd4-164c-4462-a524-80445f45568f"
      },
      "execution_count": null,
      "outputs": [
        {
          "output_type": "stream",
          "name": "stdout",
          "text": [
            "Python 3.10.12\n"
          ]
        }
      ]
    },
    {
      "cell_type": "code",
      "source": [
        "# Write a Python program that calculates the area of a circle based on the radius entered by the user.\n",
        "def area(radius):\n",
        "  return math.pi * radius ** 2\n",
        "\n",
        "area(1.1)"
      ],
      "metadata": {
        "id": "XzrYZkVMqzp6",
        "colab": {
          "base_uri": "https://localhost:8080/"
        },
        "outputId": "68b118b1-0cab-4ac4-8d4d-556f422fb9f2"
      },
      "execution_count": null,
      "outputs": [
        {
          "output_type": "execute_result",
          "data": {
            "text/plain": [
              "3.8013271108436504"
            ]
          },
          "metadata": {},
          "execution_count": 7
        }
      ]
    },
    {
      "cell_type": "code",
      "source": [
        "# Find all timezones\n",
        "!pip install pytz\n",
        "from pytz import all_timezones\n",
        "print(all_timezones)"
      ],
      "metadata": {
        "colab": {
          "base_uri": "https://localhost:8080/"
        },
        "id": "Tby7nmqJrnq-",
        "outputId": "4ea7834f-9673-4e2f-d4e6-31870ebbab5f"
      },
      "execution_count": null,
      "outputs": [
        {
          "output_type": "stream",
          "name": "stdout",
          "text": [
            "Requirement already satisfied: pytz in /usr/local/lib/python3.10/dist-packages (2024.1)\n",
            "['Africa/Abidjan', 'Africa/Accra', 'Africa/Addis_Ababa', 'Africa/Algiers', 'Africa/Asmara', 'Africa/Asmera', 'Africa/Bamako', 'Africa/Bangui', 'Africa/Banjul', 'Africa/Bissau', 'Africa/Blantyre', 'Africa/Brazzaville', 'Africa/Bujumbura', 'Africa/Cairo', 'Africa/Casablanca', 'Africa/Ceuta', 'Africa/Conakry', 'Africa/Dakar', 'Africa/Dar_es_Salaam', 'Africa/Djibouti', 'Africa/Douala', 'Africa/El_Aaiun', 'Africa/Freetown', 'Africa/Gaborone', 'Africa/Harare', 'Africa/Johannesburg', 'Africa/Juba', 'Africa/Kampala', 'Africa/Khartoum', 'Africa/Kigali', 'Africa/Kinshasa', 'Africa/Lagos', 'Africa/Libreville', 'Africa/Lome', 'Africa/Luanda', 'Africa/Lubumbashi', 'Africa/Lusaka', 'Africa/Malabo', 'Africa/Maputo', 'Africa/Maseru', 'Africa/Mbabane', 'Africa/Mogadishu', 'Africa/Monrovia', 'Africa/Nairobi', 'Africa/Ndjamena', 'Africa/Niamey', 'Africa/Nouakchott', 'Africa/Ouagadougou', 'Africa/Porto-Novo', 'Africa/Sao_Tome', 'Africa/Timbuktu', 'Africa/Tripoli', 'Africa/Tunis', 'Africa/Windhoek', 'America/Adak', 'America/Anchorage', 'America/Anguilla', 'America/Antigua', 'America/Araguaina', 'America/Argentina/Buenos_Aires', 'America/Argentina/Catamarca', 'America/Argentina/ComodRivadavia', 'America/Argentina/Cordoba', 'America/Argentina/Jujuy', 'America/Argentina/La_Rioja', 'America/Argentina/Mendoza', 'America/Argentina/Rio_Gallegos', 'America/Argentina/Salta', 'America/Argentina/San_Juan', 'America/Argentina/San_Luis', 'America/Argentina/Tucuman', 'America/Argentina/Ushuaia', 'America/Aruba', 'America/Asuncion', 'America/Atikokan', 'America/Atka', 'America/Bahia', 'America/Bahia_Banderas', 'America/Barbados', 'America/Belem', 'America/Belize', 'America/Blanc-Sablon', 'America/Boa_Vista', 'America/Bogota', 'America/Boise', 'America/Buenos_Aires', 'America/Cambridge_Bay', 'America/Campo_Grande', 'America/Cancun', 'America/Caracas', 'America/Catamarca', 'America/Cayenne', 'America/Cayman', 'America/Chicago', 'America/Chihuahua', 'America/Ciudad_Juarez', 'America/Coral_Harbour', 'America/Cordoba', 'America/Costa_Rica', 'America/Creston', 'America/Cuiaba', 'America/Curacao', 'America/Danmarkshavn', 'America/Dawson', 'America/Dawson_Creek', 'America/Denver', 'America/Detroit', 'America/Dominica', 'America/Edmonton', 'America/Eirunepe', 'America/El_Salvador', 'America/Ensenada', 'America/Fort_Nelson', 'America/Fort_Wayne', 'America/Fortaleza', 'America/Glace_Bay', 'America/Godthab', 'America/Goose_Bay', 'America/Grand_Turk', 'America/Grenada', 'America/Guadeloupe', 'America/Guatemala', 'America/Guayaquil', 'America/Guyana', 'America/Halifax', 'America/Havana', 'America/Hermosillo', 'America/Indiana/Indianapolis', 'America/Indiana/Knox', 'America/Indiana/Marengo', 'America/Indiana/Petersburg', 'America/Indiana/Tell_City', 'America/Indiana/Vevay', 'America/Indiana/Vincennes', 'America/Indiana/Winamac', 'America/Indianapolis', 'America/Inuvik', 'America/Iqaluit', 'America/Jamaica', 'America/Jujuy', 'America/Juneau', 'America/Kentucky/Louisville', 'America/Kentucky/Monticello', 'America/Knox_IN', 'America/Kralendijk', 'America/La_Paz', 'America/Lima', 'America/Los_Angeles', 'America/Louisville', 'America/Lower_Princes', 'America/Maceio', 'America/Managua', 'America/Manaus', 'America/Marigot', 'America/Martinique', 'America/Matamoros', 'America/Mazatlan', 'America/Mendoza', 'America/Menominee', 'America/Merida', 'America/Metlakatla', 'America/Mexico_City', 'America/Miquelon', 'America/Moncton', 'America/Monterrey', 'America/Montevideo', 'America/Montreal', 'America/Montserrat', 'America/Nassau', 'America/New_York', 'America/Nipigon', 'America/Nome', 'America/Noronha', 'America/North_Dakota/Beulah', 'America/North_Dakota/Center', 'America/North_Dakota/New_Salem', 'America/Nuuk', 'America/Ojinaga', 'America/Panama', 'America/Pangnirtung', 'America/Paramaribo', 'America/Phoenix', 'America/Port-au-Prince', 'America/Port_of_Spain', 'America/Porto_Acre', 'America/Porto_Velho', 'America/Puerto_Rico', 'America/Punta_Arenas', 'America/Rainy_River', 'America/Rankin_Inlet', 'America/Recife', 'America/Regina', 'America/Resolute', 'America/Rio_Branco', 'America/Rosario', 'America/Santa_Isabel', 'America/Santarem', 'America/Santiago', 'America/Santo_Domingo', 'America/Sao_Paulo', 'America/Scoresbysund', 'America/Shiprock', 'America/Sitka', 'America/St_Barthelemy', 'America/St_Johns', 'America/St_Kitts', 'America/St_Lucia', 'America/St_Thomas', 'America/St_Vincent', 'America/Swift_Current', 'America/Tegucigalpa', 'America/Thule', 'America/Thunder_Bay', 'America/Tijuana', 'America/Toronto', 'America/Tortola', 'America/Vancouver', 'America/Virgin', 'America/Whitehorse', 'America/Winnipeg', 'America/Yakutat', 'America/Yellowknife', 'Antarctica/Casey', 'Antarctica/Davis', 'Antarctica/DumontDUrville', 'Antarctica/Macquarie', 'Antarctica/Mawson', 'Antarctica/McMurdo', 'Antarctica/Palmer', 'Antarctica/Rothera', 'Antarctica/South_Pole', 'Antarctica/Syowa', 'Antarctica/Troll', 'Antarctica/Vostok', 'Arctic/Longyearbyen', 'Asia/Aden', 'Asia/Almaty', 'Asia/Amman', 'Asia/Anadyr', 'Asia/Aqtau', 'Asia/Aqtobe', 'Asia/Ashgabat', 'Asia/Ashkhabad', 'Asia/Atyrau', 'Asia/Baghdad', 'Asia/Bahrain', 'Asia/Baku', 'Asia/Bangkok', 'Asia/Barnaul', 'Asia/Beirut', 'Asia/Bishkek', 'Asia/Brunei', 'Asia/Calcutta', 'Asia/Chita', 'Asia/Choibalsan', 'Asia/Chongqing', 'Asia/Chungking', 'Asia/Colombo', 'Asia/Dacca', 'Asia/Damascus', 'Asia/Dhaka', 'Asia/Dili', 'Asia/Dubai', 'Asia/Dushanbe', 'Asia/Famagusta', 'Asia/Gaza', 'Asia/Harbin', 'Asia/Hebron', 'Asia/Ho_Chi_Minh', 'Asia/Hong_Kong', 'Asia/Hovd', 'Asia/Irkutsk', 'Asia/Istanbul', 'Asia/Jakarta', 'Asia/Jayapura', 'Asia/Jerusalem', 'Asia/Kabul', 'Asia/Kamchatka', 'Asia/Karachi', 'Asia/Kashgar', 'Asia/Kathmandu', 'Asia/Katmandu', 'Asia/Khandyga', 'Asia/Kolkata', 'Asia/Krasnoyarsk', 'Asia/Kuala_Lumpur', 'Asia/Kuching', 'Asia/Kuwait', 'Asia/Macao', 'Asia/Macau', 'Asia/Magadan', 'Asia/Makassar', 'Asia/Manila', 'Asia/Muscat', 'Asia/Nicosia', 'Asia/Novokuznetsk', 'Asia/Novosibirsk', 'Asia/Omsk', 'Asia/Oral', 'Asia/Phnom_Penh', 'Asia/Pontianak', 'Asia/Pyongyang', 'Asia/Qatar', 'Asia/Qostanay', 'Asia/Qyzylorda', 'Asia/Rangoon', 'Asia/Riyadh', 'Asia/Saigon', 'Asia/Sakhalin', 'Asia/Samarkand', 'Asia/Seoul', 'Asia/Shanghai', 'Asia/Singapore', 'Asia/Srednekolymsk', 'Asia/Taipei', 'Asia/Tashkent', 'Asia/Tbilisi', 'Asia/Tehran', 'Asia/Tel_Aviv', 'Asia/Thimbu', 'Asia/Thimphu', 'Asia/Tokyo', 'Asia/Tomsk', 'Asia/Ujung_Pandang', 'Asia/Ulaanbaatar', 'Asia/Ulan_Bator', 'Asia/Urumqi', 'Asia/Ust-Nera', 'Asia/Vientiane', 'Asia/Vladivostok', 'Asia/Yakutsk', 'Asia/Yangon', 'Asia/Yekaterinburg', 'Asia/Yerevan', 'Atlantic/Azores', 'Atlantic/Bermuda', 'Atlantic/Canary', 'Atlantic/Cape_Verde', 'Atlantic/Faeroe', 'Atlantic/Faroe', 'Atlantic/Jan_Mayen', 'Atlantic/Madeira', 'Atlantic/Reykjavik', 'Atlantic/South_Georgia', 'Atlantic/St_Helena', 'Atlantic/Stanley', 'Australia/ACT', 'Australia/Adelaide', 'Australia/Brisbane', 'Australia/Broken_Hill', 'Australia/Canberra', 'Australia/Currie', 'Australia/Darwin', 'Australia/Eucla', 'Australia/Hobart', 'Australia/LHI', 'Australia/Lindeman', 'Australia/Lord_Howe', 'Australia/Melbourne', 'Australia/NSW', 'Australia/North', 'Australia/Perth', 'Australia/Queensland', 'Australia/South', 'Australia/Sydney', 'Australia/Tasmania', 'Australia/Victoria', 'Australia/West', 'Australia/Yancowinna', 'Brazil/Acre', 'Brazil/DeNoronha', 'Brazil/East', 'Brazil/West', 'CET', 'CST6CDT', 'Canada/Atlantic', 'Canada/Central', 'Canada/Eastern', 'Canada/Mountain', 'Canada/Newfoundland', 'Canada/Pacific', 'Canada/Saskatchewan', 'Canada/Yukon', 'Chile/Continental', 'Chile/EasterIsland', 'Cuba', 'EET', 'EST', 'EST5EDT', 'Egypt', 'Eire', 'Etc/GMT', 'Etc/GMT+0', 'Etc/GMT+1', 'Etc/GMT+10', 'Etc/GMT+11', 'Etc/GMT+12', 'Etc/GMT+2', 'Etc/GMT+3', 'Etc/GMT+4', 'Etc/GMT+5', 'Etc/GMT+6', 'Etc/GMT+7', 'Etc/GMT+8', 'Etc/GMT+9', 'Etc/GMT-0', 'Etc/GMT-1', 'Etc/GMT-10', 'Etc/GMT-11', 'Etc/GMT-12', 'Etc/GMT-13', 'Etc/GMT-14', 'Etc/GMT-2', 'Etc/GMT-3', 'Etc/GMT-4', 'Etc/GMT-5', 'Etc/GMT-6', 'Etc/GMT-7', 'Etc/GMT-8', 'Etc/GMT-9', 'Etc/GMT0', 'Etc/Greenwich', 'Etc/UCT', 'Etc/UTC', 'Etc/Universal', 'Etc/Zulu', 'Europe/Amsterdam', 'Europe/Andorra', 'Europe/Astrakhan', 'Europe/Athens', 'Europe/Belfast', 'Europe/Belgrade', 'Europe/Berlin', 'Europe/Bratislava', 'Europe/Brussels', 'Europe/Bucharest', 'Europe/Budapest', 'Europe/Busingen', 'Europe/Chisinau', 'Europe/Copenhagen', 'Europe/Dublin', 'Europe/Gibraltar', 'Europe/Guernsey', 'Europe/Helsinki', 'Europe/Isle_of_Man', 'Europe/Istanbul', 'Europe/Jersey', 'Europe/Kaliningrad', 'Europe/Kiev', 'Europe/Kirov', 'Europe/Kyiv', 'Europe/Lisbon', 'Europe/Ljubljana', 'Europe/London', 'Europe/Luxembourg', 'Europe/Madrid', 'Europe/Malta', 'Europe/Mariehamn', 'Europe/Minsk', 'Europe/Monaco', 'Europe/Moscow', 'Europe/Nicosia', 'Europe/Oslo', 'Europe/Paris', 'Europe/Podgorica', 'Europe/Prague', 'Europe/Riga', 'Europe/Rome', 'Europe/Samara', 'Europe/San_Marino', 'Europe/Sarajevo', 'Europe/Saratov', 'Europe/Simferopol', 'Europe/Skopje', 'Europe/Sofia', 'Europe/Stockholm', 'Europe/Tallinn', 'Europe/Tirane', 'Europe/Tiraspol', 'Europe/Ulyanovsk', 'Europe/Uzhgorod', 'Europe/Vaduz', 'Europe/Vatican', 'Europe/Vienna', 'Europe/Vilnius', 'Europe/Volgograd', 'Europe/Warsaw', 'Europe/Zagreb', 'Europe/Zaporozhye', 'Europe/Zurich', 'GB', 'GB-Eire', 'GMT', 'GMT+0', 'GMT-0', 'GMT0', 'Greenwich', 'HST', 'Hongkong', 'Iceland', 'Indian/Antananarivo', 'Indian/Chagos', 'Indian/Christmas', 'Indian/Cocos', 'Indian/Comoro', 'Indian/Kerguelen', 'Indian/Mahe', 'Indian/Maldives', 'Indian/Mauritius', 'Indian/Mayotte', 'Indian/Reunion', 'Iran', 'Israel', 'Jamaica', 'Japan', 'Kwajalein', 'Libya', 'MET', 'MST', 'MST7MDT', 'Mexico/BajaNorte', 'Mexico/BajaSur', 'Mexico/General', 'NZ', 'NZ-CHAT', 'Navajo', 'PRC', 'PST8PDT', 'Pacific/Apia', 'Pacific/Auckland', 'Pacific/Bougainville', 'Pacific/Chatham', 'Pacific/Chuuk', 'Pacific/Easter', 'Pacific/Efate', 'Pacific/Enderbury', 'Pacific/Fakaofo', 'Pacific/Fiji', 'Pacific/Funafuti', 'Pacific/Galapagos', 'Pacific/Gambier', 'Pacific/Guadalcanal', 'Pacific/Guam', 'Pacific/Honolulu', 'Pacific/Johnston', 'Pacific/Kanton', 'Pacific/Kiritimati', 'Pacific/Kosrae', 'Pacific/Kwajalein', 'Pacific/Majuro', 'Pacific/Marquesas', 'Pacific/Midway', 'Pacific/Nauru', 'Pacific/Niue', 'Pacific/Norfolk', 'Pacific/Noumea', 'Pacific/Pago_Pago', 'Pacific/Palau', 'Pacific/Pitcairn', 'Pacific/Pohnpei', 'Pacific/Ponape', 'Pacific/Port_Moresby', 'Pacific/Rarotonga', 'Pacific/Saipan', 'Pacific/Samoa', 'Pacific/Tahiti', 'Pacific/Tarawa', 'Pacific/Tongatapu', 'Pacific/Truk', 'Pacific/Wake', 'Pacific/Wallis', 'Pacific/Yap', 'Poland', 'Portugal', 'ROC', 'ROK', 'Singapore', 'Turkey', 'UCT', 'US/Alaska', 'US/Aleutian', 'US/Arizona', 'US/Central', 'US/East-Indiana', 'US/Eastern', 'US/Hawaii', 'US/Indiana-Starke', 'US/Michigan', 'US/Mountain', 'US/Pacific', 'US/Samoa', 'UTC', 'Universal', 'W-SU', 'WET', 'Zulu']\n"
          ]
        }
      ]
    },
    {
      "cell_type": "code",
      "source": [
        "# Write a Python program to display the current date and time.\n",
        "import pytz\n",
        "import datetime\n",
        "print(time.ctime())  # Time UTC\n",
        "\n",
        "unix_time = time.time()\n",
        "\n",
        "# Convert time to your timezone\n",
        "desired_timezone = pytz.timezone(\"America/Los_Angeles\")\n",
        "Mytime = datetime.datetime.fromtimestamp(unix_time, desired_timezone)\n",
        "\n",
        "print(\"My time CA:\", Mytime)\n",
        "\n"
      ],
      "metadata": {
        "colab": {
          "base_uri": "https://localhost:8080/"
        },
        "id": "z2oSm5OwqrFV",
        "outputId": "334efdb2-ffac-408d-ecde-db5f0a990a6e"
      },
      "execution_count": null,
      "outputs": [
        {
          "output_type": "stream",
          "name": "stdout",
          "text": [
            "Fri Aug 30 14:34:29 2024\n",
            "My time CA: 2024-08-30 07:34:29.789056-07:00\n"
          ]
        }
      ]
    },
    {
      "cell_type": "markdown",
      "source": [],
      "metadata": {
        "id": "B9LXFLMco77V"
      }
    },
    {
      "cell_type": "code",
      "source": [
        "# Write a Python program that accepts the user's first and last name and prints them in reverse order with a space between them.\n",
        "\n",
        "def name_print(first, last):\n",
        "  return f\"{last} {first}\"\n",
        "\n",
        "my_first=\"Zhonghao\"\n",
        "my_last=\"He\"\n",
        "\n",
        "print(name_print(my_first, my_last))\n"
      ],
      "metadata": {
        "colab": {
          "base_uri": "https://localhost:8080/"
        },
        "id": "hJUWOlx4tgsm",
        "outputId": "6aed39df-b2c7-436d-a981-3ef14ac27d6e"
      },
      "execution_count": null,
      "outputs": [
        {
          "output_type": "stream",
          "name": "stdout",
          "text": [
            "He Zhonghao\n"
          ]
        }
      ]
    },
    {
      "cell_type": "markdown",
      "source": [],
      "metadata": {
        "id": "MpPWWnZJorWU"
      }
    },
    {
      "cell_type": "code",
      "source": [
        "# Write a Python program that accepts a sequence of comma-separated numbers from the user and generates a list and a tuple of those numbers.\n",
        "\n",
        "def sequence_data(input_seq):\n",
        "  return f\"{list(input)} {tuple(input)}\"\n",
        "\n",
        "input_seq = 3,5,7,23\n",
        "print(sequence_data(input))\n",
        "print(type(input_seq))  # NEP i see that for user-defined input like this one, it's a tuple."
      ],
      "metadata": {
        "colab": {
          "base_uri": "https://localhost:8080/"
        },
        "id": "GfVl9goouXhI",
        "outputId": "e2f9f16d-dc56-4507-c1b0-f4b66bacab9f"
      },
      "execution_count": null,
      "outputs": [
        {
          "output_type": "stream",
          "name": "stdout",
          "text": [
            "[3, 5, 7, 23] (3, 5, 7, 23)\n",
            "<class 'tuple'>\n"
          ]
        }
      ]
    },
    {
      "cell_type": "code",
      "source": [
        "# I accidentally re-wrote the built-in function \"input\" as a tuple in last cell\n",
        "del input\n",
        "import builtins\n",
        "input = builtins.input\n",
        "\n",
        "# Write a Python program that accepts a filename from the user and prints the extension of the file.\n",
        "filename=input(\"Please type the filename here: \")  # weird that they can identify user input here?\n",
        "\n",
        "file_ext = filename.split(\".\") # .split() gives you a list of objects (?)\n",
        "\n",
        "print(f'The extension of the file is {file_ext[-1]}')"
      ],
      "metadata": {
        "colab": {
          "base_uri": "https://localhost:8080/"
        },
        "id": "PJbLibn1wgbJ",
        "outputId": "61e5fcaf-7f22-4f29-d907-c06f43ea4f77"
      },
      "execution_count": null,
      "outputs": [
        {
          "output_type": "stream",
          "name": "stdout",
          "text": [
            "Please type the filename here: xyz.zip\n",
            "The extension of the file is zip\n"
          ]
        }
      ]
    },
    {
      "cell_type": "markdown",
      "source": [
        "### Lessons so far Aug 30\n",
        "\n",
        "- I missed the part where you prompt users to input something with $input()$\n",
        "- Don't overwrite system function such as \"input\"\n",
        "- You want a function where you need to call that function with different inputs.\n",
        "- input() will ask the users to give input, and store in that variable.\n",
        "- split(\".\") will give you a list of items identified by \".\""
      ],
      "metadata": {
        "id": "RL_H1ng5xupI"
      }
    },
    {
      "cell_type": "code",
      "source": [
        "# Write a Python program to display the examination schedule. (extract the date from exam_st_date).\n",
        "# exam_st_date = (11, 12, 2014)\n",
        "# Sample Output : The examination will start from : 11 / 12 / 2014\n",
        "\n",
        "exam_st_date = (11, 12, 2014)\n",
        "a,b,c = exam_st_date[0],exam_st_date[1],exam_st_date[2]\n",
        "print(f'The examination will start from : {a}/{b}/{c}')"
      ],
      "metadata": {
        "colab": {
          "base_uri": "https://localhost:8080/"
        },
        "id": "ak7bVwoNIqZ2",
        "outputId": "408d65fd-b46a-4aab-94e5-54417ff2424d"
      },
      "execution_count": null,
      "outputs": [
        {
          "output_type": "stream",
          "name": "stdout",
          "text": [
            "The examination will start from : 11/12/2014\n"
          ]
        }
      ]
    },
    {
      "cell_type": "code",
      "source": [
        "# Write a Python program that accepts an integer (n) and computes the value of n+nn+nnn.\n",
        "# Sample value of n is 5\n",
        "# Expected Result : 615\n",
        "def integer_compute():\n",
        "  integer_str = input(\"Please type your integer here \")\n",
        "  i_v= int(integer_str)\n",
        "\n",
        "  return i_v + i_v * 11 + i_v * 111\n",
        "\n",
        "integer_compute()"
      ],
      "metadata": {
        "colab": {
          "base_uri": "https://localhost:8080/"
        },
        "id": "pWLHKW9YJIrS",
        "outputId": "c93f2166-6cfe-4f20-fcbc-ba2fcaf29c94"
      },
      "execution_count": null,
      "outputs": [
        {
          "name": "stdout",
          "output_type": "stream",
          "text": [
            "Please type your integer here 5\n"
          ]
        },
        {
          "output_type": "execute_result",
          "data": {
            "text/plain": [
              "615"
            ]
          },
          "metadata": {},
          "execution_count": 4
        }
      ]
    },
    {
      "cell_type": "markdown",
      "source": [
        "Write a Python program to print the documents (syntax, description etc.) of Python built-in function(s).\n",
        "Sample function : abs()\n",
        "Expected Result :\n",
        "abs(number) -> number\n",
        "Return the absolute value of the argument."
      ],
      "metadata": {
        "id": "O0jXSplfKaJn"
      }
    },
    {
      "cell_type": "code",
      "source": [
        "print(abs.__doc__)"
      ],
      "metadata": {
        "colab": {
          "base_uri": "https://localhost:8080/"
        },
        "id": "M4RINpnSKX5O",
        "outputId": "01cbcf3c-1504-48f0-8382-2b73d1cf5b00"
      },
      "execution_count": null,
      "outputs": [
        {
          "output_type": "stream",
          "name": "stdout",
          "text": [
            "Return the absolute value of the argument.\n"
          ]
        }
      ]
    },
    {
      "cell_type": "code",
      "source": [
        "print(pow.__doc__)"
      ],
      "metadata": {
        "colab": {
          "base_uri": "https://localhost:8080/"
        },
        "id": "hCs-uiDGKzvl",
        "outputId": "b20e8b5f-63e7-455c-c7fd-d538fc76b381"
      },
      "execution_count": null,
      "outputs": [
        {
          "output_type": "stream",
          "name": "stdout",
          "text": [
            "Equivalent to base**exp with 2 arguments or base**exp % mod with 3 arguments\n",
            "\n",
            "Some types, such as ints, are able to use a more efficient algorithm when\n",
            "invoked using the three argument form.\n"
          ]
        }
      ]
    },
    {
      "cell_type": "markdown",
      "source": [
        "Write a Python program that prints the calendar for a given month and year.\n",
        "Note : Use 'calendar' module.\n"
      ],
      "metadata": {
        "id": "krOl-CLaLBhB"
      }
    },
    {
      "cell_type": "code",
      "source": [
        "import calendar\n",
        "print(calendar.__doc__)"
      ],
      "metadata": {
        "colab": {
          "base_uri": "https://localhost:8080/"
        },
        "id": "E_5am8-uLAa3",
        "outputId": "e4de2555-c3ae-4bd6-e512-b095dedc39b3"
      },
      "execution_count": null,
      "outputs": [
        {
          "output_type": "stream",
          "name": "stdout",
          "text": [
            "Calendar printing functions\n",
            "\n",
            "Note when comparing these calendars to the ones printed by cal(1): By\n",
            "default, these calendars have Monday as the first day of the week, and\n",
            "Sunday as the last (the European convention). Use setfirstweekday() to\n",
            "set the first day of the week (0=Monday, 6=Sunday).\n"
          ]
        }
      ]
    },
    {
      "cell_type": "code",
      "source": [
        "print(calendar.month(2024,8))"
      ],
      "metadata": {
        "colab": {
          "base_uri": "https://localhost:8080/"
        },
        "id": "9RpNG5UHLQu2",
        "outputId": "d0810e27-0df7-4961-d9bf-8f2a0c2f07c4"
      },
      "execution_count": null,
      "outputs": [
        {
          "output_type": "stream",
          "name": "stdout",
          "text": [
            "    August 2024\n",
            "Mo Tu We Th Fr Sa Su\n",
            "          1  2  3  4\n",
            " 5  6  7  8  9 10 11\n",
            "12 13 14 15 16 17 18\n",
            "19 20 21 22 23 24 25\n",
            "26 27 28 29 30 31\n",
            "\n"
          ]
        }
      ]
    },
    {
      "cell_type": "markdown",
      "source": [
        "Write a Python program to calculate the number of days between two dates.\n",
        "Sample dates : (2014, 7, 2), (2014, 7, 11)\n",
        "Expected output : 9 days"
      ],
      "metadata": {
        "id": "PEOdf8ePMoLC"
      }
    },
    {
      "cell_type": "code",
      "source": [
        "from datetime import date\n",
        "st = date(2014,7,2)\n",
        "en = date(2014,7,11)\n",
        "diff = en-st\n",
        "\n",
        "help(date)\n",
        "print(diff.days)"
      ],
      "metadata": {
        "colab": {
          "base_uri": "https://localhost:8080/"
        },
        "collapsed": true,
        "id": "7guwkYGpLu09",
        "outputId": "4fa8b596-1fcd-458d-fc26-332308fd2676"
      },
      "execution_count": null,
      "outputs": [
        {
          "output_type": "stream",
          "name": "stdout",
          "text": [
            "Help on class date in module datetime:\n",
            "\n",
            "class date(builtins.object)\n",
            " |  date(year, month, day) --> date object\n",
            " |  \n",
            " |  Methods defined here:\n",
            " |  \n",
            " |  __add__(self, value, /)\n",
            " |      Return self+value.\n",
            " |  \n",
            " |  __eq__(self, value, /)\n",
            " |      Return self==value.\n",
            " |  \n",
            " |  __format__(...)\n",
            " |      Formats self with strftime.\n",
            " |  \n",
            " |  __ge__(self, value, /)\n",
            " |      Return self>=value.\n",
            " |  \n",
            " |  __getattribute__(self, name, /)\n",
            " |      Return getattr(self, name).\n",
            " |  \n",
            " |  __gt__(self, value, /)\n",
            " |      Return self>value.\n",
            " |  \n",
            " |  __hash__(self, /)\n",
            " |      Return hash(self).\n",
            " |  \n",
            " |  __le__(self, value, /)\n",
            " |      Return self<=value.\n",
            " |  \n",
            " |  __lt__(self, value, /)\n",
            " |      Return self<value.\n",
            " |  \n",
            " |  __ne__(self, value, /)\n",
            " |      Return self!=value.\n",
            " |  \n",
            " |  __radd__(self, value, /)\n",
            " |      Return value+self.\n",
            " |  \n",
            " |  __reduce__(...)\n",
            " |      __reduce__() -> (cls, state)\n",
            " |  \n",
            " |  __repr__(self, /)\n",
            " |      Return repr(self).\n",
            " |  \n",
            " |  __rsub__(self, value, /)\n",
            " |      Return value-self.\n",
            " |  \n",
            " |  __str__(self, /)\n",
            " |      Return str(self).\n",
            " |  \n",
            " |  __sub__(self, value, /)\n",
            " |      Return self-value.\n",
            " |  \n",
            " |  ctime(...)\n",
            " |      Return ctime() style string.\n",
            " |  \n",
            " |  isocalendar(...)\n",
            " |      Return a named tuple containing ISO year, week number, and weekday.\n",
            " |  \n",
            " |  isoformat(...)\n",
            " |      Return string in ISO 8601 format, YYYY-MM-DD.\n",
            " |  \n",
            " |  isoweekday(...)\n",
            " |      Return the day of the week represented by the date.\n",
            " |      Monday == 1 ... Sunday == 7\n",
            " |  \n",
            " |  replace(...)\n",
            " |      Return date with new specified fields.\n",
            " |  \n",
            " |  strftime(...)\n",
            " |      format -> strftime() style string.\n",
            " |  \n",
            " |  timetuple(...)\n",
            " |      Return time tuple, compatible with time.localtime().\n",
            " |  \n",
            " |  toordinal(...)\n",
            " |      Return proleptic Gregorian ordinal.  January 1 of year 1 is day 1.\n",
            " |  \n",
            " |  weekday(...)\n",
            " |      Return the day of the week represented by the date.\n",
            " |      Monday == 0 ... Sunday == 6\n",
            " |  \n",
            " |  ----------------------------------------------------------------------\n",
            " |  Class methods defined here:\n",
            " |  \n",
            " |  fromisocalendar(...) from builtins.type\n",
            " |      int, int, int -> Construct a date from the ISO year, week number and weekday.\n",
            " |      \n",
            " |      This is the inverse of the date.isocalendar() function\n",
            " |  \n",
            " |  fromisoformat(...) from builtins.type\n",
            " |      str -> Construct a date from the output of date.isoformat()\n",
            " |  \n",
            " |  fromordinal(...) from builtins.type\n",
            " |      int -> date corresponding to a proleptic Gregorian ordinal.\n",
            " |  \n",
            " |  fromtimestamp(timestamp, /) from builtins.type\n",
            " |      Create a date from a POSIX timestamp.\n",
            " |      \n",
            " |      The timestamp is a number, e.g. created via time.time(), that is interpreted\n",
            " |      as local time.\n",
            " |  \n",
            " |  today(...) from builtins.type\n",
            " |      Current date or datetime:  same as self.__class__.fromtimestamp(time.time()).\n",
            " |  \n",
            " |  ----------------------------------------------------------------------\n",
            " |  Static methods defined here:\n",
            " |  \n",
            " |  __new__(*args, **kwargs) from builtins.type\n",
            " |      Create and return a new object.  See help(type) for accurate signature.\n",
            " |  \n",
            " |  ----------------------------------------------------------------------\n",
            " |  Data descriptors defined here:\n",
            " |  \n",
            " |  day\n",
            " |  \n",
            " |  month\n",
            " |  \n",
            " |  year\n",
            " |  \n",
            " |  ----------------------------------------------------------------------\n",
            " |  Data and other attributes defined here:\n",
            " |  \n",
            " |  max = datetime.date(9999, 12, 31)\n",
            " |  \n",
            " |  min = datetime.date(1, 1, 1)\n",
            " |  \n",
            " |  resolution = datetime.timedelta(days=1)\n",
            "\n",
            "9\n"
          ]
        }
      ]
    },
    {
      "cell_type": "markdown",
      "source": [
        "24. Write a Python program to test whether a passed letter is a vowel or not.\n"
      ],
      "metadata": {
        "id": "ue5jmVDOPZAe"
      }
    },
    {
      "cell_type": "code",
      "source": [
        "def is_vowel():\n",
        "  lt = input(\"Please type in the letter you want to test \")\n",
        "  all_vowels = (\"aeiou\")  # Should be a string\n",
        "  return True if lt in all_vowels else False\n",
        "\n",
        "is_vowel()"
      ],
      "metadata": {
        "colab": {
          "base_uri": "https://localhost:8080/"
        },
        "id": "tdPlvaLZN5Wp",
        "outputId": "daf8261c-cd06-48d9-8a09-bf6512f03667"
      },
      "execution_count": null,
      "outputs": [
        {
          "name": "stdout",
          "output_type": "stream",
          "text": [
            "Please type in the letter you want to test e\n"
          ]
        },
        {
          "output_type": "execute_result",
          "data": {
            "text/plain": [
              "True"
            ]
          },
          "metadata": {},
          "execution_count": 20
        }
      ]
    },
    {
      "cell_type": "markdown",
      "source": [
        "25. Write a Python program that checks whether a specified value is contained within a group of values.\n",
        "Test Data :\n",
        "3 -> [1, 5, 8, 3] : True\n",
        "-1 -> [1, 5, 8, 3] : False"
      ],
      "metadata": {
        "id": "-qe7xmX3QSw7"
      }
    },
    {
      "cell_type": "code",
      "source": [
        "def contained(num: int, alist: list):\n",
        "  num = int(num)\n",
        "  assert type(num) == int\n",
        "  assert type(alist) == list\n",
        "  return True if num in alist else False\n",
        "\n",
        "a = contained(3,[1, 5, 8, 3])\n",
        "b = contained(\"-1\",[1, 5, 8, 3])\n",
        "print(a,b)"
      ],
      "metadata": {
        "colab": {
          "base_uri": "https://localhost:8080/"
        },
        "id": "xSvTVfiVQGOy",
        "outputId": "c2aa0c2c-8e2e-4d43-9865-9d80fe6f2b14"
      },
      "execution_count": null,
      "outputs": [
        {
          "output_type": "stream",
          "name": "stdout",
          "text": [
            "True False\n"
          ]
        }
      ]
    },
    {
      "cell_type": "markdown",
      "source": [
        "### Lessons so far on Aug 31\n",
        "- .__doc__ gives you documents\n",
        "- help() checks how a class is defined"
      ],
      "metadata": {
        "id": "80k1yTyQS5NT"
      }
    },
    {
      "cell_type": "markdown",
      "source": [
        "26. Write a Python program to create a histogram from a given list of integers.\n"
      ],
      "metadata": {
        "id": "PegXmN7h4QKr"
      }
    },
    {
      "cell_type": "code",
      "source": [
        "import matplotlib.pyplot as plt\n",
        "input_str = input(\"Please type in a list of numbers seperated by space \")\n",
        "data = [int(x) for x in input_str.split()]\n",
        "# data = [2,2,2,4,6,7,4,7,8,1]\n",
        "bins = [1,2,3,4,5,6,7,8,9]\n",
        "plt.hist(data, bins=bins)  # Create the historgram\n",
        "plt.xlabel(\"Values\")\n",
        "plt.ylabel(\"Frequency\")\n",
        "plt.title(\"Historgram with Custom Bins\")\n",
        "plt.show()\n"
      ],
      "metadata": {
        "colab": {
          "base_uri": "https://localhost:8080/",
          "height": 490
        },
        "id": "fcAh0KY8RE0F",
        "outputId": "a3e68966-cf87-4e80-a849-60c6387bc82a"
      },
      "execution_count": null,
      "outputs": [
        {
          "name": "stdout",
          "output_type": "stream",
          "text": [
            "Please type in a list of numbers seperated by space 2 2 2 4 6 7 4 7 8 1\n"
          ]
        },
        {
          "output_type": "display_data",
          "data": {
            "text/plain": [
              "<Figure size 640x480 with 1 Axes>"
            ],
            "image/png": "[encoded data removed]"
          },
          "metadata": {}
        }
      ]
    },
    {
      "cell_type": "markdown",
      "source": [
        "27. Write a Python program that concatenates all elements in a list into a string and returns it.\n",
        "Click me to see the sample solution"
      ],
      "metadata": {
        "id": "gvxj2SXI_ADo"
      }
    },
    {
      "cell_type": "code",
      "source": [
        "def concatenation(lst:list):\n",
        "  result = ''  # An empty string\n",
        "  for item in lst:\n",
        "    result += str(item)\n",
        "  return result\n",
        "\n",
        "concatenation([5,1,5,6,12])"
      ],
      "metadata": {
        "colab": {
          "base_uri": "https://localhost:8080/",
          "height": 35
        },
        "id": "z40oG9fA5IMA",
        "outputId": "4703473c-8786-4f25-9e9a-c0d1b2e508ac"
      },
      "execution_count": null,
      "outputs": [
        {
          "output_type": "execute_result",
          "data": {
            "text/plain": [
              "'515612'"
            ],
            "application/vnd.google.colaboratory.intrinsic+json": {
              "type": "string"
            }
          },
          "metadata": {},
          "execution_count": 16
        }
      ]
    },
    {
      "cell_type": "markdown",
      "source": [
        "28. Write a Python program to print all even numbers from a given list of numbers in the same order and stop printing any after 237 in the sequence.\n",
        "Sample numbers list :\n",
        "\n",
        "numbers = [    \n",
        "    386, 462, 47, 418, 907, 344, 236, 375, 823, 566, 597, 978, 328, 615, 953, 345,\n",
        "    399, 162, 758, 219, 918, 237, 412, 566, 826, 248, 866, 950, 626, 949, 687, 217,\n",
        "    815, 67, 104, 58, 512, 24, 892, 894, 767, 553, 81, 379, 843, 831, 445, 742, 717,\n",
        "    958,743, 527\n",
        "    ]"
      ],
      "metadata": {
        "id": "agQ_pwdAAV_S"
      }
    },
    {
      "cell_type": "code",
      "source": [
        "def print_even(lst:list):\n",
        "  result = []\n",
        "  for num in lst:\n",
        "    if num == 237:\n",
        "      return result\n",
        "    if num % 2 == 0:\n",
        "      result.append(num)\n",
        "  return result\n",
        "\n",
        "my_list =  [\n",
        "386, 462, 47, 418, 907, 344, 236, 375, 823, 566, 597, 978, 328, 615, 953, 345, 399, 162, 758, 219, 918, 237, 412, 566, 826, 248, 866, 950, 626, 949, 687, 217, 815, 67, 104, 58, 512, 24, 892, 894, 767, 553, 81, 379, 843, 831, 445, 742, 717, 958,743, 527 ]\n",
        "print_even(my_list)\n"
      ],
      "metadata": {
        "colab": {
          "base_uri": "https://localhost:8080/"
        },
        "id": "M8PLPeCu_Q5p",
        "outputId": "4d39c6c9-d2a5-42cc-db0f-9e4a29dd7a0f"
      },
      "execution_count": null,
      "outputs": [
        {
          "output_type": "execute_result",
          "data": {
            "text/plain": [
              "[386, 462, 418, 344, 236, 566, 978, 328, 162, 758, 918]"
            ]
          },
          "metadata": {},
          "execution_count": 17
        }
      ]
    },
    {
      "cell_type": "markdown",
      "source": [
        "31. Write a Python program that computes the greatest common divisor (GCD) of two positive integers."
      ],
      "metadata": {
        "id": "_Fq80K7QBtka"
      }
    },
    {
      "cell_type": "code",
      "source": [
        "def gcd(x,y):\n",
        "\n",
        "  gcd = 1 # by default it's 1 unless there are bigger ones.\n",
        "\n",
        "  # check if one is the divisor of the other\n",
        "  if x % y == 0:\n",
        "      return y\n",
        "\n",
        "  if x>y and x%y==0:\n",
        "    gcd = y\n",
        "  elif y>=x and y%x==0:\n",
        "    gcd = x\n",
        "\n",
        "\n",
        "  for k in range(int(y/2),0,-1):  # from half y to 1, step=-1\n",
        "    if x % k ==0 and y % k == 0:\n",
        "      gcd = k\n",
        "      break\n",
        "\n",
        "  return gcd\n",
        "\n",
        "\n",
        "\n",
        "# Print the GCD of specific pairs of numbers.\n",
        "print(\"GCD of 12 & 17 =\", gcd(12, 17))\n",
        "print(\"GCD of 4 & 6 =\", gcd(4, 6))\n",
        "print(\"GCD of 336 & 360 =\", gcd(336, 360))\n",
        "print(\"GCD of 336 & 360 =\", gcd(3360, 360))"
      ],
      "metadata": {
        "colab": {
          "base_uri": "https://localhost:8080/"
        },
        "id": "kAnxi1f9A_wx",
        "outputId": "f5845ad8-b7c8-4331-b0b8-837859dc7682"
      },
      "execution_count": null,
      "outputs": [
        {
          "output_type": "stream",
          "name": "stdout",
          "text": [
            "GCD of 12 & 17 = 1\n",
            "GCD of 4 & 6 = 2\n",
            "GCD of 336 & 360 = 24\n",
            "GCD of 336 & 360 = 120\n"
          ]
        }
      ]
    },
    {
      "cell_type": "markdown",
      "source": [
        "### Lessons so far Sep 1\n",
        "- with input_str = input(\"xxx \") this type of self-defined input, you will get string\n",
        "- (items of) string to list of integers: list = [item for item in string.split()]\n",
        "- Remember the break\n",
        "- bar chart and histogram are different\n",
        "\n",
        "- When getting common divisor, there is difference where do you place divisor and dividend."
      ],
      "metadata": {
        "id": "5LkU4tZODuRl"
      }
    },
    {
      "cell_type": "code",
      "source": [
        "12 % 7"
      ],
      "metadata": {
        "colab": {
          "base_uri": "https://localhost:8080/"
        },
        "id": "-VL4nfyRDQlY",
        "outputId": "8a03f446-1778-4bc8-b2a8-5bd51c830534"
      },
      "execution_count": null,
      "outputs": [
        {
          "output_type": "execute_result",
          "data": {
            "text/plain": [
              "5"
            ]
          },
          "metadata": {},
          "execution_count": 1
        }
      ]
    },
    {
      "cell_type": "code",
      "source": [
        "7 % 12"
      ],
      "metadata": {
        "colab": {
          "base_uri": "https://localhost:8080/"
        },
        "id": "ZyNvC38hOopK",
        "outputId": "4fa7e4e3-b1ba-43a7-9f45-6dcaa3cc330d"
      },
      "execution_count": null,
      "outputs": [
        {
          "output_type": "execute_result",
          "data": {
            "text/plain": [
              "7"
            ]
          },
          "metadata": {},
          "execution_count": 2
        }
      ]
    },
    {
      "cell_type": "markdown",
      "source": [
        "40. Write a Python program to calculate the distance between the points (x1, y1) and (x2, y2).\n",
        "\n"
      ],
      "metadata": {
        "id": "6kypxOFrQv0U"
      }
    },
    {
      "cell_type": "code",
      "source": [
        "def distance (a, b):\n",
        "  return math.sqrt((a[0]-b[0])**2+(a[1]-b[1])**2)\n",
        "\n",
        "distance([1,1],[0,0])"
      ],
      "metadata": {
        "colab": {
          "base_uri": "https://localhost:8080/"
        },
        "id": "7PqAtqYhOtgL",
        "outputId": "63fd971b-97a9-4056-8f0c-cdac5198c242"
      },
      "execution_count": null,
      "outputs": [
        {
          "output_type": "execute_result",
          "data": {
            "text/plain": [
              "1.4142135623730951"
            ]
          },
          "metadata": {},
          "execution_count": 5
        }
      ]
    },
    {
      "cell_type": "markdown",
      "source": [
        "41. Write a Python program to check whether a file exists."
      ],
      "metadata": {
        "id": "eBDN9hdRS0-H"
      }
    },
    {
      "cell_type": "code",
      "source": [
        "import os.path\n",
        "file_path = input(\"Please type you file path here \")\n",
        "\n",
        "if os.path.exists(file_path):\n",
        "  print(\"Yes\")\n",
        "else:\n",
        "  print(\"No\")"
      ],
      "metadata": {
        "colab": {
          "base_uri": "https://localhost:8080/"
        },
        "id": "5d1z6NIDRZMB",
        "outputId": "c72bb6c6-6c23-449c-c46c-be3b78f8f586"
      },
      "execution_count": null,
      "outputs": [
        {
          "output_type": "stream",
          "name": "stdout",
          "text": [
            "Please type you file path here wadawd\n",
            "No\n"
          ]
        }
      ]
    },
    {
      "cell_type": "markdown",
      "source": [
        "42. Write a Python program to determine if a Python shell is executing in 32bit or 64bit mode on OS."
      ],
      "metadata": {
        "id": "zB5bTm07WXaU"
      }
    },
    {
      "cell_type": "code",
      "source": [
        "import struct\n",
        "print(struct.calcsize(\"P\" * 8))"
      ],
      "metadata": {
        "colab": {
          "base_uri": "https://localhost:8080/"
        },
        "id": "Wh3uLgl0WXIX",
        "outputId": "8c74f069-c286-4d5f-e997-cfe3573cbc94"
      },
      "execution_count": null,
      "outputs": [
        {
          "output_type": "stream",
          "name": "stdout",
          "text": [
            "64\n"
          ]
        }
      ]
    },
    {
      "cell_type": "markdown",
      "source": [
        "44. Write a Python program to locate Python site packages."
      ],
      "metadata": {
        "id": "QuWrRBjzWrBK"
      }
    },
    {
      "cell_type": "code",
      "source": [
        "import site\n",
        "print(site.getsitepackages())"
      ],
      "metadata": {
        "colab": {
          "base_uri": "https://localhost:8080/"
        },
        "id": "df-k94w3WsMZ",
        "outputId": "799c19bc-33b2-4e1e-8e14-94861f7e4fff"
      },
      "execution_count": null,
      "outputs": [
        {
          "output_type": "stream",
          "name": "stdout",
          "text": [
            "['/usr/local/lib/python3.10/dist-packages', '/usr/lib/python3/dist-packages', '/usr/lib/python3.10/dist-packages']\n"
          ]
        }
      ]
    },
    {
      "cell_type": "markdown",
      "source": [],
      "metadata": {
        "id": "2_9JzGr3Wq2L"
      }
    },
    {
      "cell_type": "markdown",
      "source": [
        "46. Write a Python program to retrieve the path and name of the file currently being executed.\n"
      ],
      "metadata": {
        "id": "cQIe8mfWXFeE"
      }
    },
    {
      "cell_type": "code",
      "source": [
        "import os\n",
        "print(\"Current File Name : \", os.getcwd)\n"
      ],
      "metadata": {
        "colab": {
          "base_uri": "https://localhost:8080/"
        },
        "id": "4cbsQdgVWqfY",
        "outputId": "95cd9eb7-fb45-434b-d54c-6a58405541f5"
      },
      "execution_count": null,
      "outputs": [
        {
          "output_type": "stream",
          "name": "stdout",
          "text": [
            "Current File Name :  <built-in function getcwd>\n"
          ]
        }
      ]
    },
    {
      "cell_type": "markdown",
      "source": [
        "53. Write a Python program to access environment variables."
      ],
      "metadata": {
        "id": "PYs2ZJlwZE6M"
      }
    },
    {
      "cell_type": "code",
      "source": [
        "print(os.environ)"
      ],
      "metadata": {
        "colab": {
          "base_uri": "https://localhost:8080/"
        },
        "id": "PQ8GC0zDWGgn",
        "outputId": "8166b246-4068-4b6c-c40f-066addeed4d6"
      },
      "execution_count": null,
      "outputs": [
        {
          "output_type": "stream",
          "name": "stdout",
          "text": [
            "environ({'SHELL': '/bin/bash', 'NV_LIBCUBLAS_VERSION': '12.2.5.6-1', 'NVIDIA_VISIBLE_DEVICES': 'all', 'COLAB_JUPYTER_TRANSPORT': 'ipc', 'NV_NVML_DEV_VERSION': '12.2.140-1', 'NV_CUDNN_PACKAGE_NAME': 'libcudnn8', 'CGROUP_MEMORY_EVENTS': '/sys/fs/cgroup/memory.events /var/colab/cgroup/jupyter-children/memory.events', 'NV_LIBNCCL_DEV_PACKAGE': 'libnccl-dev=2.19.3-1+cuda12.2', 'NV_LIBNCCL_DEV_PACKAGE_VERSION': '2.19.3-1', 'VM_GCE_METADATA_HOST': '169.254.169.253', 'HOSTNAME': 'cab940d3e384', 'LANGUAGE': 'en_US', 'TBE_RUNTIME_ADDR': '172.28.0.1:8011', 'COLAB_TPU_1VM': '', 'GCE_METADATA_TIMEOUT': '3', 'NVIDIA_REQUIRE_CUDA': 'cuda>=12.2 brand=tesla,driver>=470,driver<471 brand=unknown,driver>=470,driver<471 brand=nvidia,driver>=470,driver<471 brand=nvidiartx,driver>=470,driver<471 brand=geforce,driver>=470,driver<471 brand=geforcertx,driver>=470,driver<471 brand=quadro,driver>=470,driver<471 brand=quadrortx,driver>=470,driver<471 brand=titan,driver>=470,driver<471 brand=titanrtx,driver>=470,driver<471 brand=tesla,driver>=525,driver<526 brand=unknown,driver>=525,driver<526 brand=nvidia,driver>=525,driver<526 brand=nvidiartx,driver>=525,driver<526 brand=geforce,driver>=525,driver<526 brand=geforcertx,driver>=525,driver<526 brand=quadro,driver>=525,driver<526 brand=quadrortx,driver>=525,driver<526 brand=titan,driver>=525,driver<526 brand=titanrtx,driver>=525,driver<526', 'NV_LIBCUBLAS_DEV_PACKAGE': 'libcublas-dev-12-2=12.2.5.6-1', 'NV_NVTX_VERSION': '12.2.140-1', 'COLAB_JUPYTER_IP': '172.28.0.12', 'NV_CUDA_CUDART_DEV_VERSION': '12.2.140-1', 'NV_LIBCUSPARSE_VERSION': '12.1.2.141-1', 'COLAB_LANGUAGE_SERVER_PROXY_ROOT_URL': 'http://172.28.0.1:8013/', 'NV_LIBNPP_VERSION': '12.2.1.4-1', 'NCCL_VERSION': '2.19.3-1', 'KMP_LISTEN_PORT': '6000', 'TF_FORCE_GPU_ALLOW_GROWTH': 'true', 'ENV': '/root/.bashrc', 'PWD': '/', 'COLAB_LANGUAGE_SERVER_PROXY_REQUEST_TIMEOUT': '30s', 'TBE_EPHEM_CREDS_ADDR': '172.28.0.1:8009', 'TBE_CREDS_ADDR': '172.28.0.1:8008', 'NV_CUDNN_PACKAGE': 'libcudnn8=8.9.6.50-1+cuda12.2', 'NVIDIA_DRIVER_CAPABILITIES': 'compute,utility', 'COLAB_JUPYTER_TOKEN': '', 'LAST_FORCED_REBUILD': '20240627', 'NV_NVPROF_DEV_PACKAGE': 'cuda-nvprof-12-2=12.2.142-1', 'NV_LIBNPP_PACKAGE': 'libnpp-12-2=12.2.1.4-1', 'NV_LIBNCCL_DEV_PACKAGE_NAME': 'libnccl-dev', 'TCLLIBPATH': '/usr/share/tcltk/tcllib1.20', 'NV_LIBCUBLAS_DEV_VERSION': '12.2.5.6-1', 'NVIDIA_PRODUCT_NAME': 'CUDA', 'COLAB_KERNEL_MANAGER_PROXY_HOST': '172.28.0.12', 'NV_LIBCUBLAS_DEV_PACKAGE_NAME': 'libcublas-dev-12-2', 'NV_CUDA_CUDART_VERSION': '12.2.140-1', 'COLAB_WARMUP_DEFAULTS': '1', 'HOME': '/root', 'LANG': 'en_US.UTF-8', 'COLUMNS': '100', 'CUDA_VERSION': '12.2.2', 'CLOUDSDK_CONFIG': '/content/.config', 'NV_LIBCUBLAS_PACKAGE': 'libcublas-12-2=12.2.5.6-1', 'NV_CUDA_NSIGHT_COMPUTE_DEV_PACKAGE': 'cuda-nsight-compute-12-2=12.2.2-1', 'COLAB_RELEASE_TAG': 'release-colab_20240829-060138_RC00', 'KMP_TARGET_PORT': '9000', 'KMP_EXTRA_ARGS': '--logtostderr --listen_host=172.28.0.12 --target_host=172.28.0.12 --tunnel_background_save_url=https://colab.research.google.com/tun/m/cc48301118ce562b961b3c22d803539adc1e0c19/m-s-2ndctba68pbz6 --tunnel_background_save_delay=10s --tunnel_periodic_background_save_frequency=30m0s --enable_output_coalescing=true --output_coalescing_required=true --log_code_content', 'NV_LIBNPP_DEV_PACKAGE': 'libnpp-dev-12-2=12.2.1.4-1', 'COLAB_LANGUAGE_SERVER_PROXY_LSP_DIRS': '/datalab/web/pyright/typeshed-fallback/stdlib,/usr/local/lib/python3.10/dist-packages', 'NV_LIBCUBLAS_PACKAGE_NAME': 'libcublas-12-2', 'COLAB_KERNEL_MANAGER_PROXY_PORT': '6000', 'CLOUDSDK_PYTHON': 'python3', 'NV_LIBNPP_DEV_VERSION': '12.2.1.4-1', 'NO_GCE_CHECK': 'False', 'PYTHONPATH': '/env/python', 'NV_LIBCUSPARSE_DEV_VERSION': '12.1.2.141-1', 'LIBRARY_PATH': '/usr/local/cuda/lib64/stubs', 'NV_CUDNN_VERSION': '8.9.6.50', 'SHLVL': '0', 'NV_CUDA_LIB_VERSION': '12.2.2-1', 'COLAB_LANGUAGE_SERVER_PROXY': '/usr/colab/bin/language_service', 'NVARCH': 'x86_64', 'NV_CUDNN_PACKAGE_DEV': 'libcudnn8-dev=8.9.6.50-1+cuda12.2', 'NV_CUDA_COMPAT_PACKAGE': 'cuda-compat-12-2', 'NV_LIBNCCL_PACKAGE': 'libnccl2=2.19.3-1+cuda12.2', 'LD_LIBRARY_PATH': '/usr/local/nvidia/lib:/usr/local/nvidia/lib64', 'COLAB_GPU': '', 'NV_CUDA_NSIGHT_COMPUTE_VERSION': '12.2.2-1', 'GCS_READ_CACHE_BLOCK_SIZE_MB': '16', 'NV_NVPROF_VERSION': '12.2.142-1', 'LC_ALL': 'en_US.UTF-8', 'COLAB_FILE_HANDLER_ADDR': 'localhost:3453', 'PATH': '/opt/bin:/usr/local/nvidia/bin:/usr/local/cuda/bin:/usr/local/sbin:/usr/local/bin:/usr/sbin:/usr/bin:/sbin:/bin:/tools/node/bin:/tools/google-cloud-sdk/bin', 'NV_LIBNCCL_PACKAGE_NAME': 'libnccl2', 'COLAB_DEBUG_ADAPTER_MUX_PATH': '/usr/local/bin/dap_multiplexer', 'NV_LIBNCCL_PACKAGE_VERSION': '2.19.3-1', 'PYTHONWARNINGS': 'ignore:::pip._internal.cli.base_command', 'DEBIAN_FRONTEND': 'noninteractive', 'COLAB_BACKEND_VERSION': 'next', 'OLDPWD': '/', 'JPY_PARENT_PID': '78', 'TERM': 'xterm-color', 'CLICOLOR': '1', 'PAGER': 'cat', 'GIT_PAGER': 'cat', 'MPLBACKEND': 'module://ipykernel.pylab.backend_inline', 'ENABLE_DIRECTORYPREFETCHER': '1', 'USE_AUTH_EPHEM': '1', 'PYDEVD_USE_FRAME_EVAL': 'NO'})\n"
          ]
        }
      ]
    },
    {
      "cell_type": "markdown",
      "source": [
        "72. Write a Python program to get the details of the math module."
      ],
      "metadata": {
        "id": "pzkzbBhfbr3o"
      }
    },
    {
      "cell_type": "code",
      "source": [
        "import math\n",
        "print(dir(math))"
      ],
      "metadata": {
        "colab": {
          "base_uri": "https://localhost:8080/"
        },
        "id": "JcIcTqp4brmc",
        "outputId": "056a7545-4b28-4fc0-a0f0-72e7ebdc3f28"
      },
      "execution_count": null,
      "outputs": [
        {
          "output_type": "stream",
          "name": "stdout",
          "text": [
            "['__doc__', '__loader__', '__name__', '__package__', '__spec__', 'acos', 'acosh', 'asin', 'asinh', 'atan', 'atan2', 'atanh', 'ceil', 'comb', 'copysign', 'cos', 'cosh', 'degrees', 'dist', 'e', 'erf', 'erfc', 'exp', 'expm1', 'fabs', 'factorial', 'floor', 'fmod', 'frexp', 'fsum', 'gamma', 'gcd', 'hypot', 'inf', 'isclose', 'isfinite', 'isinf', 'isnan', 'isqrt', 'lcm', 'ldexp', 'lgamma', 'log', 'log10', 'log1p', 'log2', 'modf', 'nan', 'nextafter', 'perm', 'pi', 'pow', 'prod', 'radians', 'remainder', 'sin', 'sinh', 'sqrt', 'tan', 'tanh', 'tau', 'trunc', 'ulp']\n"
          ]
        }
      ]
    },
    {
      "cell_type": "markdown",
      "source": [
        "### Lessons so far Sep 2nd\n",
        "- A lot of these are dealing with \"system engineering\"-ish stuff, which is useful.\n",
        "- Algo thing not so much."
      ],
      "metadata": {
        "id": "Ycn6tYg3dCGF"
      }
    },
    {
      "cell_type": "code",
      "source": [
        "mat = [[1,2],[3,4],[5,6]]\n",
        "mat"
      ],
      "metadata": {
        "colab": {
          "base_uri": "https://localhost:8080/"
        },
        "id": "AKCkJ6MvZMRW",
        "outputId": "0944b5ba-a80e-454f-a617-931935af9211"
      },
      "execution_count": null,
      "outputs": [
        {
          "output_type": "execute_result",
          "data": {
            "text/plain": [
              "[[1, 2], [3, 4], [5, 6]]"
            ]
          },
          "metadata": {},
          "execution_count": 1
        }
      ]
    },
    {
      "cell_type": "code",
      "source": [
        "mat[1]"
      ],
      "metadata": {
        "colab": {
          "base_uri": "https://localhost:8080/"
        },
        "id": "zwCqEpd3sCPr",
        "outputId": "7639350e-71c3-4f8f-d79a-37f287e4bbfc"
      },
      "execution_count": null,
      "outputs": [
        {
          "output_type": "execute_result",
          "data": {
            "text/plain": [
              "[3, 4]"
            ]
          },
          "metadata": {},
          "execution_count": 2
        }
      ]
    },
    {
      "cell_type": "code",
      "source": [
        "mat[1,:]"
      ],
      "metadata": {
        "colab": {
          "base_uri": "https://localhost:8080/",
          "height": 144
        },
        "collapsed": true,
        "id": "bL-pkiIjsH1C",
        "outputId": "23ea59cd-3cdd-4bb7-8f07-ef9ba60f54ac"
      },
      "execution_count": null,
      "outputs": [
        {
          "output_type": "error",
          "ename": "TypeError",
          "evalue": "list indices must be integers or slices, not tuple",
          "traceback": [
            "\u001b[0;31m---------------------------------------------------------------------------\u001b[0m",
            "\u001b[0;31mTypeError\u001b[0m                                 Traceback (most recent call last)",
            "\u001b[0;32m<ipython-input-3-31b5731c86f6>\u001b[0m in \u001b[0;36m<cell line: 1>\u001b[0;34m()\u001b[0m\n\u001b[0;32m----> 1\u001b[0;31m \u001b[0mmat\u001b[0m\u001b[0;34m[\u001b[0m\u001b[0;36m1\u001b[0m\u001b[0;34m,\u001b[0m\u001b[0;34m:\u001b[0m\u001b[0;34m]\u001b[0m\u001b[0;34m\u001b[0m\u001b[0;34m\u001b[0m\u001b[0m\n\u001b[0m",
            "\u001b[0;31mTypeError\u001b[0m: list indices must be integers or slices, not tuple"
          ]
        }
      ]
    },
    {
      "cell_type": "code",
      "source": [
        "mat[1,[0,1]]"
      ],
      "metadata": {
        "colab": {
          "base_uri": "https://localhost:8080/",
          "height": 144
        },
        "collapsed": true,
        "id": "cIVGfi5csKNT",
        "outputId": "52ab6b2b-7b98-4989-eedf-91b06db17958"
      },
      "execution_count": null,
      "outputs": [
        {
          "output_type": "error",
          "ename": "TypeError",
          "evalue": "list indices must be integers or slices, not tuple",
          "traceback": [
            "\u001b[0;31m---------------------------------------------------------------------------\u001b[0m",
            "\u001b[0;31mTypeError\u001b[0m                                 Traceback (most recent call last)",
            "\u001b[0;32m<ipython-input-4-ff8115c3f38c>\u001b[0m in \u001b[0;36m<cell line: 1>\u001b[0;34m()\u001b[0m\n\u001b[0;32m----> 1\u001b[0;31m \u001b[0mmat\u001b[0m\u001b[0;34m[\u001b[0m\u001b[0;36m1\u001b[0m\u001b[0;34m,\u001b[0m\u001b[0;34m[\u001b[0m\u001b[0;36m0\u001b[0m\u001b[0;34m,\u001b[0m\u001b[0;36m1\u001b[0m\u001b[0;34m]\u001b[0m\u001b[0;34m]\u001b[0m\u001b[0;34m\u001b[0m\u001b[0;34m\u001b[0m\u001b[0m\n\u001b[0m",
            "\u001b[0;31mTypeError\u001b[0m: list indices must be integers or slices, not tuple"
          ]
        }
      ]
    },
    {
      "cell_type": "code",
      "source": [
        "mat[1,[0,1]]"
      ],
      "metadata": {
        "colab": {
          "base_uri": "https://localhost:8080/",
          "height": 144
        },
        "collapsed": true,
        "id": "bR2Ce1ILsjFE",
        "outputId": "b49f3d5f-6653-4366-95a6-f8b1d2dd9ad2"
      },
      "execution_count": null,
      "outputs": [
        {
          "output_type": "error",
          "ename": "TypeError",
          "evalue": "list indices must be integers or slices, not tuple",
          "traceback": [
            "\u001b[0;31m---------------------------------------------------------------------------\u001b[0m",
            "\u001b[0;31mTypeError\u001b[0m                                 Traceback (most recent call last)",
            "\u001b[0;32m<ipython-input-5-ff8115c3f38c>\u001b[0m in \u001b[0;36m<cell line: 1>\u001b[0;34m()\u001b[0m\n\u001b[0;32m----> 1\u001b[0;31m \u001b[0mmat\u001b[0m\u001b[0;34m[\u001b[0m\u001b[0;36m1\u001b[0m\u001b[0;34m,\u001b[0m\u001b[0;34m[\u001b[0m\u001b[0;36m0\u001b[0m\u001b[0;34m,\u001b[0m\u001b[0;36m1\u001b[0m\u001b[0;34m]\u001b[0m\u001b[0;34m]\u001b[0m\u001b[0;34m\u001b[0m\u001b[0;34m\u001b[0m\u001b[0m\n\u001b[0m",
            "\u001b[0;31mTypeError\u001b[0m: list indices must be integers or slices, not tuple"
          ]
        }
      ]
    },
    {
      "cell_type": "markdown",
      "source": [
        "75. Write a Python program to get the copyright information and write Copyright information in\n",
        "\n"
      ],
      "metadata": {
        "id": "79a3Kqp2Ii6A"
      }
    },
    {
      "cell_type": "code",
      "source": [
        "# Import the sys module, which provides access to Python interpreter variables and functions.\n",
        "import sys\n",
        "\n",
        "# Display module sys\n",
        "print(f'The sys module contains {dir(sys)}')\n",
        "\n",
        "# Display a header for Python copyright information.\n",
        "print(\"\\nPython Copyright Information\")\n",
        "\n",
        "# Display the copyright information about Python using sys.copyright.\n",
        "print(sys.copyright)\n",
        "\n",
        "# Print an empty line for better readability.\n",
        "print()"
      ],
      "metadata": {
        "colab": {
          "base_uri": "https://localhost:8080/"
        },
        "id": "Vn-FJLCpw481",
        "outputId": "9f620d29-bf8d-40dd-b3b8-c0fd53454a1d"
      },
      "execution_count": null,
      "outputs": [
        {
          "output_type": "stream",
          "name": "stdout",
          "text": [
            "The sys module contains ['__breakpointhook__', '__displayhook__', '__doc__', '__excepthook__', '__interactivehook__', '__loader__', '__name__', '__package__', '__spec__', '__stderr__', '__stdin__', '__stdout__', '__unraisablehook__', '_base_executable', '_clear_type_cache', '_current_exceptions', '_current_frames', '_deactivate_opcache', '_debugmallocstats', '_framework', '_getframe', '_git', '_home', '_xoptions', 'abiflags', 'addaudithook', 'api_version', 'argv', 'audit', 'base_exec_prefix', 'base_prefix', 'breakpointhook', 'builtin_module_names', 'byteorder', 'call_tracing', 'copyright', 'displayhook', 'dont_write_bytecode', 'exc_info', 'excepthook', 'exec_prefix', 'executable', 'exit', 'flags', 'float_info', 'float_repr_style', 'get_asyncgen_hooks', 'get_coroutine_origin_tracking_depth', 'get_int_max_str_digits', 'getallocatedblocks', 'getdefaultencoding', 'getdlopenflags', 'getfilesystemencodeerrors', 'getfilesystemencoding', 'getprofile', 'getrecursionlimit', 'getrefcount', 'getsizeof', 'getswitchinterval', 'gettrace', 'hash_info', 'hexversion', 'implementation', 'int_info', 'intern', 'is_finalizing', 'maxsize', 'maxunicode', 'meta_path', 'modules', 'orig_argv', 'path', 'path_hooks', 'path_importer_cache', 'platform', 'platlibdir', 'prefix', 'ps1', 'ps2', 'ps3', 'pycache_prefix', 'set_asyncgen_hooks', 'set_coroutine_origin_tracking_depth', 'set_int_max_str_digits', 'setdlopenflags', 'setprofile', 'setrecursionlimit', 'setswitchinterval', 'settrace', 'stderr', 'stdin', 'stdlib_module_names', 'stdout', 'thread_info', 'unraisablehook', 'version', 'version_info', 'warnoptions']\n",
            "\n",
            "Python Copyright Information\n",
            "Copyright (c) 2001-2023 Python Software Foundation.\n",
            "All Rights Reserved.\n",
            "\n",
            "Copyright (c) 2000 BeOpen.com.\n",
            "All Rights Reserved.\n",
            "\n",
            "Copyright (c) 1995-2001 Corporation for National Research Initiatives.\n",
            "All Rights Reserved.\n",
            "\n",
            "Copyright (c) 1991-1995 Stichting Mathematisch Centrum, Amsterdam.\n",
            "All Rights Reserved.\n",
            "\n"
          ]
        }
      ]
    },
    {
      "cell_type": "markdown",
      "source": [
        "76. Write a Python program to get the command-line arguments (name of the script, the number of arguments, arguments) passed to a script."
      ],
      "metadata": {
        "id": "fPjsZleqJ08x"
      }
    },
    {
      "cell_type": "code",
      "source": [
        "# Import the sys module to access command-line arguments and other system-specific functionality.\n",
        "import sys\n",
        "\n",
        "# Display the message \"This is the name/path of the script:\" and print the script's name or path.\n",
        "print(\"This is the name/path of the script:\"), sys.argv[0]\n",
        "\n",
        "# Display the message \"Number of arguments:\" and print the total number of command-line arguments.\n",
        "print(\"Number of arguments:\", len(sys.argv))\n",
        "\n",
        "# Display the message \"Argument List:\" and print the list of command-line arguments passed to the script.\n",
        "print(\"Argument List:\", str(sys.argv))"
      ],
      "metadata": {
        "colab": {
          "base_uri": "https://localhost:8080/"
        },
        "id": "k_K8RAVfJG-o",
        "outputId": "5702c82f-5d33-4f74-cdfd-93bc23ae330f"
      },
      "execution_count": null,
      "outputs": [
        {
          "output_type": "stream",
          "name": "stdout",
          "text": [
            "This is the name/path of the script:\n",
            "Number of arguments: 3\n",
            "Argument List: ['/usr/local/lib/python3.10/dist-packages/colab_kernel_launcher.py', '-f', '/root/.local/share/jupyter/runtime/kernel-f15a4625-16a9-4582-95b7-6fcde0941a1f.json']\n"
          ]
        }
      ]
    },
    {
      "cell_type": "markdown",
      "source": [
        "78. Write a Python program to find the available built-in modules.\n",
        "Click me to see the sample solution"
      ],
      "metadata": {
        "id": "qyCaR-SfK5R9"
      }
    },
    {
      "cell_type": "code",
      "source": [
        "import sys\n",
        "import textwrap\n",
        "# Display module sys\n",
        "\n",
        "module_names = (',').join(sorted(sys.builtin_module_names))\n",
        "print(textwrap.fill(module_names, width=70))"
      ],
      "metadata": {
        "colab": {
          "base_uri": "https://localhost:8080/"
        },
        "id": "Opc6Cj7qJ3Ix",
        "outputId": "1688990a-3ce0-4015-e8ee-08138549cd9d"
      },
      "execution_count": null,
      "outputs": [
        {
          "output_type": "stream",
          "name": "stdout",
          "text": [
            "_abc,_ast,_bisect,_blake2,_codecs,_collections,_csv,_datetime,_element\n",
            "tree,_functools,_heapq,_imp,_io,_locale,_md5,_operator,_pickle,_posixs\n",
            "ubprocess,_random,_sha1,_sha256,_sha3,_sha512,_signal,_socket,_sre,_st\n",
            "at,_statistics,_string,_struct,_symtable,_thread,_tracemalloc,_warning\n",
            "s,_weakref,array,atexit,binascii,builtins,cmath,errno,faulthandler,fcn\n",
            "tl,gc,grp,itertools,marshal,math,posix,pwd,pyexpat,select,spwd,sys,sys\n",
            "log,time,unicodedata,xxsubtype,zlib\n"
          ]
        }
      ]
    },
    {
      "cell_type": "markdown",
      "source": [
        "79. Write a Python program to get the size of an object in bytes."
      ],
      "metadata": {
        "id": "-bpSumX2RGi7"
      }
    },
    {
      "cell_type": "code",
      "source": [
        "import sys\n",
        "string = \"abc\"\n",
        "sys.getsizeof(string)"
      ],
      "metadata": {
        "colab": {
          "base_uri": "https://localhost:8080/"
        },
        "id": "jtR7aHhuK4S9",
        "outputId": "e7666030-8a14-4079-9b1e-5f5f3d599435"
      },
      "execution_count": null,
      "outputs": [
        {
          "output_type": "execute_result",
          "data": {
            "text/plain": [
              "52"
            ]
          },
          "metadata": {},
          "execution_count": 17
        }
      ]
    },
    {
      "cell_type": "markdown",
      "source": [
        "81. Write a Python program to concatenate N strings."
      ],
      "metadata": {
        "id": "sRUSU8FxRZVY"
      }
    },
    {
      "cell_type": "code",
      "source": [
        "list_of_colors = ['Red', 'White', 'Black']\n",
        "('').join(list_of_colors)"
      ],
      "metadata": {
        "colab": {
          "base_uri": "https://localhost:8080/",
          "height": 35
        },
        "id": "Z4s4wathK4PN",
        "outputId": "0f6ea6ed-bf8a-4466-a40a-153c8523cf77"
      },
      "execution_count": null,
      "outputs": [
        {
          "output_type": "execute_result",
          "data": {
            "text/plain": [
              "'RedWhiteBlack'"
            ],
            "application/vnd.google.colaboratory.intrinsic+json": {
              "type": "string"
            }
          },
          "metadata": {},
          "execution_count": 18
        }
      ]
    },
    {
      "cell_type": "markdown",
      "source": [
        "### Lessons so far Sep 3rd\n",
        "- concatenate N strings should be very useful\n",
        "- everything is an object, including a class and an instance. This is probably because everything dates back to the \"object\".\n",
        "- (',').join is now my favo line"
      ],
      "metadata": {
        "id": "F4HNxfOUSJTB"
      }
    },
    {
      "cell_type": "markdown",
      "source": [
        "82. Write a Python program to calculate the sum of all items of a container (tuple, list, set, dictionary)."
      ],
      "metadata": {
        "id": "3U5IYArPmERT"
      }
    },
    {
      "cell_type": "code",
      "source": [
        "from typing import Union # import the Union object from the typing module\n",
        "\n",
        "def magic_sum(data: Union[list, set, tuple, dict]):\n",
        "  if type(data) == dict:\n",
        "    values =  data.values()\n",
        "  else:\n",
        "    values = data\n",
        "  if all(isinstance(x, (int, float)) for x in values):   # NEP I like this. very neat.\n",
        "    return sum(values)\n",
        "  else:\n",
        "    return \"Error: Cannot sum non-numeric values.\"\n",
        "\n",
        "\n",
        "magic_sum({\"a\":\"d\",\"v\":1})"
      ],
      "metadata": {
        "colab": {
          "base_uri": "https://localhost:8080/",
          "height": 35
        },
        "id": "aMpamhYrmHGh",
        "outputId": "6e46d6ca-8e80-4621-b943-268e2f807024"
      },
      "execution_count": null,
      "outputs": [
        {
          "output_type": "execute_result",
          "data": {
            "text/plain": [
              "'Error: Cannot sum non-numeric values.'"
            ],
            "application/vnd.google.colaboratory.intrinsic+json": {
              "type": "string"
            }
          },
          "metadata": {},
          "execution_count": 12
        }
      ]
    },
    {
      "cell_type": "markdown",
      "source": [
        "83. Write a Python program to test whether all numbers in a list are greater than a certain number."
      ],
      "metadata": {
        "id": "wcsWcX5Cl3nb"
      }
    },
    {
      "cell_type": "code",
      "source": [
        "from typing import List\n",
        "def greater(data:List[int], num:int):\n",
        "  if all((x>num) for x in data):  # NEP all() and any() both very notable learning from this learning series\n",
        "    return \"Yes\"\n",
        "  else:\n",
        "    return \"No\"\n",
        "\n",
        "greater([1,2,4,4,5,6],5)"
      ],
      "metadata": {
        "colab": {
          "base_uri": "https://localhost:8080/",
          "height": 35
        },
        "id": "CFjqKzdiR1Jx",
        "outputId": "74fcb0bf-9692-424d-af0e-f2880ffb1139"
      },
      "execution_count": null,
      "outputs": [
        {
          "output_type": "execute_result",
          "data": {
            "text/plain": [
              "'No'"
            ],
            "application/vnd.google.colaboratory.intrinsic+json": {
              "type": "string"
            }
          },
          "metadata": {},
          "execution_count": 15
        }
      ]
    },
    {
      "cell_type": "markdown",
      "source": [
        "### Lessons so far on Sep 4th\n",
        "- Type hint really good exercise, esp List[int], and Union[list, set, typle]. This is standard type hint on Python.\n",
        "- Non-standardized way; may come from some library: some def of tensors look opposite: Float[Tensor, \"batch d_embed d_hidden\"]\n",
        "- fire code: if all((x>num) for x in data)\n",
        "- I like the idea of writing robust code. In reality, you should need to be aware where in the process the data structure esp would be fucked up."
      ],
      "metadata": {
        "id": "x2exmgJRuMwN"
      }
    },
    {
      "cell_type": "code",
      "source": [],
      "metadata": {
        "id": "y7KqXa_RtT6e"
      },
      "execution_count": null,
      "outputs": []
    },
    {
      "cell_type": "markdown",
      "source": [
        "### Index\n"
      ],
      "metadata": {
        "id": "BthiPclZfZYN"
      }
    },
    {
      "cell_type": "code",
      "source": [
        "import torch as t\n",
        "atensor = t.rand((2,3,4))\n",
        "atensor"
      ],
      "metadata": {
        "colab": {
          "base_uri": "https://localhost:8080/"
        },
        "id": "hmzOZTYVfc-L",
        "outputId": "736fb334-014e-4ef3-dde9-df1953dbd384"
      },
      "execution_count": null,
      "outputs": [
        {
          "output_type": "execute_result",
          "data": {
            "text/plain": [
              "tensor([[[0.1492, 0.5117, 0.5800, 0.3610],\n",
              "         [0.5777, 0.8000, 0.1020, 0.9480],\n",
              "         [0.5729, 0.4344, 0.1272, 0.4500]],\n",
              "\n",
              "        [[0.3083, 0.8115, 0.6336, 0.6244],\n",
              "         [0.2264, 0.3458, 0.4277, 0.7438],\n",
              "         [0.5375, 0.2620, 0.0412, 0.0852]]])"
            ]
          },
          "metadata": {},
          "execution_count": 2
        }
      ]
    },
    {
      "cell_type": "code",
      "source": [
        "atensor[:,1]"
      ],
      "metadata": {
        "colab": {
          "base_uri": "https://localhost:8080/"
        },
        "id": "xvsliuKsgHM0",
        "outputId": "ddbdcc02-c68e-4003-c8cb-fa3d32594c10"
      },
      "execution_count": null,
      "outputs": [
        {
          "output_type": "execute_result",
          "data": {
            "text/plain": [
              "tensor([[0.5777, 0.8000, 0.1020, 0.9480],\n",
              "        [0.2264, 0.3458, 0.4277, 0.7438]])"
            ]
          },
          "metadata": {},
          "execution_count": 3
        }
      ]
    },
    {
      "cell_type": "code",
      "source": [
        "atensor[:,1,:]"
      ],
      "metadata": {
        "colab": {
          "base_uri": "https://localhost:8080/"
        },
        "id": "B6Jd8V0NgcE2",
        "outputId": "d9978210-4563-4180-b827-b4b1d521c9df"
      },
      "execution_count": null,
      "outputs": [
        {
          "output_type": "execute_result",
          "data": {
            "text/plain": [
              "tensor([[0.5777, 0.8000, 0.1020, 0.9480],\n",
              "        [0.2264, 0.3458, 0.4277, 0.7438]])"
            ]
          },
          "metadata": {},
          "execution_count": 4
        }
      ]
    },
    {
      "cell_type": "code",
      "source": [
        "atensor[:,:,1]"
      ],
      "metadata": {
        "colab": {
          "base_uri": "https://localhost:8080/"
        },
        "id": "TjwFEARjglGt",
        "outputId": "7da994fa-45fa-46b5-dea8-914633b0cdf3"
      },
      "execution_count": null,
      "outputs": [
        {
          "output_type": "execute_result",
          "data": {
            "text/plain": [
              "tensor([[0.5117, 0.8000, 0.4344],\n",
              "        [0.8115, 0.3458, 0.2620]])"
            ]
          },
          "metadata": {},
          "execution_count": 5
        }
      ]
    },
    {
      "cell_type": "code",
      "source": [
        "atensor[:,:,1].shape"
      ],
      "metadata": {
        "colab": {
          "base_uri": "https://localhost:8080/"
        },
        "id": "YlIZE8E7i2ub",
        "outputId": "cf21fdf0-9b1b-4fd0-cd9f-8652c7b1c215"
      },
      "execution_count": null,
      "outputs": [
        {
          "output_type": "execute_result",
          "data": {
            "text/plain": [
              "torch.Size([2, 3])"
            ]
          },
          "metadata": {},
          "execution_count": 7
        }
      ]
    },
    {
      "cell_type": "code",
      "source": [
        "atensor[0,0,:]"
      ],
      "metadata": {
        "colab": {
          "base_uri": "https://localhost:8080/"
        },
        "id": "1UP15MRsjJ-K",
        "outputId": "9a700cd0-80b3-4c91-89ed-3e78923a88be"
      },
      "execution_count": null,
      "outputs": [
        {
          "output_type": "execute_result",
          "data": {
            "text/plain": [
              "tensor([0.1492, 0.5117, 0.5800, 0.3610])"
            ]
          },
          "metadata": {},
          "execution_count": 8
        }
      ]
    },
    {
      "cell_type": "code",
      "source": [
        "atensor[0,0,:].shape"
      ],
      "metadata": {
        "colab": {
          "base_uri": "https://localhost:8080/"
        },
        "id": "RL9daziCl8eH",
        "outputId": "e9752c22-4fac-458f-a152-00c9efa7295c"
      },
      "execution_count": null,
      "outputs": [
        {
          "output_type": "execute_result",
          "data": {
            "text/plain": [
              "torch.Size([4])"
            ]
          },
          "metadata": {},
          "execution_count": 9
        }
      ]
    },
    {
      "cell_type": "code",
      "source": [
        "atensor[0,0,[0,2,2,1]]"
      ],
      "metadata": {
        "colab": {
          "base_uri": "https://localhost:8080/"
        },
        "id": "tFWC4yWvmKUS",
        "outputId": "727fe6c2-d2f9-488e-f928-a9ce5fd145e1"
      },
      "execution_count": null,
      "outputs": [
        {
          "output_type": "execute_result",
          "data": {
            "text/plain": [
              "tensor([0.1492, 0.5800, 0.5800, 0.5117])"
            ]
          },
          "metadata": {},
          "execution_count": 12
        }
      ]
    },
    {
      "cell_type": "code",
      "source": [],
      "metadata": {
        "id": "Imzwe2WNmPeX"
      },
      "execution_count": null,
      "outputs": []
    },
    {
      "cell_type": "markdown",
      "source": [
        "84. Write a Python program to count the number of occurrences of a specific character in a string."
      ],
      "metadata": {
        "id": "PDmyG8MeoUgD"
      }
    },
    {
      "cell_type": "code",
      "source": [
        "def occu_char (string: str, char:str) -> int:\n",
        "  if not string:  # the case where string is an empty str\n",
        "    return 0\n",
        "  string, char = string.lower(), char.lower()\n",
        "  count = 0\n",
        "  assert len(char) ==1\n",
        "  for item in string:\n",
        "    if item == char:\n",
        "      count +=1\n",
        "  return count\n",
        "\n",
        "occu_char(\"Prudencep\", \"p\")"
      ],
      "metadata": {
        "colab": {
          "base_uri": "https://localhost:8080/"
        },
        "id": "kqvD4cERoVZD",
        "outputId": "c532905d-5aac-4305-c3b6-6766a506ad2e"
      },
      "execution_count": null,
      "outputs": [
        {
          "output_type": "execute_result",
          "data": {
            "text/plain": [
              "2"
            ]
          },
          "metadata": {},
          "execution_count": 5
        }
      ]
    },
    {
      "cell_type": "markdown",
      "source": [
        "85. Write a Python program to check whether a file path is a file or a directory."
      ],
      "metadata": {
        "id": "xAsqd1S7qbS8"
      }
    },
    {
      "cell_type": "code",
      "source": [
        "import os.path\n",
        "def path_check(path: str):\n",
        "  if not path:\n",
        "    return \"This is an empty path\"\n",
        "\n",
        "  if os.path.isfile(path):\n",
        "    return \"This is a file\"\n",
        "  elif os.path.isdir(path):\n",
        "    return \"Ths is a directory\"\n",
        "  else:\n",
        "    return \"This path does not exist or is not accessible\"\n",
        "\n",
        "path_check(\"/content.pdf\")"
      ],
      "metadata": {
        "colab": {
          "base_uri": "https://localhost:8080/",
          "height": 35
        },
        "id": "t39aXQWjpMZy",
        "outputId": "159b3c7e-6064-4bbe-bc95-d7a8c1339703"
      },
      "execution_count": null,
      "outputs": [
        {
          "output_type": "execute_result",
          "data": {
            "text/plain": [
              "'This path does not exist or is not accessible'"
            ],
            "application/vnd.google.colaboratory.intrinsic+json": {
              "type": "string"
            }
          },
          "metadata": {},
          "execution_count": 10
        }
      ]
    },
    {
      "cell_type": "markdown",
      "source": [
        "86. Write a Python program to get the ASCII value of a character."
      ],
      "metadata": {
        "id": "bNR8bWga7ko2"
      }
    },
    {
      "cell_type": "code",
      "source": [
        "ord(\"a\")"
      ],
      "metadata": {
        "colab": {
          "base_uri": "https://localhost:8080/"
        },
        "id": "EfjBg6PZrbCw",
        "outputId": "1b9baba7-16d0-46f5-b17c-1aad10d994d2"
      },
      "execution_count": null,
      "outputs": [
        {
          "output_type": "execute_result",
          "data": {
            "text/plain": [
              "97"
            ]
          },
          "metadata": {},
          "execution_count": 11
        }
      ]
    },
    {
      "cell_type": "markdown",
      "source": [
        "87. Write a Python program to get the size of a file."
      ],
      "metadata": {
        "id": "aHlw14i68xBZ"
      }
    },
    {
      "cell_type": "code",
      "source": [
        "import os.path\n",
        "import os\n",
        "c_d = os.getcwd()\n",
        "c_d\n",
        "files = os.listdir(c_d)\n",
        "files\n",
        "os.path.getsize(\".config\")"
      ],
      "metadata": {
        "colab": {
          "base_uri": "https://localhost:8080/"
        },
        "id": "6ZuiZdOH7uSF",
        "outputId": "733e0c05-b3f5-44f3-dca6-f785f250dc80"
      },
      "execution_count": null,
      "outputs": [
        {
          "output_type": "execute_result",
          "data": {
            "text/plain": [
              "4096"
            ]
          },
          "metadata": {},
          "execution_count": 19
        }
      ]
    },
    {
      "cell_type": "markdown",
      "source": [
        "91. Write a Python program to swap two variables."
      ],
      "metadata": {
        "id": "snFe8_Xe-Nbn"
      }
    },
    {
      "cell_type": "code",
      "source": [
        "def swap(variableA, variableB):\n",
        "  variableC = variableA\n",
        "  variableA = variableB\n",
        "  variableB = variableC\n",
        "  return f\"variableA is {variableA} now, and variableB is {variableB} now\"\n",
        "\n",
        "swap(5,6)"
      ],
      "metadata": {
        "colab": {
          "base_uri": "https://localhost:8080/",
          "height": 35
        },
        "id": "v4EoW04N-HLU",
        "outputId": "ddd29e3a-b8b4-4596-e026-ed867ec0f4bd"
      },
      "execution_count": null,
      "outputs": [
        {
          "output_type": "execute_result",
          "data": {
            "text/plain": [
              "'variableA is 6 now, and variableB is 5 now'"
            ],
            "application/vnd.google.colaboratory.intrinsic+json": {
              "type": "string"
            }
          },
          "metadata": {},
          "execution_count": 24
        }
      ]
    },
    {
      "cell_type": "markdown",
      "source": [
        "Note: The program above likely creates a shawllow copy where the mutation of variableA will also affect variableC.\n",
        "To create a \"deep\" copy independent from the mutation of original variable, we should do\n",
        "\n",
        "\n",
        "```\n",
        "import copy\n",
        "variableC = copy.deepcopy(variableA)\n",
        "```\n",
        "\n"
      ],
      "metadata": {
        "id": "K9J74mQJ_q1Z"
      }
    },
    {
      "cell_type": "markdown",
      "source": [
        "### Lessons so far Sep 5th\n",
        "- Be aware of the difference between shallow and deep copy. The mutation of original variable would affect shallow copy\n",
        "- 'os.path' plays an important role in \"talking to the systems\""
      ],
      "metadata": {
        "id": "_HWyXT6KAV4j"
      }
    },
    {
      "cell_type": "markdown",
      "source": [
        "93. Write a Python program to get the Identity, Type, and Value of an object."
      ],
      "metadata": {
        "id": "cIlTNRRyy1aa"
      }
    },
    {
      "cell_type": "code",
      "source": [
        "def identity_print(obj):\n",
        "  print(f'the identity of this object is {obj}')\n",
        "  print(f'the type of this object is {type(obj)}')\n",
        "  print(f'the ID of this object is {id(obj)}')\n",
        "\n",
        "x = 34\n",
        "identity_print(x)\n",
        "y = list\n",
        "identity_print(y)"
      ],
      "metadata": {
        "colab": {
          "base_uri": "https://localhost:8080/"
        },
        "id": "hXM845m9-8fq",
        "outputId": "6f04d082-ddf5-4945-9b78-99085610a0c8"
      },
      "execution_count": null,
      "outputs": [
        {
          "output_type": "stream",
          "name": "stdout",
          "text": [
            "the identity of this object is 34\n",
            "the type of this object is <class 'int'>\n",
            "the ID of this object is 136582417499408\n",
            "the identity of this object is <class 'list'>\n",
            "the type of this object is <class 'type'>\n",
            "the ID of this object is 96970458196736\n"
          ]
        }
      ]
    },
    {
      "cell_type": "markdown",
      "source": [
        "Lessons on Sep 7\n",
        "- I know that everything is object on Python now\n",
        "- learned the difference between function() and object.method()  # Nep: very important\n",
        "- ACSII & Bytes"
      ],
      "metadata": {
        "id": "sHuQDsdI4vQh"
      }
    },
    {
      "cell_type": "markdown",
      "source": [
        "94. Write a Python program to convert the bytes in a given string to a list of integers.\n",
        "Click me to see the sample solution"
      ],
      "metadata": {
        "id": "pVr8MyASWerx"
      }
    },
    {
      "cell_type": "code",
      "source": [
        "def convert_bytes (b):\n",
        "  return list(b)\n",
        "\n",
        "bytes_b = b\"AbC\"\n",
        "convert_bytes(bytes_b)"
      ],
      "metadata": {
        "id": "EnClPX-E1U4r",
        "colab": {
          "base_uri": "https://localhost:8080/"
        },
        "outputId": "81a34ce6-950d-453a-ba60-a5a942f09697"
      },
      "execution_count": null,
      "outputs": [
        {
          "output_type": "execute_result",
          "data": {
            "text/plain": [
              "[65, 98, 67]"
            ]
          },
          "metadata": {},
          "execution_count": 1
        }
      ]
    },
    {
      "cell_type": "markdown",
      "source": [
        "95. Write a Python program to check whether a string is numeric.\n"
      ],
      "metadata": {
        "id": "GNGvVQjOW6rg"
      }
    },
    {
      "cell_type": "code",
      "source": [
        "test_n = int(\"1234r\")\n",
        "test_n"
      ],
      "metadata": {
        "colab": {
          "base_uri": "https://localhost:8080/",
          "height": 162
        },
        "id": "3EK42hdpXDm1",
        "outputId": "fc8b03ed-58b3-4e28-e9d2-fdfa0c19776e"
      },
      "execution_count": null,
      "outputs": [
        {
          "output_type": "error",
          "ename": "ValueError",
          "evalue": "invalid literal for int() with base 10: '1234r'",
          "traceback": [
            "\u001b[0;31m---------------------------------------------------------------------------\u001b[0m",
            "\u001b[0;31mValueError\u001b[0m                                Traceback (most recent call last)",
            "\u001b[0;32m<ipython-input-4-4ade4f44155c>\u001b[0m in \u001b[0;36m<cell line: 1>\u001b[0;34m()\u001b[0m\n\u001b[0;32m----> 1\u001b[0;31m \u001b[0mtest_n\u001b[0m \u001b[0;34m=\u001b[0m \u001b[0mint\u001b[0m\u001b[0;34m(\u001b[0m\u001b[0;34m\"1234r\"\u001b[0m\u001b[0;34m)\u001b[0m\u001b[0;34m\u001b[0m\u001b[0;34m\u001b[0m\u001b[0m\n\u001b[0m\u001b[1;32m      2\u001b[0m \u001b[0mtest_n\u001b[0m\u001b[0;34m\u001b[0m\u001b[0;34m\u001b[0m\u001b[0m\n",
            "\u001b[0;31mValueError\u001b[0m: invalid literal for int() with base 10: '1234r'"
          ]
        }
      ]
    },
    {
      "cell_type": "code",
      "source": [
        "def numeric (string:str):\n",
        "  try:\n",
        "    float(string)\n",
        "    return \"Yes this string is numeric\"\n",
        "  except ValueError:  # I am surprised to learn that there is a built-in object named \"ValueError\"\n",
        "    return \"No this string is not 100% numeric\"\n",
        "\n",
        "numeric('12a4')"
      ],
      "metadata": {
        "colab": {
          "base_uri": "https://localhost:8080/",
          "height": 35
        },
        "id": "xUM_B2fkWuvK",
        "outputId": "2b0f639b-1ed3-472a-a00b-4556c652f4e5"
      },
      "execution_count": null,
      "outputs": [
        {
          "output_type": "execute_result",
          "data": {
            "text/plain": [
              "'No this string is not 100% numeric'"
            ],
            "application/vnd.google.colaboratory.intrinsic+json": {
              "type": "string"
            }
          },
          "metadata": {},
          "execution_count": 12
        }
      ]
    },
    {
      "cell_type": "markdown",
      "source": [
        "97. Write a Python program to list the special variables used in the language.\n",
        "\n",
        "NEP NOTE: I am copying all the methods from Gemini & Claude & Solution. But I am unsure which one is correct. Maybe the solution (last one)."
      ],
      "metadata": {
        "id": "v44oiva4b4RJ"
      }
    },
    {
      "cell_type": "code",
      "source": [
        "s_var = dir()\n",
        "print(s_var)"
      ],
      "metadata": {
        "colab": {
          "base_uri": "https://localhost:8080/"
        },
        "id": "qK6MTtRaYX5j",
        "outputId": "5c4dc37a-d89d-4e3d-977e-8c52af0a1676"
      },
      "execution_count": null,
      "outputs": [
        {
          "output_type": "stream",
          "name": "stdout",
          "text": [
            "['In', 'Out', '_', '_1', '_10', '_11', '_12', '_2', '_3', '_6', '_7', '_8', '_9', '__', '___', '__builtin__', '__builtins__', '__doc__', '__loader__', '__name__', '__package__', '__spec__', '_dh', '_i', '_i1', '_i10', '_i11', '_i12', '_i13', '_i2', '_i3', '_i4', '_i5', '_i6', '_i7', '_i8', '_i9', '_ih', '_ii', '_iii', '_oh', 'bytes_b', 'convert_bytes', 'exit', 'get_ipython', 'numeric', 'quit', 'test_n']\n"
          ]
        }
      ]
    },
    {
      "cell_type": "code",
      "source": [
        "print('\\n'.join([f\"{name}: {getattr(__builtins__, name)}\" for name in dir(__builtins__) if name.startswith('__') and name.endswith('__')]))\n"
      ],
      "metadata": {
        "colab": {
          "base_uri": "https://localhost:8080/"
        },
        "id": "ZwPIEIq_csLB",
        "outputId": "b56a8362-06c7-4563-aeff-c61914025627"
      },
      "execution_count": null,
      "outputs": [
        {
          "output_type": "stream",
          "name": "stdout",
          "text": [
            "__IPYTHON__: True\n",
            "__build_class__: <built-in function __build_class__>\n",
            "__debug__: True\n",
            "__doc__: Built-in functions, exceptions, and other objects.\n",
            "\n",
            "Noteworthy: None is the `nil' object; Ellipsis represents `...' in slices.\n",
            "__import__: <built-in function __import__>\n",
            "__loader__: <class '_frozen_importlib.BuiltinImporter'>\n",
            "__name__: builtins\n",
            "__package__: \n",
            "__spec__: ModuleSpec(name='builtins', loader=<class '_frozen_importlib.BuiltinImporter'>, origin='built-in')\n"
          ]
        }
      ]
    },
    {
      "cell_type": "code",
      "source": [
        "# Import the necessary modules.\n",
        "\n",
        "# Create a set 's_var_names' containing unique variable names in the global namespace.\n",
        "s_var_names = sorted((set(globals().keys()) | set(__builtins__.__dict__.keys())) - set('_ names i'.split()))\n",
        "\n",
        "# Print an empty line for formatting.\n",
        "print()\n",
        "\n",
        "# Join variable names in groups of 8 and print them for better readability.\n",
        "print( '\\n'.join(' '.join(s_var_names[i:i+8]) for i in range(0, len(s_var_names), 8)) )\n",
        "\n",
        "# Print an empty line for formatting.\n",
        "print()"
      ],
      "metadata": {
        "colab": {
          "base_uri": "https://localhost:8080/"
        },
        "id": "xeN26Kw9c0PZ",
        "outputId": "35f59152-ea5f-4ca1-e387-5f1918667e14"
      },
      "execution_count": null,
      "outputs": [
        {
          "output_type": "stream",
          "name": "stdout",
          "text": [
            "\n",
            "ArithmeticError AssertionError AttributeError BaseException BlockingIOError BrokenPipeError BufferError BytesWarning\n",
            "ChildProcessError ConnectionAbortedError ConnectionError ConnectionRefusedError ConnectionResetError DeprecationWarning EOFError Ellipsis\n",
            "EncodingWarning EnvironmentError Exception False FileExistsError FileNotFoundError FloatingPointError FutureWarning\n",
            "GeneratorExit IOError ImportError ImportWarning In IndentationError IndexError InterruptedError\n",
            "IsADirectoryError KeyError KeyboardInterrupt LookupError MemoryError ModuleNotFoundError NameError None\n",
            "NotADirectoryError NotImplemented NotImplementedError OSError Out OverflowError PendingDeprecationWarning PermissionError\n",
            "ProcessLookupError RecursionError ReferenceError ResourceWarning RuntimeError RuntimeWarning StopAsyncIteration StopIteration\n",
            "SyntaxError SyntaxWarning SystemError SystemExit TabError TimeoutError True TypeError\n",
            "UnboundLocalError UnicodeDecodeError UnicodeEncodeError UnicodeError UnicodeTranslateError UnicodeWarning UserWarning ValueError\n",
            "Warning ZeroDivisionError _1 _10 _11 _12 _2 _3\n",
            "_6 _7 _8 _9 __ __IPYTHON__ ___ __build_class__\n",
            "__builtin__ __builtins__ __debug__ __doc__ __import__ __loader__ __name__ __package__\n",
            "__spec__ _dh _i _i1 _i10 _i11 _i12 _i13\n",
            "_i14 _i15 _i2 _i3 _i4 _i5 _i6 _i7\n",
            "_i8 _i9 _ih _ii _iii _oh abs aiter\n",
            "all anext any ascii bin bool breakpoint bytearray\n",
            "bytes bytes_b callable chr classmethod compile complex convert_bytes\n",
            "copyright credits delattr dict dir display divmod enumerate\n",
            "eval exec execfile exit filter float format frozenset\n",
            "get_ipython getattr globals hasattr hash help hex id\n",
            "input int isinstance issubclass iter len license list\n",
            "locals map max memoryview min next numeric object\n",
            "oct open ord pow print property quit range\n",
            "repr reversed round runfile s_var set setattr slice\n",
            "sorted staticmethod str sum super test_n tuple type\n",
            "vars zip\n",
            "\n"
          ]
        }
      ]
    },
    {
      "cell_type": "markdown",
      "source": [
        "98. Write a Python program to get system time.\n",
        "\n",
        "Note : The system time is important for debugging, network information, random number seeds, or something as simple as program performance."
      ],
      "metadata": {
        "id": "xFN23v8sdZXI"
      }
    },
    {
      "cell_type": "code",
      "source": [
        "import time\n",
        "print(time.ctime())"
      ],
      "metadata": {
        "colab": {
          "base_uri": "https://localhost:8080/"
        },
        "id": "bhj0r51Ac47K",
        "outputId": "99b3af5f-c5a3-4ab9-c28d-77973735f72e"
      },
      "execution_count": null,
      "outputs": [
        {
          "output_type": "stream",
          "name": "stdout",
          "text": [
            "Tue Sep 10 19:44:19 2024\n"
          ]
        }
      ]
    },
    {
      "cell_type": "markdown",
      "source": [
        "99. Write a Python program to clear the screen or terminal."
      ],
      "metadata": {
        "id": "dk6ZeGQXd5ye"
      }
    },
    {
      "cell_type": "code",
      "source": [
        "# Import the 'os' and 'time' modules to work with system commands and time-related functions, respectively.\n",
        "\n",
        "import os\n",
        "import time\n",
        "\n",
        "# Execute the 'ls' command to list the contents of the current directory.\n",
        "os.system(\"ls\")\n",
        "# Pause the program's execution for 2 seconds.\n",
        "time.sleep(2)\n",
        "\n",
        "# Clear the terminal screen. (This comment is not entirely accurate; 'os.system('clear')' is used to clear the terminal screen.)\n",
        "os.system('clear')\n",
        "\n",
        "# NEP I don't think such a thing would work here, as we are not on terminal."
      ],
      "metadata": {
        "colab": {
          "base_uri": "https://localhost:8080/"
        },
        "id": "2rNvAEkvea--",
        "outputId": "d585eb6f-4ae2-47ed-d925-c73fa3846f82"
      },
      "execution_count": null,
      "outputs": [
        {
          "output_type": "execute_result",
          "data": {
            "text/plain": [
              "0"
            ]
          },
          "metadata": {},
          "execution_count": 19
        }
      ]
    },
    {
      "cell_type": "markdown",
      "source": [
        "100. Write a Python program to get the name of the host on which the routine is running.\n"
      ],
      "metadata": {
        "id": "RYWK0hh6fE2G"
      }
    },
    {
      "cell_type": "code",
      "source": [
        "# Import the 'socket' module to work with networking functionalities.\n",
        "\n",
        "import socket\n",
        "# Use 'socket.gethostname()' to retrieve the name of the current host or machine.\n",
        "host_name = socket.gethostname()\n",
        "\n",
        "# Print the host name to the console.\n",
        "print(\"Host name:\", host_name)"
      ],
      "metadata": {
        "colab": {
          "base_uri": "https://localhost:8080/"
        },
        "id": "CqUsLtAhdvkZ",
        "outputId": "69153b08-94fa-4153-d341-130f50038f5a"
      },
      "execution_count": null,
      "outputs": [
        {
          "output_type": "stream",
          "name": "stdout",
          "text": [
            "Host name: ec825dee79bd\n"
          ]
        }
      ]
    },
    {
      "cell_type": "markdown",
      "source": [
        "101. Write a Python program to access and print a URL's content to the console.\n"
      ],
      "metadata": {
        "id": "mdRvrOHJA32O"
      }
    },
    {
      "cell_type": "markdown",
      "source": [
        "### Lessons so far by Sep 10\n",
        "-"
      ],
      "metadata": {
        "id": "xa3gneBbGyuT"
      }
    },
    {
      "cell_type": "code",
      "source": [
        "import urllib.request\n",
        "url = \"https://hezhonghao.github.io/\"\n",
        "try:\n",
        "  with urllib.request.urlopen(url) as response:\n",
        "    content = response.read().decode(\"utf-8\")\n",
        "    print(content)\n",
        "except urllib.error.URLError as e:\n",
        "  print(f\"Error accessing the URL: {e}\")\n"
      ],
      "metadata": {
        "colab": {
          "base_uri": "https://localhost:8080/"
        },
        "id": "8BVZBNVYBR1_",
        "outputId": "39713919-b467-4df9-9bf6-fb64ab8ccbf6"
      },
      "execution_count": null,
      "outputs": [
        {
          "output_type": "stream",
          "name": "stdout",
          "text": [
            "<!DOCTYPE html>\n",
            "<html>\n",
            "<head>\n",
            "    <link rel='stylesheet' href='https://fonts.googleapis.com/css2?family=Roboto:wght@400;700&display=swap'>\n",
            "    <style>\n",
            "        body {\n",
            "            font-family: 'Roboto', sans-serif;\n",
            "            margin: 10;\n",
            "            padding-left: 200px;   /* left and right margin */ \n",
            "            padding-right: 200px;\n",
            "            display: flex;\n",
            "            flex-direction: column;\n",
            "            justify-content: center;\n",
            "            align-items: left;\n",
            "            height: 100vh; /* Full height for centering */\n",
            "            text-align: left;\n",
            "            padding: 20px;\n",
            "            box-sizing: border-box;\n",
            "        }\n",
            "        a {\n",
            "            display: inline;\n",
            "        }\n",
            "        p {\n",
            "            line-height: 1.5;  /* spacing */\n",
            "            margin: 10px 0; /* Add margin for additional spacing */\n",
            "        }\n",
            "        footer {\n",
            "            position: fixed;\n",
            "            bottom: 0;\n",
            "            width: 100%;\n",
            "            text-align: center;\n",
            "            padding: 10px;\n",
            "            background-color: #f1f1f1;\n",
            "        }\n",
            "        footer a {\n",
            "            margin: 0 10px;\n",
            "            text-decoration: none;\n",
            "            color: #000;\n",
            "        }\n",
            "        /* Space between sections */\n",
            "        .intro {\n",
            "             margin-bottom: 40px; /* More space after intro section */\n",
            "        }\n",
            "\n",
            "        .research {\n",
            "            margin-bottom: 40px; /* More space after research section */\n",
            "        }\n",
            "    </style>\n",
            "</head>\n",
            "<body>\n",
            "\n",
            "<div class=\"intro\">\n",
            "<h1>Zhonghao He</h1>\n",
            "<p>Hi! I am Zhonghao, a master's student at the University of Cambridge.</p>\n",
            "\n",
            "<p>My research interests started with <a href=\"https://arxiv.org/abs/2408.12664\">interpretability</a> and <a href=\"https://alignmentsurvey.com/\">AI alignment</a>. On the one hand it's about understanding the machines in front of us; on the other hand it's about effective cooperation between humans and machines.</p>\n",
            "\n",
            "<p>Ultimately, I want to build AIs for human excellence (in Greek conception), which requires both sound societal mechanism design and epistemic tools with which individuals can better exercise their agency.</p>\n",
            "\n",
            "<p>A lot of effort is required to operationalize those concepts, but currently I am actively exloring the following topics: mechanistic interpretability, computational neuroscience, AI ethics, alignment, political philosophy, virtue ethics, multi-agent systems, AI for science, and human-computer interface, and collective intelligence.</p>\n",
            "</div>\n",
            "\n",
            "<div class=\"Research\">\n",
            "<h2>Research</h2>\n",
            "<p>You may read my published work on <a href=\"https://scholar.google.com/citations?user=PuUcZTYAAAAJ&hl=en&oi=ao\">Google Scholar</a>.</p>\n",
            "<p>\n",
            "My current \"<a href=\"https://www.cs.virginia.edu/~robins/YouAndYourResearch.html\">Hamming Problems</a>\" (the most important problems I can work on) are:\n",
            "<ul>\n",
            "    <li>How does knowledge diversity get lost from training and using LLM? (an ongoing <a href]\"https://docs.google.com/document/d/167yB9PMSPP5yRnu4_VmWkR3zG0rXRwQApnm5YVNJZag/edit\"> research paper aiming for ICLR)</a></li>\n",
            "    <li>How do we better understand neural networks with mechanistic interpretability, information theory, and neuroscience? (<a href=\"https://arxiv.org/abs/2408.12664\">a survey here</a>)</li>\n",
            "    <li>What knowledge assistant helps humans to think better?</li> (exploring this topic in this <a href=\"https://docs.google.com/document/d/1psEHZkrWzuQMMYVnorSFO8anTczMc5o7beR7JOTIEs4/edit?usp=sharing\">doc</a>)</li>\n",
            "</ul>\n",
            "</p>\n",
            "<p>I strive to become a \"full stack researcher,\" which, in my definition, is to have technical sophistication (experiments, mathematics, and engineering) and deep engagements with problems (technical and societal ones). Building technologies for human betterment is hard, and let's get this one right.\n",
            "</p>\n",
            "<p>Here is <a href=\"https://docs.google.com/document/d/1lICZ5ftJwZbVLm2f0NockRuwiDryhxRhHEXF4jg76dM/edit\">a list of research projects</a> I am interested in working on.\n",
            "</p>\n",
            "</div>\n",
            "\n",
            "<div class=\"Contact\">\n",
            "<h2>Contacts</h2>\n",
            "<p>\n",
            "I love free-flow research conversations! You may simply book a quick call via <a href=\"calendly.com/hezhonghao\">Calendly </a>. (I blocked deep work, sleep, and private time, so don't worry!). You may drop me an email at zh378@cam.ac.uk \n",
            "</p>\n",
            "</div>\n",
            "<footer>\n",
            "    <a href='https://scholar.google.com/citations?user=PuUcZTYAAAAJ&hl=en&oi=ao'>Google Scholar</a> | \n",
            "    <a href='https://github.com/hezhonghao'>GitHub</a> | \n",
            "    <a href='https://twitter.com/zhonghaohe'>Twitter</a>\n",
            "</footer>\n",
            "</body>\n",
            "</html>\n"
          ]
        }
      ]
    },
    {
      "cell_type": "code",
      "source": [
        "import urllib.request\n",
        "\n",
        "url = \"https://hezhonghao.github.io\"\n",
        "\n",
        "try:\n",
        "    with urllib.request.urlopen(url) as response:\n",
        "        # Without decoding\n",
        "        content_bytes = response.read()\n",
        "        print(\"Without decoding:\")\n",
        "        print(content_bytes)\n",
        "\n",
        "        print(\"\\nWith decoding:\")\n",
        "        # With decoding\n",
        "        content_str = content_bytes.decode('utf-8')\n",
        "        print(content_str)\n",
        "except urllib.error.URLError as e:\n",
        "    print(f\"Error accessing the URL: {e}\")\n",
        "\n"
      ],
      "metadata": {
        "colab": {
          "base_uri": "https://localhost:8080/"
        },
        "collapsed": true,
        "id": "kYyIhFwwCjBM",
        "outputId": "d2f451e5-06df-4986-9051-00384a85d322"
      },
      "execution_count": null,
      "outputs": [
        {
          "output_type": "stream",
          "name": "stdout",
          "text": [
            "Without decoding:\n",
            "b'<!DOCTYPE html>\\n<html>\\n<head>\\n    <link rel=\\'stylesheet\\' href=\\'https://fonts.googleapis.com/css2?family=Roboto:wght@400;700&display=swap\\'>\\n    <style>\\n        body {\\n            font-family: \\'Roboto\\', sans-serif;\\n            margin: 10;\\n            padding-left: 200px;   /* left and right margin */ \\n            padding-right: 200px;\\n            display: flex;\\n            flex-direction: column;\\n            justify-content: center;\\n            align-items: left;\\n            height: 100vh; /* Full height for centering */\\n            text-align: left;\\n            padding: 20px;\\n            box-sizing: border-box;\\n        }\\n        a {\\n            display: inline;\\n        }\\n        p {\\n            line-height: 1.5;  /* spacing */\\n            margin: 10px 0; /* Add margin for additional spacing */\\n        }\\n        footer {\\n            position: fixed;\\n            bottom: 0;\\n            width: 100%;\\n            text-align: center;\\n            padding: 10px;\\n            background-color: #f1f1f1;\\n        }\\n        footer a {\\n            margin: 0 10px;\\n            text-decoration: none;\\n            color: #000;\\n        }\\n        /* Space between sections */\\n        .intro {\\n             margin-bottom: 40px; /* More space after intro section */\\n        }\\n\\n        .research {\\n            margin-bottom: 40px; /* More space after research section */\\n        }\\n    </style>\\n</head>\\n<body>\\n\\n<div class=\"intro\">\\n<h1>Zhonghao He</h1>\\n<p>Hi! I am Zhonghao, a master\\'s student at the University of Cambridge.</p>\\n\\n<p>My research interests started with <a href=\"https://arxiv.org/abs/2408.12664\">interpretability</a> and <a href=\"https://alignmentsurvey.com/\">AI alignment</a>. On the one hand it\\'s about understanding the machines in front of us; on the other hand it\\'s about effective cooperation between humans and machines.</p>\\n\\n<p>Ultimately, I want to build AIs for human excellence (in Greek conception), which requires both sound societal mechanism design and epistemic tools with which individuals can better exercise their agency.</p>\\n\\n<p>A lot of effort is required to operationalize those concepts, but currently I am actively exloring the following topics: mechanistic interpretability, computational neuroscience, AI ethics, alignment, political philosophy, virtue ethics, multi-agent systems, AI for science, and human-computer interface, and collective intelligence.</p>\\n</div>\\n\\n<div class=\"Research\">\\n<h2>Research</h2>\\n<p>You may read my published work on <a href=\"https://scholar.google.com/citations?user=PuUcZTYAAAAJ&hl=en&oi=ao\">Google Scholar</a>.</p>\\n<p>\\nMy current \"<a href=\"https://www.cs.virginia.edu/~robins/YouAndYourResearch.html\">Hamming Problems</a>\" (the most important problems I can work on) are:\\n<ul>\\n    <li>How does knowledge diversity get lost from training and using LLM? (an ongoing <a href]\"https://docs.google.com/document/d/167yB9PMSPP5yRnu4_VmWkR3zG0rXRwQApnm5YVNJZag/edit\"> research paper aiming for ICLR)</a></li>\\n    <li>How do we better understand neural networks with mechanistic interpretability, information theory, and neuroscience? (<a href=\"https://arxiv.org/abs/2408.12664\">a survey here</a>)</li>\\n    <li>What knowledge assistant helps humans to think better?</li> (exploring this topic in this <a href=\"https://docs.google.com/document/d/1psEHZkrWzuQMMYVnorSFO8anTczMc5o7beR7JOTIEs4/edit?usp=sharing\">doc</a>)</li>\\n</ul>\\n</p>\\n<p>I strive to become a \"full stack researcher,\" which, in my definition, is to have technical sophistication (experiments, mathematics, and engineering) and deep engagements with problems (technical and societal ones). Building technologies for human betterment is hard, and let\\'s get this one right.\\n</p>\\n<p>Here is <a href=\"https://docs.google.com/document/d/1lICZ5ftJwZbVLm2f0NockRuwiDryhxRhHEXF4jg76dM/edit\">a list of research projects</a> I am interested in working on.\\n</p>\\n</div>\\n\\n<div class=\"Contact\">\\n<h2>Contacts</h2>\\n<p>\\nI love free-flow research conversations! You may simply book a quick call via <a href=\"calendly.com/hezhonghao\">Calendly </a>. (I blocked deep work, sleep, and private time, so don\\'t worry!). You may drop me an email at zh378@cam.ac.uk \\n</p>\\n</div>\\n<footer>\\n    <a href=\\'https://scholar.google.com/citations?user=PuUcZTYAAAAJ&hl=en&oi=ao\\'>Google Scholar</a> | \\n    <a href=\\'https://github.com/hezhonghao\\'>GitHub</a> | \\n    <a href=\\'https://twitter.com/zhonghaohe\\'>Twitter</a>\\n</footer>\\n</body>\\n</html>'\n",
            "\n",
            "With decoding:\n",
            "<!DOCTYPE html>\n",
            "<html>\n",
            "<head>\n",
            "    <link rel='stylesheet' href='https://fonts.googleapis.com/css2?family=Roboto:wght@400;700&display=swap'>\n",
            "    <style>\n",
            "        body {\n",
            "            font-family: 'Roboto', sans-serif;\n",
            "            margin: 10;\n",
            "            padding-left: 200px;   /* left and right margin */ \n",
            "            padding-right: 200px;\n",
            "            display: flex;\n",
            "            flex-direction: column;\n",
            "            justify-content: center;\n",
            "            align-items: left;\n",
            "            height: 100vh; /* Full height for centering */\n",
            "            text-align: left;\n",
            "            padding: 20px;\n",
            "            box-sizing: border-box;\n",
            "        }\n",
            "        a {\n",
            "            display: inline;\n",
            "        }\n",
            "        p {\n",
            "            line-height: 1.5;  /* spacing */\n",
            "            margin: 10px 0; /* Add margin for additional spacing */\n",
            "        }\n",
            "        footer {\n",
            "            position: fixed;\n",
            "            bottom: 0;\n",
            "            width: 100%;\n",
            "            text-align: center;\n",
            "            padding: 10px;\n",
            "            background-color: #f1f1f1;\n",
            "        }\n",
            "        footer a {\n",
            "            margin: 0 10px;\n",
            "            text-decoration: none;\n",
            "            color: #000;\n",
            "        }\n",
            "        /* Space between sections */\n",
            "        .intro {\n",
            "             margin-bottom: 40px; /* More space after intro section */\n",
            "        }\n",
            "\n",
            "        .research {\n",
            "            margin-bottom: 40px; /* More space after research section */\n",
            "        }\n",
            "    </style>\n",
            "</head>\n",
            "<body>\n",
            "\n",
            "<div class=\"intro\">\n",
            "<h1>Zhonghao He</h1>\n",
            "<p>Hi! I am Zhonghao, a master's student at the University of Cambridge.</p>\n",
            "\n",
            "<p>My research interests started with <a href=\"https://arxiv.org/abs/2408.12664\">interpretability</a> and <a href=\"https://alignmentsurvey.com/\">AI alignment</a>. On the one hand it's about understanding the machines in front of us; on the other hand it's about effective cooperation between humans and machines.</p>\n",
            "\n",
            "<p>Ultimately, I want to build AIs for human excellence (in Greek conception), which requires both sound societal mechanism design and epistemic tools with which individuals can better exercise their agency.</p>\n",
            "\n",
            "<p>A lot of effort is required to operationalize those concepts, but currently I am actively exloring the following topics: mechanistic interpretability, computational neuroscience, AI ethics, alignment, political philosophy, virtue ethics, multi-agent systems, AI for science, and human-computer interface, and collective intelligence.</p>\n",
            "</div>\n",
            "\n",
            "<div class=\"Research\">\n",
            "<h2>Research</h2>\n",
            "<p>You may read my published work on <a href=\"https://scholar.google.com/citations?user=PuUcZTYAAAAJ&hl=en&oi=ao\">Google Scholar</a>.</p>\n",
            "<p>\n",
            "My current \"<a href=\"https://www.cs.virginia.edu/~robins/YouAndYourResearch.html\">Hamming Problems</a>\" (the most important problems I can work on) are:\n",
            "<ul>\n",
            "    <li>How does knowledge diversity get lost from training and using LLM? (an ongoing <a href]\"https://docs.google.com/document/d/167yB9PMSPP5yRnu4_VmWkR3zG0rXRwQApnm5YVNJZag/edit\"> research paper aiming for ICLR)</a></li>\n",
            "    <li>How do we better understand neural networks with mechanistic interpretability, information theory, and neuroscience? (<a href=\"https://arxiv.org/abs/2408.12664\">a survey here</a>)</li>\n",
            "    <li>What knowledge assistant helps humans to think better?</li> (exploring this topic in this <a href=\"https://docs.google.com/document/d/1psEHZkrWzuQMMYVnorSFO8anTczMc5o7beR7JOTIEs4/edit?usp=sharing\">doc</a>)</li>\n",
            "</ul>\n",
            "</p>\n",
            "<p>I strive to become a \"full stack researcher,\" which, in my definition, is to have technical sophistication (experiments, mathematics, and engineering) and deep engagements with problems (technical and societal ones). Building technologies for human betterment is hard, and let's get this one right.\n",
            "</p>\n",
            "<p>Here is <a href=\"https://docs.google.com/document/d/1lICZ5ftJwZbVLm2f0NockRuwiDryhxRhHEXF4jg76dM/edit\">a list of research projects</a> I am interested in working on.\n",
            "</p>\n",
            "</div>\n",
            "\n",
            "<div class=\"Contact\">\n",
            "<h2>Contacts</h2>\n",
            "<p>\n",
            "I love free-flow research conversations! You may simply book a quick call via <a href=\"calendly.com/hezhonghao\">Calendly </a>. (I blocked deep work, sleep, and private time, so don't worry!). You may drop me an email at zh378@cam.ac.uk \n",
            "</p>\n",
            "</div>\n",
            "<footer>\n",
            "    <a href='https://scholar.google.com/citations?user=PuUcZTYAAAAJ&hl=en&oi=ao'>Google Scholar</a> | \n",
            "    <a href='https://github.com/hezhonghao'>GitHub</a> | \n",
            "    <a href='https://twitter.com/zhonghaohe'>Twitter</a>\n",
            "</footer>\n",
            "</body>\n",
            "</html>\n"
          ]
        }
      ]
    },
    {
      "cell_type": "markdown",
      "source": [
        "103. Write a Python program to extract the filename from a given path.\n"
      ],
      "metadata": {
        "id": "rzAcE4b4F0nk"
      }
    },
    {
      "cell_type": "code",
      "source": [
        "# Import the 'os' module for operating system-related functions.\n",
        "import os\n",
        "\n",
        "# Print a newline for clarity.\n",
        "print()\n",
        "\n",
        "# Use 'os.path.basename' to extract the filename component from the given path.\n",
        "# In this case, it extracts the filename 'homework-1.py' from the provided path.\n",
        "print(os.path.basename('/users/system1/student1/homework-1.py'))\n",
        "\n",
        "# Print another newline for clarity.\n",
        "print()"
      ],
      "metadata": {
        "colab": {
          "base_uri": "https://localhost:8080/"
        },
        "id": "xlsmvbN7EbZJ",
        "outputId": "92a87dad-a4c2-49b5-92a4-e4691c4abf59"
      },
      "execution_count": null,
      "outputs": [
        {
          "output_type": "stream",
          "name": "stdout",
          "text": [
            "\n",
            "homework-1.py\n",
            "\n"
          ]
        }
      ]
    },
    {
      "cell_type": "markdown",
      "source": [
        "### Lessons so far on Sep 11\n",
        "- the web interaction very helfpul\n",
        "- If you don't read web content with \".decode(\"utf-8\")\" decoding, you would by default get bytes decoding, which means they Python would not read \"\\n\" as line seperator but instead as just \"\\n\", resulting one-linear output."
      ],
      "metadata": {
        "id": "n4crirP0GUCf"
      }
    },
    {
      "cell_type": "markdown",
      "source": [
        "105. Write a Python program to get the users environment."
      ],
      "metadata": {
        "id": "-fgM1l5uGXV0"
      }
    },
    {
      "cell_type": "code",
      "source": [
        "import os\n",
        "os.environ"
      ],
      "metadata": {
        "colab": {
          "base_uri": "https://localhost:8080/"
        },
        "id": "Y4PqvNpWF1i5",
        "outputId": "5c1968f5-7296-4ffa-faa4-91624df60d7f"
      },
      "execution_count": null,
      "outputs": [
        {
          "output_type": "execute_result",
          "data": {
            "text/plain": [
              "environ{'SHELL': '/bin/bash',\n",
              "        'NV_LIBCUBLAS_VERSION': '12.2.5.6-1',\n",
              "        'NVIDIA_VISIBLE_DEVICES': 'all',\n",
              "        'COLAB_JUPYTER_TRANSPORT': 'ipc',\n",
              "        'NV_NVML_DEV_VERSION': '12.2.140-1',\n",
              "        'NV_CUDNN_PACKAGE_NAME': 'libcudnn8',\n",
              "        'CGROUP_MEMORY_EVENTS': '/sys/fs/cgroup/memory.events /var/colab/cgroup/jupyter-children/memory.events',\n",
              "        'NV_LIBNCCL_DEV_PACKAGE': 'libnccl-dev=2.19.3-1+cuda12.2',\n",
              "        'NV_LIBNCCL_DEV_PACKAGE_VERSION': '2.19.3-1',\n",
              "        'VM_GCE_METADATA_HOST': '169.254.169.253',\n",
              "        'HOSTNAME': '57645698dfef',\n",
              "        'LANGUAGE': 'en_US',\n",
              "        'TBE_RUNTIME_ADDR': '172.28.0.1:8011',\n",
              "        'COLAB_TPU_1VM': '',\n",
              "        'GCE_METADATA_TIMEOUT': '3',\n",
              "        'NVIDIA_REQUIRE_CUDA': 'cuda>=12.2 brand=tesla,driver>=470,driver<471 brand=unknown,driver>=470,driver<471 brand=nvidia,driver>=470,driver<471 brand=nvidiartx,driver>=470,driver<471 brand=geforce,driver>=470,driver<471 brand=geforcertx,driver>=470,driver<471 brand=quadro,driver>=470,driver<471 brand=quadrortx,driver>=470,driver<471 brand=titan,driver>=470,driver<471 brand=titanrtx,driver>=470,driver<471 brand=tesla,driver>=525,driver<526 brand=unknown,driver>=525,driver<526 brand=nvidia,driver>=525,driver<526 brand=nvidiartx,driver>=525,driver<526 brand=geforce,driver>=525,driver<526 brand=geforcertx,driver>=525,driver<526 brand=quadro,driver>=525,driver<526 brand=quadrortx,driver>=525,driver<526 brand=titan,driver>=525,driver<526 brand=titanrtx,driver>=525,driver<526',\n",
              "        'NV_LIBCUBLAS_DEV_PACKAGE': 'libcublas-dev-12-2=12.2.5.6-1',\n",
              "        'NV_NVTX_VERSION': '12.2.140-1',\n",
              "        'COLAB_JUPYTER_IP': '172.28.0.12',\n",
              "        'NV_CUDA_CUDART_DEV_VERSION': '12.2.140-1',\n",
              "        'NV_LIBCUSPARSE_VERSION': '12.1.2.141-1',\n",
              "        'COLAB_LANGUAGE_SERVER_PROXY_ROOT_URL': 'http://172.28.0.1:8013/',\n",
              "        'NV_LIBNPP_VERSION': '12.2.1.4-1',\n",
              "        'NCCL_VERSION': '2.19.3-1',\n",
              "        'KMP_LISTEN_PORT': '6000',\n",
              "        'TF_FORCE_GPU_ALLOW_GROWTH': 'true',\n",
              "        'ENV': '/root/.bashrc',\n",
              "        'PWD': '/',\n",
              "        'COLAB_LANGUAGE_SERVER_PROXY_REQUEST_TIMEOUT': '30s',\n",
              "        'TBE_EPHEM_CREDS_ADDR': '172.28.0.1:8009',\n",
              "        'TBE_CREDS_ADDR': '172.28.0.1:8008',\n",
              "        'NV_CUDNN_PACKAGE': 'libcudnn8=8.9.6.50-1+cuda12.2',\n",
              "        'NVIDIA_DRIVER_CAPABILITIES': 'compute,utility',\n",
              "        'COLAB_JUPYTER_TOKEN': '',\n",
              "        'LAST_FORCED_REBUILD': '20240627',\n",
              "        'NV_NVPROF_DEV_PACKAGE': 'cuda-nvprof-12-2=12.2.142-1',\n",
              "        'NV_LIBNPP_PACKAGE': 'libnpp-12-2=12.2.1.4-1',\n",
              "        'NV_LIBNCCL_DEV_PACKAGE_NAME': 'libnccl-dev',\n",
              "        'TCLLIBPATH': '/usr/share/tcltk/tcllib1.20',\n",
              "        'NV_LIBCUBLAS_DEV_VERSION': '12.2.5.6-1',\n",
              "        'NVIDIA_PRODUCT_NAME': 'CUDA',\n",
              "        'COLAB_KERNEL_MANAGER_PROXY_HOST': '172.28.0.12',\n",
              "        'NV_LIBCUBLAS_DEV_PACKAGE_NAME': 'libcublas-dev-12-2',\n",
              "        'NV_CUDA_CUDART_VERSION': '12.2.140-1',\n",
              "        'COLAB_WARMUP_DEFAULTS': '1',\n",
              "        'HOME': '/root',\n",
              "        'LANG': 'en_US.UTF-8',\n",
              "        'COLUMNS': '100',\n",
              "        'CUDA_VERSION': '12.2.2',\n",
              "        'CLOUDSDK_CONFIG': '/content/.config',\n",
              "        'NV_LIBCUBLAS_PACKAGE': 'libcublas-12-2=12.2.5.6-1',\n",
              "        'NV_CUDA_NSIGHT_COMPUTE_DEV_PACKAGE': 'cuda-nsight-compute-12-2=12.2.2-1',\n",
              "        'COLAB_RELEASE_TAG': 'release-colab_20240910-060204_RC00',\n",
              "        'KMP_TARGET_PORT': '9000',\n",
              "        'KMP_EXTRA_ARGS': '--logtostderr --listen_host=172.28.0.12 --target_host=172.28.0.12 --tunnel_background_save_url=https://colab.research.google.com/tun/m/cc48301118ce562b961b3c22d803539adc1e0c19/m-s-yysr7zal1kwx --tunnel_background_save_delay=10s --tunnel_periodic_background_save_frequency=30m0s --enable_output_coalescing=true --output_coalescing_required=true --log_code_content',\n",
              "        'NV_LIBNPP_DEV_PACKAGE': 'libnpp-dev-12-2=12.2.1.4-1',\n",
              "        'COLAB_LANGUAGE_SERVER_PROXY_LSP_DIRS': '/datalab/web/pyright/typeshed-fallback/stdlib,/usr/local/lib/python3.10/dist-packages',\n",
              "        'NV_LIBCUBLAS_PACKAGE_NAME': 'libcublas-12-2',\n",
              "        'COLAB_KERNEL_MANAGER_PROXY_PORT': '6000',\n",
              "        'CLOUDSDK_PYTHON': 'python3',\n",
              "        'NV_LIBNPP_DEV_VERSION': '12.2.1.4-1',\n",
              "        'NO_GCE_CHECK': 'False',\n",
              "        'PYTHONPATH': '/env/python',\n",
              "        'NV_LIBCUSPARSE_DEV_VERSION': '12.1.2.141-1',\n",
              "        'LIBRARY_PATH': '/usr/local/cuda/lib64/stubs',\n",
              "        'NV_CUDNN_VERSION': '8.9.6.50',\n",
              "        'SHLVL': '0',\n",
              "        'NV_CUDA_LIB_VERSION': '12.2.2-1',\n",
              "        'COLAB_LANGUAGE_SERVER_PROXY': '/usr/colab/bin/language_service',\n",
              "        'NVARCH': 'x86_64',\n",
              "        'NV_CUDNN_PACKAGE_DEV': 'libcudnn8-dev=8.9.6.50-1+cuda12.2',\n",
              "        'NV_CUDA_COMPAT_PACKAGE': 'cuda-compat-12-2',\n",
              "        'NV_LIBNCCL_PACKAGE': 'libnccl2=2.19.3-1+cuda12.2',\n",
              "        'LD_LIBRARY_PATH': '/usr/local/nvidia/lib:/usr/local/nvidia/lib64',\n",
              "        'COLAB_GPU': '',\n",
              "        'NV_CUDA_NSIGHT_COMPUTE_VERSION': '12.2.2-1',\n",
              "        'GCS_READ_CACHE_BLOCK_SIZE_MB': '16',\n",
              "        'NV_NVPROF_VERSION': '12.2.142-1',\n",
              "        'LC_ALL': 'en_US.UTF-8',\n",
              "        'COLAB_FILE_HANDLER_ADDR': 'localhost:3453',\n",
              "        'PATH': '/opt/bin:/usr/local/nvidia/bin:/usr/local/cuda/bin:/usr/local/sbin:/usr/local/bin:/usr/sbin:/usr/bin:/sbin:/bin:/tools/node/bin:/tools/google-cloud-sdk/bin',\n",
              "        'NV_LIBNCCL_PACKAGE_NAME': 'libnccl2',\n",
              "        'COLAB_DEBUG_ADAPTER_MUX_PATH': '/usr/local/bin/dap_multiplexer',\n",
              "        'NV_LIBNCCL_PACKAGE_VERSION': '2.19.3-1',\n",
              "        'PYTHONWARNINGS': 'ignore:::pip._internal.cli.base_command',\n",
              "        'DEBIAN_FRONTEND': 'noninteractive',\n",
              "        'COLAB_BACKEND_VERSION': 'next',\n",
              "        'OLDPWD': '/',\n",
              "        'JPY_PARENT_PID': '88',\n",
              "        'TERM': 'xterm-color',\n",
              "        'CLICOLOR': '1',\n",
              "        'PAGER': 'cat',\n",
              "        'GIT_PAGER': 'cat',\n",
              "        'MPLBACKEND': 'module://ipykernel.pylab.backend_inline',\n",
              "        'ENABLE_DIRECTORYPREFETCHER': '1',\n",
              "        'USE_AUTH_EPHEM': '1',\n",
              "        'PYDEVD_USE_FRAME_EVAL': 'NO'}"
            ]
          },
          "metadata": {},
          "execution_count": 1
        }
      ]
    },
    {
      "cell_type": "markdown",
      "source": [
        "106. Write a Python program to divide a path by the extension separator.\n"
      ],
      "metadata": {
        "id": "LM8Fn7N7GarK"
      }
    },
    {
      "cell_type": "code",
      "source": [
        "import os.path as path\n",
        "def path_divide(apath):\n",
        "  print(f'{apath}:{path.splitext(apath)}')\n",
        "\n",
        "path_divide(\"wada.xp\")"
      ],
      "metadata": {
        "colab": {
          "base_uri": "https://localhost:8080/"
        },
        "id": "Kw22MvKqE-2O",
        "outputId": "53ad5e58-7c92-4212-95de-b0ee944526fa"
      },
      "execution_count": null,
      "outputs": [
        {
          "output_type": "stream",
          "name": "stdout",
          "text": [
            "wada.xp:('wada', '.xp')\n"
          ]
        }
      ]
    },
    {
      "cell_type": "markdown",
      "source": [
        "117. Write a Python program to prove that two string variables of the same value point to the same memory location.\n"
      ],
      "metadata": {
        "id": "HRmB9B1iIed1"
      }
    },
    {
      "cell_type": "code",
      "source": [
        "print(\"True\") if id(\"String\") == id(\"String\") else \"False\""
      ],
      "metadata": {
        "colab": {
          "base_uri": "https://localhost:8080/"
        },
        "id": "IeLDiDTNISCn",
        "outputId": "fe5cdfac-541a-49c7-8d0b-2d797f17591b"
      },
      "execution_count": null,
      "outputs": [
        {
          "output_type": "stream",
          "name": "stdout",
          "text": [
            "True\n"
          ]
        }
      ]
    },
    {
      "cell_type": "markdown",
      "source": [
        "118. Write a Python program to create a bytearray from a list.\n"
      ],
      "metadata": {
        "id": "FjLDHhygKCyZ"
      }
    },
    {
      "cell_type": "code",
      "source": [
        "bnums = [10, 20, 56, 35, 17, 99]\n",
        "bvalues = bytearray(bnums)\n",
        "print(bvalues)\n",
        "# Iterate through the elements of the bytearray and print each element.\n",
        "for x in bvalues:\n",
        "    print(x)\n",
        "# NEP interesting to see that a for loop actually iterate the corresponding values of byte."
      ],
      "metadata": {
        "colab": {
          "base_uri": "https://localhost:8080/"
        },
        "id": "e2Qma5gLJcif",
        "outputId": "dd4616bf-5547-4ed5-c5c4-3cac67ea30b9"
      },
      "execution_count": null,
      "outputs": [
        {
          "output_type": "stream",
          "name": "stdout",
          "text": [
            "bytearray(b'\\n\\x148#\\x11c')\n",
            "10\n",
            "20\n",
            "56\n",
            "35\n",
            "17\n",
            "99\n"
          ]
        }
      ]
    },
    {
      "cell_type": "markdown",
      "source": [
        "119. Write a Python program to round a floating-point number to a specified number of decimal places."
      ],
      "metadata": {
        "id": "rVpebX9fKv_T"
      }
    },
    {
      "cell_type": "code",
      "source": [
        "afloat = 9.12314\n",
        "round(afloat,3)"
      ],
      "metadata": {
        "colab": {
          "base_uri": "https://localhost:8080/"
        },
        "id": "AZUrstv5KK-v",
        "outputId": "8eef7863-7bef-4ce2-e08d-1064340aa601"
      },
      "execution_count": null,
      "outputs": [
        {
          "output_type": "execute_result",
          "data": {
            "text/plain": [
              "9.123"
            ]
          },
          "metadata": {},
          "execution_count": 11
        }
      ]
    },
    {
      "cell_type": "code",
      "source": [
        "locals().values()"
      ],
      "metadata": {
        "colab": {
          "base_uri": "https://localhost:8080/"
        },
        "collapsed": true,
        "id": "ezvkkQ90MUVy",
        "outputId": "208ab1e0-1e9c-4e05-8feb-5f181cee78c0"
      },
      "execution_count": null,
      "outputs": [
        {
          "output_type": "execute_result",
          "data": {
            "text/plain": [
              "dict_values(['__main__', 'Automatically created module for IPython interactive environment', None, None, None, <module 'builtins' (built-in)>, <module 'builtins' (built-in)>, ['', 'import os\\nos.environ', 'import os.path as path\\ndef path_divide(apath):\\n  print(f\\'{apath}:{path.splittext(apath)}\\')\\n\\npath_divide(\"wada.xp\")', 'import os.path as path\\ndef path_divide(apath):\\n  print(f\\'{apath}:{path.splitext(apath)}\\')\\n\\npath_divide(\"wada.xp\")', 'print(\"True\") if id(\"String\") == id(\"String\")', 'print(\"True\") if id(\"String\") == id(\"String\") else \"False\"', 'bnums = [10, 20, 56, 35, 17, 99]\\nbvalues = bytearray(bnums)\\nbvalues', 'bnums = [10, 20, 56, 35, 17, 99]\\nbvalues = bytearray(bnums)\\nbvalues\\n# Iterate through the elements of the bytearray and print each element.\\nfor x in values:\\n    print(x)', 'bnums = [10, 20, 56, 35, 17, 99]\\nbvalues = bytearray(bnums)\\nbvalues\\n# Iterate through the elements of the bytearray and print each element.\\nfor x in bvalues:\\n    print(x)', 'bnums = [10, 20, 56, 35, 17, 99]\\nbvalues = bytearray(bnums)\\nprint(bvalues)\\n# Iterate through the elements of the bytearray and print each element.\\nfor x in bvalues:\\n    print(x)', 'afloat = 9.12314\\nafloat.round(3)', 'afloat = 9.12314\\nround(afloat,3)', 'locals()', 'print(\"True\") if isinstance(\\'__main__\\', locals().items()', 'print(\"True\") if isinstance(\\'__main__\\', locals().items() else \"False\"', 'print(\"True\") if isinstance(\\'__main__\\', locals().items()) else \"False\"', 'print(\"True\") if \\'__main__\\' in locals().items() else \"False\"', 'locals.items()', 'locals().items()', 'locals().values()'], {1: environ({'SHELL': '/bin/bash', 'NV_LIBCUBLAS_VERSION': '12.2.5.6-1', 'NVIDIA_VISIBLE_DEVICES': 'all', 'COLAB_JUPYTER_TRANSPORT': 'ipc', 'NV_NVML_DEV_VERSION': '12.2.140-1', 'NV_CUDNN_PACKAGE_NAME': 'libcudnn8', 'CGROUP_MEMORY_EVENTS': '/sys/fs/cgroup/memory.events /var/colab/cgroup/jupyter-children/memory.events', 'NV_LIBNCCL_DEV_PACKAGE': 'libnccl-dev=2.19.3-1+cuda12.2', 'NV_LIBNCCL_DEV_PACKAGE_VERSION': '2.19.3-1', 'VM_GCE_METADATA_HOST': '169.254.169.253', 'HOSTNAME': '57645698dfef', 'LANGUAGE': 'en_US', 'TBE_RUNTIME_ADDR': '172.28.0.1:8011', 'COLAB_TPU_1VM': '', 'GCE_METADATA_TIMEOUT': '3', 'NVIDIA_REQUIRE_CUDA': 'cuda>=12.2 brand=tesla,driver>=470,driver<471 brand=unknown,driver>=470,driver<471 brand=nvidia,driver>=470,driver<471 brand=nvidiartx,driver>=470,driver<471 brand=geforce,driver>=470,driver<471 brand=geforcertx,driver>=470,driver<471 brand=quadro,driver>=470,driver<471 brand=quadrortx,driver>=470,driver<471 brand=titan,driver>=470,driver<471 brand=titanrtx,driver>=470,driver<471 brand=tesla,driver>=525,driver<526 brand=unknown,driver>=525,driver<526 brand=nvidia,driver>=525,driver<526 brand=nvidiartx,driver>=525,driver<526 brand=geforce,driver>=525,driver<526 brand=geforcertx,driver>=525,driver<526 brand=quadro,driver>=525,driver<526 brand=quadrortx,driver>=525,driver<526 brand=titan,driver>=525,driver<526 brand=titanrtx,driver>=525,driver<526', 'NV_LIBCUBLAS_DEV_PACKAGE': 'libcublas-dev-12-2=12.2.5.6-1', 'NV_NVTX_VERSION': '12.2.140-1', 'COLAB_JUPYTER_IP': '172.28.0.12', 'NV_CUDA_CUDART_DEV_VERSION': '12.2.140-1', 'NV_LIBCUSPARSE_VERSION': '12.1.2.141-1', 'COLAB_LANGUAGE_SERVER_PROXY_ROOT_URL': 'http://172.28.0.1:8013/', 'NV_LIBNPP_VERSION': '12.2.1.4-1', 'NCCL_VERSION': '2.19.3-1', 'KMP_LISTEN_PORT': '6000', 'TF_FORCE_GPU_ALLOW_GROWTH': 'true', 'ENV': '/root/.bashrc', 'PWD': '/', 'COLAB_LANGUAGE_SERVER_PROXY_REQUEST_TIMEOUT': '30s', 'TBE_EPHEM_CREDS_ADDR': '172.28.0.1:8009', 'TBE_CREDS_ADDR': '172.28.0.1:8008', 'NV_CUDNN_PACKAGE': 'libcudnn8=8.9.6.50-1+cuda12.2', 'NVIDIA_DRIVER_CAPABILITIES': 'compute,utility', 'COLAB_JUPYTER_TOKEN': '', 'LAST_FORCED_REBUILD': '20240627', 'NV_NVPROF_DEV_PACKAGE': 'cuda-nvprof-12-2=12.2.142-1', 'NV_LIBNPP_PACKAGE': 'libnpp-12-2=12.2.1.4-1', 'NV_LIBNCCL_DEV_PACKAGE_NAME': 'libnccl-dev', 'TCLLIBPATH': '/usr/share/tcltk/tcllib1.20', 'NV_LIBCUBLAS_DEV_VERSION': '12.2.5.6-1', 'NVIDIA_PRODUCT_NAME': 'CUDA', 'COLAB_KERNEL_MANAGER_PROXY_HOST': '172.28.0.12', 'NV_LIBCUBLAS_DEV_PACKAGE_NAME': 'libcublas-dev-12-2', 'NV_CUDA_CUDART_VERSION': '12.2.140-1', 'COLAB_WARMUP_DEFAULTS': '1', 'HOME': '/root', 'LANG': 'en_US.UTF-8', 'COLUMNS': '100', 'CUDA_VERSION': '12.2.2', 'CLOUDSDK_CONFIG': '/content/.config', 'NV_LIBCUBLAS_PACKAGE': 'libcublas-12-2=12.2.5.6-1', 'NV_CUDA_NSIGHT_COMPUTE_DEV_PACKAGE': 'cuda-nsight-compute-12-2=12.2.2-1', 'COLAB_RELEASE_TAG': 'release-colab_20240910-060204_RC00', 'KMP_TARGET_PORT': '9000', 'KMP_EXTRA_ARGS': '--logtostderr --listen_host=172.28.0.12 --target_host=172.28.0.12 --tunnel_background_save_url=https://colab.research.google.com/tun/m/cc48301118ce562b961b3c22d803539adc1e0c19/m-s-yysr7zal1kwx --tunnel_background_save_delay=10s --tunnel_periodic_background_save_frequency=30m0s --enable_output_coalescing=true --output_coalescing_required=true --log_code_content', 'NV_LIBNPP_DEV_PACKAGE': 'libnpp-dev-12-2=12.2.1.4-1', 'COLAB_LANGUAGE_SERVER_PROXY_LSP_DIRS': '/datalab/web/pyright/typeshed-fallback/stdlib,/usr/local/lib/python3.10/dist-packages', 'NV_LIBCUBLAS_PACKAGE_NAME': 'libcublas-12-2', 'COLAB_KERNEL_MANAGER_PROXY_PORT': '6000', 'CLOUDSDK_PYTHON': 'python3', 'NV_LIBNPP_DEV_VERSION': '12.2.1.4-1', 'NO_GCE_CHECK': 'False', 'PYTHONPATH': '/env/python', 'NV_LIBCUSPARSE_DEV_VERSION': '12.1.2.141-1', 'LIBRARY_PATH': '/usr/local/cuda/lib64/stubs', 'NV_CUDNN_VERSION': '8.9.6.50', 'SHLVL': '0', 'NV_CUDA_LIB_VERSION': '12.2.2-1', 'COLAB_LANGUAGE_SERVER_PROXY': '/usr/colab/bin/language_service', 'NVARCH': 'x86_64', 'NV_CUDNN_PACKAGE_DEV': 'libcudnn8-dev=8.9.6.50-1+cuda12.2', 'NV_CUDA_COMPAT_PACKAGE': 'cuda-compat-12-2', 'NV_LIBNCCL_PACKAGE': 'libnccl2=2.19.3-1+cuda12.2', 'LD_LIBRARY_PATH': '/usr/local/nvidia/lib:/usr/local/nvidia/lib64', 'COLAB_GPU': '', 'NV_CUDA_NSIGHT_COMPUTE_VERSION': '12.2.2-1', 'GCS_READ_CACHE_BLOCK_SIZE_MB': '16', 'NV_NVPROF_VERSION': '12.2.142-1', 'LC_ALL': 'en_US.UTF-8', 'COLAB_FILE_HANDLER_ADDR': 'localhost:3453', 'PATH': '/opt/bin:/usr/local/nvidia/bin:/usr/local/cuda/bin:/usr/local/sbin:/usr/local/bin:/usr/sbin:/usr/bin:/sbin:/bin:/tools/node/bin:/tools/google-cloud-sdk/bin', 'NV_LIBNCCL_PACKAGE_NAME': 'libnccl2', 'COLAB_DEBUG_ADAPTER_MUX_PATH': '/usr/local/bin/dap_multiplexer', 'NV_LIBNCCL_PACKAGE_VERSION': '2.19.3-1', 'PYTHONWARNINGS': 'ignore:::pip._internal.cli.base_command', 'DEBIAN_FRONTEND': 'noninteractive', 'COLAB_BACKEND_VERSION': 'next', 'OLDPWD': '/', 'JPY_PARENT_PID': '88', 'TERM': 'xterm-color', 'CLICOLOR': '1', 'PAGER': 'cat', 'GIT_PAGER': 'cat', 'MPLBACKEND': 'module://ipykernel.pylab.backend_inline', 'ENABLE_DIRECTORYPREFETCHER': '1', 'USE_AUTH_EPHEM': '1', 'PYDEVD_USE_FRAME_EVAL': 'NO'}), 6: bytearray(b'\\n\\x148#\\x11c'), 11: 9.123, 12: {'__name__': '__main__', '__doc__': 'Automatically created module for IPython interactive environment', '__package__': None, '__loader__': None, '__spec__': None, '__builtin__': <module 'builtins' (built-in)>, '__builtins__': <module 'builtins' (built-in)>, '_ih': ['', 'import os\\nos.environ', 'import os.path as path\\ndef path_divide(apath):\\n  print(f\\'{apath}:{path.splittext(apath)}\\')\\n\\npath_divide(\"wada.xp\")', 'import os.path as path\\ndef path_divide(apath):\\n  print(f\\'{apath}:{path.splitext(apath)}\\')\\n\\npath_divide(\"wada.xp\")', 'print(\"True\") if id(\"String\") == id(\"String\")', 'print(\"True\") if id(\"String\") == id(\"String\") else \"False\"', 'bnums = [10, 20, 56, 35, 17, 99]\\nbvalues = bytearray(bnums)\\nbvalues', 'bnums = [10, 20, 56, 35, 17, 99]\\nbvalues = bytearray(bnums)\\nbvalues\\n# Iterate through the elements of the bytearray and print each element.\\nfor x in values:\\n    print(x)', 'bnums = [10, 20, 56, 35, 17, 99]\\nbvalues = bytearray(bnums)\\nbvalues\\n# Iterate through the elements of the bytearray and print each element.\\nfor x in bvalues:\\n    print(x)', 'bnums = [10, 20, 56, 35, 17, 99]\\nbvalues = bytearray(bnums)\\nprint(bvalues)\\n# Iterate through the elements of the bytearray and print each element.\\nfor x in bvalues:\\n    print(x)', 'afloat = 9.12314\\nafloat.round(3)', 'afloat = 9.12314\\nround(afloat,3)', 'locals()', 'print(\"True\") if isinstance(\\'__main__\\', locals().items()', 'print(\"True\") if isinstance(\\'__main__\\', locals().items() else \"False\"', 'print(\"True\") if isinstance(\\'__main__\\', locals().items()) else \"False\"', 'print(\"True\") if \\'__main__\\' in locals().items() else \"False\"', 'locals.items()', 'locals().items()', 'locals().values()'], '_oh': {...}, '_dh': ['/content'], 'In': ['', 'import os\\nos.environ', 'import os.path as path\\ndef path_divide(apath):\\n  print(f\\'{apath}:{path.splittext(apath)}\\')\\n\\npath_divide(\"wada.xp\")', 'import os.path as path\\ndef path_divide(apath):\\n  print(f\\'{apath}:{path.splitext(apath)}\\')\\n\\npath_divide(\"wada.xp\")', 'print(\"True\") if id(\"String\") == id(\"String\")', 'print(\"True\") if id(\"String\") == id(\"String\") else \"False\"', 'bnums = [10, 20, 56, 35, 17, 99]\\nbvalues = bytearray(bnums)\\nbvalues', 'bnums = [10, 20, 56, 35, 17, 99]\\nbvalues = bytearray(bnums)\\nbvalues\\n# Iterate through the elements of the bytearray and print each element.\\nfor x in values:\\n    print(x)', 'bnums = [10, 20, 56, 35, 17, 99]\\nbvalues = bytearray(bnums)\\nbvalues\\n# Iterate through the elements of the bytearray and print each element.\\nfor x in bvalues:\\n    print(x)', 'bnums = [10, 20, 56, 35, 17, 99]\\nbvalues = bytearray(bnums)\\nprint(bvalues)\\n# Iterate through the elements of the bytearray and print each element.\\nfor x in bvalues:\\n    print(x)', 'afloat = 9.12314\\nafloat.round(3)', 'afloat = 9.12314\\nround(afloat,3)', 'locals()', 'print(\"True\") if isinstance(\\'__main__\\', locals().items()', 'print(\"True\") if isinstance(\\'__main__\\', locals().items() else \"False\"', 'print(\"True\") if isinstance(\\'__main__\\', locals().items()) else \"False\"', 'print(\"True\") if \\'__main__\\' in locals().items() else \"False\"', 'locals.items()', 'locals().items()', 'locals().values()'], 'Out': {...}, 'get_ipython': <bound method InteractiveShell.get_ipython of <google.colab._shell.Shell object at 0x7b1bb296e710>>, 'exit': <IPython.core.autocall.ZMQExitAutocall object at 0x7b1bb296dbd0>, 'quit': <IPython.core.autocall.ZMQExitAutocall object at 0x7b1bb296dbd0>, '_': dict_items([('__name__', '__main__'), ('__doc__', 'Automatically created module for IPython interactive environment'), ('__package__', None), ('__loader__', None), ('__spec__', None), ('__builtin__', <module 'builtins' (built-in)>), ('__builtins__', <module 'builtins' (built-in)>), ('_ih', ['', 'import os\\nos.environ', 'import os.path as path\\ndef path_divide(apath):\\n  print(f\\'{apath}:{path.splittext(apath)}\\')\\n\\npath_divide(\"wada.xp\")', 'import os.path as path\\ndef path_divide(apath):\\n  print(f\\'{apath}:{path.splitext(apath)}\\')\\n\\npath_divide(\"wada.xp\")', 'print(\"True\") if id(\"String\") == id(\"String\")', 'print(\"True\") if id(\"String\") == id(\"String\") else \"False\"', 'bnums = [10, 20, 56, 35, 17, 99]\\nbvalues = bytearray(bnums)\\nbvalues', 'bnums = [10, 20, 56, 35, 17, 99]\\nbvalues = bytearray(bnums)\\nbvalues\\n# Iterate through the elements of the bytearray and print each element.\\nfor x in values:\\n    print(x)', 'bnums = [10, 20, 56, 35, 17, 99]\\nbvalues = bytearray(bnums)\\nbvalues\\n# Iterate through the elements of the bytearray and print each element.\\nfor x in bvalues:\\n    print(x)', 'bnums = [10, 20, 56, 35, 17, 99]\\nbvalues = bytearray(bnums)\\nprint(bvalues)\\n# Iterate through the elements of the bytearray and print each element.\\nfor x in bvalues:\\n    print(x)', 'afloat = 9.12314\\nafloat.round(3)', 'afloat = 9.12314\\nround(afloat,3)', 'locals()', 'print(\"True\") if isinstance(\\'__main__\\', locals().items()', 'print(\"True\") if isinstance(\\'__main__\\', locals().items() else \"False\"', 'print(\"True\") if isinstance(\\'__main__\\', locals().items()) else \"False\"', 'print(\"True\") if \\'__main__\\' in locals().items() else \"False\"', 'locals.items()', 'locals().items()', 'locals().values()']), ('_oh', {...}), ('_dh', ['/content']), ('In', ['', 'import os\\nos.environ', 'import os.path as path\\ndef path_divide(apath):\\n  print(f\\'{apath}:{path.splittext(apath)}\\')\\n\\npath_divide(\"wada.xp\")', 'import os.path as path\\ndef path_divide(apath):\\n  print(f\\'{apath}:{path.splitext(apath)}\\')\\n\\npath_divide(\"wada.xp\")', 'print(\"True\") if id(\"String\") == id(\"String\")', 'print(\"True\") if id(\"String\") == id(\"String\") else \"False\"', 'bnums = [10, 20, 56, 35, 17, 99]\\nbvalues = bytearray(bnums)\\nbvalues', 'bnums = [10, 20, 56, 35, 17, 99]\\nbvalues = bytearray(bnums)\\nbvalues\\n# Iterate through the elements of the bytearray and print each element.\\nfor x in values:\\n    print(x)', 'bnums = [10, 20, 56, 35, 17, 99]\\nbvalues = bytearray(bnums)\\nbvalues\\n# Iterate through the elements of the bytearray and print each element.\\nfor x in bvalues:\\n    print(x)', 'bnums = [10, 20, 56, 35, 17, 99]\\nbvalues = bytearray(bnums)\\nprint(bvalues)\\n# Iterate through the elements of the bytearray and print each element.\\nfor x in bvalues:\\n    print(x)', 'afloat = 9.12314\\nafloat.round(3)', 'afloat = 9.12314\\nround(afloat,3)', 'locals()', 'print(\"True\") if isinstance(\\'__main__\\', locals().items()', 'print(\"True\") if isinstance(\\'__main__\\', locals().items() else \"False\"', 'print(\"True\") if isinstance(\\'__main__\\', locals().items()) else \"False\"', 'print(\"True\") if \\'__main__\\' in locals().items() else \"False\"', 'locals.items()', 'locals().items()', 'locals().values()']), ('Out', {...}), ('get_ipython', <bound method InteractiveShell.get_ipython of <google.colab._shell.Shell object at 0x7b1bb296e710>>), ('exit', <IPython.core.autocall.ZMQExitAutocall object at 0x7b1bb296dbd0>), ('quit', <IPython.core.autocall.ZMQExitAutocall object at 0x7b1bb296dbd0>), ('_', ...), ('__', 'False'), ('___', {...}), ('_i', 'locals().items()'), ('_ii', 'locals.items()'), ('_iii', 'print(\"True\") if \\'__main__\\' in locals().items() else \"False\"'), ('_i1', 'import os\\nos.environ'), ('os', <module 'os' from '/usr/lib/python3.10/os.py'>), ('_1', environ({'SHELL': '/bin/bash', 'NV_LIBCUBLAS_VERSION': '12.2.5.6-1', 'NVIDIA_VISIBLE_DEVICES': 'all', 'COLAB_JUPYTER_TRANSPORT': 'ipc', 'NV_NVML_DEV_VERSION': '12.2.140-1', 'NV_CUDNN_PACKAGE_NAME': 'libcudnn8', 'CGROUP_MEMORY_EVENTS': '/sys/fs/cgroup/memory.events /var/colab/cgroup/jupyter-children/memory.events', 'NV_LIBNCCL_DEV_PACKAGE': 'libnccl-dev=2.19.3-1+cuda12.2', 'NV_LIBNCCL_DEV_PACKAGE_VERSION': '2.19.3-1', 'VM_GCE_METADATA_HOST': '169.254.169.253', 'HOSTNAME': '57645698dfef', 'LANGUAGE': 'en_US', 'TBE_RUNTIME_ADDR': '172.28.0.1:8011', 'COLAB_TPU_1VM': '', 'GCE_METADATA_TIMEOUT': '3', 'NVIDIA_REQUIRE_CUDA': 'cuda>=12.2 brand=tesla,driver>=470,driver<471 brand=unknown,driver>=470,driver<471 brand=nvidia,driver>=470,driver<471 brand=nvidiartx,driver>=470,driver<471 brand=geforce,driver>=470,driver<471 brand=geforcertx,driver>=470,driver<471 brand=quadro,driver>=470,driver<471 brand=quadrortx,driver>=470,driver<471 brand=titan,driver>=470,driver<471 brand=titanrtx,driver>=470,driver<471 brand=tesla,driver>=525,driver<526 brand=unknown,driver>=525,driver<526 brand=nvidia,driver>=525,driver<526 brand=nvidiartx,driver>=525,driver<526 brand=geforce,driver>=525,driver<526 brand=geforcertx,driver>=525,driver<526 brand=quadro,driver>=525,driver<526 brand=quadrortx,driver>=525,driver<526 brand=titan,driver>=525,driver<526 brand=titanrtx,driver>=525,driver<526', 'NV_LIBCUBLAS_DEV_PACKAGE': 'libcublas-dev-12-2=12.2.5.6-1', 'NV_NVTX_VERSION': '12.2.140-1', 'COLAB_JUPYTER_IP': '172.28.0.12', 'NV_CUDA_CUDART_DEV_VERSION': '12.2.140-1', 'NV_LIBCUSPARSE_VERSION': '12.1.2.141-1', 'COLAB_LANGUAGE_SERVER_PROXY_ROOT_URL': 'http://172.28.0.1:8013/', 'NV_LIBNPP_VERSION': '12.2.1.4-1', 'NCCL_VERSION': '2.19.3-1', 'KMP_LISTEN_PORT': '6000', 'TF_FORCE_GPU_ALLOW_GROWTH': 'true', 'ENV': '/root/.bashrc', 'PWD': '/', 'COLAB_LANGUAGE_SERVER_PROXY_REQUEST_TIMEOUT': '30s', 'TBE_EPHEM_CREDS_ADDR': '172.28.0.1:8009', 'TBE_CREDS_ADDR': '172.28.0.1:8008', 'NV_CUDNN_PACKAGE': 'libcudnn8=8.9.6.50-1+cuda12.2', 'NVIDIA_DRIVER_CAPABILITIES': 'compute,utility', 'COLAB_JUPYTER_TOKEN': '', 'LAST_FORCED_REBUILD': '20240627', 'NV_NVPROF_DEV_PACKAGE': 'cuda-nvprof-12-2=12.2.142-1', 'NV_LIBNPP_PACKAGE': 'libnpp-12-2=12.2.1.4-1', 'NV_LIBNCCL_DEV_PACKAGE_NAME': 'libnccl-dev', 'TCLLIBPATH': '/usr/share/tcltk/tcllib1.20', 'NV_LIBCUBLAS_DEV_VERSION': '12.2.5.6-1', 'NVIDIA_PRODUCT_NAME': 'CUDA', 'COLAB_KERNEL_MANAGER_PROXY_HOST': '172.28.0.12', 'NV_LIBCUBLAS_DEV_PACKAGE_NAME': 'libcublas-dev-12-2', 'NV_CUDA_CUDART_VERSION': '12.2.140-1', 'COLAB_WARMUP_DEFAULTS': '1', 'HOME': '/root', 'LANG': 'en_US.UTF-8', 'COLUMNS': '100', 'CUDA_VERSION': '12.2.2', 'CLOUDSDK_CONFIG': '/content/.config', 'NV_LIBCUBLAS_PACKAGE': 'libcublas-12-2=12.2.5.6-1', 'NV_CUDA_NSIGHT_COMPUTE_DEV_PACKAGE': 'cuda-nsight-compute-12-2=12.2.2-1', 'COLAB_RELEASE_TAG': 'release-colab_20240910-060204_RC00', 'KMP_TARGET_PORT': '9000', 'KMP_EXTRA_ARGS': '--logtostderr --listen_host=172.28.0.12 --target_host=172.28.0.12 --tunnel_background_save_url=https://colab.research.google.com/tun/m/cc48301118ce562b961b3c22d803539adc1e0c19/m-s-yysr7zal1kwx --tunnel_background_save_delay=10s --tunnel_periodic_background_save_frequency=30m0s --enable_output_coalescing=true --output_coalescing_required=true --log_code_content', 'NV_LIBNPP_DEV_PACKAGE': 'libnpp-dev-12-2=12.2.1.4-1', 'COLAB_LANGUAGE_SERVER_PROXY_LSP_DIRS': '/datalab/web/pyright/typeshed-fallback/stdlib,/usr/local/lib/python3.10/dist-packages', 'NV_LIBCUBLAS_PACKAGE_NAME': 'libcublas-12-2', 'COLAB_KERNEL_MANAGER_PROXY_PORT': '6000', 'CLOUDSDK_PYTHON': 'python3', 'NV_LIBNPP_DEV_VERSION': '12.2.1.4-1', 'NO_GCE_CHECK': 'False', 'PYTHONPATH': '/env/python', 'NV_LIBCUSPARSE_DEV_VERSION': '12.1.2.141-1', 'LIBRARY_PATH': '/usr/local/cuda/lib64/stubs', 'NV_CUDNN_VERSION': '8.9.6.50', 'SHLVL': '0', 'NV_CUDA_LIB_VERSION': '12.2.2-1', 'COLAB_LANGUAGE_SERVER_PROXY': '/usr/colab/bin/language_service', 'NVARCH': 'x86_64', 'NV_CUDNN_PACKAGE_DEV': 'libcudnn8-dev=8.9.6.50-1+cuda12.2', 'NV_CUDA_COMPAT_PACKAGE': 'cuda-compat-12-2', 'NV_LIBNCCL_PACKAGE': 'libnccl2=2.19.3-1+cuda12.2', 'LD_LIBRARY_PATH': '/usr/local/nvidia/lib:/usr/local/nvidia/lib64', 'COLAB_GPU': '', 'NV_CUDA_NSIGHT_COMPUTE_VERSION': '12.2.2-1', 'GCS_READ_CACHE_BLOCK_SIZE_MB': '16', 'NV_NVPROF_VERSION': '12.2.142-1', 'LC_ALL': 'en_US.UTF-8', 'COLAB_FILE_HANDLER_ADDR': 'localhost:3453', 'PATH': '/opt/bin:/usr/local/nvidia/bin:/usr/local/cuda/bin:/usr/local/sbin:/usr/local/bin:/usr/sbin:/usr/bin:/sbin:/bin:/tools/node/bin:/tools/google-cloud-sdk/bin', 'NV_LIBNCCL_PACKAGE_NAME': 'libnccl2', 'COLAB_DEBUG_ADAPTER_MUX_PATH': '/usr/local/bin/dap_multiplexer', 'NV_LIBNCCL_PACKAGE_VERSION': '2.19.3-1', 'PYTHONWARNINGS': 'ignore:::pip._internal.cli.base_command', 'DEBIAN_FRONTEND': 'noninteractive', 'COLAB_BACKEND_VERSION': 'next', 'OLDPWD': '/', 'JPY_PARENT_PID': '88', 'TERM': 'xterm-color', 'CLICOLOR': '1', 'PAGER': 'cat', 'GIT_PAGER': 'cat', 'MPLBACKEND': 'module://ipykernel.pylab.backend_inline', 'ENABLE_DIRECTORYPREFETCHER': '1', 'USE_AUTH_EPHEM': '1', 'PYDEVD_USE_FRAME_EVAL': 'NO'})), ('_i2', 'import os.path as path\\ndef path_divide(apath):\\n  print(f\\'{apath}:{path.splittext(apath)}\\')\\n\\npath_divide(\"wada.xp\")'), ('path', <module 'posixpath' from '/usr/lib/python3.10/posixpath.py'>), ('path_divide', <function path_divide at 0x7b1ba03a5fc0>), ('_i3', 'import os.path as path\\ndef path_divide(apath):\\n  print(f\\'{apath}:{path.splitext(apath)}\\')\\n\\npath_divide(\"wada.xp\")'), ('_i4', 'print(\"True\") if id(\"String\") == id(\"String\")'), ('_i5', 'print(\"True\") if id(\"String\") == id(\"String\") else \"False\"'), ('_i6', 'bnums = [10, 20, 56, 35, 17, 99]\\nbvalues = bytearray(bnums)\\nbvalues'), ('bnums', [10, 20, 56, 35, 17, 99]), ('bvalues', bytearray(b'\\n\\x148#\\x11c')), ('_6', bytearray(b'\\n\\x148#\\x11c')), ('_i7', 'bnums = [10, 20, 56, 35, 17, 99]\\nbvalues = bytearray(bnums)\\nbvalues\\n# Iterate through the elements of the bytearray and print each element.\\nfor x in values:\\n    print(x)'), ('_i8', 'bnums = [10, 20, 56, 35, 17, 99]\\nbvalues = bytearray(bnums)\\nbvalues\\n# Iterate through the elements of the bytearray and print each element.\\nfor x in bvalues:\\n    print(x)'), ('x', 99), ('_i9', 'bnums = [10, 20, 56, 35, 17, 99]\\nbvalues = bytearray(bnums)\\nprint(bvalues)\\n# Iterate through the elements of the bytearray and print each element.\\nfor x in bvalues:\\n    print(x)'), ('_i10', 'afloat = 9.12314\\nafloat.round(3)'), ('afloat', 9.12314), ('_i11', 'afloat = 9.12314\\nround(afloat,3)'), ('_11', 9.123), ('_i12', 'locals()'), ('_12', {...}), ('_i13', 'print(\"True\") if isinstance(\\'__main__\\', locals().items()'), ('_i14', 'print(\"True\") if isinstance(\\'__main__\\', locals().items() else \"False\"'), ('_i15', 'print(\"True\") if isinstance(\\'__main__\\', locals().items()) else \"False\"'), ('_i16', 'print(\"True\") if \\'__main__\\' in locals().items() else \"False\"'), ('_16', 'False'), ('_i17', 'locals.items()'), ('_i18', 'locals().items()'), ('_18', ...), ('_i19', 'locals().values()')]), '__': 'False', '___': {...}, '_i': 'locals().items()', '_ii': 'locals.items()', '_iii': 'print(\"True\") if \\'__main__\\' in locals().items() else \"False\"', '_i1': 'import os\\nos.environ', 'os': <module 'os' from '/usr/lib/python3.10/os.py'>, '_1': environ({'SHELL': '/bin/bash', 'NV_LIBCUBLAS_VERSION': '12.2.5.6-1', 'NVIDIA_VISIBLE_DEVICES': 'all', 'COLAB_JUPYTER_TRANSPORT': 'ipc', 'NV_NVML_DEV_VERSION': '12.2.140-1', 'NV_CUDNN_PACKAGE_NAME': 'libcudnn8', 'CGROUP_MEMORY_EVENTS': '/sys/fs/cgroup/memory.events /var/colab/cgroup/jupyter-children/memory.events', 'NV_LIBNCCL_DEV_PACKAGE': 'libnccl-dev=2.19.3-1+cuda12.2', 'NV_LIBNCCL_DEV_PACKAGE_VERSION': '2.19.3-1', 'VM_GCE_METADATA_HOST': '169.254.169.253', 'HOSTNAME': '57645698dfef', 'LANGUAGE': 'en_US', 'TBE_RUNTIME_ADDR': '172.28.0.1:8011', 'COLAB_TPU_1VM': '', 'GCE_METADATA_TIMEOUT': '3', 'NVIDIA_REQUIRE_CUDA': 'cuda>=12.2 brand=tesla,driver>=470,driver<471 brand=unknown,driver>=470,driver<471 brand=nvidia,driver>=470,driver<471 brand=nvidiartx,driver>=470,driver<471 brand=geforce,driver>=470,driver<471 brand=geforcertx,driver>=470,driver<471 brand=quadro,driver>=470,driver<471 brand=quadrortx,driver>=470,driver<471 brand=titan,driver>=470,driver<471 brand=titanrtx,driver>=470,driver<471 brand=tesla,driver>=525,driver<526 brand=unknown,driver>=525,driver<526 brand=nvidia,driver>=525,driver<526 brand=nvidiartx,driver>=525,driver<526 brand=geforce,driver>=525,driver<526 brand=geforcertx,driver>=525,driver<526 brand=quadro,driver>=525,driver<526 brand=quadrortx,driver>=525,driver<526 brand=titan,driver>=525,driver<526 brand=titanrtx,driver>=525,driver<526', 'NV_LIBCUBLAS_DEV_PACKAGE': 'libcublas-dev-12-2=12.2.5.6-1', 'NV_NVTX_VERSION': '12.2.140-1', 'COLAB_JUPYTER_IP': '172.28.0.12', 'NV_CUDA_CUDART_DEV_VERSION': '12.2.140-1', 'NV_LIBCUSPARSE_VERSION': '12.1.2.141-1', 'COLAB_LANGUAGE_SERVER_PROXY_ROOT_URL': 'http://172.28.0.1:8013/', 'NV_LIBNPP_VERSION': '12.2.1.4-1', 'NCCL_VERSION': '2.19.3-1', 'KMP_LISTEN_PORT': '6000', 'TF_FORCE_GPU_ALLOW_GROWTH': 'true', 'ENV': '/root/.bashrc', 'PWD': '/', 'COLAB_LANGUAGE_SERVER_PROXY_REQUEST_TIMEOUT': '30s', 'TBE_EPHEM_CREDS_ADDR': '172.28.0.1:8009', 'TBE_CREDS_ADDR': '172.28.0.1:8008', 'NV_CUDNN_PACKAGE': 'libcudnn8=8.9.6.50-1+cuda12.2', 'NVIDIA_DRIVER_CAPABILITIES': 'compute,utility', 'COLAB_JUPYTER_TOKEN': '', 'LAST_FORCED_REBUILD': '20240627', 'NV_NVPROF_DEV_PACKAGE': 'cuda-nvprof-12-2=12.2.142-1', 'NV_LIBNPP_PACKAGE': 'libnpp-12-2=12.2.1.4-1', 'NV_LIBNCCL_DEV_PACKAGE_NAME': 'libnccl-dev', 'TCLLIBPATH': '/usr/share/tcltk/tcllib1.20', 'NV_LIBCUBLAS_DEV_VERSION': '12.2.5.6-1', 'NVIDIA_PRODUCT_NAME': 'CUDA', 'COLAB_KERNEL_MANAGER_PROXY_HOST': '172.28.0.12', 'NV_LIBCUBLAS_DEV_PACKAGE_NAME': 'libcublas-dev-12-2', 'NV_CUDA_CUDART_VERSION': '12.2.140-1', 'COLAB_WARMUP_DEFAULTS': '1', 'HOME': '/root', 'LANG': 'en_US.UTF-8', 'COLUMNS': '100', 'CUDA_VERSION': '12.2.2', 'CLOUDSDK_CONFIG': '/content/.config', 'NV_LIBCUBLAS_PACKAGE': 'libcublas-12-2=12.2.5.6-1', 'NV_CUDA_NSIGHT_COMPUTE_DEV_PACKAGE': 'cuda-nsight-compute-12-2=12.2.2-1', 'COLAB_RELEASE_TAG': 'release-colab_20240910-060204_RC00', 'KMP_TARGET_PORT': '9000', 'KMP_EXTRA_ARGS': '--logtostderr --listen_host=172.28.0.12 --target_host=172.28.0.12 --tunnel_background_save_url=https://colab.research.google.com/tun/m/cc48301118ce562b961b3c22d803539adc1e0c19/m-s-yysr7zal1kwx --tunnel_background_save_delay=10s --tunnel_periodic_background_save_frequency=30m0s --enable_output_coalescing=true --output_coalescing_required=true --log_code_content', 'NV_LIBNPP_DEV_PACKAGE': 'libnpp-dev-12-2=12.2.1.4-1', 'COLAB_LANGUAGE_SERVER_PROXY_LSP_DIRS': '/datalab/web/pyright/typeshed-fallback/stdlib,/usr/local/lib/python3.10/dist-packages', 'NV_LIBCUBLAS_PACKAGE_NAME': 'libcublas-12-2', 'COLAB_KERNEL_MANAGER_PROXY_PORT': '6000', 'CLOUDSDK_PYTHON': 'python3', 'NV_LIBNPP_DEV_VERSION': '12.2.1.4-1', 'NO_GCE_CHECK': 'False', 'PYTHONPATH': '/env/python', 'NV_LIBCUSPARSE_DEV_VERSION': '12.1.2.141-1', 'LIBRARY_PATH': '/usr/local/cuda/lib64/stubs', 'NV_CUDNN_VERSION': '8.9.6.50', 'SHLVL': '0', 'NV_CUDA_LIB_VERSION': '12.2.2-1', 'COLAB_LANGUAGE_SERVER_PROXY': '/usr/colab/bin/language_service', 'NVARCH': 'x86_64', 'NV_CUDNN_PACKAGE_DEV': 'libcudnn8-dev=8.9.6.50-1+cuda12.2', 'NV_CUDA_COMPAT_PACKAGE': 'cuda-compat-12-2', 'NV_LIBNCCL_PACKAGE': 'libnccl2=2.19.3-1+cuda12.2', 'LD_LIBRARY_PATH': '/usr/local/nvidia/lib:/usr/local/nvidia/lib64', 'COLAB_GPU': '', 'NV_CUDA_NSIGHT_COMPUTE_VERSION': '12.2.2-1', 'GCS_READ_CACHE_BLOCK_SIZE_MB': '16', 'NV_NVPROF_VERSION': '12.2.142-1', 'LC_ALL': 'en_US.UTF-8', 'COLAB_FILE_HANDLER_ADDR': 'localhost:3453', 'PATH': '/opt/bin:/usr/local/nvidia/bin:/usr/local/cuda/bin:/usr/local/sbin:/usr/local/bin:/usr/sbin:/usr/bin:/sbin:/bin:/tools/node/bin:/tools/google-cloud-sdk/bin', 'NV_LIBNCCL_PACKAGE_NAME': 'libnccl2', 'COLAB_DEBUG_ADAPTER_MUX_PATH': '/usr/local/bin/dap_multiplexer', 'NV_LIBNCCL_PACKAGE_VERSION': '2.19.3-1', 'PYTHONWARNINGS': 'ignore:::pip._internal.cli.base_command', 'DEBIAN_FRONTEND': 'noninteractive', 'COLAB_BACKEND_VERSION': 'next', 'OLDPWD': '/', 'JPY_PARENT_PID': '88', 'TERM': 'xterm-color', 'CLICOLOR': '1', 'PAGER': 'cat', 'GIT_PAGER': 'cat', 'MPLBACKEND': 'module://ipykernel.pylab.backend_inline', 'ENABLE_DIRECTORYPREFETCHER': '1', 'USE_AUTH_EPHEM': '1', 'PYDEVD_USE_FRAME_EVAL': 'NO'}), '_i2': 'import os.path as path\\ndef path_divide(apath):\\n  print(f\\'{apath}:{path.splittext(apath)}\\')\\n\\npath_divide(\"wada.xp\")', 'path': <module 'posixpath' from '/usr/lib/python3.10/posixpath.py'>, 'path_divide': <function path_divide at 0x7b1ba03a5fc0>, '_i3': 'import os.path as path\\ndef path_divide(apath):\\n  print(f\\'{apath}:{path.splitext(apath)}\\')\\n\\npath_divide(\"wada.xp\")', '_i4': 'print(\"True\") if id(\"String\") == id(\"String\")', '_i5': 'print(\"True\") if id(\"String\") == id(\"String\") else \"False\"', '_i6': 'bnums = [10, 20, 56, 35, 17, 99]\\nbvalues = bytearray(bnums)\\nbvalues', 'bnums': [10, 20, 56, 35, 17, 99], 'bvalues': bytearray(b'\\n\\x148#\\x11c'), '_6': bytearray(b'\\n\\x148#\\x11c'), '_i7': 'bnums = [10, 20, 56, 35, 17, 99]\\nbvalues = bytearray(bnums)\\nbvalues\\n# Iterate through the elements of the bytearray and print each element.\\nfor x in values:\\n    print(x)', '_i8': 'bnums = [10, 20, 56, 35, 17, 99]\\nbvalues = bytearray(bnums)\\nbvalues\\n# Iterate through the elements of the bytearray and print each element.\\nfor x in bvalues:\\n    print(x)', 'x': 99, '_i9': 'bnums = [10, 20, 56, 35, 17, 99]\\nbvalues = bytearray(bnums)\\nprint(bvalues)\\n# Iterate through the elements of the bytearray and print each element.\\nfor x in bvalues:\\n    print(x)', '_i10': 'afloat = 9.12314\\nafloat.round(3)', 'afloat': 9.12314, '_i11': 'afloat = 9.12314\\nround(afloat,3)', '_11': 9.123, '_i12': 'locals()', '_12': {...}, '_i13': 'print(\"True\") if isinstance(\\'__main__\\', locals().items()', '_i14': 'print(\"True\") if isinstance(\\'__main__\\', locals().items() else \"False\"', '_i15': 'print(\"True\") if isinstance(\\'__main__\\', locals().items()) else \"False\"', '_i16': 'print(\"True\") if \\'__main__\\' in locals().items() else \"False\"', '_16': 'False', '_i17': 'locals.items()', '_i18': 'locals().items()', '_18': dict_items([('__name__', '__main__'), ('__doc__', 'Automatically created module for IPython interactive environment'), ('__package__', None), ('__loader__', None), ('__spec__', None), ('__builtin__', <module 'builtins' (built-in)>), ('__builtins__', <module 'builtins' (built-in)>), ('_ih', ['', 'import os\\nos.environ', 'import os.path as path\\ndef path_divide(apath):\\n  print(f\\'{apath}:{path.splittext(apath)}\\')\\n\\npath_divide(\"wada.xp\")', 'import os.path as path\\ndef path_divide(apath):\\n  print(f\\'{apath}:{path.splitext(apath)}\\')\\n\\npath_divide(\"wada.xp\")', 'print(\"True\") if id(\"String\") == id(\"String\")', 'print(\"True\") if id(\"String\") == id(\"String\") else \"False\"', 'bnums = [10, 20, 56, 35, 17, 99]\\nbvalues = bytearray(bnums)\\nbvalues', 'bnums = [10, 20, 56, 35, 17, 99]\\nbvalues = bytearray(bnums)\\nbvalues\\n# Iterate through the elements of the bytearray and print each element.\\nfor x in values:\\n    print(x)', 'bnums = [10, 20, 56, 35, 17, 99]\\nbvalues = bytearray(bnums)\\nbvalues\\n# Iterate through the elements of the bytearray and print each element.\\nfor x in bvalues:\\n    print(x)', 'bnums = [10, 20, 56, 35, 17, 99]\\nbvalues = bytearray(bnums)\\nprint(bvalues)\\n# Iterate through the elements of the bytearray and print each element.\\nfor x in bvalues:\\n    print(x)', 'afloat = 9.12314\\nafloat.round(3)', 'afloat = 9.12314\\nround(afloat,3)', 'locals()', 'print(\"True\") if isinstance(\\'__main__\\', locals().items()', 'print(\"True\") if isinstance(\\'__main__\\', locals().items() else \"False\"', 'print(\"True\") if isinstance(\\'__main__\\', locals().items()) else \"False\"', 'print(\"True\") if \\'__main__\\' in locals().items() else \"False\"', 'locals.items()', 'locals().items()', 'locals().values()']), ('_oh', {...}), ('_dh', ['/content']), ('In', ['', 'import os\\nos.environ', 'import os.path as path\\ndef path_divide(apath):\\n  print(f\\'{apath}:{path.splittext(apath)}\\')\\n\\npath_divide(\"wada.xp\")', 'import os.path as path\\ndef path_divide(apath):\\n  print(f\\'{apath}:{path.splitext(apath)}\\')\\n\\npath_divide(\"wada.xp\")', 'print(\"True\") if id(\"String\") == id(\"String\")', 'print(\"True\") if id(\"String\") == id(\"String\") else \"False\"', 'bnums = [10, 20, 56, 35, 17, 99]\\nbvalues = bytearray(bnums)\\nbvalues', 'bnums = [10, 20, 56, 35, 17, 99]\\nbvalues = bytearray(bnums)\\nbvalues\\n# Iterate through the elements of the bytearray and print each element.\\nfor x in values:\\n    print(x)', 'bnums = [10, 20, 56, 35, 17, 99]\\nbvalues = bytearray(bnums)\\nbvalues\\n# Iterate through the elements of the bytearray and print each element.\\nfor x in bvalues:\\n    print(x)', 'bnums = [10, 20, 56, 35, 17, 99]\\nbvalues = bytearray(bnums)\\nprint(bvalues)\\n# Iterate through the elements of the bytearray and print each element.\\nfor x in bvalues:\\n    print(x)', 'afloat = 9.12314\\nafloat.round(3)', 'afloat = 9.12314\\nround(afloat,3)', 'locals()', 'print(\"True\") if isinstance(\\'__main__\\', locals().items()', 'print(\"True\") if isinstance(\\'__main__\\', locals().items() else \"False\"', 'print(\"True\") if isinstance(\\'__main__\\', locals().items()) else \"False\"', 'print(\"True\") if \\'__main__\\' in locals().items() else \"False\"', 'locals.items()', 'locals().items()', 'locals().values()']), ('Out', {...}), ('get_ipython', <bound method InteractiveShell.get_ipython of <google.colab._shell.Shell object at 0x7b1bb296e710>>), ('exit', <IPython.core.autocall.ZMQExitAutocall object at 0x7b1bb296dbd0>), ('quit', <IPython.core.autocall.ZMQExitAutocall object at 0x7b1bb296dbd0>), ('_', ...), ('__', 'False'), ('___', {...}), ('_i', 'locals().items()'), ('_ii', 'locals.items()'), ('_iii', 'print(\"True\") if \\'__main__\\' in locals().items() else \"False\"'), ('_i1', 'import os\\nos.environ'), ('os', <module 'os' from '/usr/lib/python3.10/os.py'>), ('_1', environ({'SHELL': '/bin/bash', 'NV_LIBCUBLAS_VERSION': '12.2.5.6-1', 'NVIDIA_VISIBLE_DEVICES': 'all', 'COLAB_JUPYTER_TRANSPORT': 'ipc', 'NV_NVML_DEV_VERSION': '12.2.140-1', 'NV_CUDNN_PACKAGE_NAME': 'libcudnn8', 'CGROUP_MEMORY_EVENTS': '/sys/fs/cgroup/memory.events /var/colab/cgroup/jupyter-children/memory.events', 'NV_LIBNCCL_DEV_PACKAGE': 'libnccl-dev=2.19.3-1+cuda12.2', 'NV_LIBNCCL_DEV_PACKAGE_VERSION': '2.19.3-1', 'VM_GCE_METADATA_HOST': '169.254.169.253', 'HOSTNAME': '57645698dfef', 'LANGUAGE': 'en_US', 'TBE_RUNTIME_ADDR': '172.28.0.1:8011', 'COLAB_TPU_1VM': '', 'GCE_METADATA_TIMEOUT': '3', 'NVIDIA_REQUIRE_CUDA': 'cuda>=12.2 brand=tesla,driver>=470,driver<471 brand=unknown,driver>=470,driver<471 brand=nvidia,driver>=470,driver<471 brand=nvidiartx,driver>=470,driver<471 brand=geforce,driver>=470,driver<471 brand=geforcertx,driver>=470,driver<471 brand=quadro,driver>=470,driver<471 brand=quadrortx,driver>=470,driver<471 brand=titan,driver>=470,driver<471 brand=titanrtx,driver>=470,driver<471 brand=tesla,driver>=525,driver<526 brand=unknown,driver>=525,driver<526 brand=nvidia,driver>=525,driver<526 brand=nvidiartx,driver>=525,driver<526 brand=geforce,driver>=525,driver<526 brand=geforcertx,driver>=525,driver<526 brand=quadro,driver>=525,driver<526 brand=quadrortx,driver>=525,driver<526 brand=titan,driver>=525,driver<526 brand=titanrtx,driver>=525,driver<526', 'NV_LIBCUBLAS_DEV_PACKAGE': 'libcublas-dev-12-2=12.2.5.6-1', 'NV_NVTX_VERSION': '12.2.140-1', 'COLAB_JUPYTER_IP': '172.28.0.12', 'NV_CUDA_CUDART_DEV_VERSION': '12.2.140-1', 'NV_LIBCUSPARSE_VERSION': '12.1.2.141-1', 'COLAB_LANGUAGE_SERVER_PROXY_ROOT_URL': 'http://172.28.0.1:8013/', 'NV_LIBNPP_VERSION': '12.2.1.4-1', 'NCCL_VERSION': '2.19.3-1', 'KMP_LISTEN_PORT': '6000', 'TF_FORCE_GPU_ALLOW_GROWTH': 'true', 'ENV': '/root/.bashrc', 'PWD': '/', 'COLAB_LANGUAGE_SERVER_PROXY_REQUEST_TIMEOUT': '30s', 'TBE_EPHEM_CREDS_ADDR': '172.28.0.1:8009', 'TBE_CREDS_ADDR': '172.28.0.1:8008', 'NV_CUDNN_PACKAGE': 'libcudnn8=8.9.6.50-1+cuda12.2', 'NVIDIA_DRIVER_CAPABILITIES': 'compute,utility', 'COLAB_JUPYTER_TOKEN': '', 'LAST_FORCED_REBUILD': '20240627', 'NV_NVPROF_DEV_PACKAGE': 'cuda-nvprof-12-2=12.2.142-1', 'NV_LIBNPP_PACKAGE': 'libnpp-12-2=12.2.1.4-1', 'NV_LIBNCCL_DEV_PACKAGE_NAME': 'libnccl-dev', 'TCLLIBPATH': '/usr/share/tcltk/tcllib1.20', 'NV_LIBCUBLAS_DEV_VERSION': '12.2.5.6-1', 'NVIDIA_PRODUCT_NAME': 'CUDA', 'COLAB_KERNEL_MANAGER_PROXY_HOST': '172.28.0.12', 'NV_LIBCUBLAS_DEV_PACKAGE_NAME': 'libcublas-dev-12-2', 'NV_CUDA_CUDART_VERSION': '12.2.140-1', 'COLAB_WARMUP_DEFAULTS': '1', 'HOME': '/root', 'LANG': 'en_US.UTF-8', 'COLUMNS': '100', 'CUDA_VERSION': '12.2.2', 'CLOUDSDK_CONFIG': '/content/.config', 'NV_LIBCUBLAS_PACKAGE': 'libcublas-12-2=12.2.5.6-1', 'NV_CUDA_NSIGHT_COMPUTE_DEV_PACKAGE': 'cuda-nsight-compute-12-2=12.2.2-1', 'COLAB_RELEASE_TAG': 'release-colab_20240910-060204_RC00', 'KMP_TARGET_PORT': '9000', 'KMP_EXTRA_ARGS': '--logtostderr --listen_host=172.28.0.12 --target_host=172.28.0.12 --tunnel_background_save_url=https://colab.research.google.com/tun/m/cc48301118ce562b961b3c22d803539adc1e0c19/m-s-yysr7zal1kwx --tunnel_background_save_delay=10s --tunnel_periodic_background_save_frequency=30m0s --enable_output_coalescing=true --output_coalescing_required=true --log_code_content', 'NV_LIBNPP_DEV_PACKAGE': 'libnpp-dev-12-2=12.2.1.4-1', 'COLAB_LANGUAGE_SERVER_PROXY_LSP_DIRS': '/datalab/web/pyright/typeshed-fallback/stdlib,/usr/local/lib/python3.10/dist-packages', 'NV_LIBCUBLAS_PACKAGE_NAME': 'libcublas-12-2', 'COLAB_KERNEL_MANAGER_PROXY_PORT': '6000', 'CLOUDSDK_PYTHON': 'python3', 'NV_LIBNPP_DEV_VERSION': '12.2.1.4-1', 'NO_GCE_CHECK': 'False', 'PYTHONPATH': '/env/python', 'NV_LIBCUSPARSE_DEV_VERSION': '12.1.2.141-1', 'LIBRARY_PATH': '/usr/local/cuda/lib64/stubs', 'NV_CUDNN_VERSION': '8.9.6.50', 'SHLVL': '0', 'NV_CUDA_LIB_VERSION': '12.2.2-1', 'COLAB_LANGUAGE_SERVER_PROXY': '/usr/colab/bin/language_service', 'NVARCH': 'x86_64', 'NV_CUDNN_PACKAGE_DEV': 'libcudnn8-dev=8.9.6.50-1+cuda12.2', 'NV_CUDA_COMPAT_PACKAGE': 'cuda-compat-12-2', 'NV_LIBNCCL_PACKAGE': 'libnccl2=2.19.3-1+cuda12.2', 'LD_LIBRARY_PATH': '/usr/local/nvidia/lib:/usr/local/nvidia/lib64', 'COLAB_GPU': '', 'NV_CUDA_NSIGHT_COMPUTE_VERSION': '12.2.2-1', 'GCS_READ_CACHE_BLOCK_SIZE_MB': '16', 'NV_NVPROF_VERSION': '12.2.142-1', 'LC_ALL': 'en_US.UTF-8', 'COLAB_FILE_HANDLER_ADDR': 'localhost:3453', 'PATH': '/opt/bin:/usr/local/nvidia/bin:/usr/local/cuda/bin:/usr/local/sbin:/usr/local/bin:/usr/sbin:/usr/bin:/sbin:/bin:/tools/node/bin:/tools/google-cloud-sdk/bin', 'NV_LIBNCCL_PACKAGE_NAME': 'libnccl2', 'COLAB_DEBUG_ADAPTER_MUX_PATH': '/usr/local/bin/dap_multiplexer', 'NV_LIBNCCL_PACKAGE_VERSION': '2.19.3-1', 'PYTHONWARNINGS': 'ignore:::pip._internal.cli.base_command', 'DEBIAN_FRONTEND': 'noninteractive', 'COLAB_BACKEND_VERSION': 'next', 'OLDPWD': '/', 'JPY_PARENT_PID': '88', 'TERM': 'xterm-color', 'CLICOLOR': '1', 'PAGER': 'cat', 'GIT_PAGER': 'cat', 'MPLBACKEND': 'module://ipykernel.pylab.backend_inline', 'ENABLE_DIRECTORYPREFETCHER': '1', 'USE_AUTH_EPHEM': '1', 'PYDEVD_USE_FRAME_EVAL': 'NO'})), ('_i2', 'import os.path as path\\ndef path_divide(apath):\\n  print(f\\'{apath}:{path.splittext(apath)}\\')\\n\\npath_divide(\"wada.xp\")'), ('path', <module 'posixpath' from '/usr/lib/python3.10/posixpath.py'>), ('path_divide', <function path_divide at 0x7b1ba03a5fc0>), ('_i3', 'import os.path as path\\ndef path_divide(apath):\\n  print(f\\'{apath}:{path.splitext(apath)}\\')\\n\\npath_divide(\"wada.xp\")'), ('_i4', 'print(\"True\") if id(\"String\") == id(\"String\")'), ('_i5', 'print(\"True\") if id(\"String\") == id(\"String\") else \"False\"'), ('_i6', 'bnums = [10, 20, 56, 35, 17, 99]\\nbvalues = bytearray(bnums)\\nbvalues'), ('bnums', [10, 20, 56, 35, 17, 99]), ('bvalues', bytearray(b'\\n\\x148#\\x11c')), ('_6', bytearray(b'\\n\\x148#\\x11c')), ('_i7', 'bnums = [10, 20, 56, 35, 17, 99]\\nbvalues = bytearray(bnums)\\nbvalues\\n# Iterate through the elements of the bytearray and print each element.\\nfor x in values:\\n    print(x)'), ('_i8', 'bnums = [10, 20, 56, 35, 17, 99]\\nbvalues = bytearray(bnums)\\nbvalues\\n# Iterate through the elements of the bytearray and print each element.\\nfor x in bvalues:\\n    print(x)'), ('x', 99), ('_i9', 'bnums = [10, 20, 56, 35, 17, 99]\\nbvalues = bytearray(bnums)\\nprint(bvalues)\\n# Iterate through the elements of the bytearray and print each element.\\nfor x in bvalues:\\n    print(x)'), ('_i10', 'afloat = 9.12314\\nafloat.round(3)'), ('afloat', 9.12314), ('_i11', 'afloat = 9.12314\\nround(afloat,3)'), ('_11', 9.123), ('_i12', 'locals()'), ('_12', {...}), ('_i13', 'print(\"True\") if isinstance(\\'__main__\\', locals().items()'), ('_i14', 'print(\"True\") if isinstance(\\'__main__\\', locals().items() else \"False\"'), ('_i15', 'print(\"True\") if isinstance(\\'__main__\\', locals().items()) else \"False\"'), ('_i16', 'print(\"True\") if \\'__main__\\' in locals().items() else \"False\"'), ('_16', 'False'), ('_i17', 'locals.items()'), ('_i18', 'locals().items()'), ('_18', ...), ('_i19', 'locals().values()')]), '_i19': 'locals().values()'}, 16: 'False', 18: dict_items([('__name__', '__main__'), ('__doc__', 'Automatically created module for IPython interactive environment'), ('__package__', None), ('__loader__', None), ('__spec__', None), ('__builtin__', <module 'builtins' (built-in)>), ('__builtins__', <module 'builtins' (built-in)>), ('_ih', ['', 'import os\\nos.environ', 'import os.path as path\\ndef path_divide(apath):\\n  print(f\\'{apath}:{path.splittext(apath)}\\')\\n\\npath_divide(\"wada.xp\")', 'import os.path as path\\ndef path_divide(apath):\\n  print(f\\'{apath}:{path.splitext(apath)}\\')\\n\\npath_divide(\"wada.xp\")', 'print(\"True\") if id(\"String\") == id(\"String\")', 'print(\"True\") if id(\"String\") == id(\"String\") else \"False\"', 'bnums = [10, 20, 56, 35, 17, 99]\\nbvalues = bytearray(bnums)\\nbvalues', 'bnums = [10, 20, 56, 35, 17, 99]\\nbvalues = bytearray(bnums)\\nbvalues\\n# Iterate through the elements of the bytearray and print each element.\\nfor x in values:\\n    print(x)', 'bnums = [10, 20, 56, 35, 17, 99]\\nbvalues = bytearray(bnums)\\nbvalues\\n# Iterate through the elements of the bytearray and print each element.\\nfor x in bvalues:\\n    print(x)', 'bnums = [10, 20, 56, 35, 17, 99]\\nbvalues = bytearray(bnums)\\nprint(bvalues)\\n# Iterate through the elements of the bytearray and print each element.\\nfor x in bvalues:\\n    print(x)', 'afloat = 9.12314\\nafloat.round(3)', 'afloat = 9.12314\\nround(afloat,3)', 'locals()', 'print(\"True\") if isinstance(\\'__main__\\', locals().items()', 'print(\"True\") if isinstance(\\'__main__\\', locals().items() else \"False\"', 'print(\"True\") if isinstance(\\'__main__\\', locals().items()) else \"False\"', 'print(\"True\") if \\'__main__\\' in locals().items() else \"False\"', 'locals.items()', 'locals().items()', 'locals().values()']), ('_oh', {...}), ('_dh', ['/content']), ('In', ['', 'import os\\nos.environ', 'import os.path as path\\ndef path_divide(apath):\\n  print(f\\'{apath}:{path.splittext(apath)}\\')\\n\\npath_divide(\"wada.xp\")', 'import os.path as path\\ndef path_divide(apath):\\n  print(f\\'{apath}:{path.splitext(apath)}\\')\\n\\npath_divide(\"wada.xp\")', 'print(\"True\") if id(\"String\") == id(\"String\")', 'print(\"True\") if id(\"String\") == id(\"String\") else \"False\"', 'bnums = [10, 20, 56, 35, 17, 99]\\nbvalues = bytearray(bnums)\\nbvalues', 'bnums = [10, 20, 56, 35, 17, 99]\\nbvalues = bytearray(bnums)\\nbvalues\\n# Iterate through the elements of the bytearray and print each element.\\nfor x in values:\\n    print(x)', 'bnums = [10, 20, 56, 35, 17, 99]\\nbvalues = bytearray(bnums)\\nbvalues\\n# Iterate through the elements of the bytearray and print each element.\\nfor x in bvalues:\\n    print(x)', 'bnums = [10, 20, 56, 35, 17, 99]\\nbvalues = bytearray(bnums)\\nprint(bvalues)\\n# Iterate through the elements of the bytearray and print each element.\\nfor x in bvalues:\\n    print(x)', 'afloat = 9.12314\\nafloat.round(3)', 'afloat = 9.12314\\nround(afloat,3)', 'locals()', 'print(\"True\") if isinstance(\\'__main__\\', locals().items()', 'print(\"True\") if isinstance(\\'__main__\\', locals().items() else \"False\"', 'print(\"True\") if isinstance(\\'__main__\\', locals().items()) else \"False\"', 'print(\"True\") if \\'__main__\\' in locals().items() else \"False\"', 'locals.items()', 'locals().items()', 'locals().values()']), ('Out', {...}), ('get_ipython', <bound method InteractiveShell.get_ipython of <google.colab._shell.Shell object at 0x7b1bb296e710>>), ('exit', <IPython.core.autocall.ZMQExitAutocall object at 0x7b1bb296dbd0>), ('quit', <IPython.core.autocall.ZMQExitAutocall object at 0x7b1bb296dbd0>), ('_', ...), ('__', 'False'), ('___', {'__name__': '__main__', '__doc__': 'Automatically created module for IPython interactive environment', '__package__': None, '__loader__': None, '__spec__': None, '__builtin__': <module 'builtins' (built-in)>, '__builtins__': <module 'builtins' (built-in)>, '_ih': ['', 'import os\\nos.environ', 'import os.path as path\\ndef path_divide(apath):\\n  print(f\\'{apath}:{path.splittext(apath)}\\')\\n\\npath_divide(\"wada.xp\")', 'import os.path as path\\ndef path_divide(apath):\\n  print(f\\'{apath}:{path.splitext(apath)}\\')\\n\\npath_divide(\"wada.xp\")', 'print(\"True\") if id(\"String\") == id(\"String\")', 'print(\"True\") if id(\"String\") == id(\"String\") else \"False\"', 'bnums = [10, 20, 56, 35, 17, 99]\\nbvalues = bytearray(bnums)\\nbvalues', 'bnums = [10, 20, 56, 35, 17, 99]\\nbvalues = bytearray(bnums)\\nbvalues\\n# Iterate through the elements of the bytearray and print each element.\\nfor x in values:\\n    print(x)', 'bnums = [10, 20, 56, 35, 17, 99]\\nbvalues = bytearray(bnums)\\nbvalues\\n# Iterate through the elements of the bytearray and print each element.\\nfor x in bvalues:\\n    print(x)', 'bnums = [10, 20, 56, 35, 17, 99]\\nbvalues = bytearray(bnums)\\nprint(bvalues)\\n# Iterate through the elements of the bytearray and print each element.\\nfor x in bvalues:\\n    print(x)', 'afloat = 9.12314\\nafloat.round(3)', 'afloat = 9.12314\\nround(afloat,3)', 'locals()', 'print(\"True\") if isinstance(\\'__main__\\', locals().items()', 'print(\"True\") if isinstance(\\'__main__\\', locals().items() else \"False\"', 'print(\"True\") if isinstance(\\'__main__\\', locals().items()) else \"False\"', 'print(\"True\") if \\'__main__\\' in locals().items() else \"False\"', 'locals.items()', 'locals().items()', 'locals().values()'], '_oh': {...}, '_dh': ['/content'], 'In': ['', 'import os\\nos.environ', 'import os.path as path\\ndef path_divide(apath):\\n  print(f\\'{apath}:{path.splittext(apath)}\\')\\n\\npath_divide(\"wada.xp\")', 'import os.path as path\\ndef path_divide(apath):\\n  print(f\\'{apath}:{path.splitext(apath)}\\')\\n\\npath_divide(\"wada.xp\")', 'print(\"True\") if id(\"String\") == id(\"String\")', 'print(\"True\") if id(\"String\") == id(\"String\") else \"False\"', 'bnums = [10, 20, 56, 35, 17, 99]\\nbvalues = bytearray(bnums)\\nbvalues', 'bnums = [10, 20, 56, 35, 17, 99]\\nbvalues = bytearray(bnums)\\nbvalues\\n# Iterate through the elements of the bytearray and print each element.\\nfor x in values:\\n    print(x)', 'bnums = [10, 20, 56, 35, 17, 99]\\nbvalues = bytearray(bnums)\\nbvalues\\n# Iterate through the elements of the bytearray and print each element.\\nfor x in bvalues:\\n    print(x)', 'bnums = [10, 20, 56, 35, 17, 99]\\nbvalues = bytearray(bnums)\\nprint(bvalues)\\n# Iterate through the elements of the bytearray and print each element.\\nfor x in bvalues:\\n    print(x)', 'afloat = 9.12314\\nafloat.round(3)', 'afloat = 9.12314\\nround(afloat,3)', 'locals()', 'print(\"True\") if isinstance(\\'__main__\\', locals().items()', 'print(\"True\") if isinstance(\\'__main__\\', locals().items() else \"False\"', 'print(\"True\") if isinstance(\\'__main__\\', locals().items()) else \"False\"', 'print(\"True\") if \\'__main__\\' in locals().items() else \"False\"', 'locals.items()', 'locals().items()', 'locals().values()'], 'Out': {...}, 'get_ipython': <bound method InteractiveShell.get_ipython of <google.colab._shell.Shell object at 0x7b1bb296e710>>, 'exit': <IPython.core.autocall.ZMQExitAutocall object at 0x7b1bb296dbd0>, 'quit': <IPython.core.autocall.ZMQExitAutocall object at 0x7b1bb296dbd0>, '_': ..., '__': 'False', '___': {...}, '_i': 'locals().items()', '_ii': 'locals.items()', '_iii': 'print(\"True\") if \\'__main__\\' in locals().items() else \"False\"', '_i1': 'import os\\nos.environ', 'os': <module 'os' from '/usr/lib/python3.10/os.py'>, '_1': environ({'SHELL': '/bin/bash', 'NV_LIBCUBLAS_VERSION': '12.2.5.6-1', 'NVIDIA_VISIBLE_DEVICES': 'all', 'COLAB_JUPYTER_TRANSPORT': 'ipc', 'NV_NVML_DEV_VERSION': '12.2.140-1', 'NV_CUDNN_PACKAGE_NAME': 'libcudnn8', 'CGROUP_MEMORY_EVENTS': '/sys/fs/cgroup/memory.events /var/colab/cgroup/jupyter-children/memory.events', 'NV_LIBNCCL_DEV_PACKAGE': 'libnccl-dev=2.19.3-1+cuda12.2', 'NV_LIBNCCL_DEV_PACKAGE_VERSION': '2.19.3-1', 'VM_GCE_METADATA_HOST': '169.254.169.253', 'HOSTNAME': '57645698dfef', 'LANGUAGE': 'en_US', 'TBE_RUNTIME_ADDR': '172.28.0.1:8011', 'COLAB_TPU_1VM': '', 'GCE_METADATA_TIMEOUT': '3', 'NVIDIA_REQUIRE_CUDA': 'cuda>=12.2 brand=tesla,driver>=470,driver<471 brand=unknown,driver>=470,driver<471 brand=nvidia,driver>=470,driver<471 brand=nvidiartx,driver>=470,driver<471 brand=geforce,driver>=470,driver<471 brand=geforcertx,driver>=470,driver<471 brand=quadro,driver>=470,driver<471 brand=quadrortx,driver>=470,driver<471 brand=titan,driver>=470,driver<471 brand=titanrtx,driver>=470,driver<471 brand=tesla,driver>=525,driver<526 brand=unknown,driver>=525,driver<526 brand=nvidia,driver>=525,driver<526 brand=nvidiartx,driver>=525,driver<526 brand=geforce,driver>=525,driver<526 brand=geforcertx,driver>=525,driver<526 brand=quadro,driver>=525,driver<526 brand=quadrortx,driver>=525,driver<526 brand=titan,driver>=525,driver<526 brand=titanrtx,driver>=525,driver<526', 'NV_LIBCUBLAS_DEV_PACKAGE': 'libcublas-dev-12-2=12.2.5.6-1', 'NV_NVTX_VERSION': '12.2.140-1', 'COLAB_JUPYTER_IP': '172.28.0.12', 'NV_CUDA_CUDART_DEV_VERSION': '12.2.140-1', 'NV_LIBCUSPARSE_VERSION': '12.1.2.141-1', 'COLAB_LANGUAGE_SERVER_PROXY_ROOT_URL': 'http://172.28.0.1:8013/', 'NV_LIBNPP_VERSION': '12.2.1.4-1', 'NCCL_VERSION': '2.19.3-1', 'KMP_LISTEN_PORT': '6000', 'TF_FORCE_GPU_ALLOW_GROWTH': 'true', 'ENV': '/root/.bashrc', 'PWD': '/', 'COLAB_LANGUAGE_SERVER_PROXY_REQUEST_TIMEOUT': '30s', 'TBE_EPHEM_CREDS_ADDR': '172.28.0.1:8009', 'TBE_CREDS_ADDR': '172.28.0.1:8008', 'NV_CUDNN_PACKAGE': 'libcudnn8=8.9.6.50-1+cuda12.2', 'NVIDIA_DRIVER_CAPABILITIES': 'compute,utility', 'COLAB_JUPYTER_TOKEN': '', 'LAST_FORCED_REBUILD': '20240627', 'NV_NVPROF_DEV_PACKAGE': 'cuda-nvprof-12-2=12.2.142-1', 'NV_LIBNPP_PACKAGE': 'libnpp-12-2=12.2.1.4-1', 'NV_LIBNCCL_DEV_PACKAGE_NAME': 'libnccl-dev', 'TCLLIBPATH': '/usr/share/tcltk/tcllib1.20', 'NV_LIBCUBLAS_DEV_VERSION': '12.2.5.6-1', 'NVIDIA_PRODUCT_NAME': 'CUDA', 'COLAB_KERNEL_MANAGER_PROXY_HOST': '172.28.0.12', 'NV_LIBCUBLAS_DEV_PACKAGE_NAME': 'libcublas-dev-12-2', 'NV_CUDA_CUDART_VERSION': '12.2.140-1', 'COLAB_WARMUP_DEFAULTS': '1', 'HOME': '/root', 'LANG': 'en_US.UTF-8', 'COLUMNS': '100', 'CUDA_VERSION': '12.2.2', 'CLOUDSDK_CONFIG': '/content/.config', 'NV_LIBCUBLAS_PACKAGE': 'libcublas-12-2=12.2.5.6-1', 'NV_CUDA_NSIGHT_COMPUTE_DEV_PACKAGE': 'cuda-nsight-compute-12-2=12.2.2-1', 'COLAB_RELEASE_TAG': 'release-colab_20240910-060204_RC00', 'KMP_TARGET_PORT': '9000', 'KMP_EXTRA_ARGS': '--logtostderr --listen_host=172.28.0.12 --target_host=172.28.0.12 --tunnel_background_save_url=https://colab.research.google.com/tun/m/cc48301118ce562b961b3c22d803539adc1e0c19/m-s-yysr7zal1kwx --tunnel_background_save_delay=10s --tunnel_periodic_background_save_frequency=30m0s --enable_output_coalescing=true --output_coalescing_required=true --log_code_content', 'NV_LIBNPP_DEV_PACKAGE': 'libnpp-dev-12-2=12.2.1.4-1', 'COLAB_LANGUAGE_SERVER_PROXY_LSP_DIRS': '/datalab/web/pyright/typeshed-fallback/stdlib,/usr/local/lib/python3.10/dist-packages', 'NV_LIBCUBLAS_PACKAGE_NAME': 'libcublas-12-2', 'COLAB_KERNEL_MANAGER_PROXY_PORT': '6000', 'CLOUDSDK_PYTHON': 'python3', 'NV_LIBNPP_DEV_VERSION': '12.2.1.4-1', 'NO_GCE_CHECK': 'False', 'PYTHONPATH': '/env/python', 'NV_LIBCUSPARSE_DEV_VERSION': '12.1.2.141-1', 'LIBRARY_PATH': '/usr/local/cuda/lib64/stubs', 'NV_CUDNN_VERSION': '8.9.6.50', 'SHLVL': '0', 'NV_CUDA_LIB_VERSION': '12.2.2-1', 'COLAB_LANGUAGE_SERVER_PROXY': '/usr/colab/bin/language_service', 'NVARCH': 'x86_64', 'NV_CUDNN_PACKAGE_DEV': 'libcudnn8-dev=8.9.6.50-1+cuda12.2', 'NV_CUDA_COMPAT_PACKAGE': 'cuda-compat-12-2', 'NV_LIBNCCL_PACKAGE': 'libnccl2=2.19.3-1+cuda12.2', 'LD_LIBRARY_PATH': '/usr/local/nvidia/lib:/usr/local/nvidia/lib64', 'COLAB_GPU': '', 'NV_CUDA_NSIGHT_COMPUTE_VERSION': '12.2.2-1', 'GCS_READ_CACHE_BLOCK_SIZE_MB': '16', 'NV_NVPROF_VERSION': '12.2.142-1', 'LC_ALL': 'en_US.UTF-8', 'COLAB_FILE_HANDLER_ADDR': 'localhost:3453', 'PATH': '/opt/bin:/usr/local/nvidia/bin:/usr/local/cuda/bin:/usr/local/sbin:/usr/local/bin:/usr/sbin:/usr/bin:/sbin:/bin:/tools/node/bin:/tools/google-cloud-sdk/bin', 'NV_LIBNCCL_PACKAGE_NAME': 'libnccl2', 'COLAB_DEBUG_ADAPTER_MUX_PATH': '/usr/local/bin/dap_multiplexer', 'NV_LIBNCCL_PACKAGE_VERSION': '2.19.3-1', 'PYTHONWARNINGS': 'ignore:::pip._internal.cli.base_command', 'DEBIAN_FRONTEND': 'noninteractive', 'COLAB_BACKEND_VERSION': 'next', 'OLDPWD': '/', 'JPY_PARENT_PID': '88', 'TERM': 'xterm-color', 'CLICOLOR': '1', 'PAGER': 'cat', 'GIT_PAGER': 'cat', 'MPLBACKEND': 'module://ipykernel.pylab.backend_inline', 'ENABLE_DIRECTORYPREFETCHER': '1', 'USE_AUTH_EPHEM': '1', 'PYDEVD_USE_FRAME_EVAL': 'NO'}), '_i2': 'import os.path as path\\ndef path_divide(apath):\\n  print(f\\'{apath}:{path.splittext(apath)}\\')\\n\\npath_divide(\"wada.xp\")', 'path': <module 'posixpath' from '/usr/lib/python3.10/posixpath.py'>, 'path_divide': <function path_divide at 0x7b1ba03a5fc0>, '_i3': 'import os.path as path\\ndef path_divide(apath):\\n  print(f\\'{apath}:{path.splitext(apath)}\\')\\n\\npath_divide(\"wada.xp\")', '_i4': 'print(\"True\") if id(\"String\") == id(\"String\")', '_i5': 'print(\"True\") if id(\"String\") == id(\"String\") else \"False\"', '_i6': 'bnums = [10, 20, 56, 35, 17, 99]\\nbvalues = bytearray(bnums)\\nbvalues', 'bnums': [10, 20, 56, 35, 17, 99], 'bvalues': bytearray(b'\\n\\x148#\\x11c'), '_6': bytearray(b'\\n\\x148#\\x11c'), '_i7': 'bnums = [10, 20, 56, 35, 17, 99]\\nbvalues = bytearray(bnums)\\nbvalues\\n# Iterate through the elements of the bytearray and print each element.\\nfor x in values:\\n    print(x)', '_i8': 'bnums = [10, 20, 56, 35, 17, 99]\\nbvalues = bytearray(bnums)\\nbvalues\\n# Iterate through the elements of the bytearray and print each element.\\nfor x in bvalues:\\n    print(x)', 'x': 99, '_i9': 'bnums = [10, 20, 56, 35, 17, 99]\\nbvalues = bytearray(bnums)\\nprint(bvalues)\\n# Iterate through the elements of the bytearray and print each element.\\nfor x in bvalues:\\n    print(x)', '_i10': 'afloat = 9.12314\\nafloat.round(3)', 'afloat': 9.12314, '_i11': 'afloat = 9.12314\\nround(afloat,3)', '_11': 9.123, '_i12': 'locals()', '_12': {...}, '_i13': 'print(\"True\") if isinstance(\\'__main__\\', locals().items()', '_i14': 'print(\"True\") if isinstance(\\'__main__\\', locals().items() else \"False\"', '_i15': 'print(\"True\") if isinstance(\\'__main__\\', locals().items()) else \"False\"', '_i16': 'print(\"True\") if \\'__main__\\' in locals().items() else \"False\"', '_16': 'False', '_i17': 'locals.items()', '_i18': 'locals().items()', '_18': ..., '_i19': 'locals().values()'}), ('_i', 'locals().items()'), ('_ii', 'locals.items()'), ('_iii', 'print(\"True\") if \\'__main__\\' in locals().items() else \"False\"'), ('_i1', 'import os\\nos.environ'), ('os', <module 'os' from '/usr/lib/python3.10/os.py'>), ('_1', environ({'SHELL': '/bin/bash', 'NV_LIBCUBLAS_VERSION': '12.2.5.6-1', 'NVIDIA_VISIBLE_DEVICES': 'all', 'COLAB_JUPYTER_TRANSPORT': 'ipc', 'NV_NVML_DEV_VERSION': '12.2.140-1', 'NV_CUDNN_PACKAGE_NAME': 'libcudnn8', 'CGROUP_MEMORY_EVENTS': '/sys/fs/cgroup/memory.events /var/colab/cgroup/jupyter-children/memory.events', 'NV_LIBNCCL_DEV_PACKAGE': 'libnccl-dev=2.19.3-1+cuda12.2', 'NV_LIBNCCL_DEV_PACKAGE_VERSION': '2.19.3-1', 'VM_GCE_METADATA_HOST': '169.254.169.253', 'HOSTNAME': '57645698dfef', 'LANGUAGE': 'en_US', 'TBE_RUNTIME_ADDR': '172.28.0.1:8011', 'COLAB_TPU_1VM': '', 'GCE_METADATA_TIMEOUT': '3', 'NVIDIA_REQUIRE_CUDA': 'cuda>=12.2 brand=tesla,driver>=470,driver<471 brand=unknown,driver>=470,driver<471 brand=nvidia,driver>=470,driver<471 brand=nvidiartx,driver>=470,driver<471 brand=geforce,driver>=470,driver<471 brand=geforcertx,driver>=470,driver<471 brand=quadro,driver>=470,driver<471 brand=quadrortx,driver>=470,driver<471 brand=titan,driver>=470,driver<471 brand=titanrtx,driver>=470,driver<471 brand=tesla,driver>=525,driver<526 brand=unknown,driver>=525,driver<526 brand=nvidia,driver>=525,driver<526 brand=nvidiartx,driver>=525,driver<526 brand=geforce,driver>=525,driver<526 brand=geforcertx,driver>=525,driver<526 brand=quadro,driver>=525,driver<526 brand=quadrortx,driver>=525,driver<526 brand=titan,driver>=525,driver<526 brand=titanrtx,driver>=525,driver<526', 'NV_LIBCUBLAS_DEV_PACKAGE': 'libcublas-dev-12-2=12.2.5.6-1', 'NV_NVTX_VERSION': '12.2.140-1', 'COLAB_JUPYTER_IP': '172.28.0.12', 'NV_CUDA_CUDART_DEV_VERSION': '12.2.140-1', 'NV_LIBCUSPARSE_VERSION': '12.1.2.141-1', 'COLAB_LANGUAGE_SERVER_PROXY_ROOT_URL': 'http://172.28.0.1:8013/', 'NV_LIBNPP_VERSION': '12.2.1.4-1', 'NCCL_VERSION': '2.19.3-1', 'KMP_LISTEN_PORT': '6000', 'TF_FORCE_GPU_ALLOW_GROWTH': 'true', 'ENV': '/root/.bashrc', 'PWD': '/', 'COLAB_LANGUAGE_SERVER_PROXY_REQUEST_TIMEOUT': '30s', 'TBE_EPHEM_CREDS_ADDR': '172.28.0.1:8009', 'TBE_CREDS_ADDR': '172.28.0.1:8008', 'NV_CUDNN_PACKAGE': 'libcudnn8=8.9.6.50-1+cuda12.2', 'NVIDIA_DRIVER_CAPABILITIES': 'compute,utility', 'COLAB_JUPYTER_TOKEN': '', 'LAST_FORCED_REBUILD': '20240627', 'NV_NVPROF_DEV_PACKAGE': 'cuda-nvprof-12-2=12.2.142-1', 'NV_LIBNPP_PACKAGE': 'libnpp-12-2=12.2.1.4-1', 'NV_LIBNCCL_DEV_PACKAGE_NAME': 'libnccl-dev', 'TCLLIBPATH': '/usr/share/tcltk/tcllib1.20', 'NV_LIBCUBLAS_DEV_VERSION': '12.2.5.6-1', 'NVIDIA_PRODUCT_NAME': 'CUDA', 'COLAB_KERNEL_MANAGER_PROXY_HOST': '172.28.0.12', 'NV_LIBCUBLAS_DEV_PACKAGE_NAME': 'libcublas-dev-12-2', 'NV_CUDA_CUDART_VERSION': '12.2.140-1', 'COLAB_WARMUP_DEFAULTS': '1', 'HOME': '/root', 'LANG': 'en_US.UTF-8', 'COLUMNS': '100', 'CUDA_VERSION': '12.2.2', 'CLOUDSDK_CONFIG': '/content/.config', 'NV_LIBCUBLAS_PACKAGE': 'libcublas-12-2=12.2.5.6-1', 'NV_CUDA_NSIGHT_COMPUTE_DEV_PACKAGE': 'cuda-nsight-compute-12-2=12.2.2-1', 'COLAB_RELEASE_TAG': 'release-colab_20240910-060204_RC00', 'KMP_TARGET_PORT': '9000', 'KMP_EXTRA_ARGS': '--logtostderr --listen_host=172.28.0.12 --target_host=172.28.0.12 --tunnel_background_save_url=https://colab.research.google.com/tun/m/cc48301118ce562b961b3c22d803539adc1e0c19/m-s-yysr7zal1kwx --tunnel_background_save_delay=10s --tunnel_periodic_background_save_frequency=30m0s --enable_output_coalescing=true --output_coalescing_required=true --log_code_content', 'NV_LIBNPP_DEV_PACKAGE': 'libnpp-dev-12-2=12.2.1.4-1', 'COLAB_LANGUAGE_SERVER_PROXY_LSP_DIRS': '/datalab/web/pyright/typeshed-fallback/stdlib,/usr/local/lib/python3.10/dist-packages', 'NV_LIBCUBLAS_PACKAGE_NAME': 'libcublas-12-2', 'COLAB_KERNEL_MANAGER_PROXY_PORT': '6000', 'CLOUDSDK_PYTHON': 'python3', 'NV_LIBNPP_DEV_VERSION': '12.2.1.4-1', 'NO_GCE_CHECK': 'False', 'PYTHONPATH': '/env/python', 'NV_LIBCUSPARSE_DEV_VERSION': '12.1.2.141-1', 'LIBRARY_PATH': '/usr/local/cuda/lib64/stubs', 'NV_CUDNN_VERSION': '8.9.6.50', 'SHLVL': '0', 'NV_CUDA_LIB_VERSION': '12.2.2-1', 'COLAB_LANGUAGE_SERVER_PROXY': '/usr/colab/bin/language_service', 'NVARCH': 'x86_64', 'NV_CUDNN_PACKAGE_DEV': 'libcudnn8-dev=8.9.6.50-1+cuda12.2', 'NV_CUDA_COMPAT_PACKAGE': 'cuda-compat-12-2', 'NV_LIBNCCL_PACKAGE': 'libnccl2=2.19.3-1+cuda12.2', 'LD_LIBRARY_PATH': '/usr/local/nvidia/lib:/usr/local/nvidia/lib64', 'COLAB_GPU': '', 'NV_CUDA_NSIGHT_COMPUTE_VERSION': '12.2.2-1', 'GCS_READ_CACHE_BLOCK_SIZE_MB': '16', 'NV_NVPROF_VERSION': '12.2.142-1', 'LC_ALL': 'en_US.UTF-8', 'COLAB_FILE_HANDLER_ADDR': 'localhost:3453', 'PATH': '/opt/bin:/usr/local/nvidia/bin:/usr/local/cuda/bin:/usr/local/sbin:/usr/local/bin:/usr/sbin:/usr/bin:/sbin:/bin:/tools/node/bin:/tools/google-cloud-sdk/bin', 'NV_LIBNCCL_PACKAGE_NAME': 'libnccl2', 'COLAB_DEBUG_ADAPTER_MUX_PATH': '/usr/local/bin/dap_multiplexer', 'NV_LIBNCCL_PACKAGE_VERSION': '2.19.3-1', 'PYTHONWARNINGS': 'ignore:::pip._internal.cli.base_command', 'DEBIAN_FRONTEND': 'noninteractive', 'COLAB_BACKEND_VERSION': 'next', 'OLDPWD': '/', 'JPY_PARENT_PID': '88', 'TERM': 'xterm-color', 'CLICOLOR': '1', 'PAGER': 'cat', 'GIT_PAGER': 'cat', 'MPLBACKEND': 'module://ipykernel.pylab.backend_inline', 'ENABLE_DIRECTORYPREFETCHER': '1', 'USE_AUTH_EPHEM': '1', 'PYDEVD_USE_FRAME_EVAL': 'NO'})), ('_i2', 'import os.path as path\\ndef path_divide(apath):\\n  print(f\\'{apath}:{path.splittext(apath)}\\')\\n\\npath_divide(\"wada.xp\")'), ('path', <module 'posixpath' from '/usr/lib/python3.10/posixpath.py'>), ('path_divide', <function path_divide at 0x7b1ba03a5fc0>), ('_i3', 'import os.path as path\\ndef path_divide(apath):\\n  print(f\\'{apath}:{path.splitext(apath)}\\')\\n\\npath_divide(\"wada.xp\")'), ('_i4', 'print(\"True\") if id(\"String\") == id(\"String\")'), ('_i5', 'print(\"True\") if id(\"String\") == id(\"String\") else \"False\"'), ('_i6', 'bnums = [10, 20, 56, 35, 17, 99]\\nbvalues = bytearray(bnums)\\nbvalues'), ('bnums', [10, 20, 56, 35, 17, 99]), ('bvalues', bytearray(b'\\n\\x148#\\x11c')), ('_6', bytearray(b'\\n\\x148#\\x11c')), ('_i7', 'bnums = [10, 20, 56, 35, 17, 99]\\nbvalues = bytearray(bnums)\\nbvalues\\n# Iterate through the elements of the bytearray and print each element.\\nfor x in values:\\n    print(x)'), ('_i8', 'bnums = [10, 20, 56, 35, 17, 99]\\nbvalues = bytearray(bnums)\\nbvalues\\n# Iterate through the elements of the bytearray and print each element.\\nfor x in bvalues:\\n    print(x)'), ('x', 99), ('_i9', 'bnums = [10, 20, 56, 35, 17, 99]\\nbvalues = bytearray(bnums)\\nprint(bvalues)\\n# Iterate through the elements of the bytearray and print each element.\\nfor x in bvalues:\\n    print(x)'), ('_i10', 'afloat = 9.12314\\nafloat.round(3)'), ('afloat', 9.12314), ('_i11', 'afloat = 9.12314\\nround(afloat,3)'), ('_11', 9.123), ('_i12', 'locals()'), ('_12', {'__name__': '__main__', '__doc__': 'Automatically created module for IPython interactive environment', '__package__': None, '__loader__': None, '__spec__': None, '__builtin__': <module 'builtins' (built-in)>, '__builtins__': <module 'builtins' (built-in)>, '_ih': ['', 'import os\\nos.environ', 'import os.path as path\\ndef path_divide(apath):\\n  print(f\\'{apath}:{path.splittext(apath)}\\')\\n\\npath_divide(\"wada.xp\")', 'import os.path as path\\ndef path_divide(apath):\\n  print(f\\'{apath}:{path.splitext(apath)}\\')\\n\\npath_divide(\"wada.xp\")', 'print(\"True\") if id(\"String\") == id(\"String\")', 'print(\"True\") if id(\"String\") == id(\"String\") else \"False\"', 'bnums = [10, 20, 56, 35, 17, 99]\\nbvalues = bytearray(bnums)\\nbvalues', 'bnums = [10, 20, 56, 35, 17, 99]\\nbvalues = bytearray(bnums)\\nbvalues\\n# Iterate through the elements of the bytearray and print each element.\\nfor x in values:\\n    print(x)', 'bnums = [10, 20, 56, 35, 17, 99]\\nbvalues = bytearray(bnums)\\nbvalues\\n# Iterate through the elements of the bytearray and print each element.\\nfor x in bvalues:\\n    print(x)', 'bnums = [10, 20, 56, 35, 17, 99]\\nbvalues = bytearray(bnums)\\nprint(bvalues)\\n# Iterate through the elements of the bytearray and print each element.\\nfor x in bvalues:\\n    print(x)', 'afloat = 9.12314\\nafloat.round(3)', 'afloat = 9.12314\\nround(afloat,3)', 'locals()', 'print(\"True\") if isinstance(\\'__main__\\', locals().items()', 'print(\"True\") if isinstance(\\'__main__\\', locals().items() else \"False\"', 'print(\"True\") if isinstance(\\'__main__\\', locals().items()) else \"False\"', 'print(\"True\") if \\'__main__\\' in locals().items() else \"False\"', 'locals.items()', 'locals().items()', 'locals().values()'], '_oh': {...}, '_dh': ['/content'], 'In': ['', 'import os\\nos.environ', 'import os.path as path\\ndef path_divide(apath):\\n  print(f\\'{apath}:{path.splittext(apath)}\\')\\n\\npath_divide(\"wada.xp\")', 'import os.path as path\\ndef path_divide(apath):\\n  print(f\\'{apath}:{path.splitext(apath)}\\')\\n\\npath_divide(\"wada.xp\")', 'print(\"True\") if id(\"String\") == id(\"String\")', 'print(\"True\") if id(\"String\") == id(\"String\") else \"False\"', 'bnums = [10, 20, 56, 35, 17, 99]\\nbvalues = bytearray(bnums)\\nbvalues', 'bnums = [10, 20, 56, 35, 17, 99]\\nbvalues = bytearray(bnums)\\nbvalues\\n# Iterate through the elements of the bytearray and print each element.\\nfor x in values:\\n    print(x)', 'bnums = [10, 20, 56, 35, 17, 99]\\nbvalues = bytearray(bnums)\\nbvalues\\n# Iterate through the elements of the bytearray and print each element.\\nfor x in bvalues:\\n    print(x)', 'bnums = [10, 20, 56, 35, 17, 99]\\nbvalues = bytearray(bnums)\\nprint(bvalues)\\n# Iterate through the elements of the bytearray and print each element.\\nfor x in bvalues:\\n    print(x)', 'afloat = 9.12314\\nafloat.round(3)', 'afloat = 9.12314\\nround(afloat,3)', 'locals()', 'print(\"True\") if isinstance(\\'__main__\\', locals().items()', 'print(\"True\") if isinstance(\\'__main__\\', locals().items() else \"False\"', 'print(\"True\") if isinstance(\\'__main__\\', locals().items()) else \"False\"', 'print(\"True\") if \\'__main__\\' in locals().items() else \"False\"', 'locals.items()', 'locals().items()', 'locals().values()'], 'Out': {...}, 'get_ipython': <bound method InteractiveShell.get_ipython of <google.colab._shell.Shell object at 0x7b1bb296e710>>, 'exit': <IPython.core.autocall.ZMQExitAutocall object at 0x7b1bb296dbd0>, 'quit': <IPython.core.autocall.ZMQExitAutocall object at 0x7b1bb296dbd0>, '_': ..., '__': 'False', '___': {...}, '_i': 'locals().items()', '_ii': 'locals.items()', '_iii': 'print(\"True\") if \\'__main__\\' in locals().items() else \"False\"', '_i1': 'import os\\nos.environ', 'os': <module 'os' from '/usr/lib/python3.10/os.py'>, '_1': environ({'SHELL': '/bin/bash', 'NV_LIBCUBLAS_VERSION': '12.2.5.6-1', 'NVIDIA_VISIBLE_DEVICES': 'all', 'COLAB_JUPYTER_TRANSPORT': 'ipc', 'NV_NVML_DEV_VERSION': '12.2.140-1', 'NV_CUDNN_PACKAGE_NAME': 'libcudnn8', 'CGROUP_MEMORY_EVENTS': '/sys/fs/cgroup/memory.events /var/colab/cgroup/jupyter-children/memory.events', 'NV_LIBNCCL_DEV_PACKAGE': 'libnccl-dev=2.19.3-1+cuda12.2', 'NV_LIBNCCL_DEV_PACKAGE_VERSION': '2.19.3-1', 'VM_GCE_METADATA_HOST': '169.254.169.253', 'HOSTNAME': '57645698dfef', 'LANGUAGE': 'en_US', 'TBE_RUNTIME_ADDR': '172.28.0.1:8011', 'COLAB_TPU_1VM': '', 'GCE_METADATA_TIMEOUT': '3', 'NVIDIA_REQUIRE_CUDA': 'cuda>=12.2 brand=tesla,driver>=470,driver<471 brand=unknown,driver>=470,driver<471 brand=nvidia,driver>=470,driver<471 brand=nvidiartx,driver>=470,driver<471 brand=geforce,driver>=470,driver<471 brand=geforcertx,driver>=470,driver<471 brand=quadro,driver>=470,driver<471 brand=quadrortx,driver>=470,driver<471 brand=titan,driver>=470,driver<471 brand=titanrtx,driver>=470,driver<471 brand=tesla,driver>=525,driver<526 brand=unknown,driver>=525,driver<526 brand=nvidia,driver>=525,driver<526 brand=nvidiartx,driver>=525,driver<526 brand=geforce,driver>=525,driver<526 brand=geforcertx,driver>=525,driver<526 brand=quadro,driver>=525,driver<526 brand=quadrortx,driver>=525,driver<526 brand=titan,driver>=525,driver<526 brand=titanrtx,driver>=525,driver<526', 'NV_LIBCUBLAS_DEV_PACKAGE': 'libcublas-dev-12-2=12.2.5.6-1', 'NV_NVTX_VERSION': '12.2.140-1', 'COLAB_JUPYTER_IP': '172.28.0.12', 'NV_CUDA_CUDART_DEV_VERSION': '12.2.140-1', 'NV_LIBCUSPARSE_VERSION': '12.1.2.141-1', 'COLAB_LANGUAGE_SERVER_PROXY_ROOT_URL': 'http://172.28.0.1:8013/', 'NV_LIBNPP_VERSION': '12.2.1.4-1', 'NCCL_VERSION': '2.19.3-1', 'KMP_LISTEN_PORT': '6000', 'TF_FORCE_GPU_ALLOW_GROWTH': 'true', 'ENV': '/root/.bashrc', 'PWD': '/', 'COLAB_LANGUAGE_SERVER_PROXY_REQUEST_TIMEOUT': '30s', 'TBE_EPHEM_CREDS_ADDR': '172.28.0.1:8009', 'TBE_CREDS_ADDR': '172.28.0.1:8008', 'NV_CUDNN_PACKAGE': 'libcudnn8=8.9.6.50-1+cuda12.2', 'NVIDIA_DRIVER_CAPABILITIES': 'compute,utility', 'COLAB_JUPYTER_TOKEN': '', 'LAST_FORCED_REBUILD': '20240627', 'NV_NVPROF_DEV_PACKAGE': 'cuda-nvprof-12-2=12.2.142-1', 'NV_LIBNPP_PACKAGE': 'libnpp-12-2=12.2.1.4-1', 'NV_LIBNCCL_DEV_PACKAGE_NAME': 'libnccl-dev', 'TCLLIBPATH': '/usr/share/tcltk/tcllib1.20', 'NV_LIBCUBLAS_DEV_VERSION': '12.2.5.6-1', 'NVIDIA_PRODUCT_NAME': 'CUDA', 'COLAB_KERNEL_MANAGER_PROXY_HOST': '172.28.0.12', 'NV_LIBCUBLAS_DEV_PACKAGE_NAME': 'libcublas-dev-12-2', 'NV_CUDA_CUDART_VERSION': '12.2.140-1', 'COLAB_WARMUP_DEFAULTS': '1', 'HOME': '/root', 'LANG': 'en_US.UTF-8', 'COLUMNS': '100', 'CUDA_VERSION': '12.2.2', 'CLOUDSDK_CONFIG': '/content/.config', 'NV_LIBCUBLAS_PACKAGE': 'libcublas-12-2=12.2.5.6-1', 'NV_CUDA_NSIGHT_COMPUTE_DEV_PACKAGE': 'cuda-nsight-compute-12-2=12.2.2-1', 'COLAB_RELEASE_TAG': 'release-colab_20240910-060204_RC00', 'KMP_TARGET_PORT': '9000', 'KMP_EXTRA_ARGS': '--logtostderr --listen_host=172.28.0.12 --target_host=172.28.0.12 --tunnel_background_save_url=https://colab.research.google.com/tun/m/cc48301118ce562b961b3c22d803539adc1e0c19/m-s-yysr7zal1kwx --tunnel_background_save_delay=10s --tunnel_periodic_background_save_frequency=30m0s --enable_output_coalescing=true --output_coalescing_required=true --log_code_content', 'NV_LIBNPP_DEV_PACKAGE': 'libnpp-dev-12-2=12.2.1.4-1', 'COLAB_LANGUAGE_SERVER_PROXY_LSP_DIRS': '/datalab/web/pyright/typeshed-fallback/stdlib,/usr/local/lib/python3.10/dist-packages', 'NV_LIBCUBLAS_PACKAGE_NAME': 'libcublas-12-2', 'COLAB_KERNEL_MANAGER_PROXY_PORT': '6000', 'CLOUDSDK_PYTHON': 'python3', 'NV_LIBNPP_DEV_VERSION': '12.2.1.4-1', 'NO_GCE_CHECK': 'False', 'PYTHONPATH': '/env/python', 'NV_LIBCUSPARSE_DEV_VERSION': '12.1.2.141-1', 'LIBRARY_PATH': '/usr/local/cuda/lib64/stubs', 'NV_CUDNN_VERSION': '8.9.6.50', 'SHLVL': '0', 'NV_CUDA_LIB_VERSION': '12.2.2-1', 'COLAB_LANGUAGE_SERVER_PROXY': '/usr/colab/bin/language_service', 'NVARCH': 'x86_64', 'NV_CUDNN_PACKAGE_DEV': 'libcudnn8-dev=8.9.6.50-1+cuda12.2', 'NV_CUDA_COMPAT_PACKAGE': 'cuda-compat-12-2', 'NV_LIBNCCL_PACKAGE': 'libnccl2=2.19.3-1+cuda12.2', 'LD_LIBRARY_PATH': '/usr/local/nvidia/lib:/usr/local/nvidia/lib64', 'COLAB_GPU': '', 'NV_CUDA_NSIGHT_COMPUTE_VERSION': '12.2.2-1', 'GCS_READ_CACHE_BLOCK_SIZE_MB': '16', 'NV_NVPROF_VERSION': '12.2.142-1', 'LC_ALL': 'en_US.UTF-8', 'COLAB_FILE_HANDLER_ADDR': 'localhost:3453', 'PATH': '/opt/bin:/usr/local/nvidia/bin:/usr/local/cuda/bin:/usr/local/sbin:/usr/local/bin:/usr/sbin:/usr/bin:/sbin:/bin:/tools/node/bin:/tools/google-cloud-sdk/bin', 'NV_LIBNCCL_PACKAGE_NAME': 'libnccl2', 'COLAB_DEBUG_ADAPTER_MUX_PATH': '/usr/local/bin/dap_multiplexer', 'NV_LIBNCCL_PACKAGE_VERSION': '2.19.3-1', 'PYTHONWARNINGS': 'ignore:::pip._internal.cli.base_command', 'DEBIAN_FRONTEND': 'noninteractive', 'COLAB_BACKEND_VERSION': 'next', 'OLDPWD': '/', 'JPY_PARENT_PID': '88', 'TERM': 'xterm-color', 'CLICOLOR': '1', 'PAGER': 'cat', 'GIT_PAGER': 'cat', 'MPLBACKEND': 'module://ipykernel.pylab.backend_inline', 'ENABLE_DIRECTORYPREFETCHER': '1', 'USE_AUTH_EPHEM': '1', 'PYDEVD_USE_FRAME_EVAL': 'NO'}), '_i2': 'import os.path as path\\ndef path_divide(apath):\\n  print(f\\'{apath}:{path.splittext(apath)}\\')\\n\\npath_divide(\"wada.xp\")', 'path': <module 'posixpath' from '/usr/lib/python3.10/posixpath.py'>, 'path_divide': <function path_divide at 0x7b1ba03a5fc0>, '_i3': 'import os.path as path\\ndef path_divide(apath):\\n  print(f\\'{apath}:{path.splitext(apath)}\\')\\n\\npath_divide(\"wada.xp\")', '_i4': 'print(\"True\") if id(\"String\") == id(\"String\")', '_i5': 'print(\"True\") if id(\"String\") == id(\"String\") else \"False\"', '_i6': 'bnums = [10, 20, 56, 35, 17, 99]\\nbvalues = bytearray(bnums)\\nbvalues', 'bnums': [10, 20, 56, 35, 17, 99], 'bvalues': bytearray(b'\\n\\x148#\\x11c'), '_6': bytearray(b'\\n\\x148#\\x11c'), '_i7': 'bnums = [10, 20, 56, 35, 17, 99]\\nbvalues = bytearray(bnums)\\nbvalues\\n# Iterate through the elements of the bytearray and print each element.\\nfor x in values:\\n    print(x)', '_i8': 'bnums = [10, 20, 56, 35, 17, 99]\\nbvalues = bytearray(bnums)\\nbvalues\\n# Iterate through the elements of the bytearray and print each element.\\nfor x in bvalues:\\n    print(x)', 'x': 99, '_i9': 'bnums = [10, 20, 56, 35, 17, 99]\\nbvalues = bytearray(bnums)\\nprint(bvalues)\\n# Iterate through the elements of the bytearray and print each element.\\nfor x in bvalues:\\n    print(x)', '_i10': 'afloat = 9.12314\\nafloat.round(3)', 'afloat': 9.12314, '_i11': 'afloat = 9.12314\\nround(afloat,3)', '_11': 9.123, '_i12': 'locals()', '_12': {...}, '_i13': 'print(\"True\") if isinstance(\\'__main__\\', locals().items()', '_i14': 'print(\"True\") if isinstance(\\'__main__\\', locals().items() else \"False\"', '_i15': 'print(\"True\") if isinstance(\\'__main__\\', locals().items()) else \"False\"', '_i16': 'print(\"True\") if \\'__main__\\' in locals().items() else \"False\"', '_16': 'False', '_i17': 'locals.items()', '_i18': 'locals().items()', '_18': ..., '_i19': 'locals().values()'}), ('_i13', 'print(\"True\") if isinstance(\\'__main__\\', locals().items()'), ('_i14', 'print(\"True\") if isinstance(\\'__main__\\', locals().items() else \"False\"'), ('_i15', 'print(\"True\") if isinstance(\\'__main__\\', locals().items()) else \"False\"'), ('_i16', 'print(\"True\") if \\'__main__\\' in locals().items() else \"False\"'), ('_16', 'False'), ('_i17', 'locals.items()'), ('_i18', 'locals().items()'), ('_18', ...), ('_i19', 'locals().values()')])}, ['/content'], ['', 'import os\\nos.environ', 'import os.path as path\\ndef path_divide(apath):\\n  print(f\\'{apath}:{path.splittext(apath)}\\')\\n\\npath_divide(\"wada.xp\")', 'import os.path as path\\ndef path_divide(apath):\\n  print(f\\'{apath}:{path.splitext(apath)}\\')\\n\\npath_divide(\"wada.xp\")', 'print(\"True\") if id(\"String\") == id(\"String\")', 'print(\"True\") if id(\"String\") == id(\"String\") else \"False\"', 'bnums = [10, 20, 56, 35, 17, 99]\\nbvalues = bytearray(bnums)\\nbvalues', 'bnums = [10, 20, 56, 35, 17, 99]\\nbvalues = bytearray(bnums)\\nbvalues\\n# Iterate through the elements of the bytearray and print each element.\\nfor x in values:\\n    print(x)', 'bnums = [10, 20, 56, 35, 17, 99]\\nbvalues = bytearray(bnums)\\nbvalues\\n# Iterate through the elements of the bytearray and print each element.\\nfor x in bvalues:\\n    print(x)', 'bnums = [10, 20, 56, 35, 17, 99]\\nbvalues = bytearray(bnums)\\nprint(bvalues)\\n# Iterate through the elements of the bytearray and print each element.\\nfor x in bvalues:\\n    print(x)', 'afloat = 9.12314\\nafloat.round(3)', 'afloat = 9.12314\\nround(afloat,3)', 'locals()', 'print(\"True\") if isinstance(\\'__main__\\', locals().items()', 'print(\"True\") if isinstance(\\'__main__\\', locals().items() else \"False\"', 'print(\"True\") if isinstance(\\'__main__\\', locals().items()) else \"False\"', 'print(\"True\") if \\'__main__\\' in locals().items() else \"False\"', 'locals.items()', 'locals().items()', 'locals().values()'], {1: environ({'SHELL': '/bin/bash', 'NV_LIBCUBLAS_VERSION': '12.2.5.6-1', 'NVIDIA_VISIBLE_DEVICES': 'all', 'COLAB_JUPYTER_TRANSPORT': 'ipc', 'NV_NVML_DEV_VERSION': '12.2.140-1', 'NV_CUDNN_PACKAGE_NAME': 'libcudnn8', 'CGROUP_MEMORY_EVENTS': '/sys/fs/cgroup/memory.events /var/colab/cgroup/jupyter-children/memory.events', 'NV_LIBNCCL_DEV_PACKAGE': 'libnccl-dev=2.19.3-1+cuda12.2', 'NV_LIBNCCL_DEV_PACKAGE_VERSION': '2.19.3-1', 'VM_GCE_METADATA_HOST': '169.254.169.253', 'HOSTNAME': '57645698dfef', 'LANGUAGE': 'en_US', 'TBE_RUNTIME_ADDR': '172.28.0.1:8011', 'COLAB_TPU_1VM': '', 'GCE_METADATA_TIMEOUT': '3', 'NVIDIA_REQUIRE_CUDA': 'cuda>=12.2 brand=tesla,driver>=470,driver<471 brand=unknown,driver>=470,driver<471 brand=nvidia,driver>=470,driver<471 brand=nvidiartx,driver>=470,driver<471 brand=geforce,driver>=470,driver<471 brand=geforcertx,driver>=470,driver<471 brand=quadro,driver>=470,driver<471 brand=quadrortx,driver>=470,driver<471 brand=titan,driver>=470,driver<471 brand=titanrtx,driver>=470,driver<471 brand=tesla,driver>=525,driver<526 brand=unknown,driver>=525,driver<526 brand=nvidia,driver>=525,driver<526 brand=nvidiartx,driver>=525,driver<526 brand=geforce,driver>=525,driver<526 brand=geforcertx,driver>=525,driver<526 brand=quadro,driver>=525,driver<526 brand=quadrortx,driver>=525,driver<526 brand=titan,driver>=525,driver<526 brand=titanrtx,driver>=525,driver<526', 'NV_LIBCUBLAS_DEV_PACKAGE': 'libcublas-dev-12-2=12.2.5.6-1', 'NV_NVTX_VERSION': '12.2.140-1', 'COLAB_JUPYTER_IP': '172.28.0.12', 'NV_CUDA_CUDART_DEV_VERSION': '12.2.140-1', 'NV_LIBCUSPARSE_VERSION': '12.1.2.141-1', 'COLAB_LANGUAGE_SERVER_PROXY_ROOT_URL': 'http://172.28.0.1:8013/', 'NV_LIBNPP_VERSION': '12.2.1.4-1', 'NCCL_VERSION': '2.19.3-1', 'KMP_LISTEN_PORT': '6000', 'TF_FORCE_GPU_ALLOW_GROWTH': 'true', 'ENV': '/root/.bashrc', 'PWD': '/', 'COLAB_LANGUAGE_SERVER_PROXY_REQUEST_TIMEOUT': '30s', 'TBE_EPHEM_CREDS_ADDR': '172.28.0.1:8009', 'TBE_CREDS_ADDR': '172.28.0.1:8008', 'NV_CUDNN_PACKAGE': 'libcudnn8=8.9.6.50-1+cuda12.2', 'NVIDIA_DRIVER_CAPABILITIES': 'compute,utility', 'COLAB_JUPYTER_TOKEN': '', 'LAST_FORCED_REBUILD': '20240627', 'NV_NVPROF_DEV_PACKAGE': 'cuda-nvprof-12-2=12.2.142-1', 'NV_LIBNPP_PACKAGE': 'libnpp-12-2=12.2.1.4-1', 'NV_LIBNCCL_DEV_PACKAGE_NAME': 'libnccl-dev', 'TCLLIBPATH': '/usr/share/tcltk/tcllib1.20', 'NV_LIBCUBLAS_DEV_VERSION': '12.2.5.6-1', 'NVIDIA_PRODUCT_NAME': 'CUDA', 'COLAB_KERNEL_MANAGER_PROXY_HOST': '172.28.0.12', 'NV_LIBCUBLAS_DEV_PACKAGE_NAME': 'libcublas-dev-12-2', 'NV_CUDA_CUDART_VERSION': '12.2.140-1', 'COLAB_WARMUP_DEFAULTS': '1', 'HOME': '/root', 'LANG': 'en_US.UTF-8', 'COLUMNS': '100', 'CUDA_VERSION': '12.2.2', 'CLOUDSDK_CONFIG': '/content/.config', 'NV_LIBCUBLAS_PACKAGE': 'libcublas-12-2=12.2.5.6-1', 'NV_CUDA_NSIGHT_COMPUTE_DEV_PACKAGE': 'cuda-nsight-compute-12-2=12.2.2-1', 'COLAB_RELEASE_TAG': 'release-colab_20240910-060204_RC00', 'KMP_TARGET_PORT': '9000', 'KMP_EXTRA_ARGS': '--logtostderr --listen_host=172.28.0.12 --target_host=172.28.0.12 --tunnel_background_save_url=https://colab.research.google.com/tun/m/cc48301118ce562b961b3c22d803539adc1e0c19/m-s-yysr7zal1kwx --tunnel_background_save_delay=10s --tunnel_periodic_background_save_frequency=30m0s --enable_output_coalescing=true --output_coalescing_required=true --log_code_content', 'NV_LIBNPP_DEV_PACKAGE': 'libnpp-dev-12-2=12.2.1.4-1', 'COLAB_LANGUAGE_SERVER_PROXY_LSP_DIRS': '/datalab/web/pyright/typeshed-fallback/stdlib,/usr/local/lib/python3.10/dist-packages', 'NV_LIBCUBLAS_PACKAGE_NAME': 'libcublas-12-2', 'COLAB_KERNEL_MANAGER_PROXY_PORT': '6000', 'CLOUDSDK_PYTHON': 'python3', 'NV_LIBNPP_DEV_VERSION': '12.2.1.4-1', 'NO_GCE_CHECK': 'False', 'PYTHONPATH': '/env/python', 'NV_LIBCUSPARSE_DEV_VERSION': '12.1.2.141-1', 'LIBRARY_PATH': '/usr/local/cuda/lib64/stubs', 'NV_CUDNN_VERSION': '8.9.6.50', 'SHLVL': '0', 'NV_CUDA_LIB_VERSION': '12.2.2-1', 'COLAB_LANGUAGE_SERVER_PROXY': '/usr/colab/bin/language_service', 'NVARCH': 'x86_64', 'NV_CUDNN_PACKAGE_DEV': 'libcudnn8-dev=8.9.6.50-1+cuda12.2', 'NV_CUDA_COMPAT_PACKAGE': 'cuda-compat-12-2', 'NV_LIBNCCL_PACKAGE': 'libnccl2=2.19.3-1+cuda12.2', 'LD_LIBRARY_PATH': '/usr/local/nvidia/lib:/usr/local/nvidia/lib64', 'COLAB_GPU': '', 'NV_CUDA_NSIGHT_COMPUTE_VERSION': '12.2.2-1', 'GCS_READ_CACHE_BLOCK_SIZE_MB': '16', 'NV_NVPROF_VERSION': '12.2.142-1', 'LC_ALL': 'en_US.UTF-8', 'COLAB_FILE_HANDLER_ADDR': 'localhost:3453', 'PATH': '/opt/bin:/usr/local/nvidia/bin:/usr/local/cuda/bin:/usr/local/sbin:/usr/local/bin:/usr/sbin:/usr/bin:/sbin:/bin:/tools/node/bin:/tools/google-cloud-sdk/bin', 'NV_LIBNCCL_PACKAGE_NAME': 'libnccl2', 'COLAB_DEBUG_ADAPTER_MUX_PATH': '/usr/local/bin/dap_multiplexer', 'NV_LIBNCCL_PACKAGE_VERSION': '2.19.3-1', 'PYTHONWARNINGS': 'ignore:::pip._internal.cli.base_command', 'DEBIAN_FRONTEND': 'noninteractive', 'COLAB_BACKEND_VERSION': 'next', 'OLDPWD': '/', 'JPY_PARENT_PID': '88', 'TERM': 'xterm-color', 'CLICOLOR': '1', 'PAGER': 'cat', 'GIT_PAGER': 'cat', 'MPLBACKEND': 'module://ipykernel.pylab.backend_inline', 'ENABLE_DIRECTORYPREFETCHER': '1', 'USE_AUTH_EPHEM': '1', 'PYDEVD_USE_FRAME_EVAL': 'NO'}), 6: bytearray(b'\\n\\x148#\\x11c'), 11: 9.123, 12: {'__name__': '__main__', '__doc__': 'Automatically created module for IPython interactive environment', '__package__': None, '__loader__': None, '__spec__': None, '__builtin__': <module 'builtins' (built-in)>, '__builtins__': <module 'builtins' (built-in)>, '_ih': ['', 'import os\\nos.environ', 'import os.path as path\\ndef path_divide(apath):\\n  print(f\\'{apath}:{path.splittext(apath)}\\')\\n\\npath_divide(\"wada.xp\")', 'import os.path as path\\ndef path_divide(apath):\\n  print(f\\'{apath}:{path.splitext(apath)}\\')\\n\\npath_divide(\"wada.xp\")', 'print(\"True\") if id(\"String\") == id(\"String\")', 'print(\"True\") if id(\"String\") == id(\"String\") else \"False\"', 'bnums = [10, 20, 56, 35, 17, 99]\\nbvalues = bytearray(bnums)\\nbvalues', 'bnums = [10, 20, 56, 35, 17, 99]\\nbvalues = bytearray(bnums)\\nbvalues\\n# Iterate through the elements of the bytearray and print each element.\\nfor x in values:\\n    print(x)', 'bnums = [10, 20, 56, 35, 17, 99]\\nbvalues = bytearray(bnums)\\nbvalues\\n# Iterate through the elements of the bytearray and print each element.\\nfor x in bvalues:\\n    print(x)', 'bnums = [10, 20, 56, 35, 17, 99]\\nbvalues = bytearray(bnums)\\nprint(bvalues)\\n# Iterate through the elements of the bytearray and print each element.\\nfor x in bvalues:\\n    print(x)', 'afloat = 9.12314\\nafloat.round(3)', 'afloat = 9.12314\\nround(afloat,3)', 'locals()', 'print(\"True\") if isinstance(\\'__main__\\', locals().items()', 'print(\"True\") if isinstance(\\'__main__\\', locals().items() else \"False\"', 'print(\"True\") if isinstance(\\'__main__\\', locals().items()) else \"False\"', 'print(\"True\") if \\'__main__\\' in locals().items() else \"False\"', 'locals.items()', 'locals().items()', 'locals().values()'], '_oh': {...}, '_dh': ['/content'], 'In': ['', 'import os\\nos.environ', 'import os.path as path\\ndef path_divide(apath):\\n  print(f\\'{apath}:{path.splittext(apath)}\\')\\n\\npath_divide(\"wada.xp\")', 'import os.path as path\\ndef path_divide(apath):\\n  print(f\\'{apath}:{path.splitext(apath)}\\')\\n\\npath_divide(\"wada.xp\")', 'print(\"True\") if id(\"String\") == id(\"String\")', 'print(\"True\") if id(\"String\") == id(\"String\") else \"False\"', 'bnums = [10, 20, 56, 35, 17, 99]\\nbvalues = bytearray(bnums)\\nbvalues', 'bnums = [10, 20, 56, 35, 17, 99]\\nbvalues = bytearray(bnums)\\nbvalues\\n# Iterate through the elements of the bytearray and print each element.\\nfor x in values:\\n    print(x)', 'bnums = [10, 20, 56, 35, 17, 99]\\nbvalues = bytearray(bnums)\\nbvalues\\n# Iterate through the elements of the bytearray and print each element.\\nfor x in bvalues:\\n    print(x)', 'bnums = [10, 20, 56, 35, 17, 99]\\nbvalues = bytearray(bnums)\\nprint(bvalues)\\n# Iterate through the elements of the bytearray and print each element.\\nfor x in bvalues:\\n    print(x)', 'afloat = 9.12314\\nafloat.round(3)', 'afloat = 9.12314\\nround(afloat,3)', 'locals()', 'print(\"True\") if isinstance(\\'__main__\\', locals().items()', 'print(\"True\") if isinstance(\\'__main__\\', locals().items() else \"False\"', 'print(\"True\") if isinstance(\\'__main__\\', locals().items()) else \"False\"', 'print(\"True\") if \\'__main__\\' in locals().items() else \"False\"', 'locals.items()', 'locals().items()', 'locals().values()'], 'Out': {...}, 'get_ipython': <bound method InteractiveShell.get_ipython of <google.colab._shell.Shell object at 0x7b1bb296e710>>, 'exit': <IPython.core.autocall.ZMQExitAutocall object at 0x7b1bb296dbd0>, 'quit': <IPython.core.autocall.ZMQExitAutocall object at 0x7b1bb296dbd0>, '_': dict_items([('__name__', '__main__'), ('__doc__', 'Automatically created module for IPython interactive environment'), ('__package__', None), ('__loader__', None), ('__spec__', None), ('__builtin__', <module 'builtins' (built-in)>), ('__builtins__', <module 'builtins' (built-in)>), ('_ih', ['', 'import os\\nos.environ', 'import os.path as path\\ndef path_divide(apath):\\n  print(f\\'{apath}:{path.splittext(apath)}\\')\\n\\npath_divide(\"wada.xp\")', 'import os.path as path\\ndef path_divide(apath):\\n  print(f\\'{apath}:{path.splitext(apath)}\\')\\n\\npath_divide(\"wada.xp\")', 'print(\"True\") if id(\"String\") == id(\"String\")', 'print(\"True\") if id(\"String\") == id(\"String\") else \"False\"', 'bnums = [10, 20, 56, 35, 17, 99]\\nbvalues = bytearray(bnums)\\nbvalues', 'bnums = [10, 20, 56, 35, 17, 99]\\nbvalues = bytearray(bnums)\\nbvalues\\n# Iterate through the elements of the bytearray and print each element.\\nfor x in values:\\n    print(x)', 'bnums = [10, 20, 56, 35, 17, 99]\\nbvalues = bytearray(bnums)\\nbvalues\\n# Iterate through the elements of the bytearray and print each element.\\nfor x in bvalues:\\n    print(x)', 'bnums = [10, 20, 56, 35, 17, 99]\\nbvalues = bytearray(bnums)\\nprint(bvalues)\\n# Iterate through the elements of the bytearray and print each element.\\nfor x in bvalues:\\n    print(x)', 'afloat = 9.12314\\nafloat.round(3)', 'afloat = 9.12314\\nround(afloat,3)', 'locals()', 'print(\"True\") if isinstance(\\'__main__\\', locals().items()', 'print(\"True\") if isinstance(\\'__main__\\', locals().items() else \"False\"', 'print(\"True\") if isinstance(\\'__main__\\', locals().items()) else \"False\"', 'print(\"True\") if \\'__main__\\' in locals().items() else \"False\"', 'locals.items()', 'locals().items()', 'locals().values()']), ('_oh', {...}), ('_dh', ['/content']), ('In', ['', 'import os\\nos.environ', 'import os.path as path\\ndef path_divide(apath):\\n  print(f\\'{apath}:{path.splittext(apath)}\\')\\n\\npath_divide(\"wada.xp\")', 'import os.path as path\\ndef path_divide(apath):\\n  print(f\\'{apath}:{path.splitext(apath)}\\')\\n\\npath_divide(\"wada.xp\")', 'print(\"True\") if id(\"String\") == id(\"String\")', 'print(\"True\") if id(\"String\") == id(\"String\") else \"False\"', 'bnums = [10, 20, 56, 35, 17, 99]\\nbvalues = bytearray(bnums)\\nbvalues', 'bnums = [10, 20, 56, 35, 17, 99]\\nbvalues = bytearray(bnums)\\nbvalues\\n# Iterate through the elements of the bytearray and print each element.\\nfor x in values:\\n    print(x)', 'bnums = [10, 20, 56, 35, 17, 99]\\nbvalues = bytearray(bnums)\\nbvalues\\n# Iterate through the elements of the bytearray and print each element.\\nfor x in bvalues:\\n    print(x)', 'bnums = [10, 20, 56, 35, 17, 99]\\nbvalues = bytearray(bnums)\\nprint(bvalues)\\n# Iterate through the elements of the bytearray and print each element.\\nfor x in bvalues:\\n    print(x)', 'afloat = 9.12314\\nafloat.round(3)', 'afloat = 9.12314\\nround(afloat,3)', 'locals()', 'print(\"True\") if isinstance(\\'__main__\\', locals().items()', 'print(\"True\") if isinstance(\\'__main__\\', locals().items() else \"False\"', 'print(\"True\") if isinstance(\\'__main__\\', locals().items()) else \"False\"', 'print(\"True\") if \\'__main__\\' in locals().items() else \"False\"', 'locals.items()', 'locals().items()', 'locals().values()']), ('Out', {...}), ('get_ipython', <bound method InteractiveShell.get_ipython of <google.colab._shell.Shell object at 0x7b1bb296e710>>), ('exit', <IPython.core.autocall.ZMQExitAutocall object at 0x7b1bb296dbd0>), ('quit', <IPython.core.autocall.ZMQExitAutocall object at 0x7b1bb296dbd0>), ('_', ...), ('__', 'False'), ('___', {...}), ('_i', 'locals().items()'), ('_ii', 'locals.items()'), ('_iii', 'print(\"True\") if \\'__main__\\' in locals().items() else \"False\"'), ('_i1', 'import os\\nos.environ'), ('os', <module 'os' from '/usr/lib/python3.10/os.py'>), ('_1', environ({'SHELL': '/bin/bash', 'NV_LIBCUBLAS_VERSION': '12.2.5.6-1', 'NVIDIA_VISIBLE_DEVICES': 'all', 'COLAB_JUPYTER_TRANSPORT': 'ipc', 'NV_NVML_DEV_VERSION': '12.2.140-1', 'NV_CUDNN_PACKAGE_NAME': 'libcudnn8', 'CGROUP_MEMORY_EVENTS': '/sys/fs/cgroup/memory.events /var/colab/cgroup/jupyter-children/memory.events', 'NV_LIBNCCL_DEV_PACKAGE': 'libnccl-dev=2.19.3-1+cuda12.2', 'NV_LIBNCCL_DEV_PACKAGE_VERSION': '2.19.3-1', 'VM_GCE_METADATA_HOST': '169.254.169.253', 'HOSTNAME': '57645698dfef', 'LANGUAGE': 'en_US', 'TBE_RUNTIME_ADDR': '172.28.0.1:8011', 'COLAB_TPU_1VM': '', 'GCE_METADATA_TIMEOUT': '3', 'NVIDIA_REQUIRE_CUDA': 'cuda>=12.2 brand=tesla,driver>=470,driver<471 brand=unknown,driver>=470,driver<471 brand=nvidia,driver>=470,driver<471 brand=nvidiartx,driver>=470,driver<471 brand=geforce,driver>=470,driver<471 brand=geforcertx,driver>=470,driver<471 brand=quadro,driver>=470,driver<471 brand=quadrortx,driver>=470,driver<471 brand=titan,driver>=470,driver<471 brand=titanrtx,driver>=470,driver<471 brand=tesla,driver>=525,driver<526 brand=unknown,driver>=525,driver<526 brand=nvidia,driver>=525,driver<526 brand=nvidiartx,driver>=525,driver<526 brand=geforce,driver>=525,driver<526 brand=geforcertx,driver>=525,driver<526 brand=quadro,driver>=525,driver<526 brand=quadrortx,driver>=525,driver<526 brand=titan,driver>=525,driver<526 brand=titanrtx,driver>=525,driver<526', 'NV_LIBCUBLAS_DEV_PACKAGE': 'libcublas-dev-12-2=12.2.5.6-1', 'NV_NVTX_VERSION': '12.2.140-1', 'COLAB_JUPYTER_IP': '172.28.0.12', 'NV_CUDA_CUDART_DEV_VERSION': '12.2.140-1', 'NV_LIBCUSPARSE_VERSION': '12.1.2.141-1', 'COLAB_LANGUAGE_SERVER_PROXY_ROOT_URL': 'http://172.28.0.1:8013/', 'NV_LIBNPP_VERSION': '12.2.1.4-1', 'NCCL_VERSION': '2.19.3-1', 'KMP_LISTEN_PORT': '6000', 'TF_FORCE_GPU_ALLOW_GROWTH': 'true', 'ENV': '/root/.bashrc', 'PWD': '/', 'COLAB_LANGUAGE_SERVER_PROXY_REQUEST_TIMEOUT': '30s', 'TBE_EPHEM_CREDS_ADDR': '172.28.0.1:8009', 'TBE_CREDS_ADDR': '172.28.0.1:8008', 'NV_CUDNN_PACKAGE': 'libcudnn8=8.9.6.50-1+cuda12.2', 'NVIDIA_DRIVER_CAPABILITIES': 'compute,utility', 'COLAB_JUPYTER_TOKEN': '', 'LAST_FORCED_REBUILD': '20240627', 'NV_NVPROF_DEV_PACKAGE': 'cuda-nvprof-12-2=12.2.142-1', 'NV_LIBNPP_PACKAGE': 'libnpp-12-2=12.2.1.4-1', 'NV_LIBNCCL_DEV_PACKAGE_NAME': 'libnccl-dev', 'TCLLIBPATH': '/usr/share/tcltk/tcllib1.20', 'NV_LIBCUBLAS_DEV_VERSION': '12.2.5.6-1', 'NVIDIA_PRODUCT_NAME': 'CUDA', 'COLAB_KERNEL_MANAGER_PROXY_HOST': '172.28.0.12', 'NV_LIBCUBLAS_DEV_PACKAGE_NAME': 'libcublas-dev-12-2', 'NV_CUDA_CUDART_VERSION': '12.2.140-1', 'COLAB_WARMUP_DEFAULTS': '1', 'HOME': '/root', 'LANG': 'en_US.UTF-8', 'COLUMNS': '100', 'CUDA_VERSION': '12.2.2', 'CLOUDSDK_CONFIG': '/content/.config', 'NV_LIBCUBLAS_PACKAGE': 'libcublas-12-2=12.2.5.6-1', 'NV_CUDA_NSIGHT_COMPUTE_DEV_PACKAGE': 'cuda-nsight-compute-12-2=12.2.2-1', 'COLAB_RELEASE_TAG': 'release-colab_20240910-060204_RC00', 'KMP_TARGET_PORT': '9000', 'KMP_EXTRA_ARGS': '--logtostderr --listen_host=172.28.0.12 --target_host=172.28.0.12 --tunnel_background_save_url=https://colab.research.google.com/tun/m/cc48301118ce562b961b3c22d803539adc1e0c19/m-s-yysr7zal1kwx --tunnel_background_save_delay=10s --tunnel_periodic_background_save_frequency=30m0s --enable_output_coalescing=true --output_coalescing_required=true --log_code_content', 'NV_LIBNPP_DEV_PACKAGE': 'libnpp-dev-12-2=12.2.1.4-1', 'COLAB_LANGUAGE_SERVER_PROXY_LSP_DIRS': '/datalab/web/pyright/typeshed-fallback/stdlib,/usr/local/lib/python3.10/dist-packages', 'NV_LIBCUBLAS_PACKAGE_NAME': 'libcublas-12-2', 'COLAB_KERNEL_MANAGER_PROXY_PORT': '6000', 'CLOUDSDK_PYTHON': 'python3', 'NV_LIBNPP_DEV_VERSION': '12.2.1.4-1', 'NO_GCE_CHECK': 'False', 'PYTHONPATH': '/env/python', 'NV_LIBCUSPARSE_DEV_VERSION': '12.1.2.141-1', 'LIBRARY_PATH': '/usr/local/cuda/lib64/stubs', 'NV_CUDNN_VERSION': '8.9.6.50', 'SHLVL': '0', 'NV_CUDA_LIB_VERSION': '12.2.2-1', 'COLAB_LANGUAGE_SERVER_PROXY': '/usr/colab/bin/language_service', 'NVARCH': 'x86_64', 'NV_CUDNN_PACKAGE_DEV': 'libcudnn8-dev=8.9.6.50-1+cuda12.2', 'NV_CUDA_COMPAT_PACKAGE': 'cuda-compat-12-2', 'NV_LIBNCCL_PACKAGE': 'libnccl2=2.19.3-1+cuda12.2', 'LD_LIBRARY_PATH': '/usr/local/nvidia/lib:/usr/local/nvidia/lib64', 'COLAB_GPU': '', 'NV_CUDA_NSIGHT_COMPUTE_VERSION': '12.2.2-1', 'GCS_READ_CACHE_BLOCK_SIZE_MB': '16', 'NV_NVPROF_VERSION': '12.2.142-1', 'LC_ALL': 'en_US.UTF-8', 'COLAB_FILE_HANDLER_ADDR': 'localhost:3453', 'PATH': '/opt/bin:/usr/local/nvidia/bin:/usr/local/cuda/bin:/usr/local/sbin:/usr/local/bin:/usr/sbin:/usr/bin:/sbin:/bin:/tools/node/bin:/tools/google-cloud-sdk/bin', 'NV_LIBNCCL_PACKAGE_NAME': 'libnccl2', 'COLAB_DEBUG_ADAPTER_MUX_PATH': '/usr/local/bin/dap_multiplexer', 'NV_LIBNCCL_PACKAGE_VERSION': '2.19.3-1', 'PYTHONWARNINGS': 'ignore:::pip._internal.cli.base_command', 'DEBIAN_FRONTEND': 'noninteractive', 'COLAB_BACKEND_VERSION': 'next', 'OLDPWD': '/', 'JPY_PARENT_PID': '88', 'TERM': 'xterm-color', 'CLICOLOR': '1', 'PAGER': 'cat', 'GIT_PAGER': 'cat', 'MPLBACKEND': 'module://ipykernel.pylab.backend_inline', 'ENABLE_DIRECTORYPREFETCHER': '1', 'USE_AUTH_EPHEM': '1', 'PYDEVD_USE_FRAME_EVAL': 'NO'})), ('_i2', 'import os.path as path\\ndef path_divide(apath):\\n  print(f\\'{apath}:{path.splittext(apath)}\\')\\n\\npath_divide(\"wada.xp\")'), ('path', <module 'posixpath' from '/usr/lib/python3.10/posixpath.py'>), ('path_divide', <function path_divide at 0x7b1ba03a5fc0>), ('_i3', 'import os.path as path\\ndef path_divide(apath):\\n  print(f\\'{apath}:{path.splitext(apath)}\\')\\n\\npath_divide(\"wada.xp\")'), ('_i4', 'print(\"True\") if id(\"String\") == id(\"String\")'), ('_i5', 'print(\"True\") if id(\"String\") == id(\"String\") else \"False\"'), ('_i6', 'bnums = [10, 20, 56, 35, 17, 99]\\nbvalues = bytearray(bnums)\\nbvalues'), ('bnums', [10, 20, 56, 35, 17, 99]), ('bvalues', bytearray(b'\\n\\x148#\\x11c')), ('_6', bytearray(b'\\n\\x148#\\x11c')), ('_i7', 'bnums = [10, 20, 56, 35, 17, 99]\\nbvalues = bytearray(bnums)\\nbvalues\\n# Iterate through the elements of the bytearray and print each element.\\nfor x in values:\\n    print(x)'), ('_i8', 'bnums = [10, 20, 56, 35, 17, 99]\\nbvalues = bytearray(bnums)\\nbvalues\\n# Iterate through the elements of the bytearray and print each element.\\nfor x in bvalues:\\n    print(x)'), ('x', 99), ('_i9', 'bnums = [10, 20, 56, 35, 17, 99]\\nbvalues = bytearray(bnums)\\nprint(bvalues)\\n# Iterate through the elements of the bytearray and print each element.\\nfor x in bvalues:\\n    print(x)'), ('_i10', 'afloat = 9.12314\\nafloat.round(3)'), ('afloat', 9.12314), ('_i11', 'afloat = 9.12314\\nround(afloat,3)'), ('_11', 9.123), ('_i12', 'locals()'), ('_12', {...}), ('_i13', 'print(\"True\") if isinstance(\\'__main__\\', locals().items()'), ('_i14', 'print(\"True\") if isinstance(\\'__main__\\', locals().items() else \"False\"'), ('_i15', 'print(\"True\") if isinstance(\\'__main__\\', locals().items()) else \"False\"'), ('_i16', 'print(\"True\") if \\'__main__\\' in locals().items() else \"False\"'), ('_16', 'False'), ('_i17', 'locals.items()'), ('_i18', 'locals().items()'), ('_18', ...), ('_i19', 'locals().values()')]), '__': 'False', '___': {...}, '_i': 'locals().items()', '_ii': 'locals.items()', '_iii': 'print(\"True\") if \\'__main__\\' in locals().items() else \"False\"', '_i1': 'import os\\nos.environ', 'os': <module 'os' from '/usr/lib/python3.10/os.py'>, '_1': environ({'SHELL': '/bin/bash', 'NV_LIBCUBLAS_VERSION': '12.2.5.6-1', 'NVIDIA_VISIBLE_DEVICES': 'all', 'COLAB_JUPYTER_TRANSPORT': 'ipc', 'NV_NVML_DEV_VERSION': '12.2.140-1', 'NV_CUDNN_PACKAGE_NAME': 'libcudnn8', 'CGROUP_MEMORY_EVENTS': '/sys/fs/cgroup/memory.events /var/colab/cgroup/jupyter-children/memory.events', 'NV_LIBNCCL_DEV_PACKAGE': 'libnccl-dev=2.19.3-1+cuda12.2', 'NV_LIBNCCL_DEV_PACKAGE_VERSION': '2.19.3-1', 'VM_GCE_METADATA_HOST': '169.254.169.253', 'HOSTNAME': '57645698dfef', 'LANGUAGE': 'en_US', 'TBE_RUNTIME_ADDR': '172.28.0.1:8011', 'COLAB_TPU_1VM': '', 'GCE_METADATA_TIMEOUT': '3', 'NVIDIA_REQUIRE_CUDA': 'cuda>=12.2 brand=tesla,driver>=470,driver<471 brand=unknown,driver>=470,driver<471 brand=nvidia,driver>=470,driver<471 brand=nvidiartx,driver>=470,driver<471 brand=geforce,driver>=470,driver<471 brand=geforcertx,driver>=470,driver<471 brand=quadro,driver>=470,driver<471 brand=quadrortx,driver>=470,driver<471 brand=titan,driver>=470,driver<471 brand=titanrtx,driver>=470,driver<471 brand=tesla,driver>=525,driver<526 brand=unknown,driver>=525,driver<526 brand=nvidia,driver>=525,driver<526 brand=nvidiartx,driver>=525,driver<526 brand=geforce,driver>=525,driver<526 brand=geforcertx,driver>=525,driver<526 brand=quadro,driver>=525,driver<526 brand=quadrortx,driver>=525,driver<526 brand=titan,driver>=525,driver<526 brand=titanrtx,driver>=525,driver<526', 'NV_LIBCUBLAS_DEV_PACKAGE': 'libcublas-dev-12-2=12.2.5.6-1', 'NV_NVTX_VERSION': '12.2.140-1', 'COLAB_JUPYTER_IP': '172.28.0.12', 'NV_CUDA_CUDART_DEV_VERSION': '12.2.140-1', 'NV_LIBCUSPARSE_VERSION': '12.1.2.141-1', 'COLAB_LANGUAGE_SERVER_PROXY_ROOT_URL': 'http://172.28.0.1:8013/', 'NV_LIBNPP_VERSION': '12.2.1.4-1', 'NCCL_VERSION': '2.19.3-1', 'KMP_LISTEN_PORT': '6000', 'TF_FORCE_GPU_ALLOW_GROWTH': 'true', 'ENV': '/root/.bashrc', 'PWD': '/', 'COLAB_LANGUAGE_SERVER_PROXY_REQUEST_TIMEOUT': '30s', 'TBE_EPHEM_CREDS_ADDR': '172.28.0.1:8009', 'TBE_CREDS_ADDR': '172.28.0.1:8008', 'NV_CUDNN_PACKAGE': 'libcudnn8=8.9.6.50-1+cuda12.2', 'NVIDIA_DRIVER_CAPABILITIES': 'compute,utility', 'COLAB_JUPYTER_TOKEN': '', 'LAST_FORCED_REBUILD': '20240627', 'NV_NVPROF_DEV_PACKAGE': 'cuda-nvprof-12-2=12.2.142-1', 'NV_LIBNPP_PACKAGE': 'libnpp-12-2=12.2.1.4-1', 'NV_LIBNCCL_DEV_PACKAGE_NAME': 'libnccl-dev', 'TCLLIBPATH': '/usr/share/tcltk/tcllib1.20', 'NV_LIBCUBLAS_DEV_VERSION': '12.2.5.6-1', 'NVIDIA_PRODUCT_NAME': 'CUDA', 'COLAB_KERNEL_MANAGER_PROXY_HOST': '172.28.0.12', 'NV_LIBCUBLAS_DEV_PACKAGE_NAME': 'libcublas-dev-12-2', 'NV_CUDA_CUDART_VERSION': '12.2.140-1', 'COLAB_WARMUP_DEFAULTS': '1', 'HOME': '/root', 'LANG': 'en_US.UTF-8', 'COLUMNS': '100', 'CUDA_VERSION': '12.2.2', 'CLOUDSDK_CONFIG': '/content/.config', 'NV_LIBCUBLAS_PACKAGE': 'libcublas-12-2=12.2.5.6-1', 'NV_CUDA_NSIGHT_COMPUTE_DEV_PACKAGE': 'cuda-nsight-compute-12-2=12.2.2-1', 'COLAB_RELEASE_TAG': 'release-colab_20240910-060204_RC00', 'KMP_TARGET_PORT': '9000', 'KMP_EXTRA_ARGS': '--logtostderr --listen_host=172.28.0.12 --target_host=172.28.0.12 --tunnel_background_save_url=https://colab.research.google.com/tun/m/cc48301118ce562b961b3c22d803539adc1e0c19/m-s-yysr7zal1kwx --tunnel_background_save_delay=10s --tunnel_periodic_background_save_frequency=30m0s --enable_output_coalescing=true --output_coalescing_required=true --log_code_content', 'NV_LIBNPP_DEV_PACKAGE': 'libnpp-dev-12-2=12.2.1.4-1', 'COLAB_LANGUAGE_SERVER_PROXY_LSP_DIRS': '/datalab/web/pyright/typeshed-fallback/stdlib,/usr/local/lib/python3.10/dist-packages', 'NV_LIBCUBLAS_PACKAGE_NAME': 'libcublas-12-2', 'COLAB_KERNEL_MANAGER_PROXY_PORT': '6000', 'CLOUDSDK_PYTHON': 'python3', 'NV_LIBNPP_DEV_VERSION': '12.2.1.4-1', 'NO_GCE_CHECK': 'False', 'PYTHONPATH': '/env/python', 'NV_LIBCUSPARSE_DEV_VERSION': '12.1.2.141-1', 'LIBRARY_PATH': '/usr/local/cuda/lib64/stubs', 'NV_CUDNN_VERSION': '8.9.6.50', 'SHLVL': '0', 'NV_CUDA_LIB_VERSION': '12.2.2-1', 'COLAB_LANGUAGE_SERVER_PROXY': '/usr/colab/bin/language_service', 'NVARCH': 'x86_64', 'NV_CUDNN_PACKAGE_DEV': 'libcudnn8-dev=8.9.6.50-1+cuda12.2', 'NV_CUDA_COMPAT_PACKAGE': 'cuda-compat-12-2', 'NV_LIBNCCL_PACKAGE': 'libnccl2=2.19.3-1+cuda12.2', 'LD_LIBRARY_PATH': '/usr/local/nvidia/lib:/usr/local/nvidia/lib64', 'COLAB_GPU': '', 'NV_CUDA_NSIGHT_COMPUTE_VERSION': '12.2.2-1', 'GCS_READ_CACHE_BLOCK_SIZE_MB': '16', 'NV_NVPROF_VERSION': '12.2.142-1', 'LC_ALL': 'en_US.UTF-8', 'COLAB_FILE_HANDLER_ADDR': 'localhost:3453', 'PATH': '/opt/bin:/usr/local/nvidia/bin:/usr/local/cuda/bin:/usr/local/sbin:/usr/local/bin:/usr/sbin:/usr/bin:/sbin:/bin:/tools/node/bin:/tools/google-cloud-sdk/bin', 'NV_LIBNCCL_PACKAGE_NAME': 'libnccl2', 'COLAB_DEBUG_ADAPTER_MUX_PATH': '/usr/local/bin/dap_multiplexer', 'NV_LIBNCCL_PACKAGE_VERSION': '2.19.3-1', 'PYTHONWARNINGS': 'ignore:::pip._internal.cli.base_command', 'DEBIAN_FRONTEND': 'noninteractive', 'COLAB_BACKEND_VERSION': 'next', 'OLDPWD': '/', 'JPY_PARENT_PID': '88', 'TERM': 'xterm-color', 'CLICOLOR': '1', 'PAGER': 'cat', 'GIT_PAGER': 'cat', 'MPLBACKEND': 'module://ipykernel.pylab.backend_inline', 'ENABLE_DIRECTORYPREFETCHER': '1', 'USE_AUTH_EPHEM': '1', 'PYDEVD_USE_FRAME_EVAL': 'NO'}), '_i2': 'import os.path as path\\ndef path_divide(apath):\\n  print(f\\'{apath}:{path.splittext(apath)}\\')\\n\\npath_divide(\"wada.xp\")', 'path': <module 'posixpath' from '/usr/lib/python3.10/posixpath.py'>, 'path_divide': <function path_divide at 0x7b1ba03a5fc0>, '_i3': 'import os.path as path\\ndef path_divide(apath):\\n  print(f\\'{apath}:{path.splitext(apath)}\\')\\n\\npath_divide(\"wada.xp\")', '_i4': 'print(\"True\") if id(\"String\") == id(\"String\")', '_i5': 'print(\"True\") if id(\"String\") == id(\"String\") else \"False\"', '_i6': 'bnums = [10, 20, 56, 35, 17, 99]\\nbvalues = bytearray(bnums)\\nbvalues', 'bnums': [10, 20, 56, 35, 17, 99], 'bvalues': bytearray(b'\\n\\x148#\\x11c'), '_6': bytearray(b'\\n\\x148#\\x11c'), '_i7': 'bnums = [10, 20, 56, 35, 17, 99]\\nbvalues = bytearray(bnums)\\nbvalues\\n# Iterate through the elements of the bytearray and print each element.\\nfor x in values:\\n    print(x)', '_i8': 'bnums = [10, 20, 56, 35, 17, 99]\\nbvalues = bytearray(bnums)\\nbvalues\\n# Iterate through the elements of the bytearray and print each element.\\nfor x in bvalues:\\n    print(x)', 'x': 99, '_i9': 'bnums = [10, 20, 56, 35, 17, 99]\\nbvalues = bytearray(bnums)\\nprint(bvalues)\\n# Iterate through the elements of the bytearray and print each element.\\nfor x in bvalues:\\n    print(x)', '_i10': 'afloat = 9.12314\\nafloat.round(3)', 'afloat': 9.12314, '_i11': 'afloat = 9.12314\\nround(afloat,3)', '_11': 9.123, '_i12': 'locals()', '_12': {...}, '_i13': 'print(\"True\") if isinstance(\\'__main__\\', locals().items()', '_i14': 'print(\"True\") if isinstance(\\'__main__\\', locals().items() else \"False\"', '_i15': 'print(\"True\") if isinstance(\\'__main__\\', locals().items()) else \"False\"', '_i16': 'print(\"True\") if \\'__main__\\' in locals().items() else \"False\"', '_16': 'False', '_i17': 'locals.items()', '_i18': 'locals().items()', '_18': dict_items([('__name__', '__main__'), ('__doc__', 'Automatically created module for IPython interactive environment'), ('__package__', None), ('__loader__', None), ('__spec__', None), ('__builtin__', <module 'builtins' (built-in)>), ('__builtins__', <module 'builtins' (built-in)>), ('_ih', ['', 'import os\\nos.environ', 'import os.path as path\\ndef path_divide(apath):\\n  print(f\\'{apath}:{path.splittext(apath)}\\')\\n\\npath_divide(\"wada.xp\")', 'import os.path as path\\ndef path_divide(apath):\\n  print(f\\'{apath}:{path.splitext(apath)}\\')\\n\\npath_divide(\"wada.xp\")', 'print(\"True\") if id(\"String\") == id(\"String\")', 'print(\"True\") if id(\"String\") == id(\"String\") else \"False\"', 'bnums = [10, 20, 56, 35, 17, 99]\\nbvalues = bytearray(bnums)\\nbvalues', 'bnums = [10, 20, 56, 35, 17, 99]\\nbvalues = bytearray(bnums)\\nbvalues\\n# Iterate through the elements of the bytearray and print each element.\\nfor x in values:\\n    print(x)', 'bnums = [10, 20, 56, 35, 17, 99]\\nbvalues = bytearray(bnums)\\nbvalues\\n# Iterate through the elements of the bytearray and print each element.\\nfor x in bvalues:\\n    print(x)', 'bnums = [10, 20, 56, 35, 17, 99]\\nbvalues = bytearray(bnums)\\nprint(bvalues)\\n# Iterate through the elements of the bytearray and print each element.\\nfor x in bvalues:\\n    print(x)', 'afloat = 9.12314\\nafloat.round(3)', 'afloat = 9.12314\\nround(afloat,3)', 'locals()', 'print(\"True\") if isinstance(\\'__main__\\', locals().items()', 'print(\"True\") if isinstance(\\'__main__\\', locals().items() else \"False\"', 'print(\"True\") if isinstance(\\'__main__\\', locals().items()) else \"False\"', 'print(\"True\") if \\'__main__\\' in locals().items() else \"False\"', 'locals.items()', 'locals().items()', 'locals().values()']), ('_oh', {...}), ('_dh', ['/content']), ('In', ['', 'import os\\nos.environ', 'import os.path as path\\ndef path_divide(apath):\\n  print(f\\'{apath}:{path.splittext(apath)}\\')\\n\\npath_divide(\"wada.xp\")', 'import os.path as path\\ndef path_divide(apath):\\n  print(f\\'{apath}:{path.splitext(apath)}\\')\\n\\npath_divide(\"wada.xp\")', 'print(\"True\") if id(\"String\") == id(\"String\")', 'print(\"True\") if id(\"String\") == id(\"String\") else \"False\"', 'bnums = [10, 20, 56, 35, 17, 99]\\nbvalues = bytearray(bnums)\\nbvalues', 'bnums = [10, 20, 56, 35, 17, 99]\\nbvalues = bytearray(bnums)\\nbvalues\\n# Iterate through the elements of the bytearray and print each element.\\nfor x in values:\\n    print(x)', 'bnums = [10, 20, 56, 35, 17, 99]\\nbvalues = bytearray(bnums)\\nbvalues\\n# Iterate through the elements of the bytearray and print each element.\\nfor x in bvalues:\\n    print(x)', 'bnums = [10, 20, 56, 35, 17, 99]\\nbvalues = bytearray(bnums)\\nprint(bvalues)\\n# Iterate through the elements of the bytearray and print each element.\\nfor x in bvalues:\\n    print(x)', 'afloat = 9.12314\\nafloat.round(3)', 'afloat = 9.12314\\nround(afloat,3)', 'locals()', 'print(\"True\") if isinstance(\\'__main__\\', locals().items()', 'print(\"True\") if isinstance(\\'__main__\\', locals().items() else \"False\"', 'print(\"True\") if isinstance(\\'__main__\\', locals().items()) else \"False\"', 'print(\"True\") if \\'__main__\\' in locals().items() else \"False\"', 'locals.items()', 'locals().items()', 'locals().values()']), ('Out', {...}), ('get_ipython', <bound method InteractiveShell.get_ipython of <google.colab._shell.Shell object at 0x7b1bb296e710>>), ('exit', <IPython.core.autocall.ZMQExitAutocall object at 0x7b1bb296dbd0>), ('quit', <IPython.core.autocall.ZMQExitAutocall object at 0x7b1bb296dbd0>), ('_', ...), ('__', 'False'), ('___', {...}), ('_i', 'locals().items()'), ('_ii', 'locals.items()'), ('_iii', 'print(\"True\") if \\'__main__\\' in locals().items() else \"False\"'), ('_i1', 'import os\\nos.environ'), ('os', <module 'os' from '/usr/lib/python3.10/os.py'>), ('_1', environ({'SHELL': '/bin/bash', 'NV_LIBCUBLAS_VERSION': '12.2.5.6-1', 'NVIDIA_VISIBLE_DEVICES': 'all', 'COLAB_JUPYTER_TRANSPORT': 'ipc', 'NV_NVML_DEV_VERSION': '12.2.140-1', 'NV_CUDNN_PACKAGE_NAME': 'libcudnn8', 'CGROUP_MEMORY_EVENTS': '/sys/fs/cgroup/memory.events /var/colab/cgroup/jupyter-children/memory.events', 'NV_LIBNCCL_DEV_PACKAGE': 'libnccl-dev=2.19.3-1+cuda12.2', 'NV_LIBNCCL_DEV_PACKAGE_VERSION': '2.19.3-1', 'VM_GCE_METADATA_HOST': '169.254.169.253', 'HOSTNAME': '57645698dfef', 'LANGUAGE': 'en_US', 'TBE_RUNTIME_ADDR': '172.28.0.1:8011', 'COLAB_TPU_1VM': '', 'GCE_METADATA_TIMEOUT': '3', 'NVIDIA_REQUIRE_CUDA': 'cuda>=12.2 brand=tesla,driver>=470,driver<471 brand=unknown,driver>=470,driver<471 brand=nvidia,driver>=470,driver<471 brand=nvidiartx,driver>=470,driver<471 brand=geforce,driver>=470,driver<471 brand=geforcertx,driver>=470,driver<471 brand=quadro,driver>=470,driver<471 brand=quadrortx,driver>=470,driver<471 brand=titan,driver>=470,driver<471 brand=titanrtx,driver>=470,driver<471 brand=tesla,driver>=525,driver<526 brand=unknown,driver>=525,driver<526 brand=nvidia,driver>=525,driver<526 brand=nvidiartx,driver>=525,driver<526 brand=geforce,driver>=525,driver<526 brand=geforcertx,driver>=525,driver<526 brand=quadro,driver>=525,driver<526 brand=quadrortx,driver>=525,driver<526 brand=titan,driver>=525,driver<526 brand=titanrtx,driver>=525,driver<526', 'NV_LIBCUBLAS_DEV_PACKAGE': 'libcublas-dev-12-2=12.2.5.6-1', 'NV_NVTX_VERSION': '12.2.140-1', 'COLAB_JUPYTER_IP': '172.28.0.12', 'NV_CUDA_CUDART_DEV_VERSION': '12.2.140-1', 'NV_LIBCUSPARSE_VERSION': '12.1.2.141-1', 'COLAB_LANGUAGE_SERVER_PROXY_ROOT_URL': 'http://172.28.0.1:8013/', 'NV_LIBNPP_VERSION': '12.2.1.4-1', 'NCCL_VERSION': '2.19.3-1', 'KMP_LISTEN_PORT': '6000', 'TF_FORCE_GPU_ALLOW_GROWTH': 'true', 'ENV': '/root/.bashrc', 'PWD': '/', 'COLAB_LANGUAGE_SERVER_PROXY_REQUEST_TIMEOUT': '30s', 'TBE_EPHEM_CREDS_ADDR': '172.28.0.1:8009', 'TBE_CREDS_ADDR': '172.28.0.1:8008', 'NV_CUDNN_PACKAGE': 'libcudnn8=8.9.6.50-1+cuda12.2', 'NVIDIA_DRIVER_CAPABILITIES': 'compute,utility', 'COLAB_JUPYTER_TOKEN': '', 'LAST_FORCED_REBUILD': '20240627', 'NV_NVPROF_DEV_PACKAGE': 'cuda-nvprof-12-2=12.2.142-1', 'NV_LIBNPP_PACKAGE': 'libnpp-12-2=12.2.1.4-1', 'NV_LIBNCCL_DEV_PACKAGE_NAME': 'libnccl-dev', 'TCLLIBPATH': '/usr/share/tcltk/tcllib1.20', 'NV_LIBCUBLAS_DEV_VERSION': '12.2.5.6-1', 'NVIDIA_PRODUCT_NAME': 'CUDA', 'COLAB_KERNEL_MANAGER_PROXY_HOST': '172.28.0.12', 'NV_LIBCUBLAS_DEV_PACKAGE_NAME': 'libcublas-dev-12-2', 'NV_CUDA_CUDART_VERSION': '12.2.140-1', 'COLAB_WARMUP_DEFAULTS': '1', 'HOME': '/root', 'LANG': 'en_US.UTF-8', 'COLUMNS': '100', 'CUDA_VERSION': '12.2.2', 'CLOUDSDK_CONFIG': '/content/.config', 'NV_LIBCUBLAS_PACKAGE': 'libcublas-12-2=12.2.5.6-1', 'NV_CUDA_NSIGHT_COMPUTE_DEV_PACKAGE': 'cuda-nsight-compute-12-2=12.2.2-1', 'COLAB_RELEASE_TAG': 'release-colab_20240910-060204_RC00', 'KMP_TARGET_PORT': '9000', 'KMP_EXTRA_ARGS': '--logtostderr --listen_host=172.28.0.12 --target_host=172.28.0.12 --tunnel_background_save_url=https://colab.research.google.com/tun/m/cc48301118ce562b961b3c22d803539adc1e0c19/m-s-yysr7zal1kwx --tunnel_background_save_delay=10s --tunnel_periodic_background_save_frequency=30m0s --enable_output_coalescing=true --output_coalescing_required=true --log_code_content', 'NV_LIBNPP_DEV_PACKAGE': 'libnpp-dev-12-2=12.2.1.4-1', 'COLAB_LANGUAGE_SERVER_PROXY_LSP_DIRS': '/datalab/web/pyright/typeshed-fallback/stdlib,/usr/local/lib/python3.10/dist-packages', 'NV_LIBCUBLAS_PACKAGE_NAME': 'libcublas-12-2', 'COLAB_KERNEL_MANAGER_PROXY_PORT': '6000', 'CLOUDSDK_PYTHON': 'python3', 'NV_LIBNPP_DEV_VERSION': '12.2.1.4-1', 'NO_GCE_CHECK': 'False', 'PYTHONPATH': '/env/python', 'NV_LIBCUSPARSE_DEV_VERSION': '12.1.2.141-1', 'LIBRARY_PATH': '/usr/local/cuda/lib64/stubs', 'NV_CUDNN_VERSION': '8.9.6.50', 'SHLVL': '0', 'NV_CUDA_LIB_VERSION': '12.2.2-1', 'COLAB_LANGUAGE_SERVER_PROXY': '/usr/colab/bin/language_service', 'NVARCH': 'x86_64', 'NV_CUDNN_PACKAGE_DEV': 'libcudnn8-dev=8.9.6.50-1+cuda12.2', 'NV_CUDA_COMPAT_PACKAGE': 'cuda-compat-12-2', 'NV_LIBNCCL_PACKAGE': 'libnccl2=2.19.3-1+cuda12.2', 'LD_LIBRARY_PATH': '/usr/local/nvidia/lib:/usr/local/nvidia/lib64', 'COLAB_GPU': '', 'NV_CUDA_NSIGHT_COMPUTE_VERSION': '12.2.2-1', 'GCS_READ_CACHE_BLOCK_SIZE_MB': '16', 'NV_NVPROF_VERSION': '12.2.142-1', 'LC_ALL': 'en_US.UTF-8', 'COLAB_FILE_HANDLER_ADDR': 'localhost:3453', 'PATH': '/opt/bin:/usr/local/nvidia/bin:/usr/local/cuda/bin:/usr/local/sbin:/usr/local/bin:/usr/sbin:/usr/bin:/sbin:/bin:/tools/node/bin:/tools/google-cloud-sdk/bin', 'NV_LIBNCCL_PACKAGE_NAME': 'libnccl2', 'COLAB_DEBUG_ADAPTER_MUX_PATH': '/usr/local/bin/dap_multiplexer', 'NV_LIBNCCL_PACKAGE_VERSION': '2.19.3-1', 'PYTHONWARNINGS': 'ignore:::pip._internal.cli.base_command', 'DEBIAN_FRONTEND': 'noninteractive', 'COLAB_BACKEND_VERSION': 'next', 'OLDPWD': '/', 'JPY_PARENT_PID': '88', 'TERM': 'xterm-color', 'CLICOLOR': '1', 'PAGER': 'cat', 'GIT_PAGER': 'cat', 'MPLBACKEND': 'module://ipykernel.pylab.backend_inline', 'ENABLE_DIRECTORYPREFETCHER': '1', 'USE_AUTH_EPHEM': '1', 'PYDEVD_USE_FRAME_EVAL': 'NO'})), ('_i2', 'import os.path as path\\ndef path_divide(apath):\\n  print(f\\'{apath}:{path.splittext(apath)}\\')\\n\\npath_divide(\"wada.xp\")'), ('path', <module 'posixpath' from '/usr/lib/python3.10/posixpath.py'>), ('path_divide', <function path_divide at 0x7b1ba03a5fc0>), ('_i3', 'import os.path as path\\ndef path_divide(apath):\\n  print(f\\'{apath}:{path.splitext(apath)}\\')\\n\\npath_divide(\"wada.xp\")'), ('_i4', 'print(\"True\") if id(\"String\") == id(\"String\")'), ('_i5', 'print(\"True\") if id(\"String\") == id(\"String\") else \"False\"'), ('_i6', 'bnums = [10, 20, 56, 35, 17, 99]\\nbvalues = bytearray(bnums)\\nbvalues'), ('bnums', [10, 20, 56, 35, 17, 99]), ('bvalues', bytearray(b'\\n\\x148#\\x11c')), ('_6', bytearray(b'\\n\\x148#\\x11c')), ('_i7', 'bnums = [10, 20, 56, 35, 17, 99]\\nbvalues = bytearray(bnums)\\nbvalues\\n# Iterate through the elements of the bytearray and print each element.\\nfor x in values:\\n    print(x)'), ('_i8', 'bnums = [10, 20, 56, 35, 17, 99]\\nbvalues = bytearray(bnums)\\nbvalues\\n# Iterate through the elements of the bytearray and print each element.\\nfor x in bvalues:\\n    print(x)'), ('x', 99), ('_i9', 'bnums = [10, 20, 56, 35, 17, 99]\\nbvalues = bytearray(bnums)\\nprint(bvalues)\\n# Iterate through the elements of the bytearray and print each element.\\nfor x in bvalues:\\n    print(x)'), ('_i10', 'afloat = 9.12314\\nafloat.round(3)'), ('afloat', 9.12314), ('_i11', 'afloat = 9.12314\\nround(afloat,3)'), ('_11', 9.123), ('_i12', 'locals()'), ('_12', {...}), ('_i13', 'print(\"True\") if isinstance(\\'__main__\\', locals().items()'), ('_i14', 'print(\"True\") if isinstance(\\'__main__\\', locals().items() else \"False\"'), ('_i15', 'print(\"True\") if isinstance(\\'__main__\\', locals().items()) else \"False\"'), ('_i16', 'print(\"True\") if \\'__main__\\' in locals().items() else \"False\"'), ('_16', 'False'), ('_i17', 'locals.items()'), ('_i18', 'locals().items()'), ('_18', ...), ('_i19', 'locals().values()')]), '_i19': 'locals().values()'}, 16: 'False', 18: dict_items([('__name__', '__main__'), ('__doc__', 'Automatically created module for IPython interactive environment'), ('__package__', None), ('__loader__', None), ('__spec__', None), ('__builtin__', <module 'builtins' (built-in)>), ('__builtins__', <module 'builtins' (built-in)>), ('_ih', ['', 'import os\\nos.environ', 'import os.path as path\\ndef path_divide(apath):\\n  print(f\\'{apath}:{path.splittext(apath)}\\')\\n\\npath_divide(\"wada.xp\")', 'import os.path as path\\ndef path_divide(apath):\\n  print(f\\'{apath}:{path.splitext(apath)}\\')\\n\\npath_divide(\"wada.xp\")', 'print(\"True\") if id(\"String\") == id(\"String\")', 'print(\"True\") if id(\"String\") == id(\"String\") else \"False\"', 'bnums = [10, 20, 56, 35, 17, 99]\\nbvalues = bytearray(bnums)\\nbvalues', 'bnums = [10, 20, 56, 35, 17, 99]\\nbvalues = bytearray(bnums)\\nbvalues\\n# Iterate through the elements of the bytearray and print each element.\\nfor x in values:\\n    print(x)', 'bnums = [10, 20, 56, 35, 17, 99]\\nbvalues = bytearray(bnums)\\nbvalues\\n# Iterate through the elements of the bytearray and print each element.\\nfor x in bvalues:\\n    print(x)', 'bnums = [10, 20, 56, 35, 17, 99]\\nbvalues = bytearray(bnums)\\nprint(bvalues)\\n# Iterate through the elements of the bytearray and print each element.\\nfor x in bvalues:\\n    print(x)', 'afloat = 9.12314\\nafloat.round(3)', 'afloat = 9.12314\\nround(afloat,3)', 'locals()', 'print(\"True\") if isinstance(\\'__main__\\', locals().items()', 'print(\"True\") if isinstance(\\'__main__\\', locals().items() else \"False\"', 'print(\"True\") if isinstance(\\'__main__\\', locals().items()) else \"False\"', 'print(\"True\") if \\'__main__\\' in locals().items() else \"False\"', 'locals.items()', 'locals().items()', 'locals().values()']), ('_oh', {...}), ('_dh', ['/content']), ('In', ['', 'import os\\nos.environ', 'import os.path as path\\ndef path_divide(apath):\\n  print(f\\'{apath}:{path.splittext(apath)}\\')\\n\\npath_divide(\"wada.xp\")', 'import os.path as path\\ndef path_divide(apath):\\n  print(f\\'{apath}:{path.splitext(apath)}\\')\\n\\npath_divide(\"wada.xp\")', 'print(\"True\") if id(\"String\") == id(\"String\")', 'print(\"True\") if id(\"String\") == id(\"String\") else \"False\"', 'bnums = [10, 20, 56, 35, 17, 99]\\nbvalues = bytearray(bnums)\\nbvalues', 'bnums = [10, 20, 56, 35, 17, 99]\\nbvalues = bytearray(bnums)\\nbvalues\\n# Iterate through the elements of the bytearray and print each element.\\nfor x in values:\\n    print(x)', 'bnums = [10, 20, 56, 35, 17, 99]\\nbvalues = bytearray(bnums)\\nbvalues\\n# Iterate through the elements of the bytearray and print each element.\\nfor x in bvalues:\\n    print(x)', 'bnums = [10, 20, 56, 35, 17, 99]\\nbvalues = bytearray(bnums)\\nprint(bvalues)\\n# Iterate through the elements of the bytearray and print each element.\\nfor x in bvalues:\\n    print(x)', 'afloat = 9.12314\\nafloat.round(3)', 'afloat = 9.12314\\nround(afloat,3)', 'locals()', 'print(\"True\") if isinstance(\\'__main__\\', locals().items()', 'print(\"True\") if isinstance(\\'__main__\\', locals().items() else \"False\"', 'print(\"True\") if isinstance(\\'__main__\\', locals().items()) else \"False\"', 'print(\"True\") if \\'__main__\\' in locals().items() else \"False\"', 'locals.items()', 'locals().items()', 'locals().values()']), ('Out', {...}), ('get_ipython', <bound method InteractiveShell.get_ipython of <google.colab._shell.Shell object at 0x7b1bb296e710>>), ('exit', <IPython.core.autocall.ZMQExitAutocall object at 0x7b1bb296dbd0>), ('quit', <IPython.core.autocall.ZMQExitAutocall object at 0x7b1bb296dbd0>), ('_', ...), ('__', 'False'), ('___', {'__name__': '__main__', '__doc__': 'Automatically created module for IPython interactive environment', '__package__': None, '__loader__': None, '__spec__': None, '__builtin__': <module 'builtins' (built-in)>, '__builtins__': <module 'builtins' (built-in)>, '_ih': ['', 'import os\\nos.environ', 'import os.path as path\\ndef path_divide(apath):\\n  print(f\\'{apath}:{path.splittext(apath)}\\')\\n\\npath_divide(\"wada.xp\")', 'import os.path as path\\ndef path_divide(apath):\\n  print(f\\'{apath}:{path.splitext(apath)}\\')\\n\\npath_divide(\"wada.xp\")', 'print(\"True\") if id(\"String\") == id(\"String\")', 'print(\"True\") if id(\"String\") == id(\"String\") else \"False\"', 'bnums = [10, 20, 56, 35, 17, 99]\\nbvalues = bytearray(bnums)\\nbvalues', 'bnums = [10, 20, 56, 35, 17, 99]\\nbvalues = bytearray(bnums)\\nbvalues\\n# Iterate through the elements of the bytearray and print each element.\\nfor x in values:\\n    print(x)', 'bnums = [10, 20, 56, 35, 17, 99]\\nbvalues = bytearray(bnums)\\nbvalues\\n# Iterate through the elements of the bytearray and print each element.\\nfor x in bvalues:\\n    print(x)', 'bnums = [10, 20, 56, 35, 17, 99]\\nbvalues = bytearray(bnums)\\nprint(bvalues)\\n# Iterate through the elements of the bytearray and print each element.\\nfor x in bvalues:\\n    print(x)', 'afloat = 9.12314\\nafloat.round(3)', 'afloat = 9.12314\\nround(afloat,3)', 'locals()', 'print(\"True\") if isinstance(\\'__main__\\', locals().items()', 'print(\"True\") if isinstance(\\'__main__\\', locals().items() else \"False\"', 'print(\"True\") if isinstance(\\'__main__\\', locals().items()) else \"False\"', 'print(\"True\") if \\'__main__\\' in locals().items() else \"False\"', 'locals.items()', 'locals().items()', 'locals().values()'], '_oh': {...}, '_dh': ['/content'], 'In': ['', 'import os\\nos.environ', 'import os.path as path\\ndef path_divide(apath):\\n  print(f\\'{apath}:{path.splittext(apath)}\\')\\n\\npath_divide(\"wada.xp\")', 'import os.path as path\\ndef path_divide(apath):\\n  print(f\\'{apath}:{path.splitext(apath)}\\')\\n\\npath_divide(\"wada.xp\")', 'print(\"True\") if id(\"String\") == id(\"String\")', 'print(\"True\") if id(\"String\") == id(\"String\") else \"False\"', 'bnums = [10, 20, 56, 35, 17, 99]\\nbvalues = bytearray(bnums)\\nbvalues', 'bnums = [10, 20, 56, 35, 17, 99]\\nbvalues = bytearray(bnums)\\nbvalues\\n# Iterate through the elements of the bytearray and print each element.\\nfor x in values:\\n    print(x)', 'bnums = [10, 20, 56, 35, 17, 99]\\nbvalues = bytearray(bnums)\\nbvalues\\n# Iterate through the elements of the bytearray and print each element.\\nfor x in bvalues:\\n    print(x)', 'bnums = [10, 20, 56, 35, 17, 99]\\nbvalues = bytearray(bnums)\\nprint(bvalues)\\n# Iterate through the elements of the bytearray and print each element.\\nfor x in bvalues:\\n    print(x)', 'afloat = 9.12314\\nafloat.round(3)', 'afloat = 9.12314\\nround(afloat,3)', 'locals()', 'print(\"True\") if isinstance(\\'__main__\\', locals().items()', 'print(\"True\") if isinstance(\\'__main__\\', locals().items() else \"False\"', 'print(\"True\") if isinstance(\\'__main__\\', locals().items()) else \"False\"', 'print(\"True\") if \\'__main__\\' in locals().items() else \"False\"', 'locals.items()', 'locals().items()', 'locals().values()'], 'Out': {...}, 'get_ipython': <bound method InteractiveShell.get_ipython of <google.colab._shell.Shell object at 0x7b1bb296e710>>, 'exit': <IPython.core.autocall.ZMQExitAutocall object at 0x7b1bb296dbd0>, 'quit': <IPython.core.autocall.ZMQExitAutocall object at 0x7b1bb296dbd0>, '_': ..., '__': 'False', '___': {...}, '_i': 'locals().items()', '_ii': 'locals.items()', '_iii': 'print(\"True\") if \\'__main__\\' in locals().items() else \"False\"', '_i1': 'import os\\nos.environ', 'os': <module 'os' from '/usr/lib/python3.10/os.py'>, '_1': environ({'SHELL': '/bin/bash', 'NV_LIBCUBLAS_VERSION': '12.2.5.6-1', 'NVIDIA_VISIBLE_DEVICES': 'all', 'COLAB_JUPYTER_TRANSPORT': 'ipc', 'NV_NVML_DEV_VERSION': '12.2.140-1', 'NV_CUDNN_PACKAGE_NAME': 'libcudnn8', 'CGROUP_MEMORY_EVENTS': '/sys/fs/cgroup/memory.events /var/colab/cgroup/jupyter-children/memory.events', 'NV_LIBNCCL_DEV_PACKAGE': 'libnccl-dev=2.19.3-1+cuda12.2', 'NV_LIBNCCL_DEV_PACKAGE_VERSION': '2.19.3-1', 'VM_GCE_METADATA_HOST': '169.254.169.253', 'HOSTNAME': '57645698dfef', 'LANGUAGE': 'en_US', 'TBE_RUNTIME_ADDR': '172.28.0.1:8011', 'COLAB_TPU_1VM': '', 'GCE_METADATA_TIMEOUT': '3', 'NVIDIA_REQUIRE_CUDA': 'cuda>=12.2 brand=tesla,driver>=470,driver<471 brand=unknown,driver>=470,driver<471 brand=nvidia,driver>=470,driver<471 brand=nvidiartx,driver>=470,driver<471 brand=geforce,driver>=470,driver<471 brand=geforcertx,driver>=470,driver<471 brand=quadro,driver>=470,driver<471 brand=quadrortx,driver>=470,driver<471 brand=titan,driver>=470,driver<471 brand=titanrtx,driver>=470,driver<471 brand=tesla,driver>=525,driver<526 brand=unknown,driver>=525,driver<526 brand=nvidia,driver>=525,driver<526 brand=nvidiartx,driver>=525,driver<526 brand=geforce,driver>=525,driver<526 brand=geforcertx,driver>=525,driver<526 brand=quadro,driver>=525,driver<526 brand=quadrortx,driver>=525,driver<526 brand=titan,driver>=525,driver<526 brand=titanrtx,driver>=525,driver<526', 'NV_LIBCUBLAS_DEV_PACKAGE': 'libcublas-dev-12-2=12.2.5.6-1', 'NV_NVTX_VERSION': '12.2.140-1', 'COLAB_JUPYTER_IP': '172.28.0.12', 'NV_CUDA_CUDART_DEV_VERSION': '12.2.140-1', 'NV_LIBCUSPARSE_VERSION': '12.1.2.141-1', 'COLAB_LANGUAGE_SERVER_PROXY_ROOT_URL': 'http://172.28.0.1:8013/', 'NV_LIBNPP_VERSION': '12.2.1.4-1', 'NCCL_VERSION': '2.19.3-1', 'KMP_LISTEN_PORT': '6000', 'TF_FORCE_GPU_ALLOW_GROWTH': 'true', 'ENV': '/root/.bashrc', 'PWD': '/', 'COLAB_LANGUAGE_SERVER_PROXY_REQUEST_TIMEOUT': '30s', 'TBE_EPHEM_CREDS_ADDR': '172.28.0.1:8009', 'TBE_CREDS_ADDR': '172.28.0.1:8008', 'NV_CUDNN_PACKAGE': 'libcudnn8=8.9.6.50-1+cuda12.2', 'NVIDIA_DRIVER_CAPABILITIES': 'compute,utility', 'COLAB_JUPYTER_TOKEN': '', 'LAST_FORCED_REBUILD': '20240627', 'NV_NVPROF_DEV_PACKAGE': 'cuda-nvprof-12-2=12.2.142-1', 'NV_LIBNPP_PACKAGE': 'libnpp-12-2=12.2.1.4-1', 'NV_LIBNCCL_DEV_PACKAGE_NAME': 'libnccl-dev', 'TCLLIBPATH': '/usr/share/tcltk/tcllib1.20', 'NV_LIBCUBLAS_DEV_VERSION': '12.2.5.6-1', 'NVIDIA_PRODUCT_NAME': 'CUDA', 'COLAB_KERNEL_MANAGER_PROXY_HOST': '172.28.0.12', 'NV_LIBCUBLAS_DEV_PACKAGE_NAME': 'libcublas-dev-12-2', 'NV_CUDA_CUDART_VERSION': '12.2.140-1', 'COLAB_WARMUP_DEFAULTS': '1', 'HOME': '/root', 'LANG': 'en_US.UTF-8', 'COLUMNS': '100', 'CUDA_VERSION': '12.2.2', 'CLOUDSDK_CONFIG': '/content/.config', 'NV_LIBCUBLAS_PACKAGE': 'libcublas-12-2=12.2.5.6-1', 'NV_CUDA_NSIGHT_COMPUTE_DEV_PACKAGE': 'cuda-nsight-compute-12-2=12.2.2-1', 'COLAB_RELEASE_TAG': 'release-colab_20240910-060204_RC00', 'KMP_TARGET_PORT': '9000', 'KMP_EXTRA_ARGS': '--logtostderr --listen_host=172.28.0.12 --target_host=172.28.0.12 --tunnel_background_save_url=https://colab.research.google.com/tun/m/cc48301118ce562b961b3c22d803539adc1e0c19/m-s-yysr7zal1kwx --tunnel_background_save_delay=10s --tunnel_periodic_background_save_frequency=30m0s --enable_output_coalescing=true --output_coalescing_required=true --log_code_content', 'NV_LIBNPP_DEV_PACKAGE': 'libnpp-dev-12-2=12.2.1.4-1', 'COLAB_LANGUAGE_SERVER_PROXY_LSP_DIRS': '/datalab/web/pyright/typeshed-fallback/stdlib,/usr/local/lib/python3.10/dist-packages', 'NV_LIBCUBLAS_PACKAGE_NAME': 'libcublas-12-2', 'COLAB_KERNEL_MANAGER_PROXY_PORT': '6000', 'CLOUDSDK_PYTHON': 'python3', 'NV_LIBNPP_DEV_VERSION': '12.2.1.4-1', 'NO_GCE_CHECK': 'False', 'PYTHONPATH': '/env/python', 'NV_LIBCUSPARSE_DEV_VERSION': '12.1.2.141-1', 'LIBRARY_PATH': '/usr/local/cuda/lib64/stubs', 'NV_CUDNN_VERSION': '8.9.6.50', 'SHLVL': '0', 'NV_CUDA_LIB_VERSION': '12.2.2-1', 'COLAB_LANGUAGE_SERVER_PROXY': '/usr/colab/bin/language_service', 'NVARCH': 'x86_64', 'NV_CUDNN_PACKAGE_DEV': 'libcudnn8-dev=8.9.6.50-1+cuda12.2', 'NV_CUDA_COMPAT_PACKAGE': 'cuda-compat-12-2', 'NV_LIBNCCL_PACKAGE': 'libnccl2=2.19.3-1+cuda12.2', 'LD_LIBRARY_PATH': '/usr/local/nvidia/lib:/usr/local/nvidia/lib64', 'COLAB_GPU': '', 'NV_CUDA_NSIGHT_COMPUTE_VERSION': '12.2.2-1', 'GCS_READ_CACHE_BLOCK_SIZE_MB': '16', 'NV_NVPROF_VERSION': '12.2.142-1', 'LC_ALL': 'en_US.UTF-8', 'COLAB_FILE_HANDLER_ADDR': 'localhost:3453', 'PATH': '/opt/bin:/usr/local/nvidia/bin:/usr/local/cuda/bin:/usr/local/sbin:/usr/local/bin:/usr/sbin:/usr/bin:/sbin:/bin:/tools/node/bin:/tools/google-cloud-sdk/bin', 'NV_LIBNCCL_PACKAGE_NAME': 'libnccl2', 'COLAB_DEBUG_ADAPTER_MUX_PATH': '/usr/local/bin/dap_multiplexer', 'NV_LIBNCCL_PACKAGE_VERSION': '2.19.3-1', 'PYTHONWARNINGS': 'ignore:::pip._internal.cli.base_command', 'DEBIAN_FRONTEND': 'noninteractive', 'COLAB_BACKEND_VERSION': 'next', 'OLDPWD': '/', 'JPY_PARENT_PID': '88', 'TERM': 'xterm-color', 'CLICOLOR': '1', 'PAGER': 'cat', 'GIT_PAGER': 'cat', 'MPLBACKEND': 'module://ipykernel.pylab.backend_inline', 'ENABLE_DIRECTORYPREFETCHER': '1', 'USE_AUTH_EPHEM': '1', 'PYDEVD_USE_FRAME_EVAL': 'NO'}), '_i2': 'import os.path as path\\ndef path_divide(apath):\\n  print(f\\'{apath}:{path.splittext(apath)}\\')\\n\\npath_divide(\"wada.xp\")', 'path': <module 'posixpath' from '/usr/lib/python3.10/posixpath.py'>, 'path_divide': <function path_divide at 0x7b1ba03a5fc0>, '_i3': 'import os.path as path\\ndef path_divide(apath):\\n  print(f\\'{apath}:{path.splitext(apath)}\\')\\n\\npath_divide(\"wada.xp\")', '_i4': 'print(\"True\") if id(\"String\") == id(\"String\")', '_i5': 'print(\"True\") if id(\"String\") == id(\"String\") else \"False\"', '_i6': 'bnums = [10, 20, 56, 35, 17, 99]\\nbvalues = bytearray(bnums)\\nbvalues', 'bnums': [10, 20, 56, 35, 17, 99], 'bvalues': bytearray(b'\\n\\x148#\\x11c'), '_6': bytearray(b'\\n\\x148#\\x11c'), '_i7': 'bnums = [10, 20, 56, 35, 17, 99]\\nbvalues = bytearray(bnums)\\nbvalues\\n# Iterate through the elements of the bytearray and print each element.\\nfor x in values:\\n    print(x)', '_i8': 'bnums = [10, 20, 56, 35, 17, 99]\\nbvalues = bytearray(bnums)\\nbvalues\\n# Iterate through the elements of the bytearray and print each element.\\nfor x in bvalues:\\n    print(x)', 'x': 99, '_i9': 'bnums = [10, 20, 56, 35, 17, 99]\\nbvalues = bytearray(bnums)\\nprint(bvalues)\\n# Iterate through the elements of the bytearray and print each element.\\nfor x in bvalues:\\n    print(x)', '_i10': 'afloat = 9.12314\\nafloat.round(3)', 'afloat': 9.12314, '_i11': 'afloat = 9.12314\\nround(afloat,3)', '_11': 9.123, '_i12': 'locals()', '_12': {...}, '_i13': 'print(\"True\") if isinstance(\\'__main__\\', locals().items()', '_i14': 'print(\"True\") if isinstance(\\'__main__\\', locals().items() else \"False\"', '_i15': 'print(\"True\") if isinstance(\\'__main__\\', locals().items()) else \"False\"', '_i16': 'print(\"True\") if \\'__main__\\' in locals().items() else \"False\"', '_16': 'False', '_i17': 'locals.items()', '_i18': 'locals().items()', '_18': ..., '_i19': 'locals().values()'}), ('_i', 'locals().items()'), ('_ii', 'locals.items()'), ('_iii', 'print(\"True\") if \\'__main__\\' in locals().items() else \"False\"'), ('_i1', 'import os\\nos.environ'), ('os', <module 'os' from '/usr/lib/python3.10/os.py'>), ('_1', environ({'SHELL': '/bin/bash', 'NV_LIBCUBLAS_VERSION': '12.2.5.6-1', 'NVIDIA_VISIBLE_DEVICES': 'all', 'COLAB_JUPYTER_TRANSPORT': 'ipc', 'NV_NVML_DEV_VERSION': '12.2.140-1', 'NV_CUDNN_PACKAGE_NAME': 'libcudnn8', 'CGROUP_MEMORY_EVENTS': '/sys/fs/cgroup/memory.events /var/colab/cgroup/jupyter-children/memory.events', 'NV_LIBNCCL_DEV_PACKAGE': 'libnccl-dev=2.19.3-1+cuda12.2', 'NV_LIBNCCL_DEV_PACKAGE_VERSION': '2.19.3-1', 'VM_GCE_METADATA_HOST': '169.254.169.253', 'HOSTNAME': '57645698dfef', 'LANGUAGE': 'en_US', 'TBE_RUNTIME_ADDR': '172.28.0.1:8011', 'COLAB_TPU_1VM': '', 'GCE_METADATA_TIMEOUT': '3', 'NVIDIA_REQUIRE_CUDA': 'cuda>=12.2 brand=tesla,driver>=470,driver<471 brand=unknown,driver>=470,driver<471 brand=nvidia,driver>=470,driver<471 brand=nvidiartx,driver>=470,driver<471 brand=geforce,driver>=470,driver<471 brand=geforcertx,driver>=470,driver<471 brand=quadro,driver>=470,driver<471 brand=quadrortx,driver>=470,driver<471 brand=titan,driver>=470,driver<471 brand=titanrtx,driver>=470,driver<471 brand=tesla,driver>=525,driver<526 brand=unknown,driver>=525,driver<526 brand=nvidia,driver>=525,driver<526 brand=nvidiartx,driver>=525,driver<526 brand=geforce,driver>=525,driver<526 brand=geforcertx,driver>=525,driver<526 brand=quadro,driver>=525,driver<526 brand=quadrortx,driver>=525,driver<526 brand=titan,driver>=525,driver<526 brand=titanrtx,driver>=525,driver<526', 'NV_LIBCUBLAS_DEV_PACKAGE': 'libcublas-dev-12-2=12.2.5.6-1', 'NV_NVTX_VERSION': '12.2.140-1', 'COLAB_JUPYTER_IP': '172.28.0.12', 'NV_CUDA_CUDART_DEV_VERSION': '12.2.140-1', 'NV_LIBCUSPARSE_VERSION': '12.1.2.141-1', 'COLAB_LANGUAGE_SERVER_PROXY_ROOT_URL': 'http://172.28.0.1:8013/', 'NV_LIBNPP_VERSION': '12.2.1.4-1', 'NCCL_VERSION': '2.19.3-1', 'KMP_LISTEN_PORT': '6000', 'TF_FORCE_GPU_ALLOW_GROWTH': 'true', 'ENV': '/root/.bashrc', 'PWD': '/', 'COLAB_LANGUAGE_SERVER_PROXY_REQUEST_TIMEOUT': '30s', 'TBE_EPHEM_CREDS_ADDR': '172.28.0.1:8009', 'TBE_CREDS_ADDR': '172.28.0.1:8008', 'NV_CUDNN_PACKAGE': 'libcudnn8=8.9.6.50-1+cuda12.2', 'NVIDIA_DRIVER_CAPABILITIES': 'compute,utility', 'COLAB_JUPYTER_TOKEN': '', 'LAST_FORCED_REBUILD': '20240627', 'NV_NVPROF_DEV_PACKAGE': 'cuda-nvprof-12-2=12.2.142-1', 'NV_LIBNPP_PACKAGE': 'libnpp-12-2=12.2.1.4-1', 'NV_LIBNCCL_DEV_PACKAGE_NAME': 'libnccl-dev', 'TCLLIBPATH': '/usr/share/tcltk/tcllib1.20', 'NV_LIBCUBLAS_DEV_VERSION': '12.2.5.6-1', 'NVIDIA_PRODUCT_NAME': 'CUDA', 'COLAB_KERNEL_MANAGER_PROXY_HOST': '172.28.0.12', 'NV_LIBCUBLAS_DEV_PACKAGE_NAME': 'libcublas-dev-12-2', 'NV_CUDA_CUDART_VERSION': '12.2.140-1', 'COLAB_WARMUP_DEFAULTS': '1', 'HOME': '/root', 'LANG': 'en_US.UTF-8', 'COLUMNS': '100', 'CUDA_VERSION': '12.2.2', 'CLOUDSDK_CONFIG': '/content/.config', 'NV_LIBCUBLAS_PACKAGE': 'libcublas-12-2=12.2.5.6-1', 'NV_CUDA_NSIGHT_COMPUTE_DEV_PACKAGE': 'cuda-nsight-compute-12-2=12.2.2-1', 'COLAB_RELEASE_TAG': 'release-colab_20240910-060204_RC00', 'KMP_TARGET_PORT': '9000', 'KMP_EXTRA_ARGS': '--logtostderr --listen_host=172.28.0.12 --target_host=172.28.0.12 --tunnel_background_save_url=https://colab.research.google.com/tun/m/cc48301118ce562b961b3c22d803539adc1e0c19/m-s-yysr7zal1kwx --tunnel_background_save_delay=10s --tunnel_periodic_background_save_frequency=30m0s --enable_output_coalescing=true --output_coalescing_required=true --log_code_content', 'NV_LIBNPP_DEV_PACKAGE': 'libnpp-dev-12-2=12.2.1.4-1', 'COLAB_LANGUAGE_SERVER_PROXY_LSP_DIRS': '/datalab/web/pyright/typeshed-fallback/stdlib,/usr/local/lib/python3.10/dist-packages', 'NV_LIBCUBLAS_PACKAGE_NAME': 'libcublas-12-2', 'COLAB_KERNEL_MANAGER_PROXY_PORT': '6000', 'CLOUDSDK_PYTHON': 'python3', 'NV_LIBNPP_DEV_VERSION': '12.2.1.4-1', 'NO_GCE_CHECK': 'False', 'PYTHONPATH': '/env/python', 'NV_LIBCUSPARSE_DEV_VERSION': '12.1.2.141-1', 'LIBRARY_PATH': '/usr/local/cuda/lib64/stubs', 'NV_CUDNN_VERSION': '8.9.6.50', 'SHLVL': '0', 'NV_CUDA_LIB_VERSION': '12.2.2-1', 'COLAB_LANGUAGE_SERVER_PROXY': '/usr/colab/bin/language_service', 'NVARCH': 'x86_64', 'NV_CUDNN_PACKAGE_DEV': 'libcudnn8-dev=8.9.6.50-1+cuda12.2', 'NV_CUDA_COMPAT_PACKAGE': 'cuda-compat-12-2', 'NV_LIBNCCL_PACKAGE': 'libnccl2=2.19.3-1+cuda12.2', 'LD_LIBRARY_PATH': '/usr/local/nvidia/lib:/usr/local/nvidia/lib64', 'COLAB_GPU': '', 'NV_CUDA_NSIGHT_COMPUTE_VERSION': '12.2.2-1', 'GCS_READ_CACHE_BLOCK_SIZE_MB': '16', 'NV_NVPROF_VERSION': '12.2.142-1', 'LC_ALL': 'en_US.UTF-8', 'COLAB_FILE_HANDLER_ADDR': 'localhost:3453', 'PATH': '/opt/bin:/usr/local/nvidia/bin:/usr/local/cuda/bin:/usr/local/sbin:/usr/local/bin:/usr/sbin:/usr/bin:/sbin:/bin:/tools/node/bin:/tools/google-cloud-sdk/bin', 'NV_LIBNCCL_PACKAGE_NAME': 'libnccl2', 'COLAB_DEBUG_ADAPTER_MUX_PATH': '/usr/local/bin/dap_multiplexer', 'NV_LIBNCCL_PACKAGE_VERSION': '2.19.3-1', 'PYTHONWARNINGS': 'ignore:::pip._internal.cli.base_command', 'DEBIAN_FRONTEND': 'noninteractive', 'COLAB_BACKEND_VERSION': 'next', 'OLDPWD': '/', 'JPY_PARENT_PID': '88', 'TERM': 'xterm-color', 'CLICOLOR': '1', 'PAGER': 'cat', 'GIT_PAGER': 'cat', 'MPLBACKEND': 'module://ipykernel.pylab.backend_inline', 'ENABLE_DIRECTORYPREFETCHER': '1', 'USE_AUTH_EPHEM': '1', 'PYDEVD_USE_FRAME_EVAL': 'NO'})), ('_i2', 'import os.path as path\\ndef path_divide(apath):\\n  print(f\\'{apath}:{path.splittext(apath)}\\')\\n\\npath_divide(\"wada.xp\")'), ('path', <module 'posixpath' from '/usr/lib/python3.10/posixpath.py'>), ('path_divide', <function path_divide at 0x7b1ba03a5fc0>), ('_i3', 'import os.path as path\\ndef path_divide(apath):\\n  print(f\\'{apath}:{path.splitext(apath)}\\')\\n\\npath_divide(\"wada.xp\")'), ('_i4', 'print(\"True\") if id(\"String\") == id(\"String\")'), ('_i5', 'print(\"True\") if id(\"String\") == id(\"String\") else \"False\"'), ('_i6', 'bnums = [10, 20, 56, 35, 17, 99]\\nbvalues = bytearray(bnums)\\nbvalues'), ('bnums', [10, 20, 56, 35, 17, 99]), ('bvalues', bytearray(b'\\n\\x148#\\x11c')), ('_6', bytearray(b'\\n\\x148#\\x11c')), ('_i7', 'bnums = [10, 20, 56, 35, 17, 99]\\nbvalues = bytearray(bnums)\\nbvalues\\n# Iterate through the elements of the bytearray and print each element.\\nfor x in values:\\n    print(x)'), ('_i8', 'bnums = [10, 20, 56, 35, 17, 99]\\nbvalues = bytearray(bnums)\\nbvalues\\n# Iterate through the elements of the bytearray and print each element.\\nfor x in bvalues:\\n    print(x)'), ('x', 99), ('_i9', 'bnums = [10, 20, 56, 35, 17, 99]\\nbvalues = bytearray(bnums)\\nprint(bvalues)\\n# Iterate through the elements of the bytearray and print each element.\\nfor x in bvalues:\\n    print(x)'), ('_i10', 'afloat = 9.12314\\nafloat.round(3)'), ('afloat', 9.12314), ('_i11', 'afloat = 9.12314\\nround(afloat,3)'), ('_11', 9.123), ('_i12', 'locals()'), ('_12', {'__name__': '__main__', '__doc__': 'Automatically created module for IPython interactive environment', '__package__': None, '__loader__': None, '__spec__': None, '__builtin__': <module 'builtins' (built-in)>, '__builtins__': <module 'builtins' (built-in)>, '_ih': ['', 'import os\\nos.environ', 'import os.path as path\\ndef path_divide(apath):\\n  print(f\\'{apath}:{path.splittext(apath)}\\')\\n\\npath_divide(\"wada.xp\")', 'import os.path as path\\ndef path_divide(apath):\\n  print(f\\'{apath}:{path.splitext(apath)}\\')\\n\\npath_divide(\"wada.xp\")', 'print(\"True\") if id(\"String\") == id(\"String\")', 'print(\"True\") if id(\"String\") == id(\"String\") else \"False\"', 'bnums = [10, 20, 56, 35, 17, 99]\\nbvalues = bytearray(bnums)\\nbvalues', 'bnums = [10, 20, 56, 35, 17, 99]\\nbvalues = bytearray(bnums)\\nbvalues\\n# Iterate through the elements of the bytearray and print each element.\\nfor x in values:\\n    print(x)', 'bnums = [10, 20, 56, 35, 17, 99]\\nbvalues = bytearray(bnums)\\nbvalues\\n# Iterate through the elements of the bytearray and print each element.\\nfor x in bvalues:\\n    print(x)', 'bnums = [10, 20, 56, 35, 17, 99]\\nbvalues = bytearray(bnums)\\nprint(bvalues)\\n# Iterate through the elements of the bytearray and print each element.\\nfor x in bvalues:\\n    print(x)', 'afloat = 9.12314\\nafloat.round(3)', 'afloat = 9.12314\\nround(afloat,3)', 'locals()', 'print(\"True\") if isinstance(\\'__main__\\', locals().items()', 'print(\"True\") if isinstance(\\'__main__\\', locals().items() else \"False\"', 'print(\"True\") if isinstance(\\'__main__\\', locals().items()) else \"False\"', 'print(\"True\") if \\'__main__\\' in locals().items() else \"False\"', 'locals.items()', 'locals().items()', 'locals().values()'], '_oh': {...}, '_dh': ['/content'], 'In': ['', 'import os\\nos.environ', 'import os.path as path\\ndef path_divide(apath):\\n  print(f\\'{apath}:{path.splittext(apath)}\\')\\n\\npath_divide(\"wada.xp\")', 'import os.path as path\\ndef path_divide(apath):\\n  print(f\\'{apath}:{path.splitext(apath)}\\')\\n\\npath_divide(\"wada.xp\")', 'print(\"True\") if id(\"String\") == id(\"String\")', 'print(\"True\") if id(\"String\") == id(\"String\") else \"False\"', 'bnums = [10, 20, 56, 35, 17, 99]\\nbvalues = bytearray(bnums)\\nbvalues', 'bnums = [10, 20, 56, 35, 17, 99]\\nbvalues = bytearray(bnums)\\nbvalues\\n# Iterate through the elements of the bytearray and print each element.\\nfor x in values:\\n    print(x)', 'bnums = [10, 20, 56, 35, 17, 99]\\nbvalues = bytearray(bnums)\\nbvalues\\n# Iterate through the elements of the bytearray and print each element.\\nfor x in bvalues:\\n    print(x)', 'bnums = [10, 20, 56, 35, 17, 99]\\nbvalues = bytearray(bnums)\\nprint(bvalues)\\n# Iterate through the elements of the bytearray and print each element.\\nfor x in bvalues:\\n    print(x)', 'afloat = 9.12314\\nafloat.round(3)', 'afloat = 9.12314\\nround(afloat,3)', 'locals()', 'print(\"True\") if isinstance(\\'__main__\\', locals().items()', 'print(\"True\") if isinstance(\\'__main__\\', locals().items() else \"False\"', 'print(\"True\") if isinstance(\\'__main__\\', locals().items()) else \"False\"', 'print(\"True\") if \\'__main__\\' in locals().items() else \"False\"', 'locals.items()', 'locals().items()', 'locals().values()'], 'Out': {...}, 'get_ipython': <bound method InteractiveShell.get_ipython of <google.colab._shell.Shell object at 0x7b1bb296e710>>, 'exit': <IPython.core.autocall.ZMQExitAutocall object at 0x7b1bb296dbd0>, 'quit': <IPython.core.autocall.ZMQExitAutocall object at 0x7b1bb296dbd0>, '_': ..., '__': 'False', '___': {...}, '_i': 'locals().items()', '_ii': 'locals.items()', '_iii': 'print(\"True\") if \\'__main__\\' in locals().items() else \"False\"', '_i1': 'import os\\nos.environ', 'os': <module 'os' from '/usr/lib/python3.10/os.py'>, '_1': environ({'SHELL': '/bin/bash', 'NV_LIBCUBLAS_VERSION': '12.2.5.6-1', 'NVIDIA_VISIBLE_DEVICES': 'all', 'COLAB_JUPYTER_TRANSPORT': 'ipc', 'NV_NVML_DEV_VERSION': '12.2.140-1', 'NV_CUDNN_PACKAGE_NAME': 'libcudnn8', 'CGROUP_MEMORY_EVENTS': '/sys/fs/cgroup/memory.events /var/colab/cgroup/jupyter-children/memory.events', 'NV_LIBNCCL_DEV_PACKAGE': 'libnccl-dev=2.19.3-1+cuda12.2', 'NV_LIBNCCL_DEV_PACKAGE_VERSION': '2.19.3-1', 'VM_GCE_METADATA_HOST': '169.254.169.253', 'HOSTNAME': '57645698dfef', 'LANGUAGE': 'en_US', 'TBE_RUNTIME_ADDR': '172.28.0.1:8011', 'COLAB_TPU_1VM': '', 'GCE_METADATA_TIMEOUT': '3', 'NVIDIA_REQUIRE_CUDA': 'cuda>=12.2 brand=tesla,driver>=470,driver<471 brand=unknown,driver>=470,driver<471 brand=nvidia,driver>=470,driver<471 brand=nvidiartx,driver>=470,driver<471 brand=geforce,driver>=470,driver<471 brand=geforcertx,driver>=470,driver<471 brand=quadro,driver>=470,driver<471 brand=quadrortx,driver>=470,driver<471 brand=titan,driver>=470,driver<471 brand=titanrtx,driver>=470,driver<471 brand=tesla,driver>=525,driver<526 brand=unknown,driver>=525,driver<526 brand=nvidia,driver>=525,driver<526 brand=nvidiartx,driver>=525,driver<526 brand=geforce,driver>=525,driver<526 brand=geforcertx,driver>=525,driver<526 brand=quadro,driver>=525,driver<526 brand=quadrortx,driver>=525,driver<526 brand=titan,driver>=525,driver<526 brand=titanrtx,driver>=525,driver<526', 'NV_LIBCUBLAS_DEV_PACKAGE': 'libcublas-dev-12-2=12.2.5.6-1', 'NV_NVTX_VERSION': '12.2.140-1', 'COLAB_JUPYTER_IP': '172.28.0.12', 'NV_CUDA_CUDART_DEV_VERSION': '12.2.140-1', 'NV_LIBCUSPARSE_VERSION': '12.1.2.141-1', 'COLAB_LANGUAGE_SERVER_PROXY_ROOT_URL': 'http://172.28.0.1:8013/', 'NV_LIBNPP_VERSION': '12.2.1.4-1', 'NCCL_VERSION': '2.19.3-1', 'KMP_LISTEN_PORT': '6000', 'TF_FORCE_GPU_ALLOW_GROWTH': 'true', 'ENV': '/root/.bashrc', 'PWD': '/', 'COLAB_LANGUAGE_SERVER_PROXY_REQUEST_TIMEOUT': '30s', 'TBE_EPHEM_CREDS_ADDR': '172.28.0.1:8009', 'TBE_CREDS_ADDR': '172.28.0.1:8008', 'NV_CUDNN_PACKAGE': 'libcudnn8=8.9.6.50-1+cuda12.2', 'NVIDIA_DRIVER_CAPABILITIES': 'compute,utility', 'COLAB_JUPYTER_TOKEN': '', 'LAST_FORCED_REBUILD': '20240627', 'NV_NVPROF_DEV_PACKAGE': 'cuda-nvprof-12-2=12.2.142-1', 'NV_LIBNPP_PACKAGE': 'libnpp-12-2=12.2.1.4-1', 'NV_LIBNCCL_DEV_PACKAGE_NAME': 'libnccl-dev', 'TCLLIBPATH': '/usr/share/tcltk/tcllib1.20', 'NV_LIBCUBLAS_DEV_VERSION': '12.2.5.6-1', 'NVIDIA_PRODUCT_NAME': 'CUDA', 'COLAB_KERNEL_MANAGER_PROXY_HOST': '172.28.0.12', 'NV_LIBCUBLAS_DEV_PACKAGE_NAME': 'libcublas-dev-12-2', 'NV_CUDA_CUDART_VERSION': '12.2.140-1', 'COLAB_WARMUP_DEFAULTS': '1', 'HOME': '/root', 'LANG': 'en_US.UTF-8', 'COLUMNS': '100', 'CUDA_VERSION': '12.2.2', 'CLOUDSDK_CONFIG': '/content/.config', 'NV_LIBCUBLAS_PACKAGE': 'libcublas-12-2=12.2.5.6-1', 'NV_CUDA_NSIGHT_COMPUTE_DEV_PACKAGE': 'cuda-nsight-compute-12-2=12.2.2-1', 'COLAB_RELEASE_TAG': 'release-colab_20240910-060204_RC00', 'KMP_TARGET_PORT': '9000', 'KMP_EXTRA_ARGS': '--logtostderr --listen_host=172.28.0.12 --target_host=172.28.0.12 --tunnel_background_save_url=https://colab.research.google.com/tun/m/cc48301118ce562b961b3c22d803539adc1e0c19/m-s-yysr7zal1kwx --tunnel_background_save_delay=10s --tunnel_periodic_background_save_frequency=30m0s --enable_output_coalescing=true --output_coalescing_required=true --log_code_content', 'NV_LIBNPP_DEV_PACKAGE': 'libnpp-dev-12-2=12.2.1.4-1', 'COLAB_LANGUAGE_SERVER_PROXY_LSP_DIRS': '/datalab/web/pyright/typeshed-fallback/stdlib,/usr/local/lib/python3.10/dist-packages', 'NV_LIBCUBLAS_PACKAGE_NAME': 'libcublas-12-2', 'COLAB_KERNEL_MANAGER_PROXY_PORT': '6000', 'CLOUDSDK_PYTHON': 'python3', 'NV_LIBNPP_DEV_VERSION': '12.2.1.4-1', 'NO_GCE_CHECK': 'False', 'PYTHONPATH': '/env/python', 'NV_LIBCUSPARSE_DEV_VERSION': '12.1.2.141-1', 'LIBRARY_PATH': '/usr/local/cuda/lib64/stubs', 'NV_CUDNN_VERSION': '8.9.6.50', 'SHLVL': '0', 'NV_CUDA_LIB_VERSION': '12.2.2-1', 'COLAB_LANGUAGE_SERVER_PROXY': '/usr/colab/bin/language_service', 'NVARCH': 'x86_64', 'NV_CUDNN_PACKAGE_DEV': 'libcudnn8-dev=8.9.6.50-1+cuda12.2', 'NV_CUDA_COMPAT_PACKAGE': 'cuda-compat-12-2', 'NV_LIBNCCL_PACKAGE': 'libnccl2=2.19.3-1+cuda12.2', 'LD_LIBRARY_PATH': '/usr/local/nvidia/lib:/usr/local/nvidia/lib64', 'COLAB_GPU': '', 'NV_CUDA_NSIGHT_COMPUTE_VERSION': '12.2.2-1', 'GCS_READ_CACHE_BLOCK_SIZE_MB': '16', 'NV_NVPROF_VERSION': '12.2.142-1', 'LC_ALL': 'en_US.UTF-8', 'COLAB_FILE_HANDLER_ADDR': 'localhost:3453', 'PATH': '/opt/bin:/usr/local/nvidia/bin:/usr/local/cuda/bin:/usr/local/sbin:/usr/local/bin:/usr/sbin:/usr/bin:/sbin:/bin:/tools/node/bin:/tools/google-cloud-sdk/bin', 'NV_LIBNCCL_PACKAGE_NAME': 'libnccl2', 'COLAB_DEBUG_ADAPTER_MUX_PATH': '/usr/local/bin/dap_multiplexer', 'NV_LIBNCCL_PACKAGE_VERSION': '2.19.3-1', 'PYTHONWARNINGS': 'ignore:::pip._internal.cli.base_command', 'DEBIAN_FRONTEND': 'noninteractive', 'COLAB_BACKEND_VERSION': 'next', 'OLDPWD': '/', 'JPY_PARENT_PID': '88', 'TERM': 'xterm-color', 'CLICOLOR': '1', 'PAGER': 'cat', 'GIT_PAGER': 'cat', 'MPLBACKEND': 'module://ipykernel.pylab.backend_inline', 'ENABLE_DIRECTORYPREFETCHER': '1', 'USE_AUTH_EPHEM': '1', 'PYDEVD_USE_FRAME_EVAL': 'NO'}), '_i2': 'import os.path as path\\ndef path_divide(apath):\\n  print(f\\'{apath}:{path.splittext(apath)}\\')\\n\\npath_divide(\"wada.xp\")', 'path': <module 'posixpath' from '/usr/lib/python3.10/posixpath.py'>, 'path_divide': <function path_divide at 0x7b1ba03a5fc0>, '_i3': 'import os.path as path\\ndef path_divide(apath):\\n  print(f\\'{apath}:{path.splitext(apath)}\\')\\n\\npath_divide(\"wada.xp\")', '_i4': 'print(\"True\") if id(\"String\") == id(\"String\")', '_i5': 'print(\"True\") if id(\"String\") == id(\"String\") else \"False\"', '_i6': 'bnums = [10, 20, 56, 35, 17, 99]\\nbvalues = bytearray(bnums)\\nbvalues', 'bnums': [10, 20, 56, 35, 17, 99], 'bvalues': bytearray(b'\\n\\x148#\\x11c'), '_6': bytearray(b'\\n\\x148#\\x11c'), '_i7': 'bnums = [10, 20, 56, 35, 17, 99]\\nbvalues = bytearray(bnums)\\nbvalues\\n# Iterate through the elements of the bytearray and print each element.\\nfor x in values:\\n    print(x)', '_i8': 'bnums = [10, 20, 56, 35, 17, 99]\\nbvalues = bytearray(bnums)\\nbvalues\\n# Iterate through the elements of the bytearray and print each element.\\nfor x in bvalues:\\n    print(x)', 'x': 99, '_i9': 'bnums = [10, 20, 56, 35, 17, 99]\\nbvalues = bytearray(bnums)\\nprint(bvalues)\\n# Iterate through the elements of the bytearray and print each element.\\nfor x in bvalues:\\n    print(x)', '_i10': 'afloat = 9.12314\\nafloat.round(3)', 'afloat': 9.12314, '_i11': 'afloat = 9.12314\\nround(afloat,3)', '_11': 9.123, '_i12': 'locals()', '_12': {...}, '_i13': 'print(\"True\") if isinstance(\\'__main__\\', locals().items()', '_i14': 'print(\"True\") if isinstance(\\'__main__\\', locals().items() else \"False\"', '_i15': 'print(\"True\") if isinstance(\\'__main__\\', locals().items()) else \"False\"', '_i16': 'print(\"True\") if \\'__main__\\' in locals().items() else \"False\"', '_16': 'False', '_i17': 'locals.items()', '_i18': 'locals().items()', '_18': ..., '_i19': 'locals().values()'}), ('_i13', 'print(\"True\") if isinstance(\\'__main__\\', locals().items()'), ('_i14', 'print(\"True\") if isinstance(\\'__main__\\', locals().items() else \"False\"'), ('_i15', 'print(\"True\") if isinstance(\\'__main__\\', locals().items()) else \"False\"'), ('_i16', 'print(\"True\") if \\'__main__\\' in locals().items() else \"False\"'), ('_16', 'False'), ('_i17', 'locals.items()'), ('_i18', 'locals().items()'), ('_18', ...), ('_i19', 'locals().values()')])}, <bound method InteractiveShell.get_ipython of <google.colab._shell.Shell object at 0x7b1bb296e710>>, <IPython.core.autocall.ZMQExitAutocall object at 0x7b1bb296dbd0>, <IPython.core.autocall.ZMQExitAutocall object at 0x7b1bb296dbd0>, dict_items([('__name__', '__main__'), ('__doc__', 'Automatically created module for IPython interactive environment'), ('__package__', None), ('__loader__', None), ('__spec__', None), ('__builtin__', <module 'builtins' (built-in)>), ('__builtins__', <module 'builtins' (built-in)>), ('_ih', ['', 'import os\\nos.environ', 'import os.path as path\\ndef path_divide(apath):\\n  print(f\\'{apath}:{path.splittext(apath)}\\')\\n\\npath_divide(\"wada.xp\")', 'import os.path as path\\ndef path_divide(apath):\\n  print(f\\'{apath}:{path.splitext(apath)}\\')\\n\\npath_divide(\"wada.xp\")', 'print(\"True\") if id(\"String\") == id(\"String\")', 'print(\"True\") if id(\"String\") == id(\"String\") else \"False\"', 'bnums = [10, 20, 56, 35, 17, 99]\\nbvalues = bytearray(bnums)\\nbvalues', 'bnums = [10, 20, 56, 35, 17, 99]\\nbvalues = bytearray(bnums)\\nbvalues\\n# Iterate through the elements of the bytearray and print each element.\\nfor x in values:\\n    print(x)', 'bnums = [10, 20, 56, 35, 17, 99]\\nbvalues = bytearray(bnums)\\nbvalues\\n# Iterate through the elements of the bytearray and print each element.\\nfor x in bvalues:\\n    print(x)', 'bnums = [10, 20, 56, 35, 17, 99]\\nbvalues = bytearray(bnums)\\nprint(bvalues)\\n# Iterate through the elements of the bytearray and print each element.\\nfor x in bvalues:\\n    print(x)', 'afloat = 9.12314\\nafloat.round(3)', 'afloat = 9.12314\\nround(afloat,3)', 'locals()', 'print(\"True\") if isinstance(\\'__main__\\', locals().items()', 'print(\"True\") if isinstance(\\'__main__\\', locals().items() else \"False\"', 'print(\"True\") if isinstance(\\'__main__\\', locals().items()) else \"False\"', 'print(\"True\") if \\'__main__\\' in locals().items() else \"False\"', 'locals.items()', 'locals().items()', 'locals().values()']), ('_oh', {1: environ({'SHELL': '/bin/bash', 'NV_LIBCUBLAS_VERSION': '12.2.5.6-1', 'NVIDIA_VISIBLE_DEVICES': 'all', 'COLAB_JUPYTER_TRANSPORT': 'ipc', 'NV_NVML_DEV_VERSION': '12.2.140-1', 'NV_CUDNN_PACKAGE_NAME': 'libcudnn8', 'CGROUP_MEMORY_EVENTS': '/sys/fs/cgroup/memory.events /var/colab/cgroup/jupyter-children/memory.events', 'NV_LIBNCCL_DEV_PACKAGE': 'libnccl-dev=2.19.3-1+cuda12.2', 'NV_LIBNCCL_DEV_PACKAGE_VERSION': '2.19.3-1', 'VM_GCE_METADATA_HOST': '169.254.169.253', 'HOSTNAME': '57645698dfef', 'LANGUAGE': 'en_US', 'TBE_RUNTIME_ADDR': '172.28.0.1:8011', 'COLAB_TPU_1VM': '', 'GCE_METADATA_TIMEOUT': '3', 'NVIDIA_REQUIRE_CUDA': 'cuda>=12.2 brand=tesla,driver>=470,driver<471 brand=unknown,driver>=470,driver<471 brand=nvidia,driver>=470,driver<471 brand=nvidiartx,driver>=470,driver<471 brand=geforce,driver>=470,driver<471 brand=geforcertx,driver>=470,driver<471 brand=quadro,driver>=470,driver<471 brand=quadrortx,driver>=470,driver<471 brand=titan,driver>=470,driver<471 brand=titanrtx,driver>=470,driver<471 brand=tesla,driver>=525,driver<526 brand=unknown,driver>=525,driver<526 brand=nvidia,driver>=525,driver<526 brand=nvidiartx,driver>=525,driver<526 brand=geforce,driver>=525,driver<526 brand=geforcertx,driver>=525,driver<526 brand=quadro,driver>=525,driver<526 brand=quadrortx,driver>=525,driver<526 brand=titan,driver>=525,driver<526 brand=titanrtx,driver>=525,driver<526', 'NV_LIBCUBLAS_DEV_PACKAGE': 'libcublas-dev-12-2=12.2.5.6-1', 'NV_NVTX_VERSION': '12.2.140-1', 'COLAB_JUPYTER_IP': '172.28.0.12', 'NV_CUDA_CUDART_DEV_VERSION': '12.2.140-1', 'NV_LIBCUSPARSE_VERSION': '12.1.2.141-1', 'COLAB_LANGUAGE_SERVER_PROXY_ROOT_URL': 'http://172.28.0.1:8013/', 'NV_LIBNPP_VERSION': '12.2.1.4-1', 'NCCL_VERSION': '2.19.3-1', 'KMP_LISTEN_PORT': '6000', 'TF_FORCE_GPU_ALLOW_GROWTH': 'true', 'ENV': '/root/.bashrc', 'PWD': '/', 'COLAB_LANGUAGE_SERVER_PROXY_REQUEST_TIMEOUT': '30s', 'TBE_EPHEM_CREDS_ADDR': '172.28.0.1:8009', 'TBE_CREDS_ADDR': '172.28.0.1:8008', 'NV_CUDNN_PACKAGE': 'libcudnn8=8.9.6.50-1+cuda12.2', 'NVIDIA_DRIVER_CAPABILITIES': 'compute,utility', 'COLAB_JUPYTER_TOKEN': '', 'LAST_FORCED_REBUILD': '20240627', 'NV_NVPROF_DEV_PACKAGE': 'cuda-nvprof-12-2=12.2.142-1', 'NV_LIBNPP_PACKAGE': 'libnpp-12-2=12.2.1.4-1', 'NV_LIBNCCL_DEV_PACKAGE_NAME': 'libnccl-dev', 'TCLLIBPATH': '/usr/share/tcltk/tcllib1.20', 'NV_LIBCUBLAS_DEV_VERSION': '12.2.5.6-1', 'NVIDIA_PRODUCT_NAME': 'CUDA', 'COLAB_KERNEL_MANAGER_PROXY_HOST': '172.28.0.12', 'NV_LIBCUBLAS_DEV_PACKAGE_NAME': 'libcublas-dev-12-2', 'NV_CUDA_CUDART_VERSION': '12.2.140-1', 'COLAB_WARMUP_DEFAULTS': '1', 'HOME': '/root', 'LANG': 'en_US.UTF-8', 'COLUMNS': '100', 'CUDA_VERSION': '12.2.2', 'CLOUDSDK_CONFIG': '/content/.config', 'NV_LIBCUBLAS_PACKAGE': 'libcublas-12-2=12.2.5.6-1', 'NV_CUDA_NSIGHT_COMPUTE_DEV_PACKAGE': 'cuda-nsight-compute-12-2=12.2.2-1', 'COLAB_RELEASE_TAG': 'release-colab_20240910-060204_RC00', 'KMP_TARGET_PORT': '9000', 'KMP_EXTRA_ARGS': '--logtostderr --listen_host=172.28.0.12 --target_host=172.28.0.12 --tunnel_background_save_url=https://colab.research.google.com/tun/m/cc48301118ce562b961b3c22d803539adc1e0c19/m-s-yysr7zal1kwx --tunnel_background_save_delay=10s --tunnel_periodic_background_save_frequency=30m0s --enable_output_coalescing=true --output_coalescing_required=true --log_code_content', 'NV_LIBNPP_DEV_PACKAGE': 'libnpp-dev-12-2=12.2.1.4-1', 'COLAB_LANGUAGE_SERVER_PROXY_LSP_DIRS': '/datalab/web/pyright/typeshed-fallback/stdlib,/usr/local/lib/python3.10/dist-packages', 'NV_LIBCUBLAS_PACKAGE_NAME': 'libcublas-12-2', 'COLAB_KERNEL_MANAGER_PROXY_PORT': '6000', 'CLOUDSDK_PYTHON': 'python3', 'NV_LIBNPP_DEV_VERSION': '12.2.1.4-1', 'NO_GCE_CHECK': 'False', 'PYTHONPATH': '/env/python', 'NV_LIBCUSPARSE_DEV_VERSION': '12.1.2.141-1', 'LIBRARY_PATH': '/usr/local/cuda/lib64/stubs', 'NV_CUDNN_VERSION': '8.9.6.50', 'SHLVL': '0', 'NV_CUDA_LIB_VERSION': '12.2.2-1', 'COLAB_LANGUAGE_SERVER_PROXY': '/usr/colab/bin/language_service', 'NVARCH': 'x86_64', 'NV_CUDNN_PACKAGE_DEV': 'libcudnn8-dev=8.9.6.50-1+cuda12.2', 'NV_CUDA_COMPAT_PACKAGE': 'cuda-compat-12-2', 'NV_LIBNCCL_PACKAGE': 'libnccl2=2.19.3-1+cuda12.2', 'LD_LIBRARY_PATH': '/usr/local/nvidia/lib:/usr/local/nvidia/lib64', 'COLAB_GPU': '', 'NV_CUDA_NSIGHT_COMPUTE_VERSION': '12.2.2-1', 'GCS_READ_CACHE_BLOCK_SIZE_MB': '16', 'NV_NVPROF_VERSION': '12.2.142-1', 'LC_ALL': 'en_US.UTF-8', 'COLAB_FILE_HANDLER_ADDR': 'localhost:3453', 'PATH': '/opt/bin:/usr/local/nvidia/bin:/usr/local/cuda/bin:/usr/local/sbin:/usr/local/bin:/usr/sbin:/usr/bin:/sbin:/bin:/tools/node/bin:/tools/google-cloud-sdk/bin', 'NV_LIBNCCL_PACKAGE_NAME': 'libnccl2', 'COLAB_DEBUG_ADAPTER_MUX_PATH': '/usr/local/bin/dap_multiplexer', 'NV_LIBNCCL_PACKAGE_VERSION': '2.19.3-1', 'PYTHONWARNINGS': 'ignore:::pip._internal.cli.base_command', 'DEBIAN_FRONTEND': 'noninteractive', 'COLAB_BACKEND_VERSION': 'next', 'OLDPWD': '/', 'JPY_PARENT_PID': '88', 'TERM': 'xterm-color', 'CLICOLOR': '1', 'PAGER': 'cat', 'GIT_PAGER': 'cat', 'MPLBACKEND': 'module://ipykernel.pylab.backend_inline', 'ENABLE_DIRECTORYPREFETCHER': '1', 'USE_AUTH_EPHEM': '1', 'PYDEVD_USE_FRAME_EVAL': 'NO'}), 6: bytearray(b'\\n\\x148#\\x11c'), 11: 9.123, 12: {'__name__': '__main__', '__doc__': 'Automatically created module for IPython interactive environment', '__package__': None, '__loader__': None, '__spec__': None, '__builtin__': <module 'builtins' (built-in)>, '__builtins__': <module 'builtins' (built-in)>, '_ih': ['', 'import os\\nos.environ', 'import os.path as path\\ndef path_divide(apath):\\n  print(f\\'{apath}:{path.splittext(apath)}\\')\\n\\npath_divide(\"wada.xp\")', 'import os.path as path\\ndef path_divide(apath):\\n  print(f\\'{apath}:{path.splitext(apath)}\\')\\n\\npath_divide(\"wada.xp\")', 'print(\"True\") if id(\"String\") == id(\"String\")', 'print(\"True\") if id(\"String\") == id(\"String\") else \"False\"', 'bnums = [10, 20, 56, 35, 17, 99]\\nbvalues = bytearray(bnums)\\nbvalues', 'bnums = [10, 20, 56, 35, 17, 99]\\nbvalues = bytearray(bnums)\\nbvalues\\n# Iterate through the elements of the bytearray and print each element.\\nfor x in values:\\n    print(x)', 'bnums = [10, 20, 56, 35, 17, 99]\\nbvalues = bytearray(bnums)\\nbvalues\\n# Iterate through the elements of the bytearray and print each element.\\nfor x in bvalues:\\n    print(x)', 'bnums = [10, 20, 56, 35, 17, 99]\\nbvalues = bytearray(bnums)\\nprint(bvalues)\\n# Iterate through the elements of the bytearray and print each element.\\nfor x in bvalues:\\n    print(x)', 'afloat = 9.12314\\nafloat.round(3)', 'afloat = 9.12314\\nround(afloat,3)', 'locals()', 'print(\"True\") if isinstance(\\'__main__\\', locals().items()', 'print(\"True\") if isinstance(\\'__main__\\', locals().items() else \"False\"', 'print(\"True\") if isinstance(\\'__main__\\', locals().items()) else \"False\"', 'print(\"True\") if \\'__main__\\' in locals().items() else \"False\"', 'locals.items()', 'locals().items()', 'locals().values()'], '_oh': {...}, '_dh': ['/content'], 'In': ['', 'import os\\nos.environ', 'import os.path as path\\ndef path_divide(apath):\\n  print(f\\'{apath}:{path.splittext(apath)}\\')\\n\\npath_divide(\"wada.xp\")', 'import os.path as path\\ndef path_divide(apath):\\n  print(f\\'{apath}:{path.splitext(apath)}\\')\\n\\npath_divide(\"wada.xp\")', 'print(\"True\") if id(\"String\") == id(\"String\")', 'print(\"True\") if id(\"String\") == id(\"String\") else \"False\"', 'bnums = [10, 20, 56, 35, 17, 99]\\nbvalues = bytearray(bnums)\\nbvalues', 'bnums = [10, 20, 56, 35, 17, 99]\\nbvalues = bytearray(bnums)\\nbvalues\\n# Iterate through the elements of the bytearray and print each element.\\nfor x in values:\\n    print(x)', 'bnums = [10, 20, 56, 35, 17, 99]\\nbvalues = bytearray(bnums)\\nbvalues\\n# Iterate through the elements of the bytearray and print each element.\\nfor x in bvalues:\\n    print(x)', 'bnums = [10, 20, 56, 35, 17, 99]\\nbvalues = bytearray(bnums)\\nprint(bvalues)\\n# Iterate through the elements of the bytearray and print each element.\\nfor x in bvalues:\\n    print(x)', 'afloat = 9.12314\\nafloat.round(3)', 'afloat = 9.12314\\nround(afloat,3)', 'locals()', 'print(\"True\") if isinstance(\\'__main__\\', locals().items()', 'print(\"True\") if isinstance(\\'__main__\\', locals().items() else \"False\"', 'print(\"True\") if isinstance(\\'__main__\\', locals().items()) else \"False\"', 'print(\"True\") if \\'__main__\\' in locals().items() else \"False\"', 'locals.items()', 'locals().items()', 'locals().values()'], 'Out': {...}, 'get_ipython': <bound method InteractiveShell.get_ipython of <google.colab._shell.Shell object at 0x7b1bb296e710>>, 'exit': <IPython.core.autocall.ZMQExitAutocall object at 0x7b1bb296dbd0>, 'quit': <IPython.core.autocall.ZMQExitAutocall object at 0x7b1bb296dbd0>, '_': ..., '__': 'False', '___': {...}, '_i': 'locals().items()', '_ii': 'locals.items()', '_iii': 'print(\"True\") if \\'__main__\\' in locals().items() else \"False\"', '_i1': 'import os\\nos.environ', 'os': <module 'os' from '/usr/lib/python3.10/os.py'>, '_1': environ({'SHELL': '/bin/bash', 'NV_LIBCUBLAS_VERSION': '12.2.5.6-1', 'NVIDIA_VISIBLE_DEVICES': 'all', 'COLAB_JUPYTER_TRANSPORT': 'ipc', 'NV_NVML_DEV_VERSION': '12.2.140-1', 'NV_CUDNN_PACKAGE_NAME': 'libcudnn8', 'CGROUP_MEMORY_EVENTS': '/sys/fs/cgroup/memory.events /var/colab/cgroup/jupyter-children/memory.events', 'NV_LIBNCCL_DEV_PACKAGE': 'libnccl-dev=2.19.3-1+cuda12.2', 'NV_LIBNCCL_DEV_PACKAGE_VERSION': '2.19.3-1', 'VM_GCE_METADATA_HOST': '169.254.169.253', 'HOSTNAME': '57645698dfef', 'LANGUAGE': 'en_US', 'TBE_RUNTIME_ADDR': '172.28.0.1:8011', 'COLAB_TPU_1VM': '', 'GCE_METADATA_TIMEOUT': '3', 'NVIDIA_REQUIRE_CUDA': 'cuda>=12.2 brand=tesla,driver>=470,driver<471 brand=unknown,driver>=470,driver<471 brand=nvidia,driver>=470,driver<471 brand=nvidiartx,driver>=470,driver<471 brand=geforce,driver>=470,driver<471 brand=geforcertx,driver>=470,driver<471 brand=quadro,driver>=470,driver<471 brand=quadrortx,driver>=470,driver<471 brand=titan,driver>=470,driver<471 brand=titanrtx,driver>=470,driver<471 brand=tesla,driver>=525,driver<526 brand=unknown,driver>=525,driver<526 brand=nvidia,driver>=525,driver<526 brand=nvidiartx,driver>=525,driver<526 brand=geforce,driver>=525,driver<526 brand=geforcertx,driver>=525,driver<526 brand=quadro,driver>=525,driver<526 brand=quadrortx,driver>=525,driver<526 brand=titan,driver>=525,driver<526 brand=titanrtx,driver>=525,driver<526', 'NV_LIBCUBLAS_DEV_PACKAGE': 'libcublas-dev-12-2=12.2.5.6-1', 'NV_NVTX_VERSION': '12.2.140-1', 'COLAB_JUPYTER_IP': '172.28.0.12', 'NV_CUDA_CUDART_DEV_VERSION': '12.2.140-1', 'NV_LIBCUSPARSE_VERSION': '12.1.2.141-1', 'COLAB_LANGUAGE_SERVER_PROXY_ROOT_URL': 'http://172.28.0.1:8013/', 'NV_LIBNPP_VERSION': '12.2.1.4-1', 'NCCL_VERSION': '2.19.3-1', 'KMP_LISTEN_PORT': '6000', 'TF_FORCE_GPU_ALLOW_GROWTH': 'true', 'ENV': '/root/.bashrc', 'PWD': '/', 'COLAB_LANGUAGE_SERVER_PROXY_REQUEST_TIMEOUT': '30s', 'TBE_EPHEM_CREDS_ADDR': '172.28.0.1:8009', 'TBE_CREDS_ADDR': '172.28.0.1:8008', 'NV_CUDNN_PACKAGE': 'libcudnn8=8.9.6.50-1+cuda12.2', 'NVIDIA_DRIVER_CAPABILITIES': 'compute,utility', 'COLAB_JUPYTER_TOKEN': '', 'LAST_FORCED_REBUILD': '20240627', 'NV_NVPROF_DEV_PACKAGE': 'cuda-nvprof-12-2=12.2.142-1', 'NV_LIBNPP_PACKAGE': 'libnpp-12-2=12.2.1.4-1', 'NV_LIBNCCL_DEV_PACKAGE_NAME': 'libnccl-dev', 'TCLLIBPATH': '/usr/share/tcltk/tcllib1.20', 'NV_LIBCUBLAS_DEV_VERSION': '12.2.5.6-1', 'NVIDIA_PRODUCT_NAME': 'CUDA', 'COLAB_KERNEL_MANAGER_PROXY_HOST': '172.28.0.12', 'NV_LIBCUBLAS_DEV_PACKAGE_NAME': 'libcublas-dev-12-2', 'NV_CUDA_CUDART_VERSION': '12.2.140-1', 'COLAB_WARMUP_DEFAULTS': '1', 'HOME': '/root', 'LANG': 'en_US.UTF-8', 'COLUMNS': '100', 'CUDA_VERSION': '12.2.2', 'CLOUDSDK_CONFIG': '/content/.config', 'NV_LIBCUBLAS_PACKAGE': 'libcublas-12-2=12.2.5.6-1', 'NV_CUDA_NSIGHT_COMPUTE_DEV_PACKAGE': 'cuda-nsight-compute-12-2=12.2.2-1', 'COLAB_RELEASE_TAG': 'release-colab_20240910-060204_RC00', 'KMP_TARGET_PORT': '9000', 'KMP_EXTRA_ARGS': '--logtostderr --listen_host=172.28.0.12 --target_host=172.28.0.12 --tunnel_background_save_url=https://colab.research.google.com/tun/m/cc48301118ce562b961b3c22d803539adc1e0c19/m-s-yysr7zal1kwx --tunnel_background_save_delay=10s --tunnel_periodic_background_save_frequency=30m0s --enable_output_coalescing=true --output_coalescing_required=true --log_code_content', 'NV_LIBNPP_DEV_PACKAGE': 'libnpp-dev-12-2=12.2.1.4-1', 'COLAB_LANGUAGE_SERVER_PROXY_LSP_DIRS': '/datalab/web/pyright/typeshed-fallback/stdlib,/usr/local/lib/python3.10/dist-packages', 'NV_LIBCUBLAS_PACKAGE_NAME': 'libcublas-12-2', 'COLAB_KERNEL_MANAGER_PROXY_PORT': '6000', 'CLOUDSDK_PYTHON': 'python3', 'NV_LIBNPP_DEV_VERSION': '12.2.1.4-1', 'NO_GCE_CHECK': 'False', 'PYTHONPATH': '/env/python', 'NV_LIBCUSPARSE_DEV_VERSION': '12.1.2.141-1', 'LIBRARY_PATH': '/usr/local/cuda/lib64/stubs', 'NV_CUDNN_VERSION': '8.9.6.50', 'SHLVL': '0', 'NV_CUDA_LIB_VERSION': '12.2.2-1', 'COLAB_LANGUAGE_SERVER_PROXY': '/usr/colab/bin/language_service', 'NVARCH': 'x86_64', 'NV_CUDNN_PACKAGE_DEV': 'libcudnn8-dev=8.9.6.50-1+cuda12.2', 'NV_CUDA_COMPAT_PACKAGE': 'cuda-compat-12-2', 'NV_LIBNCCL_PACKAGE': 'libnccl2=2.19.3-1+cuda12.2', 'LD_LIBRARY_PATH': '/usr/local/nvidia/lib:/usr/local/nvidia/lib64', 'COLAB_GPU': '', 'NV_CUDA_NSIGHT_COMPUTE_VERSION': '12.2.2-1', 'GCS_READ_CACHE_BLOCK_SIZE_MB': '16', 'NV_NVPROF_VERSION': '12.2.142-1', 'LC_ALL': 'en_US.UTF-8', 'COLAB_FILE_HANDLER_ADDR': 'localhost:3453', 'PATH': '/opt/bin:/usr/local/nvidia/bin:/usr/local/cuda/bin:/usr/local/sbin:/usr/local/bin:/usr/sbin:/usr/bin:/sbin:/bin:/tools/node/bin:/tools/google-cloud-sdk/bin', 'NV_LIBNCCL_PACKAGE_NAME': 'libnccl2', 'COLAB_DEBUG_ADAPTER_MUX_PATH': '/usr/local/bin/dap_multiplexer', 'NV_LIBNCCL_PACKAGE_VERSION': '2.19.3-1', 'PYTHONWARNINGS': 'ignore:::pip._internal.cli.base_command', 'DEBIAN_FRONTEND': 'noninteractive', 'COLAB_BACKEND_VERSION': 'next', 'OLDPWD': '/', 'JPY_PARENT_PID': '88', 'TERM': 'xterm-color', 'CLICOLOR': '1', 'PAGER': 'cat', 'GIT_PAGER': 'cat', 'MPLBACKEND': 'module://ipykernel.pylab.backend_inline', 'ENABLE_DIRECTORYPREFETCHER': '1', 'USE_AUTH_EPHEM': '1', 'PYDEVD_USE_FRAME_EVAL': 'NO'}), '_i2': 'import os.path as path\\ndef path_divide(apath):\\n  print(f\\'{apath}:{path.splittext(apath)}\\')\\n\\npath_divide(\"wada.xp\")', 'path': <module 'posixpath' from '/usr/lib/python3.10/posixpath.py'>, 'path_divide': <function path_divide at 0x7b1ba03a5fc0>, '_i3': 'import os.path as path\\ndef path_divide(apath):\\n  print(f\\'{apath}:{path.splitext(apath)}\\')\\n\\npath_divide(\"wada.xp\")', '_i4': 'print(\"True\") if id(\"String\") == id(\"String\")', '_i5': 'print(\"True\") if id(\"String\") == id(\"String\") else \"False\"', '_i6': 'bnums = [10, 20, 56, 35, 17, 99]\\nbvalues = bytearray(bnums)\\nbvalues', 'bnums': [10, 20, 56, 35, 17, 99], 'bvalues': bytearray(b'\\n\\x148#\\x11c'), '_6': bytearray(b'\\n\\x148#\\x11c'), '_i7': 'bnums = [10, 20, 56, 35, 17, 99]\\nbvalues = bytearray(bnums)\\nbvalues\\n# Iterate through the elements of the bytearray and print each element.\\nfor x in values:\\n    print(x)', '_i8': 'bnums = [10, 20, 56, 35, 17, 99]\\nbvalues = bytearray(bnums)\\nbvalues\\n# Iterate through the elements of the bytearray and print each element.\\nfor x in bvalues:\\n    print(x)', 'x': 99, '_i9': 'bnums = [10, 20, 56, 35, 17, 99]\\nbvalues = bytearray(bnums)\\nprint(bvalues)\\n# Iterate through the elements of the bytearray and print each element.\\nfor x in bvalues:\\n    print(x)', '_i10': 'afloat = 9.12314\\nafloat.round(3)', 'afloat': 9.12314, '_i11': 'afloat = 9.12314\\nround(afloat,3)', '_11': 9.123, '_i12': 'locals()', '_12': {...}, '_i13': 'print(\"True\") if isinstance(\\'__main__\\', locals().items()', '_i14': 'print(\"True\") if isinstance(\\'__main__\\', locals().items() else \"False\"', '_i15': 'print(\"True\") if isinstance(\\'__main__\\', locals().items()) else \"False\"', '_i16': 'print(\"True\") if \\'__main__\\' in locals().items() else \"False\"', '_16': 'False', '_i17': 'locals.items()', '_i18': 'locals().items()', '_18': ..., '_i19': 'locals().values()'}, 16: 'False', 18: ...}), ('_dh', ['/content']), ('In', ['', 'import os\\nos.environ', 'import os.path as path\\ndef path_divide(apath):\\n  print(f\\'{apath}:{path.splittext(apath)}\\')\\n\\npath_divide(\"wada.xp\")', 'import os.path as path\\ndef path_divide(apath):\\n  print(f\\'{apath}:{path.splitext(apath)}\\')\\n\\npath_divide(\"wada.xp\")', 'print(\"True\") if id(\"String\") == id(\"String\")', 'print(\"True\") if id(\"String\") == id(\"String\") else \"False\"', 'bnums = [10, 20, 56, 35, 17, 99]\\nbvalues = bytearray(bnums)\\nbvalues', 'bnums = [10, 20, 56, 35, 17, 99]\\nbvalues = bytearray(bnums)\\nbvalues\\n# Iterate through the elements of the bytearray and print each element.\\nfor x in values:\\n    print(x)', 'bnums = [10, 20, 56, 35, 17, 99]\\nbvalues = bytearray(bnums)\\nbvalues\\n# Iterate through the elements of the bytearray and print each element.\\nfor x in bvalues:\\n    print(x)', 'bnums = [10, 20, 56, 35, 17, 99]\\nbvalues = bytearray(bnums)\\nprint(bvalues)\\n# Iterate through the elements of the bytearray and print each element.\\nfor x in bvalues:\\n    print(x)', 'afloat = 9.12314\\nafloat.round(3)', 'afloat = 9.12314\\nround(afloat,3)', 'locals()', 'print(\"True\") if isinstance(\\'__main__\\', locals().items()', 'print(\"True\") if isinstance(\\'__main__\\', locals().items() else \"False\"', 'print(\"True\") if isinstance(\\'__main__\\', locals().items()) else \"False\"', 'print(\"True\") if \\'__main__\\' in locals().items() else \"False\"', 'locals.items()', 'locals().items()', 'locals().values()']), ('Out', {1: environ({'SHELL': '/bin/bash', 'NV_LIBCUBLAS_VERSION': '12.2.5.6-1', 'NVIDIA_VISIBLE_DEVICES': 'all', 'COLAB_JUPYTER_TRANSPORT': 'ipc', 'NV_NVML_DEV_VERSION': '12.2.140-1', 'NV_CUDNN_PACKAGE_NAME': 'libcudnn8', 'CGROUP_MEMORY_EVENTS': '/sys/fs/cgroup/memory.events /var/colab/cgroup/jupyter-children/memory.events', 'NV_LIBNCCL_DEV_PACKAGE': 'libnccl-dev=2.19.3-1+cuda12.2', 'NV_LIBNCCL_DEV_PACKAGE_VERSION': '2.19.3-1', 'VM_GCE_METADATA_HOST': '169.254.169.253', 'HOSTNAME': '57645698dfef', 'LANGUAGE': 'en_US', 'TBE_RUNTIME_ADDR': '172.28.0.1:8011', 'COLAB_TPU_1VM': '', 'GCE_METADATA_TIMEOUT': '3', 'NVIDIA_REQUIRE_CUDA': 'cuda>=12.2 brand=tesla,driver>=470,driver<471 brand=unknown,driver>=470,driver<471 brand=nvidia,driver>=470,driver<471 brand=nvidiartx,driver>=470,driver<471 brand=geforce,driver>=470,driver<471 brand=geforcertx,driver>=470,driver<471 brand=quadro,driver>=470,driver<471 brand=quadrortx,driver>=470,driver<471 brand=titan,driver>=470,driver<471 brand=titanrtx,driver>=470,driver<471 brand=tesla,driver>=525,driver<526 brand=unknown,driver>=525,driver<526 brand=nvidia,driver>=525,driver<526 brand=nvidiartx,driver>=525,driver<526 brand=geforce,driver>=525,driver<526 brand=geforcertx,driver>=525,driver<526 brand=quadro,driver>=525,driver<526 brand=quadrortx,driver>=525,driver<526 brand=titan,driver>=525,driver<526 brand=titanrtx,driver>=525,driver<526', 'NV_LIBCUBLAS_DEV_PACKAGE': 'libcublas-dev-12-2=12.2.5.6-1', 'NV_NVTX_VERSION': '12.2.140-1', 'COLAB_JUPYTER_IP': '172.28.0.12', 'NV_CUDA_CUDART_DEV_VERSION': '12.2.140-1', 'NV_LIBCUSPARSE_VERSION': '12.1.2.141-1', 'COLAB_LANGUAGE_SERVER_PROXY_ROOT_URL': 'http://172.28.0.1:8013/', 'NV_LIBNPP_VERSION': '12.2.1.4-1', 'NCCL_VERSION': '2.19.3-1', 'KMP_LISTEN_PORT': '6000', 'TF_FORCE_GPU_ALLOW_GROWTH': 'true', 'ENV': '/root/.bashrc', 'PWD': '/', 'COLAB_LANGUAGE_SERVER_PROXY_REQUEST_TIMEOUT': '30s', 'TBE_EPHEM_CREDS_ADDR': '172.28.0.1:8009', 'TBE_CREDS_ADDR': '172.28.0.1:8008', 'NV_CUDNN_PACKAGE': 'libcudnn8=8.9.6.50-1+cuda12.2', 'NVIDIA_DRIVER_CAPABILITIES': 'compute,utility', 'COLAB_JUPYTER_TOKEN': '', 'LAST_FORCED_REBUILD': '20240627', 'NV_NVPROF_DEV_PACKAGE': 'cuda-nvprof-12-2=12.2.142-1', 'NV_LIBNPP_PACKAGE': 'libnpp-12-2=12.2.1.4-1', 'NV_LIBNCCL_DEV_PACKAGE_NAME': 'libnccl-dev', 'TCLLIBPATH': '/usr/share/tcltk/tcllib1.20', 'NV_LIBCUBLAS_DEV_VERSION': '12.2.5.6-1', 'NVIDIA_PRODUCT_NAME': 'CUDA', 'COLAB_KERNEL_MANAGER_PROXY_HOST': '172.28.0.12', 'NV_LIBCUBLAS_DEV_PACKAGE_NAME': 'libcublas-dev-12-2', 'NV_CUDA_CUDART_VERSION': '12.2.140-1', 'COLAB_WARMUP_DEFAULTS': '1', 'HOME': '/root', 'LANG': 'en_US.UTF-8', 'COLUMNS': '100', 'CUDA_VERSION': '12.2.2', 'CLOUDSDK_CONFIG': '/content/.config', 'NV_LIBCUBLAS_PACKAGE': 'libcublas-12-2=12.2.5.6-1', 'NV_CUDA_NSIGHT_COMPUTE_DEV_PACKAGE': 'cuda-nsight-compute-12-2=12.2.2-1', 'COLAB_RELEASE_TAG': 'release-colab_20240910-060204_RC00', 'KMP_TARGET_PORT': '9000', 'KMP_EXTRA_ARGS': '--logtostderr --listen_host=172.28.0.12 --target_host=172.28.0.12 --tunnel_background_save_url=https://colab.research.google.com/tun/m/cc48301118ce562b961b3c22d803539adc1e0c19/m-s-yysr7zal1kwx --tunnel_background_save_delay=10s --tunnel_periodic_background_save_frequency=30m0s --enable_output_coalescing=true --output_coalescing_required=true --log_code_content', 'NV_LIBNPP_DEV_PACKAGE': 'libnpp-dev-12-2=12.2.1.4-1', 'COLAB_LANGUAGE_SERVER_PROXY_LSP_DIRS': '/datalab/web/pyright/typeshed-fallback/stdlib,/usr/local/lib/python3.10/dist-packages', 'NV_LIBCUBLAS_PACKAGE_NAME': 'libcublas-12-2', 'COLAB_KERNEL_MANAGER_PROXY_PORT': '6000', 'CLOUDSDK_PYTHON': 'python3', 'NV_LIBNPP_DEV_VERSION': '12.2.1.4-1', 'NO_GCE_CHECK': 'False', 'PYTHONPATH': '/env/python', 'NV_LIBCUSPARSE_DEV_VERSION': '12.1.2.141-1', 'LIBRARY_PATH': '/usr/local/cuda/lib64/stubs', 'NV_CUDNN_VERSION': '8.9.6.50', 'SHLVL': '0', 'NV_CUDA_LIB_VERSION': '12.2.2-1', 'COLAB_LANGUAGE_SERVER_PROXY': '/usr/colab/bin/language_service', 'NVARCH': 'x86_64', 'NV_CUDNN_PACKAGE_DEV': 'libcudnn8-dev=8.9.6.50-1+cuda12.2', 'NV_CUDA_COMPAT_PACKAGE': 'cuda-compat-12-2', 'NV_LIBNCCL_PACKAGE': 'libnccl2=2.19.3-1+cuda12.2', 'LD_LIBRARY_PATH': '/usr/local/nvidia/lib:/usr/local/nvidia/lib64', 'COLAB_GPU': '', 'NV_CUDA_NSIGHT_COMPUTE_VERSION': '12.2.2-1', 'GCS_READ_CACHE_BLOCK_SIZE_MB': '16', 'NV_NVPROF_VERSION': '12.2.142-1', 'LC_ALL': 'en_US.UTF-8', 'COLAB_FILE_HANDLER_ADDR': 'localhost:3453', 'PATH': '/opt/bin:/usr/local/nvidia/bin:/usr/local/cuda/bin:/usr/local/sbin:/usr/local/bin:/usr/sbin:/usr/bin:/sbin:/bin:/tools/node/bin:/tools/google-cloud-sdk/bin', 'NV_LIBNCCL_PACKAGE_NAME': 'libnccl2', 'COLAB_DEBUG_ADAPTER_MUX_PATH': '/usr/local/bin/dap_multiplexer', 'NV_LIBNCCL_PACKAGE_VERSION': '2.19.3-1', 'PYTHONWARNINGS': 'ignore:::pip._internal.cli.base_command', 'DEBIAN_FRONTEND': 'noninteractive', 'COLAB_BACKEND_VERSION': 'next', 'OLDPWD': '/', 'JPY_PARENT_PID': '88', 'TERM': 'xterm-color', 'CLICOLOR': '1', 'PAGER': 'cat', 'GIT_PAGER': 'cat', 'MPLBACKEND': 'module://ipykernel.pylab.backend_inline', 'ENABLE_DIRECTORYPREFETCHER': '1', 'USE_AUTH_EPHEM': '1', 'PYDEVD_USE_FRAME_EVAL': 'NO'}), 6: bytearray(b'\\n\\x148#\\x11c'), 11: 9.123, 12: {'__name__': '__main__', '__doc__': 'Automatically created module for IPython interactive environment', '__package__': None, '__loader__': None, '__spec__': None, '__builtin__': <module 'builtins' (built-in)>, '__builtins__': <module 'builtins' (built-in)>, '_ih': ['', 'import os\\nos.environ', 'import os.path as path\\ndef path_divide(apath):\\n  print(f\\'{apath}:{path.splittext(apath)}\\')\\n\\npath_divide(\"wada.xp\")', 'import os.path as path\\ndef path_divide(apath):\\n  print(f\\'{apath}:{path.splitext(apath)}\\')\\n\\npath_divide(\"wada.xp\")', 'print(\"True\") if id(\"String\") == id(\"String\")', 'print(\"True\") if id(\"String\") == id(\"String\") else \"False\"', 'bnums = [10, 20, 56, 35, 17, 99]\\nbvalues = bytearray(bnums)\\nbvalues', 'bnums = [10, 20, 56, 35, 17, 99]\\nbvalues = bytearray(bnums)\\nbvalues\\n# Iterate through the elements of the bytearray and print each element.\\nfor x in values:\\n    print(x)', 'bnums = [10, 20, 56, 35, 17, 99]\\nbvalues = bytearray(bnums)\\nbvalues\\n# Iterate through the elements of the bytearray and print each element.\\nfor x in bvalues:\\n    print(x)', 'bnums = [10, 20, 56, 35, 17, 99]\\nbvalues = bytearray(bnums)\\nprint(bvalues)\\n# Iterate through the elements of the bytearray and print each element.\\nfor x in bvalues:\\n    print(x)', 'afloat = 9.12314\\nafloat.round(3)', 'afloat = 9.12314\\nround(afloat,3)', 'locals()', 'print(\"True\") if isinstance(\\'__main__\\', locals().items()', 'print(\"True\") if isinstance(\\'__main__\\', locals().items() else \"False\"', 'print(\"True\") if isinstance(\\'__main__\\', locals().items()) else \"False\"', 'print(\"True\") if \\'__main__\\' in locals().items() else \"False\"', 'locals.items()', 'locals().items()', 'locals().values()'], '_oh': {...}, '_dh': ['/content'], 'In': ['', 'import os\\nos.environ', 'import os.path as path\\ndef path_divide(apath):\\n  print(f\\'{apath}:{path.splittext(apath)}\\')\\n\\npath_divide(\"wada.xp\")', 'import os.path as path\\ndef path_divide(apath):\\n  print(f\\'{apath}:{path.splitext(apath)}\\')\\n\\npath_divide(\"wada.xp\")', 'print(\"True\") if id(\"String\") == id(\"String\")', 'print(\"True\") if id(\"String\") == id(\"String\") else \"False\"', 'bnums = [10, 20, 56, 35, 17, 99]\\nbvalues = bytearray(bnums)\\nbvalues', 'bnums = [10, 20, 56, 35, 17, 99]\\nbvalues = bytearray(bnums)\\nbvalues\\n# Iterate through the elements of the bytearray and print each element.\\nfor x in values:\\n    print(x)', 'bnums = [10, 20, 56, 35, 17, 99]\\nbvalues = bytearray(bnums)\\nbvalues\\n# Iterate through the elements of the bytearray and print each element.\\nfor x in bvalues:\\n    print(x)', 'bnums = [10, 20, 56, 35, 17, 99]\\nbvalues = bytearray(bnums)\\nprint(bvalues)\\n# Iterate through the elements of the bytearray and print each element.\\nfor x in bvalues:\\n    print(x)', 'afloat = 9.12314\\nafloat.round(3)', 'afloat = 9.12314\\nround(afloat,3)', 'locals()', 'print(\"True\") if isinstance(\\'__main__\\', locals().items()', 'print(\"True\") if isinstance(\\'__main__\\', locals().items() else \"False\"', 'print(\"True\") if isinstance(\\'__main__\\', locals().items()) else \"False\"', 'print(\"True\") if \\'__main__\\' in locals().items() else \"False\"', 'locals.items()', 'locals().items()', 'locals().values()'], 'Out': {...}, 'get_ipython': <bound method InteractiveShell.get_ipython of <google.colab._shell.Shell object at 0x7b1bb296e710>>, 'exit': <IPython.core.autocall.ZMQExitAutocall object at 0x7b1bb296dbd0>, 'quit': <IPython.core.autocall.ZMQExitAutocall object at 0x7b1bb296dbd0>, '_': ..., '__': 'False', '___': {...}, '_i': 'locals().items()', '_ii': 'locals.items()', '_iii': 'print(\"True\") if \\'__main__\\' in locals().items() else \"False\"', '_i1': 'import os\\nos.environ', 'os': <module 'os' from '/usr/lib/python3.10/os.py'>, '_1': environ({'SHELL': '/bin/bash', 'NV_LIBCUBLAS_VERSION': '12.2.5.6-1', 'NVIDIA_VISIBLE_DEVICES': 'all', 'COLAB_JUPYTER_TRANSPORT': 'ipc', 'NV_NVML_DEV_VERSION': '12.2.140-1', 'NV_CUDNN_PACKAGE_NAME': 'libcudnn8', 'CGROUP_MEMORY_EVENTS': '/sys/fs/cgroup/memory.events /var/colab/cgroup/jupyter-children/memory.events', 'NV_LIBNCCL_DEV_PACKAGE': 'libnccl-dev=2.19.3-1+cuda12.2', 'NV_LIBNCCL_DEV_PACKAGE_VERSION': '2.19.3-1', 'VM_GCE_METADATA_HOST': '169.254.169.253', 'HOSTNAME': '57645698dfef', 'LANGUAGE': 'en_US', 'TBE_RUNTIME_ADDR': '172.28.0.1:8011', 'COLAB_TPU_1VM': '', 'GCE_METADATA_TIMEOUT': '3', 'NVIDIA_REQUIRE_CUDA': 'cuda>=12.2 brand=tesla,driver>=470,driver<471 brand=unknown,driver>=470,driver<471 brand=nvidia,driver>=470,driver<471 brand=nvidiartx,driver>=470,driver<471 brand=geforce,driver>=470,driver<471 brand=geforcertx,driver>=470,driver<471 brand=quadro,driver>=470,driver<471 brand=quadrortx,driver>=470,driver<471 brand=titan,driver>=470,driver<471 brand=titanrtx,driver>=470,driver<471 brand=tesla,driver>=525,driver<526 brand=unknown,driver>=525,driver<526 brand=nvidia,driver>=525,driver<526 brand=nvidiartx,driver>=525,driver<526 brand=geforce,driver>=525,driver<526 brand=geforcertx,driver>=525,driver<526 brand=quadro,driver>=525,driver<526 brand=quadrortx,driver>=525,driver<526 brand=titan,driver>=525,driver<526 brand=titanrtx,driver>=525,driver<526', 'NV_LIBCUBLAS_DEV_PACKAGE': 'libcublas-dev-12-2=12.2.5.6-1', 'NV_NVTX_VERSION': '12.2.140-1', 'COLAB_JUPYTER_IP': '172.28.0.12', 'NV_CUDA_CUDART_DEV_VERSION': '12.2.140-1', 'NV_LIBCUSPARSE_VERSION': '12.1.2.141-1', 'COLAB_LANGUAGE_SERVER_PROXY_ROOT_URL': 'http://172.28.0.1:8013/', 'NV_LIBNPP_VERSION': '12.2.1.4-1', 'NCCL_VERSION': '2.19.3-1', 'KMP_LISTEN_PORT': '6000', 'TF_FORCE_GPU_ALLOW_GROWTH': 'true', 'ENV': '/root/.bashrc', 'PWD': '/', 'COLAB_LANGUAGE_SERVER_PROXY_REQUEST_TIMEOUT': '30s', 'TBE_EPHEM_CREDS_ADDR': '172.28.0.1:8009', 'TBE_CREDS_ADDR': '172.28.0.1:8008', 'NV_CUDNN_PACKAGE': 'libcudnn8=8.9.6.50-1+cuda12.2', 'NVIDIA_DRIVER_CAPABILITIES': 'compute,utility', 'COLAB_JUPYTER_TOKEN': '', 'LAST_FORCED_REBUILD': '20240627', 'NV_NVPROF_DEV_PACKAGE': 'cuda-nvprof-12-2=12.2.142-1', 'NV_LIBNPP_PACKAGE': 'libnpp-12-2=12.2.1.4-1', 'NV_LIBNCCL_DEV_PACKAGE_NAME': 'libnccl-dev', 'TCLLIBPATH': '/usr/share/tcltk/tcllib1.20', 'NV_LIBCUBLAS_DEV_VERSION': '12.2.5.6-1', 'NVIDIA_PRODUCT_NAME': 'CUDA', 'COLAB_KERNEL_MANAGER_PROXY_HOST': '172.28.0.12', 'NV_LIBCUBLAS_DEV_PACKAGE_NAME': 'libcublas-dev-12-2', 'NV_CUDA_CUDART_VERSION': '12.2.140-1', 'COLAB_WARMUP_DEFAULTS': '1', 'HOME': '/root', 'LANG': 'en_US.UTF-8', 'COLUMNS': '100', 'CUDA_VERSION': '12.2.2', 'CLOUDSDK_CONFIG': '/content/.config', 'NV_LIBCUBLAS_PACKAGE': 'libcublas-12-2=12.2.5.6-1', 'NV_CUDA_NSIGHT_COMPUTE_DEV_PACKAGE': 'cuda-nsight-compute-12-2=12.2.2-1', 'COLAB_RELEASE_TAG': 'release-colab_20240910-060204_RC00', 'KMP_TARGET_PORT': '9000', 'KMP_EXTRA_ARGS': '--logtostderr --listen_host=172.28.0.12 --target_host=172.28.0.12 --tunnel_background_save_url=https://colab.research.google.com/tun/m/cc48301118ce562b961b3c22d803539adc1e0c19/m-s-yysr7zal1kwx --tunnel_background_save_delay=10s --tunnel_periodic_background_save_frequency=30m0s --enable_output_coalescing=true --output_coalescing_required=true --log_code_content', 'NV_LIBNPP_DEV_PACKAGE': 'libnpp-dev-12-2=12.2.1.4-1', 'COLAB_LANGUAGE_SERVER_PROXY_LSP_DIRS': '/datalab/web/pyright/typeshed-fallback/stdlib,/usr/local/lib/python3.10/dist-packages', 'NV_LIBCUBLAS_PACKAGE_NAME': 'libcublas-12-2', 'COLAB_KERNEL_MANAGER_PROXY_PORT': '6000', 'CLOUDSDK_PYTHON': 'python3', 'NV_LIBNPP_DEV_VERSION': '12.2.1.4-1', 'NO_GCE_CHECK': 'False', 'PYTHONPATH': '/env/python', 'NV_LIBCUSPARSE_DEV_VERSION': '12.1.2.141-1', 'LIBRARY_PATH': '/usr/local/cuda/lib64/stubs', 'NV_CUDNN_VERSION': '8.9.6.50', 'SHLVL': '0', 'NV_CUDA_LIB_VERSION': '12.2.2-1', 'COLAB_LANGUAGE_SERVER_PROXY': '/usr/colab/bin/language_service', 'NVARCH': 'x86_64', 'NV_CUDNN_PACKAGE_DEV': 'libcudnn8-dev=8.9.6.50-1+cuda12.2', 'NV_CUDA_COMPAT_PACKAGE': 'cuda-compat-12-2', 'NV_LIBNCCL_PACKAGE': 'libnccl2=2.19.3-1+cuda12.2', 'LD_LIBRARY_PATH': '/usr/local/nvidia/lib:/usr/local/nvidia/lib64', 'COLAB_GPU': '', 'NV_CUDA_NSIGHT_COMPUTE_VERSION': '12.2.2-1', 'GCS_READ_CACHE_BLOCK_SIZE_MB': '16', 'NV_NVPROF_VERSION': '12.2.142-1', 'LC_ALL': 'en_US.UTF-8', 'COLAB_FILE_HANDLER_ADDR': 'localhost:3453', 'PATH': '/opt/bin:/usr/local/nvidia/bin:/usr/local/cuda/bin:/usr/local/sbin:/usr/local/bin:/usr/sbin:/usr/bin:/sbin:/bin:/tools/node/bin:/tools/google-cloud-sdk/bin', 'NV_LIBNCCL_PACKAGE_NAME': 'libnccl2', 'COLAB_DEBUG_ADAPTER_MUX_PATH': '/usr/local/bin/dap_multiplexer', 'NV_LIBNCCL_PACKAGE_VERSION': '2.19.3-1', 'PYTHONWARNINGS': 'ignore:::pip._internal.cli.base_command', 'DEBIAN_FRONTEND': 'noninteractive', 'COLAB_BACKEND_VERSION': 'next', 'OLDPWD': '/', 'JPY_PARENT_PID': '88', 'TERM': 'xterm-color', 'CLICOLOR': '1', 'PAGER': 'cat', 'GIT_PAGER': 'cat', 'MPLBACKEND': 'module://ipykernel.pylab.backend_inline', 'ENABLE_DIRECTORYPREFETCHER': '1', 'USE_AUTH_EPHEM': '1', 'PYDEVD_USE_FRAME_EVAL': 'NO'}), '_i2': 'import os.path as path\\ndef path_divide(apath):\\n  print(f\\'{apath}:{path.splittext(apath)}\\')\\n\\npath_divide(\"wada.xp\")', 'path': <module 'posixpath' from '/usr/lib/python3.10/posixpath.py'>, 'path_divide': <function path_divide at 0x7b1ba03a5fc0>, '_i3': 'import os.path as path\\ndef path_divide(apath):\\n  print(f\\'{apath}:{path.splitext(apath)}\\')\\n\\npath_divide(\"wada.xp\")', '_i4': 'print(\"True\") if id(\"String\") == id(\"String\")', '_i5': 'print(\"True\") if id(\"String\") == id(\"String\") else \"False\"', '_i6': 'bnums = [10, 20, 56, 35, 17, 99]\\nbvalues = bytearray(bnums)\\nbvalues', 'bnums': [10, 20, 56, 35, 17, 99], 'bvalues': bytearray(b'\\n\\x148#\\x11c'), '_6': bytearray(b'\\n\\x148#\\x11c'), '_i7': 'bnums = [10, 20, 56, 35, 17, 99]\\nbvalues = bytearray(bnums)\\nbvalues\\n# Iterate through the elements of the bytearray and print each element.\\nfor x in values:\\n    print(x)', '_i8': 'bnums = [10, 20, 56, 35, 17, 99]\\nbvalues = bytearray(bnums)\\nbvalues\\n# Iterate through the elements of the bytearray and print each element.\\nfor x in bvalues:\\n    print(x)', 'x': 99, '_i9': 'bnums = [10, 20, 56, 35, 17, 99]\\nbvalues = bytearray(bnums)\\nprint(bvalues)\\n# Iterate through the elements of the bytearray and print each element.\\nfor x in bvalues:\\n    print(x)', '_i10': 'afloat = 9.12314\\nafloat.round(3)', 'afloat': 9.12314, '_i11': 'afloat = 9.12314\\nround(afloat,3)', '_11': 9.123, '_i12': 'locals()', '_12': {...}, '_i13': 'print(\"True\") if isinstance(\\'__main__\\', locals().items()', '_i14': 'print(\"True\") if isinstance(\\'__main__\\', locals().items() else \"False\"', '_i15': 'print(\"True\") if isinstance(\\'__main__\\', locals().items()) else \"False\"', '_i16': 'print(\"True\") if \\'__main__\\' in locals().items() else \"False\"', '_16': 'False', '_i17': 'locals.items()', '_i18': 'locals().items()', '_18': ..., '_i19': 'locals().values()'}, 16: 'False', 18: ...}), ('get_ipython', <bound method InteractiveShell.get_ipython of <google.colab._shell.Shell object at 0x7b1bb296e710>>), ('exit', <IPython.core.autocall.ZMQExitAutocall object at 0x7b1bb296dbd0>), ('quit', <IPython.core.autocall.ZMQExitAutocall object at 0x7b1bb296dbd0>), ('_', ...), ('__', 'False'), ('___', {'__name__': '__main__', '__doc__': 'Automatically created module for IPython interactive environment', '__package__': None, '__loader__': None, '__spec__': None, '__builtin__': <module 'builtins' (built-in)>, '__builtins__': <module 'builtins' (built-in)>, '_ih': ['', 'import os\\nos.environ', 'import os.path as path\\ndef path_divide(apath):\\n  print(f\\'{apath}:{path.splittext(apath)}\\')\\n\\npath_divide(\"wada.xp\")', 'import os.path as path\\ndef path_divide(apath):\\n  print(f\\'{apath}:{path.splitext(apath)}\\')\\n\\npath_divide(\"wada.xp\")', 'print(\"True\") if id(\"String\") == id(\"String\")', 'print(\"True\") if id(\"String\") == id(\"String\") else \"False\"', 'bnums = [10, 20, 56, 35, 17, 99]\\nbvalues = bytearray(bnums)\\nbvalues', 'bnums = [10, 20, 56, 35, 17, 99]\\nbvalues = bytearray(bnums)\\nbvalues\\n# Iterate through the elements of the bytearray and print each element.\\nfor x in values:\\n    print(x)', 'bnums = [10, 20, 56, 35, 17, 99]\\nbvalues = bytearray(bnums)\\nbvalues\\n# Iterate through the elements of the bytearray and print each element.\\nfor x in bvalues:\\n    print(x)', 'bnums = [10, 20, 56, 35, 17, 99]\\nbvalues = bytearray(bnums)\\nprint(bvalues)\\n# Iterate through the elements of the bytearray and print each element.\\nfor x in bvalues:\\n    print(x)', 'afloat = 9.12314\\nafloat.round(3)', 'afloat = 9.12314\\nround(afloat,3)', 'locals()', 'print(\"True\") if isinstance(\\'__main__\\', locals().items()', 'print(\"True\") if isinstance(\\'__main__\\', locals().items() else \"False\"', 'print(\"True\") if isinstance(\\'__main__\\', locals().items()) else \"False\"', 'print(\"True\") if \\'__main__\\' in locals().items() else \"False\"', 'locals.items()', 'locals().items()', 'locals().values()'], '_oh': {1: environ({'SHELL': '/bin/bash', 'NV_LIBCUBLAS_VERSION': '12.2.5.6-1', 'NVIDIA_VISIBLE_DEVICES': 'all', 'COLAB_JUPYTER_TRANSPORT': 'ipc', 'NV_NVML_DEV_VERSION': '12.2.140-1', 'NV_CUDNN_PACKAGE_NAME': 'libcudnn8', 'CGROUP_MEMORY_EVENTS': '/sys/fs/cgroup/memory.events /var/colab/cgroup/jupyter-children/memory.events', 'NV_LIBNCCL_DEV_PACKAGE': 'libnccl-dev=2.19.3-1+cuda12.2', 'NV_LIBNCCL_DEV_PACKAGE_VERSION': '2.19.3-1', 'VM_GCE_METADATA_HOST': '169.254.169.253', 'HOSTNAME': '57645698dfef', 'LANGUAGE': 'en_US', 'TBE_RUNTIME_ADDR': '172.28.0.1:8011', 'COLAB_TPU_1VM': '', 'GCE_METADATA_TIMEOUT': '3', 'NVIDIA_REQUIRE_CUDA': 'cuda>=12.2 brand=tesla,driver>=470,driver<471 brand=unknown,driver>=470,driver<471 brand=nvidia,driver>=470,driver<471 brand=nvidiartx,driver>=470,driver<471 brand=geforce,driver>=470,driver<471 brand=geforcertx,driver>=470,driver<471 brand=quadro,driver>=470,driver<471 brand=quadrortx,driver>=470,driver<471 brand=titan,driver>=470,driver<471 brand=titanrtx,driver>=470,driver<471 brand=tesla,driver>=525,driver<526 brand=unknown,driver>=525,driver<526 brand=nvidia,driver>=525,driver<526 brand=nvidiartx,driver>=525,driver<526 brand=geforce,driver>=525,driver<526 brand=geforcertx,driver>=525,driver<526 brand=quadro,driver>=525,driver<526 brand=quadrortx,driver>=525,driver<526 brand=titan,driver>=525,driver<526 brand=titanrtx,driver>=525,driver<526', 'NV_LIBCUBLAS_DEV_PACKAGE': 'libcublas-dev-12-2=12.2.5.6-1', 'NV_NVTX_VERSION': '12.2.140-1', 'COLAB_JUPYTER_IP': '172.28.0.12', 'NV_CUDA_CUDART_DEV_VERSION': '12.2.140-1', 'NV_LIBCUSPARSE_VERSION': '12.1.2.141-1', 'COLAB_LANGUAGE_SERVER_PROXY_ROOT_URL': 'http://172.28.0.1:8013/', 'NV_LIBNPP_VERSION': '12.2.1.4-1', 'NCCL_VERSION': '2.19.3-1', 'KMP_LISTEN_PORT': '6000', 'TF_FORCE_GPU_ALLOW_GROWTH': 'true', 'ENV': '/root/.bashrc', 'PWD': '/', 'COLAB_LANGUAGE_SERVER_PROXY_REQUEST_TIMEOUT': '30s', 'TBE_EPHEM_CREDS_ADDR': '172.28.0.1:8009', 'TBE_CREDS_ADDR': '172.28.0.1:8008', 'NV_CUDNN_PACKAGE': 'libcudnn8=8.9.6.50-1+cuda12.2', 'NVIDIA_DRIVER_CAPABILITIES': 'compute,utility', 'COLAB_JUPYTER_TOKEN': '', 'LAST_FORCED_REBUILD': '20240627', 'NV_NVPROF_DEV_PACKAGE': 'cuda-nvprof-12-2=12.2.142-1', 'NV_LIBNPP_PACKAGE': 'libnpp-12-2=12.2.1.4-1', 'NV_LIBNCCL_DEV_PACKAGE_NAME': 'libnccl-dev', 'TCLLIBPATH': '/usr/share/tcltk/tcllib1.20', 'NV_LIBCUBLAS_DEV_VERSION': '12.2.5.6-1', 'NVIDIA_PRODUCT_NAME': 'CUDA', 'COLAB_KERNEL_MANAGER_PROXY_HOST': '172.28.0.12', 'NV_LIBCUBLAS_DEV_PACKAGE_NAME': 'libcublas-dev-12-2', 'NV_CUDA_CUDART_VERSION': '12.2.140-1', 'COLAB_WARMUP_DEFAULTS': '1', 'HOME': '/root', 'LANG': 'en_US.UTF-8', 'COLUMNS': '100', 'CUDA_VERSION': '12.2.2', 'CLOUDSDK_CONFIG': '/content/.config', 'NV_LIBCUBLAS_PACKAGE': 'libcublas-12-2=12.2.5.6-1', 'NV_CUDA_NSIGHT_COMPUTE_DEV_PACKAGE': 'cuda-nsight-compute-12-2=12.2.2-1', 'COLAB_RELEASE_TAG': 'release-colab_20240910-060204_RC00', 'KMP_TARGET_PORT': '9000', 'KMP_EXTRA_ARGS': '--logtostderr --listen_host=172.28.0.12 --target_host=172.28.0.12 --tunnel_background_save_url=https://colab.research.google.com/tun/m/cc48301118ce562b961b3c22d803539adc1e0c19/m-s-yysr7zal1kwx --tunnel_background_save_delay=10s --tunnel_periodic_background_save_frequency=30m0s --enable_output_coalescing=true --output_coalescing_required=true --log_code_content', 'NV_LIBNPP_DEV_PACKAGE': 'libnpp-dev-12-2=12.2.1.4-1', 'COLAB_LANGUAGE_SERVER_PROXY_LSP_DIRS': '/datalab/web/pyright/typeshed-fallback/stdlib,/usr/local/lib/python3.10/dist-packages', 'NV_LIBCUBLAS_PACKAGE_NAME': 'libcublas-12-2', 'COLAB_KERNEL_MANAGER_PROXY_PORT': '6000', 'CLOUDSDK_PYTHON': 'python3', 'NV_LIBNPP_DEV_VERSION': '12.2.1.4-1', 'NO_GCE_CHECK': 'False', 'PYTHONPATH': '/env/python', 'NV_LIBCUSPARSE_DEV_VERSION': '12.1.2.141-1', 'LIBRARY_PATH': '/usr/local/cuda/lib64/stubs', 'NV_CUDNN_VERSION': '8.9.6.50', 'SHLVL': '0', 'NV_CUDA_LIB_VERSION': '12.2.2-1', 'COLAB_LANGUAGE_SERVER_PROXY': '/usr/colab/bin/language_service', 'NVARCH': 'x86_64', 'NV_CUDNN_PACKAGE_DEV': 'libcudnn8-dev=8.9.6.50-1+cuda12.2', 'NV_CUDA_COMPAT_PACKAGE': 'cuda-compat-12-2', 'NV_LIBNCCL_PACKAGE': 'libnccl2=2.19.3-1+cuda12.2', 'LD_LIBRARY_PATH': '/usr/local/nvidia/lib:/usr/local/nvidia/lib64', 'COLAB_GPU': '', 'NV_CUDA_NSIGHT_COMPUTE_VERSION': '12.2.2-1', 'GCS_READ_CACHE_BLOCK_SIZE_MB': '16', 'NV_NVPROF_VERSION': '12.2.142-1', 'LC_ALL': 'en_US.UTF-8', 'COLAB_FILE_HANDLER_ADDR': 'localhost:3453', 'PATH': '/opt/bin:/usr/local/nvidia/bin:/usr/local/cuda/bin:/usr/local/sbin:/usr/local/bin:/usr/sbin:/usr/bin:/sbin:/bin:/tools/node/bin:/tools/google-cloud-sdk/bin', 'NV_LIBNCCL_PACKAGE_NAME': 'libnccl2', 'COLAB_DEBUG_ADAPTER_MUX_PATH': '/usr/local/bin/dap_multiplexer', 'NV_LIBNCCL_PACKAGE_VERSION': '2.19.3-1', 'PYTHONWARNINGS': 'ignore:::pip._internal.cli.base_command', 'DEBIAN_FRONTEND': 'noninteractive', 'COLAB_BACKEND_VERSION': 'next', 'OLDPWD': '/', 'JPY_PARENT_PID': '88', 'TERM': 'xterm-color', 'CLICOLOR': '1', 'PAGER': 'cat', 'GIT_PAGER': 'cat', 'MPLBACKEND': 'module://ipykernel.pylab.backend_inline', 'ENABLE_DIRECTORYPREFETCHER': '1', 'USE_AUTH_EPHEM': '1', 'PYDEVD_USE_FRAME_EVAL': 'NO'}), 6: bytearray(b'\\n\\x148#\\x11c'), 11: 9.123, 12: {...}, 16: 'False', 18: ...}, '_dh': ['/content'], 'In': ['', 'import os\\nos.environ', 'import os.path as path\\ndef path_divide(apath):\\n  print(f\\'{apath}:{path.splittext(apath)}\\')\\n\\npath_divide(\"wada.xp\")', 'import os.path as path\\ndef path_divide(apath):\\n  print(f\\'{apath}:{path.splitext(apath)}\\')\\n\\npath_divide(\"wada.xp\")', 'print(\"True\") if id(\"String\") == id(\"String\")', 'print(\"True\") if id(\"String\") == id(\"String\") else \"False\"', 'bnums = [10, 20, 56, 35, 17, 99]\\nbvalues = bytearray(bnums)\\nbvalues', 'bnums = [10, 20, 56, 35, 17, 99]\\nbvalues = bytearray(bnums)\\nbvalues\\n# Iterate through the elements of the bytearray and print each element.\\nfor x in values:\\n    print(x)', 'bnums = [10, 20, 56, 35, 17, 99]\\nbvalues = bytearray(bnums)\\nbvalues\\n# Iterate through the elements of the bytearray and print each element.\\nfor x in bvalues:\\n    print(x)', 'bnums = [10, 20, 56, 35, 17, 99]\\nbvalues = bytearray(bnums)\\nprint(bvalues)\\n# Iterate through the elements of the bytearray and print each element.\\nfor x in bvalues:\\n    print(x)', 'afloat = 9.12314\\nafloat.round(3)', 'afloat = 9.12314\\nround(afloat,3)', 'locals()', 'print(\"True\") if isinstance(\\'__main__\\', locals().items()', 'print(\"True\") if isinstance(\\'__main__\\', locals().items() else \"False\"', 'print(\"True\") if isinstance(\\'__main__\\', locals().items()) else \"False\"', 'print(\"True\") if \\'__main__\\' in locals().items() else \"False\"', 'locals.items()', 'locals().items()', 'locals().values()'], 'Out': {1: environ({'SHELL': '/bin/bash', 'NV_LIBCUBLAS_VERSION': '12.2.5.6-1', 'NVIDIA_VISIBLE_DEVICES': 'all', 'COLAB_JUPYTER_TRANSPORT': 'ipc', 'NV_NVML_DEV_VERSION': '12.2.140-1', 'NV_CUDNN_PACKAGE_NAME': 'libcudnn8', 'CGROUP_MEMORY_EVENTS': '/sys/fs/cgroup/memory.events /var/colab/cgroup/jupyter-children/memory.events', 'NV_LIBNCCL_DEV_PACKAGE': 'libnccl-dev=2.19.3-1+cuda12.2', 'NV_LIBNCCL_DEV_PACKAGE_VERSION': '2.19.3-1', 'VM_GCE_METADATA_HOST': '169.254.169.253', 'HOSTNAME': '57645698dfef', 'LANGUAGE': 'en_US', 'TBE_RUNTIME_ADDR': '172.28.0.1:8011', 'COLAB_TPU_1VM': '', 'GCE_METADATA_TIMEOUT': '3', 'NVIDIA_REQUIRE_CUDA': 'cuda>=12.2 brand=tesla,driver>=470,driver<471 brand=unknown,driver>=470,driver<471 brand=nvidia,driver>=470,driver<471 brand=nvidiartx,driver>=470,driver<471 brand=geforce,driver>=470,driver<471 brand=geforcertx,driver>=470,driver<471 brand=quadro,driver>=470,driver<471 brand=quadrortx,driver>=470,driver<471 brand=titan,driver>=470,driver<471 brand=titanrtx,driver>=470,driver<471 brand=tesla,driver>=525,driver<526 brand=unknown,driver>=525,driver<526 brand=nvidia,driver>=525,driver<526 brand=nvidiartx,driver>=525,driver<526 brand=geforce,driver>=525,driver<526 brand=geforcertx,driver>=525,driver<526 brand=quadro,driver>=525,driver<526 brand=quadrortx,driver>=525,driver<526 brand=titan,driver>=525,driver<526 brand=titanrtx,driver>=525,driver<526', 'NV_LIBCUBLAS_DEV_PACKAGE': 'libcublas-dev-12-2=12.2.5.6-1', 'NV_NVTX_VERSION': '12.2.140-1', 'COLAB_JUPYTER_IP': '172.28.0.12', 'NV_CUDA_CUDART_DEV_VERSION': '12.2.140-1', 'NV_LIBCUSPARSE_VERSION': '12.1.2.141-1', 'COLAB_LANGUAGE_SERVER_PROXY_ROOT_URL': 'http://172.28.0.1:8013/', 'NV_LIBNPP_VERSION': '12.2.1.4-1', 'NCCL_VERSION': '2.19.3-1', 'KMP_LISTEN_PORT': '6000', 'TF_FORCE_GPU_ALLOW_GROWTH': 'true', 'ENV': '/root/.bashrc', 'PWD': '/', 'COLAB_LANGUAGE_SERVER_PROXY_REQUEST_TIMEOUT': '30s', 'TBE_EPHEM_CREDS_ADDR': '172.28.0.1:8009', 'TBE_CREDS_ADDR': '172.28.0.1:8008', 'NV_CUDNN_PACKAGE': 'libcudnn8=8.9.6.50-1+cuda12.2', 'NVIDIA_DRIVER_CAPABILITIES': 'compute,utility', 'COLAB_JUPYTER_TOKEN': '', 'LAST_FORCED_REBUILD': '20240627', 'NV_NVPROF_DEV_PACKAGE': 'cuda-nvprof-12-2=12.2.142-1', 'NV_LIBNPP_PACKAGE': 'libnpp-12-2=12.2.1.4-1', 'NV_LIBNCCL_DEV_PACKAGE_NAME': 'libnccl-dev', 'TCLLIBPATH': '/usr/share/tcltk/tcllib1.20', 'NV_LIBCUBLAS_DEV_VERSION': '12.2.5.6-1', 'NVIDIA_PRODUCT_NAME': 'CUDA', 'COLAB_KERNEL_MANAGER_PROXY_HOST': '172.28.0.12', 'NV_LIBCUBLAS_DEV_PACKAGE_NAME': 'libcublas-dev-12-2', 'NV_CUDA_CUDART_VERSION': '12.2.140-1', 'COLAB_WARMUP_DEFAULTS': '1', 'HOME': '/root', 'LANG': 'en_US.UTF-8', 'COLUMNS': '100', 'CUDA_VERSION': '12.2.2', 'CLOUDSDK_CONFIG': '/content/.config', 'NV_LIBCUBLAS_PACKAGE': 'libcublas-12-2=12.2.5.6-1', 'NV_CUDA_NSIGHT_COMPUTE_DEV_PACKAGE': 'cuda-nsight-compute-12-2=12.2.2-1', 'COLAB_RELEASE_TAG': 'release-colab_20240910-060204_RC00', 'KMP_TARGET_PORT': '9000', 'KMP_EXTRA_ARGS': '--logtostderr --listen_host=172.28.0.12 --target_host=172.28.0.12 --tunnel_background_save_url=https://colab.research.google.com/tun/m/cc48301118ce562b961b3c22d803539adc1e0c19/m-s-yysr7zal1kwx --tunnel_background_save_delay=10s --tunnel_periodic_background_save_frequency=30m0s --enable_output_coalescing=true --output_coalescing_required=true --log_code_content', 'NV_LIBNPP_DEV_PACKAGE': 'libnpp-dev-12-2=12.2.1.4-1', 'COLAB_LANGUAGE_SERVER_PROXY_LSP_DIRS': '/datalab/web/pyright/typeshed-fallback/stdlib,/usr/local/lib/python3.10/dist-packages', 'NV_LIBCUBLAS_PACKAGE_NAME': 'libcublas-12-2', 'COLAB_KERNEL_MANAGER_PROXY_PORT': '6000', 'CLOUDSDK_PYTHON': 'python3', 'NV_LIBNPP_DEV_VERSION': '12.2.1.4-1', 'NO_GCE_CHECK': 'False', 'PYTHONPATH': '/env/python', 'NV_LIBCUSPARSE_DEV_VERSION': '12.1.2.141-1', 'LIBRARY_PATH': '/usr/local/cuda/lib64/stubs', 'NV_CUDNN_VERSION': '8.9.6.50', 'SHLVL': '0', 'NV_CUDA_LIB_VERSION': '12.2.2-1', 'COLAB_LANGUAGE_SERVER_PROXY': '/usr/colab/bin/language_service', 'NVARCH': 'x86_64', 'NV_CUDNN_PACKAGE_DEV': 'libcudnn8-dev=8.9.6.50-1+cuda12.2', 'NV_CUDA_COMPAT_PACKAGE': 'cuda-compat-12-2', 'NV_LIBNCCL_PACKAGE': 'libnccl2=2.19.3-1+cuda12.2', 'LD_LIBRARY_PATH': '/usr/local/nvidia/lib:/usr/local/nvidia/lib64', 'COLAB_GPU': '', 'NV_CUDA_NSIGHT_COMPUTE_VERSION': '12.2.2-1', 'GCS_READ_CACHE_BLOCK_SIZE_MB': '16', 'NV_NVPROF_VERSION': '12.2.142-1', 'LC_ALL': 'en_US.UTF-8', 'COLAB_FILE_HANDLER_ADDR': 'localhost:3453', 'PATH': '/opt/bin:/usr/local/nvidia/bin:/usr/local/cuda/bin:/usr/local/sbin:/usr/local/bin:/usr/sbin:/usr/bin:/sbin:/bin:/tools/node/bin:/tools/google-cloud-sdk/bin', 'NV_LIBNCCL_PACKAGE_NAME': 'libnccl2', 'COLAB_DEBUG_ADAPTER_MUX_PATH': '/usr/local/bin/dap_multiplexer', 'NV_LIBNCCL_PACKAGE_VERSION': '2.19.3-1', 'PYTHONWARNINGS': 'ignore:::pip._internal.cli.base_command', 'DEBIAN_FRONTEND': 'noninteractive', 'COLAB_BACKEND_VERSION': 'next', 'OLDPWD': '/', 'JPY_PARENT_PID': '88', 'TERM': 'xterm-color', 'CLICOLOR': '1', 'PAGER': 'cat', 'GIT_PAGER': 'cat', 'MPLBACKEND': 'module://ipykernel.pylab.backend_inline', 'ENABLE_DIRECTORYPREFETCHER': '1', 'USE_AUTH_EPHEM': '1', 'PYDEVD_USE_FRAME_EVAL': 'NO'}), 6: bytearray(b'\\n\\x148#\\x11c'), 11: 9.123, 12: {...}, 16: 'False', 18: ...}, 'get_ipython': <bound method InteractiveShell.get_ipython of <google.colab._shell.Shell object at 0x7b1bb296e710>>, 'exit': <IPython.core.autocall.ZMQExitAutocall object at 0x7b1bb296dbd0>, 'quit': <IPython.core.autocall.ZMQExitAutocall object at 0x7b1bb296dbd0>, '_': ..., '__': 'False', '___': {...}, '_i': 'locals().items()', '_ii': 'locals.items()', '_iii': 'print(\"True\") if \\'__main__\\' in locals().items() else \"False\"', '_i1': 'import os\\nos.environ', 'os': <module 'os' from '/usr/lib/python3.10/os.py'>, '_1': environ({'SHELL': '/bin/bash', 'NV_LIBCUBLAS_VERSION': '12.2.5.6-1', 'NVIDIA_VISIBLE_DEVICES': 'all', 'COLAB_JUPYTER_TRANSPORT': 'ipc', 'NV_NVML_DEV_VERSION': '12.2.140-1', 'NV_CUDNN_PACKAGE_NAME': 'libcudnn8', 'CGROUP_MEMORY_EVENTS': '/sys/fs/cgroup/memory.events /var/colab/cgroup/jupyter-children/memory.events', 'NV_LIBNCCL_DEV_PACKAGE': 'libnccl-dev=2.19.3-1+cuda12.2', 'NV_LIBNCCL_DEV_PACKAGE_VERSION': '2.19.3-1', 'VM_GCE_METADATA_HOST': '169.254.169.253', 'HOSTNAME': '57645698dfef', 'LANGUAGE': 'en_US', 'TBE_RUNTIME_ADDR': '172.28.0.1:8011', 'COLAB_TPU_1VM': '', 'GCE_METADATA_TIMEOUT': '3', 'NVIDIA_REQUIRE_CUDA': 'cuda>=12.2 brand=tesla,driver>=470,driver<471 brand=unknown,driver>=470,driver<471 brand=nvidia,driver>=470,driver<471 brand=nvidiartx,driver>=470,driver<471 brand=geforce,driver>=470,driver<471 brand=geforcertx,driver>=470,driver<471 brand=quadro,driver>=470,driver<471 brand=quadrortx,driver>=470,driver<471 brand=titan,driver>=470,driver<471 brand=titanrtx,driver>=470,driver<471 brand=tesla,driver>=525,driver<526 brand=unknown,driver>=525,driver<526 brand=nvidia,driver>=525,driver<526 brand=nvidiartx,driver>=525,driver<526 brand=geforce,driver>=525,driver<526 brand=geforcertx,driver>=525,driver<526 brand=quadro,driver>=525,driver<526 brand=quadrortx,driver>=525,driver<526 brand=titan,driver>=525,driver<526 brand=titanrtx,driver>=525,driver<526', 'NV_LIBCUBLAS_DEV_PACKAGE': 'libcublas-dev-12-2=12.2.5.6-1', 'NV_NVTX_VERSION': '12.2.140-1', 'COLAB_JUPYTER_IP': '172.28.0.12', 'NV_CUDA_CUDART_DEV_VERSION': '12.2.140-1', 'NV_LIBCUSPARSE_VERSION': '12.1.2.141-1', 'COLAB_LANGUAGE_SERVER_PROXY_ROOT_URL': 'http://172.28.0.1:8013/', 'NV_LIBNPP_VERSION': '12.2.1.4-1', 'NCCL_VERSION': '2.19.3-1', 'KMP_LISTEN_PORT': '6000', 'TF_FORCE_GPU_ALLOW_GROWTH': 'true', 'ENV': '/root/.bashrc', 'PWD': '/', 'COLAB_LANGUAGE_SERVER_PROXY_REQUEST_TIMEOUT': '30s', 'TBE_EPHEM_CREDS_ADDR': '172.28.0.1:8009', 'TBE_CREDS_ADDR': '172.28.0.1:8008', 'NV_CUDNN_PACKAGE': 'libcudnn8=8.9.6.50-1+cuda12.2', 'NVIDIA_DRIVER_CAPABILITIES': 'compute,utility', 'COLAB_JUPYTER_TOKEN': '', 'LAST_FORCED_REBUILD': '20240627', 'NV_NVPROF_DEV_PACKAGE': 'cuda-nvprof-12-2=12.2.142-1', 'NV_LIBNPP_PACKAGE': 'libnpp-12-2=12.2.1.4-1', 'NV_LIBNCCL_DEV_PACKAGE_NAME': 'libnccl-dev', 'TCLLIBPATH': '/usr/share/tcltk/tcllib1.20', 'NV_LIBCUBLAS_DEV_VERSION': '12.2.5.6-1', 'NVIDIA_PRODUCT_NAME': 'CUDA', 'COLAB_KERNEL_MANAGER_PROXY_HOST': '172.28.0.12', 'NV_LIBCUBLAS_DEV_PACKAGE_NAME': 'libcublas-dev-12-2', 'NV_CUDA_CUDART_VERSION': '12.2.140-1', 'COLAB_WARMUP_DEFAULTS': '1', 'HOME': '/root', 'LANG': 'en_US.UTF-8', 'COLUMNS': '100', 'CUDA_VERSION': '12.2.2', 'CLOUDSDK_CONFIG': '/content/.config', 'NV_LIBCUBLAS_PACKAGE': 'libcublas-12-2=12.2.5.6-1', 'NV_CUDA_NSIGHT_COMPUTE_DEV_PACKAGE': 'cuda-nsight-compute-12-2=12.2.2-1', 'COLAB_RELEASE_TAG': 'release-colab_20240910-060204_RC00', 'KMP_TARGET_PORT': '9000', 'KMP_EXTRA_ARGS': '--logtostderr --listen_host=172.28.0.12 --target_host=172.28.0.12 --tunnel_background_save_url=https://colab.research.google.com/tun/m/cc48301118ce562b961b3c22d803539adc1e0c19/m-s-yysr7zal1kwx --tunnel_background_save_delay=10s --tunnel_periodic_background_save_frequency=30m0s --enable_output_coalescing=true --output_coalescing_required=true --log_code_content', 'NV_LIBNPP_DEV_PACKAGE': 'libnpp-dev-12-2=12.2.1.4-1', 'COLAB_LANGUAGE_SERVER_PROXY_LSP_DIRS': '/datalab/web/pyright/typeshed-fallback/stdlib,/usr/local/lib/python3.10/dist-packages', 'NV_LIBCUBLAS_PACKAGE_NAME': 'libcublas-12-2', 'COLAB_KERNEL_MANAGER_PROXY_PORT': '6000', 'CLOUDSDK_PYTHON': 'python3', 'NV_LIBNPP_DEV_VERSION': '12.2.1.4-1', 'NO_GCE_CHECK': 'False', 'PYTHONPATH': '/env/python', 'NV_LIBCUSPARSE_DEV_VERSION': '12.1.2.141-1', 'LIBRARY_PATH': '/usr/local/cuda/lib64/stubs', 'NV_CUDNN_VERSION': '8.9.6.50', 'SHLVL': '0', 'NV_CUDA_LIB_VERSION': '12.2.2-1', 'COLAB_LANGUAGE_SERVER_PROXY': '/usr/colab/bin/language_service', 'NVARCH': 'x86_64', 'NV_CUDNN_PACKAGE_DEV': 'libcudnn8-dev=8.9.6.50-1+cuda12.2', 'NV_CUDA_COMPAT_PACKAGE': 'cuda-compat-12-2', 'NV_LIBNCCL_PACKAGE': 'libnccl2=2.19.3-1+cuda12.2', 'LD_LIBRARY_PATH': '/usr/local/nvidia/lib:/usr/local/nvidia/lib64', 'COLAB_GPU': '', 'NV_CUDA_NSIGHT_COMPUTE_VERSION': '12.2.2-1', 'GCS_READ_CACHE_BLOCK_SIZE_MB': '16', 'NV_NVPROF_VERSION': '12.2.142-1', 'LC_ALL': 'en_US.UTF-8', 'COLAB_FILE_HANDLER_ADDR': 'localhost:3453', 'PATH': '/opt/bin:/usr/local/nvidia/bin:/usr/local/cuda/bin:/usr/local/sbin:/usr/local/bin:/usr/sbin:/usr/bin:/sbin:/bin:/tools/node/bin:/tools/google-cloud-sdk/bin', 'NV_LIBNCCL_PACKAGE_NAME': 'libnccl2', 'COLAB_DEBUG_ADAPTER_MUX_PATH': '/usr/local/bin/dap_multiplexer', 'NV_LIBNCCL_PACKAGE_VERSION': '2.19.3-1', 'PYTHONWARNINGS': 'ignore:::pip._internal.cli.base_command', 'DEBIAN_FRONTEND': 'noninteractive', 'COLAB_BACKEND_VERSION': 'next', 'OLDPWD': '/', 'JPY_PARENT_PID': '88', 'TERM': 'xterm-color', 'CLICOLOR': '1', 'PAGER': 'cat', 'GIT_PAGER': 'cat', 'MPLBACKEND': 'module://ipykernel.pylab.backend_inline', 'ENABLE_DIRECTORYPREFETCHER': '1', 'USE_AUTH_EPHEM': '1', 'PYDEVD_USE_FRAME_EVAL': 'NO'}), '_i2': 'import os.path as path\\ndef path_divide(apath):\\n  print(f\\'{apath}:{path.splittext(apath)}\\')\\n\\npath_divide(\"wada.xp\")', 'path': <module 'posixpath' from '/usr/lib/python3.10/posixpath.py'>, 'path_divide': <function path_divide at 0x7b1ba03a5fc0>, '_i3': 'import os.path as path\\ndef path_divide(apath):\\n  print(f\\'{apath}:{path.splitext(apath)}\\')\\n\\npath_divide(\"wada.xp\")', '_i4': 'print(\"True\") if id(\"String\") == id(\"String\")', '_i5': 'print(\"True\") if id(\"String\") == id(\"String\") else \"False\"', '_i6': 'bnums = [10, 20, 56, 35, 17, 99]\\nbvalues = bytearray(bnums)\\nbvalues', 'bnums': [10, 20, 56, 35, 17, 99], 'bvalues': bytearray(b'\\n\\x148#\\x11c'), '_6': bytearray(b'\\n\\x148#\\x11c'), '_i7': 'bnums = [10, 20, 56, 35, 17, 99]\\nbvalues = bytearray(bnums)\\nbvalues\\n# Iterate through the elements of the bytearray and print each element.\\nfor x in values:\\n    print(x)', '_i8': 'bnums = [10, 20, 56, 35, 17, 99]\\nbvalues = bytearray(bnums)\\nbvalues\\n# Iterate through the elements of the bytearray and print each element.\\nfor x in bvalues:\\n    print(x)', 'x': 99, '_i9': 'bnums = [10, 20, 56, 35, 17, 99]\\nbvalues = bytearray(bnums)\\nprint(bvalues)\\n# Iterate through the elements of the bytearray and print each element.\\nfor x in bvalues:\\n    print(x)', '_i10': 'afloat = 9.12314\\nafloat.round(3)', 'afloat': 9.12314, '_i11': 'afloat = 9.12314\\nround(afloat,3)', '_11': 9.123, '_i12': 'locals()', '_12': {...}, '_i13': 'print(\"True\") if isinstance(\\'__main__\\', locals().items()', '_i14': 'print(\"True\") if isinstance(\\'__main__\\', locals().items() else \"False\"', '_i15': 'print(\"True\") if isinstance(\\'__main__\\', locals().items()) else \"False\"', '_i16': 'print(\"True\") if \\'__main__\\' in locals().items() else \"False\"', '_16': 'False', '_i17': 'locals.items()', '_i18': 'locals().items()', '_18': ..., '_i19': 'locals().values()'}), ('_i', 'locals().items()'), ('_ii', 'locals.items()'), ('_iii', 'print(\"True\") if \\'__main__\\' in locals().items() else \"False\"'), ('_i1', 'import os\\nos.environ'), ('os', <module 'os' from '/usr/lib/python3.10/os.py'>), ('_1', environ({'SHELL': '/bin/bash', 'NV_LIBCUBLAS_VERSION': '12.2.5.6-1', 'NVIDIA_VISIBLE_DEVICES': 'all', 'COLAB_JUPYTER_TRANSPORT': 'ipc', 'NV_NVML_DEV_VERSION': '12.2.140-1', 'NV_CUDNN_PACKAGE_NAME': 'libcudnn8', 'CGROUP_MEMORY_EVENTS': '/sys/fs/cgroup/memory.events /var/colab/cgroup/jupyter-children/memory.events', 'NV_LIBNCCL_DEV_PACKAGE': 'libnccl-dev=2.19.3-1+cuda12.2', 'NV_LIBNCCL_DEV_PACKAGE_VERSION': '2.19.3-1', 'VM_GCE_METADATA_HOST': '169.254.169.253', 'HOSTNAME': '57645698dfef', 'LANGUAGE': 'en_US', 'TBE_RUNTIME_ADDR': '172.28.0.1:8011', 'COLAB_TPU_1VM': '', 'GCE_METADATA_TIMEOUT': '3', 'NVIDIA_REQUIRE_CUDA': 'cuda>=12.2 brand=tesla,driver>=470,driver<471 brand=unknown,driver>=470,driver<471 brand=nvidia,driver>=470,driver<471 brand=nvidiartx,driver>=470,driver<471 brand=geforce,driver>=470,driver<471 brand=geforcertx,driver>=470,driver<471 brand=quadro,driver>=470,driver<471 brand=quadrortx,driver>=470,driver<471 brand=titan,driver>=470,driver<471 brand=titanrtx,driver>=470,driver<471 brand=tesla,driver>=525,driver<526 brand=unknown,driver>=525,driver<526 brand=nvidia,driver>=525,driver<526 brand=nvidiartx,driver>=525,driver<526 brand=geforce,driver>=525,driver<526 brand=geforcertx,driver>=525,driver<526 brand=quadro,driver>=525,driver<526 brand=quadrortx,driver>=525,driver<526 brand=titan,driver>=525,driver<526 brand=titanrtx,driver>=525,driver<526', 'NV_LIBCUBLAS_DEV_PACKAGE': 'libcublas-dev-12-2=12.2.5.6-1', 'NV_NVTX_VERSION': '12.2.140-1', 'COLAB_JUPYTER_IP': '172.28.0.12', 'NV_CUDA_CUDART_DEV_VERSION': '12.2.140-1', 'NV_LIBCUSPARSE_VERSION': '12.1.2.141-1', 'COLAB_LANGUAGE_SERVER_PROXY_ROOT_URL': 'http://172.28.0.1:8013/', 'NV_LIBNPP_VERSION': '12.2.1.4-1', 'NCCL_VERSION': '2.19.3-1', 'KMP_LISTEN_PORT': '6000', 'TF_FORCE_GPU_ALLOW_GROWTH': 'true', 'ENV': '/root/.bashrc', 'PWD': '/', 'COLAB_LANGUAGE_SERVER_PROXY_REQUEST_TIMEOUT': '30s', 'TBE_EPHEM_CREDS_ADDR': '172.28.0.1:8009', 'TBE_CREDS_ADDR': '172.28.0.1:8008', 'NV_CUDNN_PACKAGE': 'libcudnn8=8.9.6.50-1+cuda12.2', 'NVIDIA_DRIVER_CAPABILITIES': 'compute,utility', 'COLAB_JUPYTER_TOKEN': '', 'LAST_FORCED_REBUILD': '20240627', 'NV_NVPROF_DEV_PACKAGE': 'cuda-nvprof-12-2=12.2.142-1', 'NV_LIBNPP_PACKAGE': 'libnpp-12-2=12.2.1.4-1', 'NV_LIBNCCL_DEV_PACKAGE_NAME': 'libnccl-dev', 'TCLLIBPATH': '/usr/share/tcltk/tcllib1.20', 'NV_LIBCUBLAS_DEV_VERSION': '12.2.5.6-1', 'NVIDIA_PRODUCT_NAME': 'CUDA', 'COLAB_KERNEL_MANAGER_PROXY_HOST': '172.28.0.12', 'NV_LIBCUBLAS_DEV_PACKAGE_NAME': 'libcublas-dev-12-2', 'NV_CUDA_CUDART_VERSION': '12.2.140-1', 'COLAB_WARMUP_DEFAULTS': '1', 'HOME': '/root', 'LANG': 'en_US.UTF-8', 'COLUMNS': '100', 'CUDA_VERSION': '12.2.2', 'CLOUDSDK_CONFIG': '/content/.config', 'NV_LIBCUBLAS_PACKAGE': 'libcublas-12-2=12.2.5.6-1', 'NV_CUDA_NSIGHT_COMPUTE_DEV_PACKAGE': 'cuda-nsight-compute-12-2=12.2.2-1', 'COLAB_RELEASE_TAG': 'release-colab_20240910-060204_RC00', 'KMP_TARGET_PORT': '9000', 'KMP_EXTRA_ARGS': '--logtostderr --listen_host=172.28.0.12 --target_host=172.28.0.12 --tunnel_background_save_url=https://colab.research.google.com/tun/m/cc48301118ce562b961b3c22d803539adc1e0c19/m-s-yysr7zal1kwx --tunnel_background_save_delay=10s --tunnel_periodic_background_save_frequency=30m0s --enable_output_coalescing=true --output_coalescing_required=true --log_code_content', 'NV_LIBNPP_DEV_PACKAGE': 'libnpp-dev-12-2=12.2.1.4-1', 'COLAB_LANGUAGE_SERVER_PROXY_LSP_DIRS': '/datalab/web/pyright/typeshed-fallback/stdlib,/usr/local/lib/python3.10/dist-packages', 'NV_LIBCUBLAS_PACKAGE_NAME': 'libcublas-12-2', 'COLAB_KERNEL_MANAGER_PROXY_PORT': '6000', 'CLOUDSDK_PYTHON': 'python3', 'NV_LIBNPP_DEV_VERSION': '12.2.1.4-1', 'NO_GCE_CHECK': 'False', 'PYTHONPATH': '/env/python', 'NV_LIBCUSPARSE_DEV_VERSION': '12.1.2.141-1', 'LIBRARY_PATH': '/usr/local/cuda/lib64/stubs', 'NV_CUDNN_VERSION': '8.9.6.50', 'SHLVL': '0', 'NV_CUDA_LIB_VERSION': '12.2.2-1', 'COLAB_LANGUAGE_SERVER_PROXY': '/usr/colab/bin/language_service', 'NVARCH': 'x86_64', 'NV_CUDNN_PACKAGE_DEV': 'libcudnn8-dev=8.9.6.50-1+cuda12.2', 'NV_CUDA_COMPAT_PACKAGE': 'cuda-compat-12-2', 'NV_LIBNCCL_PACKAGE': 'libnccl2=2.19.3-1+cuda12.2', 'LD_LIBRARY_PATH': '/usr/local/nvidia/lib:/usr/local/nvidia/lib64', 'COLAB_GPU': '', 'NV_CUDA_NSIGHT_COMPUTE_VERSION': '12.2.2-1', 'GCS_READ_CACHE_BLOCK_SIZE_MB': '16', 'NV_NVPROF_VERSION': '12.2.142-1', 'LC_ALL': 'en_US.UTF-8', 'COLAB_FILE_HANDLER_ADDR': 'localhost:3453', 'PATH': '/opt/bin:/usr/local/nvidia/bin:/usr/local/cuda/bin:/usr/local/sbin:/usr/local/bin:/usr/sbin:/usr/bin:/sbin:/bin:/tools/node/bin:/tools/google-cloud-sdk/bin', 'NV_LIBNCCL_PACKAGE_NAME': 'libnccl2', 'COLAB_DEBUG_ADAPTER_MUX_PATH': '/usr/local/bin/dap_multiplexer', 'NV_LIBNCCL_PACKAGE_VERSION': '2.19.3-1', 'PYTHONWARNINGS': 'ignore:::pip._internal.cli.base_command', 'DEBIAN_FRONTEND': 'noninteractive', 'COLAB_BACKEND_VERSION': 'next', 'OLDPWD': '/', 'JPY_PARENT_PID': '88', 'TERM': 'xterm-color', 'CLICOLOR': '1', 'PAGER': 'cat', 'GIT_PAGER': 'cat', 'MPLBACKEND': 'module://ipykernel.pylab.backend_inline', 'ENABLE_DIRECTORYPREFETCHER': '1', 'USE_AUTH_EPHEM': '1', 'PYDEVD_USE_FRAME_EVAL': 'NO'})), ('_i2', 'import os.path as path\\ndef path_divide(apath):\\n  print(f\\'{apath}:{path.splittext(apath)}\\')\\n\\npath_divide(\"wada.xp\")'), ('path', <module 'posixpath' from '/usr/lib/python3.10/posixpath.py'>), ('path_divide', <function path_divide at 0x7b1ba03a5fc0>), ('_i3', 'import os.path as path\\ndef path_divide(apath):\\n  print(f\\'{apath}:{path.splitext(apath)}\\')\\n\\npath_divide(\"wada.xp\")'), ('_i4', 'print(\"True\") if id(\"String\") == id(\"String\")'), ('_i5', 'print(\"True\") if id(\"String\") == id(\"String\") else \"False\"'), ('_i6', 'bnums = [10, 20, 56, 35, 17, 99]\\nbvalues = bytearray(bnums)\\nbvalues'), ('bnums', [10, 20, 56, 35, 17, 99]), ('bvalues', bytearray(b'\\n\\x148#\\x11c')), ('_6', bytearray(b'\\n\\x148#\\x11c')), ('_i7', 'bnums = [10, 20, 56, 35, 17, 99]\\nbvalues = bytearray(bnums)\\nbvalues\\n# Iterate through the elements of the bytearray and print each element.\\nfor x in values:\\n    print(x)'), ('_i8', 'bnums = [10, 20, 56, 35, 17, 99]\\nbvalues = bytearray(bnums)\\nbvalues\\n# Iterate through the elements of the bytearray and print each element.\\nfor x in bvalues:\\n    print(x)'), ('x', 99), ('_i9', 'bnums = [10, 20, 56, 35, 17, 99]\\nbvalues = bytearray(bnums)\\nprint(bvalues)\\n# Iterate through the elements of the bytearray and print each element.\\nfor x in bvalues:\\n    print(x)'), ('_i10', 'afloat = 9.12314\\nafloat.round(3)'), ('afloat', 9.12314), ('_i11', 'afloat = 9.12314\\nround(afloat,3)'), ('_11', 9.123), ('_i12', 'locals()'), ('_12', {'__name__': '__main__', '__doc__': 'Automatically created module for IPython interactive environment', '__package__': None, '__loader__': None, '__spec__': None, '__builtin__': <module 'builtins' (built-in)>, '__builtins__': <module 'builtins' (built-in)>, '_ih': ['', 'import os\\nos.environ', 'import os.path as path\\ndef path_divide(apath):\\n  print(f\\'{apath}:{path.splittext(apath)}\\')\\n\\npath_divide(\"wada.xp\")', 'import os.path as path\\ndef path_divide(apath):\\n  print(f\\'{apath}:{path.splitext(apath)}\\')\\n\\npath_divide(\"wada.xp\")', 'print(\"True\") if id(\"String\") == id(\"String\")', 'print(\"True\") if id(\"String\") == id(\"String\") else \"False\"', 'bnums = [10, 20, 56, 35, 17, 99]\\nbvalues = bytearray(bnums)\\nbvalues', 'bnums = [10, 20, 56, 35, 17, 99]\\nbvalues = bytearray(bnums)\\nbvalues\\n# Iterate through the elements of the bytearray and print each element.\\nfor x in values:\\n    print(x)', 'bnums = [10, 20, 56, 35, 17, 99]\\nbvalues = bytearray(bnums)\\nbvalues\\n# Iterate through the elements of the bytearray and print each element.\\nfor x in bvalues:\\n    print(x)', 'bnums = [10, 20, 56, 35, 17, 99]\\nbvalues = bytearray(bnums)\\nprint(bvalues)\\n# Iterate through the elements of the bytearray and print each element.\\nfor x in bvalues:\\n    print(x)', 'afloat = 9.12314\\nafloat.round(3)', 'afloat = 9.12314\\nround(afloat,3)', 'locals()', 'print(\"True\") if isinstance(\\'__main__\\', locals().items()', 'print(\"True\") if isinstance(\\'__main__\\', locals().items() else \"False\"', 'print(\"True\") if isinstance(\\'__main__\\', locals().items()) else \"False\"', 'print(\"True\") if \\'__main__\\' in locals().items() else \"False\"', 'locals.items()', 'locals().items()', 'locals().values()'], '_oh': {1: environ({'SHELL': '/bin/bash', 'NV_LIBCUBLAS_VERSION': '12.2.5.6-1', 'NVIDIA_VISIBLE_DEVICES': 'all', 'COLAB_JUPYTER_TRANSPORT': 'ipc', 'NV_NVML_DEV_VERSION': '12.2.140-1', 'NV_CUDNN_PACKAGE_NAME': 'libcudnn8', 'CGROUP_MEMORY_EVENTS': '/sys/fs/cgroup/memory.events /var/colab/cgroup/jupyter-children/memory.events', 'NV_LIBNCCL_DEV_PACKAGE': 'libnccl-dev=2.19.3-1+cuda12.2', 'NV_LIBNCCL_DEV_PACKAGE_VERSION': '2.19.3-1', 'VM_GCE_METADATA_HOST': '169.254.169.253', 'HOSTNAME': '57645698dfef', 'LANGUAGE': 'en_US', 'TBE_RUNTIME_ADDR': '172.28.0.1:8011', 'COLAB_TPU_1VM': '', 'GCE_METADATA_TIMEOUT': '3', 'NVIDIA_REQUIRE_CUDA': 'cuda>=12.2 brand=tesla,driver>=470,driver<471 brand=unknown,driver>=470,driver<471 brand=nvidia,driver>=470,driver<471 brand=nvidiartx,driver>=470,driver<471 brand=geforce,driver>=470,driver<471 brand=geforcertx,driver>=470,driver<471 brand=quadro,driver>=470,driver<471 brand=quadrortx,driver>=470,driver<471 brand=titan,driver>=470,driver<471 brand=titanrtx,driver>=470,driver<471 brand=tesla,driver>=525,driver<526 brand=unknown,driver>=525,driver<526 brand=nvidia,driver>=525,driver<526 brand=nvidiartx,driver>=525,driver<526 brand=geforce,driver>=525,driver<526 brand=geforcertx,driver>=525,driver<526 brand=quadro,driver>=525,driver<526 brand=quadrortx,driver>=525,driver<526 brand=titan,driver>=525,driver<526 brand=titanrtx,driver>=525,driver<526', 'NV_LIBCUBLAS_DEV_PACKAGE': 'libcublas-dev-12-2=12.2.5.6-1', 'NV_NVTX_VERSION': '12.2.140-1', 'COLAB_JUPYTER_IP': '172.28.0.12', 'NV_CUDA_CUDART_DEV_VERSION': '12.2.140-1', 'NV_LIBCUSPARSE_VERSION': '12.1.2.141-1', 'COLAB_LANGUAGE_SERVER_PROXY_ROOT_URL': 'http://172.28.0.1:8013/', 'NV_LIBNPP_VERSION': '12.2.1.4-1', 'NCCL_VERSION': '2.19.3-1', 'KMP_LISTEN_PORT': '6000', 'TF_FORCE_GPU_ALLOW_GROWTH': 'true', 'ENV': '/root/.bashrc', 'PWD': '/', 'COLAB_LANGUAGE_SERVER_PROXY_REQUEST_TIMEOUT': '30s', 'TBE_EPHEM_CREDS_ADDR': '172.28.0.1:8009', 'TBE_CREDS_ADDR': '172.28.0.1:8008', 'NV_CUDNN_PACKAGE': 'libcudnn8=8.9.6.50-1+cuda12.2', 'NVIDIA_DRIVER_CAPABILITIES': 'compute,utility', 'COLAB_JUPYTER_TOKEN': '', 'LAST_FORCED_REBUILD': '20240627', 'NV_NVPROF_DEV_PACKAGE': 'cuda-nvprof-12-2=12.2.142-1', 'NV_LIBNPP_PACKAGE': 'libnpp-12-2=12.2.1.4-1', 'NV_LIBNCCL_DEV_PACKAGE_NAME': 'libnccl-dev', 'TCLLIBPATH': '/usr/share/tcltk/tcllib1.20', 'NV_LIBCUBLAS_DEV_VERSION': '12.2.5.6-1', 'NVIDIA_PRODUCT_NAME': 'CUDA', 'COLAB_KERNEL_MANAGER_PROXY_HOST': '172.28.0.12', 'NV_LIBCUBLAS_DEV_PACKAGE_NAME': 'libcublas-dev-12-2', 'NV_CUDA_CUDART_VERSION': '12.2.140-1', 'COLAB_WARMUP_DEFAULTS': '1', 'HOME': '/root', 'LANG': 'en_US.UTF-8', 'COLUMNS': '100', 'CUDA_VERSION': '12.2.2', 'CLOUDSDK_CONFIG': '/content/.config', 'NV_LIBCUBLAS_PACKAGE': 'libcublas-12-2=12.2.5.6-1', 'NV_CUDA_NSIGHT_COMPUTE_DEV_PACKAGE': 'cuda-nsight-compute-12-2=12.2.2-1', 'COLAB_RELEASE_TAG': 'release-colab_20240910-060204_RC00', 'KMP_TARGET_PORT': '9000', 'KMP_EXTRA_ARGS': '--logtostderr --listen_host=172.28.0.12 --target_host=172.28.0.12 --tunnel_background_save_url=https://colab.research.google.com/tun/m/cc48301118ce562b961b3c22d803539adc1e0c19/m-s-yysr7zal1kwx --tunnel_background_save_delay=10s --tunnel_periodic_background_save_frequency=30m0s --enable_output_coalescing=true --output_coalescing_required=true --log_code_content', 'NV_LIBNPP_DEV_PACKAGE': 'libnpp-dev-12-2=12.2.1.4-1', 'COLAB_LANGUAGE_SERVER_PROXY_LSP_DIRS': '/datalab/web/pyright/typeshed-fallback/stdlib,/usr/local/lib/python3.10/dist-packages', 'NV_LIBCUBLAS_PACKAGE_NAME': 'libcublas-12-2', 'COLAB_KERNEL_MANAGER_PROXY_PORT': '6000', 'CLOUDSDK_PYTHON': 'python3', 'NV_LIBNPP_DEV_VERSION': '12.2.1.4-1', 'NO_GCE_CHECK': 'False', 'PYTHONPATH': '/env/python', 'NV_LIBCUSPARSE_DEV_VERSION': '12.1.2.141-1', 'LIBRARY_PATH': '/usr/local/cuda/lib64/stubs', 'NV_CUDNN_VERSION': '8.9.6.50', 'SHLVL': '0', 'NV_CUDA_LIB_VERSION': '12.2.2-1', 'COLAB_LANGUAGE_SERVER_PROXY': '/usr/colab/bin/language_service', 'NVARCH': 'x86_64', 'NV_CUDNN_PACKAGE_DEV': 'libcudnn8-dev=8.9.6.50-1+cuda12.2', 'NV_CUDA_COMPAT_PACKAGE': 'cuda-compat-12-2', 'NV_LIBNCCL_PACKAGE': 'libnccl2=2.19.3-1+cuda12.2', 'LD_LIBRARY_PATH': '/usr/local/nvidia/lib:/usr/local/nvidia/lib64', 'COLAB_GPU': '', 'NV_CUDA_NSIGHT_COMPUTE_VERSION': '12.2.2-1', 'GCS_READ_CACHE_BLOCK_SIZE_MB': '16', 'NV_NVPROF_VERSION': '12.2.142-1', 'LC_ALL': 'en_US.UTF-8', 'COLAB_FILE_HANDLER_ADDR': 'localhost:3453', 'PATH': '/opt/bin:/usr/local/nvidia/bin:/usr/local/cuda/bin:/usr/local/sbin:/usr/local/bin:/usr/sbin:/usr/bin:/sbin:/bin:/tools/node/bin:/tools/google-cloud-sdk/bin', 'NV_LIBNCCL_PACKAGE_NAME': 'libnccl2', 'COLAB_DEBUG_ADAPTER_MUX_PATH': '/usr/local/bin/dap_multiplexer', 'NV_LIBNCCL_PACKAGE_VERSION': '2.19.3-1', 'PYTHONWARNINGS': 'ignore:::pip._internal.cli.base_command', 'DEBIAN_FRONTEND': 'noninteractive', 'COLAB_BACKEND_VERSION': 'next', 'OLDPWD': '/', 'JPY_PARENT_PID': '88', 'TERM': 'xterm-color', 'CLICOLOR': '1', 'PAGER': 'cat', 'GIT_PAGER': 'cat', 'MPLBACKEND': 'module://ipykernel.pylab.backend_inline', 'ENABLE_DIRECTORYPREFETCHER': '1', 'USE_AUTH_EPHEM': '1', 'PYDEVD_USE_FRAME_EVAL': 'NO'}), 6: bytearray(b'\\n\\x148#\\x11c'), 11: 9.123, 12: {...}, 16: 'False', 18: ...}, '_dh': ['/content'], 'In': ['', 'import os\\nos.environ', 'import os.path as path\\ndef path_divide(apath):\\n  print(f\\'{apath}:{path.splittext(apath)}\\')\\n\\npath_divide(\"wada.xp\")', 'import os.path as path\\ndef path_divide(apath):\\n  print(f\\'{apath}:{path.splitext(apath)}\\')\\n\\npath_divide(\"wada.xp\")', 'print(\"True\") if id(\"String\") == id(\"String\")', 'print(\"True\") if id(\"String\") == id(\"String\") else \"False\"', 'bnums = [10, 20, 56, 35, 17, 99]\\nbvalues = bytearray(bnums)\\nbvalues', 'bnums = [10, 20, 56, 35, 17, 99]\\nbvalues = bytearray(bnums)\\nbvalues\\n# Iterate through the elements of the bytearray and print each element.\\nfor x in values:\\n    print(x)', 'bnums = [10, 20, 56, 35, 17, 99]\\nbvalues = bytearray(bnums)\\nbvalues\\n# Iterate through the elements of the bytearray and print each element.\\nfor x in bvalues:\\n    print(x)', 'bnums = [10, 20, 56, 35, 17, 99]\\nbvalues = bytearray(bnums)\\nprint(bvalues)\\n# Iterate through the elements of the bytearray and print each element.\\nfor x in bvalues:\\n    print(x)', 'afloat = 9.12314\\nafloat.round(3)', 'afloat = 9.12314\\nround(afloat,3)', 'locals()', 'print(\"True\") if isinstance(\\'__main__\\', locals().items()', 'print(\"True\") if isinstance(\\'__main__\\', locals().items() else \"False\"', 'print(\"True\") if isinstance(\\'__main__\\', locals().items()) else \"False\"', 'print(\"True\") if \\'__main__\\' in locals().items() else \"False\"', 'locals.items()', 'locals().items()', 'locals().values()'], 'Out': {1: environ({'SHELL': '/bin/bash', 'NV_LIBCUBLAS_VERSION': '12.2.5.6-1', 'NVIDIA_VISIBLE_DEVICES': 'all', 'COLAB_JUPYTER_TRANSPORT': 'ipc', 'NV_NVML_DEV_VERSION': '12.2.140-1', 'NV_CUDNN_PACKAGE_NAME': 'libcudnn8', 'CGROUP_MEMORY_EVENTS': '/sys/fs/cgroup/memory.events /var/colab/cgroup/jupyter-children/memory.events', 'NV_LIBNCCL_DEV_PACKAGE': 'libnccl-dev=2.19.3-1+cuda12.2', 'NV_LIBNCCL_DEV_PACKAGE_VERSION': '2.19.3-1', 'VM_GCE_METADATA_HOST': '169.254.169.253', 'HOSTNAME': '57645698dfef', 'LANGUAGE': 'en_US', 'TBE_RUNTIME_ADDR': '172.28.0.1:8011', 'COLAB_TPU_1VM': '', 'GCE_METADATA_TIMEOUT': '3', 'NVIDIA_REQUIRE_CUDA': 'cuda>=12.2 brand=tesla,driver>=470,driver<471 brand=unknown,driver>=470,driver<471 brand=nvidia,driver>=470,driver<471 brand=nvidiartx,driver>=470,driver<471 brand=geforce,driver>=470,driver<471 brand=geforcertx,driver>=470,driver<471 brand=quadro,driver>=470,driver<471 brand=quadrortx,driver>=470,driver<471 brand=titan,driver>=470,driver<471 brand=titanrtx,driver>=470,driver<471 brand=tesla,driver>=525,driver<526 brand=unknown,driver>=525,driver<526 brand=nvidia,driver>=525,driver<526 brand=nvidiartx,driver>=525,driver<526 brand=geforce,driver>=525,driver<526 brand=geforcertx,driver>=525,driver<526 brand=quadro,driver>=525,driver<526 brand=quadrortx,driver>=525,driver<526 brand=titan,driver>=525,driver<526 brand=titanrtx,driver>=525,driver<526', 'NV_LIBCUBLAS_DEV_PACKAGE': 'libcublas-dev-12-2=12.2.5.6-1', 'NV_NVTX_VERSION': '12.2.140-1', 'COLAB_JUPYTER_IP': '172.28.0.12', 'NV_CUDA_CUDART_DEV_VERSION': '12.2.140-1', 'NV_LIBCUSPARSE_VERSION': '12.1.2.141-1', 'COLAB_LANGUAGE_SERVER_PROXY_ROOT_URL': 'http://172.28.0.1:8013/', 'NV_LIBNPP_VERSION': '12.2.1.4-1', 'NCCL_VERSION': '2.19.3-1', 'KMP_LISTEN_PORT': '6000', 'TF_FORCE_GPU_ALLOW_GROWTH': 'true', 'ENV': '/root/.bashrc', 'PWD': '/', 'COLAB_LANGUAGE_SERVER_PROXY_REQUEST_TIMEOUT': '30s', 'TBE_EPHEM_CREDS_ADDR': '172.28.0.1:8009', 'TBE_CREDS_ADDR': '172.28.0.1:8008', 'NV_CUDNN_PACKAGE': 'libcudnn8=8.9.6.50-1+cuda12.2', 'NVIDIA_DRIVER_CAPABILITIES': 'compute,utility', 'COLAB_JUPYTER_TOKEN': '', 'LAST_FORCED_REBUILD': '20240627', 'NV_NVPROF_DEV_PACKAGE': 'cuda-nvprof-12-2=12.2.142-1', 'NV_LIBNPP_PACKAGE': 'libnpp-12-2=12.2.1.4-1', 'NV_LIBNCCL_DEV_PACKAGE_NAME': 'libnccl-dev', 'TCLLIBPATH': '/usr/share/tcltk/tcllib1.20', 'NV_LIBCUBLAS_DEV_VERSION': '12.2.5.6-1', 'NVIDIA_PRODUCT_NAME': 'CUDA', 'COLAB_KERNEL_MANAGER_PROXY_HOST': '172.28.0.12', 'NV_LIBCUBLAS_DEV_PACKAGE_NAME': 'libcublas-dev-12-2', 'NV_CUDA_CUDART_VERSION': '12.2.140-1', 'COLAB_WARMUP_DEFAULTS': '1', 'HOME': '/root', 'LANG': 'en_US.UTF-8', 'COLUMNS': '100', 'CUDA_VERSION': '12.2.2', 'CLOUDSDK_CONFIG': '/content/.config', 'NV_LIBCUBLAS_PACKAGE': 'libcublas-12-2=12.2.5.6-1', 'NV_CUDA_NSIGHT_COMPUTE_DEV_PACKAGE': 'cuda-nsight-compute-12-2=12.2.2-1', 'COLAB_RELEASE_TAG': 'release-colab_20240910-060204_RC00', 'KMP_TARGET_PORT': '9000', 'KMP_EXTRA_ARGS': '--logtostderr --listen_host=172.28.0.12 --target_host=172.28.0.12 --tunnel_background_save_url=https://colab.research.google.com/tun/m/cc48301118ce562b961b3c22d803539adc1e0c19/m-s-yysr7zal1kwx --tunnel_background_save_delay=10s --tunnel_periodic_background_save_frequency=30m0s --enable_output_coalescing=true --output_coalescing_required=true --log_code_content', 'NV_LIBNPP_DEV_PACKAGE': 'libnpp-dev-12-2=12.2.1.4-1', 'COLAB_LANGUAGE_SERVER_PROXY_LSP_DIRS': '/datalab/web/pyright/typeshed-fallback/stdlib,/usr/local/lib/python3.10/dist-packages', 'NV_LIBCUBLAS_PACKAGE_NAME': 'libcublas-12-2', 'COLAB_KERNEL_MANAGER_PROXY_PORT': '6000', 'CLOUDSDK_PYTHON': 'python3', 'NV_LIBNPP_DEV_VERSION': '12.2.1.4-1', 'NO_GCE_CHECK': 'False', 'PYTHONPATH': '/env/python', 'NV_LIBCUSPARSE_DEV_VERSION': '12.1.2.141-1', 'LIBRARY_PATH': '/usr/local/cuda/lib64/stubs', 'NV_CUDNN_VERSION': '8.9.6.50', 'SHLVL': '0', 'NV_CUDA_LIB_VERSION': '12.2.2-1', 'COLAB_LANGUAGE_SERVER_PROXY': '/usr/colab/bin/language_service', 'NVARCH': 'x86_64', 'NV_CUDNN_PACKAGE_DEV': 'libcudnn8-dev=8.9.6.50-1+cuda12.2', 'NV_CUDA_COMPAT_PACKAGE': 'cuda-compat-12-2', 'NV_LIBNCCL_PACKAGE': 'libnccl2=2.19.3-1+cuda12.2', 'LD_LIBRARY_PATH': '/usr/local/nvidia/lib:/usr/local/nvidia/lib64', 'COLAB_GPU': '', 'NV_CUDA_NSIGHT_COMPUTE_VERSION': '12.2.2-1', 'GCS_READ_CACHE_BLOCK_SIZE_MB': '16', 'NV_NVPROF_VERSION': '12.2.142-1', 'LC_ALL': 'en_US.UTF-8', 'COLAB_FILE_HANDLER_ADDR': 'localhost:3453', 'PATH': '/opt/bin:/usr/local/nvidia/bin:/usr/local/cuda/bin:/usr/local/sbin:/usr/local/bin:/usr/sbin:/usr/bin:/sbin:/bin:/tools/node/bin:/tools/google-cloud-sdk/bin', 'NV_LIBNCCL_PACKAGE_NAME': 'libnccl2', 'COLAB_DEBUG_ADAPTER_MUX_PATH': '/usr/local/bin/dap_multiplexer', 'NV_LIBNCCL_PACKAGE_VERSION': '2.19.3-1', 'PYTHONWARNINGS': 'ignore:::pip._internal.cli.base_command', 'DEBIAN_FRONTEND': 'noninteractive', 'COLAB_BACKEND_VERSION': 'next', 'OLDPWD': '/', 'JPY_PARENT_PID': '88', 'TERM': 'xterm-color', 'CLICOLOR': '1', 'PAGER': 'cat', 'GIT_PAGER': 'cat', 'MPLBACKEND': 'module://ipykernel.pylab.backend_inline', 'ENABLE_DIRECTORYPREFETCHER': '1', 'USE_AUTH_EPHEM': '1', 'PYDEVD_USE_FRAME_EVAL': 'NO'}), 6: bytearray(b'\\n\\x148#\\x11c'), 11: 9.123, 12: {...}, 16: 'False', 18: ...}, 'get_ipython': <bound method InteractiveShell.get_ipython of <google.colab._shell.Shell object at 0x7b1bb296e710>>, 'exit': <IPython.core.autocall.ZMQExitAutocall object at 0x7b1bb296dbd0>, 'quit': <IPython.core.autocall.ZMQExitAutocall object at 0x7b1bb296dbd0>, '_': ..., '__': 'False', '___': {...}, '_i': 'locals().items()', '_ii': 'locals.items()', '_iii': 'print(\"True\") if \\'__main__\\' in locals().items() else \"False\"', '_i1': 'import os\\nos.environ', 'os': <module 'os' from '/usr/lib/python3.10/os.py'>, '_1': environ({'SHELL': '/bin/bash', 'NV_LIBCUBLAS_VERSION': '12.2.5.6-1', 'NVIDIA_VISIBLE_DEVICES': 'all', 'COLAB_JUPYTER_TRANSPORT': 'ipc', 'NV_NVML_DEV_VERSION': '12.2.140-1', 'NV_CUDNN_PACKAGE_NAME': 'libcudnn8', 'CGROUP_MEMORY_EVENTS': '/sys/fs/cgroup/memory.events /var/colab/cgroup/jupyter-children/memory.events', 'NV_LIBNCCL_DEV_PACKAGE': 'libnccl-dev=2.19.3-1+cuda12.2', 'NV_LIBNCCL_DEV_PACKAGE_VERSION': '2.19.3-1', 'VM_GCE_METADATA_HOST': '169.254.169.253', 'HOSTNAME': '57645698dfef', 'LANGUAGE': 'en_US', 'TBE_RUNTIME_ADDR': '172.28.0.1:8011', 'COLAB_TPU_1VM': '', 'GCE_METADATA_TIMEOUT': '3', 'NVIDIA_REQUIRE_CUDA': 'cuda>=12.2 brand=tesla,driver>=470,driver<471 brand=unknown,driver>=470,driver<471 brand=nvidia,driver>=470,driver<471 brand=nvidiartx,driver>=470,driver<471 brand=geforce,driver>=470,driver<471 brand=geforcertx,driver>=470,driver<471 brand=quadro,driver>=470,driver<471 brand=quadrortx,driver>=470,driver<471 brand=titan,driver>=470,driver<471 brand=titanrtx,driver>=470,driver<471 brand=tesla,driver>=525,driver<526 brand=unknown,driver>=525,driver<526 brand=nvidia,driver>=525,driver<526 brand=nvidiartx,driver>=525,driver<526 brand=geforce,driver>=525,driver<526 brand=geforcertx,driver>=525,driver<526 brand=quadro,driver>=525,driver<526 brand=quadrortx,driver>=525,driver<526 brand=titan,driver>=525,driver<526 brand=titanrtx,driver>=525,driver<526', 'NV_LIBCUBLAS_DEV_PACKAGE': 'libcublas-dev-12-2=12.2.5.6-1', 'NV_NVTX_VERSION': '12.2.140-1', 'COLAB_JUPYTER_IP': '172.28.0.12', 'NV_CUDA_CUDART_DEV_VERSION': '12.2.140-1', 'NV_LIBCUSPARSE_VERSION': '12.1.2.141-1', 'COLAB_LANGUAGE_SERVER_PROXY_ROOT_URL': 'http://172.28.0.1:8013/', 'NV_LIBNPP_VERSION': '12.2.1.4-1', 'NCCL_VERSION': '2.19.3-1', 'KMP_LISTEN_PORT': '6000', 'TF_FORCE_GPU_ALLOW_GROWTH': 'true', 'ENV': '/root/.bashrc', 'PWD': '/', 'COLAB_LANGUAGE_SERVER_PROXY_REQUEST_TIMEOUT': '30s', 'TBE_EPHEM_CREDS_ADDR': '172.28.0.1:8009', 'TBE_CREDS_ADDR': '172.28.0.1:8008', 'NV_CUDNN_PACKAGE': 'libcudnn8=8.9.6.50-1+cuda12.2', 'NVIDIA_DRIVER_CAPABILITIES': 'compute,utility', 'COLAB_JUPYTER_TOKEN': '', 'LAST_FORCED_REBUILD': '20240627', 'NV_NVPROF_DEV_PACKAGE': 'cuda-nvprof-12-2=12.2.142-1', 'NV_LIBNPP_PACKAGE': 'libnpp-12-2=12.2.1.4-1', 'NV_LIBNCCL_DEV_PACKAGE_NAME': 'libnccl-dev', 'TCLLIBPATH': '/usr/share/tcltk/tcllib1.20', 'NV_LIBCUBLAS_DEV_VERSION': '12.2.5.6-1', 'NVIDIA_PRODUCT_NAME': 'CUDA', 'COLAB_KERNEL_MANAGER_PROXY_HOST': '172.28.0.12', 'NV_LIBCUBLAS_DEV_PACKAGE_NAME': 'libcublas-dev-12-2', 'NV_CUDA_CUDART_VERSION': '12.2.140-1', 'COLAB_WARMUP_DEFAULTS': '1', 'HOME': '/root', 'LANG': 'en_US.UTF-8', 'COLUMNS': '100', 'CUDA_VERSION': '12.2.2', 'CLOUDSDK_CONFIG': '/content/.config', 'NV_LIBCUBLAS_PACKAGE': 'libcublas-12-2=12.2.5.6-1', 'NV_CUDA_NSIGHT_COMPUTE_DEV_PACKAGE': 'cuda-nsight-compute-12-2=12.2.2-1', 'COLAB_RELEASE_TAG': 'release-colab_20240910-060204_RC00', 'KMP_TARGET_PORT': '9000', 'KMP_EXTRA_ARGS': '--logtostderr --listen_host=172.28.0.12 --target_host=172.28.0.12 --tunnel_background_save_url=https://colab.research.google.com/tun/m/cc48301118ce562b961b3c22d803539adc1e0c19/m-s-yysr7zal1kwx --tunnel_background_save_delay=10s --tunnel_periodic_background_save_frequency=30m0s --enable_output_coalescing=true --output_coalescing_required=true --log_code_content', 'NV_LIBNPP_DEV_PACKAGE': 'libnpp-dev-12-2=12.2.1.4-1', 'COLAB_LANGUAGE_SERVER_PROXY_LSP_DIRS': '/datalab/web/pyright/typeshed-fallback/stdlib,/usr/local/lib/python3.10/dist-packages', 'NV_LIBCUBLAS_PACKAGE_NAME': 'libcublas-12-2', 'COLAB_KERNEL_MANAGER_PROXY_PORT': '6000', 'CLOUDSDK_PYTHON': 'python3', 'NV_LIBNPP_DEV_VERSION': '12.2.1.4-1', 'NO_GCE_CHECK': 'False', 'PYTHONPATH': '/env/python', 'NV_LIBCUSPARSE_DEV_VERSION': '12.1.2.141-1', 'LIBRARY_PATH': '/usr/local/cuda/lib64/stubs', 'NV_CUDNN_VERSION': '8.9.6.50', 'SHLVL': '0', 'NV_CUDA_LIB_VERSION': '12.2.2-1', 'COLAB_LANGUAGE_SERVER_PROXY': '/usr/colab/bin/language_service', 'NVARCH': 'x86_64', 'NV_CUDNN_PACKAGE_DEV': 'libcudnn8-dev=8.9.6.50-1+cuda12.2', 'NV_CUDA_COMPAT_PACKAGE': 'cuda-compat-12-2', 'NV_LIBNCCL_PACKAGE': 'libnccl2=2.19.3-1+cuda12.2', 'LD_LIBRARY_PATH': '/usr/local/nvidia/lib:/usr/local/nvidia/lib64', 'COLAB_GPU': '', 'NV_CUDA_NSIGHT_COMPUTE_VERSION': '12.2.2-1', 'GCS_READ_CACHE_BLOCK_SIZE_MB': '16', 'NV_NVPROF_VERSION': '12.2.142-1', 'LC_ALL': 'en_US.UTF-8', 'COLAB_FILE_HANDLER_ADDR': 'localhost:3453', 'PATH': '/opt/bin:/usr/local/nvidia/bin:/usr/local/cuda/bin:/usr/local/sbin:/usr/local/bin:/usr/sbin:/usr/bin:/sbin:/bin:/tools/node/bin:/tools/google-cloud-sdk/bin', 'NV_LIBNCCL_PACKAGE_NAME': 'libnccl2', 'COLAB_DEBUG_ADAPTER_MUX_PATH': '/usr/local/bin/dap_multiplexer', 'NV_LIBNCCL_PACKAGE_VERSION': '2.19.3-1', 'PYTHONWARNINGS': 'ignore:::pip._internal.cli.base_command', 'DEBIAN_FRONTEND': 'noninteractive', 'COLAB_BACKEND_VERSION': 'next', 'OLDPWD': '/', 'JPY_PARENT_PID': '88', 'TERM': 'xterm-color', 'CLICOLOR': '1', 'PAGER': 'cat', 'GIT_PAGER': 'cat', 'MPLBACKEND': 'module://ipykernel.pylab.backend_inline', 'ENABLE_DIRECTORYPREFETCHER': '1', 'USE_AUTH_EPHEM': '1', 'PYDEVD_USE_FRAME_EVAL': 'NO'}), '_i2': 'import os.path as path\\ndef path_divide(apath):\\n  print(f\\'{apath}:{path.splittext(apath)}\\')\\n\\npath_divide(\"wada.xp\")', 'path': <module 'posixpath' from '/usr/lib/python3.10/posixpath.py'>, 'path_divide': <function path_divide at 0x7b1ba03a5fc0>, '_i3': 'import os.path as path\\ndef path_divide(apath):\\n  print(f\\'{apath}:{path.splitext(apath)}\\')\\n\\npath_divide(\"wada.xp\")', '_i4': 'print(\"True\") if id(\"String\") == id(\"String\")', '_i5': 'print(\"True\") if id(\"String\") == id(\"String\") else \"False\"', '_i6': 'bnums = [10, 20, 56, 35, 17, 99]\\nbvalues = bytearray(bnums)\\nbvalues', 'bnums': [10, 20, 56, 35, 17, 99], 'bvalues': bytearray(b'\\n\\x148#\\x11c'), '_6': bytearray(b'\\n\\x148#\\x11c'), '_i7': 'bnums = [10, 20, 56, 35, 17, 99]\\nbvalues = bytearray(bnums)\\nbvalues\\n# Iterate through the elements of the bytearray and print each element.\\nfor x in values:\\n    print(x)', '_i8': 'bnums = [10, 20, 56, 35, 17, 99]\\nbvalues = bytearray(bnums)\\nbvalues\\n# Iterate through the elements of the bytearray and print each element.\\nfor x in bvalues:\\n    print(x)', 'x': 99, '_i9': 'bnums = [10, 20, 56, 35, 17, 99]\\nbvalues = bytearray(bnums)\\nprint(bvalues)\\n# Iterate through the elements of the bytearray and print each element.\\nfor x in bvalues:\\n    print(x)', '_i10': 'afloat = 9.12314\\nafloat.round(3)', 'afloat': 9.12314, '_i11': 'afloat = 9.12314\\nround(afloat,3)', '_11': 9.123, '_i12': 'locals()', '_12': {...}, '_i13': 'print(\"True\") if isinstance(\\'__main__\\', locals().items()', '_i14': 'print(\"True\") if isinstance(\\'__main__\\', locals().items() else \"False\"', '_i15': 'print(\"True\") if isinstance(\\'__main__\\', locals().items()) else \"False\"', '_i16': 'print(\"True\") if \\'__main__\\' in locals().items() else \"False\"', '_16': 'False', '_i17': 'locals.items()', '_i18': 'locals().items()', '_18': ..., '_i19': 'locals().values()'}), ('_i13', 'print(\"True\") if isinstance(\\'__main__\\', locals().items()'), ('_i14', 'print(\"True\") if isinstance(\\'__main__\\', locals().items() else \"False\"'), ('_i15', 'print(\"True\") if isinstance(\\'__main__\\', locals().items()) else \"False\"'), ('_i16', 'print(\"True\") if \\'__main__\\' in locals().items() else \"False\"'), ('_16', 'False'), ('_i17', 'locals.items()'), ('_i18', 'locals().items()'), ('_18', ...), ('_i19', 'locals().values()')]), 'False', {'__name__': '__main__', '__doc__': 'Automatically created module for IPython interactive environment', '__package__': None, '__loader__': None, '__spec__': None, '__builtin__': <module 'builtins' (built-in)>, '__builtins__': <module 'builtins' (built-in)>, '_ih': ['', 'import os\\nos.environ', 'import os.path as path\\ndef path_divide(apath):\\n  print(f\\'{apath}:{path.splittext(apath)}\\')\\n\\npath_divide(\"wada.xp\")', 'import os.path as path\\ndef path_divide(apath):\\n  print(f\\'{apath}:{path.splitext(apath)}\\')\\n\\npath_divide(\"wada.xp\")', 'print(\"True\") if id(\"String\") == id(\"String\")', 'print(\"True\") if id(\"String\") == id(\"String\") else \"False\"', 'bnums = [10, 20, 56, 35, 17, 99]\\nbvalues = bytearray(bnums)\\nbvalues', 'bnums = [10, 20, 56, 35, 17, 99]\\nbvalues = bytearray(bnums)\\nbvalues\\n# Iterate through the elements of the bytearray and print each element.\\nfor x in values:\\n    print(x)', 'bnums = [10, 20, 56, 35, 17, 99]\\nbvalues = bytearray(bnums)\\nbvalues\\n# Iterate through the elements of the bytearray and print each element.\\nfor x in bvalues:\\n    print(x)', 'bnums = [10, 20, 56, 35, 17, 99]\\nbvalues = bytearray(bnums)\\nprint(bvalues)\\n# Iterate through the elements of the bytearray and print each element.\\nfor x in bvalues:\\n    print(x)', 'afloat = 9.12314\\nafloat.round(3)', 'afloat = 9.12314\\nround(afloat,3)', 'locals()', 'print(\"True\") if isinstance(\\'__main__\\', locals().items()', 'print(\"True\") if isinstance(\\'__main__\\', locals().items() else \"False\"', 'print(\"True\") if isinstance(\\'__main__\\', locals().items()) else \"False\"', 'print(\"True\") if \\'__main__\\' in locals().items() else \"False\"', 'locals.items()', 'locals().items()', 'locals().values()'], '_oh': {1: environ({'SHELL': '/bin/bash', 'NV_LIBCUBLAS_VERSION': '12.2.5.6-1', 'NVIDIA_VISIBLE_DEVICES': 'all', 'COLAB_JUPYTER_TRANSPORT': 'ipc', 'NV_NVML_DEV_VERSION': '12.2.140-1', 'NV_CUDNN_PACKAGE_NAME': 'libcudnn8', 'CGROUP_MEMORY_EVENTS': '/sys/fs/cgroup/memory.events /var/colab/cgroup/jupyter-children/memory.events', 'NV_LIBNCCL_DEV_PACKAGE': 'libnccl-dev=2.19.3-1+cuda12.2', 'NV_LIBNCCL_DEV_PACKAGE_VERSION': '2.19.3-1', 'VM_GCE_METADATA_HOST': '169.254.169.253', 'HOSTNAME': '57645698dfef', 'LANGUAGE': 'en_US', 'TBE_RUNTIME_ADDR': '172.28.0.1:8011', 'COLAB_TPU_1VM': '', 'GCE_METADATA_TIMEOUT': '3', 'NVIDIA_REQUIRE_CUDA': 'cuda>=12.2 brand=tesla,driver>=470,driver<471 brand=unknown,driver>=470,driver<471 brand=nvidia,driver>=470,driver<471 brand=nvidiartx,driver>=470,driver<471 brand=geforce,driver>=470,driver<471 brand=geforcertx,driver>=470,driver<471 brand=quadro,driver>=470,driver<471 brand=quadrortx,driver>=470,driver<471 brand=titan,driver>=470,driver<471 brand=titanrtx,driver>=470,driver<471 brand=tesla,driver>=525,driver<526 brand=unknown,driver>=525,driver<526 brand=nvidia,driver>=525,driver<526 brand=nvidiartx,driver>=525,driver<526 brand=geforce,driver>=525,driver<526 brand=geforcertx,driver>=525,driver<526 brand=quadro,driver>=525,driver<526 brand=quadrortx,driver>=525,driver<526 brand=titan,driver>=525,driver<526 brand=titanrtx,driver>=525,driver<526', 'NV_LIBCUBLAS_DEV_PACKAGE': 'libcublas-dev-12-2=12.2.5.6-1', 'NV_NVTX_VERSION': '12.2.140-1', 'COLAB_JUPYTER_IP': '172.28.0.12', 'NV_CUDA_CUDART_DEV_VERSION': '12.2.140-1', 'NV_LIBCUSPARSE_VERSION': '12.1.2.141-1', 'COLAB_LANGUAGE_SERVER_PROXY_ROOT_URL': 'http://172.28.0.1:8013/', 'NV_LIBNPP_VERSION': '12.2.1.4-1', 'NCCL_VERSION': '2.19.3-1', 'KMP_LISTEN_PORT': '6000', 'TF_FORCE_GPU_ALLOW_GROWTH': 'true', 'ENV': '/root/.bashrc', 'PWD': '/', 'COLAB_LANGUAGE_SERVER_PROXY_REQUEST_TIMEOUT': '30s', 'TBE_EPHEM_CREDS_ADDR': '172.28.0.1:8009', 'TBE_CREDS_ADDR': '172.28.0.1:8008', 'NV_CUDNN_PACKAGE': 'libcudnn8=8.9.6.50-1+cuda12.2', 'NVIDIA_DRIVER_CAPABILITIES': 'compute,utility', 'COLAB_JUPYTER_TOKEN': '', 'LAST_FORCED_REBUILD': '20240627', 'NV_NVPROF_DEV_PACKAGE': 'cuda-nvprof-12-2=12.2.142-1', 'NV_LIBNPP_PACKAGE': 'libnpp-12-2=12.2.1.4-1', 'NV_LIBNCCL_DEV_PACKAGE_NAME': 'libnccl-dev', 'TCLLIBPATH': '/usr/share/tcltk/tcllib1.20', 'NV_LIBCUBLAS_DEV_VERSION': '12.2.5.6-1', 'NVIDIA_PRODUCT_NAME': 'CUDA', 'COLAB_KERNEL_MANAGER_PROXY_HOST': '172.28.0.12', 'NV_LIBCUBLAS_DEV_PACKAGE_NAME': 'libcublas-dev-12-2', 'NV_CUDA_CUDART_VERSION': '12.2.140-1', 'COLAB_WARMUP_DEFAULTS': '1', 'HOME': '/root', 'LANG': 'en_US.UTF-8', 'COLUMNS': '100', 'CUDA_VERSION': '12.2.2', 'CLOUDSDK_CONFIG': '/content/.config', 'NV_LIBCUBLAS_PACKAGE': 'libcublas-12-2=12.2.5.6-1', 'NV_CUDA_NSIGHT_COMPUTE_DEV_PACKAGE': 'cuda-nsight-compute-12-2=12.2.2-1', 'COLAB_RELEASE_TAG': 'release-colab_20240910-060204_RC00', 'KMP_TARGET_PORT': '9000', 'KMP_EXTRA_ARGS': '--logtostderr --listen_host=172.28.0.12 --target_host=172.28.0.12 --tunnel_background_save_url=https://colab.research.google.com/tun/m/cc48301118ce562b961b3c22d803539adc1e0c19/m-s-yysr7zal1kwx --tunnel_background_save_delay=10s --tunnel_periodic_background_save_frequency=30m0s --enable_output_coalescing=true --output_coalescing_required=true --log_code_content', 'NV_LIBNPP_DEV_PACKAGE': 'libnpp-dev-12-2=12.2.1.4-1', 'COLAB_LANGUAGE_SERVER_PROXY_LSP_DIRS': '/datalab/web/pyright/typeshed-fallback/stdlib,/usr/local/lib/python3.10/dist-packages', 'NV_LIBCUBLAS_PACKAGE_NAME': 'libcublas-12-2', 'COLAB_KERNEL_MANAGER_PROXY_PORT': '6000', 'CLOUDSDK_PYTHON': 'python3', 'NV_LIBNPP_DEV_VERSION': '12.2.1.4-1', 'NO_GCE_CHECK': 'False', 'PYTHONPATH': '/env/python', 'NV_LIBCUSPARSE_DEV_VERSION': '12.1.2.141-1', 'LIBRARY_PATH': '/usr/local/cuda/lib64/stubs', 'NV_CUDNN_VERSION': '8.9.6.50', 'SHLVL': '0', 'NV_CUDA_LIB_VERSION': '12.2.2-1', 'COLAB_LANGUAGE_SERVER_PROXY': '/usr/colab/bin/language_service', 'NVARCH': 'x86_64', 'NV_CUDNN_PACKAGE_DEV': 'libcudnn8-dev=8.9.6.50-1+cuda12.2', 'NV_CUDA_COMPAT_PACKAGE': 'cuda-compat-12-2', 'NV_LIBNCCL_PACKAGE': 'libnccl2=2.19.3-1+cuda12.2', 'LD_LIBRARY_PATH': '/usr/local/nvidia/lib:/usr/local/nvidia/lib64', 'COLAB_GPU': '', 'NV_CUDA_NSIGHT_COMPUTE_VERSION': '12.2.2-1', 'GCS_READ_CACHE_BLOCK_SIZE_MB': '16', 'NV_NVPROF_VERSION': '12.2.142-1', 'LC_ALL': 'en_US.UTF-8', 'COLAB_FILE_HANDLER_ADDR': 'localhost:3453', 'PATH': '/opt/bin:/usr/local/nvidia/bin:/usr/local/cuda/bin:/usr/local/sbin:/usr/local/bin:/usr/sbin:/usr/bin:/sbin:/bin:/tools/node/bin:/tools/google-cloud-sdk/bin', 'NV_LIBNCCL_PACKAGE_NAME': 'libnccl2', 'COLAB_DEBUG_ADAPTER_MUX_PATH': '/usr/local/bin/dap_multiplexer', 'NV_LIBNCCL_PACKAGE_VERSION': '2.19.3-1', 'PYTHONWARNINGS': 'ignore:::pip._internal.cli.base_command', 'DEBIAN_FRONTEND': 'noninteractive', 'COLAB_BACKEND_VERSION': 'next', 'OLDPWD': '/', 'JPY_PARENT_PID': '88', 'TERM': 'xterm-color', 'CLICOLOR': '1', 'PAGER': 'cat', 'GIT_PAGER': 'cat', 'MPLBACKEND': 'module://ipykernel.pylab.backend_inline', 'ENABLE_DIRECTORYPREFETCHER': '1', 'USE_AUTH_EPHEM': '1', 'PYDEVD_USE_FRAME_EVAL': 'NO'}), 6: bytearray(b'\\n\\x148#\\x11c'), 11: 9.123, 12: {...}, 16: 'False', 18: dict_items([('__name__', '__main__'), ('__doc__', 'Automatically created module for IPython interactive environment'), ('__package__', None), ('__loader__', None), ('__spec__', None), ('__builtin__', <module 'builtins' (built-in)>), ('__builtins__', <module 'builtins' (built-in)>), ('_ih', ['', 'import os\\nos.environ', 'import os.path as path\\ndef path_divide(apath):\\n  print(f\\'{apath}:{path.splittext(apath)}\\')\\n\\npath_divide(\"wada.xp\")', 'import os.path as path\\ndef path_divide(apath):\\n  print(f\\'{apath}:{path.splitext(apath)}\\')\\n\\npath_divide(\"wada.xp\")', 'print(\"True\") if id(\"String\") == id(\"String\")', 'print(\"True\") if id(\"String\") == id(\"String\") else \"False\"', 'bnums = [10, 20, 56, 35, 17, 99]\\nbvalues = bytearray(bnums)\\nbvalues', 'bnums = [10, 20, 56, 35, 17, 99]\\nbvalues = bytearray(bnums)\\nbvalues\\n# Iterate through the elements of the bytearray and print each element.\\nfor x in values:\\n    print(x)', 'bnums = [10, 20, 56, 35, 17, 99]\\nbvalues = bytearray(bnums)\\nbvalues\\n# Iterate through the elements of the bytearray and print each element.\\nfor x in bvalues:\\n    print(x)', 'bnums = [10, 20, 56, 35, 17, 99]\\nbvalues = bytearray(bnums)\\nprint(bvalues)\\n# Iterate through the elements of the bytearray and print each element.\\nfor x in bvalues:\\n    print(x)', 'afloat = 9.12314\\nafloat.round(3)', 'afloat = 9.12314\\nround(afloat,3)', 'locals()', 'print(\"True\") if isinstance(\\'__main__\\', locals().items()', 'print(\"True\") if isinstance(\\'__main__\\', locals().items() else \"False\"', 'print(\"True\") if isinstance(\\'__main__\\', locals().items()) else \"False\"', 'print(\"True\") if \\'__main__\\' in locals().items() else \"False\"', 'locals.items()', 'locals().items()', 'locals().values()']), ('_oh', {...}), ('_dh', ['/content']), ('In', ['', 'import os\\nos.environ', 'import os.path as path\\ndef path_divide(apath):\\n  print(f\\'{apath}:{path.splittext(apath)}\\')\\n\\npath_divide(\"wada.xp\")', 'import os.path as path\\ndef path_divide(apath):\\n  print(f\\'{apath}:{path.splitext(apath)}\\')\\n\\npath_divide(\"wada.xp\")', 'print(\"True\") if id(\"String\") == id(\"String\")', 'print(\"True\") if id(\"String\") == id(\"String\") else \"False\"', 'bnums = [10, 20, 56, 35, 17, 99]\\nbvalues = bytearray(bnums)\\nbvalues', 'bnums = [10, 20, 56, 35, 17, 99]\\nbvalues = bytearray(bnums)\\nbvalues\\n# Iterate through the elements of the bytearray and print each element.\\nfor x in values:\\n    print(x)', 'bnums = [10, 20, 56, 35, 17, 99]\\nbvalues = bytearray(bnums)\\nbvalues\\n# Iterate through the elements of the bytearray and print each element.\\nfor x in bvalues:\\n    print(x)', 'bnums = [10, 20, 56, 35, 17, 99]\\nbvalues = bytearray(bnums)\\nprint(bvalues)\\n# Iterate through the elements of the bytearray and print each element.\\nfor x in bvalues:\\n    print(x)', 'afloat = 9.12314\\nafloat.round(3)', 'afloat = 9.12314\\nround(afloat,3)', 'locals()', 'print(\"True\") if isinstance(\\'__main__\\', locals().items()', 'print(\"True\") if isinstance(\\'__main__\\', locals().items() else \"False\"', 'print(\"True\") if isinstance(\\'__main__\\', locals().items()) else \"False\"', 'print(\"True\") if \\'__main__\\' in locals().items() else \"False\"', 'locals.items()', 'locals().items()', 'locals().values()']), ('Out', {...}), ('get_ipython', <bound method InteractiveShell.get_ipython of <google.colab._shell.Shell object at 0x7b1bb296e710>>), ('exit', <IPython.core.autocall.ZMQExitAutocall object at 0x7b1bb296dbd0>), ('quit', <IPython.core.autocall.ZMQExitAutocall object at 0x7b1bb296dbd0>), ('_', ...), ('__', 'False'), ('___', {...}), ('_i', 'locals().items()'), ('_ii', 'locals.items()'), ('_iii', 'print(\"True\") if \\'__main__\\' in locals().items() else \"False\"'), ('_i1', 'import os\\nos.environ'), ('os', <module 'os' from '/usr/lib/python3.10/os.py'>), ('_1', environ({'SHELL': '/bin/bash', 'NV_LIBCUBLAS_VERSION': '12.2.5.6-1', 'NVIDIA_VISIBLE_DEVICES': 'all', 'COLAB_JUPYTER_TRANSPORT': 'ipc', 'NV_NVML_DEV_VERSION': '12.2.140-1', 'NV_CUDNN_PACKAGE_NAME': 'libcudnn8', 'CGROUP_MEMORY_EVENTS': '/sys/fs/cgroup/memory.events /var/colab/cgroup/jupyter-children/memory.events', 'NV_LIBNCCL_DEV_PACKAGE': 'libnccl-dev=2.19.3-1+cuda12.2', 'NV_LIBNCCL_DEV_PACKAGE_VERSION': '2.19.3-1', 'VM_GCE_METADATA_HOST': '169.254.169.253', 'HOSTNAME': '57645698dfef', 'LANGUAGE': 'en_US', 'TBE_RUNTIME_ADDR': '172.28.0.1:8011', 'COLAB_TPU_1VM': '', 'GCE_METADATA_TIMEOUT': '3', 'NVIDIA_REQUIRE_CUDA': 'cuda>=12.2 brand=tesla,driver>=470,driver<471 brand=unknown,driver>=470,driver<471 brand=nvidia,driver>=470,driver<471 brand=nvidiartx,driver>=470,driver<471 brand=geforce,driver>=470,driver<471 brand=geforcertx,driver>=470,driver<471 brand=quadro,driver>=470,driver<471 brand=quadrortx,driver>=470,driver<471 brand=titan,driver>=470,driver<471 brand=titanrtx,driver>=470,driver<471 brand=tesla,driver>=525,driver<526 brand=unknown,driver>=525,driver<526 brand=nvidia,driver>=525,driver<526 brand=nvidiartx,driver>=525,driver<526 brand=geforce,driver>=525,driver<526 brand=geforcertx,driver>=525,driver<526 brand=quadro,driver>=525,driver<526 brand=quadrortx,driver>=525,driver<526 brand=titan,driver>=525,driver<526 brand=titanrtx,driver>=525,driver<526', 'NV_LIBCUBLAS_DEV_PACKAGE': 'libcublas-dev-12-2=12.2.5.6-1', 'NV_NVTX_VERSION': '12.2.140-1', 'COLAB_JUPYTER_IP': '172.28.0.12', 'NV_CUDA_CUDART_DEV_VERSION': '12.2.140-1', 'NV_LIBCUSPARSE_VERSION': '12.1.2.141-1', 'COLAB_LANGUAGE_SERVER_PROXY_ROOT_URL': 'http://172.28.0.1:8013/', 'NV_LIBNPP_VERSION': '12.2.1.4-1', 'NCCL_VERSION': '2.19.3-1', 'KMP_LISTEN_PORT': '6000', 'TF_FORCE_GPU_ALLOW_GROWTH': 'true', 'ENV': '/root/.bashrc', 'PWD': '/', 'COLAB_LANGUAGE_SERVER_PROXY_REQUEST_TIMEOUT': '30s', 'TBE_EPHEM_CREDS_ADDR': '172.28.0.1:8009', 'TBE_CREDS_ADDR': '172.28.0.1:8008', 'NV_CUDNN_PACKAGE': 'libcudnn8=8.9.6.50-1+cuda12.2', 'NVIDIA_DRIVER_CAPABILITIES': 'compute,utility', 'COLAB_JUPYTER_TOKEN': '', 'LAST_FORCED_REBUILD': '20240627', 'NV_NVPROF_DEV_PACKAGE': 'cuda-nvprof-12-2=12.2.142-1', 'NV_LIBNPP_PACKAGE': 'libnpp-12-2=12.2.1.4-1', 'NV_LIBNCCL_DEV_PACKAGE_NAME': 'libnccl-dev', 'TCLLIBPATH': '/usr/share/tcltk/tcllib1.20', 'NV_LIBCUBLAS_DEV_VERSION': '12.2.5.6-1', 'NVIDIA_PRODUCT_NAME': 'CUDA', 'COLAB_KERNEL_MANAGER_PROXY_HOST': '172.28.0.12', 'NV_LIBCUBLAS_DEV_PACKAGE_NAME': 'libcublas-dev-12-2', 'NV_CUDA_CUDART_VERSION': '12.2.140-1', 'COLAB_WARMUP_DEFAULTS': '1', 'HOME': '/root', 'LANG': 'en_US.UTF-8', 'COLUMNS': '100', 'CUDA_VERSION': '12.2.2', 'CLOUDSDK_CONFIG': '/content/.config', 'NV_LIBCUBLAS_PACKAGE': 'libcublas-12-2=12.2.5.6-1', 'NV_CUDA_NSIGHT_COMPUTE_DEV_PACKAGE': 'cuda-nsight-compute-12-2=12.2.2-1', 'COLAB_RELEASE_TAG': 'release-colab_20240910-060204_RC00', 'KMP_TARGET_PORT': '9000', 'KMP_EXTRA_ARGS': '--logtostderr --listen_host=172.28.0.12 --target_host=172.28.0.12 --tunnel_background_save_url=https://colab.research.google.com/tun/m/cc48301118ce562b961b3c22d803539adc1e0c19/m-s-yysr7zal1kwx --tunnel_background_save_delay=10s --tunnel_periodic_background_save_frequency=30m0s --enable_output_coalescing=true --output_coalescing_required=true --log_code_content', 'NV_LIBNPP_DEV_PACKAGE': 'libnpp-dev-12-2=12.2.1.4-1', 'COLAB_LANGUAGE_SERVER_PROXY_LSP_DIRS': '/datalab/web/pyright/typeshed-fallback/stdlib,/usr/local/lib/python3.10/dist-packages', 'NV_LIBCUBLAS_PACKAGE_NAME': 'libcublas-12-2', 'COLAB_KERNEL_MANAGER_PROXY_PORT': '6000', 'CLOUDSDK_PYTHON': 'python3', 'NV_LIBNPP_DEV_VERSION': '12.2.1.4-1', 'NO_GCE_CHECK': 'False', 'PYTHONPATH': '/env/python', 'NV_LIBCUSPARSE_DEV_VERSION': '12.1.2.141-1', 'LIBRARY_PATH': '/usr/local/cuda/lib64/stubs', 'NV_CUDNN_VERSION': '8.9.6.50', 'SHLVL': '0', 'NV_CUDA_LIB_VERSION': '12.2.2-1', 'COLAB_LANGUAGE_SERVER_PROXY': '/usr/colab/bin/language_service', 'NVARCH': 'x86_64', 'NV_CUDNN_PACKAGE_DEV': 'libcudnn8-dev=8.9.6.50-1+cuda12.2', 'NV_CUDA_COMPAT_PACKAGE': 'cuda-compat-12-2', 'NV_LIBNCCL_PACKAGE': 'libnccl2=2.19.3-1+cuda12.2', 'LD_LIBRARY_PATH': '/usr/local/nvidia/lib:/usr/local/nvidia/lib64', 'COLAB_GPU': '', 'NV_CUDA_NSIGHT_COMPUTE_VERSION': '12.2.2-1', 'GCS_READ_CACHE_BLOCK_SIZE_MB': '16', 'NV_NVPROF_VERSION': '12.2.142-1', 'LC_ALL': 'en_US.UTF-8', 'COLAB_FILE_HANDLER_ADDR': 'localhost:3453', 'PATH': '/opt/bin:/usr/local/nvidia/bin:/usr/local/cuda/bin:/usr/local/sbin:/usr/local/bin:/usr/sbin:/usr/bin:/sbin:/bin:/tools/node/bin:/tools/google-cloud-sdk/bin', 'NV_LIBNCCL_PACKAGE_NAME': 'libnccl2', 'COLAB_DEBUG_ADAPTER_MUX_PATH': '/usr/local/bin/dap_multiplexer', 'NV_LIBNCCL_PACKAGE_VERSION': '2.19.3-1', 'PYTHONWARNINGS': 'ignore:::pip._internal.cli.base_command', 'DEBIAN_FRONTEND': 'noninteractive', 'COLAB_BACKEND_VERSION': 'next', 'OLDPWD': '/', 'JPY_PARENT_PID': '88', 'TERM': 'xterm-color', 'CLICOLOR': '1', 'PAGER': 'cat', 'GIT_PAGER': 'cat', 'MPLBACKEND': 'module://ipykernel.pylab.backend_inline', 'ENABLE_DIRECTORYPREFETCHER': '1', 'USE_AUTH_EPHEM': '1', 'PYDEVD_USE_FRAME_EVAL': 'NO'})), ('_i2', 'import os.path as path\\ndef path_divide(apath):\\n  print(f\\'{apath}:{path.splittext(apath)}\\')\\n\\npath_divide(\"wada.xp\")'), ('path', <module 'posixpath' from '/usr/lib/python3.10/posixpath.py'>), ('path_divide', <function path_divide at 0x7b1ba03a5fc0>), ('_i3', 'import os.path as path\\ndef path_divide(apath):\\n  print(f\\'{apath}:{path.splitext(apath)}\\')\\n\\npath_divide(\"wada.xp\")'), ('_i4', 'print(\"True\") if id(\"String\") == id(\"String\")'), ('_i5', 'print(\"True\") if id(\"String\") == id(\"String\") else \"False\"'), ('_i6', 'bnums = [10, 20, 56, 35, 17, 99]\\nbvalues = bytearray(bnums)\\nbvalues'), ('bnums', [10, 20, 56, 35, 17, 99]), ('bvalues', bytearray(b'\\n\\x148#\\x11c')), ('_6', bytearray(b'\\n\\x148#\\x11c')), ('_i7', 'bnums = [10, 20, 56, 35, 17, 99]\\nbvalues = bytearray(bnums)\\nbvalues\\n# Iterate through the elements of the bytearray and print each element.\\nfor x in values:\\n    print(x)'), ('_i8', 'bnums = [10, 20, 56, 35, 17, 99]\\nbvalues = bytearray(bnums)\\nbvalues\\n# Iterate through the elements of the bytearray and print each element.\\nfor x in bvalues:\\n    print(x)'), ('x', 99), ('_i9', 'bnums = [10, 20, 56, 35, 17, 99]\\nbvalues = bytearray(bnums)\\nprint(bvalues)\\n# Iterate through the elements of the bytearray and print each element.\\nfor x in bvalues:\\n    print(x)'), ('_i10', 'afloat = 9.12314\\nafloat.round(3)'), ('afloat', 9.12314), ('_i11', 'afloat = 9.12314\\nround(afloat,3)'), ('_11', 9.123), ('_i12', 'locals()'), ('_12', {...}), ('_i13', 'print(\"True\") if isinstance(\\'__main__\\', locals().items()'), ('_i14', 'print(\"True\") if isinstance(\\'__main__\\', locals().items() else \"False\"'), ('_i15', 'print(\"True\") if isinstance(\\'__main__\\', locals().items()) else \"False\"'), ('_i16', 'print(\"True\") if \\'__main__\\' in locals().items() else \"False\"'), ('_16', 'False'), ('_i17', 'locals.items()'), ('_i18', 'locals().items()'), ('_18', ...), ('_i19', 'locals().values()')])}, '_dh': ['/content'], 'In': ['', 'import os\\nos.environ', 'import os.path as path\\ndef path_divide(apath):\\n  print(f\\'{apath}:{path.splittext(apath)}\\')\\n\\npath_divide(\"wada.xp\")', 'import os.path as path\\ndef path_divide(apath):\\n  print(f\\'{apath}:{path.splitext(apath)}\\')\\n\\npath_divide(\"wada.xp\")', 'print(\"True\") if id(\"String\") == id(\"String\")', 'print(\"True\") if id(\"String\") == id(\"String\") else \"False\"', 'bnums = [10, 20, 56, 35, 17, 99]\\nbvalues = bytearray(bnums)\\nbvalues', 'bnums = [10, 20, 56, 35, 17, 99]\\nbvalues = bytearray(bnums)\\nbvalues\\n# Iterate through the elements of the bytearray and print each element.\\nfor x in values:\\n    print(x)', 'bnums = [10, 20, 56, 35, 17, 99]\\nbvalues = bytearray(bnums)\\nbvalues\\n# Iterate through the elements of the bytearray and print each element.\\nfor x in bvalues:\\n    print(x)', 'bnums = [10, 20, 56, 35, 17, 99]\\nbvalues = bytearray(bnums)\\nprint(bvalues)\\n# Iterate through the elements of the bytearray and print each element.\\nfor x in bvalues:\\n    print(x)', 'afloat = 9.12314\\nafloat.round(3)', 'afloat = 9.12314\\nround(afloat,3)', 'locals()', 'print(\"True\") if isinstance(\\'__main__\\', locals().items()', 'print(\"True\") if isinstance(\\'__main__\\', locals().items() else \"False\"', 'print(\"True\") if isinstance(\\'__main__\\', locals().items()) else \"False\"', 'print(\"True\") if \\'__main__\\' in locals().items() else \"False\"', 'locals.items()', 'locals().items()', 'locals().values()'], 'Out': {1: environ({'SHELL': '/bin/bash', 'NV_LIBCUBLAS_VERSION': '12.2.5.6-1', 'NVIDIA_VISIBLE_DEVICES': 'all', 'COLAB_JUPYTER_TRANSPORT': 'ipc', 'NV_NVML_DEV_VERSION': '12.2.140-1', 'NV_CUDNN_PACKAGE_NAME': 'libcudnn8', 'CGROUP_MEMORY_EVENTS': '/sys/fs/cgroup/memory.events /var/colab/cgroup/jupyter-children/memory.events', 'NV_LIBNCCL_DEV_PACKAGE': 'libnccl-dev=2.19.3-1+cuda12.2', 'NV_LIBNCCL_DEV_PACKAGE_VERSION': '2.19.3-1', 'VM_GCE_METADATA_HOST': '169.254.169.253', 'HOSTNAME': '57645698dfef', 'LANGUAGE': 'en_US', 'TBE_RUNTIME_ADDR': '172.28.0.1:8011', 'COLAB_TPU_1VM': '', 'GCE_METADATA_TIMEOUT': '3', 'NVIDIA_REQUIRE_CUDA': 'cuda>=12.2 brand=tesla,driver>=470,driver<471 brand=unknown,driver>=470,driver<471 brand=nvidia,driver>=470,driver<471 brand=nvidiartx,driver>=470,driver<471 brand=geforce,driver>=470,driver<471 brand=geforcertx,driver>=470,driver<471 brand=quadro,driver>=470,driver<471 brand=quadrortx,driver>=470,driver<471 brand=titan,driver>=470,driver<471 brand=titanrtx,driver>=470,driver<471 brand=tesla,driver>=525,driver<526 brand=unknown,driver>=525,driver<526 brand=nvidia,driver>=525,driver<526 brand=nvidiartx,driver>=525,driver<526 brand=geforce,driver>=525,driver<526 brand=geforcertx,driver>=525,driver<526 brand=quadro,driver>=525,driver<526 brand=quadrortx,driver>=525,driver<526 brand=titan,driver>=525,driver<526 brand=titanrtx,driver>=525,driver<526', 'NV_LIBCUBLAS_DEV_PACKAGE': 'libcublas-dev-12-2=12.2.5.6-1', 'NV_NVTX_VERSION': '12.2.140-1', 'COLAB_JUPYTER_IP': '172.28.0.12', 'NV_CUDA_CUDART_DEV_VERSION': '12.2.140-1', 'NV_LIBCUSPARSE_VERSION': '12.1.2.141-1', 'COLAB_LANGUAGE_SERVER_PROXY_ROOT_URL': 'http://172.28.0.1:8013/', 'NV_LIBNPP_VERSION': '12.2.1.4-1', 'NCCL_VERSION': '2.19.3-1', 'KMP_LISTEN_PORT': '6000', 'TF_FORCE_GPU_ALLOW_GROWTH': 'true', 'ENV': '/root/.bashrc', 'PWD': '/', 'COLAB_LANGUAGE_SERVER_PROXY_REQUEST_TIMEOUT': '30s', 'TBE_EPHEM_CREDS_ADDR': '172.28.0.1:8009', 'TBE_CREDS_ADDR': '172.28.0.1:8008', 'NV_CUDNN_PACKAGE': 'libcudnn8=8.9.6.50-1+cuda12.2', 'NVIDIA_DRIVER_CAPABILITIES': 'compute,utility', 'COLAB_JUPYTER_TOKEN': '', 'LAST_FORCED_REBUILD': '20240627', 'NV_NVPROF_DEV_PACKAGE': 'cuda-nvprof-12-2=12.2.142-1', 'NV_LIBNPP_PACKAGE': 'libnpp-12-2=12.2.1.4-1', 'NV_LIBNCCL_DEV_PACKAGE_NAME': 'libnccl-dev', 'TCLLIBPATH': '/usr/share/tcltk/tcllib1.20', 'NV_LIBCUBLAS_DEV_VERSION': '12.2.5.6-1', 'NVIDIA_PRODUCT_NAME': 'CUDA', 'COLAB_KERNEL_MANAGER_PROXY_HOST': '172.28.0.12', 'NV_LIBCUBLAS_DEV_PACKAGE_NAME': 'libcublas-dev-12-2', 'NV_CUDA_CUDART_VERSION': '12.2.140-1', 'COLAB_WARMUP_DEFAULTS': '1', 'HOME': '/root', 'LANG': 'en_US.UTF-8', 'COLUMNS': '100', 'CUDA_VERSION': '12.2.2', 'CLOUDSDK_CONFIG': '/content/.config', 'NV_LIBCUBLAS_PACKAGE': 'libcublas-12-2=12.2.5.6-1', 'NV_CUDA_NSIGHT_COMPUTE_DEV_PACKAGE': 'cuda-nsight-compute-12-2=12.2.2-1', 'COLAB_RELEASE_TAG': 'release-colab_20240910-060204_RC00', 'KMP_TARGET_PORT': '9000', 'KMP_EXTRA_ARGS': '--logtostderr --listen_host=172.28.0.12 --target_host=172.28.0.12 --tunnel_background_save_url=https://colab.research.google.com/tun/m/cc48301118ce562b961b3c22d803539adc1e0c19/m-s-yysr7zal1kwx --tunnel_background_save_delay=10s --tunnel_periodic_background_save_frequency=30m0s --enable_output_coalescing=true --output_coalescing_required=true --log_code_content', 'NV_LIBNPP_DEV_PACKAGE': 'libnpp-dev-12-2=12.2.1.4-1', 'COLAB_LANGUAGE_SERVER_PROXY_LSP_DIRS': '/datalab/web/pyright/typeshed-fallback/stdlib,/usr/local/lib/python3.10/dist-packages', 'NV_LIBCUBLAS_PACKAGE_NAME': 'libcublas-12-2', 'COLAB_KERNEL_MANAGER_PROXY_PORT': '6000', 'CLOUDSDK_PYTHON': 'python3', 'NV_LIBNPP_DEV_VERSION': '12.2.1.4-1', 'NO_GCE_CHECK': 'False', 'PYTHONPATH': '/env/python', 'NV_LIBCUSPARSE_DEV_VERSION': '12.1.2.141-1', 'LIBRARY_PATH': '/usr/local/cuda/lib64/stubs', 'NV_CUDNN_VERSION': '8.9.6.50', 'SHLVL': '0', 'NV_CUDA_LIB_VERSION': '12.2.2-1', 'COLAB_LANGUAGE_SERVER_PROXY': '/usr/colab/bin/language_service', 'NVARCH': 'x86_64', 'NV_CUDNN_PACKAGE_DEV': 'libcudnn8-dev=8.9.6.50-1+cuda12.2', 'NV_CUDA_COMPAT_PACKAGE': 'cuda-compat-12-2', 'NV_LIBNCCL_PACKAGE': 'libnccl2=2.19.3-1+cuda12.2', 'LD_LIBRARY_PATH': '/usr/local/nvidia/lib:/usr/local/nvidia/lib64', 'COLAB_GPU': '', 'NV_CUDA_NSIGHT_COMPUTE_VERSION': '12.2.2-1', 'GCS_READ_CACHE_BLOCK_SIZE_MB': '16', 'NV_NVPROF_VERSION': '12.2.142-1', 'LC_ALL': 'en_US.UTF-8', 'COLAB_FILE_HANDLER_ADDR': 'localhost:3453', 'PATH': '/opt/bin:/usr/local/nvidia/bin:/usr/local/cuda/bin:/usr/local/sbin:/usr/local/bin:/usr/sbin:/usr/bin:/sbin:/bin:/tools/node/bin:/tools/google-cloud-sdk/bin', 'NV_LIBNCCL_PACKAGE_NAME': 'libnccl2', 'COLAB_DEBUG_ADAPTER_MUX_PATH': '/usr/local/bin/dap_multiplexer', 'NV_LIBNCCL_PACKAGE_VERSION': '2.19.3-1', 'PYTHONWARNINGS': 'ignore:::pip._internal.cli.base_command', 'DEBIAN_FRONTEND': 'noninteractive', 'COLAB_BACKEND_VERSION': 'next', 'OLDPWD': '/', 'JPY_PARENT_PID': '88', 'TERM': 'xterm-color', 'CLICOLOR': '1', 'PAGER': 'cat', 'GIT_PAGER': 'cat', 'MPLBACKEND': 'module://ipykernel.pylab.backend_inline', 'ENABLE_DIRECTORYPREFETCHER': '1', 'USE_AUTH_EPHEM': '1', 'PYDEVD_USE_FRAME_EVAL': 'NO'}), 6: bytearray(b'\\n\\x148#\\x11c'), 11: 9.123, 12: {...}, 16: 'False', 18: dict_items([('__name__', '__main__'), ('__doc__', 'Automatically created module for IPython interactive environment'), ('__package__', None), ('__loader__', None), ('__spec__', None), ('__builtin__', <module 'builtins' (built-in)>), ('__builtins__', <module 'builtins' (built-in)>), ('_ih', ['', 'import os\\nos.environ', 'import os.path as path\\ndef path_divide(apath):\\n  print(f\\'{apath}:{path.splittext(apath)}\\')\\n\\npath_divide(\"wada.xp\")', 'import os.path as path\\ndef path_divide(apath):\\n  print(f\\'{apath}:{path.splitext(apath)}\\')\\n\\npath_divide(\"wada.xp\")', 'print(\"True\") if id(\"String\") == id(\"String\")', 'print(\"True\") if id(\"String\") == id(\"String\") else \"False\"', 'bnums = [10, 20, 56, 35, 17, 99]\\nbvalues = bytearray(bnums)\\nbvalues', 'bnums = [10, 20, 56, 35, 17, 99]\\nbvalues = bytearray(bnums)\\nbvalues\\n# Iterate through the elements of the bytearray and print each element.\\nfor x in values:\\n    print(x)', 'bnums = [10, 20, 56, 35, 17, 99]\\nbvalues = bytearray(bnums)\\nbvalues\\n# Iterate through the elements of the bytearray and print each element.\\nfor x in bvalues:\\n    print(x)', 'bnums = [10, 20, 56, 35, 17, 99]\\nbvalues = bytearray(bnums)\\nprint(bvalues)\\n# Iterate through the elements of the bytearray and print each element.\\nfor x in bvalues:\\n    print(x)', 'afloat = 9.12314\\nafloat.round(3)', 'afloat = 9.12314\\nround(afloat,3)', 'locals()', 'print(\"True\") if isinstance(\\'__main__\\', locals().items()', 'print(\"True\") if isinstance(\\'__main__\\', locals().items() else \"False\"', 'print(\"True\") if isinstance(\\'__main__\\', locals().items()) else \"False\"', 'print(\"True\") if \\'__main__\\' in locals().items() else \"False\"', 'locals.items()', 'locals().items()', 'locals().values()']), ('_oh', {...}), ('_dh', ['/content']), ('In', ['', 'import os\\nos.environ', 'import os.path as path\\ndef path_divide(apath):\\n  print(f\\'{apath}:{path.splittext(apath)}\\')\\n\\npath_divide(\"wada.xp\")', 'import os.path as path\\ndef path_divide(apath):\\n  print(f\\'{apath}:{path.splitext(apath)}\\')\\n\\npath_divide(\"wada.xp\")', 'print(\"True\") if id(\"String\") == id(\"String\")', 'print(\"True\") if id(\"String\") == id(\"String\") else \"False\"', 'bnums = [10, 20, 56, 35, 17, 99]\\nbvalues = bytearray(bnums)\\nbvalues', 'bnums = [10, 20, 56, 35, 17, 99]\\nbvalues = bytearray(bnums)\\nbvalues\\n# Iterate through the elements of the bytearray and print each element.\\nfor x in values:\\n    print(x)', 'bnums = [10, 20, 56, 35, 17, 99]\\nbvalues = bytearray(bnums)\\nbvalues\\n# Iterate through the elements of the bytearray and print each element.\\nfor x in bvalues:\\n    print(x)', 'bnums = [10, 20, 56, 35, 17, 99]\\nbvalues = bytearray(bnums)\\nprint(bvalues)\\n# Iterate through the elements of the bytearray and print each element.\\nfor x in bvalues:\\n    print(x)', 'afloat = 9.12314\\nafloat.round(3)', 'afloat = 9.12314\\nround(afloat,3)', 'locals()', 'print(\"True\") if isinstance(\\'__main__\\', locals().items()', 'print(\"True\") if isinstance(\\'__main__\\', locals().items() else \"False\"', 'print(\"True\") if isinstance(\\'__main__\\', locals().items()) else \"False\"', 'print(\"True\") if \\'__main__\\' in locals().items() else \"False\"', 'locals.items()', 'locals().items()', 'locals().values()']), ('Out', {...}), ('get_ipython', <bound method InteractiveShell.get_ipython of <google.colab._shell.Shell object at 0x7b1bb296e710>>), ('exit', <IPython.core.autocall.ZMQExitAutocall object at 0x7b1bb296dbd0>), ('quit', <IPython.core.autocall.ZMQExitAutocall object at 0x7b1bb296dbd0>), ('_', ...), ('__', 'False'), ('___', {...}), ('_i', 'locals().items()'), ('_ii', 'locals.items()'), ('_iii', 'print(\"True\") if \\'__main__\\' in locals().items() else \"False\"'), ('_i1', 'import os\\nos.environ'), ('os', <module 'os' from '/usr/lib/python3.10/os.py'>), ('_1', environ({'SHELL': '/bin/bash', 'NV_LIBCUBLAS_VERSION': '12.2.5.6-1', 'NVIDIA_VISIBLE_DEVICES': 'all', 'COLAB_JUPYTER_TRANSPORT': 'ipc', 'NV_NVML_DEV_VERSION': '12.2.140-1', 'NV_CUDNN_PACKAGE_NAME': 'libcudnn8', 'CGROUP_MEMORY_EVENTS': '/sys/fs/cgroup/memory.events /var/colab/cgroup/jupyter-children/memory.events', 'NV_LIBNCCL_DEV_PACKAGE': 'libnccl-dev=2.19.3-1+cuda12.2', 'NV_LIBNCCL_DEV_PACKAGE_VERSION': '2.19.3-1', 'VM_GCE_METADATA_HOST': '169.254.169.253', 'HOSTNAME': '57645698dfef', 'LANGUAGE': 'en_US', 'TBE_RUNTIME_ADDR': '172.28.0.1:8011', 'COLAB_TPU_1VM': '', 'GCE_METADATA_TIMEOUT': '3', 'NVIDIA_REQUIRE_CUDA': 'cuda>=12.2 brand=tesla,driver>=470,driver<471 brand=unknown,driver>=470,driver<471 brand=nvidia,driver>=470,driver<471 brand=nvidiartx,driver>=470,driver<471 brand=geforce,driver>=470,driver<471 brand=geforcertx,driver>=470,driver<471 brand=quadro,driver>=470,driver<471 brand=quadrortx,driver>=470,driver<471 brand=titan,driver>=470,driver<471 brand=titanrtx,driver>=470,driver<471 brand=tesla,driver>=525,driver<526 brand=unknown,driver>=525,driver<526 brand=nvidia,driver>=525,driver<526 brand=nvidiartx,driver>=525,driver<526 brand=geforce,driver>=525,driver<526 brand=geforcertx,driver>=525,driver<526 brand=quadro,driver>=525,driver<526 brand=quadrortx,driver>=525,driver<526 brand=titan,driver>=525,driver<526 brand=titanrtx,driver>=525,driver<526', 'NV_LIBCUBLAS_DEV_PACKAGE': 'libcublas-dev-12-2=12.2.5.6-1', 'NV_NVTX_VERSION': '12.2.140-1', 'COLAB_JUPYTER_IP': '172.28.0.12', 'NV_CUDA_CUDART_DEV_VERSION': '12.2.140-1', 'NV_LIBCUSPARSE_VERSION': '12.1.2.141-1', 'COLAB_LANGUAGE_SERVER_PROXY_ROOT_URL': 'http://172.28.0.1:8013/', 'NV_LIBNPP_VERSION': '12.2.1.4-1', 'NCCL_VERSION': '2.19.3-1', 'KMP_LISTEN_PORT': '6000', 'TF_FORCE_GPU_ALLOW_GROWTH': 'true', 'ENV': '/root/.bashrc', 'PWD': '/', 'COLAB_LANGUAGE_SERVER_PROXY_REQUEST_TIMEOUT': '30s', 'TBE_EPHEM_CREDS_ADDR': '172.28.0.1:8009', 'TBE_CREDS_ADDR': '172.28.0.1:8008', 'NV_CUDNN_PACKAGE': 'libcudnn8=8.9.6.50-1+cuda12.2', 'NVIDIA_DRIVER_CAPABILITIES': 'compute,utility', 'COLAB_JUPYTER_TOKEN': '', 'LAST_FORCED_REBUILD': '20240627', 'NV_NVPROF_DEV_PACKAGE': 'cuda-nvprof-12-2=12.2.142-1', 'NV_LIBNPP_PACKAGE': 'libnpp-12-2=12.2.1.4-1', 'NV_LIBNCCL_DEV_PACKAGE_NAME': 'libnccl-dev', 'TCLLIBPATH': '/usr/share/tcltk/tcllib1.20', 'NV_LIBCUBLAS_DEV_VERSION': '12.2.5.6-1', 'NVIDIA_PRODUCT_NAME': 'CUDA', 'COLAB_KERNEL_MANAGER_PROXY_HOST': '172.28.0.12', 'NV_LIBCUBLAS_DEV_PACKAGE_NAME': 'libcublas-dev-12-2', 'NV_CUDA_CUDART_VERSION': '12.2.140-1', 'COLAB_WARMUP_DEFAULTS': '1', 'HOME': '/root', 'LANG': 'en_US.UTF-8', 'COLUMNS': '100', 'CUDA_VERSION': '12.2.2', 'CLOUDSDK_CONFIG': '/content/.config', 'NV_LIBCUBLAS_PACKAGE': 'libcublas-12-2=12.2.5.6-1', 'NV_CUDA_NSIGHT_COMPUTE_DEV_PACKAGE': 'cuda-nsight-compute-12-2=12.2.2-1', 'COLAB_RELEASE_TAG': 'release-colab_20240910-060204_RC00', 'KMP_TARGET_PORT': '9000', 'KMP_EXTRA_ARGS': '--logtostderr --listen_host=172.28.0.12 --target_host=172.28.0.12 --tunnel_background_save_url=https://colab.research.google.com/tun/m/cc48301118ce562b961b3c22d803539adc1e0c19/m-s-yysr7zal1kwx --tunnel_background_save_delay=10s --tunnel_periodic_background_save_frequency=30m0s --enable_output_coalescing=true --output_coalescing_required=true --log_code_content', 'NV_LIBNPP_DEV_PACKAGE': 'libnpp-dev-12-2=12.2.1.4-1', 'COLAB_LANGUAGE_SERVER_PROXY_LSP_DIRS': '/datalab/web/pyright/typeshed-fallback/stdlib,/usr/local/lib/python3.10/dist-packages', 'NV_LIBCUBLAS_PACKAGE_NAME': 'libcublas-12-2', 'COLAB_KERNEL_MANAGER_PROXY_PORT': '6000', 'CLOUDSDK_PYTHON': 'python3', 'NV_LIBNPP_DEV_VERSION': '12.2.1.4-1', 'NO_GCE_CHECK': 'False', 'PYTHONPATH': '/env/python', 'NV_LIBCUSPARSE_DEV_VERSION': '12.1.2.141-1', 'LIBRARY_PATH': '/usr/local/cuda/lib64/stubs', 'NV_CUDNN_VERSION': '8.9.6.50', 'SHLVL': '0', 'NV_CUDA_LIB_VERSION': '12.2.2-1', 'COLAB_LANGUAGE_SERVER_PROXY': '/usr/colab/bin/language_service', 'NVARCH': 'x86_64', 'NV_CUDNN_PACKAGE_DEV': 'libcudnn8-dev=8.9.6.50-1+cuda12.2', 'NV_CUDA_COMPAT_PACKAGE': 'cuda-compat-12-2', 'NV_LIBNCCL_PACKAGE': 'libnccl2=2.19.3-1+cuda12.2', 'LD_LIBRARY_PATH': '/usr/local/nvidia/lib:/usr/local/nvidia/lib64', 'COLAB_GPU': '', 'NV_CUDA_NSIGHT_COMPUTE_VERSION': '12.2.2-1', 'GCS_READ_CACHE_BLOCK_SIZE_MB': '16', 'NV_NVPROF_VERSION': '12.2.142-1', 'LC_ALL': 'en_US.UTF-8', 'COLAB_FILE_HANDLER_ADDR': 'localhost:3453', 'PATH': '/opt/bin:/usr/local/nvidia/bin:/usr/local/cuda/bin:/usr/local/sbin:/usr/local/bin:/usr/sbin:/usr/bin:/sbin:/bin:/tools/node/bin:/tools/google-cloud-sdk/bin', 'NV_LIBNCCL_PACKAGE_NAME': 'libnccl2', 'COLAB_DEBUG_ADAPTER_MUX_PATH': '/usr/local/bin/dap_multiplexer', 'NV_LIBNCCL_PACKAGE_VERSION': '2.19.3-1', 'PYTHONWARNINGS': 'ignore:::pip._internal.cli.base_command', 'DEBIAN_FRONTEND': 'noninteractive', 'COLAB_BACKEND_VERSION': 'next', 'OLDPWD': '/', 'JPY_PARENT_PID': '88', 'TERM': 'xterm-color', 'CLICOLOR': '1', 'PAGER': 'cat', 'GIT_PAGER': 'cat', 'MPLBACKEND': 'module://ipykernel.pylab.backend_inline', 'ENABLE_DIRECTORYPREFETCHER': '1', 'USE_AUTH_EPHEM': '1', 'PYDEVD_USE_FRAME_EVAL': 'NO'})), ('_i2', 'import os.path as path\\ndef path_divide(apath):\\n  print(f\\'{apath}:{path.splittext(apath)}\\')\\n\\npath_divide(\"wada.xp\")'), ('path', <module 'posixpath' from '/usr/lib/python3.10/posixpath.py'>), ('path_divide', <function path_divide at 0x7b1ba03a5fc0>), ('_i3', 'import os.path as path\\ndef path_divide(apath):\\n  print(f\\'{apath}:{path.splitext(apath)}\\')\\n\\npath_divide(\"wada.xp\")'), ('_i4', 'print(\"True\") if id(\"String\") == id(\"String\")'), ('_i5', 'print(\"True\") if id(\"String\") == id(\"String\") else \"False\"'), ('_i6', 'bnums = [10, 20, 56, 35, 17, 99]\\nbvalues = bytearray(bnums)\\nbvalues'), ('bnums', [10, 20, 56, 35, 17, 99]), ('bvalues', bytearray(b'\\n\\x148#\\x11c')), ('_6', bytearray(b'\\n\\x148#\\x11c')), ('_i7', 'bnums = [10, 20, 56, 35, 17, 99]\\nbvalues = bytearray(bnums)\\nbvalues\\n# Iterate through the elements of the bytearray and print each element.\\nfor x in values:\\n    print(x)'), ('_i8', 'bnums = [10, 20, 56, 35, 17, 99]\\nbvalues = bytearray(bnums)\\nbvalues\\n# Iterate through the elements of the bytearray and print each element.\\nfor x in bvalues:\\n    print(x)'), ('x', 99), ('_i9', 'bnums = [10, 20, 56, 35, 17, 99]\\nbvalues = bytearray(bnums)\\nprint(bvalues)\\n# Iterate through the elements of the bytearray and print each element.\\nfor x in bvalues:\\n    print(x)'), ('_i10', 'afloat = 9.12314\\nafloat.round(3)'), ('afloat', 9.12314), ('_i11', 'afloat = 9.12314\\nround(afloat,3)'), ('_11', 9.123), ('_i12', 'locals()'), ('_12', {...}), ('_i13', 'print(\"True\") if isinstance(\\'__main__\\', locals().items()'), ('_i14', 'print(\"True\") if isinstance(\\'__main__\\', locals().items() else \"False\"'), ('_i15', 'print(\"True\") if isinstance(\\'__main__\\', locals().items()) else \"False\"'), ('_i16', 'print(\"True\") if \\'__main__\\' in locals().items() else \"False\"'), ('_16', 'False'), ('_i17', 'locals.items()'), ('_i18', 'locals().items()'), ('_18', ...), ('_i19', 'locals().values()')])}, 'get_ipython': <bound method InteractiveShell.get_ipython of <google.colab._shell.Shell object at 0x7b1bb296e710>>, 'exit': <IPython.core.autocall.ZMQExitAutocall object at 0x7b1bb296dbd0>, 'quit': <IPython.core.autocall.ZMQExitAutocall object at 0x7b1bb296dbd0>, '_': dict_items([('__name__', '__main__'), ('__doc__', 'Automatically created module for IPython interactive environment'), ('__package__', None), ('__loader__', None), ('__spec__', None), ('__builtin__', <module 'builtins' (built-in)>), ('__builtins__', <module 'builtins' (built-in)>), ('_ih', ['', 'import os\\nos.environ', 'import os.path as path\\ndef path_divide(apath):\\n  print(f\\'{apath}:{path.splittext(apath)}\\')\\n\\npath_divide(\"wada.xp\")', 'import os.path as path\\ndef path_divide(apath):\\n  print(f\\'{apath}:{path.splitext(apath)}\\')\\n\\npath_divide(\"wada.xp\")', 'print(\"True\") if id(\"String\") == id(\"String\")', 'print(\"True\") if id(\"String\") == id(\"String\") else \"False\"', 'bnums = [10, 20, 56, 35, 17, 99]\\nbvalues = bytearray(bnums)\\nbvalues', 'bnums = [10, 20, 56, 35, 17, 99]\\nbvalues = bytearray(bnums)\\nbvalues\\n# Iterate through the elements of the bytearray and print each element.\\nfor x in values:\\n    print(x)', 'bnums = [10, 20, 56, 35, 17, 99]\\nbvalues = bytearray(bnums)\\nbvalues\\n# Iterate through the elements of the bytearray and print each element.\\nfor x in bvalues:\\n    print(x)', 'bnums = [10, 20, 56, 35, 17, 99]\\nbvalues = bytearray(bnums)\\nprint(bvalues)\\n# Iterate through the elements of the bytearray and print each element.\\nfor x in bvalues:\\n    print(x)', 'afloat = 9.12314\\nafloat.round(3)', 'afloat = 9.12314\\nround(afloat,3)', 'locals()', 'print(\"True\") if isinstance(\\'__main__\\', locals().items()', 'print(\"True\") if isinstance(\\'__main__\\', locals().items() else \"False\"', 'print(\"True\") if isinstance(\\'__main__\\', locals().items()) else \"False\"', 'print(\"True\") if \\'__main__\\' in locals().items() else \"False\"', 'locals.items()', 'locals().items()', 'locals().values()']), ('_oh', {1: environ({'SHELL': '/bin/bash', 'NV_LIBCUBLAS_VERSION': '12.2.5.6-1', 'NVIDIA_VISIBLE_DEVICES': 'all', 'COLAB_JUPYTER_TRANSPORT': 'ipc', 'NV_NVML_DEV_VERSION': '12.2.140-1', 'NV_CUDNN_PACKAGE_NAME': 'libcudnn8', 'CGROUP_MEMORY_EVENTS': '/sys/fs/cgroup/memory.events /var/colab/cgroup/jupyter-children/memory.events', 'NV_LIBNCCL_DEV_PACKAGE': 'libnccl-dev=2.19.3-1+cuda12.2', 'NV_LIBNCCL_DEV_PACKAGE_VERSION': '2.19.3-1', 'VM_GCE_METADATA_HOST': '169.254.169.253', 'HOSTNAME': '57645698dfef', 'LANGUAGE': 'en_US', 'TBE_RUNTIME_ADDR': '172.28.0.1:8011', 'COLAB_TPU_1VM': '', 'GCE_METADATA_TIMEOUT': '3', 'NVIDIA_REQUIRE_CUDA': 'cuda>=12.2 brand=tesla,driver>=470,driver<471 brand=unknown,driver>=470,driver<471 brand=nvidia,driver>=470,driver<471 brand=nvidiartx,driver>=470,driver<471 brand=geforce,driver>=470,driver<471 brand=geforcertx,driver>=470,driver<471 brand=quadro,driver>=470,driver<471 brand=quadrortx,driver>=470,driver<471 brand=titan,driver>=470,driver<471 brand=titanrtx,driver>=470,driver<471 brand=tesla,driver>=525,driver<526 brand=unknown,driver>=525,driver<526 brand=nvidia,driver>=525,driver<526 brand=nvidiartx,driver>=525,driver<526 brand=geforce,driver>=525,driver<526 brand=geforcertx,driver>=525,driver<526 brand=quadro,driver>=525,driver<526 brand=quadrortx,driver>=525,driver<526 brand=titan,driver>=525,driver<526 brand=titanrtx,driver>=525,driver<526', 'NV_LIBCUBLAS_DEV_PACKAGE': 'libcublas-dev-12-2=12.2.5.6-1', 'NV_NVTX_VERSION': '12.2.140-1', 'COLAB_JUPYTER_IP': '172.28.0.12', 'NV_CUDA_CUDART_DEV_VERSION': '12.2.140-1', 'NV_LIBCUSPARSE_VERSION': '12.1.2.141-1', 'COLAB_LANGUAGE_SERVER_PROXY_ROOT_URL': 'http://172.28.0.1:8013/', 'NV_LIBNPP_VERSION': '12.2.1.4-1', 'NCCL_VERSION': '2.19.3-1', 'KMP_LISTEN_PORT': '6000', 'TF_FORCE_GPU_ALLOW_GROWTH': 'true', 'ENV': '/root/.bashrc', 'PWD': '/', 'COLAB_LANGUAGE_SERVER_PROXY_REQUEST_TIMEOUT': '30s', 'TBE_EPHEM_CREDS_ADDR': '172.28.0.1:8009', 'TBE_CREDS_ADDR': '172.28.0.1:8008', 'NV_CUDNN_PACKAGE': 'libcudnn8=8.9.6.50-1+cuda12.2', 'NVIDIA_DRIVER_CAPABILITIES': 'compute,utility', 'COLAB_JUPYTER_TOKEN': '', 'LAST_FORCED_REBUILD': '20240627', 'NV_NVPROF_DEV_PACKAGE': 'cuda-nvprof-12-2=12.2.142-1', 'NV_LIBNPP_PACKAGE': 'libnpp-12-2=12.2.1.4-1', 'NV_LIBNCCL_DEV_PACKAGE_NAME': 'libnccl-dev', 'TCLLIBPATH': '/usr/share/tcltk/tcllib1.20', 'NV_LIBCUBLAS_DEV_VERSION': '12.2.5.6-1', 'NVIDIA_PRODUCT_NAME': 'CUDA', 'COLAB_KERNEL_MANAGER_PROXY_HOST': '172.28.0.12', 'NV_LIBCUBLAS_DEV_PACKAGE_NAME': 'libcublas-dev-12-2', 'NV_CUDA_CUDART_VERSION': '12.2.140-1', 'COLAB_WARMUP_DEFAULTS': '1', 'HOME': '/root', 'LANG': 'en_US.UTF-8', 'COLUMNS': '100', 'CUDA_VERSION': '12.2.2', 'CLOUDSDK_CONFIG': '/content/.config', 'NV_LIBCUBLAS_PACKAGE': 'libcublas-12-2=12.2.5.6-1', 'NV_CUDA_NSIGHT_COMPUTE_DEV_PACKAGE': 'cuda-nsight-compute-12-2=12.2.2-1', 'COLAB_RELEASE_TAG': 'release-colab_20240910-060204_RC00', 'KMP_TARGET_PORT': '9000', 'KMP_EXTRA_ARGS': '--logtostderr --listen_host=172.28.0.12 --target_host=172.28.0.12 --tunnel_background_save_url=https://colab.research.google.com/tun/m/cc48301118ce562b961b3c22d803539adc1e0c19/m-s-yysr7zal1kwx --tunnel_background_save_delay=10s --tunnel_periodic_background_save_frequency=30m0s --enable_output_coalescing=true --output_coalescing_required=true --log_code_content', 'NV_LIBNPP_DEV_PACKAGE': 'libnpp-dev-12-2=12.2.1.4-1', 'COLAB_LANGUAGE_SERVER_PROXY_LSP_DIRS': '/datalab/web/pyright/typeshed-fallback/stdlib,/usr/local/lib/python3.10/dist-packages', 'NV_LIBCUBLAS_PACKAGE_NAME': 'libcublas-12-2', 'COLAB_KERNEL_MANAGER_PROXY_PORT': '6000', 'CLOUDSDK_PYTHON': 'python3', 'NV_LIBNPP_DEV_VERSION': '12.2.1.4-1', 'NO_GCE_CHECK': 'False', 'PYTHONPATH': '/env/python', 'NV_LIBCUSPARSE_DEV_VERSION': '12.1.2.141-1', 'LIBRARY_PATH': '/usr/local/cuda/lib64/stubs', 'NV_CUDNN_VERSION': '8.9.6.50', 'SHLVL': '0', 'NV_CUDA_LIB_VERSION': '12.2.2-1', 'COLAB_LANGUAGE_SERVER_PROXY': '/usr/colab/bin/language_service', 'NVARCH': 'x86_64', 'NV_CUDNN_PACKAGE_DEV': 'libcudnn8-dev=8.9.6.50-1+cuda12.2', 'NV_CUDA_COMPAT_PACKAGE': 'cuda-compat-12-2', 'NV_LIBNCCL_PACKAGE': 'libnccl2=2.19.3-1+cuda12.2', 'LD_LIBRARY_PATH': '/usr/local/nvidia/lib:/usr/local/nvidia/lib64', 'COLAB_GPU': '', 'NV_CUDA_NSIGHT_COMPUTE_VERSION': '12.2.2-1', 'GCS_READ_CACHE_BLOCK_SIZE_MB': '16', 'NV_NVPROF_VERSION': '12.2.142-1', 'LC_ALL': 'en_US.UTF-8', 'COLAB_FILE_HANDLER_ADDR': 'localhost:3453', 'PATH': '/opt/bin:/usr/local/nvidia/bin:/usr/local/cuda/bin:/usr/local/sbin:/usr/local/bin:/usr/sbin:/usr/bin:/sbin:/bin:/tools/node/bin:/tools/google-cloud-sdk/bin', 'NV_LIBNCCL_PACKAGE_NAME': 'libnccl2', 'COLAB_DEBUG_ADAPTER_MUX_PATH': '/usr/local/bin/dap_multiplexer', 'NV_LIBNCCL_PACKAGE_VERSION': '2.19.3-1', 'PYTHONWARNINGS': 'ignore:::pip._internal.cli.base_command', 'DEBIAN_FRONTEND': 'noninteractive', 'COLAB_BACKEND_VERSION': 'next', 'OLDPWD': '/', 'JPY_PARENT_PID': '88', 'TERM': 'xterm-color', 'CLICOLOR': '1', 'PAGER': 'cat', 'GIT_PAGER': 'cat', 'MPLBACKEND': 'module://ipykernel.pylab.backend_inline', 'ENABLE_DIRECTORYPREFETCHER': '1', 'USE_AUTH_EPHEM': '1', 'PYDEVD_USE_FRAME_EVAL': 'NO'}), 6: bytearray(b'\\n\\x148#\\x11c'), 11: 9.123, 12: {...}, 16: 'False', 18: ...}), ('_dh', ['/content']), ('In', ['', 'import os\\nos.environ', 'import os.path as path\\ndef path_divide(apath):\\n  print(f\\'{apath}:{path.splittext(apath)}\\')\\n\\npath_divide(\"wada.xp\")', 'import os.path as path\\ndef path_divide(apath):\\n  print(f\\'{apath}:{path.splitext(apath)}\\')\\n\\npath_divide(\"wada.xp\")', 'print(\"True\") if id(\"String\") == id(\"String\")', 'print(\"True\") if id(\"String\") == id(\"String\") else \"False\"', 'bnums = [10, 20, 56, 35, 17, 99]\\nbvalues = bytearray(bnums)\\nbvalues', 'bnums = [10, 20, 56, 35, 17, 99]\\nbvalues = bytearray(bnums)\\nbvalues\\n# Iterate through the elements of the bytearray and print each element.\\nfor x in values:\\n    print(x)', 'bnums = [10, 20, 56, 35, 17, 99]\\nbvalues = bytearray(bnums)\\nbvalues\\n# Iterate through the elements of the bytearray and print each element.\\nfor x in bvalues:\\n    print(x)', 'bnums = [10, 20, 56, 35, 17, 99]\\nbvalues = bytearray(bnums)\\nprint(bvalues)\\n# Iterate through the elements of the bytearray and print each element.\\nfor x in bvalues:\\n    print(x)', 'afloat = 9.12314\\nafloat.round(3)', 'afloat = 9.12314\\nround(afloat,3)', 'locals()', 'print(\"True\") if isinstance(\\'__main__\\', locals().items()', 'print(\"True\") if isinstance(\\'__main__\\', locals().items() else \"False\"', 'print(\"True\") if isinstance(\\'__main__\\', locals().items()) else \"False\"', 'print(\"True\") if \\'__main__\\' in locals().items() else \"False\"', 'locals.items()', 'locals().items()', 'locals().values()']), ('Out', {1: environ({'SHELL': '/bin/bash', 'NV_LIBCUBLAS_VERSION': '12.2.5.6-1', 'NVIDIA_VISIBLE_DEVICES': 'all', 'COLAB_JUPYTER_TRANSPORT': 'ipc', 'NV_NVML_DEV_VERSION': '12.2.140-1', 'NV_CUDNN_PACKAGE_NAME': 'libcudnn8', 'CGROUP_MEMORY_EVENTS': '/sys/fs/cgroup/memory.events /var/colab/cgroup/jupyter-children/memory.events', 'NV_LIBNCCL_DEV_PACKAGE': 'libnccl-dev=2.19.3-1+cuda12.2', 'NV_LIBNCCL_DEV_PACKAGE_VERSION': '2.19.3-1', 'VM_GCE_METADATA_HOST': '169.254.169.253', 'HOSTNAME': '57645698dfef', 'LANGUAGE': 'en_US', 'TBE_RUNTIME_ADDR': '172.28.0.1:8011', 'COLAB_TPU_1VM': '', 'GCE_METADATA_TIMEOUT': '3', 'NVIDIA_REQUIRE_CUDA': 'cuda>=12.2 brand=tesla,driver>=470,driver<471 brand=unknown,driver>=470,driver<471 brand=nvidia,driver>=470,driver<471 brand=nvidiartx,driver>=470,driver<471 brand=geforce,driver>=470,driver<471 brand=geforcertx,driver>=470,driver<471 brand=quadro,driver>=470,driver<471 brand=quadrortx,driver>=470,driver<471 brand=titan,driver>=470,driver<471 brand=titanrtx,driver>=470,driver<471 brand=tesla,driver>=525,driver<526 brand=unknown,driver>=525,driver<526 brand=nvidia,driver>=525,driver<526 brand=nvidiartx,driver>=525,driver<526 brand=geforce,driver>=525,driver<526 brand=geforcertx,driver>=525,driver<526 brand=quadro,driver>=525,driver<526 brand=quadrortx,driver>=525,driver<526 brand=titan,driver>=525,driver<526 brand=titanrtx,driver>=525,driver<526', 'NV_LIBCUBLAS_DEV_PACKAGE': 'libcublas-dev-12-2=12.2.5.6-1', 'NV_NVTX_VERSION': '12.2.140-1', 'COLAB_JUPYTER_IP': '172.28.0.12', 'NV_CUDA_CUDART_DEV_VERSION': '12.2.140-1', 'NV_LIBCUSPARSE_VERSION': '12.1.2.141-1', 'COLAB_LANGUAGE_SERVER_PROXY_ROOT_URL': 'http://172.28.0.1:8013/', 'NV_LIBNPP_VERSION': '12.2.1.4-1', 'NCCL_VERSION': '2.19.3-1', 'KMP_LISTEN_PORT': '6000', 'TF_FORCE_GPU_ALLOW_GROWTH': 'true', 'ENV': '/root/.bashrc', 'PWD': '/', 'COLAB_LANGUAGE_SERVER_PROXY_REQUEST_TIMEOUT': '30s', 'TBE_EPHEM_CREDS_ADDR': '172.28.0.1:8009', 'TBE_CREDS_ADDR': '172.28.0.1:8008', 'NV_CUDNN_PACKAGE': 'libcudnn8=8.9.6.50-1+cuda12.2', 'NVIDIA_DRIVER_CAPABILITIES': 'compute,utility', 'COLAB_JUPYTER_TOKEN': '', 'LAST_FORCED_REBUILD': '20240627', 'NV_NVPROF_DEV_PACKAGE': 'cuda-nvprof-12-2=12.2.142-1', 'NV_LIBNPP_PACKAGE': 'libnpp-12-2=12.2.1.4-1', 'NV_LIBNCCL_DEV_PACKAGE_NAME': 'libnccl-dev', 'TCLLIBPATH': '/usr/share/tcltk/tcllib1.20', 'NV_LIBCUBLAS_DEV_VERSION': '12.2.5.6-1', 'NVIDIA_PRODUCT_NAME': 'CUDA', 'COLAB_KERNEL_MANAGER_PROXY_HOST': '172.28.0.12', 'NV_LIBCUBLAS_DEV_PACKAGE_NAME': 'libcublas-dev-12-2', 'NV_CUDA_CUDART_VERSION': '12.2.140-1', 'COLAB_WARMUP_DEFAULTS': '1', 'HOME': '/root', 'LANG': 'en_US.UTF-8', 'COLUMNS': '100', 'CUDA_VERSION': '12.2.2', 'CLOUDSDK_CONFIG': '/content/.config', 'NV_LIBCUBLAS_PACKAGE': 'libcublas-12-2=12.2.5.6-1', 'NV_CUDA_NSIGHT_COMPUTE_DEV_PACKAGE': 'cuda-nsight-compute-12-2=12.2.2-1', 'COLAB_RELEASE_TAG': 'release-colab_20240910-060204_RC00', 'KMP_TARGET_PORT': '9000', 'KMP_EXTRA_ARGS': '--logtostderr --listen_host=172.28.0.12 --target_host=172.28.0.12 --tunnel_background_save_url=https://colab.research.google.com/tun/m/cc48301118ce562b961b3c22d803539adc1e0c19/m-s-yysr7zal1kwx --tunnel_background_save_delay=10s --tunnel_periodic_background_save_frequency=30m0s --enable_output_coalescing=true --output_coalescing_required=true --log_code_content', 'NV_LIBNPP_DEV_PACKAGE': 'libnpp-dev-12-2=12.2.1.4-1', 'COLAB_LANGUAGE_SERVER_PROXY_LSP_DIRS': '/datalab/web/pyright/typeshed-fallback/stdlib,/usr/local/lib/python3.10/dist-packages', 'NV_LIBCUBLAS_PACKAGE_NAME': 'libcublas-12-2', 'COLAB_KERNEL_MANAGER_PROXY_PORT': '6000', 'CLOUDSDK_PYTHON': 'python3', 'NV_LIBNPP_DEV_VERSION': '12.2.1.4-1', 'NO_GCE_CHECK': 'False', 'PYTHONPATH': '/env/python', 'NV_LIBCUSPARSE_DEV_VERSION': '12.1.2.141-1', 'LIBRARY_PATH': '/usr/local/cuda/lib64/stubs', 'NV_CUDNN_VERSION': '8.9.6.50', 'SHLVL': '0', 'NV_CUDA_LIB_VERSION': '12.2.2-1', 'COLAB_LANGUAGE_SERVER_PROXY': '/usr/colab/bin/language_service', 'NVARCH': 'x86_64', 'NV_CUDNN_PACKAGE_DEV': 'libcudnn8-dev=8.9.6.50-1+cuda12.2', 'NV_CUDA_COMPAT_PACKAGE': 'cuda-compat-12-2', 'NV_LIBNCCL_PACKAGE': 'libnccl2=2.19.3-1+cuda12.2', 'LD_LIBRARY_PATH': '/usr/local/nvidia/lib:/usr/local/nvidia/lib64', 'COLAB_GPU': '', 'NV_CUDA_NSIGHT_COMPUTE_VERSION': '12.2.2-1', 'GCS_READ_CACHE_BLOCK_SIZE_MB': '16', 'NV_NVPROF_VERSION': '12.2.142-1', 'LC_ALL': 'en_US.UTF-8', 'COLAB_FILE_HANDLER_ADDR': 'localhost:3453', 'PATH': '/opt/bin:/usr/local/nvidia/bin:/usr/local/cuda/bin:/usr/local/sbin:/usr/local/bin:/usr/sbin:/usr/bin:/sbin:/bin:/tools/node/bin:/tools/google-cloud-sdk/bin', 'NV_LIBNCCL_PACKAGE_NAME': 'libnccl2', 'COLAB_DEBUG_ADAPTER_MUX_PATH': '/usr/local/bin/dap_multiplexer', 'NV_LIBNCCL_PACKAGE_VERSION': '2.19.3-1', 'PYTHONWARNINGS': 'ignore:::pip._internal.cli.base_command', 'DEBIAN_FRONTEND': 'noninteractive', 'COLAB_BACKEND_VERSION': 'next', 'OLDPWD': '/', 'JPY_PARENT_PID': '88', 'TERM': 'xterm-color', 'CLICOLOR': '1', 'PAGER': 'cat', 'GIT_PAGER': 'cat', 'MPLBACKEND': 'module://ipykernel.pylab.backend_inline', 'ENABLE_DIRECTORYPREFETCHER': '1', 'USE_AUTH_EPHEM': '1', 'PYDEVD_USE_FRAME_EVAL': 'NO'}), 6: bytearray(b'\\n\\x148#\\x11c'), 11: 9.123, 12: {...}, 16: 'False', 18: ...}), ('get_ipython', <bound method InteractiveShell.get_ipython of <google.colab._shell.Shell object at 0x7b1bb296e710>>), ('exit', <IPython.core.autocall.ZMQExitAutocall object at 0x7b1bb296dbd0>), ('quit', <IPython.core.autocall.ZMQExitAutocall object at 0x7b1bb296dbd0>), ('_', ...), ('__', 'False'), ('___', {...}), ('_i', 'locals().items()'), ('_ii', 'locals.items()'), ('_iii', 'print(\"True\") if \\'__main__\\' in locals().items() else \"False\"'), ('_i1', 'import os\\nos.environ'), ('os', <module 'os' from '/usr/lib/python3.10/os.py'>), ('_1', environ({'SHELL': '/bin/bash', 'NV_LIBCUBLAS_VERSION': '12.2.5.6-1', 'NVIDIA_VISIBLE_DEVICES': 'all', 'COLAB_JUPYTER_TRANSPORT': 'ipc', 'NV_NVML_DEV_VERSION': '12.2.140-1', 'NV_CUDNN_PACKAGE_NAME': 'libcudnn8', 'CGROUP_MEMORY_EVENTS': '/sys/fs/cgroup/memory.events /var/colab/cgroup/jupyter-children/memory.events', 'NV_LIBNCCL_DEV_PACKAGE': 'libnccl-dev=2.19.3-1+cuda12.2', 'NV_LIBNCCL_DEV_PACKAGE_VERSION': '2.19.3-1', 'VM_GCE_METADATA_HOST': '169.254.169.253', 'HOSTNAME': '57645698dfef', 'LANGUAGE': 'en_US', 'TBE_RUNTIME_ADDR': '172.28.0.1:8011', 'COLAB_TPU_1VM': '', 'GCE_METADATA_TIMEOUT': '3', 'NVIDIA_REQUIRE_CUDA': 'cuda>=12.2 brand=tesla,driver>=470,driver<471 brand=unknown,driver>=470,driver<471 brand=nvidia,driver>=470,driver<471 brand=nvidiartx,driver>=470,driver<471 brand=geforce,driver>=470,driver<471 brand=geforcertx,driver>=470,driver<471 brand=quadro,driver>=470,driver<471 brand=quadrortx,driver>=470,driver<471 brand=titan,driver>=470,driver<471 brand=titanrtx,driver>=470,driver<471 brand=tesla,driver>=525,driver<526 brand=unknown,driver>=525,driver<526 brand=nvidia,driver>=525,driver<526 brand=nvidiartx,driver>=525,driver<526 brand=geforce,driver>=525,driver<526 brand=geforcertx,driver>=525,driver<526 brand=quadro,driver>=525,driver<526 brand=quadrortx,driver>=525,driver<526 brand=titan,driver>=525,driver<526 brand=titanrtx,driver>=525,driver<526', 'NV_LIBCUBLAS_DEV_PACKAGE': 'libcublas-dev-12-2=12.2.5.6-1', 'NV_NVTX_VERSION': '12.2.140-1', 'COLAB_JUPYTER_IP': '172.28.0.12', 'NV_CUDA_CUDART_DEV_VERSION': '12.2.140-1', 'NV_LIBCUSPARSE_VERSION': '12.1.2.141-1', 'COLAB_LANGUAGE_SERVER_PROXY_ROOT_URL': 'http://172.28.0.1:8013/', 'NV_LIBNPP_VERSION': '12.2.1.4-1', 'NCCL_VERSION': '2.19.3-1', 'KMP_LISTEN_PORT': '6000', 'TF_FORCE_GPU_ALLOW_GROWTH': 'true', 'ENV': '/root/.bashrc', 'PWD': '/', 'COLAB_LANGUAGE_SERVER_PROXY_REQUEST_TIMEOUT': '30s', 'TBE_EPHEM_CREDS_ADDR': '172.28.0.1:8009', 'TBE_CREDS_ADDR': '172.28.0.1:8008', 'NV_CUDNN_PACKAGE': 'libcudnn8=8.9.6.50-1+cuda12.2', 'NVIDIA_DRIVER_CAPABILITIES': 'compute,utility', 'COLAB_JUPYTER_TOKEN': '', 'LAST_FORCED_REBUILD': '20240627', 'NV_NVPROF_DEV_PACKAGE': 'cuda-nvprof-12-2=12.2.142-1', 'NV_LIBNPP_PACKAGE': 'libnpp-12-2=12.2.1.4-1', 'NV_LIBNCCL_DEV_PACKAGE_NAME': 'libnccl-dev', 'TCLLIBPATH': '/usr/share/tcltk/tcllib1.20', 'NV_LIBCUBLAS_DEV_VERSION': '12.2.5.6-1', 'NVIDIA_PRODUCT_NAME': 'CUDA', 'COLAB_KERNEL_MANAGER_PROXY_HOST': '172.28.0.12', 'NV_LIBCUBLAS_DEV_PACKAGE_NAME': 'libcublas-dev-12-2', 'NV_CUDA_CUDART_VERSION': '12.2.140-1', 'COLAB_WARMUP_DEFAULTS': '1', 'HOME': '/root', 'LANG': 'en_US.UTF-8', 'COLUMNS': '100', 'CUDA_VERSION': '12.2.2', 'CLOUDSDK_CONFIG': '/content/.config', 'NV_LIBCUBLAS_PACKAGE': 'libcublas-12-2=12.2.5.6-1', 'NV_CUDA_NSIGHT_COMPUTE_DEV_PACKAGE': 'cuda-nsight-compute-12-2=12.2.2-1', 'COLAB_RELEASE_TAG': 'release-colab_20240910-060204_RC00', 'KMP_TARGET_PORT': '9000', 'KMP_EXTRA_ARGS': '--logtostderr --listen_host=172.28.0.12 --target_host=172.28.0.12 --tunnel_background_save_url=https://colab.research.google.com/tun/m/cc48301118ce562b961b3c22d803539adc1e0c19/m-s-yysr7zal1kwx --tunnel_background_save_delay=10s --tunnel_periodic_background_save_frequency=30m0s --enable_output_coalescing=true --output_coalescing_required=true --log_code_content', 'NV_LIBNPP_DEV_PACKAGE': 'libnpp-dev-12-2=12.2.1.4-1', 'COLAB_LANGUAGE_SERVER_PROXY_LSP_DIRS': '/datalab/web/pyright/typeshed-fallback/stdlib,/usr/local/lib/python3.10/dist-packages', 'NV_LIBCUBLAS_PACKAGE_NAME': 'libcublas-12-2', 'COLAB_KERNEL_MANAGER_PROXY_PORT': '6000', 'CLOUDSDK_PYTHON': 'python3', 'NV_LIBNPP_DEV_VERSION': '12.2.1.4-1', 'NO_GCE_CHECK': 'False', 'PYTHONPATH': '/env/python', 'NV_LIBCUSPARSE_DEV_VERSION': '12.1.2.141-1', 'LIBRARY_PATH': '/usr/local/cuda/lib64/stubs', 'NV_CUDNN_VERSION': '8.9.6.50', 'SHLVL': '0', 'NV_CUDA_LIB_VERSION': '12.2.2-1', 'COLAB_LANGUAGE_SERVER_PROXY': '/usr/colab/bin/language_service', 'NVARCH': 'x86_64', 'NV_CUDNN_PACKAGE_DEV': 'libcudnn8-dev=8.9.6.50-1+cuda12.2', 'NV_CUDA_COMPAT_PACKAGE': 'cuda-compat-12-2', 'NV_LIBNCCL_PACKAGE': 'libnccl2=2.19.3-1+cuda12.2', 'LD_LIBRARY_PATH': '/usr/local/nvidia/lib:/usr/local/nvidia/lib64', 'COLAB_GPU': '', 'NV_CUDA_NSIGHT_COMPUTE_VERSION': '12.2.2-1', 'GCS_READ_CACHE_BLOCK_SIZE_MB': '16', 'NV_NVPROF_VERSION': '12.2.142-1', 'LC_ALL': 'en_US.UTF-8', 'COLAB_FILE_HANDLER_ADDR': 'localhost:3453', 'PATH': '/opt/bin:/usr/local/nvidia/bin:/usr/local/cuda/bin:/usr/local/sbin:/usr/local/bin:/usr/sbin:/usr/bin:/sbin:/bin:/tools/node/bin:/tools/google-cloud-sdk/bin', 'NV_LIBNCCL_PACKAGE_NAME': 'libnccl2', 'COLAB_DEBUG_ADAPTER_MUX_PATH': '/usr/local/bin/dap_multiplexer', 'NV_LIBNCCL_PACKAGE_VERSION': '2.19.3-1', 'PYTHONWARNINGS': 'ignore:::pip._internal.cli.base_command', 'DEBIAN_FRONTEND': 'noninteractive', 'COLAB_BACKEND_VERSION': 'next', 'OLDPWD': '/', 'JPY_PARENT_PID': '88', 'TERM': 'xterm-color', 'CLICOLOR': '1', 'PAGER': 'cat', 'GIT_PAGER': 'cat', 'MPLBACKEND': 'module://ipykernel.pylab.backend_inline', 'ENABLE_DIRECTORYPREFETCHER': '1', 'USE_AUTH_EPHEM': '1', 'PYDEVD_USE_FRAME_EVAL': 'NO'})), ('_i2', 'import os.path as path\\ndef path_divide(apath):\\n  print(f\\'{apath}:{path.splittext(apath)}\\')\\n\\npath_divide(\"wada.xp\")'), ('path', <module 'posixpath' from '/usr/lib/python3.10/posixpath.py'>), ('path_divide', <function path_divide at 0x7b1ba03a5fc0>), ('_i3', 'import os.path as path\\ndef path_divide(apath):\\n  print(f\\'{apath}:{path.splitext(apath)}\\')\\n\\npath_divide(\"wada.xp\")'), ('_i4', 'print(\"True\") if id(\"String\") == id(\"String\")'), ('_i5', 'print(\"True\") if id(\"String\") == id(\"String\") else \"False\"'), ('_i6', 'bnums = [10, 20, 56, 35, 17, 99]\\nbvalues = bytearray(bnums)\\nbvalues'), ('bnums', [10, 20, 56, 35, 17, 99]), ('bvalues', bytearray(b'\\n\\x148#\\x11c')), ('_6', bytearray(b'\\n\\x148#\\x11c')), ('_i7', 'bnums = [10, 20, 56, 35, 17, 99]\\nbvalues = bytearray(bnums)\\nbvalues\\n# Iterate through the elements of the bytearray and print each element.\\nfor x in values:\\n    print(x)'), ('_i8', 'bnums = [10, 20, 56, 35, 17, 99]\\nbvalues = bytearray(bnums)\\nbvalues\\n# Iterate through the elements of the bytearray and print each element.\\nfor x in bvalues:\\n    print(x)'), ('x', 99), ('_i9', 'bnums = [10, 20, 56, 35, 17, 99]\\nbvalues = bytearray(bnums)\\nprint(bvalues)\\n# Iterate through the elements of the bytearray and print each element.\\nfor x in bvalues:\\n    print(x)'), ('_i10', 'afloat = 9.12314\\nafloat.round(3)'), ('afloat', 9.12314), ('_i11', 'afloat = 9.12314\\nround(afloat,3)'), ('_11', 9.123), ('_i12', 'locals()'), ('_12', {...}), ('_i13', 'print(\"True\") if isinstance(\\'__main__\\', locals().items()'), ('_i14', 'print(\"True\") if isinstance(\\'__main__\\', locals().items() else \"False\"'), ('_i15', 'print(\"True\") if isinstance(\\'__main__\\', locals().items()) else \"False\"'), ('_i16', 'print(\"True\") if \\'__main__\\' in locals().items() else \"False\"'), ('_16', 'False'), ('_i17', 'locals.items()'), ('_i18', 'locals().items()'), ('_18', ...), ('_i19', 'locals().values()')]), '__': 'False', '___': {...}, '_i': 'locals().items()', '_ii': 'locals.items()', '_iii': 'print(\"True\") if \\'__main__\\' in locals().items() else \"False\"', '_i1': 'import os\\nos.environ', 'os': <module 'os' from '/usr/lib/python3.10/os.py'>, '_1': environ({'SHELL': '/bin/bash', 'NV_LIBCUBLAS_VERSION': '12.2.5.6-1', 'NVIDIA_VISIBLE_DEVICES': 'all', 'COLAB_JUPYTER_TRANSPORT': 'ipc', 'NV_NVML_DEV_VERSION': '12.2.140-1', 'NV_CUDNN_PACKAGE_NAME': 'libcudnn8', 'CGROUP_MEMORY_EVENTS': '/sys/fs/cgroup/memory.events /var/colab/cgroup/jupyter-children/memory.events', 'NV_LIBNCCL_DEV_PACKAGE': 'libnccl-dev=2.19.3-1+cuda12.2', 'NV_LIBNCCL_DEV_PACKAGE_VERSION': '2.19.3-1', 'VM_GCE_METADATA_HOST': '169.254.169.253', 'HOSTNAME': '57645698dfef', 'LANGUAGE': 'en_US', 'TBE_RUNTIME_ADDR': '172.28.0.1:8011', 'COLAB_TPU_1VM': '', 'GCE_METADATA_TIMEOUT': '3', 'NVIDIA_REQUIRE_CUDA': 'cuda>=12.2 brand=tesla,driver>=470,driver<471 brand=unknown,driver>=470,driver<471 brand=nvidia,driver>=470,driver<471 brand=nvidiartx,driver>=470,driver<471 brand=geforce,driver>=470,driver<471 brand=geforcertx,driver>=470,driver<471 brand=quadro,driver>=470,driver<471 brand=quadrortx,driver>=470,driver<471 brand=titan,driver>=470,driver<471 brand=titanrtx,driver>=470,driver<471 brand=tesla,driver>=525,driver<526 brand=unknown,driver>=525,driver<526 brand=nvidia,driver>=525,driver<526 brand=nvidiartx,driver>=525,driver<526 brand=geforce,driver>=525,driver<526 brand=geforcertx,driver>=525,driver<526 brand=quadro,driver>=525,driver<526 brand=quadrortx,driver>=525,driver<526 brand=titan,driver>=525,driver<526 brand=titanrtx,driver>=525,driver<526', 'NV_LIBCUBLAS_DEV_PACKAGE': 'libcublas-dev-12-2=12.2.5.6-1', 'NV_NVTX_VERSION': '12.2.140-1', 'COLAB_JUPYTER_IP': '172.28.0.12', 'NV_CUDA_CUDART_DEV_VERSION': '12.2.140-1', 'NV_LIBCUSPARSE_VERSION': '12.1.2.141-1', 'COLAB_LANGUAGE_SERVER_PROXY_ROOT_URL': 'http://172.28.0.1:8013/', 'NV_LIBNPP_VERSION': '12.2.1.4-1', 'NCCL_VERSION': '2.19.3-1', 'KMP_LISTEN_PORT': '6000', 'TF_FORCE_GPU_ALLOW_GROWTH': 'true', 'ENV': '/root/.bashrc', 'PWD': '/', 'COLAB_LANGUAGE_SERVER_PROXY_REQUEST_TIMEOUT': '30s', 'TBE_EPHEM_CREDS_ADDR': '172.28.0.1:8009', 'TBE_CREDS_ADDR': '172.28.0.1:8008', 'NV_CUDNN_PACKAGE': 'libcudnn8=8.9.6.50-1+cuda12.2', 'NVIDIA_DRIVER_CAPABILITIES': 'compute,utility', 'COLAB_JUPYTER_TOKEN': '', 'LAST_FORCED_REBUILD': '20240627', 'NV_NVPROF_DEV_PACKAGE': 'cuda-nvprof-12-2=12.2.142-1', 'NV_LIBNPP_PACKAGE': 'libnpp-12-2=12.2.1.4-1', 'NV_LIBNCCL_DEV_PACKAGE_NAME': 'libnccl-dev', 'TCLLIBPATH': '/usr/share/tcltk/tcllib1.20', 'NV_LIBCUBLAS_DEV_VERSION': '12.2.5.6-1', 'NVIDIA_PRODUCT_NAME': 'CUDA', 'COLAB_KERNEL_MANAGER_PROXY_HOST': '172.28.0.12', 'NV_LIBCUBLAS_DEV_PACKAGE_NAME': 'libcublas-dev-12-2', 'NV_CUDA_CUDART_VERSION': '12.2.140-1', 'COLAB_WARMUP_DEFAULTS': '1', 'HOME': '/root', 'LANG': 'en_US.UTF-8', 'COLUMNS': '100', 'CUDA_VERSION': '12.2.2', 'CLOUDSDK_CONFIG': '/content/.config', 'NV_LIBCUBLAS_PACKAGE': 'libcublas-12-2=12.2.5.6-1', 'NV_CUDA_NSIGHT_COMPUTE_DEV_PACKAGE': 'cuda-nsight-compute-12-2=12.2.2-1', 'COLAB_RELEASE_TAG': 'release-colab_20240910-060204_RC00', 'KMP_TARGET_PORT': '9000', 'KMP_EXTRA_ARGS': '--logtostderr --listen_host=172.28.0.12 --target_host=172.28.0.12 --tunnel_background_save_url=https://colab.research.google.com/tun/m/cc48301118ce562b961b3c22d803539adc1e0c19/m-s-yysr7zal1kwx --tunnel_background_save_delay=10s --tunnel_periodic_background_save_frequency=30m0s --enable_output_coalescing=true --output_coalescing_required=true --log_code_content', 'NV_LIBNPP_DEV_PACKAGE': 'libnpp-dev-12-2=12.2.1.4-1', 'COLAB_LANGUAGE_SERVER_PROXY_LSP_DIRS': '/datalab/web/pyright/typeshed-fallback/stdlib,/usr/local/lib/python3.10/dist-packages', 'NV_LIBCUBLAS_PACKAGE_NAME': 'libcublas-12-2', 'COLAB_KERNEL_MANAGER_PROXY_PORT': '6000', 'CLOUDSDK_PYTHON': 'python3', 'NV_LIBNPP_DEV_VERSION': '12.2.1.4-1', 'NO_GCE_CHECK': 'False', 'PYTHONPATH': '/env/python', 'NV_LIBCUSPARSE_DEV_VERSION': '12.1.2.141-1', 'LIBRARY_PATH': '/usr/local/cuda/lib64/stubs', 'NV_CUDNN_VERSION': '8.9.6.50', 'SHLVL': '0', 'NV_CUDA_LIB_VERSION': '12.2.2-1', 'COLAB_LANGUAGE_SERVER_PROXY': '/usr/colab/bin/language_service', 'NVARCH': 'x86_64', 'NV_CUDNN_PACKAGE_DEV': 'libcudnn8-dev=8.9.6.50-1+cuda12.2', 'NV_CUDA_COMPAT_PACKAGE': 'cuda-compat-12-2', 'NV_LIBNCCL_PACKAGE': 'libnccl2=2.19.3-1+cuda12.2', 'LD_LIBRARY_PATH': '/usr/local/nvidia/lib:/usr/local/nvidia/lib64', 'COLAB_GPU': '', 'NV_CUDA_NSIGHT_COMPUTE_VERSION': '12.2.2-1', 'GCS_READ_CACHE_BLOCK_SIZE_MB': '16', 'NV_NVPROF_VERSION': '12.2.142-1', 'LC_ALL': 'en_US.UTF-8', 'COLAB_FILE_HANDLER_ADDR': 'localhost:3453', 'PATH': '/opt/bin:/usr/local/nvidia/bin:/usr/local/cuda/bin:/usr/local/sbin:/usr/local/bin:/usr/sbin:/usr/bin:/sbin:/bin:/tools/node/bin:/tools/google-cloud-sdk/bin', 'NV_LIBNCCL_PACKAGE_NAME': 'libnccl2', 'COLAB_DEBUG_ADAPTER_MUX_PATH': '/usr/local/bin/dap_multiplexer', 'NV_LIBNCCL_PACKAGE_VERSION': '2.19.3-1', 'PYTHONWARNINGS': 'ignore:::pip._internal.cli.base_command', 'DEBIAN_FRONTEND': 'noninteractive', 'COLAB_BACKEND_VERSION': 'next', 'OLDPWD': '/', 'JPY_PARENT_PID': '88', 'TERM': 'xterm-color', 'CLICOLOR': '1', 'PAGER': 'cat', 'GIT_PAGER': 'cat', 'MPLBACKEND': 'module://ipykernel.pylab.backend_inline', 'ENABLE_DIRECTORYPREFETCHER': '1', 'USE_AUTH_EPHEM': '1', 'PYDEVD_USE_FRAME_EVAL': 'NO'}), '_i2': 'import os.path as path\\ndef path_divide(apath):\\n  print(f\\'{apath}:{path.splittext(apath)}\\')\\n\\npath_divide(\"wada.xp\")', 'path': <module 'posixpath' from '/usr/lib/python3.10/posixpath.py'>, 'path_divide': <function path_divide at 0x7b1ba03a5fc0>, '_i3': 'import os.path as path\\ndef path_divide(apath):\\n  print(f\\'{apath}:{path.splitext(apath)}\\')\\n\\npath_divide(\"wada.xp\")', '_i4': 'print(\"True\") if id(\"String\") == id(\"String\")', '_i5': 'print(\"True\") if id(\"String\") == id(\"String\") else \"False\"', '_i6': 'bnums = [10, 20, 56, 35, 17, 99]\\nbvalues = bytearray(bnums)\\nbvalues', 'bnums': [10, 20, 56, 35, 17, 99], 'bvalues': bytearray(b'\\n\\x148#\\x11c'), '_6': bytearray(b'\\n\\x148#\\x11c'), '_i7': 'bnums = [10, 20, 56, 35, 17, 99]\\nbvalues = bytearray(bnums)\\nbvalues\\n# Iterate through the elements of the bytearray and print each element.\\nfor x in values:\\n    print(x)', '_i8': 'bnums = [10, 20, 56, 35, 17, 99]\\nbvalues = bytearray(bnums)\\nbvalues\\n# Iterate through the elements of the bytearray and print each element.\\nfor x in bvalues:\\n    print(x)', 'x': 99, '_i9': 'bnums = [10, 20, 56, 35, 17, 99]\\nbvalues = bytearray(bnums)\\nprint(bvalues)\\n# Iterate through the elements of the bytearray and print each element.\\nfor x in bvalues:\\n    print(x)', '_i10': 'afloat = 9.12314\\nafloat.round(3)', 'afloat': 9.12314, '_i11': 'afloat = 9.12314\\nround(afloat,3)', '_11': 9.123, '_i12': 'locals()', '_12': {...}, '_i13': 'print(\"True\") if isinstance(\\'__main__\\', locals().items()', '_i14': 'print(\"True\") if isinstance(\\'__main__\\', locals().items() else \"False\"', '_i15': 'print(\"True\") if isinstance(\\'__main__\\', locals().items()) else \"False\"', '_i16': 'print(\"True\") if \\'__main__\\' in locals().items() else \"False\"', '_16': 'False', '_i17': 'locals.items()', '_i18': 'locals().items()', '_18': dict_items([('__name__', '__main__'), ('__doc__', 'Automatically created module for IPython interactive environment'), ('__package__', None), ('__loader__', None), ('__spec__', None), ('__builtin__', <module 'builtins' (built-in)>), ('__builtins__', <module 'builtins' (built-in)>), ('_ih', ['', 'import os\\nos.environ', 'import os.path as path\\ndef path_divide(apath):\\n  print(f\\'{apath}:{path.splittext(apath)}\\')\\n\\npath_divide(\"wada.xp\")', 'import os.path as path\\ndef path_divide(apath):\\n  print(f\\'{apath}:{path.splitext(apath)}\\')\\n\\npath_divide(\"wada.xp\")', 'print(\"True\") if id(\"String\") == id(\"String\")', 'print(\"True\") if id(\"String\") == id(\"String\") else \"False\"', 'bnums = [10, 20, 56, 35, 17, 99]\\nbvalues = bytearray(bnums)\\nbvalues', 'bnums = [10, 20, 56, 35, 17, 99]\\nbvalues = bytearray(bnums)\\nbvalues\\n# Iterate through the elements of the bytearray and print each element.\\nfor x in values:\\n    print(x)', 'bnums = [10, 20, 56, 35, 17, 99]\\nbvalues = bytearray(bnums)\\nbvalues\\n# Iterate through the elements of the bytearray and print each element.\\nfor x in bvalues:\\n    print(x)', 'bnums = [10, 20, 56, 35, 17, 99]\\nbvalues = bytearray(bnums)\\nprint(bvalues)\\n# Iterate through the elements of the bytearray and print each element.\\nfor x in bvalues:\\n    print(x)', 'afloat = 9.12314\\nafloat.round(3)', 'afloat = 9.12314\\nround(afloat,3)', 'locals()', 'print(\"True\") if isinstance(\\'__main__\\', locals().items()', 'print(\"True\") if isinstance(\\'__main__\\', locals().items() else \"False\"', 'print(\"True\") if isinstance(\\'__main__\\', locals().items()) else \"False\"', 'print(\"True\") if \\'__main__\\' in locals().items() else \"False\"', 'locals.items()', 'locals().items()', 'locals().values()']), ('_oh', {1: environ({'SHELL': '/bin/bash', 'NV_LIBCUBLAS_VERSION': '12.2.5.6-1', 'NVIDIA_VISIBLE_DEVICES': 'all', 'COLAB_JUPYTER_TRANSPORT': 'ipc', 'NV_NVML_DEV_VERSION': '12.2.140-1', 'NV_CUDNN_PACKAGE_NAME': 'libcudnn8', 'CGROUP_MEMORY_EVENTS': '/sys/fs/cgroup/memory.events /var/colab/cgroup/jupyter-children/memory.events', 'NV_LIBNCCL_DEV_PACKAGE': 'libnccl-dev=2.19.3-1+cuda12.2', 'NV_LIBNCCL_DEV_PACKAGE_VERSION': '2.19.3-1', 'VM_GCE_METADATA_HOST': '169.254.169.253', 'HOSTNAME': '57645698dfef', 'LANGUAGE': 'en_US', 'TBE_RUNTIME_ADDR': '172.28.0.1:8011', 'COLAB_TPU_1VM': '', 'GCE_METADATA_TIMEOUT': '3', 'NVIDIA_REQUIRE_CUDA': 'cuda>=12.2 brand=tesla,driver>=470,driver<471 brand=unknown,driver>=470,driver<471 brand=nvidia,driver>=470,driver<471 brand=nvidiartx,driver>=470,driver<471 brand=geforce,driver>=470,driver<471 brand=geforcertx,driver>=470,driver<471 brand=quadro,driver>=470,driver<471 brand=quadrortx,driver>=470,driver<471 brand=titan,driver>=470,driver<471 brand=titanrtx,driver>=470,driver<471 brand=tesla,driver>=525,driver<526 brand=unknown,driver>=525,driver<526 brand=nvidia,driver>=525,driver<526 brand=nvidiartx,driver>=525,driver<526 brand=geforce,driver>=525,driver<526 brand=geforcertx,driver>=525,driver<526 brand=quadro,driver>=525,driver<526 brand=quadrortx,driver>=525,driver<526 brand=titan,driver>=525,driver<526 brand=titanrtx,driver>=525,driver<526', 'NV_LIBCUBLAS_DEV_PACKAGE': 'libcublas-dev-12-2=12.2.5.6-1', 'NV_NVTX_VERSION': '12.2.140-1', 'COLAB_JUPYTER_IP': '172.28.0.12', 'NV_CUDA_CUDART_DEV_VERSION': '12.2.140-1', 'NV_LIBCUSPARSE_VERSION': '12.1.2.141-1', 'COLAB_LANGUAGE_SERVER_PROXY_ROOT_URL': 'http://172.28.0.1:8013/', 'NV_LIBNPP_VERSION': '12.2.1.4-1', 'NCCL_VERSION': '2.19.3-1', 'KMP_LISTEN_PORT': '6000', 'TF_FORCE_GPU_ALLOW_GROWTH': 'true', 'ENV': '/root/.bashrc', 'PWD': '/', 'COLAB_LANGUAGE_SERVER_PROXY_REQUEST_TIMEOUT': '30s', 'TBE_EPHEM_CREDS_ADDR': '172.28.0.1:8009', 'TBE_CREDS_ADDR': '172.28.0.1:8008', 'NV_CUDNN_PACKAGE': 'libcudnn8=8.9.6.50-1+cuda12.2', 'NVIDIA_DRIVER_CAPABILITIES': 'compute,utility', 'COLAB_JUPYTER_TOKEN': '', 'LAST_FORCED_REBUILD': '20240627', 'NV_NVPROF_DEV_PACKAGE': 'cuda-nvprof-12-2=12.2.142-1', 'NV_LIBNPP_PACKAGE': 'libnpp-12-2=12.2.1.4-1', 'NV_LIBNCCL_DEV_PACKAGE_NAME': 'libnccl-dev', 'TCLLIBPATH': '/usr/share/tcltk/tcllib1.20', 'NV_LIBCUBLAS_DEV_VERSION': '12.2.5.6-1', 'NVIDIA_PRODUCT_NAME': 'CUDA', 'COLAB_KERNEL_MANAGER_PROXY_HOST': '172.28.0.12', 'NV_LIBCUBLAS_DEV_PACKAGE_NAME': 'libcublas-dev-12-2', 'NV_CUDA_CUDART_VERSION': '12.2.140-1', 'COLAB_WARMUP_DEFAULTS': '1', 'HOME': '/root', 'LANG': 'en_US.UTF-8', 'COLUMNS': '100', 'CUDA_VERSION': '12.2.2', 'CLOUDSDK_CONFIG': '/content/.config', 'NV_LIBCUBLAS_PACKAGE': 'libcublas-12-2=12.2.5.6-1', 'NV_CUDA_NSIGHT_COMPUTE_DEV_PACKAGE': 'cuda-nsight-compute-12-2=12.2.2-1', 'COLAB_RELEASE_TAG': 'release-colab_20240910-060204_RC00', 'KMP_TARGET_PORT': '9000', 'KMP_EXTRA_ARGS': '--logtostderr --listen_host=172.28.0.12 --target_host=172.28.0.12 --tunnel_background_save_url=https://colab.research.google.com/tun/m/cc48301118ce562b961b3c22d803539adc1e0c19/m-s-yysr7zal1kwx --tunnel_background_save_delay=10s --tunnel_periodic_background_save_frequency=30m0s --enable_output_coalescing=true --output_coalescing_required=true --log_code_content', 'NV_LIBNPP_DEV_PACKAGE': 'libnpp-dev-12-2=12.2.1.4-1', 'COLAB_LANGUAGE_SERVER_PROXY_LSP_DIRS': '/datalab/web/pyright/typeshed-fallback/stdlib,/usr/local/lib/python3.10/dist-packages', 'NV_LIBCUBLAS_PACKAGE_NAME': 'libcublas-12-2', 'COLAB_KERNEL_MANAGER_PROXY_PORT': '6000', 'CLOUDSDK_PYTHON': 'python3', 'NV_LIBNPP_DEV_VERSION': '12.2.1.4-1', 'NO_GCE_CHECK': 'False', 'PYTHONPATH': '/env/python', 'NV_LIBCUSPARSE_DEV_VERSION': '12.1.2.141-1', 'LIBRARY_PATH': '/usr/local/cuda/lib64/stubs', 'NV_CUDNN_VERSION': '8.9.6.50', 'SHLVL': '0', 'NV_CUDA_LIB_VERSION': '12.2.2-1', 'COLAB_LANGUAGE_SERVER_PROXY': '/usr/colab/bin/language_service', 'NVARCH': 'x86_64', 'NV_CUDNN_PACKAGE_DEV': 'libcudnn8-dev=8.9.6.50-1+cuda12.2', 'NV_CUDA_COMPAT_PACKAGE': 'cuda-compat-12-2', 'NV_LIBNCCL_PACKAGE': 'libnccl2=2.19.3-1+cuda12.2', 'LD_LIBRARY_PATH': '/usr/local/nvidia/lib:/usr/local/nvidia/lib64', 'COLAB_GPU': '', 'NV_CUDA_NSIGHT_COMPUTE_VERSION': '12.2.2-1', 'GCS_READ_CACHE_BLOCK_SIZE_MB': '16', 'NV_NVPROF_VERSION': '12.2.142-1', 'LC_ALL': 'en_US.UTF-8', 'COLAB_FILE_HANDLER_ADDR': 'localhost:3453', 'PATH': '/opt/bin:/usr/local/nvidia/bin:/usr/local/cuda/bin:/usr/local/sbin:/usr/local/bin:/usr/sbin:/usr/bin:/sbin:/bin:/tools/node/bin:/tools/google-cloud-sdk/bin', 'NV_LIBNCCL_PACKAGE_NAME': 'libnccl2', 'COLAB_DEBUG_ADAPTER_MUX_PATH': '/usr/local/bin/dap_multiplexer', 'NV_LIBNCCL_PACKAGE_VERSION': '2.19.3-1', 'PYTHONWARNINGS': 'ignore:::pip._internal.cli.base_command', 'DEBIAN_FRONTEND': 'noninteractive', 'COLAB_BACKEND_VERSION': 'next', 'OLDPWD': '/', 'JPY_PARENT_PID': '88', 'TERM': 'xterm-color', 'CLICOLOR': '1', 'PAGER': 'cat', 'GIT_PAGER': 'cat', 'MPLBACKEND': 'module://ipykernel.pylab.backend_inline', 'ENABLE_DIRECTORYPREFETCHER': '1', 'USE_AUTH_EPHEM': '1', 'PYDEVD_USE_FRAME_EVAL': 'NO'}), 6: bytearray(b'\\n\\x148#\\x11c'), 11: 9.123, 12: {...}, 16: 'False', 18: ...}), ('_dh', ['/content']), ('In', ['', 'import os\\nos.environ', 'import os.path as path\\ndef path_divide(apath):\\n  print(f\\'{apath}:{path.splittext(apath)}\\')\\n\\npath_divide(\"wada.xp\")', 'import os.path as path\\ndef path_divide(apath):\\n  print(f\\'{apath}:{path.splitext(apath)}\\')\\n\\npath_divide(\"wada.xp\")', 'print(\"True\") if id(\"String\") == id(\"String\")', 'print(\"True\") if id(\"String\") == id(\"String\") else \"False\"', 'bnums = [10, 20, 56, 35, 17, 99]\\nbvalues = bytearray(bnums)\\nbvalues', 'bnums = [10, 20, 56, 35, 17, 99]\\nbvalues = bytearray(bnums)\\nbvalues\\n# Iterate through the elements of the bytearray and print each element.\\nfor x in values:\\n    print(x)', 'bnums = [10, 20, 56, 35, 17, 99]\\nbvalues = bytearray(bnums)\\nbvalues\\n# Iterate through the elements of the bytearray and print each element.\\nfor x in bvalues:\\n    print(x)', 'bnums = [10, 20, 56, 35, 17, 99]\\nbvalues = bytearray(bnums)\\nprint(bvalues)\\n# Iterate through the elements of the bytearray and print each element.\\nfor x in bvalues:\\n    print(x)', 'afloat = 9.12314\\nafloat.round(3)', 'afloat = 9.12314\\nround(afloat,3)', 'locals()', 'print(\"True\") if isinstance(\\'__main__\\', locals().items()', 'print(\"True\") if isinstance(\\'__main__\\', locals().items() else \"False\"', 'print(\"True\") if isinstance(\\'__main__\\', locals().items()) else \"False\"', 'print(\"True\") if \\'__main__\\' in locals().items() else \"False\"', 'locals.items()', 'locals().items()', 'locals().values()']), ('Out', {1: environ({'SHELL': '/bin/bash', 'NV_LIBCUBLAS_VERSION': '12.2.5.6-1', 'NVIDIA_VISIBLE_DEVICES': 'all', 'COLAB_JUPYTER_TRANSPORT': 'ipc', 'NV_NVML_DEV_VERSION': '12.2.140-1', 'NV_CUDNN_PACKAGE_NAME': 'libcudnn8', 'CGROUP_MEMORY_EVENTS': '/sys/fs/cgroup/memory.events /var/colab/cgroup/jupyter-children/memory.events', 'NV_LIBNCCL_DEV_PACKAGE': 'libnccl-dev=2.19.3-1+cuda12.2', 'NV_LIBNCCL_DEV_PACKAGE_VERSION': '2.19.3-1', 'VM_GCE_METADATA_HOST': '169.254.169.253', 'HOSTNAME': '57645698dfef', 'LANGUAGE': 'en_US', 'TBE_RUNTIME_ADDR': '172.28.0.1:8011', 'COLAB_TPU_1VM': '', 'GCE_METADATA_TIMEOUT': '3', 'NVIDIA_REQUIRE_CUDA': 'cuda>=12.2 brand=tesla,driver>=470,driver<471 brand=unknown,driver>=470,driver<471 brand=nvidia,driver>=470,driver<471 brand=nvidiartx,driver>=470,driver<471 brand=geforce,driver>=470,driver<471 brand=geforcertx,driver>=470,driver<471 brand=quadro,driver>=470,driver<471 brand=quadrortx,driver>=470,driver<471 brand=titan,driver>=470,driver<471 brand=titanrtx,driver>=470,driver<471 brand=tesla,driver>=525,driver<526 brand=unknown,driver>=525,driver<526 brand=nvidia,driver>=525,driver<526 brand=nvidiartx,driver>=525,driver<526 brand=geforce,driver>=525,driver<526 brand=geforcertx,driver>=525,driver<526 brand=quadro,driver>=525,driver<526 brand=quadrortx,driver>=525,driver<526 brand=titan,driver>=525,driver<526 brand=titanrtx,driver>=525,driver<526', 'NV_LIBCUBLAS_DEV_PACKAGE': 'libcublas-dev-12-2=12.2.5.6-1', 'NV_NVTX_VERSION': '12.2.140-1', 'COLAB_JUPYTER_IP': '172.28.0.12', 'NV_CUDA_CUDART_DEV_VERSION': '12.2.140-1', 'NV_LIBCUSPARSE_VERSION': '12.1.2.141-1', 'COLAB_LANGUAGE_SERVER_PROXY_ROOT_URL': 'http://172.28.0.1:8013/', 'NV_LIBNPP_VERSION': '12.2.1.4-1', 'NCCL_VERSION': '2.19.3-1', 'KMP_LISTEN_PORT': '6000', 'TF_FORCE_GPU_ALLOW_GROWTH': 'true', 'ENV': '/root/.bashrc', 'PWD': '/', 'COLAB_LANGUAGE_SERVER_PROXY_REQUEST_TIMEOUT': '30s', 'TBE_EPHEM_CREDS_ADDR': '172.28.0.1:8009', 'TBE_CREDS_ADDR': '172.28.0.1:8008', 'NV_CUDNN_PACKAGE': 'libcudnn8=8.9.6.50-1+cuda12.2', 'NVIDIA_DRIVER_CAPABILITIES': 'compute,utility', 'COLAB_JUPYTER_TOKEN': '', 'LAST_FORCED_REBUILD': '20240627', 'NV_NVPROF_DEV_PACKAGE': 'cuda-nvprof-12-2=12.2.142-1', 'NV_LIBNPP_PACKAGE': 'libnpp-12-2=12.2.1.4-1', 'NV_LIBNCCL_DEV_PACKAGE_NAME': 'libnccl-dev', 'TCLLIBPATH': '/usr/share/tcltk/tcllib1.20', 'NV_LIBCUBLAS_DEV_VERSION': '12.2.5.6-1', 'NVIDIA_PRODUCT_NAME': 'CUDA', 'COLAB_KERNEL_MANAGER_PROXY_HOST': '172.28.0.12', 'NV_LIBCUBLAS_DEV_PACKAGE_NAME': 'libcublas-dev-12-2', 'NV_CUDA_CUDART_VERSION': '12.2.140-1', 'COLAB_WARMUP_DEFAULTS': '1', 'HOME': '/root', 'LANG': 'en_US.UTF-8', 'COLUMNS': '100', 'CUDA_VERSION': '12.2.2', 'CLOUDSDK_CONFIG': '/content/.config', 'NV_LIBCUBLAS_PACKAGE': 'libcublas-12-2=12.2.5.6-1', 'NV_CUDA_NSIGHT_COMPUTE_DEV_PACKAGE': 'cuda-nsight-compute-12-2=12.2.2-1', 'COLAB_RELEASE_TAG': 'release-colab_20240910-060204_RC00', 'KMP_TARGET_PORT': '9000', 'KMP_EXTRA_ARGS': '--logtostderr --listen_host=172.28.0.12 --target_host=172.28.0.12 --tunnel_background_save_url=https://colab.research.google.com/tun/m/cc48301118ce562b961b3c22d803539adc1e0c19/m-s-yysr7zal1kwx --tunnel_background_save_delay=10s --tunnel_periodic_background_save_frequency=30m0s --enable_output_coalescing=true --output_coalescing_required=true --log_code_content', 'NV_LIBNPP_DEV_PACKAGE': 'libnpp-dev-12-2=12.2.1.4-1', 'COLAB_LANGUAGE_SERVER_PROXY_LSP_DIRS': '/datalab/web/pyright/typeshed-fallback/stdlib,/usr/local/lib/python3.10/dist-packages', 'NV_LIBCUBLAS_PACKAGE_NAME': 'libcublas-12-2', 'COLAB_KERNEL_MANAGER_PROXY_PORT': '6000', 'CLOUDSDK_PYTHON': 'python3', 'NV_LIBNPP_DEV_VERSION': '12.2.1.4-1', 'NO_GCE_CHECK': 'False', 'PYTHONPATH': '/env/python', 'NV_LIBCUSPARSE_DEV_VERSION': '12.1.2.141-1', 'LIBRARY_PATH': '/usr/local/cuda/lib64/stubs', 'NV_CUDNN_VERSION': '8.9.6.50', 'SHLVL': '0', 'NV_CUDA_LIB_VERSION': '12.2.2-1', 'COLAB_LANGUAGE_SERVER_PROXY': '/usr/colab/bin/language_service', 'NVARCH': 'x86_64', 'NV_CUDNN_PACKAGE_DEV': 'libcudnn8-dev=8.9.6.50-1+cuda12.2', 'NV_CUDA_COMPAT_PACKAGE': 'cuda-compat-12-2', 'NV_LIBNCCL_PACKAGE': 'libnccl2=2.19.3-1+cuda12.2', 'LD_LIBRARY_PATH': '/usr/local/nvidia/lib:/usr/local/nvidia/lib64', 'COLAB_GPU': '', 'NV_CUDA_NSIGHT_COMPUTE_VERSION': '12.2.2-1', 'GCS_READ_CACHE_BLOCK_SIZE_MB': '16', 'NV_NVPROF_VERSION': '12.2.142-1', 'LC_ALL': 'en_US.UTF-8', 'COLAB_FILE_HANDLER_ADDR': 'localhost:3453', 'PATH': '/opt/bin:/usr/local/nvidia/bin:/usr/local/cuda/bin:/usr/local/sbin:/usr/local/bin:/usr/sbin:/usr/bin:/sbin:/bin:/tools/node/bin:/tools/google-cloud-sdk/bin', 'NV_LIBNCCL_PACKAGE_NAME': 'libnccl2', 'COLAB_DEBUG_ADAPTER_MUX_PATH': '/usr/local/bin/dap_multiplexer', 'NV_LIBNCCL_PACKAGE_VERSION': '2.19.3-1', 'PYTHONWARNINGS': 'ignore:::pip._internal.cli.base_command', 'DEBIAN_FRONTEND': 'noninteractive', 'COLAB_BACKEND_VERSION': 'next', 'OLDPWD': '/', 'JPY_PARENT_PID': '88', 'TERM': 'xterm-color', 'CLICOLOR': '1', 'PAGER': 'cat', 'GIT_PAGER': 'cat', 'MPLBACKEND': 'module://ipykernel.pylab.backend_inline', 'ENABLE_DIRECTORYPREFETCHER': '1', 'USE_AUTH_EPHEM': '1', 'PYDEVD_USE_FRAME_EVAL': 'NO'}), 6: bytearray(b'\\n\\x148#\\x11c'), 11: 9.123, 12: {...}, 16: 'False', 18: ...}), ('get_ipython', <bound method InteractiveShell.get_ipython of <google.colab._shell.Shell object at 0x7b1bb296e710>>), ('exit', <IPython.core.autocall.ZMQExitAutocall object at 0x7b1bb296dbd0>), ('quit', <IPython.core.autocall.ZMQExitAutocall object at 0x7b1bb296dbd0>), ('_', ...), ('__', 'False'), ('___', {...}), ('_i', 'locals().items()'), ('_ii', 'locals.items()'), ('_iii', 'print(\"True\") if \\'__main__\\' in locals().items() else \"False\"'), ('_i1', 'import os\\nos.environ'), ('os', <module 'os' from '/usr/lib/python3.10/os.py'>), ('_1', environ({'SHELL': '/bin/bash', 'NV_LIBCUBLAS_VERSION': '12.2.5.6-1', 'NVIDIA_VISIBLE_DEVICES': 'all', 'COLAB_JUPYTER_TRANSPORT': 'ipc', 'NV_NVML_DEV_VERSION': '12.2.140-1', 'NV_CUDNN_PACKAGE_NAME': 'libcudnn8', 'CGROUP_MEMORY_EVENTS': '/sys/fs/cgroup/memory.events /var/colab/cgroup/jupyter-children/memory.events', 'NV_LIBNCCL_DEV_PACKAGE': 'libnccl-dev=2.19.3-1+cuda12.2', 'NV_LIBNCCL_DEV_PACKAGE_VERSION': '2.19.3-1', 'VM_GCE_METADATA_HOST': '169.254.169.253', 'HOSTNAME': '57645698dfef', 'LANGUAGE': 'en_US', 'TBE_RUNTIME_ADDR': '172.28.0.1:8011', 'COLAB_TPU_1VM': '', 'GCE_METADATA_TIMEOUT': '3', 'NVIDIA_REQUIRE_CUDA': 'cuda>=12.2 brand=tesla,driver>=470,driver<471 brand=unknown,driver>=470,driver<471 brand=nvidia,driver>=470,driver<471 brand=nvidiartx,driver>=470,driver<471 brand=geforce,driver>=470,driver<471 brand=geforcertx,driver>=470,driver<471 brand=quadro,driver>=470,driver<471 brand=quadrortx,driver>=470,driver<471 brand=titan,driver>=470,driver<471 brand=titanrtx,driver>=470,driver<471 brand=tesla,driver>=525,driver<526 brand=unknown,driver>=525,driver<526 brand=nvidia,driver>=525,driver<526 brand=nvidiartx,driver>=525,driver<526 brand=geforce,driver>=525,driver<526 brand=geforcertx,driver>=525,driver<526 brand=quadro,driver>=525,driver<526 brand=quadrortx,driver>=525,driver<526 brand=titan,driver>=525,driver<526 brand=titanrtx,driver>=525,driver<526', 'NV_LIBCUBLAS_DEV_PACKAGE': 'libcublas-dev-12-2=12.2.5.6-1', 'NV_NVTX_VERSION': '12.2.140-1', 'COLAB_JUPYTER_IP': '172.28.0.12', 'NV_CUDA_CUDART_DEV_VERSION': '12.2.140-1', 'NV_LIBCUSPARSE_VERSION': '12.1.2.141-1', 'COLAB_LANGUAGE_SERVER_PROXY_ROOT_URL': 'http://172.28.0.1:8013/', 'NV_LIBNPP_VERSION': '12.2.1.4-1', 'NCCL_VERSION': '2.19.3-1', 'KMP_LISTEN_PORT': '6000', 'TF_FORCE_GPU_ALLOW_GROWTH': 'true', 'ENV': '/root/.bashrc', 'PWD': '/', 'COLAB_LANGUAGE_SERVER_PROXY_REQUEST_TIMEOUT': '30s', 'TBE_EPHEM_CREDS_ADDR': '172.28.0.1:8009', 'TBE_CREDS_ADDR': '172.28.0.1:8008', 'NV_CUDNN_PACKAGE': 'libcudnn8=8.9.6.50-1+cuda12.2', 'NVIDIA_DRIVER_CAPABILITIES': 'compute,utility', 'COLAB_JUPYTER_TOKEN': '', 'LAST_FORCED_REBUILD': '20240627', 'NV_NVPROF_DEV_PACKAGE': 'cuda-nvprof-12-2=12.2.142-1', 'NV_LIBNPP_PACKAGE': 'libnpp-12-2=12.2.1.4-1', 'NV_LIBNCCL_DEV_PACKAGE_NAME': 'libnccl-dev', 'TCLLIBPATH': '/usr/share/tcltk/tcllib1.20', 'NV_LIBCUBLAS_DEV_VERSION': '12.2.5.6-1', 'NVIDIA_PRODUCT_NAME': 'CUDA', 'COLAB_KERNEL_MANAGER_PROXY_HOST': '172.28.0.12', 'NV_LIBCUBLAS_DEV_PACKAGE_NAME': 'libcublas-dev-12-2', 'NV_CUDA_CUDART_VERSION': '12.2.140-1', 'COLAB_WARMUP_DEFAULTS': '1', 'HOME': '/root', 'LANG': 'en_US.UTF-8', 'COLUMNS': '100', 'CUDA_VERSION': '12.2.2', 'CLOUDSDK_CONFIG': '/content/.config', 'NV_LIBCUBLAS_PACKAGE': 'libcublas-12-2=12.2.5.6-1', 'NV_CUDA_NSIGHT_COMPUTE_DEV_PACKAGE': 'cuda-nsight-compute-12-2=12.2.2-1', 'COLAB_RELEASE_TAG': 'release-colab_20240910-060204_RC00', 'KMP_TARGET_PORT': '9000', 'KMP_EXTRA_ARGS': '--logtostderr --listen_host=172.28.0.12 --target_host=172.28.0.12 --tunnel_background_save_url=https://colab.research.google.com/tun/m/cc48301118ce562b961b3c22d803539adc1e0c19/m-s-yysr7zal1kwx --tunnel_background_save_delay=10s --tunnel_periodic_background_save_frequency=30m0s --enable_output_coalescing=true --output_coalescing_required=true --log_code_content', 'NV_LIBNPP_DEV_PACKAGE': 'libnpp-dev-12-2=12.2.1.4-1', 'COLAB_LANGUAGE_SERVER_PROXY_LSP_DIRS': '/datalab/web/pyright/typeshed-fallback/stdlib,/usr/local/lib/python3.10/dist-packages', 'NV_LIBCUBLAS_PACKAGE_NAME': 'libcublas-12-2', 'COLAB_KERNEL_MANAGER_PROXY_PORT': '6000', 'CLOUDSDK_PYTHON': 'python3', 'NV_LIBNPP_DEV_VERSION': '12.2.1.4-1', 'NO_GCE_CHECK': 'False', 'PYTHONPATH': '/env/python', 'NV_LIBCUSPARSE_DEV_VERSION': '12.1.2.141-1', 'LIBRARY_PATH': '/usr/local/cuda/lib64/stubs', 'NV_CUDNN_VERSION': '8.9.6.50', 'SHLVL': '0', 'NV_CUDA_LIB_VERSION': '12.2.2-1', 'COLAB_LANGUAGE_SERVER_PROXY': '/usr/colab/bin/language_service', 'NVARCH': 'x86_64', 'NV_CUDNN_PACKAGE_DEV': 'libcudnn8-dev=8.9.6.50-1+cuda12.2', 'NV_CUDA_COMPAT_PACKAGE': 'cuda-compat-12-2', 'NV_LIBNCCL_PACKAGE': 'libnccl2=2.19.3-1+cuda12.2', 'LD_LIBRARY_PATH': '/usr/local/nvidia/lib:/usr/local/nvidia/lib64', 'COLAB_GPU': '', 'NV_CUDA_NSIGHT_COMPUTE_VERSION': '12.2.2-1', 'GCS_READ_CACHE_BLOCK_SIZE_MB': '16', 'NV_NVPROF_VERSION': '12.2.142-1', 'LC_ALL': 'en_US.UTF-8', 'COLAB_FILE_HANDLER_ADDR': 'localhost:3453', 'PATH': '/opt/bin:/usr/local/nvidia/bin:/usr/local/cuda/bin:/usr/local/sbin:/usr/local/bin:/usr/sbin:/usr/bin:/sbin:/bin:/tools/node/bin:/tools/google-cloud-sdk/bin', 'NV_LIBNCCL_PACKAGE_NAME': 'libnccl2', 'COLAB_DEBUG_ADAPTER_MUX_PATH': '/usr/local/bin/dap_multiplexer', 'NV_LIBNCCL_PACKAGE_VERSION': '2.19.3-1', 'PYTHONWARNINGS': 'ignore:::pip._internal.cli.base_command', 'DEBIAN_FRONTEND': 'noninteractive', 'COLAB_BACKEND_VERSION': 'next', 'OLDPWD': '/', 'JPY_PARENT_PID': '88', 'TERM': 'xterm-color', 'CLICOLOR': '1', 'PAGER': 'cat', 'GIT_PAGER': 'cat', 'MPLBACKEND': 'module://ipykernel.pylab.backend_inline', 'ENABLE_DIRECTORYPREFETCHER': '1', 'USE_AUTH_EPHEM': '1', 'PYDEVD_USE_FRAME_EVAL': 'NO'})), ('_i2', 'import os.path as path\\ndef path_divide(apath):\\n  print(f\\'{apath}:{path.splittext(apath)}\\')\\n\\npath_divide(\"wada.xp\")'), ('path', <module 'posixpath' from '/usr/lib/python3.10/posixpath.py'>), ('path_divide', <function path_divide at 0x7b1ba03a5fc0>), ('_i3', 'import os.path as path\\ndef path_divide(apath):\\n  print(f\\'{apath}:{path.splitext(apath)}\\')\\n\\npath_divide(\"wada.xp\")'), ('_i4', 'print(\"True\") if id(\"String\") == id(\"String\")'), ('_i5', 'print(\"True\") if id(\"String\") == id(\"String\") else \"False\"'), ('_i6', 'bnums = [10, 20, 56, 35, 17, 99]\\nbvalues = bytearray(bnums)\\nbvalues'), ('bnums', [10, 20, 56, 35, 17, 99]), ('bvalues', bytearray(b'\\n\\x148#\\x11c')), ('_6', bytearray(b'\\n\\x148#\\x11c')), ('_i7', 'bnums = [10, 20, 56, 35, 17, 99]\\nbvalues = bytearray(bnums)\\nbvalues\\n# Iterate through the elements of the bytearray and print each element.\\nfor x in values:\\n    print(x)'), ('_i8', 'bnums = [10, 20, 56, 35, 17, 99]\\nbvalues = bytearray(bnums)\\nbvalues\\n# Iterate through the elements of the bytearray and print each element.\\nfor x in bvalues:\\n    print(x)'), ('x', 99), ('_i9', 'bnums = [10, 20, 56, 35, 17, 99]\\nbvalues = bytearray(bnums)\\nprint(bvalues)\\n# Iterate through the elements of the bytearray and print each element.\\nfor x in bvalues:\\n    print(x)'), ('_i10', 'afloat = 9.12314\\nafloat.round(3)'), ('afloat', 9.12314), ('_i11', 'afloat = 9.12314\\nround(afloat,3)'), ('_11', 9.123), ('_i12', 'locals()'), ('_12', {...}), ('_i13', 'print(\"True\") if isinstance(\\'__main__\\', locals().items()'), ('_i14', 'print(\"True\") if isinstance(\\'__main__\\', locals().items() else \"False\"'), ('_i15', 'print(\"True\") if isinstance(\\'__main__\\', locals().items()) else \"False\"'), ('_i16', 'print(\"True\") if \\'__main__\\' in locals().items() else \"False\"'), ('_16', 'False'), ('_i17', 'locals.items()'), ('_i18', 'locals().items()'), ('_18', ...), ('_i19', 'locals().values()')]), '_i19': 'locals().values()'}, 'locals().items()', 'locals.items()', 'print(\"True\") if \\'__main__\\' in locals().items() else \"False\"', 'import os\\nos.environ', <module 'os' from '/usr/lib/python3.10/os.py'>, environ({'SHELL': '/bin/bash', 'NV_LIBCUBLAS_VERSION': '12.2.5.6-1', 'NVIDIA_VISIBLE_DEVICES': 'all', 'COLAB_JUPYTER_TRANSPORT': 'ipc', 'NV_NVML_DEV_VERSION': '12.2.140-1', 'NV_CUDNN_PACKAGE_NAME': 'libcudnn8', 'CGROUP_MEMORY_EVENTS': '/sys/fs/cgroup/memory.events /var/colab/cgroup/jupyter-children/memory.events', 'NV_LIBNCCL_DEV_PACKAGE': 'libnccl-dev=2.19.3-1+cuda12.2', 'NV_LIBNCCL_DEV_PACKAGE_VERSION': '2.19.3-1', 'VM_GCE_METADATA_HOST': '169.254.169.253', 'HOSTNAME': '57645698dfef', 'LANGUAGE': 'en_US', 'TBE_RUNTIME_ADDR': '172.28.0.1:8011', 'COLAB_TPU_1VM': '', 'GCE_METADATA_TIMEOUT': '3', 'NVIDIA_REQUIRE_CUDA': 'cuda>=12.2 brand=tesla,driver>=470,driver<471 brand=unknown,driver>=470,driver<471 brand=nvidia,driver>=470,driver<471 brand=nvidiartx,driver>=470,driver<471 brand=geforce,driver>=470,driver<471 brand=geforcertx,driver>=470,driver<471 brand=quadro,driver>=470,driver<471 brand=quadrortx,driver>=470,driver<471 brand=titan,driver>=470,driver<471 brand=titanrtx,driver>=470,driver<471 brand=tesla,driver>=525,driver<526 brand=unknown,driver>=525,driver<526 brand=nvidia,driver>=525,driver<526 brand=nvidiartx,driver>=525,driver<526 brand=geforce,driver>=525,driver<526 brand=geforcertx,driver>=525,driver<526 brand=quadro,driver>=525,driver<526 brand=quadrortx,driver>=525,driver<526 brand=titan,driver>=525,driver<526 brand=titanrtx,driver>=525,driver<526', 'NV_LIBCUBLAS_DEV_PACKAGE': 'libcublas-dev-12-2=12.2.5.6-1', 'NV_NVTX_VERSION': '12.2.140-1', 'COLAB_JUPYTER_IP': '172.28.0.12', 'NV_CUDA_CUDART_DEV_VERSION': '12.2.140-1', 'NV_LIBCUSPARSE_VERSION': '12.1.2.141-1', 'COLAB_LANGUAGE_SERVER_PROXY_ROOT_URL': 'http://172.28.0.1:8013/', 'NV_LIBNPP_VERSION': '12.2.1.4-1', 'NCCL_VERSION': '2.19.3-1', 'KMP_LISTEN_PORT': '6000', 'TF_FORCE_GPU_ALLOW_GROWTH': 'true', 'ENV': '/root/.bashrc', 'PWD': '/', 'COLAB_LANGUAGE_SERVER_PROXY_REQUEST_TIMEOUT': '30s', 'TBE_EPHEM_CREDS_ADDR': '172.28.0.1:8009', 'TBE_CREDS_ADDR': '172.28.0.1:8008', 'NV_CUDNN_PACKAGE': 'libcudnn8=8.9.6.50-1+cuda12.2', 'NVIDIA_DRIVER_CAPABILITIES': 'compute,utility', 'COLAB_JUPYTER_TOKEN': '', 'LAST_FORCED_REBUILD': '20240627', 'NV_NVPROF_DEV_PACKAGE': 'cuda-nvprof-12-2=12.2.142-1', 'NV_LIBNPP_PACKAGE': 'libnpp-12-2=12.2.1.4-1', 'NV_LIBNCCL_DEV_PACKAGE_NAME': 'libnccl-dev', 'TCLLIBPATH': '/usr/share/tcltk/tcllib1.20', 'NV_LIBCUBLAS_DEV_VERSION': '12.2.5.6-1', 'NVIDIA_PRODUCT_NAME': 'CUDA', 'COLAB_KERNEL_MANAGER_PROXY_HOST': '172.28.0.12', 'NV_LIBCUBLAS_DEV_PACKAGE_NAME': 'libcublas-dev-12-2', 'NV_CUDA_CUDART_VERSION': '12.2.140-1', 'COLAB_WARMUP_DEFAULTS': '1', 'HOME': '/root', 'LANG': 'en_US.UTF-8', 'COLUMNS': '100', 'CUDA_VERSION': '12.2.2', 'CLOUDSDK_CONFIG': '/content/.config', 'NV_LIBCUBLAS_PACKAGE': 'libcublas-12-2=12.2.5.6-1', 'NV_CUDA_NSIGHT_COMPUTE_DEV_PACKAGE': 'cuda-nsight-compute-12-2=12.2.2-1', 'COLAB_RELEASE_TAG': 'release-colab_20240910-060204_RC00', 'KMP_TARGET_PORT': '9000', 'KMP_EXTRA_ARGS': '--logtostderr --listen_host=172.28.0.12 --target_host=172.28.0.12 --tunnel_background_save_url=https://colab.research.google.com/tun/m/cc48301118ce562b961b3c22d803539adc1e0c19/m-s-yysr7zal1kwx --tunnel_background_save_delay=10s --tunnel_periodic_background_save_frequency=30m0s --enable_output_coalescing=true --output_coalescing_required=true --log_code_content', 'NV_LIBNPP_DEV_PACKAGE': 'libnpp-dev-12-2=12.2.1.4-1', 'COLAB_LANGUAGE_SERVER_PROXY_LSP_DIRS': '/datalab/web/pyright/typeshed-fallback/stdlib,/usr/local/lib/python3.10/dist-packages', 'NV_LIBCUBLAS_PACKAGE_NAME': 'libcublas-12-2', 'COLAB_KERNEL_MANAGER_PROXY_PORT': '6000', 'CLOUDSDK_PYTHON': 'python3', 'NV_LIBNPP_DEV_VERSION': '12.2.1.4-1', 'NO_GCE_CHECK': 'False', 'PYTHONPATH': '/env/python', 'NV_LIBCUSPARSE_DEV_VERSION': '12.1.2.141-1', 'LIBRARY_PATH': '/usr/local/cuda/lib64/stubs', 'NV_CUDNN_VERSION': '8.9.6.50', 'SHLVL': '0', 'NV_CUDA_LIB_VERSION': '12.2.2-1', 'COLAB_LANGUAGE_SERVER_PROXY': '/usr/colab/bin/language_service', 'NVARCH': 'x86_64', 'NV_CUDNN_PACKAGE_DEV': 'libcudnn8-dev=8.9.6.50-1+cuda12.2', 'NV_CUDA_COMPAT_PACKAGE': 'cuda-compat-12-2', 'NV_LIBNCCL_PACKAGE': 'libnccl2=2.19.3-1+cuda12.2', 'LD_LIBRARY_PATH': '/usr/local/nvidia/lib:/usr/local/nvidia/lib64', 'COLAB_GPU': '', 'NV_CUDA_NSIGHT_COMPUTE_VERSION': '12.2.2-1', 'GCS_READ_CACHE_BLOCK_SIZE_MB': '16', 'NV_NVPROF_VERSION': '12.2.142-1', 'LC_ALL': 'en_US.UTF-8', 'COLAB_FILE_HANDLER_ADDR': 'localhost:3453', 'PATH': '/opt/bin:/usr/local/nvidia/bin:/usr/local/cuda/bin:/usr/local/sbin:/usr/local/bin:/usr/sbin:/usr/bin:/sbin:/bin:/tools/node/bin:/tools/google-cloud-sdk/bin', 'NV_LIBNCCL_PACKAGE_NAME': 'libnccl2', 'COLAB_DEBUG_ADAPTER_MUX_PATH': '/usr/local/bin/dap_multiplexer', 'NV_LIBNCCL_PACKAGE_VERSION': '2.19.3-1', 'PYTHONWARNINGS': 'ignore:::pip._internal.cli.base_command', 'DEBIAN_FRONTEND': 'noninteractive', 'COLAB_BACKEND_VERSION': 'next', 'OLDPWD': '/', 'JPY_PARENT_PID': '88', 'TERM': 'xterm-color', 'CLICOLOR': '1', 'PAGER': 'cat', 'GIT_PAGER': 'cat', 'MPLBACKEND': 'module://ipykernel.pylab.backend_inline', 'ENABLE_DIRECTORYPREFETCHER': '1', 'USE_AUTH_EPHEM': '1', 'PYDEVD_USE_FRAME_EVAL': 'NO'}), 'import os.path as path\\ndef path_divide(apath):\\n  print(f\\'{apath}:{path.splittext(apath)}\\')\\n\\npath_divide(\"wada.xp\")', <module 'posixpath' from '/usr/lib/python3.10/posixpath.py'>, <function path_divide at 0x7b1ba03a5fc0>, 'import os.path as path\\ndef path_divide(apath):\\n  print(f\\'{apath}:{path.splitext(apath)}\\')\\n\\npath_divide(\"wada.xp\")', 'print(\"True\") if id(\"String\") == id(\"String\")', 'print(\"True\") if id(\"String\") == id(\"String\") else \"False\"', 'bnums = [10, 20, 56, 35, 17, 99]\\nbvalues = bytearray(bnums)\\nbvalues', [10, 20, 56, 35, 17, 99], bytearray(b'\\n\\x148#\\x11c'), bytearray(b'\\n\\x148#\\x11c'), 'bnums = [10, 20, 56, 35, 17, 99]\\nbvalues = bytearray(bnums)\\nbvalues\\n# Iterate through the elements of the bytearray and print each element.\\nfor x in values:\\n    print(x)', 'bnums = [10, 20, 56, 35, 17, 99]\\nbvalues = bytearray(bnums)\\nbvalues\\n# Iterate through the elements of the bytearray and print each element.\\nfor x in bvalues:\\n    print(x)', 99, 'bnums = [10, 20, 56, 35, 17, 99]\\nbvalues = bytearray(bnums)\\nprint(bvalues)\\n# Iterate through the elements of the bytearray and print each element.\\nfor x in bvalues:\\n    print(x)', 'afloat = 9.12314\\nafloat.round(3)', 9.12314, 'afloat = 9.12314\\nround(afloat,3)', 9.123, 'locals()', {'__name__': '__main__', '__doc__': 'Automatically created module for IPython interactive environment', '__package__': None, '__loader__': None, '__spec__': None, '__builtin__': <module 'builtins' (built-in)>, '__builtins__': <module 'builtins' (built-in)>, '_ih': ['', 'import os\\nos.environ', 'import os.path as path\\ndef path_divide(apath):\\n  print(f\\'{apath}:{path.splittext(apath)}\\')\\n\\npath_divide(\"wada.xp\")', 'import os.path as path\\ndef path_divide(apath):\\n  print(f\\'{apath}:{path.splitext(apath)}\\')\\n\\npath_divide(\"wada.xp\")', 'print(\"True\") if id(\"String\") == id(\"String\")', 'print(\"True\") if id(\"String\") == id(\"String\") else \"False\"', 'bnums = [10, 20, 56, 35, 17, 99]\\nbvalues = bytearray(bnums)\\nbvalues', 'bnums = [10, 20, 56, 35, 17, 99]\\nbvalues = bytearray(bnums)\\nbvalues\\n# Iterate through the elements of the bytearray and print each element.\\nfor x in values:\\n    print(x)', 'bnums = [10, 20, 56, 35, 17, 99]\\nbvalues = bytearray(bnums)\\nbvalues\\n# Iterate through the elements of the bytearray and print each element.\\nfor x in bvalues:\\n    print(x)', 'bnums = [10, 20, 56, 35, 17, 99]\\nbvalues = bytearray(bnums)\\nprint(bvalues)\\n# Iterate through the elements of the bytearray and print each element.\\nfor x in bvalues:\\n    print(x)', 'afloat = 9.12314\\nafloat.round(3)', 'afloat = 9.12314\\nround(afloat,3)', 'locals()', 'print(\"True\") if isinstance(\\'__main__\\', locals().items()', 'print(\"True\") if isinstance(\\'__main__\\', locals().items() else \"False\"', 'print(\"True\") if isinstance(\\'__main__\\', locals().items()) else \"False\"', 'print(\"True\") if \\'__main__\\' in locals().items() else \"False\"', 'locals.items()', 'locals().items()', 'locals().values()'], '_oh': {1: environ({'SHELL': '/bin/bash', 'NV_LIBCUBLAS_VERSION': '12.2.5.6-1', 'NVIDIA_VISIBLE_DEVICES': 'all', 'COLAB_JUPYTER_TRANSPORT': 'ipc', 'NV_NVML_DEV_VERSION': '12.2.140-1', 'NV_CUDNN_PACKAGE_NAME': 'libcudnn8', 'CGROUP_MEMORY_EVENTS': '/sys/fs/cgroup/memory.events /var/colab/cgroup/jupyter-children/memory.events', 'NV_LIBNCCL_DEV_PACKAGE': 'libnccl-dev=2.19.3-1+cuda12.2', 'NV_LIBNCCL_DEV_PACKAGE_VERSION': '2.19.3-1', 'VM_GCE_METADATA_HOST': '169.254.169.253', 'HOSTNAME': '57645698dfef', 'LANGUAGE': 'en_US', 'TBE_RUNTIME_ADDR': '172.28.0.1:8011', 'COLAB_TPU_1VM': '', 'GCE_METADATA_TIMEOUT': '3', 'NVIDIA_REQUIRE_CUDA': 'cuda>=12.2 brand=tesla,driver>=470,driver<471 brand=unknown,driver>=470,driver<471 brand=nvidia,driver>=470,driver<471 brand=nvidiartx,driver>=470,driver<471 brand=geforce,driver>=470,driver<471 brand=geforcertx,driver>=470,driver<471 brand=quadro,driver>=470,driver<471 brand=quadrortx,driver>=470,driver<471 brand=titan,driver>=470,driver<471 brand=titanrtx,driver>=470,driver<471 brand=tesla,driver>=525,driver<526 brand=unknown,driver>=525,driver<526 brand=nvidia,driver>=525,driver<526 brand=nvidiartx,driver>=525,driver<526 brand=geforce,driver>=525,driver<526 brand=geforcertx,driver>=525,driver<526 brand=quadro,driver>=525,driver<526 brand=quadrortx,driver>=525,driver<526 brand=titan,driver>=525,driver<526 brand=titanrtx,driver>=525,driver<526', 'NV_LIBCUBLAS_DEV_PACKAGE': 'libcublas-dev-12-2=12.2.5.6-1', 'NV_NVTX_VERSION': '12.2.140-1', 'COLAB_JUPYTER_IP': '172.28.0.12', 'NV_CUDA_CUDART_DEV_VERSION': '12.2.140-1', 'NV_LIBCUSPARSE_VERSION': '12.1.2.141-1', 'COLAB_LANGUAGE_SERVER_PROXY_ROOT_URL': 'http://172.28.0.1:8013/', 'NV_LIBNPP_VERSION': '12.2.1.4-1', 'NCCL_VERSION': '2.19.3-1', 'KMP_LISTEN_PORT': '6000', 'TF_FORCE_GPU_ALLOW_GROWTH': 'true', 'ENV': '/root/.bashrc', 'PWD': '/', 'COLAB_LANGUAGE_SERVER_PROXY_REQUEST_TIMEOUT': '30s', 'TBE_EPHEM_CREDS_ADDR': '172.28.0.1:8009', 'TBE_CREDS_ADDR': '172.28.0.1:8008', 'NV_CUDNN_PACKAGE': 'libcudnn8=8.9.6.50-1+cuda12.2', 'NVIDIA_DRIVER_CAPABILITIES': 'compute,utility', 'COLAB_JUPYTER_TOKEN': '', 'LAST_FORCED_REBUILD': '20240627', 'NV_NVPROF_DEV_PACKAGE': 'cuda-nvprof-12-2=12.2.142-1', 'NV_LIBNPP_PACKAGE': 'libnpp-12-2=12.2.1.4-1', 'NV_LIBNCCL_DEV_PACKAGE_NAME': 'libnccl-dev', 'TCLLIBPATH': '/usr/share/tcltk/tcllib1.20', 'NV_LIBCUBLAS_DEV_VERSION': '12.2.5.6-1', 'NVIDIA_PRODUCT_NAME': 'CUDA', 'COLAB_KERNEL_MANAGER_PROXY_HOST': '172.28.0.12', 'NV_LIBCUBLAS_DEV_PACKAGE_NAME': 'libcublas-dev-12-2', 'NV_CUDA_CUDART_VERSION': '12.2.140-1', 'COLAB_WARMUP_DEFAULTS': '1', 'HOME': '/root', 'LANG': 'en_US.UTF-8', 'COLUMNS': '100', 'CUDA_VERSION': '12.2.2', 'CLOUDSDK_CONFIG': '/content/.config', 'NV_LIBCUBLAS_PACKAGE': 'libcublas-12-2=12.2.5.6-1', 'NV_CUDA_NSIGHT_COMPUTE_DEV_PACKAGE': 'cuda-nsight-compute-12-2=12.2.2-1', 'COLAB_RELEASE_TAG': 'release-colab_20240910-060204_RC00', 'KMP_TARGET_PORT': '9000', 'KMP_EXTRA_ARGS': '--logtostderr --listen_host=172.28.0.12 --target_host=172.28.0.12 --tunnel_background_save_url=https://colab.research.google.com/tun/m/cc48301118ce562b961b3c22d803539adc1e0c19/m-s-yysr7zal1kwx --tunnel_background_save_delay=10s --tunnel_periodic_background_save_frequency=30m0s --enable_output_coalescing=true --output_coalescing_required=true --log_code_content', 'NV_LIBNPP_DEV_PACKAGE': 'libnpp-dev-12-2=12.2.1.4-1', 'COLAB_LANGUAGE_SERVER_PROXY_LSP_DIRS': '/datalab/web/pyright/typeshed-fallback/stdlib,/usr/local/lib/python3.10/dist-packages', 'NV_LIBCUBLAS_PACKAGE_NAME': 'libcublas-12-2', 'COLAB_KERNEL_MANAGER_PROXY_PORT': '6000', 'CLOUDSDK_PYTHON': 'python3', 'NV_LIBNPP_DEV_VERSION': '12.2.1.4-1', 'NO_GCE_CHECK': 'False', 'PYTHONPATH': '/env/python', 'NV_LIBCUSPARSE_DEV_VERSION': '12.1.2.141-1', 'LIBRARY_PATH': '/usr/local/cuda/lib64/stubs', 'NV_CUDNN_VERSION': '8.9.6.50', 'SHLVL': '0', 'NV_CUDA_LIB_VERSION': '12.2.2-1', 'COLAB_LANGUAGE_SERVER_PROXY': '/usr/colab/bin/language_service', 'NVARCH': 'x86_64', 'NV_CUDNN_PACKAGE_DEV': 'libcudnn8-dev=8.9.6.50-1+cuda12.2', 'NV_CUDA_COMPAT_PACKAGE': 'cuda-compat-12-2', 'NV_LIBNCCL_PACKAGE': 'libnccl2=2.19.3-1+cuda12.2', 'LD_LIBRARY_PATH': '/usr/local/nvidia/lib:/usr/local/nvidia/lib64', 'COLAB_GPU': '', 'NV_CUDA_NSIGHT_COMPUTE_VERSION': '12.2.2-1', 'GCS_READ_CACHE_BLOCK_SIZE_MB': '16', 'NV_NVPROF_VERSION': '12.2.142-1', 'LC_ALL': 'en_US.UTF-8', 'COLAB_FILE_HANDLER_ADDR': 'localhost:3453', 'PATH': '/opt/bin:/usr/local/nvidia/bin:/usr/local/cuda/bin:/usr/local/sbin:/usr/local/bin:/usr/sbin:/usr/bin:/sbin:/bin:/tools/node/bin:/tools/google-cloud-sdk/bin', 'NV_LIBNCCL_PACKAGE_NAME': 'libnccl2', 'COLAB_DEBUG_ADAPTER_MUX_PATH': '/usr/local/bin/dap_multiplexer', 'NV_LIBNCCL_PACKAGE_VERSION': '2.19.3-1', 'PYTHONWARNINGS': 'ignore:::pip._internal.cli.base_command', 'DEBIAN_FRONTEND': 'noninteractive', 'COLAB_BACKEND_VERSION': 'next', 'OLDPWD': '/', 'JPY_PARENT_PID': '88', 'TERM': 'xterm-color', 'CLICOLOR': '1', 'PAGER': 'cat', 'GIT_PAGER': 'cat', 'MPLBACKEND': 'module://ipykernel.pylab.backend_inline', 'ENABLE_DIRECTORYPREFETCHER': '1', 'USE_AUTH_EPHEM': '1', 'PYDEVD_USE_FRAME_EVAL': 'NO'}), 6: bytearray(b'\\n\\x148#\\x11c'), 11: 9.123, 12: {...}, 16: 'False', 18: dict_items([('__name__', '__main__'), ('__doc__', 'Automatically created module for IPython interactive environment'), ('__package__', None), ('__loader__', None), ('__spec__', None), ('__builtin__', <module 'builtins' (built-in)>), ('__builtins__', <module 'builtins' (built-in)>), ('_ih', ['', 'import os\\nos.environ', 'import os.path as path\\ndef path_divide(apath):\\n  print(f\\'{apath}:{path.splittext(apath)}\\')\\n\\npath_divide(\"wada.xp\")', 'import os.path as path\\ndef path_divide(apath):\\n  print(f\\'{apath}:{path.splitext(apath)}\\')\\n\\npath_divide(\"wada.xp\")', 'print(\"True\") if id(\"String\") == id(\"String\")', 'print(\"True\") if id(\"String\") == id(\"String\") else \"False\"', 'bnums = [10, 20, 56, 35, 17, 99]\\nbvalues = bytearray(bnums)\\nbvalues', 'bnums = [10, 20, 56, 35, 17, 99]\\nbvalues = bytearray(bnums)\\nbvalues\\n# Iterate through the elements of the bytearray and print each element.\\nfor x in values:\\n    print(x)', 'bnums = [10, 20, 56, 35, 17, 99]\\nbvalues = bytearray(bnums)\\nbvalues\\n# Iterate through the elements of the bytearray and print each element.\\nfor x in bvalues:\\n    print(x)', 'bnums = [10, 20, 56, 35, 17, 99]\\nbvalues = bytearray(bnums)\\nprint(bvalues)\\n# Iterate through the elements of the bytearray and print each element.\\nfor x in bvalues:\\n    print(x)', 'afloat = 9.12314\\nafloat.round(3)', 'afloat = 9.12314\\nround(afloat,3)', 'locals()', 'print(\"True\") if isinstance(\\'__main__\\', locals().items()', 'print(\"True\") if isinstance(\\'__main__\\', locals().items() else \"False\"', 'print(\"True\") if isinstance(\\'__main__\\', locals().items()) else \"False\"', 'print(\"True\") if \\'__main__\\' in locals().items() else \"False\"', 'locals.items()', 'locals().items()', 'locals().values()']), ('_oh', {...}), ('_dh', ['/content']), ('In', ['', 'import os\\nos.environ', 'import os.path as path\\ndef path_divide(apath):\\n  print(f\\'{apath}:{path.splittext(apath)}\\')\\n\\npath_divide(\"wada.xp\")', 'import os.path as path\\ndef path_divide(apath):\\n  print(f\\'{apath}:{path.splitext(apath)}\\')\\n\\npath_divide(\"wada.xp\")', 'print(\"True\") if id(\"String\") == id(\"String\")', 'print(\"True\") if id(\"String\") == id(\"String\") else \"False\"', 'bnums = [10, 20, 56, 35, 17, 99]\\nbvalues = bytearray(bnums)\\nbvalues', 'bnums = [10, 20, 56, 35, 17, 99]\\nbvalues = bytearray(bnums)\\nbvalues\\n# Iterate through the elements of the bytearray and print each element.\\nfor x in values:\\n    print(x)', 'bnums = [10, 20, 56, 35, 17, 99]\\nbvalues = bytearray(bnums)\\nbvalues\\n# Iterate through the elements of the bytearray and print each element.\\nfor x in bvalues:\\n    print(x)', 'bnums = [10, 20, 56, 35, 17, 99]\\nbvalues = bytearray(bnums)\\nprint(bvalues)\\n# Iterate through the elements of the bytearray and print each element.\\nfor x in bvalues:\\n    print(x)', 'afloat = 9.12314\\nafloat.round(3)', 'afloat = 9.12314\\nround(afloat,3)', 'locals()', 'print(\"True\") if isinstance(\\'__main__\\', locals().items()', 'print(\"True\") if isinstance(\\'__main__\\', locals().items() else \"False\"', 'print(\"True\") if isinstance(\\'__main__\\', locals().items()) else \"False\"', 'print(\"True\") if \\'__main__\\' in locals().items() else \"False\"', 'locals.items()', 'locals().items()', 'locals().values()']), ('Out', {...}), ('get_ipython', <bound method InteractiveShell.get_ipython of <google.colab._shell.Shell object at 0x7b1bb296e710>>), ('exit', <IPython.core.autocall.ZMQExitAutocall object at 0x7b1bb296dbd0>), ('quit', <IPython.core.autocall.ZMQExitAutocall object at 0x7b1bb296dbd0>), ('_', ...), ('__', 'False'), ('___', {...}), ('_i', 'locals().items()'), ('_ii', 'locals.items()'), ('_iii', 'print(\"True\") if \\'__main__\\' in locals().items() else \"False\"'), ('_i1', 'import os\\nos.environ'), ('os', <module 'os' from '/usr/lib/python3.10/os.py'>), ('_1', environ({'SHELL': '/bin/bash', 'NV_LIBCUBLAS_VERSION': '12.2.5.6-1', 'NVIDIA_VISIBLE_DEVICES': 'all', 'COLAB_JUPYTER_TRANSPORT': 'ipc', 'NV_NVML_DEV_VERSION': '12.2.140-1', 'NV_CUDNN_PACKAGE_NAME': 'libcudnn8', 'CGROUP_MEMORY_EVENTS': '/sys/fs/cgroup/memory.events /var/colab/cgroup/jupyter-children/memory.events', 'NV_LIBNCCL_DEV_PACKAGE': 'libnccl-dev=2.19.3-1+cuda12.2', 'NV_LIBNCCL_DEV_PACKAGE_VERSION': '2.19.3-1', 'VM_GCE_METADATA_HOST': '169.254.169.253', 'HOSTNAME': '57645698dfef', 'LANGUAGE': 'en_US', 'TBE_RUNTIME_ADDR': '172.28.0.1:8011', 'COLAB_TPU_1VM': '', 'GCE_METADATA_TIMEOUT': '3', 'NVIDIA_REQUIRE_CUDA': 'cuda>=12.2 brand=tesla,driver>=470,driver<471 brand=unknown,driver>=470,driver<471 brand=nvidia,driver>=470,driver<471 brand=nvidiartx,driver>=470,driver<471 brand=geforce,driver>=470,driver<471 brand=geforcertx,driver>=470,driver<471 brand=quadro,driver>=470,driver<471 brand=quadrortx,driver>=470,driver<471 brand=titan,driver>=470,driver<471 brand=titanrtx,driver>=470,driver<471 brand=tesla,driver>=525,driver<526 brand=unknown,driver>=525,driver<526 brand=nvidia,driver>=525,driver<526 brand=nvidiartx,driver>=525,driver<526 brand=geforce,driver>=525,driver<526 brand=geforcertx,driver>=525,driver<526 brand=quadro,driver>=525,driver<526 brand=quadrortx,driver>=525,driver<526 brand=titan,driver>=525,driver<526 brand=titanrtx,driver>=525,driver<526', 'NV_LIBCUBLAS_DEV_PACKAGE': 'libcublas-dev-12-2=12.2.5.6-1', 'NV_NVTX_VERSION': '12.2.140-1', 'COLAB_JUPYTER_IP': '172.28.0.12', 'NV_CUDA_CUDART_DEV_VERSION': '12.2.140-1', 'NV_LIBCUSPARSE_VERSION': '12.1.2.141-1', 'COLAB_LANGUAGE_SERVER_PROXY_ROOT_URL': 'http://172.28.0.1:8013/', 'NV_LIBNPP_VERSION': '12.2.1.4-1', 'NCCL_VERSION': '2.19.3-1', 'KMP_LISTEN_PORT': '6000', 'TF_FORCE_GPU_ALLOW_GROWTH': 'true', 'ENV': '/root/.bashrc', 'PWD': '/', 'COLAB_LANGUAGE_SERVER_PROXY_REQUEST_TIMEOUT': '30s', 'TBE_EPHEM_CREDS_ADDR': '172.28.0.1:8009', 'TBE_CREDS_ADDR': '172.28.0.1:8008', 'NV_CUDNN_PACKAGE': 'libcudnn8=8.9.6.50-1+cuda12.2', 'NVIDIA_DRIVER_CAPABILITIES': 'compute,utility', 'COLAB_JUPYTER_TOKEN': '', 'LAST_FORCED_REBUILD': '20240627', 'NV_NVPROF_DEV_PACKAGE': 'cuda-nvprof-12-2=12.2.142-1', 'NV_LIBNPP_PACKAGE': 'libnpp-12-2=12.2.1.4-1', 'NV_LIBNCCL_DEV_PACKAGE_NAME': 'libnccl-dev', 'TCLLIBPATH': '/usr/share/tcltk/tcllib1.20', 'NV_LIBCUBLAS_DEV_VERSION': '12.2.5.6-1', 'NVIDIA_PRODUCT_NAME': 'CUDA', 'COLAB_KERNEL_MANAGER_PROXY_HOST': '172.28.0.12', 'NV_LIBCUBLAS_DEV_PACKAGE_NAME': 'libcublas-dev-12-2', 'NV_CUDA_CUDART_VERSION': '12.2.140-1', 'COLAB_WARMUP_DEFAULTS': '1', 'HOME': '/root', 'LANG': 'en_US.UTF-8', 'COLUMNS': '100', 'CUDA_VERSION': '12.2.2', 'CLOUDSDK_CONFIG': '/content/.config', 'NV_LIBCUBLAS_PACKAGE': 'libcublas-12-2=12.2.5.6-1', 'NV_CUDA_NSIGHT_COMPUTE_DEV_PACKAGE': 'cuda-nsight-compute-12-2=12.2.2-1', 'COLAB_RELEASE_TAG': 'release-colab_20240910-060204_RC00', 'KMP_TARGET_PORT': '9000', 'KMP_EXTRA_ARGS': '--logtostderr --listen_host=172.28.0.12 --target_host=172.28.0.12 --tunnel_background_save_url=https://colab.research.google.com/tun/m/cc48301118ce562b961b3c22d803539adc1e0c19/m-s-yysr7zal1kwx --tunnel_background_save_delay=10s --tunnel_periodic_background_save_frequency=30m0s --enable_output_coalescing=true --output_coalescing_required=true --log_code_content', 'NV_LIBNPP_DEV_PACKAGE': 'libnpp-dev-12-2=12.2.1.4-1', 'COLAB_LANGUAGE_SERVER_PROXY_LSP_DIRS': '/datalab/web/pyright/typeshed-fallback/stdlib,/usr/local/lib/python3.10/dist-packages', 'NV_LIBCUBLAS_PACKAGE_NAME': 'libcublas-12-2', 'COLAB_KERNEL_MANAGER_PROXY_PORT': '6000', 'CLOUDSDK_PYTHON': 'python3', 'NV_LIBNPP_DEV_VERSION': '12.2.1.4-1', 'NO_GCE_CHECK': 'False', 'PYTHONPATH': '/env/python', 'NV_LIBCUSPARSE_DEV_VERSION': '12.1.2.141-1', 'LIBRARY_PATH': '/usr/local/cuda/lib64/stubs', 'NV_CUDNN_VERSION': '8.9.6.50', 'SHLVL': '0', 'NV_CUDA_LIB_VERSION': '12.2.2-1', 'COLAB_LANGUAGE_SERVER_PROXY': '/usr/colab/bin/language_service', 'NVARCH': 'x86_64', 'NV_CUDNN_PACKAGE_DEV': 'libcudnn8-dev=8.9.6.50-1+cuda12.2', 'NV_CUDA_COMPAT_PACKAGE': 'cuda-compat-12-2', 'NV_LIBNCCL_PACKAGE': 'libnccl2=2.19.3-1+cuda12.2', 'LD_LIBRARY_PATH': '/usr/local/nvidia/lib:/usr/local/nvidia/lib64', 'COLAB_GPU': '', 'NV_CUDA_NSIGHT_COMPUTE_VERSION': '12.2.2-1', 'GCS_READ_CACHE_BLOCK_SIZE_MB': '16', 'NV_NVPROF_VERSION': '12.2.142-1', 'LC_ALL': 'en_US.UTF-8', 'COLAB_FILE_HANDLER_ADDR': 'localhost:3453', 'PATH': '/opt/bin:/usr/local/nvidia/bin:/usr/local/cuda/bin:/usr/local/sbin:/usr/local/bin:/usr/sbin:/usr/bin:/sbin:/bin:/tools/node/bin:/tools/google-cloud-sdk/bin', 'NV_LIBNCCL_PACKAGE_NAME': 'libnccl2', 'COLAB_DEBUG_ADAPTER_MUX_PATH': '/usr/local/bin/dap_multiplexer', 'NV_LIBNCCL_PACKAGE_VERSION': '2.19.3-1', 'PYTHONWARNINGS': 'ignore:::pip._internal.cli.base_command', 'DEBIAN_FRONTEND': 'noninteractive', 'COLAB_BACKEND_VERSION': 'next', 'OLDPWD': '/', 'JPY_PARENT_PID': '88', 'TERM': 'xterm-color', 'CLICOLOR': '1', 'PAGER': 'cat', 'GIT_PAGER': 'cat', 'MPLBACKEND': 'module://ipykernel.pylab.backend_inline', 'ENABLE_DIRECTORYPREFETCHER': '1', 'USE_AUTH_EPHEM': '1', 'PYDEVD_USE_FRAME_EVAL': 'NO'})), ('_i2', 'import os.path as path\\ndef path_divide(apath):\\n  print(f\\'{apath}:{path.splittext(apath)}\\')\\n\\npath_divide(\"wada.xp\")'), ('path', <module 'posixpath' from '/usr/lib/python3.10/posixpath.py'>), ('path_divide', <function path_divide at 0x7b1ba03a5fc0>), ('_i3', 'import os.path as path\\ndef path_divide(apath):\\n  print(f\\'{apath}:{path.splitext(apath)}\\')\\n\\npath_divide(\"wada.xp\")'), ('_i4', 'print(\"True\") if id(\"String\") == id(\"String\")'), ('_i5', 'print(\"True\") if id(\"String\") == id(\"String\") else \"False\"'), ('_i6', 'bnums = [10, 20, 56, 35, 17, 99]\\nbvalues = bytearray(bnums)\\nbvalues'), ('bnums', [10, 20, 56, 35, 17, 99]), ('bvalues', bytearray(b'\\n\\x148#\\x11c')), ('_6', bytearray(b'\\n\\x148#\\x11c')), ('_i7', 'bnums = [10, 20, 56, 35, 17, 99]\\nbvalues = bytearray(bnums)\\nbvalues\\n# Iterate through the elements of the bytearray and print each element.\\nfor x in values:\\n    print(x)'), ('_i8', 'bnums = [10, 20, 56, 35, 17, 99]\\nbvalues = bytearray(bnums)\\nbvalues\\n# Iterate through the elements of the bytearray and print each element.\\nfor x in bvalues:\\n    print(x)'), ('x', 99), ('_i9', 'bnums = [10, 20, 56, 35, 17, 99]\\nbvalues = bytearray(bnums)\\nprint(bvalues)\\n# Iterate through the elements of the bytearray and print each element.\\nfor x in bvalues:\\n    print(x)'), ('_i10', 'afloat = 9.12314\\nafloat.round(3)'), ('afloat', 9.12314), ('_i11', 'afloat = 9.12314\\nround(afloat,3)'), ('_11', 9.123), ('_i12', 'locals()'), ('_12', {...}), ('_i13', 'print(\"True\") if isinstance(\\'__main__\\', locals().items()'), ('_i14', 'print(\"True\") if isinstance(\\'__main__\\', locals().items() else \"False\"'), ('_i15', 'print(\"True\") if isinstance(\\'__main__\\', locals().items()) else \"False\"'), ('_i16', 'print(\"True\") if \\'__main__\\' in locals().items() else \"False\"'), ('_16', 'False'), ('_i17', 'locals.items()'), ('_i18', 'locals().items()'), ('_18', ...), ('_i19', 'locals().values()')])}, '_dh': ['/content'], 'In': ['', 'import os\\nos.environ', 'import os.path as path\\ndef path_divide(apath):\\n  print(f\\'{apath}:{path.splittext(apath)}\\')\\n\\npath_divide(\"wada.xp\")', 'import os.path as path\\ndef path_divide(apath):\\n  print(f\\'{apath}:{path.splitext(apath)}\\')\\n\\npath_divide(\"wada.xp\")', 'print(\"True\") if id(\"String\") == id(\"String\")', 'print(\"True\") if id(\"String\") == id(\"String\") else \"False\"', 'bnums = [10, 20, 56, 35, 17, 99]\\nbvalues = bytearray(bnums)\\nbvalues', 'bnums = [10, 20, 56, 35, 17, 99]\\nbvalues = bytearray(bnums)\\nbvalues\\n# Iterate through the elements of the bytearray and print each element.\\nfor x in values:\\n    print(x)', 'bnums = [10, 20, 56, 35, 17, 99]\\nbvalues = bytearray(bnums)\\nbvalues\\n# Iterate through the elements of the bytearray and print each element.\\nfor x in bvalues:\\n    print(x)', 'bnums = [10, 20, 56, 35, 17, 99]\\nbvalues = bytearray(bnums)\\nprint(bvalues)\\n# Iterate through the elements of the bytearray and print each element.\\nfor x in bvalues:\\n    print(x)', 'afloat = 9.12314\\nafloat.round(3)', 'afloat = 9.12314\\nround(afloat,3)', 'locals()', 'print(\"True\") if isinstance(\\'__main__\\', locals().items()', 'print(\"True\") if isinstance(\\'__main__\\', locals().items() else \"False\"', 'print(\"True\") if isinstance(\\'__main__\\', locals().items()) else \"False\"', 'print(\"True\") if \\'__main__\\' in locals().items() else \"False\"', 'locals.items()', 'locals().items()', 'locals().values()'], 'Out': {1: environ({'SHELL': '/bin/bash', 'NV_LIBCUBLAS_VERSION': '12.2.5.6-1', 'NVIDIA_VISIBLE_DEVICES': 'all', 'COLAB_JUPYTER_TRANSPORT': 'ipc', 'NV_NVML_DEV_VERSION': '12.2.140-1', 'NV_CUDNN_PACKAGE_NAME': 'libcudnn8', 'CGROUP_MEMORY_EVENTS': '/sys/fs/cgroup/memory.events /var/colab/cgroup/jupyter-children/memory.events', 'NV_LIBNCCL_DEV_PACKAGE': 'libnccl-dev=2.19.3-1+cuda12.2', 'NV_LIBNCCL_DEV_PACKAGE_VERSION': '2.19.3-1', 'VM_GCE_METADATA_HOST': '169.254.169.253', 'HOSTNAME': '57645698dfef', 'LANGUAGE': 'en_US', 'TBE_RUNTIME_ADDR': '172.28.0.1:8011', 'COLAB_TPU_1VM': '', 'GCE_METADATA_TIMEOUT': '3', 'NVIDIA_REQUIRE_CUDA': 'cuda>=12.2 brand=tesla,driver>=470,driver<471 brand=unknown,driver>=470,driver<471 brand=nvidia,driver>=470,driver<471 brand=nvidiartx,driver>=470,driver<471 brand=geforce,driver>=470,driver<471 brand=geforcertx,driver>=470,driver<471 brand=quadro,driver>=470,driver<471 brand=quadrortx,driver>=470,driver<471 brand=titan,driver>=470,driver<471 brand=titanrtx,driver>=470,driver<471 brand=tesla,driver>=525,driver<526 brand=unknown,driver>=525,driver<526 brand=nvidia,driver>=525,driver<526 brand=nvidiartx,driver>=525,driver<526 brand=geforce,driver>=525,driver<526 brand=geforcertx,driver>=525,driver<526 brand=quadro,driver>=525,driver<526 brand=quadrortx,driver>=525,driver<526 brand=titan,driver>=525,driver<526 brand=titanrtx,driver>=525,driver<526', 'NV_LIBCUBLAS_DEV_PACKAGE': 'libcublas-dev-12-2=12.2.5.6-1', 'NV_NVTX_VERSION': '12.2.140-1', 'COLAB_JUPYTER_IP': '172.28.0.12', 'NV_CUDA_CUDART_DEV_VERSION': '12.2.140-1', 'NV_LIBCUSPARSE_VERSION': '12.1.2.141-1', 'COLAB_LANGUAGE_SERVER_PROXY_ROOT_URL': 'http://172.28.0.1:8013/', 'NV_LIBNPP_VERSION': '12.2.1.4-1', 'NCCL_VERSION': '2.19.3-1', 'KMP_LISTEN_PORT': '6000', 'TF_FORCE_GPU_ALLOW_GROWTH': 'true', 'ENV': '/root/.bashrc', 'PWD': '/', 'COLAB_LANGUAGE_SERVER_PROXY_REQUEST_TIMEOUT': '30s', 'TBE_EPHEM_CREDS_ADDR': '172.28.0.1:8009', 'TBE_CREDS_ADDR': '172.28.0.1:8008', 'NV_CUDNN_PACKAGE': 'libcudnn8=8.9.6.50-1+cuda12.2', 'NVIDIA_DRIVER_CAPABILITIES': 'compute,utility', 'COLAB_JUPYTER_TOKEN': '', 'LAST_FORCED_REBUILD': '20240627', 'NV_NVPROF_DEV_PACKAGE': 'cuda-nvprof-12-2=12.2.142-1', 'NV_LIBNPP_PACKAGE': 'libnpp-12-2=12.2.1.4-1', 'NV_LIBNCCL_DEV_PACKAGE_NAME': 'libnccl-dev', 'TCLLIBPATH': '/usr/share/tcltk/tcllib1.20', 'NV_LIBCUBLAS_DEV_VERSION': '12.2.5.6-1', 'NVIDIA_PRODUCT_NAME': 'CUDA', 'COLAB_KERNEL_MANAGER_PROXY_HOST': '172.28.0.12', 'NV_LIBCUBLAS_DEV_PACKAGE_NAME': 'libcublas-dev-12-2', 'NV_CUDA_CUDART_VERSION': '12.2.140-1', 'COLAB_WARMUP_DEFAULTS': '1', 'HOME': '/root', 'LANG': 'en_US.UTF-8', 'COLUMNS': '100', 'CUDA_VERSION': '12.2.2', 'CLOUDSDK_CONFIG': '/content/.config', 'NV_LIBCUBLAS_PACKAGE': 'libcublas-12-2=12.2.5.6-1', 'NV_CUDA_NSIGHT_COMPUTE_DEV_PACKAGE': 'cuda-nsight-compute-12-2=12.2.2-1', 'COLAB_RELEASE_TAG': 'release-colab_20240910-060204_RC00', 'KMP_TARGET_PORT': '9000', 'KMP_EXTRA_ARGS': '--logtostderr --listen_host=172.28.0.12 --target_host=172.28.0.12 --tunnel_background_save_url=https://colab.research.google.com/tun/m/cc48301118ce562b961b3c22d803539adc1e0c19/m-s-yysr7zal1kwx --tunnel_background_save_delay=10s --tunnel_periodic_background_save_frequency=30m0s --enable_output_coalescing=true --output_coalescing_required=true --log_code_content', 'NV_LIBNPP_DEV_PACKAGE': 'libnpp-dev-12-2=12.2.1.4-1', 'COLAB_LANGUAGE_SERVER_PROXY_LSP_DIRS': '/datalab/web/pyright/typeshed-fallback/stdlib,/usr/local/lib/python3.10/dist-packages', 'NV_LIBCUBLAS_PACKAGE_NAME': 'libcublas-12-2', 'COLAB_KERNEL_MANAGER_PROXY_PORT': '6000', 'CLOUDSDK_PYTHON': 'python3', 'NV_LIBNPP_DEV_VERSION': '12.2.1.4-1', 'NO_GCE_CHECK': 'False', 'PYTHONPATH': '/env/python', 'NV_LIBCUSPARSE_DEV_VERSION': '12.1.2.141-1', 'LIBRARY_PATH': '/usr/local/cuda/lib64/stubs', 'NV_CUDNN_VERSION': '8.9.6.50', 'SHLVL': '0', 'NV_CUDA_LIB_VERSION': '12.2.2-1', 'COLAB_LANGUAGE_SERVER_PROXY': '/usr/colab/bin/language_service', 'NVARCH': 'x86_64', 'NV_CUDNN_PACKAGE_DEV': 'libcudnn8-dev=8.9.6.50-1+cuda12.2', 'NV_CUDA_COMPAT_PACKAGE': 'cuda-compat-12-2', 'NV_LIBNCCL_PACKAGE': 'libnccl2=2.19.3-1+cuda12.2', 'LD_LIBRARY_PATH': '/usr/local/nvidia/lib:/usr/local/nvidia/lib64', 'COLAB_GPU': '', 'NV_CUDA_NSIGHT_COMPUTE_VERSION': '12.2.2-1', 'GCS_READ_CACHE_BLOCK_SIZE_MB': '16', 'NV_NVPROF_VERSION': '12.2.142-1', 'LC_ALL': 'en_US.UTF-8', 'COLAB_FILE_HANDLER_ADDR': 'localhost:3453', 'PATH': '/opt/bin:/usr/local/nvidia/bin:/usr/local/cuda/bin:/usr/local/sbin:/usr/local/bin:/usr/sbin:/usr/bin:/sbin:/bin:/tools/node/bin:/tools/google-cloud-sdk/bin', 'NV_LIBNCCL_PACKAGE_NAME': 'libnccl2', 'COLAB_DEBUG_ADAPTER_MUX_PATH': '/usr/local/bin/dap_multiplexer', 'NV_LIBNCCL_PACKAGE_VERSION': '2.19.3-1', 'PYTHONWARNINGS': 'ignore:::pip._internal.cli.base_command', 'DEBIAN_FRONTEND': 'noninteractive', 'COLAB_BACKEND_VERSION': 'next', 'OLDPWD': '/', 'JPY_PARENT_PID': '88', 'TERM': 'xterm-color', 'CLICOLOR': '1', 'PAGER': 'cat', 'GIT_PAGER': 'cat', 'MPLBACKEND': 'module://ipykernel.pylab.backend_inline', 'ENABLE_DIRECTORYPREFETCHER': '1', 'USE_AUTH_EPHEM': '1', 'PYDEVD_USE_FRAME_EVAL': 'NO'}), 6: bytearray(b'\\n\\x148#\\x11c'), 11: 9.123, 12: {...}, 16: 'False', 18: dict_items([('__name__', '__main__'), ('__doc__', 'Automatically created module for IPython interactive environment'), ('__package__', None), ('__loader__', None), ('__spec__', None), ('__builtin__', <module 'builtins' (built-in)>), ('__builtins__', <module 'builtins' (built-in)>), ('_ih', ['', 'import os\\nos.environ', 'import os.path as path\\ndef path_divide(apath):\\n  print(f\\'{apath}:{path.splittext(apath)}\\')\\n\\npath_divide(\"wada.xp\")', 'import os.path as path\\ndef path_divide(apath):\\n  print(f\\'{apath}:{path.splitext(apath)}\\')\\n\\npath_divide(\"wada.xp\")', 'print(\"True\") if id(\"String\") == id(\"String\")', 'print(\"True\") if id(\"String\") == id(\"String\") else \"False\"', 'bnums = [10, 20, 56, 35, 17, 99]\\nbvalues = bytearray(bnums)\\nbvalues', 'bnums = [10, 20, 56, 35, 17, 99]\\nbvalues = bytearray(bnums)\\nbvalues\\n# Iterate through the elements of the bytearray and print each element.\\nfor x in values:\\n    print(x)', 'bnums = [10, 20, 56, 35, 17, 99]\\nbvalues = bytearray(bnums)\\nbvalues\\n# Iterate through the elements of the bytearray and print each element.\\nfor x in bvalues:\\n    print(x)', 'bnums = [10, 20, 56, 35, 17, 99]\\nbvalues = bytearray(bnums)\\nprint(bvalues)\\n# Iterate through the elements of the bytearray and print each element.\\nfor x in bvalues:\\n    print(x)', 'afloat = 9.12314\\nafloat.round(3)', 'afloat = 9.12314\\nround(afloat,3)', 'locals()', 'print(\"True\") if isinstance(\\'__main__\\', locals().items()', 'print(\"True\") if isinstance(\\'__main__\\', locals().items() else \"False\"', 'print(\"True\") if isinstance(\\'__main__\\', locals().items()) else \"False\"', 'print(\"True\") if \\'__main__\\' in locals().items() else \"False\"', 'locals.items()', 'locals().items()', 'locals().values()']), ('_oh', {...}), ('_dh', ['/content']), ('In', ['', 'import os\\nos.environ', 'import os.path as path\\ndef path_divide(apath):\\n  print(f\\'{apath}:{path.splittext(apath)}\\')\\n\\npath_divide(\"wada.xp\")', 'import os.path as path\\ndef path_divide(apath):\\n  print(f\\'{apath}:{path.splitext(apath)}\\')\\n\\npath_divide(\"wada.xp\")', 'print(\"True\") if id(\"String\") == id(\"String\")', 'print(\"True\") if id(\"String\") == id(\"String\") else \"False\"', 'bnums = [10, 20, 56, 35, 17, 99]\\nbvalues = bytearray(bnums)\\nbvalues', 'bnums = [10, 20, 56, 35, 17, 99]\\nbvalues = bytearray(bnums)\\nbvalues\\n# Iterate through the elements of the bytearray and print each element.\\nfor x in values:\\n    print(x)', 'bnums = [10, 20, 56, 35, 17, 99]\\nbvalues = bytearray(bnums)\\nbvalues\\n# Iterate through the elements of the bytearray and print each element.\\nfor x in bvalues:\\n    print(x)', 'bnums = [10, 20, 56, 35, 17, 99]\\nbvalues = bytearray(bnums)\\nprint(bvalues)\\n# Iterate through the elements of the bytearray and print each element.\\nfor x in bvalues:\\n    print(x)', 'afloat = 9.12314\\nafloat.round(3)', 'afloat = 9.12314\\nround(afloat,3)', 'locals()', 'print(\"True\") if isinstance(\\'__main__\\', locals().items()', 'print(\"True\") if isinstance(\\'__main__\\', locals().items() else \"False\"', 'print(\"True\") if isinstance(\\'__main__\\', locals().items()) else \"False\"', 'print(\"True\") if \\'__main__\\' in locals().items() else \"False\"', 'locals.items()', 'locals().items()', 'locals().values()']), ('Out', {...}), ('get_ipython', <bound method InteractiveShell.get_ipython of <google.colab._shell.Shell object at 0x7b1bb296e710>>), ('exit', <IPython.core.autocall.ZMQExitAutocall object at 0x7b1bb296dbd0>), ('quit', <IPython.core.autocall.ZMQExitAutocall object at 0x7b1bb296dbd0>), ('_', ...), ('__', 'False'), ('___', {...}), ('_i', 'locals().items()'), ('_ii', 'locals.items()'), ('_iii', 'print(\"True\") if \\'__main__\\' in locals().items() else \"False\"'), ('_i1', 'import os\\nos.environ'), ('os', <module 'os' from '/usr/lib/python3.10/os.py'>), ('_1', environ({'SHELL': '/bin/bash', 'NV_LIBCUBLAS_VERSION': '12.2.5.6-1', 'NVIDIA_VISIBLE_DEVICES': 'all', 'COLAB_JUPYTER_TRANSPORT': 'ipc', 'NV_NVML_DEV_VERSION': '12.2.140-1', 'NV_CUDNN_PACKAGE_NAME': 'libcudnn8', 'CGROUP_MEMORY_EVENTS': '/sys/fs/cgroup/memory.events /var/colab/cgroup/jupyter-children/memory.events', 'NV_LIBNCCL_DEV_PACKAGE': 'libnccl-dev=2.19.3-1+cuda12.2', 'NV_LIBNCCL_DEV_PACKAGE_VERSION': '2.19.3-1', 'VM_GCE_METADATA_HOST': '169.254.169.253', 'HOSTNAME': '57645698dfef', 'LANGUAGE': 'en_US', 'TBE_RUNTIME_ADDR': '172.28.0.1:8011', 'COLAB_TPU_1VM': '', 'GCE_METADATA_TIMEOUT': '3', 'NVIDIA_REQUIRE_CUDA': 'cuda>=12.2 brand=tesla,driver>=470,driver<471 brand=unknown,driver>=470,driver<471 brand=nvidia,driver>=470,driver<471 brand=nvidiartx,driver>=470,driver<471 brand=geforce,driver>=470,driver<471 brand=geforcertx,driver>=470,driver<471 brand=quadro,driver>=470,driver<471 brand=quadrortx,driver>=470,driver<471 brand=titan,driver>=470,driver<471 brand=titanrtx,driver>=470,driver<471 brand=tesla,driver>=525,driver<526 brand=unknown,driver>=525,driver<526 brand=nvidia,driver>=525,driver<526 brand=nvidiartx,driver>=525,driver<526 brand=geforce,driver>=525,driver<526 brand=geforcertx,driver>=525,driver<526 brand=quadro,driver>=525,driver<526 brand=quadrortx,driver>=525,driver<526 brand=titan,driver>=525,driver<526 brand=titanrtx,driver>=525,driver<526', 'NV_LIBCUBLAS_DEV_PACKAGE': 'libcublas-dev-12-2=12.2.5.6-1', 'NV_NVTX_VERSION': '12.2.140-1', 'COLAB_JUPYTER_IP': '172.28.0.12', 'NV_CUDA_CUDART_DEV_VERSION': '12.2.140-1', 'NV_LIBCUSPARSE_VERSION': '12.1.2.141-1', 'COLAB_LANGUAGE_SERVER_PROXY_ROOT_URL': 'http://172.28.0.1:8013/', 'NV_LIBNPP_VERSION': '12.2.1.4-1', 'NCCL_VERSION': '2.19.3-1', 'KMP_LISTEN_PORT': '6000', 'TF_FORCE_GPU_ALLOW_GROWTH': 'true', 'ENV': '/root/.bashrc', 'PWD': '/', 'COLAB_LANGUAGE_SERVER_PROXY_REQUEST_TIMEOUT': '30s', 'TBE_EPHEM_CREDS_ADDR': '172.28.0.1:8009', 'TBE_CREDS_ADDR': '172.28.0.1:8008', 'NV_CUDNN_PACKAGE': 'libcudnn8=8.9.6.50-1+cuda12.2', 'NVIDIA_DRIVER_CAPABILITIES': 'compute,utility', 'COLAB_JUPYTER_TOKEN': '', 'LAST_FORCED_REBUILD': '20240627', 'NV_NVPROF_DEV_PACKAGE': 'cuda-nvprof-12-2=12.2.142-1', 'NV_LIBNPP_PACKAGE': 'libnpp-12-2=12.2.1.4-1', 'NV_LIBNCCL_DEV_PACKAGE_NAME': 'libnccl-dev', 'TCLLIBPATH': '/usr/share/tcltk/tcllib1.20', 'NV_LIBCUBLAS_DEV_VERSION': '12.2.5.6-1', 'NVIDIA_PRODUCT_NAME': 'CUDA', 'COLAB_KERNEL_MANAGER_PROXY_HOST': '172.28.0.12', 'NV_LIBCUBLAS_DEV_PACKAGE_NAME': 'libcublas-dev-12-2', 'NV_CUDA_CUDART_VERSION': '12.2.140-1', 'COLAB_WARMUP_DEFAULTS': '1', 'HOME': '/root', 'LANG': 'en_US.UTF-8', 'COLUMNS': '100', 'CUDA_VERSION': '12.2.2', 'CLOUDSDK_CONFIG': '/content/.config', 'NV_LIBCUBLAS_PACKAGE': 'libcublas-12-2=12.2.5.6-1', 'NV_CUDA_NSIGHT_COMPUTE_DEV_PACKAGE': 'cuda-nsight-compute-12-2=12.2.2-1', 'COLAB_RELEASE_TAG': 'release-colab_20240910-060204_RC00', 'KMP_TARGET_PORT': '9000', 'KMP_EXTRA_ARGS': '--logtostderr --listen_host=172.28.0.12 --target_host=172.28.0.12 --tunnel_background_save_url=https://colab.research.google.com/tun/m/cc48301118ce562b961b3c22d803539adc1e0c19/m-s-yysr7zal1kwx --tunnel_background_save_delay=10s --tunnel_periodic_background_save_frequency=30m0s --enable_output_coalescing=true --output_coalescing_required=true --log_code_content', 'NV_LIBNPP_DEV_PACKAGE': 'libnpp-dev-12-2=12.2.1.4-1', 'COLAB_LANGUAGE_SERVER_PROXY_LSP_DIRS': '/datalab/web/pyright/typeshed-fallback/stdlib,/usr/local/lib/python3.10/dist-packages', 'NV_LIBCUBLAS_PACKAGE_NAME': 'libcublas-12-2', 'COLAB_KERNEL_MANAGER_PROXY_PORT': '6000', 'CLOUDSDK_PYTHON': 'python3', 'NV_LIBNPP_DEV_VERSION': '12.2.1.4-1', 'NO_GCE_CHECK': 'False', 'PYTHONPATH': '/env/python', 'NV_LIBCUSPARSE_DEV_VERSION': '12.1.2.141-1', 'LIBRARY_PATH': '/usr/local/cuda/lib64/stubs', 'NV_CUDNN_VERSION': '8.9.6.50', 'SHLVL': '0', 'NV_CUDA_LIB_VERSION': '12.2.2-1', 'COLAB_LANGUAGE_SERVER_PROXY': '/usr/colab/bin/language_service', 'NVARCH': 'x86_64', 'NV_CUDNN_PACKAGE_DEV': 'libcudnn8-dev=8.9.6.50-1+cuda12.2', 'NV_CUDA_COMPAT_PACKAGE': 'cuda-compat-12-2', 'NV_LIBNCCL_PACKAGE': 'libnccl2=2.19.3-1+cuda12.2', 'LD_LIBRARY_PATH': '/usr/local/nvidia/lib:/usr/local/nvidia/lib64', 'COLAB_GPU': '', 'NV_CUDA_NSIGHT_COMPUTE_VERSION': '12.2.2-1', 'GCS_READ_CACHE_BLOCK_SIZE_MB': '16', 'NV_NVPROF_VERSION': '12.2.142-1', 'LC_ALL': 'en_US.UTF-8', 'COLAB_FILE_HANDLER_ADDR': 'localhost:3453', 'PATH': '/opt/bin:/usr/local/nvidia/bin:/usr/local/cuda/bin:/usr/local/sbin:/usr/local/bin:/usr/sbin:/usr/bin:/sbin:/bin:/tools/node/bin:/tools/google-cloud-sdk/bin', 'NV_LIBNCCL_PACKAGE_NAME': 'libnccl2', 'COLAB_DEBUG_ADAPTER_MUX_PATH': '/usr/local/bin/dap_multiplexer', 'NV_LIBNCCL_PACKAGE_VERSION': '2.19.3-1', 'PYTHONWARNINGS': 'ignore:::pip._internal.cli.base_command', 'DEBIAN_FRONTEND': 'noninteractive', 'COLAB_BACKEND_VERSION': 'next', 'OLDPWD': '/', 'JPY_PARENT_PID': '88', 'TERM': 'xterm-color', 'CLICOLOR': '1', 'PAGER': 'cat', 'GIT_PAGER': 'cat', 'MPLBACKEND': 'module://ipykernel.pylab.backend_inline', 'ENABLE_DIRECTORYPREFETCHER': '1', 'USE_AUTH_EPHEM': '1', 'PYDEVD_USE_FRAME_EVAL': 'NO'})), ('_i2', 'import os.path as path\\ndef path_divide(apath):\\n  print(f\\'{apath}:{path.splittext(apath)}\\')\\n\\npath_divide(\"wada.xp\")'), ('path', <module 'posixpath' from '/usr/lib/python3.10/posixpath.py'>), ('path_divide', <function path_divide at 0x7b1ba03a5fc0>), ('_i3', 'import os.path as path\\ndef path_divide(apath):\\n  print(f\\'{apath}:{path.splitext(apath)}\\')\\n\\npath_divide(\"wada.xp\")'), ('_i4', 'print(\"True\") if id(\"String\") == id(\"String\")'), ('_i5', 'print(\"True\") if id(\"String\") == id(\"String\") else \"False\"'), ('_i6', 'bnums = [10, 20, 56, 35, 17, 99]\\nbvalues = bytearray(bnums)\\nbvalues'), ('bnums', [10, 20, 56, 35, 17, 99]), ('bvalues', bytearray(b'\\n\\x148#\\x11c')), ('_6', bytearray(b'\\n\\x148#\\x11c')), ('_i7', 'bnums = [10, 20, 56, 35, 17, 99]\\nbvalues = bytearray(bnums)\\nbvalues\\n# Iterate through the elements of the bytearray and print each element.\\nfor x in values:\\n    print(x)'), ('_i8', 'bnums = [10, 20, 56, 35, 17, 99]\\nbvalues = bytearray(bnums)\\nbvalues\\n# Iterate through the elements of the bytearray and print each element.\\nfor x in bvalues:\\n    print(x)'), ('x', 99), ('_i9', 'bnums = [10, 20, 56, 35, 17, 99]\\nbvalues = bytearray(bnums)\\nprint(bvalues)\\n# Iterate through the elements of the bytearray and print each element.\\nfor x in bvalues:\\n    print(x)'), ('_i10', 'afloat = 9.12314\\nafloat.round(3)'), ('afloat', 9.12314), ('_i11', 'afloat = 9.12314\\nround(afloat,3)'), ('_11', 9.123), ('_i12', 'locals()'), ('_12', {...}), ('_i13', 'print(\"True\") if isinstance(\\'__main__\\', locals().items()'), ('_i14', 'print(\"True\") if isinstance(\\'__main__\\', locals().items() else \"False\"'), ('_i15', 'print(\"True\") if isinstance(\\'__main__\\', locals().items()) else \"False\"'), ('_i16', 'print(\"True\") if \\'__main__\\' in locals().items() else \"False\"'), ('_16', 'False'), ('_i17', 'locals.items()'), ('_i18', 'locals().items()'), ('_18', ...), ('_i19', 'locals().values()')])}, 'get_ipython': <bound method InteractiveShell.get_ipython of <google.colab._shell.Shell object at 0x7b1bb296e710>>, 'exit': <IPython.core.autocall.ZMQExitAutocall object at 0x7b1bb296dbd0>, 'quit': <IPython.core.autocall.ZMQExitAutocall object at 0x7b1bb296dbd0>, '_': dict_items([('__name__', '__main__'), ('__doc__', 'Automatically created module for IPython interactive environment'), ('__package__', None), ('__loader__', None), ('__spec__', None), ('__builtin__', <module 'builtins' (built-in)>), ('__builtins__', <module 'builtins' (built-in)>), ('_ih', ['', 'import os\\nos.environ', 'import os.path as path\\ndef path_divide(apath):\\n  print(f\\'{apath}:{path.splittext(apath)}\\')\\n\\npath_divide(\"wada.xp\")', 'import os.path as path\\ndef path_divide(apath):\\n  print(f\\'{apath}:{path.splitext(apath)}\\')\\n\\npath_divide(\"wada.xp\")', 'print(\"True\") if id(\"String\") == id(\"String\")', 'print(\"True\") if id(\"String\") == id(\"String\") else \"False\"', 'bnums = [10, 20, 56, 35, 17, 99]\\nbvalues = bytearray(bnums)\\nbvalues', 'bnums = [10, 20, 56, 35, 17, 99]\\nbvalues = bytearray(bnums)\\nbvalues\\n# Iterate through the elements of the bytearray and print each element.\\nfor x in values:\\n    print(x)', 'bnums = [10, 20, 56, 35, 17, 99]\\nbvalues = bytearray(bnums)\\nbvalues\\n# Iterate through the elements of the bytearray and print each element.\\nfor x in bvalues:\\n    print(x)', 'bnums = [10, 20, 56, 35, 17, 99]\\nbvalues = bytearray(bnums)\\nprint(bvalues)\\n# Iterate through the elements of the bytearray and print each element.\\nfor x in bvalues:\\n    print(x)', 'afloat = 9.12314\\nafloat.round(3)', 'afloat = 9.12314\\nround(afloat,3)', 'locals()', 'print(\"True\") if isinstance(\\'__main__\\', locals().items()', 'print(\"True\") if isinstance(\\'__main__\\', locals().items() else \"False\"', 'print(\"True\") if isinstance(\\'__main__\\', locals().items()) else \"False\"', 'print(\"True\") if \\'__main__\\' in locals().items() else \"False\"', 'locals.items()', 'locals().items()', 'locals().values()']), ('_oh', {1: environ({'SHELL': '/bin/bash', 'NV_LIBCUBLAS_VERSION': '12.2.5.6-1', 'NVIDIA_VISIBLE_DEVICES': 'all', 'COLAB_JUPYTER_TRANSPORT': 'ipc', 'NV_NVML_DEV_VERSION': '12.2.140-1', 'NV_CUDNN_PACKAGE_NAME': 'libcudnn8', 'CGROUP_MEMORY_EVENTS': '/sys/fs/cgroup/memory.events /var/colab/cgroup/jupyter-children/memory.events', 'NV_LIBNCCL_DEV_PACKAGE': 'libnccl-dev=2.19.3-1+cuda12.2', 'NV_LIBNCCL_DEV_PACKAGE_VERSION': '2.19.3-1', 'VM_GCE_METADATA_HOST': '169.254.169.253', 'HOSTNAME': '57645698dfef', 'LANGUAGE': 'en_US', 'TBE_RUNTIME_ADDR': '172.28.0.1:8011', 'COLAB_TPU_1VM': '', 'GCE_METADATA_TIMEOUT': '3', 'NVIDIA_REQUIRE_CUDA': 'cuda>=12.2 brand=tesla,driver>=470,driver<471 brand=unknown,driver>=470,driver<471 brand=nvidia,driver>=470,driver<471 brand=nvidiartx,driver>=470,driver<471 brand=geforce,driver>=470,driver<471 brand=geforcertx,driver>=470,driver<471 brand=quadro,driver>=470,driver<471 brand=quadrortx,driver>=470,driver<471 brand=titan,driver>=470,driver<471 brand=titanrtx,driver>=470,driver<471 brand=tesla,driver>=525,driver<526 brand=unknown,driver>=525,driver<526 brand=nvidia,driver>=525,driver<526 brand=nvidiartx,driver>=525,driver<526 brand=geforce,driver>=525,driver<526 brand=geforcertx,driver>=525,driver<526 brand=quadro,driver>=525,driver<526 brand=quadrortx,driver>=525,driver<526 brand=titan,driver>=525,driver<526 brand=titanrtx,driver>=525,driver<526', 'NV_LIBCUBLAS_DEV_PACKAGE': 'libcublas-dev-12-2=12.2.5.6-1', 'NV_NVTX_VERSION': '12.2.140-1', 'COLAB_JUPYTER_IP': '172.28.0.12', 'NV_CUDA_CUDART_DEV_VERSION': '12.2.140-1', 'NV_LIBCUSPARSE_VERSION': '12.1.2.141-1', 'COLAB_LANGUAGE_SERVER_PROXY_ROOT_URL': 'http://172.28.0.1:8013/', 'NV_LIBNPP_VERSION': '12.2.1.4-1', 'NCCL_VERSION': '2.19.3-1', 'KMP_LISTEN_PORT': '6000', 'TF_FORCE_GPU_ALLOW_GROWTH': 'true', 'ENV': '/root/.bashrc', 'PWD': '/', 'COLAB_LANGUAGE_SERVER_PROXY_REQUEST_TIMEOUT': '30s', 'TBE_EPHEM_CREDS_ADDR': '172.28.0.1:8009', 'TBE_CREDS_ADDR': '172.28.0.1:8008', 'NV_CUDNN_PACKAGE': 'libcudnn8=8.9.6.50-1+cuda12.2', 'NVIDIA_DRIVER_CAPABILITIES': 'compute,utility', 'COLAB_JUPYTER_TOKEN': '', 'LAST_FORCED_REBUILD': '20240627', 'NV_NVPROF_DEV_PACKAGE': 'cuda-nvprof-12-2=12.2.142-1', 'NV_LIBNPP_PACKAGE': 'libnpp-12-2=12.2.1.4-1', 'NV_LIBNCCL_DEV_PACKAGE_NAME': 'libnccl-dev', 'TCLLIBPATH': '/usr/share/tcltk/tcllib1.20', 'NV_LIBCUBLAS_DEV_VERSION': '12.2.5.6-1', 'NVIDIA_PRODUCT_NAME': 'CUDA', 'COLAB_KERNEL_MANAGER_PROXY_HOST': '172.28.0.12', 'NV_LIBCUBLAS_DEV_PACKAGE_NAME': 'libcublas-dev-12-2', 'NV_CUDA_CUDART_VERSION': '12.2.140-1', 'COLAB_WARMUP_DEFAULTS': '1', 'HOME': '/root', 'LANG': 'en_US.UTF-8', 'COLUMNS': '100', 'CUDA_VERSION': '12.2.2', 'CLOUDSDK_CONFIG': '/content/.config', 'NV_LIBCUBLAS_PACKAGE': 'libcublas-12-2=12.2.5.6-1', 'NV_CUDA_NSIGHT_COMPUTE_DEV_PACKAGE': 'cuda-nsight-compute-12-2=12.2.2-1', 'COLAB_RELEASE_TAG': 'release-colab_20240910-060204_RC00', 'KMP_TARGET_PORT': '9000', 'KMP_EXTRA_ARGS': '--logtostderr --listen_host=172.28.0.12 --target_host=172.28.0.12 --tunnel_background_save_url=https://colab.research.google.com/tun/m/cc48301118ce562b961b3c22d803539adc1e0c19/m-s-yysr7zal1kwx --tunnel_background_save_delay=10s --tunnel_periodic_background_save_frequency=30m0s --enable_output_coalescing=true --output_coalescing_required=true --log_code_content', 'NV_LIBNPP_DEV_PACKAGE': 'libnpp-dev-12-2=12.2.1.4-1', 'COLAB_LANGUAGE_SERVER_PROXY_LSP_DIRS': '/datalab/web/pyright/typeshed-fallback/stdlib,/usr/local/lib/python3.10/dist-packages', 'NV_LIBCUBLAS_PACKAGE_NAME': 'libcublas-12-2', 'COLAB_KERNEL_MANAGER_PROXY_PORT': '6000', 'CLOUDSDK_PYTHON': 'python3', 'NV_LIBNPP_DEV_VERSION': '12.2.1.4-1', 'NO_GCE_CHECK': 'False', 'PYTHONPATH': '/env/python', 'NV_LIBCUSPARSE_DEV_VERSION': '12.1.2.141-1', 'LIBRARY_PATH': '/usr/local/cuda/lib64/stubs', 'NV_CUDNN_VERSION': '8.9.6.50', 'SHLVL': '0', 'NV_CUDA_LIB_VERSION': '12.2.2-1', 'COLAB_LANGUAGE_SERVER_PROXY': '/usr/colab/bin/language_service', 'NVARCH': 'x86_64', 'NV_CUDNN_PACKAGE_DEV': 'libcudnn8-dev=8.9.6.50-1+cuda12.2', 'NV_CUDA_COMPAT_PACKAGE': 'cuda-compat-12-2', 'NV_LIBNCCL_PACKAGE': 'libnccl2=2.19.3-1+cuda12.2', 'LD_LIBRARY_PATH': '/usr/local/nvidia/lib:/usr/local/nvidia/lib64', 'COLAB_GPU': '', 'NV_CUDA_NSIGHT_COMPUTE_VERSION': '12.2.2-1', 'GCS_READ_CACHE_BLOCK_SIZE_MB': '16', 'NV_NVPROF_VERSION': '12.2.142-1', 'LC_ALL': 'en_US.UTF-8', 'COLAB_FILE_HANDLER_ADDR': 'localhost:3453', 'PATH': '/opt/bin:/usr/local/nvidia/bin:/usr/local/cuda/bin:/usr/local/sbin:/usr/local/bin:/usr/sbin:/usr/bin:/sbin:/bin:/tools/node/bin:/tools/google-cloud-sdk/bin', 'NV_LIBNCCL_PACKAGE_NAME': 'libnccl2', 'COLAB_DEBUG_ADAPTER_MUX_PATH': '/usr/local/bin/dap_multiplexer', 'NV_LIBNCCL_PACKAGE_VERSION': '2.19.3-1', 'PYTHONWARNINGS': 'ignore:::pip._internal.cli.base_command', 'DEBIAN_FRONTEND': 'noninteractive', 'COLAB_BACKEND_VERSION': 'next', 'OLDPWD': '/', 'JPY_PARENT_PID': '88', 'TERM': 'xterm-color', 'CLICOLOR': '1', 'PAGER': 'cat', 'GIT_PAGER': 'cat', 'MPLBACKEND': 'module://ipykernel.pylab.backend_inline', 'ENABLE_DIRECTORYPREFETCHER': '1', 'USE_AUTH_EPHEM': '1', 'PYDEVD_USE_FRAME_EVAL': 'NO'}), 6: bytearray(b'\\n\\x148#\\x11c'), 11: 9.123, 12: {...}, 16: 'False', 18: ...}), ('_dh', ['/content']), ('In', ['', 'import os\\nos.environ', 'import os.path as path\\ndef path_divide(apath):\\n  print(f\\'{apath}:{path.splittext(apath)}\\')\\n\\npath_divide(\"wada.xp\")', 'import os.path as path\\ndef path_divide(apath):\\n  print(f\\'{apath}:{path.splitext(apath)}\\')\\n\\npath_divide(\"wada.xp\")', 'print(\"True\") if id(\"String\") == id(\"String\")', 'print(\"True\") if id(\"String\") == id(\"String\") else \"False\"', 'bnums = [10, 20, 56, 35, 17, 99]\\nbvalues = bytearray(bnums)\\nbvalues', 'bnums = [10, 20, 56, 35, 17, 99]\\nbvalues = bytearray(bnums)\\nbvalues\\n# Iterate through the elements of the bytearray and print each element.\\nfor x in values:\\n    print(x)', 'bnums = [10, 20, 56, 35, 17, 99]\\nbvalues = bytearray(bnums)\\nbvalues\\n# Iterate through the elements of the bytearray and print each element.\\nfor x in bvalues:\\n    print(x)', 'bnums = [10, 20, 56, 35, 17, 99]\\nbvalues = bytearray(bnums)\\nprint(bvalues)\\n# Iterate through the elements of the bytearray and print each element.\\nfor x in bvalues:\\n    print(x)', 'afloat = 9.12314\\nafloat.round(3)', 'afloat = 9.12314\\nround(afloat,3)', 'locals()', 'print(\"True\") if isinstance(\\'__main__\\', locals().items()', 'print(\"True\") if isinstance(\\'__main__\\', locals().items() else \"False\"', 'print(\"True\") if isinstance(\\'__main__\\', locals().items()) else \"False\"', 'print(\"True\") if \\'__main__\\' in locals().items() else \"False\"', 'locals.items()', 'locals().items()', 'locals().values()']), ('Out', {1: environ({'SHELL': '/bin/bash', 'NV_LIBCUBLAS_VERSION': '12.2.5.6-1', 'NVIDIA_VISIBLE_DEVICES': 'all', 'COLAB_JUPYTER_TRANSPORT': 'ipc', 'NV_NVML_DEV_VERSION': '12.2.140-1', 'NV_CUDNN_PACKAGE_NAME': 'libcudnn8', 'CGROUP_MEMORY_EVENTS': '/sys/fs/cgroup/memory.events /var/colab/cgroup/jupyter-children/memory.events', 'NV_LIBNCCL_DEV_PACKAGE': 'libnccl-dev=2.19.3-1+cuda12.2', 'NV_LIBNCCL_DEV_PACKAGE_VERSION': '2.19.3-1', 'VM_GCE_METADATA_HOST': '169.254.169.253', 'HOSTNAME': '57645698dfef', 'LANGUAGE': 'en_US', 'TBE_RUNTIME_ADDR': '172.28.0.1:8011', 'COLAB_TPU_1VM': '', 'GCE_METADATA_TIMEOUT': '3', 'NVIDIA_REQUIRE_CUDA': 'cuda>=12.2 brand=tesla,driver>=470,driver<471 brand=unknown,driver>=470,driver<471 brand=nvidia,driver>=470,driver<471 brand=nvidiartx,driver>=470,driver<471 brand=geforce,driver>=470,driver<471 brand=geforcertx,driver>=470,driver<471 brand=quadro,driver>=470,driver<471 brand=quadrortx,driver>=470,driver<471 brand=titan,driver>=470,driver<471 brand=titanrtx,driver>=470,driver<471 brand=tesla,driver>=525,driver<526 brand=unknown,driver>=525,driver<526 brand=nvidia,driver>=525,driver<526 brand=nvidiartx,driver>=525,driver<526 brand=geforce,driver>=525,driver<526 brand=geforcertx,driver>=525,driver<526 brand=quadro,driver>=525,driver<526 brand=quadrortx,driver>=525,driver<526 brand=titan,driver>=525,driver<526 brand=titanrtx,driver>=525,driver<526', 'NV_LIBCUBLAS_DEV_PACKAGE': 'libcublas-dev-12-2=12.2.5.6-1', 'NV_NVTX_VERSION': '12.2.140-1', 'COLAB_JUPYTER_IP': '172.28.0.12', 'NV_CUDA_CUDART_DEV_VERSION': '12.2.140-1', 'NV_LIBCUSPARSE_VERSION': '12.1.2.141-1', 'COLAB_LANGUAGE_SERVER_PROXY_ROOT_URL': 'http://172.28.0.1:8013/', 'NV_LIBNPP_VERSION': '12.2.1.4-1', 'NCCL_VERSION': '2.19.3-1', 'KMP_LISTEN_PORT': '6000', 'TF_FORCE_GPU_ALLOW_GROWTH': 'true', 'ENV': '/root/.bashrc', 'PWD': '/', 'COLAB_LANGUAGE_SERVER_PROXY_REQUEST_TIMEOUT': '30s', 'TBE_EPHEM_CREDS_ADDR': '172.28.0.1:8009', 'TBE_CREDS_ADDR': '172.28.0.1:8008', 'NV_CUDNN_PACKAGE': 'libcudnn8=8.9.6.50-1+cuda12.2', 'NVIDIA_DRIVER_CAPABILITIES': 'compute,utility', 'COLAB_JUPYTER_TOKEN': '', 'LAST_FORCED_REBUILD': '20240627', 'NV_NVPROF_DEV_PACKAGE': 'cuda-nvprof-12-2=12.2.142-1', 'NV_LIBNPP_PACKAGE': 'libnpp-12-2=12.2.1.4-1', 'NV_LIBNCCL_DEV_PACKAGE_NAME': 'libnccl-dev', 'TCLLIBPATH': '/usr/share/tcltk/tcllib1.20', 'NV_LIBCUBLAS_DEV_VERSION': '12.2.5.6-1', 'NVIDIA_PRODUCT_NAME': 'CUDA', 'COLAB_KERNEL_MANAGER_PROXY_HOST': '172.28.0.12', 'NV_LIBCUBLAS_DEV_PACKAGE_NAME': 'libcublas-dev-12-2', 'NV_CUDA_CUDART_VERSION': '12.2.140-1', 'COLAB_WARMUP_DEFAULTS': '1', 'HOME': '/root', 'LANG': 'en_US.UTF-8', 'COLUMNS': '100', 'CUDA_VERSION': '12.2.2', 'CLOUDSDK_CONFIG': '/content/.config', 'NV_LIBCUBLAS_PACKAGE': 'libcublas-12-2=12.2.5.6-1', 'NV_CUDA_NSIGHT_COMPUTE_DEV_PACKAGE': 'cuda-nsight-compute-12-2=12.2.2-1', 'COLAB_RELEASE_TAG': 'release-colab_20240910-060204_RC00', 'KMP_TARGET_PORT': '9000', 'KMP_EXTRA_ARGS': '--logtostderr --listen_host=172.28.0.12 --target_host=172.28.0.12 --tunnel_background_save_url=https://colab.research.google.com/tun/m/cc48301118ce562b961b3c22d803539adc1e0c19/m-s-yysr7zal1kwx --tunnel_background_save_delay=10s --tunnel_periodic_background_save_frequency=30m0s --enable_output_coalescing=true --output_coalescing_required=true --log_code_content', 'NV_LIBNPP_DEV_PACKAGE': 'libnpp-dev-12-2=12.2.1.4-1', 'COLAB_LANGUAGE_SERVER_PROXY_LSP_DIRS': '/datalab/web/pyright/typeshed-fallback/stdlib,/usr/local/lib/python3.10/dist-packages', 'NV_LIBCUBLAS_PACKAGE_NAME': 'libcublas-12-2', 'COLAB_KERNEL_MANAGER_PROXY_PORT': '6000', 'CLOUDSDK_PYTHON': 'python3', 'NV_LIBNPP_DEV_VERSION': '12.2.1.4-1', 'NO_GCE_CHECK': 'False', 'PYTHONPATH': '/env/python', 'NV_LIBCUSPARSE_DEV_VERSION': '12.1.2.141-1', 'LIBRARY_PATH': '/usr/local/cuda/lib64/stubs', 'NV_CUDNN_VERSION': '8.9.6.50', 'SHLVL': '0', 'NV_CUDA_LIB_VERSION': '12.2.2-1', 'COLAB_LANGUAGE_SERVER_PROXY': '/usr/colab/bin/language_service', 'NVARCH': 'x86_64', 'NV_CUDNN_PACKAGE_DEV': 'libcudnn8-dev=8.9.6.50-1+cuda12.2', 'NV_CUDA_COMPAT_PACKAGE': 'cuda-compat-12-2', 'NV_LIBNCCL_PACKAGE': 'libnccl2=2.19.3-1+cuda12.2', 'LD_LIBRARY_PATH': '/usr/local/nvidia/lib:/usr/local/nvidia/lib64', 'COLAB_GPU': '', 'NV_CUDA_NSIGHT_COMPUTE_VERSION': '12.2.2-1', 'GCS_READ_CACHE_BLOCK_SIZE_MB': '16', 'NV_NVPROF_VERSION': '12.2.142-1', 'LC_ALL': 'en_US.UTF-8', 'COLAB_FILE_HANDLER_ADDR': 'localhost:3453', 'PATH': '/opt/bin:/usr/local/nvidia/bin:/usr/local/cuda/bin:/usr/local/sbin:/usr/local/bin:/usr/sbin:/usr/bin:/sbin:/bin:/tools/node/bin:/tools/google-cloud-sdk/bin', 'NV_LIBNCCL_PACKAGE_NAME': 'libnccl2', 'COLAB_DEBUG_ADAPTER_MUX_PATH': '/usr/local/bin/dap_multiplexer', 'NV_LIBNCCL_PACKAGE_VERSION': '2.19.3-1', 'PYTHONWARNINGS': 'ignore:::pip._internal.cli.base_command', 'DEBIAN_FRONTEND': 'noninteractive', 'COLAB_BACKEND_VERSION': 'next', 'OLDPWD': '/', 'JPY_PARENT_PID': '88', 'TERM': 'xterm-color', 'CLICOLOR': '1', 'PAGER': 'cat', 'GIT_PAGER': 'cat', 'MPLBACKEND': 'module://ipykernel.pylab.backend_inline', 'ENABLE_DIRECTORYPREFETCHER': '1', 'USE_AUTH_EPHEM': '1', 'PYDEVD_USE_FRAME_EVAL': 'NO'}), 6: bytearray(b'\\n\\x148#\\x11c'), 11: 9.123, 12: {...}, 16: 'False', 18: ...}), ('get_ipython', <bound method InteractiveShell.get_ipython of <google.colab._shell.Shell object at 0x7b1bb296e710>>), ('exit', <IPython.core.autocall.ZMQExitAutocall object at 0x7b1bb296dbd0>), ('quit', <IPython.core.autocall.ZMQExitAutocall object at 0x7b1bb296dbd0>), ('_', ...), ('__', 'False'), ('___', {...}), ('_i', 'locals().items()'), ('_ii', 'locals.items()'), ('_iii', 'print(\"True\") if \\'__main__\\' in locals().items() else \"False\"'), ('_i1', 'import os\\nos.environ'), ('os', <module 'os' from '/usr/lib/python3.10/os.py'>), ('_1', environ({'SHELL': '/bin/bash', 'NV_LIBCUBLAS_VERSION': '12.2.5.6-1', 'NVIDIA_VISIBLE_DEVICES': 'all', 'COLAB_JUPYTER_TRANSPORT': 'ipc', 'NV_NVML_DEV_VERSION': '12.2.140-1', 'NV_CUDNN_PACKAGE_NAME': 'libcudnn8', 'CGROUP_MEMORY_EVENTS': '/sys/fs/cgroup/memory.events /var/colab/cgroup/jupyter-children/memory.events', 'NV_LIBNCCL_DEV_PACKAGE': 'libnccl-dev=2.19.3-1+cuda12.2', 'NV_LIBNCCL_DEV_PACKAGE_VERSION': '2.19.3-1', 'VM_GCE_METADATA_HOST': '169.254.169.253', 'HOSTNAME': '57645698dfef', 'LANGUAGE': 'en_US', 'TBE_RUNTIME_ADDR': '172.28.0.1:8011', 'COLAB_TPU_1VM': '', 'GCE_METADATA_TIMEOUT': '3', 'NVIDIA_REQUIRE_CUDA': 'cuda>=12.2 brand=tesla,driver>=470,driver<471 brand=unknown,driver>=470,driver<471 brand=nvidia,driver>=470,driver<471 brand=nvidiartx,driver>=470,driver<471 brand=geforce,driver>=470,driver<471 brand=geforcertx,driver>=470,driver<471 brand=quadro,driver>=470,driver<471 brand=quadrortx,driver>=470,driver<471 brand=titan,driver>=470,driver<471 brand=titanrtx,driver>=470,driver<471 brand=tesla,driver>=525,driver<526 brand=unknown,driver>=525,driver<526 brand=nvidia,driver>=525,driver<526 brand=nvidiartx,driver>=525,driver<526 brand=geforce,driver>=525,driver<526 brand=geforcertx,driver>=525,driver<526 brand=quadro,driver>=525,driver<526 brand=quadrortx,driver>=525,driver<526 brand=titan,driver>=525,driver<526 brand=titanrtx,driver>=525,driver<526', 'NV_LIBCUBLAS_DEV_PACKAGE': 'libcublas-dev-12-2=12.2.5.6-1', 'NV_NVTX_VERSION': '12.2.140-1', 'COLAB_JUPYTER_IP': '172.28.0.12', 'NV_CUDA_CUDART_DEV_VERSION': '12.2.140-1', 'NV_LIBCUSPARSE_VERSION': '12.1.2.141-1', 'COLAB_LANGUAGE_SERVER_PROXY_ROOT_URL': 'http://172.28.0.1:8013/', 'NV_LIBNPP_VERSION': '12.2.1.4-1', 'NCCL_VERSION': '2.19.3-1', 'KMP_LISTEN_PORT': '6000', 'TF_FORCE_GPU_ALLOW_GROWTH': 'true', 'ENV': '/root/.bashrc', 'PWD': '/', 'COLAB_LANGUAGE_SERVER_PROXY_REQUEST_TIMEOUT': '30s', 'TBE_EPHEM_CREDS_ADDR': '172.28.0.1:8009', 'TBE_CREDS_ADDR': '172.28.0.1:8008', 'NV_CUDNN_PACKAGE': 'libcudnn8=8.9.6.50-1+cuda12.2', 'NVIDIA_DRIVER_CAPABILITIES': 'compute,utility', 'COLAB_JUPYTER_TOKEN': '', 'LAST_FORCED_REBUILD': '20240627', 'NV_NVPROF_DEV_PACKAGE': 'cuda-nvprof-12-2=12.2.142-1', 'NV_LIBNPP_PACKAGE': 'libnpp-12-2=12.2.1.4-1', 'NV_LIBNCCL_DEV_PACKAGE_NAME': 'libnccl-dev', 'TCLLIBPATH': '/usr/share/tcltk/tcllib1.20', 'NV_LIBCUBLAS_DEV_VERSION': '12.2.5.6-1', 'NVIDIA_PRODUCT_NAME': 'CUDA', 'COLAB_KERNEL_MANAGER_PROXY_HOST': '172.28.0.12', 'NV_LIBCUBLAS_DEV_PACKAGE_NAME': 'libcublas-dev-12-2', 'NV_CUDA_CUDART_VERSION': '12.2.140-1', 'COLAB_WARMUP_DEFAULTS': '1', 'HOME': '/root', 'LANG': 'en_US.UTF-8', 'COLUMNS': '100', 'CUDA_VERSION': '12.2.2', 'CLOUDSDK_CONFIG': '/content/.config', 'NV_LIBCUBLAS_PACKAGE': 'libcublas-12-2=12.2.5.6-1', 'NV_CUDA_NSIGHT_COMPUTE_DEV_PACKAGE': 'cuda-nsight-compute-12-2=12.2.2-1', 'COLAB_RELEASE_TAG': 'release-colab_20240910-060204_RC00', 'KMP_TARGET_PORT': '9000', 'KMP_EXTRA_ARGS': '--logtostderr --listen_host=172.28.0.12 --target_host=172.28.0.12 --tunnel_background_save_url=https://colab.research.google.com/tun/m/cc48301118ce562b961b3c22d803539adc1e0c19/m-s-yysr7zal1kwx --tunnel_background_save_delay=10s --tunnel_periodic_background_save_frequency=30m0s --enable_output_coalescing=true --output_coalescing_required=true --log_code_content', 'NV_LIBNPP_DEV_PACKAGE': 'libnpp-dev-12-2=12.2.1.4-1', 'COLAB_LANGUAGE_SERVER_PROXY_LSP_DIRS': '/datalab/web/pyright/typeshed-fallback/stdlib,/usr/local/lib/python3.10/dist-packages', 'NV_LIBCUBLAS_PACKAGE_NAME': 'libcublas-12-2', 'COLAB_KERNEL_MANAGER_PROXY_PORT': '6000', 'CLOUDSDK_PYTHON': 'python3', 'NV_LIBNPP_DEV_VERSION': '12.2.1.4-1', 'NO_GCE_CHECK': 'False', 'PYTHONPATH': '/env/python', 'NV_LIBCUSPARSE_DEV_VERSION': '12.1.2.141-1', 'LIBRARY_PATH': '/usr/local/cuda/lib64/stubs', 'NV_CUDNN_VERSION': '8.9.6.50', 'SHLVL': '0', 'NV_CUDA_LIB_VERSION': '12.2.2-1', 'COLAB_LANGUAGE_SERVER_PROXY': '/usr/colab/bin/language_service', 'NVARCH': 'x86_64', 'NV_CUDNN_PACKAGE_DEV': 'libcudnn8-dev=8.9.6.50-1+cuda12.2', 'NV_CUDA_COMPAT_PACKAGE': 'cuda-compat-12-2', 'NV_LIBNCCL_PACKAGE': 'libnccl2=2.19.3-1+cuda12.2', 'LD_LIBRARY_PATH': '/usr/local/nvidia/lib:/usr/local/nvidia/lib64', 'COLAB_GPU': '', 'NV_CUDA_NSIGHT_COMPUTE_VERSION': '12.2.2-1', 'GCS_READ_CACHE_BLOCK_SIZE_MB': '16', 'NV_NVPROF_VERSION': '12.2.142-1', 'LC_ALL': 'en_US.UTF-8', 'COLAB_FILE_HANDLER_ADDR': 'localhost:3453', 'PATH': '/opt/bin:/usr/local/nvidia/bin:/usr/local/cuda/bin:/usr/local/sbin:/usr/local/bin:/usr/sbin:/usr/bin:/sbin:/bin:/tools/node/bin:/tools/google-cloud-sdk/bin', 'NV_LIBNCCL_PACKAGE_NAME': 'libnccl2', 'COLAB_DEBUG_ADAPTER_MUX_PATH': '/usr/local/bin/dap_multiplexer', 'NV_LIBNCCL_PACKAGE_VERSION': '2.19.3-1', 'PYTHONWARNINGS': 'ignore:::pip._internal.cli.base_command', 'DEBIAN_FRONTEND': 'noninteractive', 'COLAB_BACKEND_VERSION': 'next', 'OLDPWD': '/', 'JPY_PARENT_PID': '88', 'TERM': 'xterm-color', 'CLICOLOR': '1', 'PAGER': 'cat', 'GIT_PAGER': 'cat', 'MPLBACKEND': 'module://ipykernel.pylab.backend_inline', 'ENABLE_DIRECTORYPREFETCHER': '1', 'USE_AUTH_EPHEM': '1', 'PYDEVD_USE_FRAME_EVAL': 'NO'})), ('_i2', 'import os.path as path\\ndef path_divide(apath):\\n  print(f\\'{apath}:{path.splittext(apath)}\\')\\n\\npath_divide(\"wada.xp\")'), ('path', <module 'posixpath' from '/usr/lib/python3.10/posixpath.py'>), ('path_divide', <function path_divide at 0x7b1ba03a5fc0>), ('_i3', 'import os.path as path\\ndef path_divide(apath):\\n  print(f\\'{apath}:{path.splitext(apath)}\\')\\n\\npath_divide(\"wada.xp\")'), ('_i4', 'print(\"True\") if id(\"String\") == id(\"String\")'), ('_i5', 'print(\"True\") if id(\"String\") == id(\"String\") else \"False\"'), ('_i6', 'bnums = [10, 20, 56, 35, 17, 99]\\nbvalues = bytearray(bnums)\\nbvalues'), ('bnums', [10, 20, 56, 35, 17, 99]), ('bvalues', bytearray(b'\\n\\x148#\\x11c')), ('_6', bytearray(b'\\n\\x148#\\x11c')), ('_i7', 'bnums = [10, 20, 56, 35, 17, 99]\\nbvalues = bytearray(bnums)\\nbvalues\\n# Iterate through the elements of the bytearray and print each element.\\nfor x in values:\\n    print(x)'), ('_i8', 'bnums = [10, 20, 56, 35, 17, 99]\\nbvalues = bytearray(bnums)\\nbvalues\\n# Iterate through the elements of the bytearray and print each element.\\nfor x in bvalues:\\n    print(x)'), ('x', 99), ('_i9', 'bnums = [10, 20, 56, 35, 17, 99]\\nbvalues = bytearray(bnums)\\nprint(bvalues)\\n# Iterate through the elements of the bytearray and print each element.\\nfor x in bvalues:\\n    print(x)'), ('_i10', 'afloat = 9.12314\\nafloat.round(3)'), ('afloat', 9.12314), ('_i11', 'afloat = 9.12314\\nround(afloat,3)'), ('_11', 9.123), ('_i12', 'locals()'), ('_12', {...}), ('_i13', 'print(\"True\") if isinstance(\\'__main__\\', locals().items()'), ('_i14', 'print(\"True\") if isinstance(\\'__main__\\', locals().items() else \"False\"'), ('_i15', 'print(\"True\") if isinstance(\\'__main__\\', locals().items()) else \"False\"'), ('_i16', 'print(\"True\") if \\'__main__\\' in locals().items() else \"False\"'), ('_16', 'False'), ('_i17', 'locals.items()'), ('_i18', 'locals().items()'), ('_18', ...), ('_i19', 'locals().values()')]), '__': 'False', '___': {...}, '_i': 'locals().items()', '_ii': 'locals.items()', '_iii': 'print(\"True\") if \\'__main__\\' in locals().items() else \"False\"', '_i1': 'import os\\nos.environ', 'os': <module 'os' from '/usr/lib/python3.10/os.py'>, '_1': environ({'SHELL': '/bin/bash', 'NV_LIBCUBLAS_VERSION': '12.2.5.6-1', 'NVIDIA_VISIBLE_DEVICES': 'all', 'COLAB_JUPYTER_TRANSPORT': 'ipc', 'NV_NVML_DEV_VERSION': '12.2.140-1', 'NV_CUDNN_PACKAGE_NAME': 'libcudnn8', 'CGROUP_MEMORY_EVENTS': '/sys/fs/cgroup/memory.events /var/colab/cgroup/jupyter-children/memory.events', 'NV_LIBNCCL_DEV_PACKAGE': 'libnccl-dev=2.19.3-1+cuda12.2', 'NV_LIBNCCL_DEV_PACKAGE_VERSION': '2.19.3-1', 'VM_GCE_METADATA_HOST': '169.254.169.253', 'HOSTNAME': '57645698dfef', 'LANGUAGE': 'en_US', 'TBE_RUNTIME_ADDR': '172.28.0.1:8011', 'COLAB_TPU_1VM': '', 'GCE_METADATA_TIMEOUT': '3', 'NVIDIA_REQUIRE_CUDA': 'cuda>=12.2 brand=tesla,driver>=470,driver<471 brand=unknown,driver>=470,driver<471 brand=nvidia,driver>=470,driver<471 brand=nvidiartx,driver>=470,driver<471 brand=geforce,driver>=470,driver<471 brand=geforcertx,driver>=470,driver<471 brand=quadro,driver>=470,driver<471 brand=quadrortx,driver>=470,driver<471 brand=titan,driver>=470,driver<471 brand=titanrtx,driver>=470,driver<471 brand=tesla,driver>=525,driver<526 brand=unknown,driver>=525,driver<526 brand=nvidia,driver>=525,driver<526 brand=nvidiartx,driver>=525,driver<526 brand=geforce,driver>=525,driver<526 brand=geforcertx,driver>=525,driver<526 brand=quadro,driver>=525,driver<526 brand=quadrortx,driver>=525,driver<526 brand=titan,driver>=525,driver<526 brand=titanrtx,driver>=525,driver<526', 'NV_LIBCUBLAS_DEV_PACKAGE': 'libcublas-dev-12-2=12.2.5.6-1', 'NV_NVTX_VERSION': '12.2.140-1', 'COLAB_JUPYTER_IP': '172.28.0.12', 'NV_CUDA_CUDART_DEV_VERSION': '12.2.140-1', 'NV_LIBCUSPARSE_VERSION': '12.1.2.141-1', 'COLAB_LANGUAGE_SERVER_PROXY_ROOT_URL': 'http://172.28.0.1:8013/', 'NV_LIBNPP_VERSION': '12.2.1.4-1', 'NCCL_VERSION': '2.19.3-1', 'KMP_LISTEN_PORT': '6000', 'TF_FORCE_GPU_ALLOW_GROWTH': 'true', 'ENV': '/root/.bashrc', 'PWD': '/', 'COLAB_LANGUAGE_SERVER_PROXY_REQUEST_TIMEOUT': '30s', 'TBE_EPHEM_CREDS_ADDR': '172.28.0.1:8009', 'TBE_CREDS_ADDR': '172.28.0.1:8008', 'NV_CUDNN_PACKAGE': 'libcudnn8=8.9.6.50-1+cuda12.2', 'NVIDIA_DRIVER_CAPABILITIES': 'compute,utility', 'COLAB_JUPYTER_TOKEN': '', 'LAST_FORCED_REBUILD': '20240627', 'NV_NVPROF_DEV_PACKAGE': 'cuda-nvprof-12-2=12.2.142-1', 'NV_LIBNPP_PACKAGE': 'libnpp-12-2=12.2.1.4-1', 'NV_LIBNCCL_DEV_PACKAGE_NAME': 'libnccl-dev', 'TCLLIBPATH': '/usr/share/tcltk/tcllib1.20', 'NV_LIBCUBLAS_DEV_VERSION': '12.2.5.6-1', 'NVIDIA_PRODUCT_NAME': 'CUDA', 'COLAB_KERNEL_MANAGER_PROXY_HOST': '172.28.0.12', 'NV_LIBCUBLAS_DEV_PACKAGE_NAME': 'libcublas-dev-12-2', 'NV_CUDA_CUDART_VERSION': '12.2.140-1', 'COLAB_WARMUP_DEFAULTS': '1', 'HOME': '/root', 'LANG': 'en_US.UTF-8', 'COLUMNS': '100', 'CUDA_VERSION': '12.2.2', 'CLOUDSDK_CONFIG': '/content/.config', 'NV_LIBCUBLAS_PACKAGE': 'libcublas-12-2=12.2.5.6-1', 'NV_CUDA_NSIGHT_COMPUTE_DEV_PACKAGE': 'cuda-nsight-compute-12-2=12.2.2-1', 'COLAB_RELEASE_TAG': 'release-colab_20240910-060204_RC00', 'KMP_TARGET_PORT': '9000', 'KMP_EXTRA_ARGS': '--logtostderr --listen_host=172.28.0.12 --target_host=172.28.0.12 --tunnel_background_save_url=https://colab.research.google.com/tun/m/cc48301118ce562b961b3c22d803539adc1e0c19/m-s-yysr7zal1kwx --tunnel_background_save_delay=10s --tunnel_periodic_background_save_frequency=30m0s --enable_output_coalescing=true --output_coalescing_required=true --log_code_content', 'NV_LIBNPP_DEV_PACKAGE': 'libnpp-dev-12-2=12.2.1.4-1', 'COLAB_LANGUAGE_SERVER_PROXY_LSP_DIRS': '/datalab/web/pyright/typeshed-fallback/stdlib,/usr/local/lib/python3.10/dist-packages', 'NV_LIBCUBLAS_PACKAGE_NAME': 'libcublas-12-2', 'COLAB_KERNEL_MANAGER_PROXY_PORT': '6000', 'CLOUDSDK_PYTHON': 'python3', 'NV_LIBNPP_DEV_VERSION': '12.2.1.4-1', 'NO_GCE_CHECK': 'False', 'PYTHONPATH': '/env/python', 'NV_LIBCUSPARSE_DEV_VERSION': '12.1.2.141-1', 'LIBRARY_PATH': '/usr/local/cuda/lib64/stubs', 'NV_CUDNN_VERSION': '8.9.6.50', 'SHLVL': '0', 'NV_CUDA_LIB_VERSION': '12.2.2-1', 'COLAB_LANGUAGE_SERVER_PROXY': '/usr/colab/bin/language_service', 'NVARCH': 'x86_64', 'NV_CUDNN_PACKAGE_DEV': 'libcudnn8-dev=8.9.6.50-1+cuda12.2', 'NV_CUDA_COMPAT_PACKAGE': 'cuda-compat-12-2', 'NV_LIBNCCL_PACKAGE': 'libnccl2=2.19.3-1+cuda12.2', 'LD_LIBRARY_PATH': '/usr/local/nvidia/lib:/usr/local/nvidia/lib64', 'COLAB_GPU': '', 'NV_CUDA_NSIGHT_COMPUTE_VERSION': '12.2.2-1', 'GCS_READ_CACHE_BLOCK_SIZE_MB': '16', 'NV_NVPROF_VERSION': '12.2.142-1', 'LC_ALL': 'en_US.UTF-8', 'COLAB_FILE_HANDLER_ADDR': 'localhost:3453', 'PATH': '/opt/bin:/usr/local/nvidia/bin:/usr/local/cuda/bin:/usr/local/sbin:/usr/local/bin:/usr/sbin:/usr/bin:/sbin:/bin:/tools/node/bin:/tools/google-cloud-sdk/bin', 'NV_LIBNCCL_PACKAGE_NAME': 'libnccl2', 'COLAB_DEBUG_ADAPTER_MUX_PATH': '/usr/local/bin/dap_multiplexer', 'NV_LIBNCCL_PACKAGE_VERSION': '2.19.3-1', 'PYTHONWARNINGS': 'ignore:::pip._internal.cli.base_command', 'DEBIAN_FRONTEND': 'noninteractive', 'COLAB_BACKEND_VERSION': 'next', 'OLDPWD': '/', 'JPY_PARENT_PID': '88', 'TERM': 'xterm-color', 'CLICOLOR': '1', 'PAGER': 'cat', 'GIT_PAGER': 'cat', 'MPLBACKEND': 'module://ipykernel.pylab.backend_inline', 'ENABLE_DIRECTORYPREFETCHER': '1', 'USE_AUTH_EPHEM': '1', 'PYDEVD_USE_FRAME_EVAL': 'NO'}), '_i2': 'import os.path as path\\ndef path_divide(apath):\\n  print(f\\'{apath}:{path.splittext(apath)}\\')\\n\\npath_divide(\"wada.xp\")', 'path': <module 'posixpath' from '/usr/lib/python3.10/posixpath.py'>, 'path_divide': <function path_divide at 0x7b1ba03a5fc0>, '_i3': 'import os.path as path\\ndef path_divide(apath):\\n  print(f\\'{apath}:{path.splitext(apath)}\\')\\n\\npath_divide(\"wada.xp\")', '_i4': 'print(\"True\") if id(\"String\") == id(\"String\")', '_i5': 'print(\"True\") if id(\"String\") == id(\"String\") else \"False\"', '_i6': 'bnums = [10, 20, 56, 35, 17, 99]\\nbvalues = bytearray(bnums)\\nbvalues', 'bnums': [10, 20, 56, 35, 17, 99], 'bvalues': bytearray(b'\\n\\x148#\\x11c'), '_6': bytearray(b'\\n\\x148#\\x11c'), '_i7': 'bnums = [10, 20, 56, 35, 17, 99]\\nbvalues = bytearray(bnums)\\nbvalues\\n# Iterate through the elements of the bytearray and print each element.\\nfor x in values:\\n    print(x)', '_i8': 'bnums = [10, 20, 56, 35, 17, 99]\\nbvalues = bytearray(bnums)\\nbvalues\\n# Iterate through the elements of the bytearray and print each element.\\nfor x in bvalues:\\n    print(x)', 'x': 99, '_i9': 'bnums = [10, 20, 56, 35, 17, 99]\\nbvalues = bytearray(bnums)\\nprint(bvalues)\\n# Iterate through the elements of the bytearray and print each element.\\nfor x in bvalues:\\n    print(x)', '_i10': 'afloat = 9.12314\\nafloat.round(3)', 'afloat': 9.12314, '_i11': 'afloat = 9.12314\\nround(afloat,3)', '_11': 9.123, '_i12': 'locals()', '_12': {...}, '_i13': 'print(\"True\") if isinstance(\\'__main__\\', locals().items()', '_i14': 'print(\"True\") if isinstance(\\'__main__\\', locals().items() else \"False\"', '_i15': 'print(\"True\") if isinstance(\\'__main__\\', locals().items()) else \"False\"', '_i16': 'print(\"True\") if \\'__main__\\' in locals().items() else \"False\"', '_16': 'False', '_i17': 'locals.items()', '_i18': 'locals().items()', '_18': dict_items([('__name__', '__main__'), ('__doc__', 'Automatically created module for IPython interactive environment'), ('__package__', None), ('__loader__', None), ('__spec__', None), ('__builtin__', <module 'builtins' (built-in)>), ('__builtins__', <module 'builtins' (built-in)>), ('_ih', ['', 'import os\\nos.environ', 'import os.path as path\\ndef path_divide(apath):\\n  print(f\\'{apath}:{path.splittext(apath)}\\')\\n\\npath_divide(\"wada.xp\")', 'import os.path as path\\ndef path_divide(apath):\\n  print(f\\'{apath}:{path.splitext(apath)}\\')\\n\\npath_divide(\"wada.xp\")', 'print(\"True\") if id(\"String\") == id(\"String\")', 'print(\"True\") if id(\"String\") == id(\"String\") else \"False\"', 'bnums = [10, 20, 56, 35, 17, 99]\\nbvalues = bytearray(bnums)\\nbvalues', 'bnums = [10, 20, 56, 35, 17, 99]\\nbvalues = bytearray(bnums)\\nbvalues\\n# Iterate through the elements of the bytearray and print each element.\\nfor x in values:\\n    print(x)', 'bnums = [10, 20, 56, 35, 17, 99]\\nbvalues = bytearray(bnums)\\nbvalues\\n# Iterate through the elements of the bytearray and print each element.\\nfor x in bvalues:\\n    print(x)', 'bnums = [10, 20, 56, 35, 17, 99]\\nbvalues = bytearray(bnums)\\nprint(bvalues)\\n# Iterate through the elements of the bytearray and print each element.\\nfor x in bvalues:\\n    print(x)', 'afloat = 9.12314\\nafloat.round(3)', 'afloat = 9.12314\\nround(afloat,3)', 'locals()', 'print(\"True\") if isinstance(\\'__main__\\', locals().items()', 'print(\"True\") if isinstance(\\'__main__\\', locals().items() else \"False\"', 'print(\"True\") if isinstance(\\'__main__\\', locals().items()) else \"False\"', 'print(\"True\") if \\'__main__\\' in locals().items() else \"False\"', 'locals.items()', 'locals().items()', 'locals().values()']), ('_oh', {1: environ({'SHELL': '/bin/bash', 'NV_LIBCUBLAS_VERSION': '12.2.5.6-1', 'NVIDIA_VISIBLE_DEVICES': 'all', 'COLAB_JUPYTER_TRANSPORT': 'ipc', 'NV_NVML_DEV_VERSION': '12.2.140-1', 'NV_CUDNN_PACKAGE_NAME': 'libcudnn8', 'CGROUP_MEMORY_EVENTS': '/sys/fs/cgroup/memory.events /var/colab/cgroup/jupyter-children/memory.events', 'NV_LIBNCCL_DEV_PACKAGE': 'libnccl-dev=2.19.3-1+cuda12.2', 'NV_LIBNCCL_DEV_PACKAGE_VERSION': '2.19.3-1', 'VM_GCE_METADATA_HOST': '169.254.169.253', 'HOSTNAME': '57645698dfef', 'LANGUAGE': 'en_US', 'TBE_RUNTIME_ADDR': '172.28.0.1:8011', 'COLAB_TPU_1VM': '', 'GCE_METADATA_TIMEOUT': '3', 'NVIDIA_REQUIRE_CUDA': 'cuda>=12.2 brand=tesla,driver>=470,driver<471 brand=unknown,driver>=470,driver<471 brand=nvidia,driver>=470,driver<471 brand=nvidiartx,driver>=470,driver<471 brand=geforce,driver>=470,driver<471 brand=geforcertx,driver>=470,driver<471 brand=quadro,driver>=470,driver<471 brand=quadrortx,driver>=470,driver<471 brand=titan,driver>=470,driver<471 brand=titanrtx,driver>=470,driver<471 brand=tesla,driver>=525,driver<526 brand=unknown,driver>=525,driver<526 brand=nvidia,driver>=525,driver<526 brand=nvidiartx,driver>=525,driver<526 brand=geforce,driver>=525,driver<526 brand=geforcertx,driver>=525,driver<526 brand=quadro,driver>=525,driver<526 brand=quadrortx,driver>=525,driver<526 brand=titan,driver>=525,driver<526 brand=titanrtx,driver>=525,driver<526', 'NV_LIBCUBLAS_DEV_PACKAGE': 'libcublas-dev-12-2=12.2.5.6-1', 'NV_NVTX_VERSION': '12.2.140-1', 'COLAB_JUPYTER_IP': '172.28.0.12', 'NV_CUDA_CUDART_DEV_VERSION': '12.2.140-1', 'NV_LIBCUSPARSE_VERSION': '12.1.2.141-1', 'COLAB_LANGUAGE_SERVER_PROXY_ROOT_URL': 'http://172.28.0.1:8013/', 'NV_LIBNPP_VERSION': '12.2.1.4-1', 'NCCL_VERSION': '2.19.3-1', 'KMP_LISTEN_PORT': '6000', 'TF_FORCE_GPU_ALLOW_GROWTH': 'true', 'ENV': '/root/.bashrc', 'PWD': '/', 'COLAB_LANGUAGE_SERVER_PROXY_REQUEST_TIMEOUT': '30s', 'TBE_EPHEM_CREDS_ADDR': '172.28.0.1:8009', 'TBE_CREDS_ADDR': '172.28.0.1:8008', 'NV_CUDNN_PACKAGE': 'libcudnn8=8.9.6.50-1+cuda12.2', 'NVIDIA_DRIVER_CAPABILITIES': 'compute,utility', 'COLAB_JUPYTER_TOKEN': '', 'LAST_FORCED_REBUILD': '20240627', 'NV_NVPROF_DEV_PACKAGE': 'cuda-nvprof-12-2=12.2.142-1', 'NV_LIBNPP_PACKAGE': 'libnpp-12-2=12.2.1.4-1', 'NV_LIBNCCL_DEV_PACKAGE_NAME': 'libnccl-dev', 'TCLLIBPATH': '/usr/share/tcltk/tcllib1.20', 'NV_LIBCUBLAS_DEV_VERSION': '12.2.5.6-1', 'NVIDIA_PRODUCT_NAME': 'CUDA', 'COLAB_KERNEL_MANAGER_PROXY_HOST': '172.28.0.12', 'NV_LIBCUBLAS_DEV_PACKAGE_NAME': 'libcublas-dev-12-2', 'NV_CUDA_CUDART_VERSION': '12.2.140-1', 'COLAB_WARMUP_DEFAULTS': '1', 'HOME': '/root', 'LANG': 'en_US.UTF-8', 'COLUMNS': '100', 'CUDA_VERSION': '12.2.2', 'CLOUDSDK_CONFIG': '/content/.config', 'NV_LIBCUBLAS_PACKAGE': 'libcublas-12-2=12.2.5.6-1', 'NV_CUDA_NSIGHT_COMPUTE_DEV_PACKAGE': 'cuda-nsight-compute-12-2=12.2.2-1', 'COLAB_RELEASE_TAG': 'release-colab_20240910-060204_RC00', 'KMP_TARGET_PORT': '9000', 'KMP_EXTRA_ARGS': '--logtostderr --listen_host=172.28.0.12 --target_host=172.28.0.12 --tunnel_background_save_url=https://colab.research.google.com/tun/m/cc48301118ce562b961b3c22d803539adc1e0c19/m-s-yysr7zal1kwx --tunnel_background_save_delay=10s --tunnel_periodic_background_save_frequency=30m0s --enable_output_coalescing=true --output_coalescing_required=true --log_code_content', 'NV_LIBNPP_DEV_PACKAGE': 'libnpp-dev-12-2=12.2.1.4-1', 'COLAB_LANGUAGE_SERVER_PROXY_LSP_DIRS': '/datalab/web/pyright/typeshed-fallback/stdlib,/usr/local/lib/python3.10/dist-packages', 'NV_LIBCUBLAS_PACKAGE_NAME': 'libcublas-12-2', 'COLAB_KERNEL_MANAGER_PROXY_PORT': '6000', 'CLOUDSDK_PYTHON': 'python3', 'NV_LIBNPP_DEV_VERSION': '12.2.1.4-1', 'NO_GCE_CHECK': 'False', 'PYTHONPATH': '/env/python', 'NV_LIBCUSPARSE_DEV_VERSION': '12.1.2.141-1', 'LIBRARY_PATH': '/usr/local/cuda/lib64/stubs', 'NV_CUDNN_VERSION': '8.9.6.50', 'SHLVL': '0', 'NV_CUDA_LIB_VERSION': '12.2.2-1', 'COLAB_LANGUAGE_SERVER_PROXY': '/usr/colab/bin/language_service', 'NVARCH': 'x86_64', 'NV_CUDNN_PACKAGE_DEV': 'libcudnn8-dev=8.9.6.50-1+cuda12.2', 'NV_CUDA_COMPAT_PACKAGE': 'cuda-compat-12-2', 'NV_LIBNCCL_PACKAGE': 'libnccl2=2.19.3-1+cuda12.2', 'LD_LIBRARY_PATH': '/usr/local/nvidia/lib:/usr/local/nvidia/lib64', 'COLAB_GPU': '', 'NV_CUDA_NSIGHT_COMPUTE_VERSION': '12.2.2-1', 'GCS_READ_CACHE_BLOCK_SIZE_MB': '16', 'NV_NVPROF_VERSION': '12.2.142-1', 'LC_ALL': 'en_US.UTF-8', 'COLAB_FILE_HANDLER_ADDR': 'localhost:3453', 'PATH': '/opt/bin:/usr/local/nvidia/bin:/usr/local/cuda/bin:/usr/local/sbin:/usr/local/bin:/usr/sbin:/usr/bin:/sbin:/bin:/tools/node/bin:/tools/google-cloud-sdk/bin', 'NV_LIBNCCL_PACKAGE_NAME': 'libnccl2', 'COLAB_DEBUG_ADAPTER_MUX_PATH': '/usr/local/bin/dap_multiplexer', 'NV_LIBNCCL_PACKAGE_VERSION': '2.19.3-1', 'PYTHONWARNINGS': 'ignore:::pip._internal.cli.base_command', 'DEBIAN_FRONTEND': 'noninteractive', 'COLAB_BACKEND_VERSION': 'next', 'OLDPWD': '/', 'JPY_PARENT_PID': '88', 'TERM': 'xterm-color', 'CLICOLOR': '1', 'PAGER': 'cat', 'GIT_PAGER': 'cat', 'MPLBACKEND': 'module://ipykernel.pylab.backend_inline', 'ENABLE_DIRECTORYPREFETCHER': '1', 'USE_AUTH_EPHEM': '1', 'PYDEVD_USE_FRAME_EVAL': 'NO'}), 6: bytearray(b'\\n\\x148#\\x11c'), 11: 9.123, 12: {...}, 16: 'False', 18: ...}), ('_dh', ['/content']), ('In', ['', 'import os\\nos.environ', 'import os.path as path\\ndef path_divide(apath):\\n  print(f\\'{apath}:{path.splittext(apath)}\\')\\n\\npath_divide(\"wada.xp\")', 'import os.path as path\\ndef path_divide(apath):\\n  print(f\\'{apath}:{path.splitext(apath)}\\')\\n\\npath_divide(\"wada.xp\")', 'print(\"True\") if id(\"String\") == id(\"String\")', 'print(\"True\") if id(\"String\") == id(\"String\") else \"False\"', 'bnums = [10, 20, 56, 35, 17, 99]\\nbvalues = bytearray(bnums)\\nbvalues', 'bnums = [10, 20, 56, 35, 17, 99]\\nbvalues = bytearray(bnums)\\nbvalues\\n# Iterate through the elements of the bytearray and print each element.\\nfor x in values:\\n    print(x)', 'bnums = [10, 20, 56, 35, 17, 99]\\nbvalues = bytearray(bnums)\\nbvalues\\n# Iterate through the elements of the bytearray and print each element.\\nfor x in bvalues:\\n    print(x)', 'bnums = [10, 20, 56, 35, 17, 99]\\nbvalues = bytearray(bnums)\\nprint(bvalues)\\n# Iterate through the elements of the bytearray and print each element.\\nfor x in bvalues:\\n    print(x)', 'afloat = 9.12314\\nafloat.round(3)', 'afloat = 9.12314\\nround(afloat,3)', 'locals()', 'print(\"True\") if isinstance(\\'__main__\\', locals().items()', 'print(\"True\") if isinstance(\\'__main__\\', locals().items() else \"False\"', 'print(\"True\") if isinstance(\\'__main__\\', locals().items()) else \"False\"', 'print(\"True\") if \\'__main__\\' in locals().items() else \"False\"', 'locals.items()', 'locals().items()', 'locals().values()']), ('Out', {1: environ({'SHELL': '/bin/bash', 'NV_LIBCUBLAS_VERSION': '12.2.5.6-1', 'NVIDIA_VISIBLE_DEVICES': 'all', 'COLAB_JUPYTER_TRANSPORT': 'ipc', 'NV_NVML_DEV_VERSION': '12.2.140-1', 'NV_CUDNN_PACKAGE_NAME': 'libcudnn8', 'CGROUP_MEMORY_EVENTS': '/sys/fs/cgroup/memory.events /var/colab/cgroup/jupyter-children/memory.events', 'NV_LIBNCCL_DEV_PACKAGE': 'libnccl-dev=2.19.3-1+cuda12.2', 'NV_LIBNCCL_DEV_PACKAGE_VERSION': '2.19.3-1', 'VM_GCE_METADATA_HOST': '169.254.169.253', 'HOSTNAME': '57645698dfef', 'LANGUAGE': 'en_US', 'TBE_RUNTIME_ADDR': '172.28.0.1:8011', 'COLAB_TPU_1VM': '', 'GCE_METADATA_TIMEOUT': '3', 'NVIDIA_REQUIRE_CUDA': 'cuda>=12.2 brand=tesla,driver>=470,driver<471 brand=unknown,driver>=470,driver<471 brand=nvidia,driver>=470,driver<471 brand=nvidiartx,driver>=470,driver<471 brand=geforce,driver>=470,driver<471 brand=geforcertx,driver>=470,driver<471 brand=quadro,driver>=470,driver<471 brand=quadrortx,driver>=470,driver<471 brand=titan,driver>=470,driver<471 brand=titanrtx,driver>=470,driver<471 brand=tesla,driver>=525,driver<526 brand=unknown,driver>=525,driver<526 brand=nvidia,driver>=525,driver<526 brand=nvidiartx,driver>=525,driver<526 brand=geforce,driver>=525,driver<526 brand=geforcertx,driver>=525,driver<526 brand=quadro,driver>=525,driver<526 brand=quadrortx,driver>=525,driver<526 brand=titan,driver>=525,driver<526 brand=titanrtx,driver>=525,driver<526', 'NV_LIBCUBLAS_DEV_PACKAGE': 'libcublas-dev-12-2=12.2.5.6-1', 'NV_NVTX_VERSION': '12.2.140-1', 'COLAB_JUPYTER_IP': '172.28.0.12', 'NV_CUDA_CUDART_DEV_VERSION': '12.2.140-1', 'NV_LIBCUSPARSE_VERSION': '12.1.2.141-1', 'COLAB_LANGUAGE_SERVER_PROXY_ROOT_URL': 'http://172.28.0.1:8013/', 'NV_LIBNPP_VERSION': '12.2.1.4-1', 'NCCL_VERSION': '2.19.3-1', 'KMP_LISTEN_PORT': '6000', 'TF_FORCE_GPU_ALLOW_GROWTH': 'true', 'ENV': '/root/.bashrc', 'PWD': '/', 'COLAB_LANGUAGE_SERVER_PROXY_REQUEST_TIMEOUT': '30s', 'TBE_EPHEM_CREDS_ADDR': '172.28.0.1:8009', 'TBE_CREDS_ADDR': '172.28.0.1:8008', 'NV_CUDNN_PACKAGE': 'libcudnn8=8.9.6.50-1+cuda12.2', 'NVIDIA_DRIVER_CAPABILITIES': 'compute,utility', 'COLAB_JUPYTER_TOKEN': '', 'LAST_FORCED_REBUILD': '20240627', 'NV_NVPROF_DEV_PACKAGE': 'cuda-nvprof-12-2=12.2.142-1', 'NV_LIBNPP_PACKAGE': 'libnpp-12-2=12.2.1.4-1', 'NV_LIBNCCL_DEV_PACKAGE_NAME': 'libnccl-dev', 'TCLLIBPATH': '/usr/share/tcltk/tcllib1.20', 'NV_LIBCUBLAS_DEV_VERSION': '12.2.5.6-1', 'NVIDIA_PRODUCT_NAME': 'CUDA', 'COLAB_KERNEL_MANAGER_PROXY_HOST': '172.28.0.12', 'NV_LIBCUBLAS_DEV_PACKAGE_NAME': 'libcublas-dev-12-2', 'NV_CUDA_CUDART_VERSION': '12.2.140-1', 'COLAB_WARMUP_DEFAULTS': '1', 'HOME': '/root', 'LANG': 'en_US.UTF-8', 'COLUMNS': '100', 'CUDA_VERSION': '12.2.2', 'CLOUDSDK_CONFIG': '/content/.config', 'NV_LIBCUBLAS_PACKAGE': 'libcublas-12-2=12.2.5.6-1', 'NV_CUDA_NSIGHT_COMPUTE_DEV_PACKAGE': 'cuda-nsight-compute-12-2=12.2.2-1', 'COLAB_RELEASE_TAG': 'release-colab_20240910-060204_RC00', 'KMP_TARGET_PORT': '9000', 'KMP_EXTRA_ARGS': '--logtostderr --listen_host=172.28.0.12 --target_host=172.28.0.12 --tunnel_background_save_url=https://colab.research.google.com/tun/m/cc48301118ce562b961b3c22d803539adc1e0c19/m-s-yysr7zal1kwx --tunnel_background_save_delay=10s --tunnel_periodic_background_save_frequency=30m0s --enable_output_coalescing=true --output_coalescing_required=true --log_code_content', 'NV_LIBNPP_DEV_PACKAGE': 'libnpp-dev-12-2=12.2.1.4-1', 'COLAB_LANGUAGE_SERVER_PROXY_LSP_DIRS': '/datalab/web/pyright/typeshed-fallback/stdlib,/usr/local/lib/python3.10/dist-packages', 'NV_LIBCUBLAS_PACKAGE_NAME': 'libcublas-12-2', 'COLAB_KERNEL_MANAGER_PROXY_PORT': '6000', 'CLOUDSDK_PYTHON': 'python3', 'NV_LIBNPP_DEV_VERSION': '12.2.1.4-1', 'NO_GCE_CHECK': 'False', 'PYTHONPATH': '/env/python', 'NV_LIBCUSPARSE_DEV_VERSION': '12.1.2.141-1', 'LIBRARY_PATH': '/usr/local/cuda/lib64/stubs', 'NV_CUDNN_VERSION': '8.9.6.50', 'SHLVL': '0', 'NV_CUDA_LIB_VERSION': '12.2.2-1', 'COLAB_LANGUAGE_SERVER_PROXY': '/usr/colab/bin/language_service', 'NVARCH': 'x86_64', 'NV_CUDNN_PACKAGE_DEV': 'libcudnn8-dev=8.9.6.50-1+cuda12.2', 'NV_CUDA_COMPAT_PACKAGE': 'cuda-compat-12-2', 'NV_LIBNCCL_PACKAGE': 'libnccl2=2.19.3-1+cuda12.2', 'LD_LIBRARY_PATH': '/usr/local/nvidia/lib:/usr/local/nvidia/lib64', 'COLAB_GPU': '', 'NV_CUDA_NSIGHT_COMPUTE_VERSION': '12.2.2-1', 'GCS_READ_CACHE_BLOCK_SIZE_MB': '16', 'NV_NVPROF_VERSION': '12.2.142-1', 'LC_ALL': 'en_US.UTF-8', 'COLAB_FILE_HANDLER_ADDR': 'localhost:3453', 'PATH': '/opt/bin:/usr/local/nvidia/bin:/usr/local/cuda/bin:/usr/local/sbin:/usr/local/bin:/usr/sbin:/usr/bin:/sbin:/bin:/tools/node/bin:/tools/google-cloud-sdk/bin', 'NV_LIBNCCL_PACKAGE_NAME': 'libnccl2', 'COLAB_DEBUG_ADAPTER_MUX_PATH': '/usr/local/bin/dap_multiplexer', 'NV_LIBNCCL_PACKAGE_VERSION': '2.19.3-1', 'PYTHONWARNINGS': 'ignore:::pip._internal.cli.base_command', 'DEBIAN_FRONTEND': 'noninteractive', 'COLAB_BACKEND_VERSION': 'next', 'OLDPWD': '/', 'JPY_PARENT_PID': '88', 'TERM': 'xterm-color', 'CLICOLOR': '1', 'PAGER': 'cat', 'GIT_PAGER': 'cat', 'MPLBACKEND': 'module://ipykernel.pylab.backend_inline', 'ENABLE_DIRECTORYPREFETCHER': '1', 'USE_AUTH_EPHEM': '1', 'PYDEVD_USE_FRAME_EVAL': 'NO'}), 6: bytearray(b'\\n\\x148#\\x11c'), 11: 9.123, 12: {...}, 16: 'False', 18: ...}), ('get_ipython', <bound method InteractiveShell.get_ipython of <google.colab._shell.Shell object at 0x7b1bb296e710>>), ('exit', <IPython.core.autocall.ZMQExitAutocall object at 0x7b1bb296dbd0>), ('quit', <IPython.core.autocall.ZMQExitAutocall object at 0x7b1bb296dbd0>), ('_', ...), ('__', 'False'), ('___', {...}), ('_i', 'locals().items()'), ('_ii', 'locals.items()'), ('_iii', 'print(\"True\") if \\'__main__\\' in locals().items() else \"False\"'), ('_i1', 'import os\\nos.environ'), ('os', <module 'os' from '/usr/lib/python3.10/os.py'>), ('_1', environ({'SHELL': '/bin/bash', 'NV_LIBCUBLAS_VERSION': '12.2.5.6-1', 'NVIDIA_VISIBLE_DEVICES': 'all', 'COLAB_JUPYTER_TRANSPORT': 'ipc', 'NV_NVML_DEV_VERSION': '12.2.140-1', 'NV_CUDNN_PACKAGE_NAME': 'libcudnn8', 'CGROUP_MEMORY_EVENTS': '/sys/fs/cgroup/memory.events /var/colab/cgroup/jupyter-children/memory.events', 'NV_LIBNCCL_DEV_PACKAGE': 'libnccl-dev=2.19.3-1+cuda12.2', 'NV_LIBNCCL_DEV_PACKAGE_VERSION': '2.19.3-1', 'VM_GCE_METADATA_HOST': '169.254.169.253', 'HOSTNAME': '57645698dfef', 'LANGUAGE': 'en_US', 'TBE_RUNTIME_ADDR': '172.28.0.1:8011', 'COLAB_TPU_1VM': '', 'GCE_METADATA_TIMEOUT': '3', 'NVIDIA_REQUIRE_CUDA': 'cuda>=12.2 brand=tesla,driver>=470,driver<471 brand=unknown,driver>=470,driver<471 brand=nvidia,driver>=470,driver<471 brand=nvidiartx,driver>=470,driver<471 brand=geforce,driver>=470,driver<471 brand=geforcertx,driver>=470,driver<471 brand=quadro,driver>=470,driver<471 brand=quadrortx,driver>=470,driver<471 brand=titan,driver>=470,driver<471 brand=titanrtx,driver>=470,driver<471 brand=tesla,driver>=525,driver<526 brand=unknown,driver>=525,driver<526 brand=nvidia,driver>=525,driver<526 brand=nvidiartx,driver>=525,driver<526 brand=geforce,driver>=525,driver<526 brand=geforcertx,driver>=525,driver<526 brand=quadro,driver>=525,driver<526 brand=quadrortx,driver>=525,driver<526 brand=titan,driver>=525,driver<526 brand=titanrtx,driver>=525,driver<526', 'NV_LIBCUBLAS_DEV_PACKAGE': 'libcublas-dev-12-2=12.2.5.6-1', 'NV_NVTX_VERSION': '12.2.140-1', 'COLAB_JUPYTER_IP': '172.28.0.12', 'NV_CUDA_CUDART_DEV_VERSION': '12.2.140-1', 'NV_LIBCUSPARSE_VERSION': '12.1.2.141-1', 'COLAB_LANGUAGE_SERVER_PROXY_ROOT_URL': 'http://172.28.0.1:8013/', 'NV_LIBNPP_VERSION': '12.2.1.4-1', 'NCCL_VERSION': '2.19.3-1', 'KMP_LISTEN_PORT': '6000', 'TF_FORCE_GPU_ALLOW_GROWTH': 'true', 'ENV': '/root/.bashrc', 'PWD': '/', 'COLAB_LANGUAGE_SERVER_PROXY_REQUEST_TIMEOUT': '30s', 'TBE_EPHEM_CREDS_ADDR': '172.28.0.1:8009', 'TBE_CREDS_ADDR': '172.28.0.1:8008', 'NV_CUDNN_PACKAGE': 'libcudnn8=8.9.6.50-1+cuda12.2', 'NVIDIA_DRIVER_CAPABILITIES': 'compute,utility', 'COLAB_JUPYTER_TOKEN': '', 'LAST_FORCED_REBUILD': '20240627', 'NV_NVPROF_DEV_PACKAGE': 'cuda-nvprof-12-2=12.2.142-1', 'NV_LIBNPP_PACKAGE': 'libnpp-12-2=12.2.1.4-1', 'NV_LIBNCCL_DEV_PACKAGE_NAME': 'libnccl-dev', 'TCLLIBPATH': '/usr/share/tcltk/tcllib1.20', 'NV_LIBCUBLAS_DEV_VERSION': '12.2.5.6-1', 'NVIDIA_PRODUCT_NAME': 'CUDA', 'COLAB_KERNEL_MANAGER_PROXY_HOST': '172.28.0.12', 'NV_LIBCUBLAS_DEV_PACKAGE_NAME': 'libcublas-dev-12-2', 'NV_CUDA_CUDART_VERSION': '12.2.140-1', 'COLAB_WARMUP_DEFAULTS': '1', 'HOME': '/root', 'LANG': 'en_US.UTF-8', 'COLUMNS': '100', 'CUDA_VERSION': '12.2.2', 'CLOUDSDK_CONFIG': '/content/.config', 'NV_LIBCUBLAS_PACKAGE': 'libcublas-12-2=12.2.5.6-1', 'NV_CUDA_NSIGHT_COMPUTE_DEV_PACKAGE': 'cuda-nsight-compute-12-2=12.2.2-1', 'COLAB_RELEASE_TAG': 'release-colab_20240910-060204_RC00', 'KMP_TARGET_PORT': '9000', 'KMP_EXTRA_ARGS': '--logtostderr --listen_host=172.28.0.12 --target_host=172.28.0.12 --tunnel_background_save_url=https://colab.research.google.com/tun/m/cc48301118ce562b961b3c22d803539adc1e0c19/m-s-yysr7zal1kwx --tunnel_background_save_delay=10s --tunnel_periodic_background_save_frequency=30m0s --enable_output_coalescing=true --output_coalescing_required=true --log_code_content', 'NV_LIBNPP_DEV_PACKAGE': 'libnpp-dev-12-2=12.2.1.4-1', 'COLAB_LANGUAGE_SERVER_PROXY_LSP_DIRS': '/datalab/web/pyright/typeshed-fallback/stdlib,/usr/local/lib/python3.10/dist-packages', 'NV_LIBCUBLAS_PACKAGE_NAME': 'libcublas-12-2', 'COLAB_KERNEL_MANAGER_PROXY_PORT': '6000', 'CLOUDSDK_PYTHON': 'python3', 'NV_LIBNPP_DEV_VERSION': '12.2.1.4-1', 'NO_GCE_CHECK': 'False', 'PYTHONPATH': '/env/python', 'NV_LIBCUSPARSE_DEV_VERSION': '12.1.2.141-1', 'LIBRARY_PATH': '/usr/local/cuda/lib64/stubs', 'NV_CUDNN_VERSION': '8.9.6.50', 'SHLVL': '0', 'NV_CUDA_LIB_VERSION': '12.2.2-1', 'COLAB_LANGUAGE_SERVER_PROXY': '/usr/colab/bin/language_service', 'NVARCH': 'x86_64', 'NV_CUDNN_PACKAGE_DEV': 'libcudnn8-dev=8.9.6.50-1+cuda12.2', 'NV_CUDA_COMPAT_PACKAGE': 'cuda-compat-12-2', 'NV_LIBNCCL_PACKAGE': 'libnccl2=2.19.3-1+cuda12.2', 'LD_LIBRARY_PATH': '/usr/local/nvidia/lib:/usr/local/nvidia/lib64', 'COLAB_GPU': '', 'NV_CUDA_NSIGHT_COMPUTE_VERSION': '12.2.2-1', 'GCS_READ_CACHE_BLOCK_SIZE_MB': '16', 'NV_NVPROF_VERSION': '12.2.142-1', 'LC_ALL': 'en_US.UTF-8', 'COLAB_FILE_HANDLER_ADDR': 'localhost:3453', 'PATH': '/opt/bin:/usr/local/nvidia/bin:/usr/local/cuda/bin:/usr/local/sbin:/usr/local/bin:/usr/sbin:/usr/bin:/sbin:/bin:/tools/node/bin:/tools/google-cloud-sdk/bin', 'NV_LIBNCCL_PACKAGE_NAME': 'libnccl2', 'COLAB_DEBUG_ADAPTER_MUX_PATH': '/usr/local/bin/dap_multiplexer', 'NV_LIBNCCL_PACKAGE_VERSION': '2.19.3-1', 'PYTHONWARNINGS': 'ignore:::pip._internal.cli.base_command', 'DEBIAN_FRONTEND': 'noninteractive', 'COLAB_BACKEND_VERSION': 'next', 'OLDPWD': '/', 'JPY_PARENT_PID': '88', 'TERM': 'xterm-color', 'CLICOLOR': '1', 'PAGER': 'cat', 'GIT_PAGER': 'cat', 'MPLBACKEND': 'module://ipykernel.pylab.backend_inline', 'ENABLE_DIRECTORYPREFETCHER': '1', 'USE_AUTH_EPHEM': '1', 'PYDEVD_USE_FRAME_EVAL': 'NO'})), ('_i2', 'import os.path as path\\ndef path_divide(apath):\\n  print(f\\'{apath}:{path.splittext(apath)}\\')\\n\\npath_divide(\"wada.xp\")'), ('path', <module 'posixpath' from '/usr/lib/python3.10/posixpath.py'>), ('path_divide', <function path_divide at 0x7b1ba03a5fc0>), ('_i3', 'import os.path as path\\ndef path_divide(apath):\\n  print(f\\'{apath}:{path.splitext(apath)}\\')\\n\\npath_divide(\"wada.xp\")'), ('_i4', 'print(\"True\") if id(\"String\") == id(\"String\")'), ('_i5', 'print(\"True\") if id(\"String\") == id(\"String\") else \"False\"'), ('_i6', 'bnums = [10, 20, 56, 35, 17, 99]\\nbvalues = bytearray(bnums)\\nbvalues'), ('bnums', [10, 20, 56, 35, 17, 99]), ('bvalues', bytearray(b'\\n\\x148#\\x11c')), ('_6', bytearray(b'\\n\\x148#\\x11c')), ('_i7', 'bnums = [10, 20, 56, 35, 17, 99]\\nbvalues = bytearray(bnums)\\nbvalues\\n# Iterate through the elements of the bytearray and print each element.\\nfor x in values:\\n    print(x)'), ('_i8', 'bnums = [10, 20, 56, 35, 17, 99]\\nbvalues = bytearray(bnums)\\nbvalues\\n# Iterate through the elements of the bytearray and print each element.\\nfor x in bvalues:\\n    print(x)'), ('x', 99), ('_i9', 'bnums = [10, 20, 56, 35, 17, 99]\\nbvalues = bytearray(bnums)\\nprint(bvalues)\\n# Iterate through the elements of the bytearray and print each element.\\nfor x in bvalues:\\n    print(x)'), ('_i10', 'afloat = 9.12314\\nafloat.round(3)'), ('afloat', 9.12314), ('_i11', 'afloat = 9.12314\\nround(afloat,3)'), ('_11', 9.123), ('_i12', 'locals()'), ('_12', {...}), ('_i13', 'print(\"True\") if isinstance(\\'__main__\\', locals().items()'), ('_i14', 'print(\"True\") if isinstance(\\'__main__\\', locals().items() else \"False\"'), ('_i15', 'print(\"True\") if isinstance(\\'__main__\\', locals().items()) else \"False\"'), ('_i16', 'print(\"True\") if \\'__main__\\' in locals().items() else \"False\"'), ('_16', 'False'), ('_i17', 'locals.items()'), ('_i18', 'locals().items()'), ('_18', ...), ('_i19', 'locals().values()')]), '_i19': 'locals().values()'}, 'print(\"True\") if isinstance(\\'__main__\\', locals().items()', 'print(\"True\") if isinstance(\\'__main__\\', locals().items() else \"False\"', 'print(\"True\") if isinstance(\\'__main__\\', locals().items()) else \"False\"', 'print(\"True\") if \\'__main__\\' in locals().items() else \"False\"', 'False', 'locals.items()', 'locals().items()', dict_items([('__name__', '__main__'), ('__doc__', 'Automatically created module for IPython interactive environment'), ('__package__', None), ('__loader__', None), ('__spec__', None), ('__builtin__', <module 'builtins' (built-in)>), ('__builtins__', <module 'builtins' (built-in)>), ('_ih', ['', 'import os\\nos.environ', 'import os.path as path\\ndef path_divide(apath):\\n  print(f\\'{apath}:{path.splittext(apath)}\\')\\n\\npath_divide(\"wada.xp\")', 'import os.path as path\\ndef path_divide(apath):\\n  print(f\\'{apath}:{path.splitext(apath)}\\')\\n\\npath_divide(\"wada.xp\")', 'print(\"True\") if id(\"String\") == id(\"String\")', 'print(\"True\") if id(\"String\") == id(\"String\") else \"False\"', 'bnums = [10, 20, 56, 35, 17, 99]\\nbvalues = bytearray(bnums)\\nbvalues', 'bnums = [10, 20, 56, 35, 17, 99]\\nbvalues = bytearray(bnums)\\nbvalues\\n# Iterate through the elements of the bytearray and print each element.\\nfor x in values:\\n    print(x)', 'bnums = [10, 20, 56, 35, 17, 99]\\nbvalues = bytearray(bnums)\\nbvalues\\n# Iterate through the elements of the bytearray and print each element.\\nfor x in bvalues:\\n    print(x)', 'bnums = [10, 20, 56, 35, 17, 99]\\nbvalues = bytearray(bnums)\\nprint(bvalues)\\n# Iterate through the elements of the bytearray and print each element.\\nfor x in bvalues:\\n    print(x)', 'afloat = 9.12314\\nafloat.round(3)', 'afloat = 9.12314\\nround(afloat,3)', 'locals()', 'print(\"True\") if isinstance(\\'__main__\\', locals().items()', 'print(\"True\") if isinstance(\\'__main__\\', locals().items() else \"False\"', 'print(\"True\") if isinstance(\\'__main__\\', locals().items()) else \"False\"', 'print(\"True\") if \\'__main__\\' in locals().items() else \"False\"', 'locals.items()', 'locals().items()', 'locals().values()']), ('_oh', {1: environ({'SHELL': '/bin/bash', 'NV_LIBCUBLAS_VERSION': '12.2.5.6-1', 'NVIDIA_VISIBLE_DEVICES': 'all', 'COLAB_JUPYTER_TRANSPORT': 'ipc', 'NV_NVML_DEV_VERSION': '12.2.140-1', 'NV_CUDNN_PACKAGE_NAME': 'libcudnn8', 'CGROUP_MEMORY_EVENTS': '/sys/fs/cgroup/memory.events /var/colab/cgroup/jupyter-children/memory.events', 'NV_LIBNCCL_DEV_PACKAGE': 'libnccl-dev=2.19.3-1+cuda12.2', 'NV_LIBNCCL_DEV_PACKAGE_VERSION': '2.19.3-1', 'VM_GCE_METADATA_HOST': '169.254.169.253', 'HOSTNAME': '57645698dfef', 'LANGUAGE': 'en_US', 'TBE_RUNTIME_ADDR': '172.28.0.1:8011', 'COLAB_TPU_1VM': '', 'GCE_METADATA_TIMEOUT': '3', 'NVIDIA_REQUIRE_CUDA': 'cuda>=12.2 brand=tesla,driver>=470,driver<471 brand=unknown,driver>=470,driver<471 brand=nvidia,driver>=470,driver<471 brand=nvidiartx,driver>=470,driver<471 brand=geforce,driver>=470,driver<471 brand=geforcertx,driver>=470,driver<471 brand=quadro,driver>=470,driver<471 brand=quadrortx,driver>=470,driver<471 brand=titan,driver>=470,driver<471 brand=titanrtx,driver>=470,driver<471 brand=tesla,driver>=525,driver<526 brand=unknown,driver>=525,driver<526 brand=nvidia,driver>=525,driver<526 brand=nvidiartx,driver>=525,driver<526 brand=geforce,driver>=525,driver<526 brand=geforcertx,driver>=525,driver<526 brand=quadro,driver>=525,driver<526 brand=quadrortx,driver>=525,driver<526 brand=titan,driver>=525,driver<526 brand=titanrtx,driver>=525,driver<526', 'NV_LIBCUBLAS_DEV_PACKAGE': 'libcublas-dev-12-2=12.2.5.6-1', 'NV_NVTX_VERSION': '12.2.140-1', 'COLAB_JUPYTER_IP': '172.28.0.12', 'NV_CUDA_CUDART_DEV_VERSION': '12.2.140-1', 'NV_LIBCUSPARSE_VERSION': '12.1.2.141-1', 'COLAB_LANGUAGE_SERVER_PROXY_ROOT_URL': 'http://172.28.0.1:8013/', 'NV_LIBNPP_VERSION': '12.2.1.4-1', 'NCCL_VERSION': '2.19.3-1', 'KMP_LISTEN_PORT': '6000', 'TF_FORCE_GPU_ALLOW_GROWTH': 'true', 'ENV': '/root/.bashrc', 'PWD': '/', 'COLAB_LANGUAGE_SERVER_PROXY_REQUEST_TIMEOUT': '30s', 'TBE_EPHEM_CREDS_ADDR': '172.28.0.1:8009', 'TBE_CREDS_ADDR': '172.28.0.1:8008', 'NV_CUDNN_PACKAGE': 'libcudnn8=8.9.6.50-1+cuda12.2', 'NVIDIA_DRIVER_CAPABILITIES': 'compute,utility', 'COLAB_JUPYTER_TOKEN': '', 'LAST_FORCED_REBUILD': '20240627', 'NV_NVPROF_DEV_PACKAGE': 'cuda-nvprof-12-2=12.2.142-1', 'NV_LIBNPP_PACKAGE': 'libnpp-12-2=12.2.1.4-1', 'NV_LIBNCCL_DEV_PACKAGE_NAME': 'libnccl-dev', 'TCLLIBPATH': '/usr/share/tcltk/tcllib1.20', 'NV_LIBCUBLAS_DEV_VERSION': '12.2.5.6-1', 'NVIDIA_PRODUCT_NAME': 'CUDA', 'COLAB_KERNEL_MANAGER_PROXY_HOST': '172.28.0.12', 'NV_LIBCUBLAS_DEV_PACKAGE_NAME': 'libcublas-dev-12-2', 'NV_CUDA_CUDART_VERSION': '12.2.140-1', 'COLAB_WARMUP_DEFAULTS': '1', 'HOME': '/root', 'LANG': 'en_US.UTF-8', 'COLUMNS': '100', 'CUDA_VERSION': '12.2.2', 'CLOUDSDK_CONFIG': '/content/.config', 'NV_LIBCUBLAS_PACKAGE': 'libcublas-12-2=12.2.5.6-1', 'NV_CUDA_NSIGHT_COMPUTE_DEV_PACKAGE': 'cuda-nsight-compute-12-2=12.2.2-1', 'COLAB_RELEASE_TAG': 'release-colab_20240910-060204_RC00', 'KMP_TARGET_PORT': '9000', 'KMP_EXTRA_ARGS': '--logtostderr --listen_host=172.28.0.12 --target_host=172.28.0.12 --tunnel_background_save_url=https://colab.research.google.com/tun/m/cc48301118ce562b961b3c22d803539adc1e0c19/m-s-yysr7zal1kwx --tunnel_background_save_delay=10s --tunnel_periodic_background_save_frequency=30m0s --enable_output_coalescing=true --output_coalescing_required=true --log_code_content', 'NV_LIBNPP_DEV_PACKAGE': 'libnpp-dev-12-2=12.2.1.4-1', 'COLAB_LANGUAGE_SERVER_PROXY_LSP_DIRS': '/datalab/web/pyright/typeshed-fallback/stdlib,/usr/local/lib/python3.10/dist-packages', 'NV_LIBCUBLAS_PACKAGE_NAME': 'libcublas-12-2', 'COLAB_KERNEL_MANAGER_PROXY_PORT': '6000', 'CLOUDSDK_PYTHON': 'python3', 'NV_LIBNPP_DEV_VERSION': '12.2.1.4-1', 'NO_GCE_CHECK': 'False', 'PYTHONPATH': '/env/python', 'NV_LIBCUSPARSE_DEV_VERSION': '12.1.2.141-1', 'LIBRARY_PATH': '/usr/local/cuda/lib64/stubs', 'NV_CUDNN_VERSION': '8.9.6.50', 'SHLVL': '0', 'NV_CUDA_LIB_VERSION': '12.2.2-1', 'COLAB_LANGUAGE_SERVER_PROXY': '/usr/colab/bin/language_service', 'NVARCH': 'x86_64', 'NV_CUDNN_PACKAGE_DEV': 'libcudnn8-dev=8.9.6.50-1+cuda12.2', 'NV_CUDA_COMPAT_PACKAGE': 'cuda-compat-12-2', 'NV_LIBNCCL_PACKAGE': 'libnccl2=2.19.3-1+cuda12.2', 'LD_LIBRARY_PATH': '/usr/local/nvidia/lib:/usr/local/nvidia/lib64', 'COLAB_GPU': '', 'NV_CUDA_NSIGHT_COMPUTE_VERSION': '12.2.2-1', 'GCS_READ_CACHE_BLOCK_SIZE_MB': '16', 'NV_NVPROF_VERSION': '12.2.142-1', 'LC_ALL': 'en_US.UTF-8', 'COLAB_FILE_HANDLER_ADDR': 'localhost:3453', 'PATH': '/opt/bin:/usr/local/nvidia/bin:/usr/local/cuda/bin:/usr/local/sbin:/usr/local/bin:/usr/sbin:/usr/bin:/sbin:/bin:/tools/node/bin:/tools/google-cloud-sdk/bin', 'NV_LIBNCCL_PACKAGE_NAME': 'libnccl2', 'COLAB_DEBUG_ADAPTER_MUX_PATH': '/usr/local/bin/dap_multiplexer', 'NV_LIBNCCL_PACKAGE_VERSION': '2.19.3-1', 'PYTHONWARNINGS': 'ignore:::pip._internal.cli.base_command', 'DEBIAN_FRONTEND': 'noninteractive', 'COLAB_BACKEND_VERSION': 'next', 'OLDPWD': '/', 'JPY_PARENT_PID': '88', 'TERM': 'xterm-color', 'CLICOLOR': '1', 'PAGER': 'cat', 'GIT_PAGER': 'cat', 'MPLBACKEND': 'module://ipykernel.pylab.backend_inline', 'ENABLE_DIRECTORYPREFETCHER': '1', 'USE_AUTH_EPHEM': '1', 'PYDEVD_USE_FRAME_EVAL': 'NO'}), 6: bytearray(b'\\n\\x148#\\x11c'), 11: 9.123, 12: {'__name__': '__main__', '__doc__': 'Automatically created module for IPython interactive environment', '__package__': None, '__loader__': None, '__spec__': None, '__builtin__': <module 'builtins' (built-in)>, '__builtins__': <module 'builtins' (built-in)>, '_ih': ['', 'import os\\nos.environ', 'import os.path as path\\ndef path_divide(apath):\\n  print(f\\'{apath}:{path.splittext(apath)}\\')\\n\\npath_divide(\"wada.xp\")', 'import os.path as path\\ndef path_divide(apath):\\n  print(f\\'{apath}:{path.splitext(apath)}\\')\\n\\npath_divide(\"wada.xp\")', 'print(\"True\") if id(\"String\") == id(\"String\")', 'print(\"True\") if id(\"String\") == id(\"String\") else \"False\"', 'bnums = [10, 20, 56, 35, 17, 99]\\nbvalues = bytearray(bnums)\\nbvalues', 'bnums = [10, 20, 56, 35, 17, 99]\\nbvalues = bytearray(bnums)\\nbvalues\\n# Iterate through the elements of the bytearray and print each element.\\nfor x in values:\\n    print(x)', 'bnums = [10, 20, 56, 35, 17, 99]\\nbvalues = bytearray(bnums)\\nbvalues\\n# Iterate through the elements of the bytearray and print each element.\\nfor x in bvalues:\\n    print(x)', 'bnums = [10, 20, 56, 35, 17, 99]\\nbvalues = bytearray(bnums)\\nprint(bvalues)\\n# Iterate through the elements of the bytearray and print each element.\\nfor x in bvalues:\\n    print(x)', 'afloat = 9.12314\\nafloat.round(3)', 'afloat = 9.12314\\nround(afloat,3)', 'locals()', 'print(\"True\") if isinstance(\\'__main__\\', locals().items()', 'print(\"True\") if isinstance(\\'__main__\\', locals().items() else \"False\"', 'print(\"True\") if isinstance(\\'__main__\\', locals().items()) else \"False\"', 'print(\"True\") if \\'__main__\\' in locals().items() else \"False\"', 'locals.items()', 'locals().items()', 'locals().values()'], '_oh': {...}, '_dh': ['/content'], 'In': ['', 'import os\\nos.environ', 'import os.path as path\\ndef path_divide(apath):\\n  print(f\\'{apath}:{path.splittext(apath)}\\')\\n\\npath_divide(\"wada.xp\")', 'import os.path as path\\ndef path_divide(apath):\\n  print(f\\'{apath}:{path.splitext(apath)}\\')\\n\\npath_divide(\"wada.xp\")', 'print(\"True\") if id(\"String\") == id(\"String\")', 'print(\"True\") if id(\"String\") == id(\"String\") else \"False\"', 'bnums = [10, 20, 56, 35, 17, 99]\\nbvalues = bytearray(bnums)\\nbvalues', 'bnums = [10, 20, 56, 35, 17, 99]\\nbvalues = bytearray(bnums)\\nbvalues\\n# Iterate through the elements of the bytearray and print each element.\\nfor x in values:\\n    print(x)', 'bnums = [10, 20, 56, 35, 17, 99]\\nbvalues = bytearray(bnums)\\nbvalues\\n# Iterate through the elements of the bytearray and print each element.\\nfor x in bvalues:\\n    print(x)', 'bnums = [10, 20, 56, 35, 17, 99]\\nbvalues = bytearray(bnums)\\nprint(bvalues)\\n# Iterate through the elements of the bytearray and print each element.\\nfor x in bvalues:\\n    print(x)', 'afloat = 9.12314\\nafloat.round(3)', 'afloat = 9.12314\\nround(afloat,3)', 'locals()', 'print(\"True\") if isinstance(\\'__main__\\', locals().items()', 'print(\"True\") if isinstance(\\'__main__\\', locals().items() else \"False\"', 'print(\"True\") if isinstance(\\'__main__\\', locals().items()) else \"False\"', 'print(\"True\") if \\'__main__\\' in locals().items() else \"False\"', 'locals.items()', 'locals().items()', 'locals().values()'], 'Out': {...}, 'get_ipython': <bound method InteractiveShell.get_ipython of <google.colab._shell.Shell object at 0x7b1bb296e710>>, 'exit': <IPython.core.autocall.ZMQExitAutocall object at 0x7b1bb296dbd0>, 'quit': <IPython.core.autocall.ZMQExitAutocall object at 0x7b1bb296dbd0>, '_': ..., '__': 'False', '___': {...}, '_i': 'locals().items()', '_ii': 'locals.items()', '_iii': 'print(\"True\") if \\'__main__\\' in locals().items() else \"False\"', '_i1': 'import os\\nos.environ', 'os': <module 'os' from '/usr/lib/python3.10/os.py'>, '_1': environ({'SHELL': '/bin/bash', 'NV_LIBCUBLAS_VERSION': '12.2.5.6-1', 'NVIDIA_VISIBLE_DEVICES': 'all', 'COLAB_JUPYTER_TRANSPORT': 'ipc', 'NV_NVML_DEV_VERSION': '12.2.140-1', 'NV_CUDNN_PACKAGE_NAME': 'libcudnn8', 'CGROUP_MEMORY_EVENTS': '/sys/fs/cgroup/memory.events /var/colab/cgroup/jupyter-children/memory.events', 'NV_LIBNCCL_DEV_PACKAGE': 'libnccl-dev=2.19.3-1+cuda12.2', 'NV_LIBNCCL_DEV_PACKAGE_VERSION': '2.19.3-1', 'VM_GCE_METADATA_HOST': '169.254.169.253', 'HOSTNAME': '57645698dfef', 'LANGUAGE': 'en_US', 'TBE_RUNTIME_ADDR': '172.28.0.1:8011', 'COLAB_TPU_1VM': '', 'GCE_METADATA_TIMEOUT': '3', 'NVIDIA_REQUIRE_CUDA': 'cuda>=12.2 brand=tesla,driver>=470,driver<471 brand=unknown,driver>=470,driver<471 brand=nvidia,driver>=470,driver<471 brand=nvidiartx,driver>=470,driver<471 brand=geforce,driver>=470,driver<471 brand=geforcertx,driver>=470,driver<471 brand=quadro,driver>=470,driver<471 brand=quadrortx,driver>=470,driver<471 brand=titan,driver>=470,driver<471 brand=titanrtx,driver>=470,driver<471 brand=tesla,driver>=525,driver<526 brand=unknown,driver>=525,driver<526 brand=nvidia,driver>=525,driver<526 brand=nvidiartx,driver>=525,driver<526 brand=geforce,driver>=525,driver<526 brand=geforcertx,driver>=525,driver<526 brand=quadro,driver>=525,driver<526 brand=quadrortx,driver>=525,driver<526 brand=titan,driver>=525,driver<526 brand=titanrtx,driver>=525,driver<526', 'NV_LIBCUBLAS_DEV_PACKAGE': 'libcublas-dev-12-2=12.2.5.6-1', 'NV_NVTX_VERSION': '12.2.140-1', 'COLAB_JUPYTER_IP': '172.28.0.12', 'NV_CUDA_CUDART_DEV_VERSION': '12.2.140-1', 'NV_LIBCUSPARSE_VERSION': '12.1.2.141-1', 'COLAB_LANGUAGE_SERVER_PROXY_ROOT_URL': 'http://172.28.0.1:8013/', 'NV_LIBNPP_VERSION': '12.2.1.4-1', 'NCCL_VERSION': '2.19.3-1', 'KMP_LISTEN_PORT': '6000', 'TF_FORCE_GPU_ALLOW_GROWTH': 'true', 'ENV': '/root/.bashrc', 'PWD': '/', 'COLAB_LANGUAGE_SERVER_PROXY_REQUEST_TIMEOUT': '30s', 'TBE_EPHEM_CREDS_ADDR': '172.28.0.1:8009', 'TBE_CREDS_ADDR': '172.28.0.1:8008', 'NV_CUDNN_PACKAGE': 'libcudnn8=8.9.6.50-1+cuda12.2', 'NVIDIA_DRIVER_CAPABILITIES': 'compute,utility', 'COLAB_JUPYTER_TOKEN': '', 'LAST_FORCED_REBUILD': '20240627', 'NV_NVPROF_DEV_PACKAGE': 'cuda-nvprof-12-2=12.2.142-1', 'NV_LIBNPP_PACKAGE': 'libnpp-12-2=12.2.1.4-1', 'NV_LIBNCCL_DEV_PACKAGE_NAME': 'libnccl-dev', 'TCLLIBPATH': '/usr/share/tcltk/tcllib1.20', 'NV_LIBCUBLAS_DEV_VERSION': '12.2.5.6-1', 'NVIDIA_PRODUCT_NAME': 'CUDA', 'COLAB_KERNEL_MANAGER_PROXY_HOST': '172.28.0.12', 'NV_LIBCUBLAS_DEV_PACKAGE_NAME': 'libcublas-dev-12-2', 'NV_CUDA_CUDART_VERSION': '12.2.140-1', 'COLAB_WARMUP_DEFAULTS': '1', 'HOME': '/root', 'LANG': 'en_US.UTF-8', 'COLUMNS': '100', 'CUDA_VERSION': '12.2.2', 'CLOUDSDK_CONFIG': '/content/.config', 'NV_LIBCUBLAS_PACKAGE': 'libcublas-12-2=12.2.5.6-1', 'NV_CUDA_NSIGHT_COMPUTE_DEV_PACKAGE': 'cuda-nsight-compute-12-2=12.2.2-1', 'COLAB_RELEASE_TAG': 'release-colab_20240910-060204_RC00', 'KMP_TARGET_PORT': '9000', 'KMP_EXTRA_ARGS': '--logtostderr --listen_host=172.28.0.12 --target_host=172.28.0.12 --tunnel_background_save_url=https://colab.research.google.com/tun/m/cc48301118ce562b961b3c22d803539adc1e0c19/m-s-yysr7zal1kwx --tunnel_background_save_delay=10s --tunnel_periodic_background_save_frequency=30m0s --enable_output_coalescing=true --output_coalescing_required=true --log_code_content', 'NV_LIBNPP_DEV_PACKAGE': 'libnpp-dev-12-2=12.2.1.4-1', 'COLAB_LANGUAGE_SERVER_PROXY_LSP_DIRS': '/datalab/web/pyright/typeshed-fallback/stdlib,/usr/local/lib/python3.10/dist-packages', 'NV_LIBCUBLAS_PACKAGE_NAME': 'libcublas-12-2', 'COLAB_KERNEL_MANAGER_PROXY_PORT': '6000', 'CLOUDSDK_PYTHON': 'python3', 'NV_LIBNPP_DEV_VERSION': '12.2.1.4-1', 'NO_GCE_CHECK': 'False', 'PYTHONPATH': '/env/python', 'NV_LIBCUSPARSE_DEV_VERSION': '12.1.2.141-1', 'LIBRARY_PATH': '/usr/local/cuda/lib64/stubs', 'NV_CUDNN_VERSION': '8.9.6.50', 'SHLVL': '0', 'NV_CUDA_LIB_VERSION': '12.2.2-1', 'COLAB_LANGUAGE_SERVER_PROXY': '/usr/colab/bin/language_service', 'NVARCH': 'x86_64', 'NV_CUDNN_PACKAGE_DEV': 'libcudnn8-dev=8.9.6.50-1+cuda12.2', 'NV_CUDA_COMPAT_PACKAGE': 'cuda-compat-12-2', 'NV_LIBNCCL_PACKAGE': 'libnccl2=2.19.3-1+cuda12.2', 'LD_LIBRARY_PATH': '/usr/local/nvidia/lib:/usr/local/nvidia/lib64', 'COLAB_GPU': '', 'NV_CUDA_NSIGHT_COMPUTE_VERSION': '12.2.2-1', 'GCS_READ_CACHE_BLOCK_SIZE_MB': '16', 'NV_NVPROF_VERSION': '12.2.142-1', 'LC_ALL': 'en_US.UTF-8', 'COLAB_FILE_HANDLER_ADDR': 'localhost:3453', 'PATH': '/opt/bin:/usr/local/nvidia/bin:/usr/local/cuda/bin:/usr/local/sbin:/usr/local/bin:/usr/sbin:/usr/bin:/sbin:/bin:/tools/node/bin:/tools/google-cloud-sdk/bin', 'NV_LIBNCCL_PACKAGE_NAME': 'libnccl2', 'COLAB_DEBUG_ADAPTER_MUX_PATH': '/usr/local/bin/dap_multiplexer', 'NV_LIBNCCL_PACKAGE_VERSION': '2.19.3-1', 'PYTHONWARNINGS': 'ignore:::pip._internal.cli.base_command', 'DEBIAN_FRONTEND': 'noninteractive', 'COLAB_BACKEND_VERSION': 'next', 'OLDPWD': '/', 'JPY_PARENT_PID': '88', 'TERM': 'xterm-color', 'CLICOLOR': '1', 'PAGER': 'cat', 'GIT_PAGER': 'cat', 'MPLBACKEND': 'module://ipykernel.pylab.backend_inline', 'ENABLE_DIRECTORYPREFETCHER': '1', 'USE_AUTH_EPHEM': '1', 'PYDEVD_USE_FRAME_EVAL': 'NO'}), '_i2': 'import os.path as path\\ndef path_divide(apath):\\n  print(f\\'{apath}:{path.splittext(apath)}\\')\\n\\npath_divide(\"wada.xp\")', 'path': <module 'posixpath' from '/usr/lib/python3.10/posixpath.py'>, 'path_divide': <function path_divide at 0x7b1ba03a5fc0>, '_i3': 'import os.path as path\\ndef path_divide(apath):\\n  print(f\\'{apath}:{path.splitext(apath)}\\')\\n\\npath_divide(\"wada.xp\")', '_i4': 'print(\"True\") if id(\"String\") == id(\"String\")', '_i5': 'print(\"True\") if id(\"String\") == id(\"String\") else \"False\"', '_i6': 'bnums = [10, 20, 56, 35, 17, 99]\\nbvalues = bytearray(bnums)\\nbvalues', 'bnums': [10, 20, 56, 35, 17, 99], 'bvalues': bytearray(b'\\n\\x148#\\x11c'), '_6': bytearray(b'\\n\\x148#\\x11c'), '_i7': 'bnums = [10, 20, 56, 35, 17, 99]\\nbvalues = bytearray(bnums)\\nbvalues\\n# Iterate through the elements of the bytearray and print each element.\\nfor x in values:\\n    print(x)', '_i8': 'bnums = [10, 20, 56, 35, 17, 99]\\nbvalues = bytearray(bnums)\\nbvalues\\n# Iterate through the elements of the bytearray and print each element.\\nfor x in bvalues:\\n    print(x)', 'x': 99, '_i9': 'bnums = [10, 20, 56, 35, 17, 99]\\nbvalues = bytearray(bnums)\\nprint(bvalues)\\n# Iterate through the elements of the bytearray and print each element.\\nfor x in bvalues:\\n    print(x)', '_i10': 'afloat = 9.12314\\nafloat.round(3)', 'afloat': 9.12314, '_i11': 'afloat = 9.12314\\nround(afloat,3)', '_11': 9.123, '_i12': 'locals()', '_12': {...}, '_i13': 'print(\"True\") if isinstance(\\'__main__\\', locals().items()', '_i14': 'print(\"True\") if isinstance(\\'__main__\\', locals().items() else \"False\"', '_i15': 'print(\"True\") if isinstance(\\'__main__\\', locals().items()) else \"False\"', '_i16': 'print(\"True\") if \\'__main__\\' in locals().items() else \"False\"', '_16': 'False', '_i17': 'locals.items()', '_i18': 'locals().items()', '_18': ..., '_i19': 'locals().values()'}, 16: 'False', 18: ...}), ('_dh', ['/content']), ('In', ['', 'import os\\nos.environ', 'import os.path as path\\ndef path_divide(apath):\\n  print(f\\'{apath}:{path.splittext(apath)}\\')\\n\\npath_divide(\"wada.xp\")', 'import os.path as path\\ndef path_divide(apath):\\n  print(f\\'{apath}:{path.splitext(apath)}\\')\\n\\npath_divide(\"wada.xp\")', 'print(\"True\") if id(\"String\") == id(\"String\")', 'print(\"True\") if id(\"String\") == id(\"String\") else \"False\"', 'bnums = [10, 20, 56, 35, 17, 99]\\nbvalues = bytearray(bnums)\\nbvalues', 'bnums = [10, 20, 56, 35, 17, 99]\\nbvalues = bytearray(bnums)\\nbvalues\\n# Iterate through the elements of the bytearray and print each element.\\nfor x in values:\\n    print(x)', 'bnums = [10, 20, 56, 35, 17, 99]\\nbvalues = bytearray(bnums)\\nbvalues\\n# Iterate through the elements of the bytearray and print each element.\\nfor x in bvalues:\\n    print(x)', 'bnums = [10, 20, 56, 35, 17, 99]\\nbvalues = bytearray(bnums)\\nprint(bvalues)\\n# Iterate through the elements of the bytearray and print each element.\\nfor x in bvalues:\\n    print(x)', 'afloat = 9.12314\\nafloat.round(3)', 'afloat = 9.12314\\nround(afloat,3)', 'locals()', 'print(\"True\") if isinstance(\\'__main__\\', locals().items()', 'print(\"True\") if isinstance(\\'__main__\\', locals().items() else \"False\"', 'print(\"True\") if isinstance(\\'__main__\\', locals().items()) else \"False\"', 'print(\"True\") if \\'__main__\\' in locals().items() else \"False\"', 'locals.items()', 'locals().items()', 'locals().values()']), ('Out', {1: environ({'SHELL': '/bin/bash', 'NV_LIBCUBLAS_VERSION': '12.2.5.6-1', 'NVIDIA_VISIBLE_DEVICES': 'all', 'COLAB_JUPYTER_TRANSPORT': 'ipc', 'NV_NVML_DEV_VERSION': '12.2.140-1', 'NV_CUDNN_PACKAGE_NAME': 'libcudnn8', 'CGROUP_MEMORY_EVENTS': '/sys/fs/cgroup/memory.events /var/colab/cgroup/jupyter-children/memory.events', 'NV_LIBNCCL_DEV_PACKAGE': 'libnccl-dev=2.19.3-1+cuda12.2', 'NV_LIBNCCL_DEV_PACKAGE_VERSION': '2.19.3-1', 'VM_GCE_METADATA_HOST': '169.254.169.253', 'HOSTNAME': '57645698dfef', 'LANGUAGE': 'en_US', 'TBE_RUNTIME_ADDR': '172.28.0.1:8011', 'COLAB_TPU_1VM': '', 'GCE_METADATA_TIMEOUT': '3', 'NVIDIA_REQUIRE_CUDA': 'cuda>=12.2 brand=tesla,driver>=470,driver<471 brand=unknown,driver>=470,driver<471 brand=nvidia,driver>=470,driver<471 brand=nvidiartx,driver>=470,driver<471 brand=geforce,driver>=470,driver<471 brand=geforcertx,driver>=470,driver<471 brand=quadro,driver>=470,driver<471 brand=quadrortx,driver>=470,driver<471 brand=titan,driver>=470,driver<471 brand=titanrtx,driver>=470,driver<471 brand=tesla,driver>=525,driver<526 brand=unknown,driver>=525,driver<526 brand=nvidia,driver>=525,driver<526 brand=nvidiartx,driver>=525,driver<526 brand=geforce,driver>=525,driver<526 brand=geforcertx,driver>=525,driver<526 brand=quadro,driver>=525,driver<526 brand=quadrortx,driver>=525,driver<526 brand=titan,driver>=525,driver<526 brand=titanrtx,driver>=525,driver<526', 'NV_LIBCUBLAS_DEV_PACKAGE': 'libcublas-dev-12-2=12.2.5.6-1', 'NV_NVTX_VERSION': '12.2.140-1', 'COLAB_JUPYTER_IP': '172.28.0.12', 'NV_CUDA_CUDART_DEV_VERSION': '12.2.140-1', 'NV_LIBCUSPARSE_VERSION': '12.1.2.141-1', 'COLAB_LANGUAGE_SERVER_PROXY_ROOT_URL': 'http://172.28.0.1:8013/', 'NV_LIBNPP_VERSION': '12.2.1.4-1', 'NCCL_VERSION': '2.19.3-1', 'KMP_LISTEN_PORT': '6000', 'TF_FORCE_GPU_ALLOW_GROWTH': 'true', 'ENV': '/root/.bashrc', 'PWD': '/', 'COLAB_LANGUAGE_SERVER_PROXY_REQUEST_TIMEOUT': '30s', 'TBE_EPHEM_CREDS_ADDR': '172.28.0.1:8009', 'TBE_CREDS_ADDR': '172.28.0.1:8008', 'NV_CUDNN_PACKAGE': 'libcudnn8=8.9.6.50-1+cuda12.2', 'NVIDIA_DRIVER_CAPABILITIES': 'compute,utility', 'COLAB_JUPYTER_TOKEN': '', 'LAST_FORCED_REBUILD': '20240627', 'NV_NVPROF_DEV_PACKAGE': 'cuda-nvprof-12-2=12.2.142-1', 'NV_LIBNPP_PACKAGE': 'libnpp-12-2=12.2.1.4-1', 'NV_LIBNCCL_DEV_PACKAGE_NAME': 'libnccl-dev', 'TCLLIBPATH': '/usr/share/tcltk/tcllib1.20', 'NV_LIBCUBLAS_DEV_VERSION': '12.2.5.6-1', 'NVIDIA_PRODUCT_NAME': 'CUDA', 'COLAB_KERNEL_MANAGER_PROXY_HOST': '172.28.0.12', 'NV_LIBCUBLAS_DEV_PACKAGE_NAME': 'libcublas-dev-12-2', 'NV_CUDA_CUDART_VERSION': '12.2.140-1', 'COLAB_WARMUP_DEFAULTS': '1', 'HOME': '/root', 'LANG': 'en_US.UTF-8', 'COLUMNS': '100', 'CUDA_VERSION': '12.2.2', 'CLOUDSDK_CONFIG': '/content/.config', 'NV_LIBCUBLAS_PACKAGE': 'libcublas-12-2=12.2.5.6-1', 'NV_CUDA_NSIGHT_COMPUTE_DEV_PACKAGE': 'cuda-nsight-compute-12-2=12.2.2-1', 'COLAB_RELEASE_TAG': 'release-colab_20240910-060204_RC00', 'KMP_TARGET_PORT': '9000', 'KMP_EXTRA_ARGS': '--logtostderr --listen_host=172.28.0.12 --target_host=172.28.0.12 --tunnel_background_save_url=https://colab.research.google.com/tun/m/cc48301118ce562b961b3c22d803539adc1e0c19/m-s-yysr7zal1kwx --tunnel_background_save_delay=10s --tunnel_periodic_background_save_frequency=30m0s --enable_output_coalescing=true --output_coalescing_required=true --log_code_content', 'NV_LIBNPP_DEV_PACKAGE': 'libnpp-dev-12-2=12.2.1.4-1', 'COLAB_LANGUAGE_SERVER_PROXY_LSP_DIRS': '/datalab/web/pyright/typeshed-fallback/stdlib,/usr/local/lib/python3.10/dist-packages', 'NV_LIBCUBLAS_PACKAGE_NAME': 'libcublas-12-2', 'COLAB_KERNEL_MANAGER_PROXY_PORT': '6000', 'CLOUDSDK_PYTHON': 'python3', 'NV_LIBNPP_DEV_VERSION': '12.2.1.4-1', 'NO_GCE_CHECK': 'False', 'PYTHONPATH': '/env/python', 'NV_LIBCUSPARSE_DEV_VERSION': '12.1.2.141-1', 'LIBRARY_PATH': '/usr/local/cuda/lib64/stubs', 'NV_CUDNN_VERSION': '8.9.6.50', 'SHLVL': '0', 'NV_CUDA_LIB_VERSION': '12.2.2-1', 'COLAB_LANGUAGE_SERVER_PROXY': '/usr/colab/bin/language_service', 'NVARCH': 'x86_64', 'NV_CUDNN_PACKAGE_DEV': 'libcudnn8-dev=8.9.6.50-1+cuda12.2', 'NV_CUDA_COMPAT_PACKAGE': 'cuda-compat-12-2', 'NV_LIBNCCL_PACKAGE': 'libnccl2=2.19.3-1+cuda12.2', 'LD_LIBRARY_PATH': '/usr/local/nvidia/lib:/usr/local/nvidia/lib64', 'COLAB_GPU': '', 'NV_CUDA_NSIGHT_COMPUTE_VERSION': '12.2.2-1', 'GCS_READ_CACHE_BLOCK_SIZE_MB': '16', 'NV_NVPROF_VERSION': '12.2.142-1', 'LC_ALL': 'en_US.UTF-8', 'COLAB_FILE_HANDLER_ADDR': 'localhost:3453', 'PATH': '/opt/bin:/usr/local/nvidia/bin:/usr/local/cuda/bin:/usr/local/sbin:/usr/local/bin:/usr/sbin:/usr/bin:/sbin:/bin:/tools/node/bin:/tools/google-cloud-sdk/bin', 'NV_LIBNCCL_PACKAGE_NAME': 'libnccl2', 'COLAB_DEBUG_ADAPTER_MUX_PATH': '/usr/local/bin/dap_multiplexer', 'NV_LIBNCCL_PACKAGE_VERSION': '2.19.3-1', 'PYTHONWARNINGS': 'ignore:::pip._internal.cli.base_command', 'DEBIAN_FRONTEND': 'noninteractive', 'COLAB_BACKEND_VERSION': 'next', 'OLDPWD': '/', 'JPY_PARENT_PID': '88', 'TERM': 'xterm-color', 'CLICOLOR': '1', 'PAGER': 'cat', 'GIT_PAGER': 'cat', 'MPLBACKEND': 'module://ipykernel.pylab.backend_inline', 'ENABLE_DIRECTORYPREFETCHER': '1', 'USE_AUTH_EPHEM': '1', 'PYDEVD_USE_FRAME_EVAL': 'NO'}), 6: bytearray(b'\\n\\x148#\\x11c'), 11: 9.123, 12: {'__name__': '__main__', '__doc__': 'Automatically created module for IPython interactive environment', '__package__': None, '__loader__': None, '__spec__': None, '__builtin__': <module 'builtins' (built-in)>, '__builtins__': <module 'builtins' (built-in)>, '_ih': ['', 'import os\\nos.environ', 'import os.path as path\\ndef path_divide(apath):\\n  print(f\\'{apath}:{path.splittext(apath)}\\')\\n\\npath_divide(\"wada.xp\")', 'import os.path as path\\ndef path_divide(apath):\\n  print(f\\'{apath}:{path.splitext(apath)}\\')\\n\\npath_divide(\"wada.xp\")', 'print(\"True\") if id(\"String\") == id(\"String\")', 'print(\"True\") if id(\"String\") == id(\"String\") else \"False\"', 'bnums = [10, 20, 56, 35, 17, 99]\\nbvalues = bytearray(bnums)\\nbvalues', 'bnums = [10, 20, 56, 35, 17, 99]\\nbvalues = bytearray(bnums)\\nbvalues\\n# Iterate through the elements of the bytearray and print each element.\\nfor x in values:\\n    print(x)', 'bnums = [10, 20, 56, 35, 17, 99]\\nbvalues = bytearray(bnums)\\nbvalues\\n# Iterate through the elements of the bytearray and print each element.\\nfor x in bvalues:\\n    print(x)', 'bnums = [10, 20, 56, 35, 17, 99]\\nbvalues = bytearray(bnums)\\nprint(bvalues)\\n# Iterate through the elements of the bytearray and print each element.\\nfor x in bvalues:\\n    print(x)', 'afloat = 9.12314\\nafloat.round(3)', 'afloat = 9.12314\\nround(afloat,3)', 'locals()', 'print(\"True\") if isinstance(\\'__main__\\', locals().items()', 'print(\"True\") if isinstance(\\'__main__\\', locals().items() else \"False\"', 'print(\"True\") if isinstance(\\'__main__\\', locals().items()) else \"False\"', 'print(\"True\") if \\'__main__\\' in locals().items() else \"False\"', 'locals.items()', 'locals().items()', 'locals().values()'], '_oh': {...}, '_dh': ['/content'], 'In': ['', 'import os\\nos.environ', 'import os.path as path\\ndef path_divide(apath):\\n  print(f\\'{apath}:{path.splittext(apath)}\\')\\n\\npath_divide(\"wada.xp\")', 'import os.path as path\\ndef path_divide(apath):\\n  print(f\\'{apath}:{path.splitext(apath)}\\')\\n\\npath_divide(\"wada.xp\")', 'print(\"True\") if id(\"String\") == id(\"String\")', 'print(\"True\") if id(\"String\") == id(\"String\") else \"False\"', 'bnums = [10, 20, 56, 35, 17, 99]\\nbvalues = bytearray(bnums)\\nbvalues', 'bnums = [10, 20, 56, 35, 17, 99]\\nbvalues = bytearray(bnums)\\nbvalues\\n# Iterate through the elements of the bytearray and print each element.\\nfor x in values:\\n    print(x)', 'bnums = [10, 20, 56, 35, 17, 99]\\nbvalues = bytearray(bnums)\\nbvalues\\n# Iterate through the elements of the bytearray and print each element.\\nfor x in bvalues:\\n    print(x)', 'bnums = [10, 20, 56, 35, 17, 99]\\nbvalues = bytearray(bnums)\\nprint(bvalues)\\n# Iterate through the elements of the bytearray and print each element.\\nfor x in bvalues:\\n    print(x)', 'afloat = 9.12314\\nafloat.round(3)', 'afloat = 9.12314\\nround(afloat,3)', 'locals()', 'print(\"True\") if isinstance(\\'__main__\\', locals().items()', 'print(\"True\") if isinstance(\\'__main__\\', locals().items() else \"False\"', 'print(\"True\") if isinstance(\\'__main__\\', locals().items()) else \"False\"', 'print(\"True\") if \\'__main__\\' in locals().items() else \"False\"', 'locals.items()', 'locals().items()', 'locals().values()'], 'Out': {...}, 'get_ipython': <bound method InteractiveShell.get_ipython of <google.colab._shell.Shell object at 0x7b1bb296e710>>, 'exit': <IPython.core.autocall.ZMQExitAutocall object at 0x7b1bb296dbd0>, 'quit': <IPython.core.autocall.ZMQExitAutocall object at 0x7b1bb296dbd0>, '_': ..., '__': 'False', '___': {...}, '_i': 'locals().items()', '_ii': 'locals.items()', '_iii': 'print(\"True\") if \\'__main__\\' in locals().items() else \"False\"', '_i1': 'import os\\nos.environ', 'os': <module 'os' from '/usr/lib/python3.10/os.py'>, '_1': environ({'SHELL': '/bin/bash', 'NV_LIBCUBLAS_VERSION': '12.2.5.6-1', 'NVIDIA_VISIBLE_DEVICES': 'all', 'COLAB_JUPYTER_TRANSPORT': 'ipc', 'NV_NVML_DEV_VERSION': '12.2.140-1', 'NV_CUDNN_PACKAGE_NAME': 'libcudnn8', 'CGROUP_MEMORY_EVENTS': '/sys/fs/cgroup/memory.events /var/colab/cgroup/jupyter-children/memory.events', 'NV_LIBNCCL_DEV_PACKAGE': 'libnccl-dev=2.19.3-1+cuda12.2', 'NV_LIBNCCL_DEV_PACKAGE_VERSION': '2.19.3-1', 'VM_GCE_METADATA_HOST': '169.254.169.253', 'HOSTNAME': '57645698dfef', 'LANGUAGE': 'en_US', 'TBE_RUNTIME_ADDR': '172.28.0.1:8011', 'COLAB_TPU_1VM': '', 'GCE_METADATA_TIMEOUT': '3', 'NVIDIA_REQUIRE_CUDA': 'cuda>=12.2 brand=tesla,driver>=470,driver<471 brand=unknown,driver>=470,driver<471 brand=nvidia,driver>=470,driver<471 brand=nvidiartx,driver>=470,driver<471 brand=geforce,driver>=470,driver<471 brand=geforcertx,driver>=470,driver<471 brand=quadro,driver>=470,driver<471 brand=quadrortx,driver>=470,driver<471 brand=titan,driver>=470,driver<471 brand=titanrtx,driver>=470,driver<471 brand=tesla,driver>=525,driver<526 brand=unknown,driver>=525,driver<526 brand=nvidia,driver>=525,driver<526 brand=nvidiartx,driver>=525,driver<526 brand=geforce,driver>=525,driver<526 brand=geforcertx,driver>=525,driver<526 brand=quadro,driver>=525,driver<526 brand=quadrortx,driver>=525,driver<526 brand=titan,driver>=525,driver<526 brand=titanrtx,driver>=525,driver<526', 'NV_LIBCUBLAS_DEV_PACKAGE': 'libcublas-dev-12-2=12.2.5.6-1', 'NV_NVTX_VERSION': '12.2.140-1', 'COLAB_JUPYTER_IP': '172.28.0.12', 'NV_CUDA_CUDART_DEV_VERSION': '12.2.140-1', 'NV_LIBCUSPARSE_VERSION': '12.1.2.141-1', 'COLAB_LANGUAGE_SERVER_PROXY_ROOT_URL': 'http://172.28.0.1:8013/', 'NV_LIBNPP_VERSION': '12.2.1.4-1', 'NCCL_VERSION': '2.19.3-1', 'KMP_LISTEN_PORT': '6000', 'TF_FORCE_GPU_ALLOW_GROWTH': 'true', 'ENV': '/root/.bashrc', 'PWD': '/', 'COLAB_LANGUAGE_SERVER_PROXY_REQUEST_TIMEOUT': '30s', 'TBE_EPHEM_CREDS_ADDR': '172.28.0.1:8009', 'TBE_CREDS_ADDR': '172.28.0.1:8008', 'NV_CUDNN_PACKAGE': 'libcudnn8=8.9.6.50-1+cuda12.2', 'NVIDIA_DRIVER_CAPABILITIES': 'compute,utility', 'COLAB_JUPYTER_TOKEN': '', 'LAST_FORCED_REBUILD': '20240627', 'NV_NVPROF_DEV_PACKAGE': 'cuda-nvprof-12-2=12.2.142-1', 'NV_LIBNPP_PACKAGE': 'libnpp-12-2=12.2.1.4-1', 'NV_LIBNCCL_DEV_PACKAGE_NAME': 'libnccl-dev', 'TCLLIBPATH': '/usr/share/tcltk/tcllib1.20', 'NV_LIBCUBLAS_DEV_VERSION': '12.2.5.6-1', 'NVIDIA_PRODUCT_NAME': 'CUDA', 'COLAB_KERNEL_MANAGER_PROXY_HOST': '172.28.0.12', 'NV_LIBCUBLAS_DEV_PACKAGE_NAME': 'libcublas-dev-12-2', 'NV_CUDA_CUDART_VERSION': '12.2.140-1', 'COLAB_WARMUP_DEFAULTS': '1', 'HOME': '/root', 'LANG': 'en_US.UTF-8', 'COLUMNS': '100', 'CUDA_VERSION': '12.2.2', 'CLOUDSDK_CONFIG': '/content/.config', 'NV_LIBCUBLAS_PACKAGE': 'libcublas-12-2=12.2.5.6-1', 'NV_CUDA_NSIGHT_COMPUTE_DEV_PACKAGE': 'cuda-nsight-compute-12-2=12.2.2-1', 'COLAB_RELEASE_TAG': 'release-colab_20240910-060204_RC00', 'KMP_TARGET_PORT': '9000', 'KMP_EXTRA_ARGS': '--logtostderr --listen_host=172.28.0.12 --target_host=172.28.0.12 --tunnel_background_save_url=https://colab.research.google.com/tun/m/cc48301118ce562b961b3c22d803539adc1e0c19/m-s-yysr7zal1kwx --tunnel_background_save_delay=10s --tunnel_periodic_background_save_frequency=30m0s --enable_output_coalescing=true --output_coalescing_required=true --log_code_content', 'NV_LIBNPP_DEV_PACKAGE': 'libnpp-dev-12-2=12.2.1.4-1', 'COLAB_LANGUAGE_SERVER_PROXY_LSP_DIRS': '/datalab/web/pyright/typeshed-fallback/stdlib,/usr/local/lib/python3.10/dist-packages', 'NV_LIBCUBLAS_PACKAGE_NAME': 'libcublas-12-2', 'COLAB_KERNEL_MANAGER_PROXY_PORT': '6000', 'CLOUDSDK_PYTHON': 'python3', 'NV_LIBNPP_DEV_VERSION': '12.2.1.4-1', 'NO_GCE_CHECK': 'False', 'PYTHONPATH': '/env/python', 'NV_LIBCUSPARSE_DEV_VERSION': '12.1.2.141-1', 'LIBRARY_PATH': '/usr/local/cuda/lib64/stubs', 'NV_CUDNN_VERSION': '8.9.6.50', 'SHLVL': '0', 'NV_CUDA_LIB_VERSION': '12.2.2-1', 'COLAB_LANGUAGE_SERVER_PROXY': '/usr/colab/bin/language_service', 'NVARCH': 'x86_64', 'NV_CUDNN_PACKAGE_DEV': 'libcudnn8-dev=8.9.6.50-1+cuda12.2', 'NV_CUDA_COMPAT_PACKAGE': 'cuda-compat-12-2', 'NV_LIBNCCL_PACKAGE': 'libnccl2=2.19.3-1+cuda12.2', 'LD_LIBRARY_PATH': '/usr/local/nvidia/lib:/usr/local/nvidia/lib64', 'COLAB_GPU': '', 'NV_CUDA_NSIGHT_COMPUTE_VERSION': '12.2.2-1', 'GCS_READ_CACHE_BLOCK_SIZE_MB': '16', 'NV_NVPROF_VERSION': '12.2.142-1', 'LC_ALL': 'en_US.UTF-8', 'COLAB_FILE_HANDLER_ADDR': 'localhost:3453', 'PATH': '/opt/bin:/usr/local/nvidia/bin:/usr/local/cuda/bin:/usr/local/sbin:/usr/local/bin:/usr/sbin:/usr/bin:/sbin:/bin:/tools/node/bin:/tools/google-cloud-sdk/bin', 'NV_LIBNCCL_PACKAGE_NAME': 'libnccl2', 'COLAB_DEBUG_ADAPTER_MUX_PATH': '/usr/local/bin/dap_multiplexer', 'NV_LIBNCCL_PACKAGE_VERSION': '2.19.3-1', 'PYTHONWARNINGS': 'ignore:::pip._internal.cli.base_command', 'DEBIAN_FRONTEND': 'noninteractive', 'COLAB_BACKEND_VERSION': 'next', 'OLDPWD': '/', 'JPY_PARENT_PID': '88', 'TERM': 'xterm-color', 'CLICOLOR': '1', 'PAGER': 'cat', 'GIT_PAGER': 'cat', 'MPLBACKEND': 'module://ipykernel.pylab.backend_inline', 'ENABLE_DIRECTORYPREFETCHER': '1', 'USE_AUTH_EPHEM': '1', 'PYDEVD_USE_FRAME_EVAL': 'NO'}), '_i2': 'import os.path as path\\ndef path_divide(apath):\\n  print(f\\'{apath}:{path.splittext(apath)}\\')\\n\\npath_divide(\"wada.xp\")', 'path': <module 'posixpath' from '/usr/lib/python3.10/posixpath.py'>, 'path_divide': <function path_divide at 0x7b1ba03a5fc0>, '_i3': 'import os.path as path\\ndef path_divide(apath):\\n  print(f\\'{apath}:{path.splitext(apath)}\\')\\n\\npath_divide(\"wada.xp\")', '_i4': 'print(\"True\") if id(\"String\") == id(\"String\")', '_i5': 'print(\"True\") if id(\"String\") == id(\"String\") else \"False\"', '_i6': 'bnums = [10, 20, 56, 35, 17, 99]\\nbvalues = bytearray(bnums)\\nbvalues', 'bnums': [10, 20, 56, 35, 17, 99], 'bvalues': bytearray(b'\\n\\x148#\\x11c'), '_6': bytearray(b'\\n\\x148#\\x11c'), '_i7': 'bnums = [10, 20, 56, 35, 17, 99]\\nbvalues = bytearray(bnums)\\nbvalues\\n# Iterate through the elements of the bytearray and print each element.\\nfor x in values:\\n    print(x)', '_i8': 'bnums = [10, 20, 56, 35, 17, 99]\\nbvalues = bytearray(bnums)\\nbvalues\\n# Iterate through the elements of the bytearray and print each element.\\nfor x in bvalues:\\n    print(x)', 'x': 99, '_i9': 'bnums = [10, 20, 56, 35, 17, 99]\\nbvalues = bytearray(bnums)\\nprint(bvalues)\\n# Iterate through the elements of the bytearray and print each element.\\nfor x in bvalues:\\n    print(x)', '_i10': 'afloat = 9.12314\\nafloat.round(3)', 'afloat': 9.12314, '_i11': 'afloat = 9.12314\\nround(afloat,3)', '_11': 9.123, '_i12': 'locals()', '_12': {...}, '_i13': 'print(\"True\") if isinstance(\\'__main__\\', locals().items()', '_i14': 'print(\"True\") if isinstance(\\'__main__\\', locals().items() else \"False\"', '_i15': 'print(\"True\") if isinstance(\\'__main__\\', locals().items()) else \"False\"', '_i16': 'print(\"True\") if \\'__main__\\' in locals().items() else \"False\"', '_16': 'False', '_i17': 'locals.items()', '_i18': 'locals().items()', '_18': ..., '_i19': 'locals().values()'}, 16: 'False', 18: ...}), ('get_ipython', <bound method InteractiveShell.get_ipython of <google.colab._shell.Shell object at 0x7b1bb296e710>>), ('exit', <IPython.core.autocall.ZMQExitAutocall object at 0x7b1bb296dbd0>), ('quit', <IPython.core.autocall.ZMQExitAutocall object at 0x7b1bb296dbd0>), ('_', ...), ('__', 'False'), ('___', {'__name__': '__main__', '__doc__': 'Automatically created module for IPython interactive environment', '__package__': None, '__loader__': None, '__spec__': None, '__builtin__': <module 'builtins' (built-in)>, '__builtins__': <module 'builtins' (built-in)>, '_ih': ['', 'import os\\nos.environ', 'import os.path as path\\ndef path_divide(apath):\\n  print(f\\'{apath}:{path.splittext(apath)}\\')\\n\\npath_divide(\"wada.xp\")', 'import os.path as path\\ndef path_divide(apath):\\n  print(f\\'{apath}:{path.splitext(apath)}\\')\\n\\npath_divide(\"wada.xp\")', 'print(\"True\") if id(\"String\") == id(\"String\")', 'print(\"True\") if id(\"String\") == id(\"String\") else \"False\"', 'bnums = [10, 20, 56, 35, 17, 99]\\nbvalues = bytearray(bnums)\\nbvalues', 'bnums = [10, 20, 56, 35, 17, 99]\\nbvalues = bytearray(bnums)\\nbvalues\\n# Iterate through the elements of the bytearray and print each element.\\nfor x in values:\\n    print(x)', 'bnums = [10, 20, 56, 35, 17, 99]\\nbvalues = bytearray(bnums)\\nbvalues\\n# Iterate through the elements of the bytearray and print each element.\\nfor x in bvalues:\\n    print(x)', 'bnums = [10, 20, 56, 35, 17, 99]\\nbvalues = bytearray(bnums)\\nprint(bvalues)\\n# Iterate through the elements of the bytearray and print each element.\\nfor x in bvalues:\\n    print(x)', 'afloat = 9.12314\\nafloat.round(3)', 'afloat = 9.12314\\nround(afloat,3)', 'locals()', 'print(\"True\") if isinstance(\\'__main__\\', locals().items()', 'print(\"True\") if isinstance(\\'__main__\\', locals().items() else \"False\"', 'print(\"True\") if isinstance(\\'__main__\\', locals().items()) else \"False\"', 'print(\"True\") if \\'__main__\\' in locals().items() else \"False\"', 'locals.items()', 'locals().items()', 'locals().values()'], '_oh': {1: environ({'SHELL': '/bin/bash', 'NV_LIBCUBLAS_VERSION': '12.2.5.6-1', 'NVIDIA_VISIBLE_DEVICES': 'all', 'COLAB_JUPYTER_TRANSPORT': 'ipc', 'NV_NVML_DEV_VERSION': '12.2.140-1', 'NV_CUDNN_PACKAGE_NAME': 'libcudnn8', 'CGROUP_MEMORY_EVENTS': '/sys/fs/cgroup/memory.events /var/colab/cgroup/jupyter-children/memory.events', 'NV_LIBNCCL_DEV_PACKAGE': 'libnccl-dev=2.19.3-1+cuda12.2', 'NV_LIBNCCL_DEV_PACKAGE_VERSION': '2.19.3-1', 'VM_GCE_METADATA_HOST': '169.254.169.253', 'HOSTNAME': '57645698dfef', 'LANGUAGE': 'en_US', 'TBE_RUNTIME_ADDR': '172.28.0.1:8011', 'COLAB_TPU_1VM': '', 'GCE_METADATA_TIMEOUT': '3', 'NVIDIA_REQUIRE_CUDA': 'cuda>=12.2 brand=tesla,driver>=470,driver<471 brand=unknown,driver>=470,driver<471 brand=nvidia,driver>=470,driver<471 brand=nvidiartx,driver>=470,driver<471 brand=geforce,driver>=470,driver<471 brand=geforcertx,driver>=470,driver<471 brand=quadro,driver>=470,driver<471 brand=quadrortx,driver>=470,driver<471 brand=titan,driver>=470,driver<471 brand=titanrtx,driver>=470,driver<471 brand=tesla,driver>=525,driver<526 brand=unknown,driver>=525,driver<526 brand=nvidia,driver>=525,driver<526 brand=nvidiartx,driver>=525,driver<526 brand=geforce,driver>=525,driver<526 brand=geforcertx,driver>=525,driver<526 brand=quadro,driver>=525,driver<526 brand=quadrortx,driver>=525,driver<526 brand=titan,driver>=525,driver<526 brand=titanrtx,driver>=525,driver<526', 'NV_LIBCUBLAS_DEV_PACKAGE': 'libcublas-dev-12-2=12.2.5.6-1', 'NV_NVTX_VERSION': '12.2.140-1', 'COLAB_JUPYTER_IP': '172.28.0.12', 'NV_CUDA_CUDART_DEV_VERSION': '12.2.140-1', 'NV_LIBCUSPARSE_VERSION': '12.1.2.141-1', 'COLAB_LANGUAGE_SERVER_PROXY_ROOT_URL': 'http://172.28.0.1:8013/', 'NV_LIBNPP_VERSION': '12.2.1.4-1', 'NCCL_VERSION': '2.19.3-1', 'KMP_LISTEN_PORT': '6000', 'TF_FORCE_GPU_ALLOW_GROWTH': 'true', 'ENV': '/root/.bashrc', 'PWD': '/', 'COLAB_LANGUAGE_SERVER_PROXY_REQUEST_TIMEOUT': '30s', 'TBE_EPHEM_CREDS_ADDR': '172.28.0.1:8009', 'TBE_CREDS_ADDR': '172.28.0.1:8008', 'NV_CUDNN_PACKAGE': 'libcudnn8=8.9.6.50-1+cuda12.2', 'NVIDIA_DRIVER_CAPABILITIES': 'compute,utility', 'COLAB_JUPYTER_TOKEN': '', 'LAST_FORCED_REBUILD': '20240627', 'NV_NVPROF_DEV_PACKAGE': 'cuda-nvprof-12-2=12.2.142-1', 'NV_LIBNPP_PACKAGE': 'libnpp-12-2=12.2.1.4-1', 'NV_LIBNCCL_DEV_PACKAGE_NAME': 'libnccl-dev', 'TCLLIBPATH': '/usr/share/tcltk/tcllib1.20', 'NV_LIBCUBLAS_DEV_VERSION': '12.2.5.6-1', 'NVIDIA_PRODUCT_NAME': 'CUDA', 'COLAB_KERNEL_MANAGER_PROXY_HOST': '172.28.0.12', 'NV_LIBCUBLAS_DEV_PACKAGE_NAME': 'libcublas-dev-12-2', 'NV_CUDA_CUDART_VERSION': '12.2.140-1', 'COLAB_WARMUP_DEFAULTS': '1', 'HOME': '/root', 'LANG': 'en_US.UTF-8', 'COLUMNS': '100', 'CUDA_VERSION': '12.2.2', 'CLOUDSDK_CONFIG': '/content/.config', 'NV_LIBCUBLAS_PACKAGE': 'libcublas-12-2=12.2.5.6-1', 'NV_CUDA_NSIGHT_COMPUTE_DEV_PACKAGE': 'cuda-nsight-compute-12-2=12.2.2-1', 'COLAB_RELEASE_TAG': 'release-colab_20240910-060204_RC00', 'KMP_TARGET_PORT': '9000', 'KMP_EXTRA_ARGS': '--logtostderr --listen_host=172.28.0.12 --target_host=172.28.0.12 --tunnel_background_save_url=https://colab.research.google.com/tun/m/cc48301118ce562b961b3c22d803539adc1e0c19/m-s-yysr7zal1kwx --tunnel_background_save_delay=10s --tunnel_periodic_background_save_frequency=30m0s --enable_output_coalescing=true --output_coalescing_required=true --log_code_content', 'NV_LIBNPP_DEV_PACKAGE': 'libnpp-dev-12-2=12.2.1.4-1', 'COLAB_LANGUAGE_SERVER_PROXY_LSP_DIRS': '/datalab/web/pyright/typeshed-fallback/stdlib,/usr/local/lib/python3.10/dist-packages', 'NV_LIBCUBLAS_PACKAGE_NAME': 'libcublas-12-2', 'COLAB_KERNEL_MANAGER_PROXY_PORT': '6000', 'CLOUDSDK_PYTHON': 'python3', 'NV_LIBNPP_DEV_VERSION': '12.2.1.4-1', 'NO_GCE_CHECK': 'False', 'PYTHONPATH': '/env/python', 'NV_LIBCUSPARSE_DEV_VERSION': '12.1.2.141-1', 'LIBRARY_PATH': '/usr/local/cuda/lib64/stubs', 'NV_CUDNN_VERSION': '8.9.6.50', 'SHLVL': '0', 'NV_CUDA_LIB_VERSION': '12.2.2-1', 'COLAB_LANGUAGE_SERVER_PROXY': '/usr/colab/bin/language_service', 'NVARCH': 'x86_64', 'NV_CUDNN_PACKAGE_DEV': 'libcudnn8-dev=8.9.6.50-1+cuda12.2', 'NV_CUDA_COMPAT_PACKAGE': 'cuda-compat-12-2', 'NV_LIBNCCL_PACKAGE': 'libnccl2=2.19.3-1+cuda12.2', 'LD_LIBRARY_PATH': '/usr/local/nvidia/lib:/usr/local/nvidia/lib64', 'COLAB_GPU': '', 'NV_CUDA_NSIGHT_COMPUTE_VERSION': '12.2.2-1', 'GCS_READ_CACHE_BLOCK_SIZE_MB': '16', 'NV_NVPROF_VERSION': '12.2.142-1', 'LC_ALL': 'en_US.UTF-8', 'COLAB_FILE_HANDLER_ADDR': 'localhost:3453', 'PATH': '/opt/bin:/usr/local/nvidia/bin:/usr/local/cuda/bin:/usr/local/sbin:/usr/local/bin:/usr/sbin:/usr/bin:/sbin:/bin:/tools/node/bin:/tools/google-cloud-sdk/bin', 'NV_LIBNCCL_PACKAGE_NAME': 'libnccl2', 'COLAB_DEBUG_ADAPTER_MUX_PATH': '/usr/local/bin/dap_multiplexer', 'NV_LIBNCCL_PACKAGE_VERSION': '2.19.3-1', 'PYTHONWARNINGS': 'ignore:::pip._internal.cli.base_command', 'DEBIAN_FRONTEND': 'noninteractive', 'COLAB_BACKEND_VERSION': 'next', 'OLDPWD': '/', 'JPY_PARENT_PID': '88', 'TERM': 'xterm-color', 'CLICOLOR': '1', 'PAGER': 'cat', 'GIT_PAGER': 'cat', 'MPLBACKEND': 'module://ipykernel.pylab.backend_inline', 'ENABLE_DIRECTORYPREFETCHER': '1', 'USE_AUTH_EPHEM': '1', 'PYDEVD_USE_FRAME_EVAL': 'NO'}), 6: bytearray(b'\\n\\x148#\\x11c'), 11: 9.123, 12: {...}, 16: 'False', 18: ...}, '_dh': ['/content'], 'In': ['', 'import os\\nos.environ', 'import os.path as path\\ndef path_divide(apath):\\n  print(f\\'{apath}:{path.splittext(apath)}\\')\\n\\npath_divide(\"wada.xp\")', 'import os.path as path\\ndef path_divide(apath):\\n  print(f\\'{apath}:{path.splitext(apath)}\\')\\n\\npath_divide(\"wada.xp\")', 'print(\"True\") if id(\"String\") == id(\"String\")', 'print(\"True\") if id(\"String\") == id(\"String\") else \"False\"', 'bnums = [10, 20, 56, 35, 17, 99]\\nbvalues = bytearray(bnums)\\nbvalues', 'bnums = [10, 20, 56, 35, 17, 99]\\nbvalues = bytearray(bnums)\\nbvalues\\n# Iterate through the elements of the bytearray and print each element.\\nfor x in values:\\n    print(x)', 'bnums = [10, 20, 56, 35, 17, 99]\\nbvalues = bytearray(bnums)\\nbvalues\\n# Iterate through the elements of the bytearray and print each element.\\nfor x in bvalues:\\n    print(x)', 'bnums = [10, 20, 56, 35, 17, 99]\\nbvalues = bytearray(bnums)\\nprint(bvalues)\\n# Iterate through the elements of the bytearray and print each element.\\nfor x in bvalues:\\n    print(x)', 'afloat = 9.12314\\nafloat.round(3)', 'afloat = 9.12314\\nround(afloat,3)', 'locals()', 'print(\"True\") if isinstance(\\'__main__\\', locals().items()', 'print(\"True\") if isinstance(\\'__main__\\', locals().items() else \"False\"', 'print(\"True\") if isinstance(\\'__main__\\', locals().items()) else \"False\"', 'print(\"True\") if \\'__main__\\' in locals().items() else \"False\"', 'locals.items()', 'locals().items()', 'locals().values()'], 'Out': {1: environ({'SHELL': '/bin/bash', 'NV_LIBCUBLAS_VERSION': '12.2.5.6-1', 'NVIDIA_VISIBLE_DEVICES': 'all', 'COLAB_JUPYTER_TRANSPORT': 'ipc', 'NV_NVML_DEV_VERSION': '12.2.140-1', 'NV_CUDNN_PACKAGE_NAME': 'libcudnn8', 'CGROUP_MEMORY_EVENTS': '/sys/fs/cgroup/memory.events /var/colab/cgroup/jupyter-children/memory.events', 'NV_LIBNCCL_DEV_PACKAGE': 'libnccl-dev=2.19.3-1+cuda12.2', 'NV_LIBNCCL_DEV_PACKAGE_VERSION': '2.19.3-1', 'VM_GCE_METADATA_HOST': '169.254.169.253', 'HOSTNAME': '57645698dfef', 'LANGUAGE': 'en_US', 'TBE_RUNTIME_ADDR': '172.28.0.1:8011', 'COLAB_TPU_1VM': '', 'GCE_METADATA_TIMEOUT': '3', 'NVIDIA_REQUIRE_CUDA': 'cuda>=12.2 brand=tesla,driver>=470,driver<471 brand=unknown,driver>=470,driver<471 brand=nvidia,driver>=470,driver<471 brand=nvidiartx,driver>=470,driver<471 brand=geforce,driver>=470,driver<471 brand=geforcertx,driver>=470,driver<471 brand=quadro,driver>=470,driver<471 brand=quadrortx,driver>=470,driver<471 brand=titan,driver>=470,driver<471 brand=titanrtx,driver>=470,driver<471 brand=tesla,driver>=525,driver<526 brand=unknown,driver>=525,driver<526 brand=nvidia,driver>=525,driver<526 brand=nvidiartx,driver>=525,driver<526 brand=geforce,driver>=525,driver<526 brand=geforcertx,driver>=525,driver<526 brand=quadro,driver>=525,driver<526 brand=quadrortx,driver>=525,driver<526 brand=titan,driver>=525,driver<526 brand=titanrtx,driver>=525,driver<526', 'NV_LIBCUBLAS_DEV_PACKAGE': 'libcublas-dev-12-2=12.2.5.6-1', 'NV_NVTX_VERSION': '12.2.140-1', 'COLAB_JUPYTER_IP': '172.28.0.12', 'NV_CUDA_CUDART_DEV_VERSION': '12.2.140-1', 'NV_LIBCUSPARSE_VERSION': '12.1.2.141-1', 'COLAB_LANGUAGE_SERVER_PROXY_ROOT_URL': 'http://172.28.0.1:8013/', 'NV_LIBNPP_VERSION': '12.2.1.4-1', 'NCCL_VERSION': '2.19.3-1', 'KMP_LISTEN_PORT': '6000', 'TF_FORCE_GPU_ALLOW_GROWTH': 'true', 'ENV': '/root/.bashrc', 'PWD': '/', 'COLAB_LANGUAGE_SERVER_PROXY_REQUEST_TIMEOUT': '30s', 'TBE_EPHEM_CREDS_ADDR': '172.28.0.1:8009', 'TBE_CREDS_ADDR': '172.28.0.1:8008', 'NV_CUDNN_PACKAGE': 'libcudnn8=8.9.6.50-1+cuda12.2', 'NVIDIA_DRIVER_CAPABILITIES': 'compute,utility', 'COLAB_JUPYTER_TOKEN': '', 'LAST_FORCED_REBUILD': '20240627', 'NV_NVPROF_DEV_PACKAGE': 'cuda-nvprof-12-2=12.2.142-1', 'NV_LIBNPP_PACKAGE': 'libnpp-12-2=12.2.1.4-1', 'NV_LIBNCCL_DEV_PACKAGE_NAME': 'libnccl-dev', 'TCLLIBPATH': '/usr/share/tcltk/tcllib1.20', 'NV_LIBCUBLAS_DEV_VERSION': '12.2.5.6-1', 'NVIDIA_PRODUCT_NAME': 'CUDA', 'COLAB_KERNEL_MANAGER_PROXY_HOST': '172.28.0.12', 'NV_LIBCUBLAS_DEV_PACKAGE_NAME': 'libcublas-dev-12-2', 'NV_CUDA_CUDART_VERSION': '12.2.140-1', 'COLAB_WARMUP_DEFAULTS': '1', 'HOME': '/root', 'LANG': 'en_US.UTF-8', 'COLUMNS': '100', 'CUDA_VERSION': '12.2.2', 'CLOUDSDK_CONFIG': '/content/.config', 'NV_LIBCUBLAS_PACKAGE': 'libcublas-12-2=12.2.5.6-1', 'NV_CUDA_NSIGHT_COMPUTE_DEV_PACKAGE': 'cuda-nsight-compute-12-2=12.2.2-1', 'COLAB_RELEASE_TAG': 'release-colab_20240910-060204_RC00', 'KMP_TARGET_PORT': '9000', 'KMP_EXTRA_ARGS': '--logtostderr --listen_host=172.28.0.12 --target_host=172.28.0.12 --tunnel_background_save_url=https://colab.research.google.com/tun/m/cc48301118ce562b961b3c22d803539adc1e0c19/m-s-yysr7zal1kwx --tunnel_background_save_delay=10s --tunnel_periodic_background_save_frequency=30m0s --enable_output_coalescing=true --output_coalescing_required=true --log_code_content', 'NV_LIBNPP_DEV_PACKAGE': 'libnpp-dev-12-2=12.2.1.4-1', 'COLAB_LANGUAGE_SERVER_PROXY_LSP_DIRS': '/datalab/web/pyright/typeshed-fallback/stdlib,/usr/local/lib/python3.10/dist-packages', 'NV_LIBCUBLAS_PACKAGE_NAME': 'libcublas-12-2', 'COLAB_KERNEL_MANAGER_PROXY_PORT': '6000', 'CLOUDSDK_PYTHON': 'python3', 'NV_LIBNPP_DEV_VERSION': '12.2.1.4-1', 'NO_GCE_CHECK': 'False', 'PYTHONPATH': '/env/python', 'NV_LIBCUSPARSE_DEV_VERSION': '12.1.2.141-1', 'LIBRARY_PATH': '/usr/local/cuda/lib64/stubs', 'NV_CUDNN_VERSION': '8.9.6.50', 'SHLVL': '0', 'NV_CUDA_LIB_VERSION': '12.2.2-1', 'COLAB_LANGUAGE_SERVER_PROXY': '/usr/colab/bin/language_service', 'NVARCH': 'x86_64', 'NV_CUDNN_PACKAGE_DEV': 'libcudnn8-dev=8.9.6.50-1+cuda12.2', 'NV_CUDA_COMPAT_PACKAGE': 'cuda-compat-12-2', 'NV_LIBNCCL_PACKAGE': 'libnccl2=2.19.3-1+cuda12.2', 'LD_LIBRARY_PATH': '/usr/local/nvidia/lib:/usr/local/nvidia/lib64', 'COLAB_GPU': '', 'NV_CUDA_NSIGHT_COMPUTE_VERSION': '12.2.2-1', 'GCS_READ_CACHE_BLOCK_SIZE_MB': '16', 'NV_NVPROF_VERSION': '12.2.142-1', 'LC_ALL': 'en_US.UTF-8', 'COLAB_FILE_HANDLER_ADDR': 'localhost:3453', 'PATH': '/opt/bin:/usr/local/nvidia/bin:/usr/local/cuda/bin:/usr/local/sbin:/usr/local/bin:/usr/sbin:/usr/bin:/sbin:/bin:/tools/node/bin:/tools/google-cloud-sdk/bin', 'NV_LIBNCCL_PACKAGE_NAME': 'libnccl2', 'COLAB_DEBUG_ADAPTER_MUX_PATH': '/usr/local/bin/dap_multiplexer', 'NV_LIBNCCL_PACKAGE_VERSION': '2.19.3-1', 'PYTHONWARNINGS': 'ignore:::pip._internal.cli.base_command', 'DEBIAN_FRONTEND': 'noninteractive', 'COLAB_BACKEND_VERSION': 'next', 'OLDPWD': '/', 'JPY_PARENT_PID': '88', 'TERM': 'xterm-color', 'CLICOLOR': '1', 'PAGER': 'cat', 'GIT_PAGER': 'cat', 'MPLBACKEND': 'module://ipykernel.pylab.backend_inline', 'ENABLE_DIRECTORYPREFETCHER': '1', 'USE_AUTH_EPHEM': '1', 'PYDEVD_USE_FRAME_EVAL': 'NO'}), 6: bytearray(b'\\n\\x148#\\x11c'), 11: 9.123, 12: {...}, 16: 'False', 18: ...}, 'get_ipython': <bound method InteractiveShell.get_ipython of <google.colab._shell.Shell object at 0x7b1bb296e710>>, 'exit': <IPython.core.autocall.ZMQExitAutocall object at 0x7b1bb296dbd0>, 'quit': <IPython.core.autocall.ZMQExitAutocall object at 0x7b1bb296dbd0>, '_': ..., '__': 'False', '___': {...}, '_i': 'locals().items()', '_ii': 'locals.items()', '_iii': 'print(\"True\") if \\'__main__\\' in locals().items() else \"False\"', '_i1': 'import os\\nos.environ', 'os': <module 'os' from '/usr/lib/python3.10/os.py'>, '_1': environ({'SHELL': '/bin/bash', 'NV_LIBCUBLAS_VERSION': '12.2.5.6-1', 'NVIDIA_VISIBLE_DEVICES': 'all', 'COLAB_JUPYTER_TRANSPORT': 'ipc', 'NV_NVML_DEV_VERSION': '12.2.140-1', 'NV_CUDNN_PACKAGE_NAME': 'libcudnn8', 'CGROUP_MEMORY_EVENTS': '/sys/fs/cgroup/memory.events /var/colab/cgroup/jupyter-children/memory.events', 'NV_LIBNCCL_DEV_PACKAGE': 'libnccl-dev=2.19.3-1+cuda12.2', 'NV_LIBNCCL_DEV_PACKAGE_VERSION': '2.19.3-1', 'VM_GCE_METADATA_HOST': '169.254.169.253', 'HOSTNAME': '57645698dfef', 'LANGUAGE': 'en_US', 'TBE_RUNTIME_ADDR': '172.28.0.1:8011', 'COLAB_TPU_1VM': '', 'GCE_METADATA_TIMEOUT': '3', 'NVIDIA_REQUIRE_CUDA': 'cuda>=12.2 brand=tesla,driver>=470,driver<471 brand=unknown,driver>=470,driver<471 brand=nvidia,driver>=470,driver<471 brand=nvidiartx,driver>=470,driver<471 brand=geforce,driver>=470,driver<471 brand=geforcertx,driver>=470,driver<471 brand=quadro,driver>=470,driver<471 brand=quadrortx,driver>=470,driver<471 brand=titan,driver>=470,driver<471 brand=titanrtx,driver>=470,driver<471 brand=tesla,driver>=525,driver<526 brand=unknown,driver>=525,driver<526 brand=nvidia,driver>=525,driver<526 brand=nvidiartx,driver>=525,driver<526 brand=geforce,driver>=525,driver<526 brand=geforcertx,driver>=525,driver<526 brand=quadro,driver>=525,driver<526 brand=quadrortx,driver>=525,driver<526 brand=titan,driver>=525,driver<526 brand=titanrtx,driver>=525,driver<526', 'NV_LIBCUBLAS_DEV_PACKAGE': 'libcublas-dev-12-2=12.2.5.6-1', 'NV_NVTX_VERSION': '12.2.140-1', 'COLAB_JUPYTER_IP': '172.28.0.12', 'NV_CUDA_CUDART_DEV_VERSION': '12.2.140-1', 'NV_LIBCUSPARSE_VERSION': '12.1.2.141-1', 'COLAB_LANGUAGE_SERVER_PROXY_ROOT_URL': 'http://172.28.0.1:8013/', 'NV_LIBNPP_VERSION': '12.2.1.4-1', 'NCCL_VERSION': '2.19.3-1', 'KMP_LISTEN_PORT': '6000', 'TF_FORCE_GPU_ALLOW_GROWTH': 'true', 'ENV': '/root/.bashrc', 'PWD': '/', 'COLAB_LANGUAGE_SERVER_PROXY_REQUEST_TIMEOUT': '30s', 'TBE_EPHEM_CREDS_ADDR': '172.28.0.1:8009', 'TBE_CREDS_ADDR': '172.28.0.1:8008', 'NV_CUDNN_PACKAGE': 'libcudnn8=8.9.6.50-1+cuda12.2', 'NVIDIA_DRIVER_CAPABILITIES': 'compute,utility', 'COLAB_JUPYTER_TOKEN': '', 'LAST_FORCED_REBUILD': '20240627', 'NV_NVPROF_DEV_PACKAGE': 'cuda-nvprof-12-2=12.2.142-1', 'NV_LIBNPP_PACKAGE': 'libnpp-12-2=12.2.1.4-1', 'NV_LIBNCCL_DEV_PACKAGE_NAME': 'libnccl-dev', 'TCLLIBPATH': '/usr/share/tcltk/tcllib1.20', 'NV_LIBCUBLAS_DEV_VERSION': '12.2.5.6-1', 'NVIDIA_PRODUCT_NAME': 'CUDA', 'COLAB_KERNEL_MANAGER_PROXY_HOST': '172.28.0.12', 'NV_LIBCUBLAS_DEV_PACKAGE_NAME': 'libcublas-dev-12-2', 'NV_CUDA_CUDART_VERSION': '12.2.140-1', 'COLAB_WARMUP_DEFAULTS': '1', 'HOME': '/root', 'LANG': 'en_US.UTF-8', 'COLUMNS': '100', 'CUDA_VERSION': '12.2.2', 'CLOUDSDK_CONFIG': '/content/.config', 'NV_LIBCUBLAS_PACKAGE': 'libcublas-12-2=12.2.5.6-1', 'NV_CUDA_NSIGHT_COMPUTE_DEV_PACKAGE': 'cuda-nsight-compute-12-2=12.2.2-1', 'COLAB_RELEASE_TAG': 'release-colab_20240910-060204_RC00', 'KMP_TARGET_PORT': '9000', 'KMP_EXTRA_ARGS': '--logtostderr --listen_host=172.28.0.12 --target_host=172.28.0.12 --tunnel_background_save_url=https://colab.research.google.com/tun/m/cc48301118ce562b961b3c22d803539adc1e0c19/m-s-yysr7zal1kwx --tunnel_background_save_delay=10s --tunnel_periodic_background_save_frequency=30m0s --enable_output_coalescing=true --output_coalescing_required=true --log_code_content', 'NV_LIBNPP_DEV_PACKAGE': 'libnpp-dev-12-2=12.2.1.4-1', 'COLAB_LANGUAGE_SERVER_PROXY_LSP_DIRS': '/datalab/web/pyright/typeshed-fallback/stdlib,/usr/local/lib/python3.10/dist-packages', 'NV_LIBCUBLAS_PACKAGE_NAME': 'libcublas-12-2', 'COLAB_KERNEL_MANAGER_PROXY_PORT': '6000', 'CLOUDSDK_PYTHON': 'python3', 'NV_LIBNPP_DEV_VERSION': '12.2.1.4-1', 'NO_GCE_CHECK': 'False', 'PYTHONPATH': '/env/python', 'NV_LIBCUSPARSE_DEV_VERSION': '12.1.2.141-1', 'LIBRARY_PATH': '/usr/local/cuda/lib64/stubs', 'NV_CUDNN_VERSION': '8.9.6.50', 'SHLVL': '0', 'NV_CUDA_LIB_VERSION': '12.2.2-1', 'COLAB_LANGUAGE_SERVER_PROXY': '/usr/colab/bin/language_service', 'NVARCH': 'x86_64', 'NV_CUDNN_PACKAGE_DEV': 'libcudnn8-dev=8.9.6.50-1+cuda12.2', 'NV_CUDA_COMPAT_PACKAGE': 'cuda-compat-12-2', 'NV_LIBNCCL_PACKAGE': 'libnccl2=2.19.3-1+cuda12.2', 'LD_LIBRARY_PATH': '/usr/local/nvidia/lib:/usr/local/nvidia/lib64', 'COLAB_GPU': '', 'NV_CUDA_NSIGHT_COMPUTE_VERSION': '12.2.2-1', 'GCS_READ_CACHE_BLOCK_SIZE_MB': '16', 'NV_NVPROF_VERSION': '12.2.142-1', 'LC_ALL': 'en_US.UTF-8', 'COLAB_FILE_HANDLER_ADDR': 'localhost:3453', 'PATH': '/opt/bin:/usr/local/nvidia/bin:/usr/local/cuda/bin:/usr/local/sbin:/usr/local/bin:/usr/sbin:/usr/bin:/sbin:/bin:/tools/node/bin:/tools/google-cloud-sdk/bin', 'NV_LIBNCCL_PACKAGE_NAME': 'libnccl2', 'COLAB_DEBUG_ADAPTER_MUX_PATH': '/usr/local/bin/dap_multiplexer', 'NV_LIBNCCL_PACKAGE_VERSION': '2.19.3-1', 'PYTHONWARNINGS': 'ignore:::pip._internal.cli.base_command', 'DEBIAN_FRONTEND': 'noninteractive', 'COLAB_BACKEND_VERSION': 'next', 'OLDPWD': '/', 'JPY_PARENT_PID': '88', 'TERM': 'xterm-color', 'CLICOLOR': '1', 'PAGER': 'cat', 'GIT_PAGER': 'cat', 'MPLBACKEND': 'module://ipykernel.pylab.backend_inline', 'ENABLE_DIRECTORYPREFETCHER': '1', 'USE_AUTH_EPHEM': '1', 'PYDEVD_USE_FRAME_EVAL': 'NO'}), '_i2': 'import os.path as path\\ndef path_divide(apath):\\n  print(f\\'{apath}:{path.splittext(apath)}\\')\\n\\npath_divide(\"wada.xp\")', 'path': <module 'posixpath' from '/usr/lib/python3.10/posixpath.py'>, 'path_divide': <function path_divide at 0x7b1ba03a5fc0>, '_i3': 'import os.path as path\\ndef path_divide(apath):\\n  print(f\\'{apath}:{path.splitext(apath)}\\')\\n\\npath_divide(\"wada.xp\")', '_i4': 'print(\"True\") if id(\"String\") == id(\"String\")', '_i5': 'print(\"True\") if id(\"String\") == id(\"String\") else \"False\"', '_i6': 'bnums = [10, 20, 56, 35, 17, 99]\\nbvalues = bytearray(bnums)\\nbvalues', 'bnums': [10, 20, 56, 35, 17, 99], 'bvalues': bytearray(b'\\n\\x148#\\x11c'), '_6': bytearray(b'\\n\\x148#\\x11c'), '_i7': 'bnums = [10, 20, 56, 35, 17, 99]\\nbvalues = bytearray(bnums)\\nbvalues\\n# Iterate through the elements of the bytearray and print each element.\\nfor x in values:\\n    print(x)', '_i8': 'bnums = [10, 20, 56, 35, 17, 99]\\nbvalues = bytearray(bnums)\\nbvalues\\n# Iterate through the elements of the bytearray and print each element.\\nfor x in bvalues:\\n    print(x)', 'x': 99, '_i9': 'bnums = [10, 20, 56, 35, 17, 99]\\nbvalues = bytearray(bnums)\\nprint(bvalues)\\n# Iterate through the elements of the bytearray and print each element.\\nfor x in bvalues:\\n    print(x)', '_i10': 'afloat = 9.12314\\nafloat.round(3)', 'afloat': 9.12314, '_i11': 'afloat = 9.12314\\nround(afloat,3)', '_11': 9.123, '_i12': 'locals()', '_12': {...}, '_i13': 'print(\"True\") if isinstance(\\'__main__\\', locals().items()', '_i14': 'print(\"True\") if isinstance(\\'__main__\\', locals().items() else \"False\"', '_i15': 'print(\"True\") if isinstance(\\'__main__\\', locals().items()) else \"False\"', '_i16': 'print(\"True\") if \\'__main__\\' in locals().items() else \"False\"', '_16': 'False', '_i17': 'locals.items()', '_i18': 'locals().items()', '_18': ..., '_i19': 'locals().values()'}), ('_i', 'locals().items()'), ('_ii', 'locals.items()'), ('_iii', 'print(\"True\") if \\'__main__\\' in locals().items() else \"False\"'), ('_i1', 'import os\\nos.environ'), ('os', <module 'os' from '/usr/lib/python3.10/os.py'>), ('_1', environ({'SHELL': '/bin/bash', 'NV_LIBCUBLAS_VERSION': '12.2.5.6-1', 'NVIDIA_VISIBLE_DEVICES': 'all', 'COLAB_JUPYTER_TRANSPORT': 'ipc', 'NV_NVML_DEV_VERSION': '12.2.140-1', 'NV_CUDNN_PACKAGE_NAME': 'libcudnn8', 'CGROUP_MEMORY_EVENTS': '/sys/fs/cgroup/memory.events /var/colab/cgroup/jupyter-children/memory.events', 'NV_LIBNCCL_DEV_PACKAGE': 'libnccl-dev=2.19.3-1+cuda12.2', 'NV_LIBNCCL_DEV_PACKAGE_VERSION': '2.19.3-1', 'VM_GCE_METADATA_HOST': '169.254.169.253', 'HOSTNAME': '57645698dfef', 'LANGUAGE': 'en_US', 'TBE_RUNTIME_ADDR': '172.28.0.1:8011', 'COLAB_TPU_1VM': '', 'GCE_METADATA_TIMEOUT': '3', 'NVIDIA_REQUIRE_CUDA': 'cuda>=12.2 brand=tesla,driver>=470,driver<471 brand=unknown,driver>=470,driver<471 brand=nvidia,driver>=470,driver<471 brand=nvidiartx,driver>=470,driver<471 brand=geforce,driver>=470,driver<471 brand=geforcertx,driver>=470,driver<471 brand=quadro,driver>=470,driver<471 brand=quadrortx,driver>=470,driver<471 brand=titan,driver>=470,driver<471 brand=titanrtx,driver>=470,driver<471 brand=tesla,driver>=525,driver<526 brand=unknown,driver>=525,driver<526 brand=nvidia,driver>=525,driver<526 brand=nvidiartx,driver>=525,driver<526 brand=geforce,driver>=525,driver<526 brand=geforcertx,driver>=525,driver<526 brand=quadro,driver>=525,driver<526 brand=quadrortx,driver>=525,driver<526 brand=titan,driver>=525,driver<526 brand=titanrtx,driver>=525,driver<526', 'NV_LIBCUBLAS_DEV_PACKAGE': 'libcublas-dev-12-2=12.2.5.6-1', 'NV_NVTX_VERSION': '12.2.140-1', 'COLAB_JUPYTER_IP': '172.28.0.12', 'NV_CUDA_CUDART_DEV_VERSION': '12.2.140-1', 'NV_LIBCUSPARSE_VERSION': '12.1.2.141-1', 'COLAB_LANGUAGE_SERVER_PROXY_ROOT_URL': 'http://172.28.0.1:8013/', 'NV_LIBNPP_VERSION': '12.2.1.4-1', 'NCCL_VERSION': '2.19.3-1', 'KMP_LISTEN_PORT': '6000', 'TF_FORCE_GPU_ALLOW_GROWTH': 'true', 'ENV': '/root/.bashrc', 'PWD': '/', 'COLAB_LANGUAGE_SERVER_PROXY_REQUEST_TIMEOUT': '30s', 'TBE_EPHEM_CREDS_ADDR': '172.28.0.1:8009', 'TBE_CREDS_ADDR': '172.28.0.1:8008', 'NV_CUDNN_PACKAGE': 'libcudnn8=8.9.6.50-1+cuda12.2', 'NVIDIA_DRIVER_CAPABILITIES': 'compute,utility', 'COLAB_JUPYTER_TOKEN': '', 'LAST_FORCED_REBUILD': '20240627', 'NV_NVPROF_DEV_PACKAGE': 'cuda-nvprof-12-2=12.2.142-1', 'NV_LIBNPP_PACKAGE': 'libnpp-12-2=12.2.1.4-1', 'NV_LIBNCCL_DEV_PACKAGE_NAME': 'libnccl-dev', 'TCLLIBPATH': '/usr/share/tcltk/tcllib1.20', 'NV_LIBCUBLAS_DEV_VERSION': '12.2.5.6-1', 'NVIDIA_PRODUCT_NAME': 'CUDA', 'COLAB_KERNEL_MANAGER_PROXY_HOST': '172.28.0.12', 'NV_LIBCUBLAS_DEV_PACKAGE_NAME': 'libcublas-dev-12-2', 'NV_CUDA_CUDART_VERSION': '12.2.140-1', 'COLAB_WARMUP_DEFAULTS': '1', 'HOME': '/root', 'LANG': 'en_US.UTF-8', 'COLUMNS': '100', 'CUDA_VERSION': '12.2.2', 'CLOUDSDK_CONFIG': '/content/.config', 'NV_LIBCUBLAS_PACKAGE': 'libcublas-12-2=12.2.5.6-1', 'NV_CUDA_NSIGHT_COMPUTE_DEV_PACKAGE': 'cuda-nsight-compute-12-2=12.2.2-1', 'COLAB_RELEASE_TAG': 'release-colab_20240910-060204_RC00', 'KMP_TARGET_PORT': '9000', 'KMP_EXTRA_ARGS': '--logtostderr --listen_host=172.28.0.12 --target_host=172.28.0.12 --tunnel_background_save_url=https://colab.research.google.com/tun/m/cc48301118ce562b961b3c22d803539adc1e0c19/m-s-yysr7zal1kwx --tunnel_background_save_delay=10s --tunnel_periodic_background_save_frequency=30m0s --enable_output_coalescing=true --output_coalescing_required=true --log_code_content', 'NV_LIBNPP_DEV_PACKAGE': 'libnpp-dev-12-2=12.2.1.4-1', 'COLAB_LANGUAGE_SERVER_PROXY_LSP_DIRS': '/datalab/web/pyright/typeshed-fallback/stdlib,/usr/local/lib/python3.10/dist-packages', 'NV_LIBCUBLAS_PACKAGE_NAME': 'libcublas-12-2', 'COLAB_KERNEL_MANAGER_PROXY_PORT': '6000', 'CLOUDSDK_PYTHON': 'python3', 'NV_LIBNPP_DEV_VERSION': '12.2.1.4-1', 'NO_GCE_CHECK': 'False', 'PYTHONPATH': '/env/python', 'NV_LIBCUSPARSE_DEV_VERSION': '12.1.2.141-1', 'LIBRARY_PATH': '/usr/local/cuda/lib64/stubs', 'NV_CUDNN_VERSION': '8.9.6.50', 'SHLVL': '0', 'NV_CUDA_LIB_VERSION': '12.2.2-1', 'COLAB_LANGUAGE_SERVER_PROXY': '/usr/colab/bin/language_service', 'NVARCH': 'x86_64', 'NV_CUDNN_PACKAGE_DEV': 'libcudnn8-dev=8.9.6.50-1+cuda12.2', 'NV_CUDA_COMPAT_PACKAGE': 'cuda-compat-12-2', 'NV_LIBNCCL_PACKAGE': 'libnccl2=2.19.3-1+cuda12.2', 'LD_LIBRARY_PATH': '/usr/local/nvidia/lib:/usr/local/nvidia/lib64', 'COLAB_GPU': '', 'NV_CUDA_NSIGHT_COMPUTE_VERSION': '12.2.2-1', 'GCS_READ_CACHE_BLOCK_SIZE_MB': '16', 'NV_NVPROF_VERSION': '12.2.142-1', 'LC_ALL': 'en_US.UTF-8', 'COLAB_FILE_HANDLER_ADDR': 'localhost:3453', 'PATH': '/opt/bin:/usr/local/nvidia/bin:/usr/local/cuda/bin:/usr/local/sbin:/usr/local/bin:/usr/sbin:/usr/bin:/sbin:/bin:/tools/node/bin:/tools/google-cloud-sdk/bin', 'NV_LIBNCCL_PACKAGE_NAME': 'libnccl2', 'COLAB_DEBUG_ADAPTER_MUX_PATH': '/usr/local/bin/dap_multiplexer', 'NV_LIBNCCL_PACKAGE_VERSION': '2.19.3-1', 'PYTHONWARNINGS': 'ignore:::pip._internal.cli.base_command', 'DEBIAN_FRONTEND': 'noninteractive', 'COLAB_BACKEND_VERSION': 'next', 'OLDPWD': '/', 'JPY_PARENT_PID': '88', 'TERM': 'xterm-color', 'CLICOLOR': '1', 'PAGER': 'cat', 'GIT_PAGER': 'cat', 'MPLBACKEND': 'module://ipykernel.pylab.backend_inline', 'ENABLE_DIRECTORYPREFETCHER': '1', 'USE_AUTH_EPHEM': '1', 'PYDEVD_USE_FRAME_EVAL': 'NO'})), ('_i2', 'import os.path as path\\ndef path_divide(apath):\\n  print(f\\'{apath}:{path.splittext(apath)}\\')\\n\\npath_divide(\"wada.xp\")'), ('path', <module 'posixpath' from '/usr/lib/python3.10/posixpath.py'>), ('path_divide', <function path_divide at 0x7b1ba03a5fc0>), ('_i3', 'import os.path as path\\ndef path_divide(apath):\\n  print(f\\'{apath}:{path.splitext(apath)}\\')\\n\\npath_divide(\"wada.xp\")'), ('_i4', 'print(\"True\") if id(\"String\") == id(\"String\")'), ('_i5', 'print(\"True\") if id(\"String\") == id(\"String\") else \"False\"'), ('_i6', 'bnums = [10, 20, 56, 35, 17, 99]\\nbvalues = bytearray(bnums)\\nbvalues'), ('bnums', [10, 20, 56, 35, 17, 99]), ('bvalues', bytearray(b'\\n\\x148#\\x11c')), ('_6', bytearray(b'\\n\\x148#\\x11c')), ('_i7', 'bnums = [10, 20, 56, 35, 17, 99]\\nbvalues = bytearray(bnums)\\nbvalues\\n# Iterate through the elements of the bytearray and print each element.\\nfor x in values:\\n    print(x)'), ('_i8', 'bnums = [10, 20, 56, 35, 17, 99]\\nbvalues = bytearray(bnums)\\nbvalues\\n# Iterate through the elements of the bytearray and print each element.\\nfor x in bvalues:\\n    print(x)'), ('x', 99), ('_i9', 'bnums = [10, 20, 56, 35, 17, 99]\\nbvalues = bytearray(bnums)\\nprint(bvalues)\\n# Iterate through the elements of the bytearray and print each element.\\nfor x in bvalues:\\n    print(x)'), ('_i10', 'afloat = 9.12314\\nafloat.round(3)'), ('afloat', 9.12314), ('_i11', 'afloat = 9.12314\\nround(afloat,3)'), ('_11', 9.123), ('_i12', 'locals()'), ('_12', {'__name__': '__main__', '__doc__': 'Automatically created module for IPython interactive environment', '__package__': None, '__loader__': None, '__spec__': None, '__builtin__': <module 'builtins' (built-in)>, '__builtins__': <module 'builtins' (built-in)>, '_ih': ['', 'import os\\nos.environ', 'import os.path as path\\ndef path_divide(apath):\\n  print(f\\'{apath}:{path.splittext(apath)}\\')\\n\\npath_divide(\"wada.xp\")', 'import os.path as path\\ndef path_divide(apath):\\n  print(f\\'{apath}:{path.splitext(apath)}\\')\\n\\npath_divide(\"wada.xp\")', 'print(\"True\") if id(\"String\") == id(\"String\")', 'print(\"True\") if id(\"String\") == id(\"String\") else \"False\"', 'bnums = [10, 20, 56, 35, 17, 99]\\nbvalues = bytearray(bnums)\\nbvalues', 'bnums = [10, 20, 56, 35, 17, 99]\\nbvalues = bytearray(bnums)\\nbvalues\\n# Iterate through the elements of the bytearray and print each element.\\nfor x in values:\\n    print(x)', 'bnums = [10, 20, 56, 35, 17, 99]\\nbvalues = bytearray(bnums)\\nbvalues\\n# Iterate through the elements of the bytearray and print each element.\\nfor x in bvalues:\\n    print(x)', 'bnums = [10, 20, 56, 35, 17, 99]\\nbvalues = bytearray(bnums)\\nprint(bvalues)\\n# Iterate through the elements of the bytearray and print each element.\\nfor x in bvalues:\\n    print(x)', 'afloat = 9.12314\\nafloat.round(3)', 'afloat = 9.12314\\nround(afloat,3)', 'locals()', 'print(\"True\") if isinstance(\\'__main__\\', locals().items()', 'print(\"True\") if isinstance(\\'__main__\\', locals().items() else \"False\"', 'print(\"True\") if isinstance(\\'__main__\\', locals().items()) else \"False\"', 'print(\"True\") if \\'__main__\\' in locals().items() else \"False\"', 'locals.items()', 'locals().items()', 'locals().values()'], '_oh': {1: environ({'SHELL': '/bin/bash', 'NV_LIBCUBLAS_VERSION': '12.2.5.6-1', 'NVIDIA_VISIBLE_DEVICES': 'all', 'COLAB_JUPYTER_TRANSPORT': 'ipc', 'NV_NVML_DEV_VERSION': '12.2.140-1', 'NV_CUDNN_PACKAGE_NAME': 'libcudnn8', 'CGROUP_MEMORY_EVENTS': '/sys/fs/cgroup/memory.events /var/colab/cgroup/jupyter-children/memory.events', 'NV_LIBNCCL_DEV_PACKAGE': 'libnccl-dev=2.19.3-1+cuda12.2', 'NV_LIBNCCL_DEV_PACKAGE_VERSION': '2.19.3-1', 'VM_GCE_METADATA_HOST': '169.254.169.253', 'HOSTNAME': '57645698dfef', 'LANGUAGE': 'en_US', 'TBE_RUNTIME_ADDR': '172.28.0.1:8011', 'COLAB_TPU_1VM': '', 'GCE_METADATA_TIMEOUT': '3', 'NVIDIA_REQUIRE_CUDA': 'cuda>=12.2 brand=tesla,driver>=470,driver<471 brand=unknown,driver>=470,driver<471 brand=nvidia,driver>=470,driver<471 brand=nvidiartx,driver>=470,driver<471 brand=geforce,driver>=470,driver<471 brand=geforcertx,driver>=470,driver<471 brand=quadro,driver>=470,driver<471 brand=quadrortx,driver>=470,driver<471 brand=titan,driver>=470,driver<471 brand=titanrtx,driver>=470,driver<471 brand=tesla,driver>=525,driver<526 brand=unknown,driver>=525,driver<526 brand=nvidia,driver>=525,driver<526 brand=nvidiartx,driver>=525,driver<526 brand=geforce,driver>=525,driver<526 brand=geforcertx,driver>=525,driver<526 brand=quadro,driver>=525,driver<526 brand=quadrortx,driver>=525,driver<526 brand=titan,driver>=525,driver<526 brand=titanrtx,driver>=525,driver<526', 'NV_LIBCUBLAS_DEV_PACKAGE': 'libcublas-dev-12-2=12.2.5.6-1', 'NV_NVTX_VERSION': '12.2.140-1', 'COLAB_JUPYTER_IP': '172.28.0.12', 'NV_CUDA_CUDART_DEV_VERSION': '12.2.140-1', 'NV_LIBCUSPARSE_VERSION': '12.1.2.141-1', 'COLAB_LANGUAGE_SERVER_PROXY_ROOT_URL': 'http://172.28.0.1:8013/', 'NV_LIBNPP_VERSION': '12.2.1.4-1', 'NCCL_VERSION': '2.19.3-1', 'KMP_LISTEN_PORT': '6000', 'TF_FORCE_GPU_ALLOW_GROWTH': 'true', 'ENV': '/root/.bashrc', 'PWD': '/', 'COLAB_LANGUAGE_SERVER_PROXY_REQUEST_TIMEOUT': '30s', 'TBE_EPHEM_CREDS_ADDR': '172.28.0.1:8009', 'TBE_CREDS_ADDR': '172.28.0.1:8008', 'NV_CUDNN_PACKAGE': 'libcudnn8=8.9.6.50-1+cuda12.2', 'NVIDIA_DRIVER_CAPABILITIES': 'compute,utility', 'COLAB_JUPYTER_TOKEN': '', 'LAST_FORCED_REBUILD': '20240627', 'NV_NVPROF_DEV_PACKAGE': 'cuda-nvprof-12-2=12.2.142-1', 'NV_LIBNPP_PACKAGE': 'libnpp-12-2=12.2.1.4-1', 'NV_LIBNCCL_DEV_PACKAGE_NAME': 'libnccl-dev', 'TCLLIBPATH': '/usr/share/tcltk/tcllib1.20', 'NV_LIBCUBLAS_DEV_VERSION': '12.2.5.6-1', 'NVIDIA_PRODUCT_NAME': 'CUDA', 'COLAB_KERNEL_MANAGER_PROXY_HOST': '172.28.0.12', 'NV_LIBCUBLAS_DEV_PACKAGE_NAME': 'libcublas-dev-12-2', 'NV_CUDA_CUDART_VERSION': '12.2.140-1', 'COLAB_WARMUP_DEFAULTS': '1', 'HOME': '/root', 'LANG': 'en_US.UTF-8', 'COLUMNS': '100', 'CUDA_VERSION': '12.2.2', 'CLOUDSDK_CONFIG': '/content/.config', 'NV_LIBCUBLAS_PACKAGE': 'libcublas-12-2=12.2.5.6-1', 'NV_CUDA_NSIGHT_COMPUTE_DEV_PACKAGE': 'cuda-nsight-compute-12-2=12.2.2-1', 'COLAB_RELEASE_TAG': 'release-colab_20240910-060204_RC00', 'KMP_TARGET_PORT': '9000', 'KMP_EXTRA_ARGS': '--logtostderr --listen_host=172.28.0.12 --target_host=172.28.0.12 --tunnel_background_save_url=https://colab.research.google.com/tun/m/cc48301118ce562b961b3c22d803539adc1e0c19/m-s-yysr7zal1kwx --tunnel_background_save_delay=10s --tunnel_periodic_background_save_frequency=30m0s --enable_output_coalescing=true --output_coalescing_required=true --log_code_content', 'NV_LIBNPP_DEV_PACKAGE': 'libnpp-dev-12-2=12.2.1.4-1', 'COLAB_LANGUAGE_SERVER_PROXY_LSP_DIRS': '/datalab/web/pyright/typeshed-fallback/stdlib,/usr/local/lib/python3.10/dist-packages', 'NV_LIBCUBLAS_PACKAGE_NAME': 'libcublas-12-2', 'COLAB_KERNEL_MANAGER_PROXY_PORT': '6000', 'CLOUDSDK_PYTHON': 'python3', 'NV_LIBNPP_DEV_VERSION': '12.2.1.4-1', 'NO_GCE_CHECK': 'False', 'PYTHONPATH': '/env/python', 'NV_LIBCUSPARSE_DEV_VERSION': '12.1.2.141-1', 'LIBRARY_PATH': '/usr/local/cuda/lib64/stubs', 'NV_CUDNN_VERSION': '8.9.6.50', 'SHLVL': '0', 'NV_CUDA_LIB_VERSION': '12.2.2-1', 'COLAB_LANGUAGE_SERVER_PROXY': '/usr/colab/bin/language_service', 'NVARCH': 'x86_64', 'NV_CUDNN_PACKAGE_DEV': 'libcudnn8-dev=8.9.6.50-1+cuda12.2', 'NV_CUDA_COMPAT_PACKAGE': 'cuda-compat-12-2', 'NV_LIBNCCL_PACKAGE': 'libnccl2=2.19.3-1+cuda12.2', 'LD_LIBRARY_PATH': '/usr/local/nvidia/lib:/usr/local/nvidia/lib64', 'COLAB_GPU': '', 'NV_CUDA_NSIGHT_COMPUTE_VERSION': '12.2.2-1', 'GCS_READ_CACHE_BLOCK_SIZE_MB': '16', 'NV_NVPROF_VERSION': '12.2.142-1', 'LC_ALL': 'en_US.UTF-8', 'COLAB_FILE_HANDLER_ADDR': 'localhost:3453', 'PATH': '/opt/bin:/usr/local/nvidia/bin:/usr/local/cuda/bin:/usr/local/sbin:/usr/local/bin:/usr/sbin:/usr/bin:/sbin:/bin:/tools/node/bin:/tools/google-cloud-sdk/bin', 'NV_LIBNCCL_PACKAGE_NAME': 'libnccl2', 'COLAB_DEBUG_ADAPTER_MUX_PATH': '/usr/local/bin/dap_multiplexer', 'NV_LIBNCCL_PACKAGE_VERSION': '2.19.3-1', 'PYTHONWARNINGS': 'ignore:::pip._internal.cli.base_command', 'DEBIAN_FRONTEND': 'noninteractive', 'COLAB_BACKEND_VERSION': 'next', 'OLDPWD': '/', 'JPY_PARENT_PID': '88', 'TERM': 'xterm-color', 'CLICOLOR': '1', 'PAGER': 'cat', 'GIT_PAGER': 'cat', 'MPLBACKEND': 'module://ipykernel.pylab.backend_inline', 'ENABLE_DIRECTORYPREFETCHER': '1', 'USE_AUTH_EPHEM': '1', 'PYDEVD_USE_FRAME_EVAL': 'NO'}), 6: bytearray(b'\\n\\x148#\\x11c'), 11: 9.123, 12: {...}, 16: 'False', 18: ...}, '_dh': ['/content'], 'In': ['', 'import os\\nos.environ', 'import os.path as path\\ndef path_divide(apath):\\n  print(f\\'{apath}:{path.splittext(apath)}\\')\\n\\npath_divide(\"wada.xp\")', 'import os.path as path\\ndef path_divide(apath):\\n  print(f\\'{apath}:{path.splitext(apath)}\\')\\n\\npath_divide(\"wada.xp\")', 'print(\"True\") if id(\"String\") == id(\"String\")', 'print(\"True\") if id(\"String\") == id(\"String\") else \"False\"', 'bnums = [10, 20, 56, 35, 17, 99]\\nbvalues = bytearray(bnums)\\nbvalues', 'bnums = [10, 20, 56, 35, 17, 99]\\nbvalues = bytearray(bnums)\\nbvalues\\n# Iterate through the elements of the bytearray and print each element.\\nfor x in values:\\n    print(x)', 'bnums = [10, 20, 56, 35, 17, 99]\\nbvalues = bytearray(bnums)\\nbvalues\\n# Iterate through the elements of the bytearray and print each element.\\nfor x in bvalues:\\n    print(x)', 'bnums = [10, 20, 56, 35, 17, 99]\\nbvalues = bytearray(bnums)\\nprint(bvalues)\\n# Iterate through the elements of the bytearray and print each element.\\nfor x in bvalues:\\n    print(x)', 'afloat = 9.12314\\nafloat.round(3)', 'afloat = 9.12314\\nround(afloat,3)', 'locals()', 'print(\"True\") if isinstance(\\'__main__\\', locals().items()', 'print(\"True\") if isinstance(\\'__main__\\', locals().items() else \"False\"', 'print(\"True\") if isinstance(\\'__main__\\', locals().items()) else \"False\"', 'print(\"True\") if \\'__main__\\' in locals().items() else \"False\"', 'locals.items()', 'locals().items()', 'locals().values()'], 'Out': {1: environ({'SHELL': '/bin/bash', 'NV_LIBCUBLAS_VERSION': '12.2.5.6-1', 'NVIDIA_VISIBLE_DEVICES': 'all', 'COLAB_JUPYTER_TRANSPORT': 'ipc', 'NV_NVML_DEV_VERSION': '12.2.140-1', 'NV_CUDNN_PACKAGE_NAME': 'libcudnn8', 'CGROUP_MEMORY_EVENTS': '/sys/fs/cgroup/memory.events /var/colab/cgroup/jupyter-children/memory.events', 'NV_LIBNCCL_DEV_PACKAGE': 'libnccl-dev=2.19.3-1+cuda12.2', 'NV_LIBNCCL_DEV_PACKAGE_VERSION': '2.19.3-1', 'VM_GCE_METADATA_HOST': '169.254.169.253', 'HOSTNAME': '57645698dfef', 'LANGUAGE': 'en_US', 'TBE_RUNTIME_ADDR': '172.28.0.1:8011', 'COLAB_TPU_1VM': '', 'GCE_METADATA_TIMEOUT': '3', 'NVIDIA_REQUIRE_CUDA': 'cuda>=12.2 brand=tesla,driver>=470,driver<471 brand=unknown,driver>=470,driver<471 brand=nvidia,driver>=470,driver<471 brand=nvidiartx,driver>=470,driver<471 brand=geforce,driver>=470,driver<471 brand=geforcertx,driver>=470,driver<471 brand=quadro,driver>=470,driver<471 brand=quadrortx,driver>=470,driver<471 brand=titan,driver>=470,driver<471 brand=titanrtx,driver>=470,driver<471 brand=tesla,driver>=525,driver<526 brand=unknown,driver>=525,driver<526 brand=nvidia,driver>=525,driver<526 brand=nvidiartx,driver>=525,driver<526 brand=geforce,driver>=525,driver<526 brand=geforcertx,driver>=525,driver<526 brand=quadro,driver>=525,driver<526 brand=quadrortx,driver>=525,driver<526 brand=titan,driver>=525,driver<526 brand=titanrtx,driver>=525,driver<526', 'NV_LIBCUBLAS_DEV_PACKAGE': 'libcublas-dev-12-2=12.2.5.6-1', 'NV_NVTX_VERSION': '12.2.140-1', 'COLAB_JUPYTER_IP': '172.28.0.12', 'NV_CUDA_CUDART_DEV_VERSION': '12.2.140-1', 'NV_LIBCUSPARSE_VERSION': '12.1.2.141-1', 'COLAB_LANGUAGE_SERVER_PROXY_ROOT_URL': 'http://172.28.0.1:8013/', 'NV_LIBNPP_VERSION': '12.2.1.4-1', 'NCCL_VERSION': '2.19.3-1', 'KMP_LISTEN_PORT': '6000', 'TF_FORCE_GPU_ALLOW_GROWTH': 'true', 'ENV': '/root/.bashrc', 'PWD': '/', 'COLAB_LANGUAGE_SERVER_PROXY_REQUEST_TIMEOUT': '30s', 'TBE_EPHEM_CREDS_ADDR': '172.28.0.1:8009', 'TBE_CREDS_ADDR': '172.28.0.1:8008', 'NV_CUDNN_PACKAGE': 'libcudnn8=8.9.6.50-1+cuda12.2', 'NVIDIA_DRIVER_CAPABILITIES': 'compute,utility', 'COLAB_JUPYTER_TOKEN': '', 'LAST_FORCED_REBUILD': '20240627', 'NV_NVPROF_DEV_PACKAGE': 'cuda-nvprof-12-2=12.2.142-1', 'NV_LIBNPP_PACKAGE': 'libnpp-12-2=12.2.1.4-1', 'NV_LIBNCCL_DEV_PACKAGE_NAME': 'libnccl-dev', 'TCLLIBPATH': '/usr/share/tcltk/tcllib1.20', 'NV_LIBCUBLAS_DEV_VERSION': '12.2.5.6-1', 'NVIDIA_PRODUCT_NAME': 'CUDA', 'COLAB_KERNEL_MANAGER_PROXY_HOST': '172.28.0.12', 'NV_LIBCUBLAS_DEV_PACKAGE_NAME': 'libcublas-dev-12-2', 'NV_CUDA_CUDART_VERSION': '12.2.140-1', 'COLAB_WARMUP_DEFAULTS': '1', 'HOME': '/root', 'LANG': 'en_US.UTF-8', 'COLUMNS': '100', 'CUDA_VERSION': '12.2.2', 'CLOUDSDK_CONFIG': '/content/.config', 'NV_LIBCUBLAS_PACKAGE': 'libcublas-12-2=12.2.5.6-1', 'NV_CUDA_NSIGHT_COMPUTE_DEV_PACKAGE': 'cuda-nsight-compute-12-2=12.2.2-1', 'COLAB_RELEASE_TAG': 'release-colab_20240910-060204_RC00', 'KMP_TARGET_PORT': '9000', 'KMP_EXTRA_ARGS': '--logtostderr --listen_host=172.28.0.12 --target_host=172.28.0.12 --tunnel_background_save_url=https://colab.research.google.com/tun/m/cc48301118ce562b961b3c22d803539adc1e0c19/m-s-yysr7zal1kwx --tunnel_background_save_delay=10s --tunnel_periodic_background_save_frequency=30m0s --enable_output_coalescing=true --output_coalescing_required=true --log_code_content', 'NV_LIBNPP_DEV_PACKAGE': 'libnpp-dev-12-2=12.2.1.4-1', 'COLAB_LANGUAGE_SERVER_PROXY_LSP_DIRS': '/datalab/web/pyright/typeshed-fallback/stdlib,/usr/local/lib/python3.10/dist-packages', 'NV_LIBCUBLAS_PACKAGE_NAME': 'libcublas-12-2', 'COLAB_KERNEL_MANAGER_PROXY_PORT': '6000', 'CLOUDSDK_PYTHON': 'python3', 'NV_LIBNPP_DEV_VERSION': '12.2.1.4-1', 'NO_GCE_CHECK': 'False', 'PYTHONPATH': '/env/python', 'NV_LIBCUSPARSE_DEV_VERSION': '12.1.2.141-1', 'LIBRARY_PATH': '/usr/local/cuda/lib64/stubs', 'NV_CUDNN_VERSION': '8.9.6.50', 'SHLVL': '0', 'NV_CUDA_LIB_VERSION': '12.2.2-1', 'COLAB_LANGUAGE_SERVER_PROXY': '/usr/colab/bin/language_service', 'NVARCH': 'x86_64', 'NV_CUDNN_PACKAGE_DEV': 'libcudnn8-dev=8.9.6.50-1+cuda12.2', 'NV_CUDA_COMPAT_PACKAGE': 'cuda-compat-12-2', 'NV_LIBNCCL_PACKAGE': 'libnccl2=2.19.3-1+cuda12.2', 'LD_LIBRARY_PATH': '/usr/local/nvidia/lib:/usr/local/nvidia/lib64', 'COLAB_GPU': '', 'NV_CUDA_NSIGHT_COMPUTE_VERSION': '12.2.2-1', 'GCS_READ_CACHE_BLOCK_SIZE_MB': '16', 'NV_NVPROF_VERSION': '12.2.142-1', 'LC_ALL': 'en_US.UTF-8', 'COLAB_FILE_HANDLER_ADDR': 'localhost:3453', 'PATH': '/opt/bin:/usr/local/nvidia/bin:/usr/local/cuda/bin:/usr/local/sbin:/usr/local/bin:/usr/sbin:/usr/bin:/sbin:/bin:/tools/node/bin:/tools/google-cloud-sdk/bin', 'NV_LIBNCCL_PACKAGE_NAME': 'libnccl2', 'COLAB_DEBUG_ADAPTER_MUX_PATH': '/usr/local/bin/dap_multiplexer', 'NV_LIBNCCL_PACKAGE_VERSION': '2.19.3-1', 'PYTHONWARNINGS': 'ignore:::pip._internal.cli.base_command', 'DEBIAN_FRONTEND': 'noninteractive', 'COLAB_BACKEND_VERSION': 'next', 'OLDPWD': '/', 'JPY_PARENT_PID': '88', 'TERM': 'xterm-color', 'CLICOLOR': '1', 'PAGER': 'cat', 'GIT_PAGER': 'cat', 'MPLBACKEND': 'module://ipykernel.pylab.backend_inline', 'ENABLE_DIRECTORYPREFETCHER': '1', 'USE_AUTH_EPHEM': '1', 'PYDEVD_USE_FRAME_EVAL': 'NO'}), 6: bytearray(b'\\n\\x148#\\x11c'), 11: 9.123, 12: {...}, 16: 'False', 18: ...}, 'get_ipython': <bound method InteractiveShell.get_ipython of <google.colab._shell.Shell object at 0x7b1bb296e710>>, 'exit': <IPython.core.autocall.ZMQExitAutocall object at 0x7b1bb296dbd0>, 'quit': <IPython.core.autocall.ZMQExitAutocall object at 0x7b1bb296dbd0>, '_': ..., '__': 'False', '___': {...}, '_i': 'locals().items()', '_ii': 'locals.items()', '_iii': 'print(\"True\") if \\'__main__\\' in locals().items() else \"False\"', '_i1': 'import os\\nos.environ', 'os': <module 'os' from '/usr/lib/python3.10/os.py'>, '_1': environ({'SHELL': '/bin/bash', 'NV_LIBCUBLAS_VERSION': '12.2.5.6-1', 'NVIDIA_VISIBLE_DEVICES': 'all', 'COLAB_JUPYTER_TRANSPORT': 'ipc', 'NV_NVML_DEV_VERSION': '12.2.140-1', 'NV_CUDNN_PACKAGE_NAME': 'libcudnn8', 'CGROUP_MEMORY_EVENTS': '/sys/fs/cgroup/memory.events /var/colab/cgroup/jupyter-children/memory.events', 'NV_LIBNCCL_DEV_PACKAGE': 'libnccl-dev=2.19.3-1+cuda12.2', 'NV_LIBNCCL_DEV_PACKAGE_VERSION': '2.19.3-1', 'VM_GCE_METADATA_HOST': '169.254.169.253', 'HOSTNAME': '57645698dfef', 'LANGUAGE': 'en_US', 'TBE_RUNTIME_ADDR': '172.28.0.1:8011', 'COLAB_TPU_1VM': '', 'GCE_METADATA_TIMEOUT': '3', 'NVIDIA_REQUIRE_CUDA': 'cuda>=12.2 brand=tesla,driver>=470,driver<471 brand=unknown,driver>=470,driver<471 brand=nvidia,driver>=470,driver<471 brand=nvidiartx,driver>=470,driver<471 brand=geforce,driver>=470,driver<471 brand=geforcertx,driver>=470,driver<471 brand=quadro,driver>=470,driver<471 brand=quadrortx,driver>=470,driver<471 brand=titan,driver>=470,driver<471 brand=titanrtx,driver>=470,driver<471 brand=tesla,driver>=525,driver<526 brand=unknown,driver>=525,driver<526 brand=nvidia,driver>=525,driver<526 brand=nvidiartx,driver>=525,driver<526 brand=geforce,driver>=525,driver<526 brand=geforcertx,driver>=525,driver<526 brand=quadro,driver>=525,driver<526 brand=quadrortx,driver>=525,driver<526 brand=titan,driver>=525,driver<526 brand=titanrtx,driver>=525,driver<526', 'NV_LIBCUBLAS_DEV_PACKAGE': 'libcublas-dev-12-2=12.2.5.6-1', 'NV_NVTX_VERSION': '12.2.140-1', 'COLAB_JUPYTER_IP': '172.28.0.12', 'NV_CUDA_CUDART_DEV_VERSION': '12.2.140-1', 'NV_LIBCUSPARSE_VERSION': '12.1.2.141-1', 'COLAB_LANGUAGE_SERVER_PROXY_ROOT_URL': 'http://172.28.0.1:8013/', 'NV_LIBNPP_VERSION': '12.2.1.4-1', 'NCCL_VERSION': '2.19.3-1', 'KMP_LISTEN_PORT': '6000', 'TF_FORCE_GPU_ALLOW_GROWTH': 'true', 'ENV': '/root/.bashrc', 'PWD': '/', 'COLAB_LANGUAGE_SERVER_PROXY_REQUEST_TIMEOUT': '30s', 'TBE_EPHEM_CREDS_ADDR': '172.28.0.1:8009', 'TBE_CREDS_ADDR': '172.28.0.1:8008', 'NV_CUDNN_PACKAGE': 'libcudnn8=8.9.6.50-1+cuda12.2', 'NVIDIA_DRIVER_CAPABILITIES': 'compute,utility', 'COLAB_JUPYTER_TOKEN': '', 'LAST_FORCED_REBUILD': '20240627', 'NV_NVPROF_DEV_PACKAGE': 'cuda-nvprof-12-2=12.2.142-1', 'NV_LIBNPP_PACKAGE': 'libnpp-12-2=12.2.1.4-1', 'NV_LIBNCCL_DEV_PACKAGE_NAME': 'libnccl-dev', 'TCLLIBPATH': '/usr/share/tcltk/tcllib1.20', 'NV_LIBCUBLAS_DEV_VERSION': '12.2.5.6-1', 'NVIDIA_PRODUCT_NAME': 'CUDA', 'COLAB_KERNEL_MANAGER_PROXY_HOST': '172.28.0.12', 'NV_LIBCUBLAS_DEV_PACKAGE_NAME': 'libcublas-dev-12-2', 'NV_CUDA_CUDART_VERSION': '12.2.140-1', 'COLAB_WARMUP_DEFAULTS': '1', 'HOME': '/root', 'LANG': 'en_US.UTF-8', 'COLUMNS': '100', 'CUDA_VERSION': '12.2.2', 'CLOUDSDK_CONFIG': '/content/.config', 'NV_LIBCUBLAS_PACKAGE': 'libcublas-12-2=12.2.5.6-1', 'NV_CUDA_NSIGHT_COMPUTE_DEV_PACKAGE': 'cuda-nsight-compute-12-2=12.2.2-1', 'COLAB_RELEASE_TAG': 'release-colab_20240910-060204_RC00', 'KMP_TARGET_PORT': '9000', 'KMP_EXTRA_ARGS': '--logtostderr --listen_host=172.28.0.12 --target_host=172.28.0.12 --tunnel_background_save_url=https://colab.research.google.com/tun/m/cc48301118ce562b961b3c22d803539adc1e0c19/m-s-yysr7zal1kwx --tunnel_background_save_delay=10s --tunnel_periodic_background_save_frequency=30m0s --enable_output_coalescing=true --output_coalescing_required=true --log_code_content', 'NV_LIBNPP_DEV_PACKAGE': 'libnpp-dev-12-2=12.2.1.4-1', 'COLAB_LANGUAGE_SERVER_PROXY_LSP_DIRS': '/datalab/web/pyright/typeshed-fallback/stdlib,/usr/local/lib/python3.10/dist-packages', 'NV_LIBCUBLAS_PACKAGE_NAME': 'libcublas-12-2', 'COLAB_KERNEL_MANAGER_PROXY_PORT': '6000', 'CLOUDSDK_PYTHON': 'python3', 'NV_LIBNPP_DEV_VERSION': '12.2.1.4-1', 'NO_GCE_CHECK': 'False', 'PYTHONPATH': '/env/python', 'NV_LIBCUSPARSE_DEV_VERSION': '12.1.2.141-1', 'LIBRARY_PATH': '/usr/local/cuda/lib64/stubs', 'NV_CUDNN_VERSION': '8.9.6.50', 'SHLVL': '0', 'NV_CUDA_LIB_VERSION': '12.2.2-1', 'COLAB_LANGUAGE_SERVER_PROXY': '/usr/colab/bin/language_service', 'NVARCH': 'x86_64', 'NV_CUDNN_PACKAGE_DEV': 'libcudnn8-dev=8.9.6.50-1+cuda12.2', 'NV_CUDA_COMPAT_PACKAGE': 'cuda-compat-12-2', 'NV_LIBNCCL_PACKAGE': 'libnccl2=2.19.3-1+cuda12.2', 'LD_LIBRARY_PATH': '/usr/local/nvidia/lib:/usr/local/nvidia/lib64', 'COLAB_GPU': '', 'NV_CUDA_NSIGHT_COMPUTE_VERSION': '12.2.2-1', 'GCS_READ_CACHE_BLOCK_SIZE_MB': '16', 'NV_NVPROF_VERSION': '12.2.142-1', 'LC_ALL': 'en_US.UTF-8', 'COLAB_FILE_HANDLER_ADDR': 'localhost:3453', 'PATH': '/opt/bin:/usr/local/nvidia/bin:/usr/local/cuda/bin:/usr/local/sbin:/usr/local/bin:/usr/sbin:/usr/bin:/sbin:/bin:/tools/node/bin:/tools/google-cloud-sdk/bin', 'NV_LIBNCCL_PACKAGE_NAME': 'libnccl2', 'COLAB_DEBUG_ADAPTER_MUX_PATH': '/usr/local/bin/dap_multiplexer', 'NV_LIBNCCL_PACKAGE_VERSION': '2.19.3-1', 'PYTHONWARNINGS': 'ignore:::pip._internal.cli.base_command', 'DEBIAN_FRONTEND': 'noninteractive', 'COLAB_BACKEND_VERSION': 'next', 'OLDPWD': '/', 'JPY_PARENT_PID': '88', 'TERM': 'xterm-color', 'CLICOLOR': '1', 'PAGER': 'cat', 'GIT_PAGER': 'cat', 'MPLBACKEND': 'module://ipykernel.pylab.backend_inline', 'ENABLE_DIRECTORYPREFETCHER': '1', 'USE_AUTH_EPHEM': '1', 'PYDEVD_USE_FRAME_EVAL': 'NO'}), '_i2': 'import os.path as path\\ndef path_divide(apath):\\n  print(f\\'{apath}:{path.splittext(apath)}\\')\\n\\npath_divide(\"wada.xp\")', 'path': <module 'posixpath' from '/usr/lib/python3.10/posixpath.py'>, 'path_divide': <function path_divide at 0x7b1ba03a5fc0>, '_i3': 'import os.path as path\\ndef path_divide(apath):\\n  print(f\\'{apath}:{path.splitext(apath)}\\')\\n\\npath_divide(\"wada.xp\")', '_i4': 'print(\"True\") if id(\"String\") == id(\"String\")', '_i5': 'print(\"True\") if id(\"String\") == id(\"String\") else \"False\"', '_i6': 'bnums = [10, 20, 56, 35, 17, 99]\\nbvalues = bytearray(bnums)\\nbvalues', 'bnums': [10, 20, 56, 35, 17, 99], 'bvalues': bytearray(b'\\n\\x148#\\x11c'), '_6': bytearray(b'\\n\\x148#\\x11c'), '_i7': 'bnums = [10, 20, 56, 35, 17, 99]\\nbvalues = bytearray(bnums)\\nbvalues\\n# Iterate through the elements of the bytearray and print each element.\\nfor x in values:\\n    print(x)', '_i8': 'bnums = [10, 20, 56, 35, 17, 99]\\nbvalues = bytearray(bnums)\\nbvalues\\n# Iterate through the elements of the bytearray and print each element.\\nfor x in bvalues:\\n    print(x)', 'x': 99, '_i9': 'bnums = [10, 20, 56, 35, 17, 99]\\nbvalues = bytearray(bnums)\\nprint(bvalues)\\n# Iterate through the elements of the bytearray and print each element.\\nfor x in bvalues:\\n    print(x)', '_i10': 'afloat = 9.12314\\nafloat.round(3)', 'afloat': 9.12314, '_i11': 'afloat = 9.12314\\nround(afloat,3)', '_11': 9.123, '_i12': 'locals()', '_12': {...}, '_i13': 'print(\"True\") if isinstance(\\'__main__\\', locals().items()', '_i14': 'print(\"True\") if isinstance(\\'__main__\\', locals().items() else \"False\"', '_i15': 'print(\"True\") if isinstance(\\'__main__\\', locals().items()) else \"False\"', '_i16': 'print(\"True\") if \\'__main__\\' in locals().items() else \"False\"', '_16': 'False', '_i17': 'locals.items()', '_i18': 'locals().items()', '_18': ..., '_i19': 'locals().values()'}), ('_i13', 'print(\"True\") if isinstance(\\'__main__\\', locals().items()'), ('_i14', 'print(\"True\") if isinstance(\\'__main__\\', locals().items() else \"False\"'), ('_i15', 'print(\"True\") if isinstance(\\'__main__\\', locals().items()) else \"False\"'), ('_i16', 'print(\"True\") if \\'__main__\\' in locals().items() else \"False\"'), ('_16', 'False'), ('_i17', 'locals.items()'), ('_i18', 'locals().items()'), ('_18', ...), ('_i19', 'locals().values()')]), 'locals().values()'])"
            ]
          },
          "metadata": {},
          "execution_count": 19
        }
      ]
    },
    {
      "cell_type": "code",
      "source": [
        "print(\"True\") if '__main__' in locals().items() else \"False\""
      ],
      "metadata": {
        "colab": {
          "base_uri": "https://localhost:8080/",
          "height": 35
        },
        "id": "A4SdGBWEK1j6",
        "outputId": "7d49c7b3-30bb-42cf-83d3-29e4b5b621e4"
      },
      "execution_count": null,
      "outputs": [
        {
          "output_type": "execute_result",
          "data": {
            "text/plain": [
              "'False'"
            ],
            "application/vnd.google.colaboratory.intrinsic+json": {
              "type": "string"
            }
          },
          "metadata": {},
          "execution_count": 16
        }
      ]
    },
    {
      "cell_type": "markdown",
      "source": [],
      "metadata": {
        "id": "TpxHG9DuitAV"
      }
    },
    {
      "cell_type": "markdown",
      "source": [
        "121. Write a Python program to determine if a variable is defined or not.\n"
      ],
      "metadata": {
        "id": "RNKNY9FujcCW"
      }
    },
    {
      "cell_type": "code",
      "source": [
        "try:\n",
        "  atensor\n",
        "except NameError:\n",
        "  print(\"Variable is not defined....!\")\n",
        "else:\n",
        "  print(\"Variable is defined.\") # NEP I don't think this is actually necessary. You can leave this one in \"try\""
      ],
      "metadata": {
        "colab": {
          "base_uri": "https://localhost:8080/"
        },
        "id": "Uj2VJKHkLpKZ",
        "outputId": "10e1d31f-ae19-4069-b1f4-d2aa887698d8"
      },
      "execution_count": null,
      "outputs": [
        {
          "output_type": "stream",
          "name": "stdout",
          "text": [
            "Variable is defined.\n"
          ]
        }
      ]
    },
    {
      "cell_type": "code",
      "source": [
        "is_defined = lambda var_name: var_name in locals() or var_name in globals()\n",
        "is_defined(afloat)"
      ],
      "metadata": {
        "colab": {
          "base_uri": "https://localhost:8080/"
        },
        "id": "O81bv5kNna3r",
        "outputId": "e857032b-1d93-4f69-dcb3-149edaf939fb"
      },
      "execution_count": null,
      "outputs": [
        {
          "output_type": "execute_result",
          "data": {
            "text/plain": [
              "False"
            ]
          },
          "metadata": {},
          "execution_count": 38
        }
      ]
    },
    {
      "cell_type": "markdown",
      "source": [
        "123. Write a Python program to determine the largest and smallest integers, longs, and floats.\n",
        "\n",
        "\n",
        "NEP: Be reminded that the newer version of Python does not have long datatype anymore."
      ],
      "metadata": {
        "id": "H_wop9otjtCY"
      }
    },
    {
      "cell_type": "code",
      "source": [
        "from typing import List, Union\n",
        "def determine(list_num: List[Union[int, float]]):\n",
        "  print(f'the largest one is {max(list_num)} and the smallest one is {min(list_num)}')\n",
        "\n",
        "determine([12,243,452.2])\n"
      ],
      "metadata": {
        "colab": {
          "base_uri": "https://localhost:8080/"
        },
        "id": "3QNwyGaPiv8K",
        "outputId": "836ca7a4-f948-4dd4-d80f-9ca30e855616"
      },
      "execution_count": null,
      "outputs": [
        {
          "output_type": "stream",
          "name": "stdout",
          "text": [
            "the largest one is 452.2 and the smallest one is 12\n"
          ]
        }
      ]
    },
    {
      "cell_type": "markdown",
      "source": [
        "### Lessons so far on Sep 12\n",
        "- Lambda: argument(s): expression\n",
        "  - one-off, one-linear, as many arguments but only one expression\n",
        "- You need from typing import List, Union\n",
        " before typing hint\n",
        "- long is retired python2 datatype\n",
        "- bytearray, if print out directly, gives you bytearray, but if looped through with for, gives you a list of byte in int (0-255)"
      ],
      "metadata": {
        "id": "15XkvcJRoVy6"
      }
    },
    {
      "cell_type": "markdown",
      "source": [
        "128. Write a Python program to check whether lowercase letters exist in a string.\n"
      ],
      "metadata": {
        "id": "ibOHK39liHfc"
      }
    },
    {
      "cell_type": "code",
      "source": [
        "string_lower = \"SFHWYAHBPFWS\"\n",
        "\n",
        "print(any(c.islower() for c in string_lower))"
      ],
      "metadata": {
        "colab": {
          "base_uri": "https://localhost:8080/"
        },
        "id": "Ri4uF5uSkuY-",
        "outputId": "c647de21-675d-40e3-86f4-27239d479485"
      },
      "execution_count": null,
      "outputs": [
        {
          "output_type": "stream",
          "name": "stdout",
          "text": [
            "False\n"
          ]
        }
      ]
    },
    {
      "cell_type": "markdown",
      "source": [
        "### Lessons so far on Sep 13 (meta review and planning)\n",
        "Start with the Python Basics sections to solidify your foundation. Even if you've done the first 150, the second set of 150 could be valuable.\n",
        "Gradually move into more advanced topics, paying special attention to:\n",
        "\n",
        "- Data Types (especially lists, dictionaries, and sets)\n",
        "- Functions and Lambda expressions\n",
        "- File Handling\n",
        "- NumPy and Pandas sections\n",
        "\n",
        "\n",
        "- As you progress, start incorporating the Machine Learning exercises and more advanced NumPy/Pandas problems.\n",
        "\n",
        "Consider alternating between general Python exercises and ML-specific practice (perhaps from other resources) to maintain a balance.\n",
        "For your daily routine, you might structure it like this:\n",
        "\n",
        "10-15 minutes reviewing previous day's concepts\n",
        "30-40 minutes on new exercises\n",
        "5-10 minutes reflecting on what you learned and planning the next day\n",
        "\n",
        "\n",
        "\n"
      ],
      "metadata": {
        "id": "P9yalGQDUQyA"
      }
    },
    {
      "cell_type": "markdown",
      "source": [
        "# Python Basic (Part-II)"
      ],
      "metadata": {
        "id": "Y7_PsXkFU7pe"
      }
    },
    {
      "cell_type": "markdown",
      "source": [
        "1. Write a Python function that takes a sequence of numbers and determines whether all the numbers are different from each other."
      ],
      "metadata": {
        "id": "4q95gdtZU9Dc"
      }
    },
    {
      "cell_type": "code",
      "source": [
        "from typing import Union\n",
        "def seq_diff(seq_p: Union[list, set, tuple]):\n",
        "  if not(seq_p):  # If it's an empty list.\n",
        "    return \"This is an empty list\"\n",
        "  assert all(isinstance(item, (int, float)) for item in seq_p)\n",
        "  return len(seq_p) == len(set(seq_p))\n",
        "\n",
        "seq_diff([1,2,4,5,5])"
      ],
      "metadata": {
        "colab": {
          "base_uri": "https://localhost:8080/"
        },
        "id": "_62e_Ugeijkt",
        "outputId": "5cd5d477-a134-436b-8800-fefdffb2eb48"
      },
      "execution_count": null,
      "outputs": [
        {
          "output_type": "execute_result",
          "data": {
            "text/plain": [
              "False"
            ]
          },
          "metadata": {},
          "execution_count": 8
        }
      ]
    },
    {
      "cell_type": "markdown",
      "source": [
        "### Lessons so far on Sep 14\n",
        "- len(seq_p) == len(set(seq_p)) is a brilliant solution that avoids nested for loops & O(n^2) time complexity.\n",
        "- Always be reminded that you need a robust program that does not fail because a seq might empty but you didn't consider that scenario.\n",
        "= Hash value: assigned to immutable objects, sensitive to values but not position,"
      ],
      "metadata": {
        "id": "H8un7vZbhcnc"
      }
    },
    {
      "cell_type": "markdown",
      "source": [
        "### Lessons so far on Sep 15\n",
        "1/ ''.join(a_collection) is really an annoying thing, because (i) it reverses the order (usually like seperate(',') you'd imagine the separator would come after it (ii) it's not you join an element in the bracket together, but instead you merge *all the element in that collection*. <br>\n",
        "2/ It seems a lot of things you cannot print the thing, but you can iteratively print out the thing, like `iteratool.permutations` here; or with `byte` you'd get the `byte` if you print it out altogether, or each item in `int` if you loop it through. <br>\n",
        "3/ Different ways of removing items from list:\n",
        "  - `list.remove(item)`\n",
        "  - `.pop(index)`\n",
        "  - `del list[index]`\n",
        "  - list slicing `list[1:3]` - removing item indiced at 1 and 2.\n",
        "<br>\n",
        "\n",
        "4/ When you pop out items, indices of items would change. I have not quite considered this thoroughly.\n",
        "\n"
      ],
      "metadata": {
        "id": "mDuA0_s3vcpS"
      }
    },
    {
      "cell_type": "markdown",
      "source": [
        "2. Write a Python program that creates all possible strings using the letters 'a', 'e', 'i', 'o', and 'I'. Ensure that each character is used only once.\n",
        "\n",
        "Thoughts: <br>\n",
        "1/ First intuition is a nested for loop <br>\n",
        "2/ It should have 5! possibilities, 120 <br>\n",
        "3/ Maybe a zip should help. -> No a zip does no help because the list to be looped through is fixed. <br>\n",
        "4/ It turns out to be much more straghtforward than creating an algorithm. Because you just need itertools.permutations"
      ],
      "metadata": {
        "id": "OzlcxDAmvUuz"
      }
    },
    {
      "cell_type": "code",
      "source": [
        "import itertools\n",
        "def all_permutation(list_str):\n",
        "  return [''.join(p) for p in itertools.permutations(list_str)] # each p is one permutation, and ''.join(p) effectively merge all chars within one permutation\n",
        "\n",
        "# Enter our list of strings\n",
        "my_list_str = ['a', 'e', 'i', 'o', 'I']\n",
        "all_permutations = all_permutation(my_list_str)\n",
        "# This effectively create an iterable that by itself just an iterate object\n",
        "# which means you cannot print it out as you do with a list, but you can iteratively print all elements out with a for loop.\n",
        "\n",
        "\n",
        "print(f\"Number of all permutations {len(all_permutations)}\")\n",
        "print(\"All permutations\")\n",
        "for perm in all_permutations:\n",
        "  print(perm)\n",
        "\n"
      ],
      "metadata": {
        "colab": {
          "base_uri": "https://localhost:8080/"
        },
        "collapsed": true,
        "id": "PhQoEt_Q8nQd",
        "outputId": "f8c2c1c7-b8a0-4fc9-a543-17cbef8cad35"
      },
      "execution_count": null,
      "outputs": [
        {
          "output_type": "stream",
          "name": "stdout",
          "text": [
            "Number of all permutations 120\n",
            "All permutations\n",
            "aeioI\n",
            "aeiIo\n",
            "aeoiI\n",
            "aeoIi\n",
            "aeIio\n",
            "aeIoi\n",
            "aieoI\n",
            "aieIo\n",
            "aioeI\n",
            "aioIe\n",
            "aiIeo\n",
            "aiIoe\n",
            "aoeiI\n",
            "aoeIi\n",
            "aoieI\n",
            "aoiIe\n",
            "aoIei\n",
            "aoIie\n",
            "aIeio\n",
            "aIeoi\n",
            "aIieo\n",
            "aIioe\n",
            "aIoei\n",
            "aIoie\n",
            "eaioI\n",
            "eaiIo\n",
            "eaoiI\n",
            "eaoIi\n",
            "eaIio\n",
            "eaIoi\n",
            "eiaoI\n",
            "eiaIo\n",
            "eioaI\n",
            "eioIa\n",
            "eiIao\n",
            "eiIoa\n",
            "eoaiI\n",
            "eoaIi\n",
            "eoiaI\n",
            "eoiIa\n",
            "eoIai\n",
            "eoIia\n",
            "eIaio\n",
            "eIaoi\n",
            "eIiao\n",
            "eIioa\n",
            "eIoai\n",
            "eIoia\n",
            "iaeoI\n",
            "iaeIo\n",
            "iaoeI\n",
            "iaoIe\n",
            "iaIeo\n",
            "iaIoe\n",
            "ieaoI\n",
            "ieaIo\n",
            "ieoaI\n",
            "ieoIa\n",
            "ieIao\n",
            "ieIoa\n",
            "ioaeI\n",
            "ioaIe\n",
            "ioeaI\n",
            "ioeIa\n",
            "ioIae\n",
            "ioIea\n",
            "iIaeo\n",
            "iIaoe\n",
            "iIeao\n",
            "iIeoa\n",
            "iIoae\n",
            "iIoea\n",
            "oaeiI\n",
            "oaeIi\n",
            "oaieI\n",
            "oaiIe\n",
            "oaIei\n",
            "oaIie\n",
            "oeaiI\n",
            "oeaIi\n",
            "oeiaI\n",
            "oeiIa\n",
            "oeIai\n",
            "oeIia\n",
            "oiaeI\n",
            "oiaIe\n",
            "oieaI\n",
            "oieIa\n",
            "oiIae\n",
            "oiIea\n",
            "oIaei\n",
            "oIaie\n",
            "oIeai\n",
            "oIeia\n",
            "oIiae\n",
            "oIiea\n",
            "Iaeio\n",
            "Iaeoi\n",
            "Iaieo\n",
            "Iaioe\n",
            "Iaoei\n",
            "Iaoie\n",
            "Ieaio\n",
            "Ieaoi\n",
            "Ieiao\n",
            "Ieioa\n",
            "Ieoai\n",
            "Ieoia\n",
            "Iiaeo\n",
            "Iiaoe\n",
            "Iieao\n",
            "Iieoa\n",
            "Iioae\n",
            "Iioea\n",
            "Ioaei\n",
            "Ioaie\n",
            "Ioeai\n",
            "Ioeia\n",
            "Ioiae\n",
            "Ioiea\n"
          ]
        }
      ]
    },
    {
      "cell_type": "markdown",
      "source": [
        "### Lessons so far on Sep 16\n",
        "1/ When you want to pop out multiple items from a list, you need a for loop, and you need to pop out from the last item till the first item to not affect indices of following items\n",
        "2/ To access multiple items in a list with a list of indices, you could do `[list[x] for x in indices]`"
      ],
      "metadata": {
        "id": "yJdsIfyJXmoO"
      }
    },
    {
      "cell_type": "markdown",
      "source": [
        "3. Write a Python program that removes and prints every third number from a list of numbers until the list is empty.\n",
        "\n",
        "Considerations here:\n",
        "1/ You need to iterate the list every third item with `list[2::3]`, meaning that you start with the idx2, and every 3 steps. <br>\n",
        "2/ The list to be iterated is dynamic. Each time you remove and print, and therefore you probably needa recursive program. <br>\n",
        "3/ When you have less than three items left, you probably need a different rule."
      ],
      "metadata": {
        "id": "oy-qjLJD_t5o"
      }
    },
    {
      "cell_type": "code",
      "source": [
        "list_list = [3,5,6,1,7,8,3,2]\n",
        "list_idx = [0,1,2]\n",
        "print(\"list_list:\", list_list)\n",
        "for x in list_idx:\n",
        "  list_list.pop(x)\n",
        "print(\"list_list:\", list_list)\n",
        "# NEP You get [5, 1, 8, 3, 2] instead of [1,7,8,3,2] because the indices are changed once you pop item out."
      ],
      "metadata": {
        "colab": {
          "base_uri": "https://localhost:8080/"
        },
        "id": "zy-IEAegPs6Z",
        "outputId": "66578b7e-76fb-4c46-ffc7-2aa83f3efc45"
      },
      "execution_count": null,
      "outputs": [
        {
          "output_type": "stream",
          "name": "stdout",
          "text": [
            "list_list: [3, 5, 6, 1, 7, 8, 3, 2]\n",
            "list_list: [5, 1, 8, 3, 2]\n"
          ]
        }
      ]
    },
    {
      "cell_type": "code",
      "source": [
        "# My code\n",
        "def dynamic_removing(dynamic_list, round):\n",
        "  # Empty list\n",
        "  if not dynamic_list:\n",
        "    return print(\"It's an empty list or all items are pop out\")\n",
        "\n",
        "  # Edge case: When you have less than 3 items, you need different rules to remove.\n",
        "  # Rule here: You need to go through the list repetitively to find the third item\n",
        "  if len(dynamic_list) < 3:\n",
        "    effective_idx = 0  # 3 % len(dynamic_list) - 1  # if len==2, then effectively the 3rd item would be 1st item in 2nd round, and idx 0; if len==1, then effectively the 3rd item would be 1st item in 3rd round, idx 0.\n",
        "    item_out = dynamic_list[effective_idx]\n",
        "    dynamic_list.pop(effective_idx)\n",
        "    print(f'This is {len(dynamic_list)}-nd/st last round of the program, we need to remove the item {item_out}, and remaining items are {dynamic_list}')\n",
        "\n",
        "  else:\n",
        "    # Case here: You have more than 3 items.\n",
        "    # Find every 3rd item, print them out\n",
        "    indices = [idx for idx, _ in enumerate(dynamic_list) if idx % 3 == 2]\n",
        "    items_out = [dynamic_list[x] for x in indices]\n",
        "    # Reverse the order of indices and pop out the lattest the first because the order would change and you'd pop out wrong items if you do this from upfront.\n",
        "    indices_reverse = sorted(indices, reverse=True)\n",
        "    # Remove those 3rd-items\n",
        "    for idx in indices_reverse:\n",
        "      dynamic_list.pop(idx)  # A list of indices identifying items to be pop out.\n",
        "    print(f'The {round}-th round of the program, we need to remove these items: {items_out}, and remaining items are {dynamic_list}')\n",
        "\n",
        "  # Recursive program\n",
        "  return dynamic_removing(dynamic_list, round= round+1) # This is already a new list because those items popped out.\n",
        "\n",
        "dynamic_removing([1,2,3,4,5,6,7,8,9],round=0)\n"
      ],
      "metadata": {
        "colab": {
          "base_uri": "https://localhost:8080/"
        },
        "id": "0x3frJBh_k6c",
        "outputId": "88d81b47-8fd6-4de1-bb1a-068516685020"
      },
      "execution_count": null,
      "outputs": [
        {
          "output_type": "stream",
          "name": "stdout",
          "text": [
            "The 0-th round of the program, we need to remove these items: [3, 6, 9], and remaining items are [1, 2, 4, 5, 7, 8]\n",
            "The 1-th round of the program, we need to remove these items: [4, 8], and remaining items are [1, 2, 5, 7]\n",
            "The 2-th round of the program, we need to remove these items: [5], and remaining items are [1, 2, 7]\n",
            "The 3-th round of the program, we need to remove these items: [7], and remaining items are [1, 2]\n",
            "This is 1-nd/st last round of the program, we need to remove the item 1, and remaining items are [2]\n",
            "This is 0-nd/st last round of the program, we need to remove the item 2, and remaining items are []\n",
            "It's an empty list or all items are pop out\n"
          ]
        }
      ]
    },
    {
      "cell_type": "code",
      "source": [
        "# Not my code\n",
        "# Define a function named 'remove_nums' that takes a list 'int_list' as a parameter.\n",
        "def remove_nums(int_list):\n",
        "    # Set the starting position for removal to the 3rd element (0-based index).\n",
        "    position = 3 - 1\n",
        "    # Initialize the index variable to 0.\n",
        "    idx = 0\n",
        "    # Get the length of the input list.\n",
        "    len_list = len(int_list)\n",
        "\n",
        "    # Continue removing elements until the list is empty.\n",
        "    while len_list > 0:\n",
        "        # Calculate the new index based on the starting position and current index.\n",
        "        idx = (position + idx) % len_list\n",
        "        # Print and remove the element at the calculated index.\n",
        "        print(int_list.pop(idx))\n",
        "        # Decrement the length of the list.\n",
        "        len_list -= 1\n",
        "\n",
        "# Create a list of numbers.\n",
        "nums = [10, 20, 30, 40, 50, 60, 70, 80, 90]\n",
        "\n",
        "# Call the 'remove_nums' function with the list of numbers.\n",
        "remove_nums(nums)\n"
      ],
      "metadata": {
        "id": "JLzT2MkcXfL_"
      },
      "execution_count": null,
      "outputs": []
    },
    {
      "cell_type": "markdown",
      "source": [
        "# List\n",
        "\n",
        "Materials: https://www.w3resource.com/python-exercises/list/\n",
        "Claude helped to hand-pick ~10\n",
        "Prompt:\n",
        "There are 280 exercises here on List! Too many!\n",
        "\n",
        "Could you handpick ~ 10 for my purposes?\n",
        "\n",
        "1/ I have handreds of hours on Python and rather familiar with list in general\n",
        "\n",
        "2/ But a lot of my hours on more advanced topics such as DL, so I don't think I am an advanced Python programmer (for instance, I cannot type 100 lines of code without error) & too good at some advanced list syntax such as list comprehension, indexing (I made a lot of mistakes with indexing on tensor! I think the principles should be transferrable?), zip, list comparison, or some very neat syntax solves problems surprisingly, or any syntax very practical but less known,\n",
        "\n",
        "3/ Sometimes some advanced syntax will always be not too familiar, but hopefully they are not that frequent anyway and you may find a quick answer on Google. We don't need to cover them. It's like speaking a 2nd language. You want to be sophisticated (not just some ~ 500 basic words), but you don't want all your time on those words you only use once in a lifetime.\n",
        "\n",
        "4/ IN the end I still want python skills to serve ML/DL, with a mix of research, engineering, or startup purposes\n",
        "\n"
      ],
      "metadata": {
        "id": "I_qbxNbLcJd5"
      }
    },
    {
      "cell_type": "markdown",
      "source": [
        "### Lessons so far on Sep 17\n",
        "1. I may need to make improvements on advanced list syntax such as list comprehension, indexing (I made a lot of mistakes with indexing on tensor! I think the principles should be transferrable?), zip, list comparison, or some very neat syntax solves problems surprisingly, or any syntax very practical but less known\n"
      ],
      "metadata": {
        "id": "0ThDGrA1i5Uq"
      }
    },
    {
      "cell_type": "markdown",
      "source": [
        "### Lessons so far on Sep 20\n",
        "### Lessons so far on Sep 20\n",
        "1. `alist.reverse()` somehow didn't work for me; but `alist[::-1] worked\n",
        "2. stack is the same as list, you just have the `alist.pop()` and `alist.append()` to pop out the last item or add item in the end.\n",
        "3. `while` works well for iteratively checking. Here we successfully avoid the nested loop to deal with the nested list by deviding the poped-out item into two parts: the clean item ready to be collected, and the remaining list being loaded back to the `while` loop. By doing so we only have one for loop. Genius.\n",
        "4. We want to deal with the end item of the list because `alist.pop()` and `alist.append()` are good from behind."
      ],
      "metadata": {
        "id": "txZCuL7G5YMe"
      }
    },
    {
      "cell_type": "markdown",
      "source": [
        "## Lessons so far on Sep 21\n",
        "I ran my programs (For problem 72) w/ Claude after I ran it here successfully, aiming to get feedback from Claude. Here are some reflefctions: <br>\n",
        "1/ The main simplification can happen with `alist.extend(blist)`, which makes the whole thing much easier. <br>\n",
        "2/ Be aware of \"defaulting things\" in recursion program. Compared to default it as what i did in the function header, you can define a `variable=None` first, and run into `if variable == None: variable = default_value`. <br>\n",
        "3/ Your program probably would not be able to handle deeply nested program. Be aware.\n"
      ],
      "metadata": {
        "id": "0UqiUx4LJK4z"
      }
    },
    {
      "cell_type": "markdown",
      "source": [
        "72. Write a Python program to flatten a given nested list structure.\n",
        "Original list: `[0, 10, [20, 30], 40, 50, [60, 70, 80], [90, 100, 110, 120]]`\n",
        "Flatten list:\n",
        "`[0, 10, 20, 30, 40, 50, 60, 70, 80, 90, 100, 110, 120]`\n",
        "\n",
        "NEPNOTEs:\n",
        "- Recursively check whether the spotted item is another list.\n",
        "- I also like the idea of defining a stack and just check every element if it's a list or a number. If list it has to be added in the stack. At least, stack is \"last in, first out\" structure."
      ],
      "metadata": {
        "id": "sxVv_xb1hul0"
      }
    },
    {
      "cell_type": "code",
      "source": [
        "test_list = [1,2,3,4,5]\n",
        "list(test_list)"
      ],
      "metadata": {
        "colab": {
          "base_uri": "https://localhost:8080/"
        },
        "id": "tkaOcnc0YPf8",
        "outputId": "24b80919-fe54-4468-c17b-5d30a956b305"
      },
      "execution_count": null,
      "outputs": [
        {
          "output_type": "execute_result",
          "data": {
            "text/plain": [
              "[1, 2, 3, 4, 5]"
            ]
          },
          "metadata": {},
          "execution_count": 2
        }
      ]
    },
    {
      "cell_type": "code",
      "source": [
        "[test_list]"
      ],
      "metadata": {
        "colab": {
          "base_uri": "https://localhost:8080/"
        },
        "id": "Yr_d4TJMyr8-",
        "outputId": "d00d5a75-6ef7-4c74-d4ff-a4e58bcea90e"
      },
      "execution_count": null,
      "outputs": [
        {
          "output_type": "execute_result",
          "data": {
            "text/plain": [
              "[[1, 2, 3, 4, 5]]"
            ]
          },
          "metadata": {},
          "execution_count": 3
        }
      ]
    },
    {
      "cell_type": "code",
      "source": [
        "test_num = 5\n",
        "if not test_num:  # if test_num is empty list or None\n",
        "  print('This is just a number')\n",
        "else:\n",
        "  print(\"Wierd\")"
      ],
      "metadata": {
        "colab": {
          "base_uri": "https://localhost:8080/"
        },
        "id": "N1IlRELYcVba",
        "outputId": "3b2246e3-5b0f-4da9-c560-e97fd5dff3f2"
      },
      "execution_count": null,
      "outputs": [
        {
          "output_type": "stream",
          "name": "stdout",
          "text": [
            "Wierd\n"
          ]
        }
      ]
    },
    {
      "cell_type": "code",
      "source": [
        "def recursive_check(nested_list, result_list = []):\n",
        "  if not nested_list:  # Empty nested_list comes here.\n",
        "    return print(f\"This is now an empty list, and you got the result already {result_list[::-1]}\")\n",
        "\n",
        "  # pop out the tail as long as the nested_list is not empty\n",
        "  tail = nested_list.pop()\n",
        "  # print(f'check out the tail is now {tail}')\n",
        "  if isinstance(tail,list):  # NEP but you also need to consider following elements. I think you need to somehow pop them in if still a list\n",
        "    next, tail = tail.pop(0), tail\n",
        "    nested_list.append(next)  # just an item; first of the tail list\n",
        "    if tail: # make sure the tail list is not empty; otherwise just leave that nasty \"[]\" out.\n",
        "      nested_list.append(tail)\n",
        "    return recursive_check(nested_list, result_list=result_list)\n",
        "\n",
        "  # Adding the new item in if it's just a number at the beginning of the list\n",
        "  else:\n",
        "    result_list.append(tail) # NEP I guess something with recursive program I didn't get it right here.\n",
        "    print(f'result_list is now {result_list}')\n",
        "    return recursive_check(nested_list, result_list=result_list)\n",
        "\n",
        "recursive_check([0, 10, [20, 30], 40, 50, [60, 70, 80], [90, 100, 110, 120]])"
      ],
      "metadata": {
        "colab": {
          "base_uri": "https://localhost:8080/"
        },
        "id": "V2mWllCbapr-",
        "outputId": "c8febbeb-862c-4159-f8d4-64d15794de53"
      },
      "execution_count": null,
      "outputs": [
        {
          "output_type": "stream",
          "name": "stdout",
          "text": [
            "result_list is now [120]\n",
            "result_list is now [120, 110]\n",
            "result_list is now [120, 110, 100]\n",
            "result_list is now [120, 110, 100, 90]\n",
            "result_list is now [120, 110, 100, 90, 80]\n",
            "result_list is now [120, 110, 100, 90, 80, 70]\n",
            "result_list is now [120, 110, 100, 90, 80, 70, 60]\n",
            "result_list is now [120, 110, 100, 90, 80, 70, 60, 50]\n",
            "result_list is now [120, 110, 100, 90, 80, 70, 60, 50, 40]\n",
            "result_list is now [120, 110, 100, 90, 80, 70, 60, 50, 40, 30]\n",
            "result_list is now [120, 110, 100, 90, 80, 70, 60, 50, 40, 30, 20]\n",
            "result_list is now [120, 110, 100, 90, 80, 70, 60, 50, 40, 30, 20, 10]\n",
            "result_list is now [120, 110, 100, 90, 80, 70, 60, 50, 40, 30, 20, 10, 0]\n",
            "This is now an empty list, and you got the result already [0, 10, 20, 30, 40, 50, 60, 70, 80, 90, 100, 110, 120]\n"
          ]
        }
      ]
    },
    {
      "cell_type": "code",
      "source": [
        "# while + stack\n",
        "# while loop will just push item out while keep the list\n",
        "# stack: We want its \"last in first out\" property to deal with the nested list.\n",
        "  # When what you push out is a list, then you need to get then in the end of stack again, but by its original order.\n",
        "def denest(nested_list):\n",
        "  result_list = []\n",
        "  while nested_list: # We go forward as long as it's not empty\n",
        "    tail = nested_list.pop() # If no num in \"()\", then you just pop the last item out.\n",
        "    print(f'check out the tail is now {tail}')\n",
        "\n",
        "    # tail can be a list or an item\n",
        "    if isinstance(tail, list):\n",
        "      next, tail = tail.pop(0), tail # as intended, it will pop out the first item and maintain the rest\n",
        "      nested_list.append(next)\n",
        "      if tail:  # We only add tail list (e.g., [110,120]) back to the nested list when it's not empty\n",
        "        nested_list.append(tail)\n",
        "    else:\n",
        "      result_list.append(tail)  # The tail item pop out from the nested_list and it is not a list by itself.\n",
        "      #print(f'result_list is now {result_list}')\n",
        "\n",
        "  result_list = result_list[::-1]\n",
        "  return f\"nested_list is empty now and the resulting new list is {result_list}\"\n",
        "\n",
        "denest([0, 10, [20, 30], 40, 50, [60, 70, 80], [90, 100, 110, 120]])"
      ],
      "metadata": {
        "id": "fKHkM-OwPa6F",
        "colab": {
          "base_uri": "https://localhost:8080/",
          "height": 428
        },
        "outputId": "58b64165-a793-4daf-832d-146efa70d9f6"
      },
      "execution_count": null,
      "outputs": [
        {
          "output_type": "stream",
          "name": "stdout",
          "text": [
            "check out the tail is now [90, 100, 110, 120]\n",
            "check out the tail is now [100, 110, 120]\n",
            "check out the tail is now [110, 120]\n",
            "check out the tail is now [120]\n",
            "check out the tail is now 120\n",
            "check out the tail is now 110\n",
            "check out the tail is now 100\n",
            "check out the tail is now 90\n",
            "check out the tail is now [60, 70, 80]\n",
            "check out the tail is now [70, 80]\n",
            "check out the tail is now [80]\n",
            "check out the tail is now 80\n",
            "check out the tail is now 70\n",
            "check out the tail is now 60\n",
            "check out the tail is now 50\n",
            "check out the tail is now 40\n",
            "check out the tail is now [20, 30]\n",
            "check out the tail is now [30]\n",
            "check out the tail is now 30\n",
            "check out the tail is now 20\n",
            "check out the tail is now 10\n",
            "check out the tail is now 0\n"
          ]
        },
        {
          "output_type": "execute_result",
          "data": {
            "text/plain": [
              "'nested_list is empty now and the resulting new list is [0, 10, 20, 30, 40, 50, 60, 70, 80, 90, 100, 110, 120]'"
            ],
            "application/vnd.google.colaboratory.intrinsic+json": {
              "type": "string"
            }
          },
          "metadata": {},
          "execution_count": 12
        }
      ]
    },
    {
      "cell_type": "code",
      "source": [
        "# A program by Claude.\n",
        "def flatten_list(nested_list):\n",
        "    flattened = []\n",
        "    for item in nested_list:\n",
        "        if isinstance(item, list):\n",
        "            flattened.extend(flatten_list(item))  # loading items of new list into existing one.\n",
        "        else:\n",
        "            flattened.append(item)\n",
        "    return flattened\n",
        "\n",
        "# Test the function\n",
        "original_list = [0, 10, [20, 30], 40, 50, [60, 70, 80], [90, 100, 110, 120]]\n",
        "result = flatten_list(original_list)\n",
        "print(result)"
      ],
      "metadata": {
        "colab": {
          "base_uri": "https://localhost:8080/"
        },
        "id": "Gd3Jk1IJJesd",
        "outputId": "fa71006c-5599-448e-de71-ae06df4b028e"
      },
      "execution_count": null,
      "outputs": [
        {
          "output_type": "stream",
          "name": "stdout",
          "text": [
            "[0, 10, 20, 30, 40, 50, 60, 70, 80, 90, 100, 110, 120]\n"
          ]
        }
      ]
    },
    {
      "cell_type": "markdown",
      "source": [
        "## Lessons on Sep 21\n",
        "1/ `sorted(list, key=function)` You use key to specific a function, a rule that can be applied to each item in the list. <br>\n",
        "2/ if lambda, then `x` in lambda is an item of the list.<br>\n",
        "3/ `sum()` would turn `True` to `1`"
      ],
      "metadata": {
        "id": "IInqKWq1U32S"
      }
    },
    {
      "cell_type": "markdown",
      "source": [
        "106. Write a Python program to count integers in a given mixed list.\n",
        "Original list:\n",
        "[1, 'abcd', 3, 1.2, 4, 'xyz', 5, 'pqr', 7, -5, -12.22]\n",
        "Number of integers in the said mixed list:\n",
        "6"
      ],
      "metadata": {
        "id": "AfRVThFJN8cN"
      }
    },
    {
      "cell_type": "code",
      "source": [
        "def count_integers(alist):\n",
        "  count = 0\n",
        "  for item in alist:\n",
        "    count += 1 if isinstance(item, int) else 0\n",
        "  return count\n",
        "count_integers([1, 'abcd', 3, 1.2, 4, 'xyz', 5, 'pqr', 7, -5, -12.22])"
      ],
      "metadata": {
        "id": "48w3RweK4IbI",
        "colab": {
          "base_uri": "https://localhost:8080/"
        },
        "outputId": "1ac1104f-262c-4228-e43a-b95d0b1f279e"
      },
      "execution_count": null,
      "outputs": [
        {
          "output_type": "execute_result",
          "data": {
            "text/plain": [
              "6"
            ]
          },
          "metadata": {},
          "execution_count": 7
        }
      ]
    },
    {
      "cell_type": "code",
      "source": [
        "# using list comprehension to make this simpler\n",
        "def count_integers_simple(alist):\n",
        "  return sum(isinstance(item, int) for item in alist)\n",
        "\n",
        "count_integers_simple([1, 'abcd', 3, 1.2, 4, 'xyz', 5, 'pqr', 7, -5, -12.22])"
      ],
      "metadata": {
        "colab": {
          "base_uri": "https://localhost:8080/"
        },
        "id": "QiGyXSleO1Tj",
        "outputId": "f202cb8a-dd39-4fa6-b97d-1cb0558a80ab"
      },
      "execution_count": null,
      "outputs": [
        {
          "output_type": "execute_result",
          "data": {
            "text/plain": [
              "6"
            ]
          },
          "metadata": {},
          "execution_count": 8
        }
      ]
    },
    {
      "cell_type": "markdown",
      "source": [
        "116. Write a Python program to sort a list of lists by a given index of the inner list.\n",
        "Original list:\n",
        "[('Greyson Fulton', 98, 99), ('Brady Kent', 97, 96), ('Wyatt Knott', 91, 94), ('Beau Turnbull', 94, 98)] <br><br>\n",
        "Sort the said list of lists by a given index ( Index = 0 ) of the inner list\n",
        "[('Beau Turnbull', 94, 98), ('Brady Kent', 97, 96), ('Greyson Fulton', 98, 99), ('Wyatt Knott', 91, 94)] <br><br>\n",
        "Sort the said list of lists by a given index ( Index = 2 ) of the inner list\n",
        "[('Wyatt Knott', 91, 94), ('Brady Kent', 97, 96), ('Beau Turnbull', 94, 98), ('Greyson Fulton', 98, 99)]"
      ],
      "metadata": {
        "id": "LZXrLh0bRQHj"
      }
    },
    {
      "cell_type": "code",
      "source": [
        "def sort_by_index(alist, idx):\n",
        "  return sorted(alist, key=lambda x: x[idx]) # lambda defines a key to be applied to each item (tuple) of the list.\n",
        "\n",
        "sort_by_index([('Greyson Fulton', 98, 99), ('Brady Kent', 97, 96), ('Wyatt Knott', 91, 94), ('Beau Turnbull', 94, 98)], idx=2)\n"
      ],
      "metadata": {
        "colab": {
          "base_uri": "https://localhost:8080/"
        },
        "id": "VvRe_Qr8OUHM",
        "outputId": "a4b98db5-7ad7-4b3d-aec9-2277c21da400"
      },
      "execution_count": null,
      "outputs": [
        {
          "output_type": "execute_result",
          "data": {
            "text/plain": [
              "[('Wyatt Knott', 91, 94),\n",
              " ('Brady Kent', 97, 96),\n",
              " ('Beau Turnbull', 94, 98),\n",
              " ('Greyson Fulton', 98, 99)]"
            ]
          },
          "metadata": {},
          "execution_count": 12
        }
      ]
    },
    {
      "cell_type": "code",
      "source": [
        "sort_by_index([('Wyatt Knott', 91, 94), ('Brady Kent', 97, 96), ('Beau Turnbull', 94, 98), ('Greyson Fulton', 98, 99)], idx=0)"
      ],
      "metadata": {
        "colab": {
          "base_uri": "https://localhost:8080/"
        },
        "id": "bzHkmcT2TA29",
        "outputId": "c5a8bca2-98dd-45d2-e15a-994d2df01d22"
      },
      "execution_count": null,
      "outputs": [
        {
          "output_type": "execute_result",
          "data": {
            "text/plain": [
              "[('Beau Turnbull', 94, 98),\n",
              " ('Brady Kent', 97, 96),\n",
              " ('Greyson Fulton', 98, 99),\n",
              " ('Wyatt Knott', 91, 94)]"
            ]
          },
          "metadata": {},
          "execution_count": 13
        }
      ]
    },
    {
      "cell_type": "markdown",
      "source": [
        "## Lessons on Sep 22\n",
        "\n",
        "1/ list and other iterable stuff is not hashable, which means they cannot serve as keys in dicts.\n",
        "\n",
        "2/ use dict when you need mapping\n",
        "\n",
        "3/ when iterating through a list, it's advisable not to modifying the list acc its idx. because Idx changes when you add or delete items.\n",
        "\n",
        "4/ better not modify list in-place"
      ],
      "metadata": {
        "id": "CQuINRBNQwgg"
      }
    },
    {
      "cell_type": "markdown",
      "source": [
        "131. Write a Python program to count the frequency of consecutive duplicate elements in a given list of numbers.\n",
        "Original lists:\n",
        "[1, 2, 2, 2, 4, 4, 4, 5, 5, 5, 5]\n",
        "Consecutive duplicate elements and their frequency:\n",
        "([1, 2, 4, 5], [1, 3, 3, 4])"
      ],
      "metadata": {
        "id": "tbFD1N7SQwHv"
      }
    },
    {
      "cell_type": "code",
      "source": [
        "# My original program\n",
        "def count_freq(olist:list):\n",
        "  if not olist:\n",
        "    return \"This is an empty list\"\n",
        "  oset = set(olist)\n",
        "  fre = []\n",
        "  for item in oset:\n",
        "    fre_coun = 0\n",
        "    fre_coun = sum(1 if item==num else 0 for num in olist)\n",
        "    fre.append(fre_coun)\n",
        "  assert len(oset) == len(fre)\n",
        "  return f'Consecutive duplicate elements and their frequency: ({oset},{fre})'\n",
        "\n",
        "count_freq([1, 2, 2, 2, 4, 4, 4, 5, 5, 5, 5] )"
      ],
      "metadata": {
        "colab": {
          "base_uri": "https://localhost:8080/",
          "height": 35
        },
        "id": "DkulpQN-T8lV",
        "outputId": "1adf7bf1-a6b2-471d-f64f-0eb31487f32d"
      },
      "execution_count": null,
      "outputs": [
        {
          "output_type": "execute_result",
          "data": {
            "text/plain": [
              "'Consecutive duplicate elements and their frequency: ({1, 2, 4, 5},[1, 3, 3, 4])'"
            ],
            "application/vnd.google.colaboratory.intrinsic+json": {
              "type": "string"
            }
          },
          "metadata": {},
          "execution_count": 5
        }
      ]
    },
    {
      "cell_type": "code",
      "source": [
        "# using a dict under rec\n",
        "def count_frequency(given_list:list):\n",
        "    if not given_list:\n",
        "      return {}\n",
        "    freq_count = {item: given_list.count(item) for item in set(given_list)}\n",
        "    return f'{list(freq_count.keys()), list(freq_count.values())}'\n",
        "\n",
        "count_frequency([1, 2, 2, 2, 4, 4, 4, 5, 5, 5, 5] )"
      ],
      "metadata": {
        "colab": {
          "base_uri": "https://localhost:8080/",
          "height": 35
        },
        "id": "J3PoSHmBS__y",
        "outputId": "b639cf0c-30d6-4f22-bf6b-5d7c85c70b49"
      },
      "execution_count": null,
      "outputs": [
        {
          "output_type": "execute_result",
          "data": {
            "text/plain": [
              "'([1, 2, 4, 5], [1, 3, 3, 4])'"
            ],
            "application/vnd.google.colaboratory.intrinsic+json": {
              "type": "string"
            }
          },
          "metadata": {},
          "execution_count": 13
        }
      ]
    },
    {
      "cell_type": "markdown",
      "source": [
        "166. Write a Python program to remove the None value from a given list.\n",
        "Original list:\n",
        "[12, 0, None, 23, None, -55, 234, 89, None, 0, 6, -12]\n",
        "Remove None value from the said list:\n",
        "[12, 0, 23, -55, 234, 89, 0, 6, -12]"
      ],
      "metadata": {
        "id": "zImi9IABY9Yu"
      }
    },
    {
      "cell_type": "code",
      "source": [
        "def removing_nones_while(list_nones:list):\n",
        "  if not list_nones:\n",
        "    return []\n",
        "  while None in list_nones:\n",
        "      list_nones.remove(None)\n",
        "  return list_nones\n",
        "\n",
        "removing_nones_while([12, 0, None, 23, None, -55, 234, 89, None, 0, 6, -12])"
      ],
      "metadata": {
        "colab": {
          "base_uri": "https://localhost:8080/"
        },
        "id": "EMKN1bz3Y9Lw",
        "outputId": "0ff5284c-e1e9-4004-a24d-400e7566fe79"
      },
      "execution_count": null,
      "outputs": [
        {
          "output_type": "execute_result",
          "data": {
            "text/plain": [
              "[12, 0, 23, -55, 234, 89, 0, 6, -12]"
            ]
          },
          "metadata": {},
          "execution_count": 27
        }
      ]
    },
    {
      "cell_type": "code",
      "source": [
        "# This is an ok program, but better to use list.remove(item) while iterate through a list, instead of using its idx while iterating through the list because idx changes.\n",
        "def removing_nones(list_nones:list):\n",
        "  if not list_nones:\n",
        "    return []\n",
        "  for idx, item in enumerate(list_nones):\n",
        "    if item is None:\n",
        "      list_nones.pop(idx)\n",
        "  return list_nones\n",
        "\n",
        "removing_nones([12, 0, None, 23, None, -55, 234, 89, None, 0, 6, -12])"
      ],
      "metadata": {
        "colab": {
          "base_uri": "https://localhost:8080/"
        },
        "id": "KjrkTyJcakDm",
        "outputId": "27b93616-b892-44f4-caaa-46d551f1b120"
      },
      "execution_count": null,
      "outputs": [
        {
          "output_type": "execute_result",
          "data": {
            "text/plain": [
              "[12, 0, 23, -55, 234, 89, 0, 6, -12]"
            ]
          },
          "metadata": {},
          "execution_count": 24
        }
      ]
    },
    {
      "cell_type": "code",
      "source": [
        "# better: not iterating list while poping out idx; not modifying list in-place\n",
        "def removing_nones_better(list_nones: list) -> list:\n",
        "    if not list_nones:\n",
        "        return []\n",
        "    return [item for item in list_nones if item is not None]\n",
        "\n",
        "removing_nones_better([12, 0, None, 23, None, -55, 234, 89, None, 0, 6, -12])"
      ],
      "metadata": {
        "colab": {
          "base_uri": "https://localhost:8080/"
        },
        "id": "5PoZOBzbbZlS",
        "outputId": "4da636b2-53a2-4214-d673-13111a45777b"
      },
      "execution_count": null,
      "outputs": [
        {
          "output_type": "execute_result",
          "data": {
            "text/plain": [
              "[12, 0, 23, -55, 234, 89, 0, 6, -12]"
            ]
          },
          "metadata": {},
          "execution_count": 26
        }
      ]
    },
    {
      "cell_type": "markdown",
      "source": [
        "## Lesson on Sep 23\n",
        "1/ You cannot slice an int as you'd do to a list; but you can convert the int to a str and slice that str `str(56)[0]`. So do other things, like `len(str(56))`\n",
        "\n",
        "2/ The case for avoiding a list of all zeros, you can do\n",
        "```\n",
        "  if all(val == 0 for val in list_pos):\n",
        "        return '0'  # If all elements are zero, return '0'.\n",
        "```\n",
        "3/ Once again, `''.join()` is such a strange syntax. What's in '' is how you want the stuff to be merged, with no space, or with \",\"; what's in `()` is what do you want to be merged, a list of str or int? Be aware as well that it can only take in one argument, which is a collection of things. That can be a list, a tuple, a set, or a dict. For dict by default it merge the **non-repeatitive keys**! How strange."
      ],
      "metadata": {
        "id": "Kfj7ipU8SMAz"
      }
    },
    {
      "cell_type": "code",
      "source": [],
      "metadata": {
        "id": "fTge3wQTiA5r"
      },
      "execution_count": null,
      "outputs": []
    },
    {
      "cell_type": "markdown",
      "source": [
        "179. Write a Python program to create the largest possible number using the elements of a given list of positive integers.<br><br>\n",
        "Original list:\n",
        "[3, 40, 41, 43, 74, 9]\n",
        "Largest possible number using the elements of the said list of positive integers:\n",
        "9744341403<br><br>\n",
        "Original list:\n",
        "[10, 40, 20, 30, 50, 60]\n",
        "Largest possible number using the elements of the said list of positive integers:\n",
        "605040302010<br><br>\n",
        "Original list:\n",
        "[8, 4, 2, 9, 5, 6, 1, 0]\n",
        "Largest possible number using the elements of the said list of positive integers:\n",
        "98654210"
      ],
      "metadata": {
        "id": "UF1SKMpMSOn0"
      }
    },
    {
      "cell_type": "code",
      "source": [
        "''.join({\"2\":2,\"5\":5,\"6\":5,\"2\":2})"
      ],
      "metadata": {
        "colab": {
          "base_uri": "https://localhost:8080/",
          "height": 35
        },
        "id": "xnyE5eUmhY3W",
        "outputId": "fa1be14d-7726-4644-d1df-464bb36e17d1"
      },
      "execution_count": null,
      "outputs": [
        {
          "output_type": "execute_result",
          "data": {
            "text/plain": [
              "'256'"
            ],
            "application/vnd.google.colaboratory.intrinsic+json": {
              "type": "string"
            }
          },
          "metadata": {},
          "execution_count": 13
        }
      ]
    },
    {
      "cell_type": "code",
      "source": [
        "# NEP I think this is sorting accord to the first digit of those nums\n",
        "def largest_num(list_pos):\n",
        "  if all(val == 0 for val in list_pos):\n",
        "        return '0'  # If all elements are zero, return '0'.\n",
        "  new_list = sorted(list_pos,key=lambda i: i * (len(str(max(list_pos))) // len(str(i))), reverse=True)\n",
        "  # new_list = sorted(list_pos,key=lambda x: int(str(abs(x))[0]), reverse=True)\n",
        "  # then you need to perhaps sort out accord to 2nd digit\n",
        "\n",
        "  # then you need to merge into one num\n",
        "  return int(''.join(str(i) for i in new_list))\n",
        "\n",
        "largest_num([3, 40, 41, 43, 74, 9])\n"
      ],
      "metadata": {
        "colab": {
          "base_uri": "https://localhost:8080/"
        },
        "id": "yemzwY21eabx",
        "outputId": "4a3dca52-ceaf-486d-8e12-be9970cf08e9"
      },
      "execution_count": null,
      "outputs": [
        {
          "output_type": "execute_result",
          "data": {
            "text/plain": [
              "7443414093"
            ]
          },
          "metadata": {},
          "execution_count": 2
        }
      ]
    },
    {
      "cell_type": "markdown",
      "source": [
        "## Lessons on Sep 24\n",
        "1/ note that `ceil(8//3)` and ceil(8/3) will give you different result. `//` only give you `int`. <br>\n",
        "2/ `map(function, data)` apply function to all the variables there. The result is a `map` but you can do `list(map)` to return a list. <br>\n",
        "3/ at least you learn how to chunk a list of given size."
      ],
      "metadata": {
        "id": "wdIriCIxmGGy"
      }
    },
    {
      "cell_type": "markdown",
      "source": [
        "200. Write a Python program to pair consecutive elements of a given list.\n",
        "Original lists:\n",
        "[1, 2, 3, 4, 5, 6]\n",
        "Pair up the consecutive elements of the said list:\n",
        "[[1, 2], [2, 3], [3, 4], [4, 5], [5, 6]] <br><br>\n",
        "Original lists:\n",
        "[1, 2, 3, 4, 5]\n",
        "Pair up the consecutive elements of the said list:\n",
        "[[1, 2], [2, 3], [3, 4], [4, 5]]"
      ],
      "metadata": {
        "id": "Ch9BMH4tmIXY"
      }
    },
    {
      "cell_type": "code",
      "source": [
        "from typing import List\n",
        "def pairing(alist:List[int]) -> List[List[int]]:\n",
        "  new_list = []\n",
        "  if not alist:\n",
        "    return new_list\n",
        "  for idx, item in enumerate(alist[:-1]):\n",
        "    new_list.append([item, alist[idx+1]])\n",
        "\n",
        "  return new_list\n",
        "\n",
        "pairing([1, 2, 3, 4, 5])"
      ],
      "metadata": {
        "colab": {
          "base_uri": "https://localhost:8080/"
        },
        "id": "bpr03P4rTZxE",
        "outputId": "1a4acb31-0123-4f43-f6e5-320ae1cecc5d"
      },
      "execution_count": null,
      "outputs": [
        {
          "output_type": "execute_result",
          "data": {
            "text/plain": [
              "[[1, 2], [2, 3], [3, 4], [4, 5]]"
            ]
          },
          "metadata": {},
          "execution_count": 16
        }
      ]
    },
    {
      "cell_type": "markdown",
      "source": [
        "232. Write a Python program to chunk a given list into smaller lists of a specified size.\n",
        "Sample Output:\n",
        "[[1, 2, 3], [4, 5, 6], [7, 8]]"
      ],
      "metadata": {
        "id": "RjFZSugnrgv8"
      }
    },
    {
      "cell_type": "code",
      "source": [
        "list(range(5))"
      ],
      "metadata": {
        "colab": {
          "base_uri": "https://localhost:8080/"
        },
        "id": "DI43BHianWUn",
        "outputId": "18b6d709-61fa-4034-b0c6-18389e32a63a"
      },
      "execution_count": null,
      "outputs": [
        {
          "output_type": "execute_result",
          "data": {
            "text/plain": [
              "[0, 1, 2, 3, 4]"
            ]
          },
          "metadata": {},
          "execution_count": 19
        }
      ]
    },
    {
      "cell_type": "code",
      "source": [
        "from math import ceil\n",
        "ceil(8/3)"
      ],
      "metadata": {
        "colab": {
          "base_uri": "https://localhost:8080/"
        },
        "id": "VVbLVletuTRK",
        "outputId": "e48ca2d3-8c68-4d56-e21e-73d76a09ff75"
      },
      "execution_count": null,
      "outputs": [
        {
          "output_type": "execute_result",
          "data": {
            "text/plain": [
              "3"
            ]
          },
          "metadata": {},
          "execution_count": 28
        }
      ]
    },
    {
      "cell_type": "code",
      "source": [
        "ceil(8//3)\n",
        "8//3"
      ],
      "metadata": {
        "colab": {
          "base_uri": "https://localhost:8080/"
        },
        "id": "ursrtFkKuVYZ",
        "outputId": "97b3952c-0fd1-41b0-ba4f-6d56573e8594"
      },
      "execution_count": null,
      "outputs": [
        {
          "output_type": "execute_result",
          "data": {
            "text/plain": [
              "2"
            ]
          },
          "metadata": {},
          "execution_count": 30
        }
      ]
    },
    {
      "cell_type": "markdown",
      "source": [],
      "metadata": {
        "id": "QiOx32UouVDg"
      }
    },
    {
      "cell_type": "code",
      "source": [
        "from math import ceil\n",
        "def chunking(lst, size):\n",
        "  return list(map(lambda x: lst[x*size:x*size+size], list(range(ceil(len(lst) // size)))))\n",
        "\n",
        "chunking([1,2,3,4,5,6,7,8],3)"
      ],
      "metadata": {
        "colab": {
          "base_uri": "https://localhost:8080/"
        },
        "id": "K214_V10quma",
        "outputId": "62e507cc-3142-4ea8-80d1-761f89d2b430"
      },
      "execution_count": null,
      "outputs": [
        {
          "output_type": "execute_result",
          "data": {
            "text/plain": [
              "[[1, 2, 3], [4, 5, 6]]"
            ]
          },
          "metadata": {},
          "execution_count": 22
        }
      ]
    },
    {
      "cell_type": "code",
      "source": [
        "# Import the 'ceil' function from the 'math' module.\n",
        "from math import ceil\n",
        "\n",
        "# Define a function 'chunk_list' that takes a list 'lst' and an integer 'size' as input.\n",
        "def chunk_list(lst, size):\n",
        "    # Use list comprehensions to create a list of chunks, where each chunk has 'size' elements.\n",
        "    # The 'range' function is used to generate the indices for splitting the list.\n",
        "    return list(map(lambda x: lst[x * size:x * size + size],  # Lambda function to get each chunk.\n",
        "            list(range(ceil(len(lst) / size)))))  # Calculate the number of chunks needed and generate indices.\n",
        "\n",
        "# Call the 'chunk_list' function with an example list and chunk size.\n",
        "print(chunk_list([1, 2, 3, 4, 5, 6, 7, 8], 3))"
      ],
      "metadata": {
        "colab": {
          "base_uri": "https://localhost:8080/"
        },
        "id": "oU6fjS31tPbb",
        "outputId": "49f2f3db-29ef-46ad-d07a-cc98809916b3"
      },
      "execution_count": null,
      "outputs": [
        {
          "output_type": "stream",
          "name": "stdout",
          "text": [
            "[[1, 2, 3], [4, 5, 6], [7, 8]]\n"
          ]
        }
      ]
    },
    {
      "cell_type": "markdown",
      "source": [
        "## Lesson Sep 25\n",
        "1/ This lambda function below is quite ingenious. The insecurity is I don't know whether I'd be able to construct such a thing myself with new problems. I should practice more.\n",
        "\n",
        "One way to think about it is one define the domain and the another defines the mapping.\n",
        "```\n",
        "list(map(lambda x: lst[x * size:x * size + size],  # Lambda function to get each chunk.\n",
        "            list(range(ceil(len(lst) / size)))))\n",
        "```\n",
        "2/ for recursion you don't need to worry at the beginning of a function you refresh a variable with `variable = []`. It will only be refreshed in that sub-round, without affecting this variable in parent round.\n",
        "\n",
        "3/ In recursion you come in the parent round first, but you complete sub-round first (last in first out, therefore stack type should work well).\n",
        "\n",
        "4/ `return` does not need to always come with the starting a new subround of recursion because `return` actually means a complete of a (sub)round.\n",
        "\n",
        "\n"
      ],
      "metadata": {
        "id": "gAEXObEBuDUw"
      }
    },
    {
      "cell_type": "markdown",
      "source": [
        "255. Write a Python program to perform a deep flattening of a list.\n",
        "Sample Output:<br><br>\n",
        "Original list elements:\n",
        "[1, [2], [[3], [4], 5], 6]\n",
        "Deep flatten the said list:\n",
        "[1, 2, 3, 4, 5, 6] <br><br>\n",
        "Original list elements:\n",
        "[[[1, 2, 3], [4, 5]], 6]\n",
        "Deep flatten the said list:\n",
        "[1, 2, 3, 4, 5, 6]"
      ],
      "metadata": {
        "id": "2MfpISXywETb"
      }
    },
    {
      "cell_type": "code",
      "source": [
        "# NEP I was wrong of adding one extra return in the loop. The case is you want the program to run into a subcase, instead of returning the result of that subround.\n",
        "# You only return, at each round, when the element all gets into the flatten.\n",
        "def deepflatten(lst):\n",
        "  flatten = []\n",
        "  print(f'after a new round of flatten, it is now redefined as {flatten}')\n",
        "  if not lst:\n",
        "    return flatten\n",
        "\n",
        "  for item in lst:\n",
        "    if isinstance(item, list):\n",
        "      flatten.extend(deepflatten(item))\n",
        "      # return flatten.extend(deepflatten(item)  # NEP in recursion when would you need return?\n",
        "      # I think it will only come to here when you wrap up the sub round and continue with the parent round\n",
        "\n",
        "      print(f'return to the parent round, flatten is now {flatten}')\n",
        "    else:\n",
        "      flatten.append(item)\n",
        "      print(f'after append, flatten is now {flatten}')\n",
        "  return flatten\n",
        "deepflatten([1, 2, 3, [4], 5, 6])\n",
        "# deepflatten([1, [2], [[3], [4], 5], 6])"
      ],
      "metadata": {
        "id": "lZo5YczwuAO1",
        "colab": {
          "base_uri": "https://localhost:8080/"
        },
        "outputId": "01ce5e01-9233-4453-8f25-c75819eb5ebb"
      },
      "execution_count": null,
      "outputs": [
        {
          "output_type": "stream",
          "name": "stdout",
          "text": [
            "after a new round of flatten, it is now redefined as []\n",
            "after append, flatten is now [1]\n",
            "after append, flatten is now [1, 2]\n",
            "after append, flatten is now [1, 2, 3]\n",
            "after a new round of flatten, it is now redefined as []\n",
            "after append, flatten is now [4]\n",
            "return to the parent round, flatten is now [1, 2, 3, 4]\n",
            "after append, flatten is now [1, 2, 3, 4, 5]\n",
            "after append, flatten is now [1, 2, 3, 4, 5, 6]\n"
          ]
        },
        {
          "output_type": "execute_result",
          "data": {
            "text/plain": [
              "[1, 2, 3, 4, 5, 6]"
            ]
          },
          "metadata": {},
          "execution_count": 4
        }
      ]
    },
    {
      "cell_type": "code",
      "source": [
        "def flatten_list(nested_list):\n",
        "    flattened = []\n",
        "    for item in nested_list:\n",
        "        if isinstance(item, list):\n",
        "            flattened.extend(flatten_list(item))  # loading items of new list into existing one.\n",
        "        else:\n",
        "            flattened.append(item)\n",
        "    return flattened\n",
        "\n",
        "flatten_list([1, [2], [[3], [4], 5], 6])"
      ],
      "metadata": {
        "colab": {
          "base_uri": "https://localhost:8080/"
        },
        "id": "s08gaAFs57rt",
        "outputId": "240a3211-a16c-48a0-893e-59dd5d436aaa"
      },
      "execution_count": null,
      "outputs": [
        {
          "output_type": "execute_result",
          "data": {
            "text/plain": [
              "[1, 2, 3, 4, 5, 6]"
            ]
          },
          "metadata": {},
          "execution_count": 14
        }
      ]
    },
    {
      "cell_type": "code",
      "source": [
        "# NEP The key thing of recursion I did't get it right was: at each round of recursion, it's responsible for return of that round. You don't need to care about the final return.\n",
        "# factorial w/ recursion\n",
        "def factorial(num):\n",
        "  if num <= 1:\n",
        "    return 1\n",
        "  return num * factorial(num-1)\n",
        "\n",
        "factorial(5)"
      ],
      "metadata": {
        "colab": {
          "base_uri": "https://localhost:8080/"
        },
        "id": "w6akF2wXxspZ",
        "outputId": "1d034c79-a0f5-4541-dfc0-5f31eb85e29d"
      },
      "execution_count": null,
      "outputs": [
        {
          "output_type": "execute_result",
          "data": {
            "text/plain": [
              "120"
            ]
          },
          "metadata": {},
          "execution_count": 11
        }
      ]
    },
    {
      "cell_type": "markdown",
      "source": [
        "## Lessons on Sep 26\n",
        "1/ Be aware that `/` and `//` are different operations. While the former gives you a `float` of more precise result, the latter give you `int`.\n"
      ],
      "metadata": {
        "id": "3tJjUTiW9Z9D"
      }
    },
    {
      "cell_type": "markdown",
      "source": [
        "267. Write a Python program to get the cumulative sum of the elements of a given list.\n",
        "Sample Output:\n",
        "Original list elements:\n",
        "[1, 2, 3, 4]\n",
        "Cumulative sum of the elements of the said list:\n",
        "[1, 3, 6, 10]\n",
        "Original list elements:\n",
        "[-1, -2, -3, 4]\n",
        "Cumulative sum of the elements of the said list:\n",
        "[-1, -3, -6, -2]"
      ],
      "metadata": {
        "id": "Tev2aRCu9ew1"
      }
    },
    {
      "cell_type": "code",
      "source": [
        "def cumulative(lst):\n",
        "  new_lst = []\n",
        "  if not lst:\n",
        "    return new_lst\n",
        "  for idx in range(len(lst)):\n",
        "    num = sum(lst[:idx+1])\n",
        "    new_lst.append(num)\n",
        "  return new_lst\n",
        "\n",
        "cumulative([-1, -2, -3, 4])"
      ],
      "metadata": {
        "id": "oHNOCCfq4sDt",
        "colab": {
          "base_uri": "https://localhost:8080/"
        },
        "outputId": "d334785f-5191-4f08-9993-f706d9a4f936"
      },
      "execution_count": null,
      "outputs": [
        {
          "output_type": "stream",
          "name": "stdout",
          "text": [
            "current num is -1\n",
            "current num is -3\n",
            "current num is -6\n",
            "current num is -2\n"
          ]
        },
        {
          "output_type": "execute_result",
          "data": {
            "text/plain": [
              "[-1, -3, -6, -2]"
            ]
          },
          "metadata": {},
          "execution_count": 8
        }
      ]
    },
    {
      "cell_type": "code",
      "source": [
        "# Different method\n",
        "from itertools import accumulate\n",
        "def cum(lst):\n",
        "  return list(accumulate(lst))\n",
        "\n",
        "cum([-1, -2, -3, 4])"
      ],
      "metadata": {
        "colab": {
          "base_uri": "https://localhost:8080/"
        },
        "id": "-5iYhPF3-XHz",
        "outputId": "28742a13-7619-4323-c896-0d5e5f5e53d5"
      },
      "execution_count": null,
      "outputs": [
        {
          "output_type": "execute_result",
          "data": {
            "text/plain": [
              "[-1, -3, -6, -2]"
            ]
          },
          "metadata": {},
          "execution_count": 10
        }
      ]
    },
    {
      "cell_type": "code",
      "source": [
        "# different way: maintain a running sum to reduce time complexity (of doing sum each time)\n",
        "def cumulative(lst):\n",
        "    result = []\n",
        "    total = 0\n",
        "    for num in lst:\n",
        "        total += num\n",
        "        result.append(total)\n",
        "    return result\n",
        "\n",
        "# Test the function\n",
        "print(cumulative([-1, -2, -3, 4]))"
      ],
      "metadata": {
        "colab": {
          "base_uri": "https://localhost:8080/"
        },
        "id": "p2mxVvLw_KjE",
        "outputId": "bccd0720-378a-4bea-9376-a63d9f39e8d1"
      },
      "execution_count": null,
      "outputs": [
        {
          "output_type": "stream",
          "name": "stdout",
          "text": [
            "[-1, -3, -6, -2]\n"
          ]
        }
      ]
    },
    {
      "cell_type": "markdown",
      "source": [
        "1/ sorted(data, key=) is quite versatile. You can define its key in (at least) these ways (By claude):\n",
        "\n",
        "itemgetter(1): Sorts based on the second element of each tuple. <br>\n",
        "itemgetter(-1): Sorts based on the last element of each tuple.<br>\n",
        "lambda x: (x[0], -x[1]): Sorts first by the first element ascending, then by the second element descending. This is useful for multi-level sorting. <br>\n",
        "lambda x: len(x[0]): Sorts based on the length of the first element (which is a string in this case). <br>\n",
        "lambda x: sum(i for i in x if isinstance(i, (int, float))): Sorts based on the sum of all numeric elements in each tuple. <br>\n",
        "lambda x: x[0][-1]: Sorts based on the last letter of the first element (which is a string). <br>\n",
        "Custom function: You can define any function to create a sort key. This allows for complex sorting logic.\n"
      ],
      "metadata": {
        "id": "frg-E8lAUKvu"
      }
    },
    {
      "cell_type": "markdown",
      "source": [
        "## Ending notes on List\n",
        "1/ Where I might need more practices: zip, list comparison, list comprehension, (advanced) indexing, custom sorting, sliding window, List operations for feature engineering, Efficient list operations."
      ],
      "metadata": {
        "id": "DC93aZdTD7K6"
      }
    },
    {
      "cell_type": "markdown",
      "source": [
        "# Dict\n",
        "Materials:\n",
        "https://www.w3resource.com/python-exercises/dictionary/\n",
        "Claude handpicked 5 for me.\n",
        "There are 80 exercises here on dict! Too many! Could you handpick ~ 5 for my purposes?\n",
        "1/ I have handreds of hours on Python and rather familiar with list in general\n",
        "\n",
        "2/ But a lot of my hours on more advanced topics such as DL, so I don't think I am an advanced Python programmer (for instance, I cannot type 100 lines of code without error) & too good at some advanced list syntax such as list comprehension, indexing (I made a lot of mistakes with indexing on tensor! I think the principles should be transferrable?), zip, list comparison, or some very neat syntax solves problems surprisingly, or any syntax very practical but less known,\n",
        "\n",
        "3/ Sometimes some advanced syntax will always be not too familiar, but hopefully they are not that frequent anyway and you may find a quick answer on Google. We don't need to cover them. It's like speaking a 2nd language. You want to be sophisticated (not just some ~ 500 basic words), but you don't want all your time on those words you only use once in a lifetime.\n",
        "\n",
        "4/ IN the end I still want python skills to serve ML/DL, with a mix of research, engineering, or startup purposes\n",
        "\n",
        "5/ Feel free to generate anything different from what's listed in the doc if necessary & better.\n",
        "\n",
        "Certainly! Based on your background and goals, I'll select a few exercises that should be beneficial for you. These will help reinforce your dictionary skills while introducing some useful, intermediate-level concepts that are often applicable in ML/DL contexts.\n",
        "\n",
        "Here are 5 handpicked exercises for you:\n",
        "\n",
        "Exercise 47: Split a dictionary of lists into a list of dictionaries This exercise is great for data preprocessing in ML/DL, where you often need to reshape data. <br>\n",
        "Exercise 62: Extract values from a dictionary and create a list of lists This is useful for preparing data for ML models or creating datasets. <br>\n",
        "Exercise 69: Group elements of a list based on a given function This exercise introduces the concept of using functions to group data, which is valuable in feature engineering and data analysis. <br>\n",
        "Exercise 74: Create a dictionary with the same keys and modified values This is helpful for applying transformations to your data, which is common in ML preprocessing. <br>\n",
        "Exercise 76: Combine two lists into a dictionary This exercise reinforces the relationship between lists and dictionaries, which is useful when working with various data structures in ML/DL projects."
      ],
      "metadata": {
        "id": "Hx2UBksZ_UZ1"
      }
    },
    {
      "cell_type": "markdown",
      "source": [
        "1/ value in dict can be anything. It's a view object only because you use `dic.keys()` `dic.values()` or dic.items()`\n",
        "\n",
        "2/ You can create a dict by filling in keys and values in seperate steps.\n",
        "\n",
        "3/ You probably always need nested for loop for such transformation? (NEP: not sure, yet)."
      ],
      "metadata": {
        "id": "m3Mva1oyUybb"
      }
    },
    {
      "cell_type": "markdown",
      "source": [
        "Where do you need to pay attention? <br>\n",
        "1/ Accessing keys, values, and key-value pairs.  <br>\n",
        "\n",
        "2/ Constructing dict: drom another dicts,\n",
        "\n",
        "2/ Data transformation, mainly bewteen dict and lst.  <br>\n",
        "\n",
        "3/ Data handling:\n",
        "\n",
        "\n",
        "\n"
      ],
      "metadata": {
        "id": "ZVyX24LjPmuZ"
      }
    },
    {
      "cell_type": "markdown",
      "source": [
        "## Constructing Dict\n"
      ],
      "metadata": {
        "id": "oMtZEF84RSpO"
      }
    },
    {
      "cell_type": "code",
      "source": [
        "\n",
        "# dict() can take different inputs to construct dictionaries\n",
        "dict_constructor = dict(key1='value1',key2='value2')  # from evaluating the keys\n",
        "dict_tuple = dict([('key1','value1'),('key2','value2')]) # from a list of tuples\n",
        "\n",
        "# dictionary comprehension\n",
        "keys = ['a', 'b', 'c']\n",
        "values = [1, 2, 3]\n",
        "dict_comprehension = {k:v for k,v in zip(keys,values)}\n",
        "# or more directly zip two lists\n",
        "dict_zip = dict(zip(keys,values))\n",
        "\n",
        "# generator expression\n",
        "generated_dict = {x:x**2 for x in [0,1,2]}\n",
        "\n",
        "# defaultdict\n",
        "from collections import defaultdict\n",
        "default_dict = defaultdict(int)  # a default dict with a default key of int \"0\". It will not report KeyError.\n",
        "\n",
        "\n",
        "# at least three ways to merge dictionaries  .update() and **\n",
        "update_dict = {'a': 1, 'b': 2}\n",
        "new_dict = {'c':3,'d':4}\n",
        "update_dict.update(new_dict)\n",
        "merged_dict = {**update_dict, **new_dict}  # ** basically unpack those dicts into individual key-value pairs I think.\n",
        "new_merge = update_dict | new_dict\n",
        "\n",
        "generated_dict"
      ],
      "metadata": {
        "colab": {
          "base_uri": "https://localhost:8080/"
        },
        "id": "18-KKtEdRWCz",
        "outputId": "02a333ac-b414-4d02-b942-b2a581083f53"
      },
      "execution_count": null,
      "outputs": [
        {
          "output_type": "execute_result",
          "data": {
            "text/plain": [
              "{0: 0, 1: 1, 2: 4}"
            ]
          },
          "metadata": {},
          "execution_count": 6
        }
      ]
    },
    {
      "cell_type": "markdown",
      "source": [
        "69. Write a  Python program to group the elements of a given list based on the given function.\n",
        "Sample Output:\n",
        "Original list & function:\n",
        "[7, 23, 3.2, 3.3, 8.4] Function name: floor:\n",
        "Group the elements of the said list based on the given function:\n",
        "{7: [7], 23: [23], 3: [3.2, 3.3], 8: [8.4]}\n",
        "Original list & function:\n",
        "['Red', 'Green', 'Black', 'White', 'Pink'] Function name: len:\n",
        "Group the elements of the said list based on the given function:\n",
        "{3: ['Red'], 5: ['Green', 'Black', 'White'], 4: ['Pink']}"
      ],
      "metadata": {
        "id": "uqX9mtQ3ZBUp"
      }
    },
    {
      "cell_type": "code",
      "source": [
        "from itertools import groupby\n",
        "# a list of non-repeatitive\n",
        "'''\n",
        "This works fine with the 1st function.\n",
        "I didn't include this in the end because I don't think in reality you would want complex data structure to be from \"input\"\n",
        "def group_item():\n",
        "  lst_str = input(\"Please let us know your list of values that you will want us to group \")\n",
        "  lst = [float(item) for item in lst_str.split(',')]\n",
        "  func = input(\"Please let us know by what function you will want us to group them (either 'floor' or 'len') \")\n",
        "  if func == \"floor\":\n",
        "    return floor(lst)\n",
        "  elif func == \"len\":\n",
        "    return lens(lst)\n",
        "'''\n",
        "\n",
        "def floor(lst):\n",
        "  keys,values = [], []\n",
        "  # Key function\n",
        "  def catg(item): # The group key function takes in individual items and returns their categories.\n",
        "    return int(item)\n",
        "\n",
        "  # Group them by the defined key function\n",
        "  for key, group in groupby(lst, key=catg):\n",
        "    keys.append(key)\n",
        "    values.append(list(group))\n",
        "  return dict(zip(keys, values))\n",
        "\n",
        "def lens(lst):\n",
        "  keys,values = [], []\n",
        "  def catg(item):\n",
        "    return len(item)\n",
        "\n",
        "  for key, group in groupby(lst, key=catg):\n",
        "    keys.append(key)\n",
        "    values.append(list(group))\n",
        "  return dict(zip(keys, values))\n",
        "floor([7, 23, 3.2, 3.3, 8.4])\n",
        "lens(['Red', 'Green', 'Black', 'White', 'Pink'])\n"
      ],
      "metadata": {
        "colab": {
          "base_uri": "https://localhost:8080/"
        },
        "id": "sH22NvEOV7si",
        "outputId": "6c5244ee-66f2-4f1a-f701-0aee9d8d1bea"
      },
      "execution_count": null,
      "outputs": [
        {
          "output_type": "execute_result",
          "data": {
            "text/plain": [
              "{3: ['Red'], 5: ['Green', 'Black', 'White'], 4: ['Pink']}"
            ]
          },
          "metadata": {},
          "execution_count": 21
        }
      ]
    },
    {
      "cell_type": "markdown",
      "source": [
        "Write a Python program to split a given dictionary of lists into lists of dictionaries.\n",
        "Original dictionary of lists:\n",
        "{'Science': [88, 89, 62, 95], 'Language': [77, 78, 84, 80]} <br>\n",
        "Split said dictionary of lists into list of dictionaries:\n",
        "[{'Science': 88, 'Language': 77}, {'Science': 89, 'Language': 78}, {'Science': 62, 'Language': 84}, {'Science': 95, 'Language': 80}]"
      ],
      "metadata": {
        "id": "UteLVmfn_-j5"
      }
    },
    {
      "cell_type": "code",
      "source": [
        "test_dic = {'Science': [88, 89, 62, 95], 'Language': [77, 78, 84, 80]}\n",
        "key1, key2 = test_dic.keys()\n",
        "type(key1)"
      ],
      "metadata": {
        "colab": {
          "base_uri": "https://localhost:8080/"
        },
        "id": "Be4ZFcAJDJhI",
        "outputId": "36818cfb-e8ea-4591-b5fb-7992b18ac807"
      },
      "execution_count": null,
      "outputs": [
        {
          "output_type": "execute_result",
          "data": {
            "text/plain": [
              "str"
            ]
          },
          "metadata": {},
          "execution_count": 9
        }
      ]
    },
    {
      "cell_type": "code",
      "source": [
        "# My solution\n",
        "# Self evaluation: This is not a good program bc it's not sufficiently general. (i) a,b already assumes org_dic has two keys (ii) obv you wrote pre-defined keys when define new dict.\n",
        "def list_dic(org_dic):\n",
        "  new_list = []\n",
        "  key1, key2 = org_dic.keys()\n",
        "  for a,b in zip(org_dic[key1], org_dic[key2]):\n",
        "    dic = dict(Science=a,Language=b)\n",
        "    new_list.append(dic)\n",
        "  return new_list\n",
        "\n",
        "list_dic({'Science': [88, 89, 62, 95], 'Language': [77, 78, 84, 80]})"
      ],
      "metadata": {
        "colab": {
          "base_uri": "https://localhost:8080/"
        },
        "id": "-YerP5nd_pQp",
        "outputId": "5a1b7951-82ef-47ce-812b-9b7ce0179a42"
      },
      "execution_count": null,
      "outputs": [
        {
          "output_type": "execute_result",
          "data": {
            "text/plain": [
              "[{'Science': 88, 'Language': 77},\n",
              " {'Science': 89, 'Language': 78},\n",
              " {'Science': 62, 'Language': 84},\n",
              " {'Science': 95, 'Language': 80}]"
            ]
          },
          "metadata": {},
          "execution_count": 10
        }
      ]
    },
    {
      "cell_type": "code",
      "source": [
        "# A program by claude, written my self to learn advanced list comprehension and zip\n",
        "def adv_list_dic(org_dic):\n",
        "  keys = org_dic.keys()\n",
        "  values = zip(*org_dic.values())\n",
        "  print(f'values look like {values}, and its type is {type(values)}')\n",
        "  # print(f'values look like {list(values)}, and its type is {type(values)}') # NEP this print statement has list(zip), which exhaust this zip\n",
        "  return [dict(zip(keys, v)) for v in values]\n",
        "\n",
        "\n",
        "adv_list_dic({'Science': [88, 89, 62, 95], 'Language': [77, 78, 84, 80]})"
      ],
      "metadata": {
        "colab": {
          "base_uri": "https://localhost:8080/"
        },
        "id": "JU0FnV6iCFYD",
        "outputId": "0621c476-7f37-4e51-beb9-693ad58da11e"
      },
      "execution_count": null,
      "outputs": [
        {
          "output_type": "stream",
          "name": "stdout",
          "text": [
            "values look like <zip object at 0x7c99a0097140>, and its type is <class 'zip'>\n"
          ]
        },
        {
          "output_type": "execute_result",
          "data": {
            "text/plain": [
              "[{'Science': 88, 'Language': 77},\n",
              " {'Science': 89, 'Language': 78},\n",
              " {'Science': 62, 'Language': 84},\n",
              " {'Science': 95, 'Language': 80}]"
            ]
          },
          "metadata": {},
          "execution_count": 24
        }
      ]
    },
    {
      "cell_type": "markdown",
      "source": [
        "Write a Python program to combine two lists into a dictionary. The elements of the first one serve as keys and the elements of the second one serve as values. Each item in the first list must be unique and hashable.\n",
        "Sample Output:\n",
        "Original lists:\n",
        "['a', 'b', 'c', 'd', 'e', 'f']\n",
        "[1, 2, 3, 4, 5]\n",
        "Combine the values of the said two lists into a dictionary:\n",
        "{'a': 1, 'b': 2, 'c': 3, 'd': 4, 'e': 5}"
      ],
      "metadata": {
        "id": "xaJNQrVEXIQI"
      }
    },
    {
      "cell_type": "code",
      "source": [
        "def dict_of_lst(lst1,lst2):\n",
        "  assert len(set(lst1)) == len(lst1)\n",
        "  return dict(zip(lst1, lst2))\n",
        "\n",
        "dict_of_lst(['a', 'b', 'c', 'd', 'e', 'f'],[1, 2, 3, 4, 5])"
      ],
      "metadata": {
        "id": "XDn3nGKm_gEM",
        "colab": {
          "base_uri": "https://localhost:8080/"
        },
        "outputId": "ad6efd2e-ad38-4bb5-8fb4-5ca6c98b3560"
      },
      "execution_count": null,
      "outputs": [
        {
          "output_type": "execute_result",
          "data": {
            "text/plain": [
              "{'a': 1, 'b': 2, 'c': 3, 'd': 4, 'e': 5}"
            ]
          },
          "metadata": {},
          "execution_count": 22
        }
      ]
    },
    {
      "cell_type": "code",
      "source": [
        "# A new solution w/ try except error\n",
        "def dict_of_lst(lst1,lst2):\n",
        "  if not len(set(lst1)) == len(lst1):\n",
        "    raise ValueError(\"There is repeatitive items in list for keys\")\n",
        "  #if not len(lst1) == len(lst2):\n",
        "  #  raise ValueError(\"The length of two lists are not equal\")\n",
        "  return dict(zip(lst1, lst2))\n",
        "\n",
        "try:\n",
        "  dic = dict_of_lst(['a', 'b', 'c', 'd', 'e', 'f'],[1, 2, 3, 4, 5])\n",
        "  print(dic)\n",
        "except ValueError as e:\n",
        "  print(f'error:{e}')"
      ],
      "metadata": {
        "colab": {
          "base_uri": "https://localhost:8080/"
        },
        "id": "EURHZO7XY_Ew",
        "outputId": "1f5fd5a3-63a0-4142-e7bc-8409e3a1b42d"
      },
      "execution_count": null,
      "outputs": [
        {
          "output_type": "stream",
          "name": "stdout",
          "text": [
            "{'a': 1, 'b': 2, 'c': 3, 'd': 4, 'e': 5}\n"
          ]
        }
      ]
    },
    {
      "cell_type": "code",
      "source": [
        "# Replicating Claude solution\n",
        "given_dict = {'Theodore': {'user': 'Theodore', 'age': 45}, 'Roxanne': {'user': 'Roxanne', 'age': 15}, 'Mathew': {'user': 'Mathew', 'age': 21}}\n",
        "\n",
        "new_dict = {k:v['age'] for k,v in given_dict.items()}\n",
        "new_dict"
      ],
      "metadata": {
        "colab": {
          "base_uri": "https://localhost:8080/"
        },
        "id": "syK4oT_gWVcn",
        "outputId": "d03c628a-c00b-4619-bb67-9e75d6ecef29"
      },
      "execution_count": null,
      "outputs": [
        {
          "output_type": "execute_result",
          "data": {
            "text/plain": [
              "{'Theodore': 45, 'Roxanne': 15, 'Mathew': 21}"
            ]
          },
          "metadata": {},
          "execution_count": 20
        }
      ]
    },
    {
      "cell_type": "code",
      "source": [
        "# My first attempt: It's correct but not flexible.\n",
        "keys = list(given_dict.keys())\n",
        "values = [list(value.values())[1] for value in list(given_dict.values())]\n",
        "new_dict = dict(zip(keys,values))\n",
        "new_dict"
      ],
      "metadata": {
        "colab": {
          "base_uri": "https://localhost:8080/"
        },
        "id": "iLBnGiPLQuZx",
        "outputId": "bbd43418-0d26-489b-8115-71f521511cbe"
      },
      "execution_count": null,
      "outputs": [
        {
          "output_type": "execute_result",
          "data": {
            "text/plain": [
              "{'Theodore': 45, 'Roxanne': 15, 'Mathew': 21}"
            ]
          },
          "metadata": {},
          "execution_count": 19
        }
      ]
    },
    {
      "cell_type": "code",
      "source": [
        "given_dict = {'Theodore': {'user': 'Theodore', 'age': 45}, 'Roxanne': {'user': 'Roxanne', 'age': 15}, 'Mathew': {'user': 'Mathew', 'age': 21}}\n",
        "values = list(given_dict.values())\n",
        "values"
      ],
      "metadata": {
        "colab": {
          "base_uri": "https://localhost:8080/"
        },
        "id": "oeVQ2WmMROgR",
        "outputId": "84872b03-59ff-430f-a734-3c4bcaee5214"
      },
      "execution_count": null,
      "outputs": [
        {
          "output_type": "execute_result",
          "data": {
            "text/plain": [
              "[{'user': 'Theodore', 'age': 45},\n",
              " {'user': 'Roxanne', 'age': 15},\n",
              " {'user': 'Mathew', 'age': 21}]"
            ]
          },
          "metadata": {},
          "execution_count": 15
        }
      ]
    },
    {
      "cell_type": "code",
      "source": [
        "def split_dict_of_lists(dict_of_lists):\n",
        "    keys = dict_of_lists.keys()\n",
        "    values = zip(*dict_of_lists.values())\n",
        "    return [dict(zip(keys, v)) for v in values]\n",
        "\n",
        "split_dict_of_lists({'Science': [88, 89, 62, 95], 'Language': [77, 78, 84, 80]})"
      ],
      "metadata": {
        "colab": {
          "base_uri": "https://localhost:8080/"
        },
        "id": "J8XbATpLSmVu",
        "outputId": "e8457e6a-8afc-478e-b361-47cd9a8f6240"
      },
      "execution_count": null,
      "outputs": [
        {
          "output_type": "execute_result",
          "data": {
            "text/plain": [
              "[{'Science': 88, 'Language': 77},\n",
              " {'Science': 89, 'Language': 78},\n",
              " {'Science': 62, 'Language': 84},\n",
              " {'Science': 95, 'Language': 80}]"
            ]
          },
          "metadata": {},
          "execution_count": 19
        }
      ]
    },
    {
      "cell_type": "markdown",
      "source": [
        "## Data transformation"
      ],
      "metadata": {
        "id": "h1jeVvCvbZsr"
      }
    },
    {
      "cell_type": "code",
      "source": [
        "# You may convert dict to list, tuple, set, or vice versa\n",
        "\n",
        "my_dict = {\"a\": 1, \"b\": 2, \"c\": 3, \"c\":3}\n",
        "\n",
        "#  keys, values, dicts to lists\n",
        "my_keys = list(my_dict.keys())\n",
        "my_values = list(my_dict.values())\n",
        "my_items = list(my_dict.items())\n",
        "\n",
        "# the same is true for set and tuple\n",
        "my_keys_tuple = tuple(my_dict.keys()) # immutable\n",
        "my_items_set = (set(my_dict.items()))\n",
        "\n",
        "# convert a dict of two key-value pairs into a list of two dicts `[{k:v} for k,v in test_dict.items()]`\n",
        "my_list_dicts = [{k:v} for k,v in my_dict.items()]\n",
        "\n",
        "# You can certain convert list, tuple, set from those data types to dicts. But we covered them already in the \"Constructing Dict\" section.\n"
      ],
      "metadata": {
        "colab": {
          "base_uri": "https://localhost:8080/"
        },
        "id": "rTjRUD3LekPJ",
        "outputId": "c781eafe-db3a-4fd5-c724-cd5c009987eb"
      },
      "execution_count": 10,
      "outputs": [
        {
          "output_type": "execute_result",
          "data": {
            "text/plain": [
              "[{'a': 1}, {'b': 2}, {'c': 3}]"
            ]
          },
          "metadata": {},
          "execution_count": 10
        }
      ]
    },
    {
      "cell_type": "markdown",
      "source": [
        "Problem: <br>\n",
        "Write a Python program to extract values from a given dictionary and create a list of lists from those values.\n",
        "Original Dictionary: <br>\n",
        "[{'student_id': 1, 'name': 'Jean Castro', 'class': 'V'}, <br>\n",
        "{'student_id': 2, 'name': 'Lula Powell', 'class': 'V'}, <br>\n",
        "{'student_id': 3, 'name': 'Brian Howell', 'class': 'VI'},<br>\n",
        " {'student_id': 4, 'name': 'Lynne Foster', 'class': 'VI'}, <br>\n",
        " {'student_id': 5, 'name': 'Zachary Simon', 'class': 'VII'}] <br><br>\n",
        "\n"
      ],
      "metadata": {
        "id": "P4StroyaVfSS"
      }
    },
    {
      "cell_type": "code",
      "source": [
        "sample_data = [\n",
        "    {'id': 1, 'feature1': 0.5, 'feature2': 1.0},\n",
        "    {'id': 2, 'feature1': 1.5, 'feature2': 2.0},\n",
        "    {'id': 3, 'feature1': 2.5, 'feature2': 3.0}\n",
        "]\n",
        "\n",
        "def dic2lst(data):\n",
        "  result = {k:[] for k in data[0].keys()}  # all keys in place\n",
        "  for item in data: # Extract a dict a time in the list\n",
        "    print(f'item is {item}')\n",
        "    for key, value in item.items(): # item is a dic, which contains 3 keys and 3 values\n",
        "      result[key].append(value)  # dic[key] returns the value of that pair, and in this case is a list (NEP but I thought you need to convert a values object into a list first)\n",
        "  return result\n",
        "dic2lst(sample_data)"
      ],
      "metadata": {
        "colab": {
          "base_uri": "https://localhost:8080/"
        },
        "id": "WhL0eNEfbhk2",
        "outputId": "80ae2999-8d4b-461c-f1ba-fc1372cd6f91"
      },
      "execution_count": null,
      "outputs": [
        {
          "output_type": "stream",
          "name": "stdout",
          "text": [
            "item is {'id': 1, 'feature1': 0.5, 'feature2': 1.0}\n",
            "item is {'id': 2, 'feature1': 1.5, 'feature2': 2.0}\n",
            "item is {'id': 3, 'feature1': 2.5, 'feature2': 3.0}\n"
          ]
        },
        {
          "output_type": "execute_result",
          "data": {
            "text/plain": [
              "{'id': [1, 2, 3], 'feature1': [0.5, 1.5, 2.5], 'feature2': [1.0, 2.0, 3.0]}"
            ]
          },
          "metadata": {},
          "execution_count": 3
        }
      ]
    },
    {
      "cell_type": "markdown",
      "source": [
        "Problem <br>\n",
        "Extract values from the said dictionarie and create a list of lists using those values: <br>\n",
        "[[1, 'Jean Castro', 'V'], <br>\n",
        "[2, 'Lula Powell', 'V'], <br>\n",
        "[3, 'Brian Howell', 'VI'], <br>\n",
        "[4, 'Lynne Foster', 'VI'], <br>\n",
        "[5, 'Zachary Simon', 'VII']] <br>\n",
        "[[1, 'Jean Castro'], <br>\n",
        "[2, 'Lula Powell'], <br>\n",
        "[3, 'Brian Howell'], <br>\n",
        "[4, 'Lynne Foster'], <br>\n",
        "[5, 'Zachary Simon']]<br><br>\n",
        "[['Jean Castro', 'V'], <br>\n",
        "['Lula Powell', 'V'], <br>\n",
        "['Brian Howell', 'VI'], <br>\n",
        "['Lynne Foster', 'VI'], <br>\n",
        "['Zachary Simon', 'VII']]"
      ],
      "metadata": {
        "id": "1XhcxNvMV8bH"
      }
    },
    {
      "cell_type": "code",
      "source": [
        "\n",
        "lst_dic = [{'student_id': 1, 'name': 'Jean Castro', 'class': 'V'}, {'student_id': 2, 'name': 'Lula Powell', 'class': 'V'}, {'student_id': 3, 'name': 'Brian Howell', 'class': 'VI'}, {'student_id': 4, 'name': 'Lynne Foster', 'class': 'VI'}, {'student_id': 5, 'name': 'Zachary Simon', 'class': 'VII'}]\n",
        "new_list = []\n",
        "for itm in lst_dic:\n",
        "  new = list(itm.values())\n",
        "  new_list.append(new)\n",
        "\n",
        "new_list"
      ],
      "metadata": {
        "id": "hexKewtrKswo",
        "colab": {
          "base_uri": "https://localhost:8080/"
        },
        "outputId": "658b577f-d2a3-454a-d976-7d665639c297"
      },
      "execution_count": null,
      "outputs": [
        {
          "output_type": "execute_result",
          "data": {
            "text/plain": [
              "[[1, 'Jean Castro', 'V'],\n",
              " [2, 'Lula Powell', 'V'],\n",
              " [3, 'Brian Howell', 'VI'],\n",
              " [4, 'Lynne Foster', 'VI'],\n",
              " [5, 'Zachary Simon', 'VII']]"
            ]
          },
          "metadata": {},
          "execution_count": 21
        }
      ]
    },
    {
      "cell_type": "code",
      "source": [
        "lst_dic = [{'student_id': 1, 'name': 'Jean Castro', 'class': 'V'}, {'student_id': 2, 'name': 'Lula Powell', 'class': 'V'}, {'student_id': 3, 'name': 'Brian Howell', 'class': 'VI'}, {'student_id': 4, 'name': 'Lynne Foster', 'class': 'VI'}, {'student_id': 5, 'name': 'Zachary Simon', 'class': 'VII'}]\n",
        "new_list_2 = []\n",
        "for itm in lst_dic:\n",
        "  new = list(itm.values())[:2]\n",
        "  new_list_2.append(new)\n",
        "\n",
        "new_list_2"
      ],
      "metadata": {
        "colab": {
          "base_uri": "https://localhost:8080/"
        },
        "id": "mLF_Pz4DXJ_g",
        "outputId": "02255a9b-7bcc-44b3-f6b7-066f2d6079b1"
      },
      "execution_count": null,
      "outputs": [
        {
          "output_type": "execute_result",
          "data": {
            "text/plain": [
              "[[1, 'Jean Castro'],\n",
              " [2, 'Lula Powell'],\n",
              " [3, 'Brian Howell'],\n",
              " [4, 'Lynne Foster'],\n",
              " [5, 'Zachary Simon']]"
            ]
          },
          "metadata": {},
          "execution_count": 23
        }
      ]
    },
    {
      "cell_type": "code",
      "source": [
        "lst_dic = [{'student_id': 1, 'name': 'Jean Castro', 'class': 'V'}, {'student_id': 2, 'name': 'Lula Powell', 'class': 'V'}, {'student_id': 3, 'name': 'Brian Howell', 'class': 'VI'}, {'student_id': 4, 'name': 'Lynne Foster', 'class': 'VI'}, {'student_id': 5, 'name': 'Zachary Simon', 'class': 'VII'}]\n",
        "new_list_2 = []\n",
        "for itm in lst_dic:\n",
        "  new = list(itm.values())[1:]\n",
        "  new_list_2.append(new)\n",
        "\n",
        "new_list_2"
      ],
      "metadata": {
        "colab": {
          "base_uri": "https://localhost:8080/"
        },
        "id": "e2ReXex2XqYy",
        "outputId": "0b847671-e4e5-4207-b4bf-86cfaecb96ce"
      },
      "execution_count": null,
      "outputs": [
        {
          "output_type": "execute_result",
          "data": {
            "text/plain": [
              "[['Jean Castro', 'V'],\n",
              " ['Lula Powell', 'V'],\n",
              " ['Brian Howell', 'VI'],\n",
              " ['Lynne Foster', 'VI'],\n",
              " ['Zachary Simon', 'VII']]"
            ]
          },
          "metadata": {},
          "execution_count": 24
        }
      ]
    },
    {
      "cell_type": "markdown",
      "source": [
        "## ML/DL scenarios data transformation\n",
        "ML/DL scenarios you often need to convert dicts to data type easily processed such as numpy array, tensor, one-hot encoding."
      ],
      "metadata": {
        "id": "k6Tnb-P0iQe9"
      }
    },
    {
      "cell_type": "code",
      "source": [
        "# One-hot encoding\n",
        "from sklearn.preprocessing import OneHotEncoder\n",
        "import numpy as np\n",
        "category = ['cat', 'dog', 'bird']\n",
        "encoder = OneHotEncoder(sparse_output=False)\n",
        "one_hot = encoder.fit_transform(np.array(category).reshape(-1,1))\n",
        "one_hot_dict = dict(zip(category, one_hot))\n",
        "one_hot_dict"
      ],
      "metadata": {
        "colab": {
          "base_uri": "https://localhost:8080/"
        },
        "id": "heSUa5vQflqo",
        "outputId": "76edd126-d739-443b-a760-d9b22f8457cf"
      },
      "execution_count": null,
      "outputs": [
        {
          "output_type": "execute_result",
          "data": {
            "text/plain": [
              "{'cat': array([0., 1., 0.]),\n",
              " 'dog': array([0., 0., 1.]),\n",
              " 'bird': array([1., 0., 0.])}"
            ]
          },
          "metadata": {},
          "execution_count": 22
        }
      ]
    },
    {
      "cell_type": "markdown",
      "source": [
        "Convert a list of dictionaries (common format for datasets) into a dictionary of lists (useful for many ML libraries)\n"
      ],
      "metadata": {
        "id": "tXYaLugFbcAL"
      }
    },
    {
      "cell_type": "code",
      "source": [
        "# Feature scaling (normalizing numerical features)\n",
        "from sklearn.preprocessing import StandardScaler\n",
        "\n",
        "features = {'height': [170, 180, 160], 'weight': [70, 80, 60]}\n",
        "scaler = StandardScaler()\n",
        "scaled_features = {k: scaler.fit_transform(np.array(v).reshape(-1, 1)).flatten()\n",
        "                   for k,v in features.items()}\n",
        "\n",
        "scaled_features"
      ],
      "metadata": {
        "colab": {
          "base_uri": "https://localhost:8080/"
        },
        "id": "-f701uJzlygG",
        "outputId": "3d42aabb-034a-4ded-f6c6-6ec746c5ec0d"
      },
      "execution_count": null,
      "outputs": [
        {
          "output_type": "execute_result",
          "data": {
            "text/plain": [
              "{'height': array([ 0.        ,  1.22474487, -1.22474487]),\n",
              " 'weight': array([ 0.        ,  1.22474487, -1.22474487])}"
            ]
          },
          "metadata": {},
          "execution_count": 23
        }
      ]
    },
    {
      "cell_type": "code",
      "source": [
        "# Convert dict to dict of tensors\n",
        "import torch as t\n",
        "dict_tensor = {k:t.tensor(v) for k,v in my_dict.items()}\n",
        "\n",
        "dict_tensor"
      ],
      "metadata": {
        "colab": {
          "base_uri": "https://localhost:8080/"
        },
        "id": "jSE3djq6nBsI",
        "outputId": "e50a44fc-48a4-431a-87b6-4934b04dcb64"
      },
      "execution_count": null,
      "outputs": [
        {
          "output_type": "execute_result",
          "data": {
            "text/plain": [
              "{'a': tensor(1), 'b': tensor(2), 'c': tensor(3)}"
            ]
          },
          "metadata": {},
          "execution_count": 24
        }
      ]
    },
    {
      "cell_type": "code",
      "source": [
        "# Batch preparation for neural networks\n",
        "# considerations for yield: it generate one batch a time and it's computationally more efficient.\n",
        "\n",
        "def batch_prep(data_dict, batch_size = 32):\n",
        "  keys = list(data_dict.keys())\n",
        "  print(f'keys:{keys}')\n",
        "  values = list(data_dict.values()) # by default it should look like something {'features':[features],'labels':[labels]}\n",
        "  dataset = list(zip(*values))  # it converts the data into something like [[1,2],[0]], 5 items.\n",
        "  print(f'dataset:{dataset}')\n",
        "  for i in range(0,len(dataset),batch_size):\n",
        "    batch = dataset[i:i+batch_size] # each batch has batch_size examples, like [([1, 2], 0), ([3, 4], 1)] for a\n",
        "    print(f'current batch is {batch}')\n",
        "    yield {k: [example[i] for example in batch] for i,k in enumerate(keys)} # if you want features, you get features for both examples; if you want labels, you get labels for both examples.\n",
        "\n",
        "# Example usage:\n",
        "data = {\n",
        "    'features': [[1, 2], [3, 4], [5, 6], [7, 8], [9, 10]],\n",
        "    'labels': [0, 1, 0, 1, 0]\n",
        "}\n",
        "\n",
        "for batch in batch_prep(data, batch_size=2):\n",
        "    print(batch)\n",
        "\n",
        "\n"
      ],
      "metadata": {
        "id": "KUKwB9yvmztw",
        "colab": {
          "base_uri": "https://localhost:8080/"
        },
        "outputId": "bd5e6c24-4b28-4ef5-a0cd-ddf3e8e29c01"
      },
      "execution_count": 9,
      "outputs": [
        {
          "output_type": "stream",
          "name": "stdout",
          "text": [
            "keys:['features', 'labels']\n",
            "dataset:[([1, 2], 0), ([3, 4], 1), ([5, 6], 0), ([7, 8], 1), ([9, 10], 0)]\n",
            "current batch is [([1, 2], 0), ([3, 4], 1)]\n",
            "{'features': [[1, 2], [3, 4]], 'labels': [0, 1]}\n",
            "current batch is [([5, 6], 0), ([7, 8], 1)]\n",
            "{'features': [[5, 6], [7, 8]], 'labels': [0, 1]}\n",
            "current batch is [([9, 10], 0)]\n",
            "{'features': [[9, 10]], 'labels': [0]}\n"
          ]
        }
      ]
    },
    {
      "cell_type": "markdown",
      "source": [
        "74. Write a Python program to create a dictionary with the same keys as the given dictionary and values generated by running the given function for each value.\n",
        "Sample Output:\n",
        "Original dictionary elements:\n",
        "{'Theodore': {'user': 'Theodore', 'age': 45}, 'Roxanne': {'user': 'Roxanne', 'age': 15}, 'Mathew': {'user': 'Mathew', 'age': 21}}\n",
        "Dictionary with the same keys:\n",
        "{'Theodore': 45, 'Roxanne': 15, 'Mathew': 21}"
      ],
      "metadata": {
        "id": "z7QnfJS9Qojd"
      }
    },
    {
      "cell_type": "markdown",
      "source": [
        "## Feature Extraction\n",
        "Create a function that extracts specific features from a complex data structure"
      ],
      "metadata": {
        "id": "zkMm_w7g5GHc"
      }
    },
    {
      "cell_type": "code",
      "source": [
        "sample_data = {\n",
        "    'user_id': 123,\n",
        "    'name': 'John Doe',\n",
        "    'age': 30,\n",
        "    'location': 'New York',\n",
        "    'purchases': [\n",
        "        {'item': 'book', 'price': 15},\n",
        "        {'item': 'laptop', 'price': 1000}\n",
        "    ]\n",
        "}\n",
        "intended_keys = ['name','location','age']\n",
        "def feature_extraction(dic, intended_keys):\n",
        "  return {key:dic.get(key) for key in intended_keys}\n",
        "\n",
        "feature_extraction(sample_data, intended_keys)"
      ],
      "metadata": {
        "colab": {
          "base_uri": "https://localhost:8080/"
        },
        "id": "VWDCl8FV5b_-",
        "outputId": "81736577-8a43-4d20-bc44-79f96f90a2c0"
      },
      "execution_count": null,
      "outputs": [
        {
          "output_type": "execute_result",
          "data": {
            "text/plain": [
              "{'name': 'John Doe', 'location': 'New York', 'age': 30}"
            ]
          },
          "metadata": {},
          "execution_count": 1
        }
      ]
    },
    {
      "cell_type": "markdown",
      "source": [
        "## Data Aggregation\n"
      ],
      "metadata": {
        "id": "A8LT9cYp8eoD"
      }
    },
    {
      "cell_type": "markdown",
      "source": [
        "Problem: Create a function that aggregates data by a specific key\n",
        "Thought process\n",
        "1/ You need to loop through all dicts in the given list. <br>\n",
        "2/ for each item, you need identify former value and add in latter value. Both by accessing their keys.  <br>\n",
        "\n",
        "3/ Creat a new dict, with keys from former values and values aggregated from latter values"
      ],
      "metadata": {
        "id": "rxX0ZJ0YVmNB"
      }
    },
    {
      "cell_type": "code",
      "source": [
        "sample_data = [\n",
        "    {'category': 'A', 'value': 10},\n",
        "    {'category': 'B', 'value': 20},\n",
        "    {'category': 'A', 'value': 30},\n",
        "    {'category': 'C', 'value': 40},\n",
        "    {'category': 'B', 'value': 50},\n",
        "]\n",
        "from collections import defaultdict\n",
        "def data_aggregation(dic,key_func, value_func):\n",
        "  aggregation = defaultdict(int) # creating an empty dict out of an empty list or int, without worrying about empty keys.\n",
        "  for item in sample_data:\n",
        "    key = key_func(item)\n",
        "    value = value_func(item)\n",
        "    # aggregation[key].append(value)  # defaultdict would not mind a new key\n",
        "    aggregation[key] += value\n",
        "  return aggregation\n",
        "  # return {k:sum(v) for k,v in aggregation.items()}\n",
        "\n",
        "data_aggregation(sample_data,\n",
        "                 key_func = lambda x: x['category'],\n",
        "                 value_func = lambda x: x['value'])"
      ],
      "metadata": {
        "colab": {
          "base_uri": "https://localhost:8080/"
        },
        "id": "qOdh_5Uw8rl5",
        "outputId": "b2663f21-82da-491d-b28a-d411697bb2c0"
      },
      "execution_count": null,
      "outputs": [
        {
          "output_type": "execute_result",
          "data": {
            "text/plain": [
              "defaultdict(int, {'A': 40, 'B': 70, 'C': 40})"
            ]
          },
          "metadata": {},
          "execution_count": 9
        }
      ]
    },
    {
      "cell_type": "markdown",
      "source": [
        "## Data Handling"
      ],
      "metadata": {
        "id": "68yADNHzz3u2"
      }
    },
    {
      "cell_type": "code",
      "source": [
        "# Create a function that efficiently processes a large dataset of word frequencies\n",
        "\n",
        "sample_data = [\n",
        "    \"The cat is on the mat\",\n",
        "    \"The dog is in the yard\",\n",
        "    \"The cat and the dog are friends\"\n",
        "]\n",
        "from collections import defaultdict\n",
        "def frequency(data):\n",
        "  word_freq = defaultdict(int) # each value an int and default 0\n",
        "  for sentence in data:  # list of seq\n",
        "    for word in sentence.split(): # list strings\n",
        "      word_freq[word.lower()] +=1\n",
        "  return dict(word_freq)   # Converting default dict to a dict, plus deleting the default value (int).\n",
        "\n",
        "frequency(sample_data)"
      ],
      "metadata": {
        "colab": {
          "base_uri": "https://localhost:8080/"
        },
        "id": "NUymf54qz54N",
        "outputId": "84eabb8a-e431-4ef3-c3fe-df7a8809c144"
      },
      "execution_count": null,
      "outputs": [
        {
          "output_type": "execute_result",
          "data": {
            "text/plain": [
              "{'the': 6,\n",
              " 'cat': 2,\n",
              " 'is': 2,\n",
              " 'on': 1,\n",
              " 'mat': 1,\n",
              " 'dog': 2,\n",
              " 'in': 1,\n",
              " 'yard': 1,\n",
              " 'and': 1,\n",
              " 'are': 1,\n",
              " 'friends': 1}"
            ]
          },
          "metadata": {},
          "execution_count": 8
        }
      ]
    },
    {
      "cell_type": "markdown",
      "source": [
        "Problem: Create a function that flattens a nested dictionary structure\n",
        "1/ You likely need a recursive program to break down a nested dictionary of not known layers (meaning dict of dicts)\n",
        "2/ The key is to return the subdict to the recursive program if one is found, otherwise you should go to next step"
      ],
      "metadata": {
        "id": "nf32vDV12gKV"
      }
    },
    {
      "cell_type": "code",
      "source": [
        "# Break down the nested dictionary into clean one-layer dict\n",
        "sample_data = {\n",
        "    'name': 'John',\n",
        "    'address': {\n",
        "        'street': '123 Main St',\n",
        "        'city': 'Anytown',\n",
        "        'country': {\n",
        "            'name': 'USA',\n",
        "            'code': 'US'\n",
        "        }\n",
        "    },\n",
        "    'age': 30\n",
        "}\n",
        "from collections import defaultdict\n",
        "def break_nest(dic, prefix = ''):\n",
        "  new_dict = defaultdict(str)\n",
        "  for key, value in dic.items():  # it will give you the keys\n",
        "    new_key = f'{prefix}{key}'\n",
        "    if isinstance(value, dict):\n",
        "      new_dict.update(break_nest(value, prefix = f\"{new_key}_\"))  # Get the sub-dict into the recursion\n",
        "    else:\n",
        "      new_dict[new_key] = value  # a new key-value pair formed.\n",
        "  return dict(new_dict)\n",
        "\n",
        "break_nest(sample_data)\n"
      ],
      "metadata": {
        "colab": {
          "base_uri": "https://localhost:8080/"
        },
        "id": "k8HG3ueVzrlE",
        "outputId": "08297771-f93e-430b-8911-f9db8d52f99d"
      },
      "execution_count": null,
      "outputs": [
        {
          "output_type": "execute_result",
          "data": {
            "text/plain": [
              "{'name': 'John',\n",
              " 'address_street': '123 Main St',\n",
              " 'address_city': 'Anytown',\n",
              " 'address_country_name': 'USA',\n",
              " 'address_country_code': 'US',\n",
              " 'age': 30}"
            ]
          },
          "metadata": {},
          "execution_count": 27
        }
      ]
    },
    {
      "cell_type": "markdown",
      "source": [
        "# Set\n"
      ],
      "metadata": {
        "id": "h2_HfgouvacY"
      }
    },
    {
      "cell_type": "markdown",
      "source": [
        "## Lessons on Oct 10\n",
        "No particular lessons to be wrriten today."
      ],
      "metadata": {
        "id": "GWKgxJUzHvoV"
      }
    },
    {
      "cell_type": "markdown",
      "source": [
        "21. Write a Python program to find all the unique words and count the frequency of occurrence from a given list of strings. Use Python set data type."
      ],
      "metadata": {
        "id": "Iy1QRqHaxrKD"
      }
    },
    {
      "cell_type": "code",
      "source": [
        "def freq(lst):\n",
        "  unique = set(lst)\n",
        "  frequency = {} # Define a dict for word freq\n",
        "  for word in unique:\n",
        "    frequency[word] = lst.count(word)\n",
        "  return frequency\n",
        "\n",
        "words = ['Red', 'Green', 'Red', 'Blue', 'Red', 'Red', 'Green']\n",
        "\n",
        "freq(words)"
      ],
      "metadata": {
        "id": "xpqDPT2Y6N4H",
        "colab": {
          "base_uri": "https://localhost:8080/"
        },
        "outputId": "90798bd2-2d08-4135-fd39-f335fddf881f"
      },
      "execution_count": null,
      "outputs": [
        {
          "output_type": "execute_result",
          "data": {
            "text/plain": [
              "{'Red': 4, 'Green': 2, 'Blue': 1}"
            ]
          },
          "metadata": {},
          "execution_count": 2
        }
      ]
    },
    {
      "cell_type": "markdown",
      "source": [
        "22. Write a Python program that finds all pairs of elements in a list whose sum is equal to a given value."
      ],
      "metadata": {
        "id": "yll7SKXA02si"
      }
    },
    {
      "cell_type": "code",
      "source": [
        "nums = [10, 11, 12, 13, 14, 15, 16, 17, 18, 19, 20]\n",
        "target_val = 35\n",
        "def pairing(lst,target_val):\n",
        "  pairs = []\n",
        "  for itm in lst:\n",
        "    for itm2 in lst:\n",
        "      if itm + itm2 == target_val:\n",
        "        pairs.append([itm, itm2])\n",
        "\n",
        "  return pairs\n",
        "\n",
        "pairing(lst=[10, 11, 12, 13, 14, 15, 16, 17, 18, 19, 20], target_val=35)"
      ],
      "metadata": {
        "colab": {
          "base_uri": "https://localhost:8080/"
        },
        "id": "wP10tkkv0D9C",
        "outputId": "fe6f2bab-fda7-4b7b-c403-c1d9088da385"
      },
      "execution_count": null,
      "outputs": [
        {
          "output_type": "execute_result",
          "data": {
            "text/plain": [
              "[[15, 20], [16, 19], [17, 18], [18, 17], [19, 16], [20, 15]]"
            ]
          },
          "metadata": {},
          "execution_count": 7
        }
      ]
    },
    {
      "cell_type": "markdown",
      "source": [
        "## Lessons on Oct 11\n",
        "No lesson written today (working on creating a data structure specialized problem set)"
      ],
      "metadata": {
        "id": "6-_qO9Y3Aii5"
      }
    },
    {
      "cell_type": "code",
      "source": [
        "# Set operation\n",
        "# The key seems to be that you get a set() to replace one for loop\n",
        "def pairing_set(lst, target_val):\n",
        "  lst_set = set(lst)\n",
        "  pairs = []\n",
        "  for itm in lst_set:\n",
        "    complement = 35 - itm\n",
        "    if complement in lst_set:\n",
        "      pairs.append([itm, complement])\n",
        "\n",
        "  return pairs\n",
        "\n",
        "pairing_set(lst=[10, 11, 12, 13, 14, 15, 16, 17, 18, 19, 20], target_val=35)"
      ],
      "metadata": {
        "colab": {
          "base_uri": "https://localhost:8080/"
        },
        "id": "s3NtnNEA7rSW",
        "outputId": "b1c7daad-5ebe-410f-d7a4-49e33182b761"
      },
      "execution_count": null,
      "outputs": [
        {
          "output_type": "execute_result",
          "data": {
            "text/plain": [
              "[[15, 20], [16, 19], [17, 18], [18, 17], [19, 16], [20, 15]]"
            ]
          },
          "metadata": {},
          "execution_count": 3
        }
      ]
    }
  ]
}